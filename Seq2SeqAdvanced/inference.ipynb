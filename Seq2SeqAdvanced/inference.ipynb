{
 "cells": [
  {
   "cell_type": "code",
   "execution_count": 1,
   "metadata": {},
   "outputs": [],
   "source": [
    "import os\n",
    "import torch\n",
    "import pickle\n",
    "from evaluate import *\n",
    "from model import *\n",
    "from utils import *\n",
    "from wandb_config import *"
   ]
  },
  {
   "cell_type": "code",
   "execution_count": 2,
   "metadata": {},
   "outputs": [
    {
     "name": "stderr",
     "output_type": "stream",
     "text": [
      "\u001b[34m\u001b[1mwandb\u001b[0m: Using wandb-core as the SDK backend.  Please refer to https://wandb.me/wandb-core for more information.\n",
      "\u001b[34m\u001b[1mwandb\u001b[0m: Currently logged in as: \u001b[33mabhi1199\u001b[0m (\u001b[33mabhi1199-city-university-of-london\u001b[0m) to \u001b[32mhttps://api.wandb.ai\u001b[0m. Use \u001b[1m`wandb login --relogin`\u001b[0m to force relogin\n"
     ]
    },
    {
     "data": {
      "text/html": [
       "Tracking run with wandb version 0.19.8"
      ],
      "text/plain": [
       "<IPython.core.display.HTML object>"
      ]
     },
     "metadata": {},
     "output_type": "display_data"
    },
    {
     "data": {
      "text/html": [
       "Run data is saved locally in <code>/Users/abhishekdas/Desktop/Encoder_decoder/wandb/run-20250418_143028-c725l28l</code>"
      ],
      "text/plain": [
       "<IPython.core.display.HTML object>"
      ]
     },
     "metadata": {},
     "output_type": "display_data"
    },
    {
     "data": {
      "text/html": [
       "Syncing run <strong><a href='https://wandb.ai/abhi1199-city-university-of-london/abhishekdas-Desktop_Encoder_decoder/runs/c725l28l' target=\"_blank\">peachy-hill-2</a></strong> to <a href='https://wandb.ai/abhi1199-city-university-of-london/abhishekdas-Desktop_Encoder_decoder' target=\"_blank\">Weights & Biases</a> (<a href='https://wandb.me/developer-guide' target=\"_blank\">docs</a>)<br>"
      ],
      "text/plain": [
       "<IPython.core.display.HTML object>"
      ]
     },
     "metadata": {},
     "output_type": "display_data"
    },
    {
     "data": {
      "text/html": [
       " View project at <a href='https://wandb.ai/abhi1199-city-university-of-london/abhishekdas-Desktop_Encoder_decoder' target=\"_blank\">https://wandb.ai/abhi1199-city-university-of-london/abhishekdas-Desktop_Encoder_decoder</a>"
      ],
      "text/plain": [
       "<IPython.core.display.HTML object>"
      ]
     },
     "metadata": {},
     "output_type": "display_data"
    },
    {
     "data": {
      "text/html": [
       " View run at <a href='https://wandb.ai/abhi1199-city-university-of-london/abhishekdas-Desktop_Encoder_decoder/runs/c725l28l' target=\"_blank\">https://wandb.ai/abhi1199-city-university-of-london/abhishekdas-Desktop_Encoder_decoder/runs/c725l28l</a>"
      ],
      "text/plain": [
       "<IPython.core.display.HTML object>"
      ]
     },
     "metadata": {},
     "output_type": "display_data"
    },
    {
     "name": "stderr",
     "output_type": "stream",
     "text": [
      "\u001b[34m\u001b[1mwandb\u001b[0m: Downloading large artifact final_chatbot_checkpoint:v0, 1471.71MB. 2 files... \n",
      "\u001b[34m\u001b[1mwandb\u001b[0m:   2 of 2 files downloaded.  \n",
      "Done. 0:0:5.7\n"
     ]
    }
   ],
   "source": [
    "import wandb\n",
    "wandb.init()\n",
    "\n",
    "device = torch.device(\"cuda\" if torch.cuda.is_available() else \"cpu\")\n",
    "\n",
    "artifact = wandb.use_artifact(\"abhi1199-city-university-of-london/seq2seqLSTM/final_chatbot_checkpoint:v0\", type=\"model\")\n",
    "artifact_dir = artifact.download()\n",
    "\n",
    "checkpoint_path = os.path.join(artifact_dir, \"final_checkpoint.tar\")\n",
    "voc_path = os.path.join(artifact_dir, \"voc.pkl\")\n",
    "\n",
    "\n",
    "checkpoint = torch.load(checkpoint_path, map_location=device)\n",
    "\n",
    "with open(voc_path, \"rb\") as f:\n",
    "    voc = pickle.load(f)\n"
   ]
  },
  {
   "cell_type": "code",
   "execution_count": 4,
   "metadata": {},
   "outputs": [
    {
     "name": "stdout",
     "output_type": "stream",
     "text": [
      "Loading GloVe embeddings...\n",
      "Found 9680/9891 words in GloVe.\n"
     ]
    }
   ],
   "source": [
    "embedding = load_glove_embeddings(\n",
    "    voc,\n",
    "    glove_path=\"/Users/abhishekdas/Desktop/Encoder_decoder/glove.6B.300d.txt\",  # update path if needed\n",
    "    embedding_dim=300,\n",
    "    freeze=False  # must match training config\n",
    ")\n",
    "\n",
    "\n",
    "\n",
    "encoder = LSTMEncoder(\n",
    "    hidden_size=1000,         # must match training\n",
    "    embedding=embedding,\n",
    "    n_layers=4,\n",
    "    dropout=0.1\n",
    ").to(device)\n",
    "\n",
    "decoder = LSTMAttnDecoder(\n",
    "    attn_model=\"dot\",\n",
    "    embedding=embedding,\n",
    "    hidden_size=1000,\n",
    "    output_size=voc.num_words,\n",
    "    n_layers=4,\n",
    "    dropout=0.1\n",
    ").to(device)\n",
    "\n",
    "\n",
    "encoder.load_state_dict(checkpoint[\"encoder_state\"])\n",
    "decoder.load_state_dict(checkpoint[\"decoder_state\"])\n",
    "embedding.load_state_dict(checkpoint[\"embedding_state\"])\n",
    "\n",
    "\n",
    "\n",
    "encoder.eval()\n",
    "decoder.eval()\n",
    "searcher = GreedySearchDecoder(encoder, decoder)\n"
   ]
  },
  {
   "cell_type": "code",
   "execution_count": 8,
   "metadata": {},
   "outputs": [
    {
     "name": "stdout",
     "output_type": "stream",
     "text": [
      "FinanceBot is ready! Ask me anything. Type 'quit' to exit.\n",
      "\n",
      "\n",
      "You: Hey\n",
      "FinanceBot: hello there ! how are you ? ? ! \n",
      "\n",
      "\n",
      "You: i want to buy a car. should i buy or not\n",
      "FinanceBot: i bought a car if i had enough buy some buy . \n",
      "\n",
      "\n",
      "You: What percent of my salary should I save?\n",
      "FinanceBot: no it of get it of you you must find your goal . \n",
      "\n",
      "\n",
      "You: Is it wise to switch investment strategy frequently?\n",
      "FinanceBot: it can not committed to money for a own environment . \n",
      "\n",
      "\n",
      "You: The best investment at this stage is a good, easy to understand but thorough book on finance\n",
      "FinanceBot: it is an exhilarating job with work on an job development . \n",
      "\n",
      "\n",
      "You: How to motivate young people to save money?\n",
      "FinanceBot: . make a daily daily goals . and helpful . \n",
      "\n",
      "\n",
      "You: How much should a new graduate with new job put towards a car?\n",
      "FinanceBot: we s learning feedback for break a task at this product . \n",
      "\n",
      "\n",
      "You: What are my investment options in real estate?\n",
      "FinanceBot: here are reasons that have have equity that of months \n",
      "\n",
      "\n",
      "You: Is it ever a good idea to close credit cards?\n",
      "FinanceBot: no new matter it is a lot to week . . \n",
      "\n",
      "\n",
      "You: Would I need to keep track of 1099s?\n",
      "FinanceBot: i you take to get this information or question . . \n",
      "\n",
      "\n",
      "You: Will I be paid dividends if I own shares?\n",
      "FinanceBot: the boutique negative that that be able to buy . . \n",
      "\n",
      "Goodbye!\n"
     ]
    }
   ],
   "source": [
    "def chat():\n",
    "    print(\"FinanceBot is ready! Ask me anything. Type 'quit' to exit.\\n\")\n",
    "    while True:\n",
    "        input_sentence = input(\"> \")\n",
    "        if input_sentence.lower() in [\"quit\", \"q\"]:\n",
    "            print(\"Goodbye!\")\n",
    "            break\n",
    "        try:\n",
    "            print(f\"\\nYou: {input_sentence}\")\n",
    "            output_words = evaluate(encoder, decoder, searcher, voc, input_sentence)\n",
    "            output_words = [w for w in output_words if w not in [\"EOS\", \"PAD\"]]\n",
    "            print(\"FinanceBot:\", \" \".join(output_words), \"\\n\")\n",
    "        except Exception as e:\n",
    "            print(\"Oops! Something went wrong:\", str(e))\n",
    "\n",
    "\n",
    "chat()"
   ]
  },
  {
   "cell_type": "code",
   "execution_count": null,
   "metadata": {},
   "outputs": [],
   "source": []
  }
 ],
 "metadata": {
  "kernelspec": {
   "display_name": "base",
   "language": "python",
   "name": "python3"
  },
  "language_info": {
   "codemirror_mode": {
    "name": "ipython",
    "version": 3
   },
   "file_extension": ".py",
   "mimetype": "text/x-python",
   "name": "python",
   "nbconvert_exporter": "python",
   "pygments_lexer": "ipython3",
   "version": "3.12.4"
  }
 },
 "nbformat": 4,
 "nbformat_minor": 2
}
