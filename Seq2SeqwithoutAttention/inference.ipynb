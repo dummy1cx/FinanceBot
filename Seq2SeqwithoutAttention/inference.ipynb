{
  "cells": [
    {
      "cell_type": "markdown",
      "metadata": {
        "id": "hH5lxLXiA-Sf"
      },
      "source": [
        "### Model Inference\n",
        "\n",
        "it was observerd that the model is not understanding anything"
      ]
    },
    {
      "cell_type": "code",
      "execution_count": null,
      "metadata": {
        "colab": {
          "base_uri": "https://localhost:8080/"
        },
        "id": "-t4dv30laIp8",
        "outputId": "12c02dcf-06f4-45e7-943b-b1e3cdb6bda7"
      },
      "outputs": [
        {
          "name": "stdout",
          "output_type": "stream",
          "text": [
            "User: whaat is loan?\n",
            "FinanceBot: i ' the the , and the . . . . . . . . . . . . . . . . . . . . . . . . . . . . . . . . . . . . . . . . . . .\n"
          ]
        }
      ],
      "source": [
        "import torch\n",
        "import os\n",
        "import json\n",
        "import pickle\n",
        "import wandb\n",
        "import torch\n",
        "import torch.nn as nn\n",
        "import torch.optim as optim\n",
        "from sklearn.model_selection import train_test_split\n",
        "from torch.utils.data import DataLoader\n",
        "\n",
        "from utils import build_vocab, collate_fn, load_json\n",
        "from dataset import FinanceDataset\n",
        "from model import Encoder, Decoder, Seq2Seq\n",
        "from wandb_config import init_wandb\n",
        "\n",
        "train_data = load_json('/content/train.json')\n",
        "vocab = build_vocab(train_data)\n",
        "\n",
        "with open('vocab.pkl', 'wb') as f: \n",
        "    pickle.dump(vocab, f)\n",
        "\n",
        "\n",
        "\n",
        "\n",
        "embedding_dim = 50\n",
        "hidden_dim = 32\n",
        "max_len = 128\n",
        "\n",
        "\n",
        "device = torch.device('cuda' if torch.cuda.is_available() else 'cpu')\n",
        "\n",
        "\n",
        "encoder = Encoder(len(vocab), embedding_dim, hidden_dim).to(device)\n",
        "decoder = Decoder(len(vocab), embedding_dim, hidden_dim, len(vocab)).to(device)\n",
        "model = Seq2Seq(encoder, decoder, device).to(device)\n",
        "\n",
        "\n",
        "model.load_state_dict(torch.load(\"/content/seq2seq_epoch_12.pth\", map_location=device))\n",
        "model.eval()\n",
        "\n",
        "\n",
        "def predict(input_text, max_output_len=50):\n",
        "    with torch.no_grad():\n",
        "        src_tensor = encode_sentence(input_text, vocab, max_len=max_len).unsqueeze(1).to(device)\n",
        "        hidden, cell = model.encoder(src_tensor)\n",
        "\n",
        "        input_token = torch.tensor([vocab['<sos>']]).to(device)\n",
        "        outputs = []\n",
        "\n",
        "        for _ in range(max_output_len):\n",
        "            output, hidden, cell = model.decoder(input_token, hidden, cell)\n",
        "            top1 = output.argmax(1).item()\n",
        "\n",
        "            if vocab.get_itos()[top1] == '<eos>':\n",
        "                break\n",
        "\n",
        "            outputs.append(vocab.get_itos()[top1])\n",
        "            input_token = torch.tensor([top1]).to(device)\n",
        "\n",
        "    return ' '.join(outputs)\n",
        "\n",
        "# sample trial 1\n",
        "question = \"whaat is loan?\"\n",
        "response = predict(question)\n",
        "print(\"User:\", question)\n",
        "print(\"FinanceBot:\", response)\n"
      ]
    },
    {
      "cell_type": "code",
      "execution_count": 17,
      "metadata": {
        "colab": {
          "base_uri": "https://localhost:8080/"
        },
        "id": "j60ulJ3hu0XX",
        "outputId": "10010a18-6af9-4771-b5ac-2ce604230edd"
      },
      "outputs": [
        {
          "name": "stdout",
          "output_type": "stream",
          "text": [
            "User: Should I invest in my house, when it's in my wife's name?\n",
            "FinanceBot: i ' s a to the . . . you can ' t have to the . . . you can ' t have to the . . . you can ' t have to the . . . you can ' t have to the . . . you\n"
          ]
        }
      ],
      "source": [
        "##sample trial 2\n",
        "\n",
        "question = \"Should I invest in my house, when it's in my wife's name?\"\n",
        "response = predict(question)\n",
        "print(\"User:\", question)\n",
        "print(\"FinanceBot:\", response)"
      ]
    },
    {
      "cell_type": "code",
      "execution_count": 18,
      "metadata": {
        "colab": {
          "base_uri": "https://localhost:8080/"
        },
        "id": "_LX-rBJVaK3v",
        "outputId": "45f2c470-122b-4868-f741-115613f5ad10"
      },
      "outputs": [
        {
          "name": "stdout",
          "output_type": "stream",
          "text": [
            "User: hello! what is your name?\n",
            "FinanceBot: i ' s a to the . . . the . . . . . . the . . . . . . . . . . . . . . . . . . . . . . . . . . . . . . . . .\n"
          ]
        }
      ],
      "source": [
        "## sample trial 3\n",
        "\n",
        "question = \"hello! what is your name?\"\n",
        "response = predict(question)\n",
        "print(\"User:\", question)\n",
        "print(\"FinanceBot:\", response)"
      ]
    },
    {
      "cell_type": "code",
      "execution_count": null,
      "metadata": {
        "id": "DrI5RX74zATm"
      },
      "outputs": [],
      "source": []
    },
    {
      "cell_type": "code",
      "execution_count": null,
      "metadata": {
        "id": "Y4vUl-34fUjt"
      },
      "outputs": [],
      "source": []
    },
    {
      "cell_type": "code",
      "execution_count": null,
      "metadata": {
        "id": "3vcrKMTKuj4Y"
      },
      "outputs": [],
      "source": []
    },
    {
      "cell_type": "code",
      "execution_count": null,
      "metadata": {
        "id": "-UBPAAHw3IiO"
      },
      "outputs": [],
      "source": []
    },
    {
      "cell_type": "code",
      "execution_count": null,
      "metadata": {
        "id": "q0zZEkus22Xd"
      },
      "outputs": [],
      "source": []
    },
    {
      "cell_type": "code",
      "execution_count": null,
      "metadata": {
        "id": "kuZWo_3J3uEQ"
      },
      "outputs": [],
      "source": []
    },
    {
      "cell_type": "code",
      "execution_count": null,
      "metadata": {
        "id": "5qF5dlAc2Eqx"
      },
      "outputs": [],
      "source": []
    },
    {
      "cell_type": "code",
      "execution_count": null,
      "metadata": {
        "id": "FjnY24vXtTEb"
      },
      "outputs": [],
      "source": []
    },
    {
      "cell_type": "code",
      "execution_count": null,
      "metadata": {
        "id": "MY8iKkFMuibr"
      },
      "outputs": [],
      "source": []
    },
    {
      "cell_type": "code",
      "execution_count": null,
      "metadata": {
        "id": "LxCrFucT3oHz"
      },
      "outputs": [],
      "source": []
    },
    {
      "cell_type": "code",
      "execution_count": null,
      "metadata": {
        "id": "tBaaavSh3oKG"
      },
      "outputs": [],
      "source": []
    },
    {
      "cell_type": "code",
      "execution_count": null,
      "metadata": {
        "id": "bFVBKqux3oMc"
      },
      "outputs": [],
      "source": []
    },
    {
      "cell_type": "code",
      "execution_count": null,
      "metadata": {
        "id": "a5ZvN4SC3oOi"
      },
      "outputs": [],
      "source": []
    },
    {
      "cell_type": "code",
      "execution_count": null,
      "metadata": {
        "id": "3m9trSKe3oQn"
      },
      "outputs": [],
      "source": []
    }
  ],
  "metadata": {
    "colab": {
      "machine_shape": "hm",
      "provenance": []
    },
    "kernelspec": {
      "display_name": "Python 3",
      "name": "python3"
    },
    "language_info": {
      "name": "python"
    }
  },
  "nbformat": 4,
  "nbformat_minor": 0
}
