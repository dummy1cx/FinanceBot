{
  "cells": [
    {
      "cell_type": "code",
      "execution_count": 1,
      "id": "8096e9d5-52bf-49ca-8c34-97744828d2a3",
      "metadata": {
        "colab": {
          "base_uri": "https://localhost:8080/"
        },
        "id": "8096e9d5-52bf-49ca-8c34-97744828d2a3",
        "outputId": "82809bb5-9bb0-496d-c43c-cb4d4685f38f"
      },
      "outputs": [
        {
          "output_type": "stream",
          "name": "stdout",
          "text": [
            "Requirement already satisfied: sec-api in /usr/local/lib/python3.11/dist-packages (1.0.32)\n",
            "Requirement already satisfied: requests in /usr/local/lib/python3.11/dist-packages (from sec-api) (2.32.3)\n",
            "Requirement already satisfied: charset-normalizer<4,>=2 in /usr/local/lib/python3.11/dist-packages (from requests->sec-api) (3.4.2)\n",
            "Requirement already satisfied: idna<4,>=2.5 in /usr/local/lib/python3.11/dist-packages (from requests->sec-api) (3.10)\n",
            "Requirement already satisfied: urllib3<3,>=1.21.1 in /usr/local/lib/python3.11/dist-packages (from requests->sec-api) (2.4.0)\n",
            "Requirement already satisfied: certifi>=2017.4.17 in /usr/local/lib/python3.11/dist-packages (from requests->sec-api) (2025.4.26)\n",
            "Requirement already satisfied: torchinfo in /usr/local/lib/python3.11/dist-packages (1.8.0)\n",
            "Requirement already satisfied: torchmetrics in /usr/local/lib/python3.11/dist-packages (1.7.1)\n",
            "Requirement already satisfied: numpy>1.20.0 in /usr/local/lib/python3.11/dist-packages (from torchmetrics) (2.0.2)\n",
            "Requirement already satisfied: packaging>17.1 in /usr/local/lib/python3.11/dist-packages (from torchmetrics) (24.2)\n",
            "Requirement already satisfied: torch>=2.0.0 in /usr/local/lib/python3.11/dist-packages (from torchmetrics) (2.6.0+cu124)\n",
            "Requirement already satisfied: lightning-utilities>=0.8.0 in /usr/local/lib/python3.11/dist-packages (from torchmetrics) (0.14.3)\n",
            "Requirement already satisfied: setuptools in /usr/local/lib/python3.11/dist-packages (from lightning-utilities>=0.8.0->torchmetrics) (75.2.0)\n",
            "Requirement already satisfied: typing_extensions in /usr/local/lib/python3.11/dist-packages (from lightning-utilities>=0.8.0->torchmetrics) (4.13.2)\n",
            "Requirement already satisfied: filelock in /usr/local/lib/python3.11/dist-packages (from torch>=2.0.0->torchmetrics) (3.18.0)\n",
            "Requirement already satisfied: networkx in /usr/local/lib/python3.11/dist-packages (from torch>=2.0.0->torchmetrics) (3.4.2)\n",
            "Requirement already satisfied: jinja2 in /usr/local/lib/python3.11/dist-packages (from torch>=2.0.0->torchmetrics) (3.1.6)\n",
            "Requirement already satisfied: fsspec in /usr/local/lib/python3.11/dist-packages (from torch>=2.0.0->torchmetrics) (2025.3.2)\n",
            "Requirement already satisfied: nvidia-cuda-nvrtc-cu12==12.4.127 in /usr/local/lib/python3.11/dist-packages (from torch>=2.0.0->torchmetrics) (12.4.127)\n",
            "Requirement already satisfied: nvidia-cuda-runtime-cu12==12.4.127 in /usr/local/lib/python3.11/dist-packages (from torch>=2.0.0->torchmetrics) (12.4.127)\n",
            "Requirement already satisfied: nvidia-cuda-cupti-cu12==12.4.127 in /usr/local/lib/python3.11/dist-packages (from torch>=2.0.0->torchmetrics) (12.4.127)\n",
            "Requirement already satisfied: nvidia-cudnn-cu12==9.1.0.70 in /usr/local/lib/python3.11/dist-packages (from torch>=2.0.0->torchmetrics) (9.1.0.70)\n",
            "Requirement already satisfied: nvidia-cublas-cu12==12.4.5.8 in /usr/local/lib/python3.11/dist-packages (from torch>=2.0.0->torchmetrics) (12.4.5.8)\n",
            "Requirement already satisfied: nvidia-cufft-cu12==11.2.1.3 in /usr/local/lib/python3.11/dist-packages (from torch>=2.0.0->torchmetrics) (11.2.1.3)\n",
            "Requirement already satisfied: nvidia-curand-cu12==10.3.5.147 in /usr/local/lib/python3.11/dist-packages (from torch>=2.0.0->torchmetrics) (10.3.5.147)\n",
            "Requirement already satisfied: nvidia-cusolver-cu12==11.6.1.9 in /usr/local/lib/python3.11/dist-packages (from torch>=2.0.0->torchmetrics) (11.6.1.9)\n",
            "Requirement already satisfied: nvidia-cusparse-cu12==12.3.1.170 in /usr/local/lib/python3.11/dist-packages (from torch>=2.0.0->torchmetrics) (12.3.1.170)\n",
            "Requirement already satisfied: nvidia-cusparselt-cu12==0.6.2 in /usr/local/lib/python3.11/dist-packages (from torch>=2.0.0->torchmetrics) (0.6.2)\n",
            "Requirement already satisfied: nvidia-nccl-cu12==2.21.5 in /usr/local/lib/python3.11/dist-packages (from torch>=2.0.0->torchmetrics) (2.21.5)\n",
            "Requirement already satisfied: nvidia-nvtx-cu12==12.4.127 in /usr/local/lib/python3.11/dist-packages (from torch>=2.0.0->torchmetrics) (12.4.127)\n",
            "Requirement already satisfied: nvidia-nvjitlink-cu12==12.4.127 in /usr/local/lib/python3.11/dist-packages (from torch>=2.0.0->torchmetrics) (12.4.127)\n",
            "Requirement already satisfied: triton==3.2.0 in /usr/local/lib/python3.11/dist-packages (from torch>=2.0.0->torchmetrics) (3.2.0)\n",
            "Collecting sympy==1.13.1 (from torch>=2.0.0->torchmetrics)\n",
            "  Using cached sympy-1.13.1-py3-none-any.whl.metadata (12 kB)\n",
            "Requirement already satisfied: mpmath<1.4,>=1.1.0 in /usr/local/lib/python3.11/dist-packages (from sympy==1.13.1->torch>=2.0.0->torchmetrics) (1.3.0)\n",
            "Requirement already satisfied: MarkupSafe>=2.0 in /usr/local/lib/python3.11/dist-packages (from jinja2->torch>=2.0.0->torchmetrics) (3.0.2)\n",
            "Using cached sympy-1.13.1-py3-none-any.whl (6.2 MB)\n",
            "Installing collected packages: sympy\n",
            "  Attempting uninstall: sympy\n",
            "    Found existing installation: sympy 1.14.0\n",
            "    Uninstalling sympy-1.14.0:\n",
            "      Successfully uninstalled sympy-1.14.0\n",
            "Successfully installed sympy-1.13.1\n",
            "Requirement already satisfied: wandb in /usr/local/lib/python3.11/dist-packages (0.19.11)\n",
            "Requirement already satisfied: click!=8.0.0,>=7.1 in /usr/local/lib/python3.11/dist-packages (from wandb) (8.2.0)\n",
            "Requirement already satisfied: docker-pycreds>=0.4.0 in /usr/local/lib/python3.11/dist-packages (from wandb) (0.4.0)\n",
            "Requirement already satisfied: gitpython!=3.1.29,>=1.0.0 in /usr/local/lib/python3.11/dist-packages (from wandb) (3.1.44)\n",
            "Requirement already satisfied: platformdirs in /usr/local/lib/python3.11/dist-packages (from wandb) (4.3.8)\n",
            "Requirement already satisfied: protobuf!=4.21.0,!=5.28.0,<7,>=3.19.0 in /usr/local/lib/python3.11/dist-packages (from wandb) (5.29.4)\n",
            "Requirement already satisfied: psutil>=5.0.0 in /usr/local/lib/python3.11/dist-packages (from wandb) (5.9.5)\n",
            "Requirement already satisfied: pydantic<3 in /usr/local/lib/python3.11/dist-packages (from wandb) (2.11.4)\n",
            "Requirement already satisfied: pyyaml in /usr/local/lib/python3.11/dist-packages (from wandb) (6.0.2)\n",
            "Requirement already satisfied: requests<3,>=2.0.0 in /usr/local/lib/python3.11/dist-packages (from wandb) (2.32.3)\n",
            "Requirement already satisfied: sentry-sdk>=2.0.0 in /usr/local/lib/python3.11/dist-packages (from wandb) (2.28.0)\n",
            "Requirement already satisfied: setproctitle in /usr/local/lib/python3.11/dist-packages (from wandb) (1.3.6)\n",
            "Requirement already satisfied: setuptools in /usr/local/lib/python3.11/dist-packages (from wandb) (75.2.0)\n",
            "Requirement already satisfied: typing-extensions<5,>=4.4 in /usr/local/lib/python3.11/dist-packages (from wandb) (4.13.2)\n",
            "Requirement already satisfied: six>=1.4.0 in /usr/local/lib/python3.11/dist-packages (from docker-pycreds>=0.4.0->wandb) (1.17.0)\n",
            "Requirement already satisfied: gitdb<5,>=4.0.1 in /usr/local/lib/python3.11/dist-packages (from gitpython!=3.1.29,>=1.0.0->wandb) (4.0.12)\n",
            "Requirement already satisfied: annotated-types>=0.6.0 in /usr/local/lib/python3.11/dist-packages (from pydantic<3->wandb) (0.7.0)\n",
            "Requirement already satisfied: pydantic-core==2.33.2 in /usr/local/lib/python3.11/dist-packages (from pydantic<3->wandb) (2.33.2)\n",
            "Requirement already satisfied: typing-inspection>=0.4.0 in /usr/local/lib/python3.11/dist-packages (from pydantic<3->wandb) (0.4.0)\n",
            "Requirement already satisfied: charset-normalizer<4,>=2 in /usr/local/lib/python3.11/dist-packages (from requests<3,>=2.0.0->wandb) (3.4.2)\n",
            "Requirement already satisfied: idna<4,>=2.5 in /usr/local/lib/python3.11/dist-packages (from requests<3,>=2.0.0->wandb) (3.10)\n",
            "Requirement already satisfied: urllib3<3,>=1.21.1 in /usr/local/lib/python3.11/dist-packages (from requests<3,>=2.0.0->wandb) (2.4.0)\n",
            "Requirement already satisfied: certifi>=2017.4.17 in /usr/local/lib/python3.11/dist-packages (from requests<3,>=2.0.0->wandb) (2025.4.26)\n",
            "Requirement already satisfied: smmap<6,>=3.0.1 in /usr/local/lib/python3.11/dist-packages (from gitdb<5,>=4.0.1->gitpython!=3.1.29,>=1.0.0->wandb) (5.0.2)\n",
            "Requirement already satisfied: sympy in /usr/local/lib/python3.11/dist-packages (1.13.1)\n",
            "Collecting sympy\n",
            "  Using cached sympy-1.14.0-py3-none-any.whl.metadata (12 kB)\n",
            "Requirement already satisfied: mpmath<1.4,>=1.1.0 in /usr/local/lib/python3.11/dist-packages (from sympy) (1.3.0)\n",
            "Using cached sympy-1.14.0-py3-none-any.whl (6.3 MB)\n",
            "Installing collected packages: sympy\n",
            "  Attempting uninstall: sympy\n",
            "    Found existing installation: sympy 1.13.1\n",
            "    Uninstalling sympy-1.13.1:\n",
            "      Successfully uninstalled sympy-1.13.1\n",
            "\u001b[31mERROR: pip's dependency resolver does not currently take into account all the packages that are installed. This behaviour is the source of the following dependency conflicts.\n",
            "torch 2.6.0+cu124 requires sympy==1.13.1; python_version >= \"3.9\", but you have sympy 1.14.0 which is incompatible.\u001b[0m\u001b[31m\n",
            "\u001b[0mSuccessfully installed sympy-1.14.0\n"
          ]
        }
      ],
      "source": [
        "!pip install sec-api\n",
        "!pip install torchinfo\n",
        "!pip install torchmetrics\n",
        "!pip install wandb\n",
        "!pip install sympy --upgrade"
      ]
    },
    {
      "cell_type": "markdown",
      "id": "fdd6aa6c-1f16-46f8-a954-eebdeb18fe56",
      "metadata": {
        "id": "fdd6aa6c-1f16-46f8-a954-eebdeb18fe56"
      },
      "source": [
        "# <b>1 <span style='color:#9146ff'>|</span> Import Libraries</b>"
      ]
    },
    {
      "cell_type": "code",
      "execution_count": 2,
      "id": "a67600d1-0110-49c0-810f-ee1d0127627b",
      "metadata": {
        "id": "a67600d1-0110-49c0-810f-ee1d0127627b"
      },
      "outputs": [],
      "source": [
        "import warnings\n",
        "warnings.filterwarnings('ignore')\n",
        "import wandb\n",
        "\n",
        "import torch\n",
        "import torch.nn as nn\n",
        "from torch.optim import Adam\n",
        "from torch.utils.data import DataLoader , TensorDataset\n",
        "from torchinfo import summary\n",
        "\n",
        "import pandas as pd\n",
        "import numpy as np\n",
        "import matplotlib.pyplot as plt\n",
        "import plotly.express as px\n",
        "import plotly.graph_objects as go\n",
        "from plotly.subplots import make_subplots\n",
        "from tqdm.auto import tqdm\n",
        "import seaborn as sns\n",
        "\n",
        "\n",
        "import re\n",
        "import ast\n",
        "from nltk.corpus import stopwords\n",
        "from collections import Counter\n",
        "from string import punctuation\n",
        "from wordcloud import WordCloud\n",
        "\n",
        "from sec_api import ExtractorApi\n"
      ]
    },
    {
      "cell_type": "code",
      "source": [
        "#Reading the JSON File\n",
        "\n",
        "\n",
        "# Convert to DataFrame\n",
        "data = pd.DataFrame(pd.read_json('/content/Cleaned_date.json'))\n",
        "df_cleaned = (data)\n",
        "\n",
        "# Drop 'input' and 'text' columns\n",
        "df_cleaned = df_cleaned.drop(columns=['input', 'text'])\n",
        "\n",
        "# Display the result\n",
        "df_cleaned"
      ],
      "metadata": {
        "colab": {
          "base_uri": "https://localhost:8080/",
          "height": 424
        },
        "id": "xJZALJpmIBzz",
        "outputId": "54950417-0c03-477e-b42f-b7fb963ec1fa"
      },
      "id": "xJZALJpmIBzz",
      "execution_count": 3,
      "outputs": [
        {
          "output_type": "execute_result",
          "data": {
            "text/plain": [
              "                                             instruction  \\\n",
              "0      For a car, what scams can be plotted with 0% f...   \n",
              "1      Why does it matter if a Central Bank has a neg...   \n",
              "2                  Where should I be investing my money?   \n",
              "3                   Specifically when do options expire?   \n",
              "4      Negative Balance from Automatic Options Exerci...   \n",
              "...                                                  ...   \n",
              "68907  Generate an example of what a resume should li...   \n",
              "68908  Arrange the items given below in the order to ...   \n",
              "68909  Write an introductory paragraph about a famous...   \n",
              "68910  Generate a list of five things one should keep...   \n",
              "68911  Analyze the given legal document and explain t...   \n",
              "\n",
              "                                                  output  \n",
              "0      The car deal makes money 3 ways. If you pay in...  \n",
              "1      That is kind of the point, one of the hopes is...  \n",
              "2      Pay off your debt.  As you witnessed, no \"inve...  \n",
              "3      Equity options, at least those traded in the A...  \n",
              "4      Automatic exercisions can be extremely risky, ...  \n",
              "...                                                  ...  \n",
              "68907  Jean Tremaine\\n1234 Main Street, Anytown, CA 9...  \n",
              "68908                                     I eating cake.  \n",
              "68909  Michelle Obama is an inspirational woman who r...  \n",
              "68910  1. Research potential opportunities and carefu...  \n",
              "68911  This legal document states that Company A has ...  \n",
              "\n",
              "[68912 rows x 2 columns]"
            ],
            "text/html": [
              "\n",
              "  <div id=\"df-444dadea-d4f9-4e82-8f18-1bc18771bc73\" class=\"colab-df-container\">\n",
              "    <div>\n",
              "<style scoped>\n",
              "    .dataframe tbody tr th:only-of-type {\n",
              "        vertical-align: middle;\n",
              "    }\n",
              "\n",
              "    .dataframe tbody tr th {\n",
              "        vertical-align: top;\n",
              "    }\n",
              "\n",
              "    .dataframe thead th {\n",
              "        text-align: right;\n",
              "    }\n",
              "</style>\n",
              "<table border=\"1\" class=\"dataframe\">\n",
              "  <thead>\n",
              "    <tr style=\"text-align: right;\">\n",
              "      <th></th>\n",
              "      <th>instruction</th>\n",
              "      <th>output</th>\n",
              "    </tr>\n",
              "  </thead>\n",
              "  <tbody>\n",
              "    <tr>\n",
              "      <th>0</th>\n",
              "      <td>For a car, what scams can be plotted with 0% f...</td>\n",
              "      <td>The car deal makes money 3 ways. If you pay in...</td>\n",
              "    </tr>\n",
              "    <tr>\n",
              "      <th>1</th>\n",
              "      <td>Why does it matter if a Central Bank has a neg...</td>\n",
              "      <td>That is kind of the point, one of the hopes is...</td>\n",
              "    </tr>\n",
              "    <tr>\n",
              "      <th>2</th>\n",
              "      <td>Where should I be investing my money?</td>\n",
              "      <td>Pay off your debt.  As you witnessed, no \"inve...</td>\n",
              "    </tr>\n",
              "    <tr>\n",
              "      <th>3</th>\n",
              "      <td>Specifically when do options expire?</td>\n",
              "      <td>Equity options, at least those traded in the A...</td>\n",
              "    </tr>\n",
              "    <tr>\n",
              "      <th>4</th>\n",
              "      <td>Negative Balance from Automatic Options Exerci...</td>\n",
              "      <td>Automatic exercisions can be extremely risky, ...</td>\n",
              "    </tr>\n",
              "    <tr>\n",
              "      <th>...</th>\n",
              "      <td>...</td>\n",
              "      <td>...</td>\n",
              "    </tr>\n",
              "    <tr>\n",
              "      <th>68907</th>\n",
              "      <td>Generate an example of what a resume should li...</td>\n",
              "      <td>Jean Tremaine\\n1234 Main Street, Anytown, CA 9...</td>\n",
              "    </tr>\n",
              "    <tr>\n",
              "      <th>68908</th>\n",
              "      <td>Arrange the items given below in the order to ...</td>\n",
              "      <td>I eating cake.</td>\n",
              "    </tr>\n",
              "    <tr>\n",
              "      <th>68909</th>\n",
              "      <td>Write an introductory paragraph about a famous...</td>\n",
              "      <td>Michelle Obama is an inspirational woman who r...</td>\n",
              "    </tr>\n",
              "    <tr>\n",
              "      <th>68910</th>\n",
              "      <td>Generate a list of five things one should keep...</td>\n",
              "      <td>1. Research potential opportunities and carefu...</td>\n",
              "    </tr>\n",
              "    <tr>\n",
              "      <th>68911</th>\n",
              "      <td>Analyze the given legal document and explain t...</td>\n",
              "      <td>This legal document states that Company A has ...</td>\n",
              "    </tr>\n",
              "  </tbody>\n",
              "</table>\n",
              "<p>68912 rows × 2 columns</p>\n",
              "</div>\n",
              "    <div class=\"colab-df-buttons\">\n",
              "\n",
              "  <div class=\"colab-df-container\">\n",
              "    <button class=\"colab-df-convert\" onclick=\"convertToInteractive('df-444dadea-d4f9-4e82-8f18-1bc18771bc73')\"\n",
              "            title=\"Convert this dataframe to an interactive table.\"\n",
              "            style=\"display:none;\">\n",
              "\n",
              "  <svg xmlns=\"http://www.w3.org/2000/svg\" height=\"24px\" viewBox=\"0 -960 960 960\">\n",
              "    <path d=\"M120-120v-720h720v720H120Zm60-500h600v-160H180v160Zm220 220h160v-160H400v160Zm0 220h160v-160H400v160ZM180-400h160v-160H180v160Zm440 0h160v-160H620v160ZM180-180h160v-160H180v160Zm440 0h160v-160H620v160Z\"/>\n",
              "  </svg>\n",
              "    </button>\n",
              "\n",
              "  <style>\n",
              "    .colab-df-container {\n",
              "      display:flex;\n",
              "      gap: 12px;\n",
              "    }\n",
              "\n",
              "    .colab-df-convert {\n",
              "      background-color: #E8F0FE;\n",
              "      border: none;\n",
              "      border-radius: 50%;\n",
              "      cursor: pointer;\n",
              "      display: none;\n",
              "      fill: #1967D2;\n",
              "      height: 32px;\n",
              "      padding: 0 0 0 0;\n",
              "      width: 32px;\n",
              "    }\n",
              "\n",
              "    .colab-df-convert:hover {\n",
              "      background-color: #E2EBFA;\n",
              "      box-shadow: 0px 1px 2px rgba(60, 64, 67, 0.3), 0px 1px 3px 1px rgba(60, 64, 67, 0.15);\n",
              "      fill: #174EA6;\n",
              "    }\n",
              "\n",
              "    .colab-df-buttons div {\n",
              "      margin-bottom: 4px;\n",
              "    }\n",
              "\n",
              "    [theme=dark] .colab-df-convert {\n",
              "      background-color: #3B4455;\n",
              "      fill: #D2E3FC;\n",
              "    }\n",
              "\n",
              "    [theme=dark] .colab-df-convert:hover {\n",
              "      background-color: #434B5C;\n",
              "      box-shadow: 0px 1px 3px 1px rgba(0, 0, 0, 0.15);\n",
              "      filter: drop-shadow(0px 1px 2px rgba(0, 0, 0, 0.3));\n",
              "      fill: #FFFFFF;\n",
              "    }\n",
              "  </style>\n",
              "\n",
              "    <script>\n",
              "      const buttonEl =\n",
              "        document.querySelector('#df-444dadea-d4f9-4e82-8f18-1bc18771bc73 button.colab-df-convert');\n",
              "      buttonEl.style.display =\n",
              "        google.colab.kernel.accessAllowed ? 'block' : 'none';\n",
              "\n",
              "      async function convertToInteractive(key) {\n",
              "        const element = document.querySelector('#df-444dadea-d4f9-4e82-8f18-1bc18771bc73');\n",
              "        const dataTable =\n",
              "          await google.colab.kernel.invokeFunction('convertToInteractive',\n",
              "                                                    [key], {});\n",
              "        if (!dataTable) return;\n",
              "\n",
              "        const docLinkHtml = 'Like what you see? Visit the ' +\n",
              "          '<a target=\"_blank\" href=https://colab.research.google.com/notebooks/data_table.ipynb>data table notebook</a>'\n",
              "          + ' to learn more about interactive tables.';\n",
              "        element.innerHTML = '';\n",
              "        dataTable['output_type'] = 'display_data';\n",
              "        await google.colab.output.renderOutput(dataTable, element);\n",
              "        const docLink = document.createElement('div');\n",
              "        docLink.innerHTML = docLinkHtml;\n",
              "        element.appendChild(docLink);\n",
              "      }\n",
              "    </script>\n",
              "  </div>\n",
              "\n",
              "\n",
              "    <div id=\"df-ff114ef1-1124-4986-8def-15e181e1a287\">\n",
              "      <button class=\"colab-df-quickchart\" onclick=\"quickchart('df-ff114ef1-1124-4986-8def-15e181e1a287')\"\n",
              "                title=\"Suggest charts\"\n",
              "                style=\"display:none;\">\n",
              "\n",
              "<svg xmlns=\"http://www.w3.org/2000/svg\" height=\"24px\"viewBox=\"0 0 24 24\"\n",
              "     width=\"24px\">\n",
              "    <g>\n",
              "        <path d=\"M19 3H5c-1.1 0-2 .9-2 2v14c0 1.1.9 2 2 2h14c1.1 0 2-.9 2-2V5c0-1.1-.9-2-2-2zM9 17H7v-7h2v7zm4 0h-2V7h2v10zm4 0h-2v-4h2v4z\"/>\n",
              "    </g>\n",
              "</svg>\n",
              "      </button>\n",
              "\n",
              "<style>\n",
              "  .colab-df-quickchart {\n",
              "      --bg-color: #E8F0FE;\n",
              "      --fill-color: #1967D2;\n",
              "      --hover-bg-color: #E2EBFA;\n",
              "      --hover-fill-color: #174EA6;\n",
              "      --disabled-fill-color: #AAA;\n",
              "      --disabled-bg-color: #DDD;\n",
              "  }\n",
              "\n",
              "  [theme=dark] .colab-df-quickchart {\n",
              "      --bg-color: #3B4455;\n",
              "      --fill-color: #D2E3FC;\n",
              "      --hover-bg-color: #434B5C;\n",
              "      --hover-fill-color: #FFFFFF;\n",
              "      --disabled-bg-color: #3B4455;\n",
              "      --disabled-fill-color: #666;\n",
              "  }\n",
              "\n",
              "  .colab-df-quickchart {\n",
              "    background-color: var(--bg-color);\n",
              "    border: none;\n",
              "    border-radius: 50%;\n",
              "    cursor: pointer;\n",
              "    display: none;\n",
              "    fill: var(--fill-color);\n",
              "    height: 32px;\n",
              "    padding: 0;\n",
              "    width: 32px;\n",
              "  }\n",
              "\n",
              "  .colab-df-quickchart:hover {\n",
              "    background-color: var(--hover-bg-color);\n",
              "    box-shadow: 0 1px 2px rgba(60, 64, 67, 0.3), 0 1px 3px 1px rgba(60, 64, 67, 0.15);\n",
              "    fill: var(--button-hover-fill-color);\n",
              "  }\n",
              "\n",
              "  .colab-df-quickchart-complete:disabled,\n",
              "  .colab-df-quickchart-complete:disabled:hover {\n",
              "    background-color: var(--disabled-bg-color);\n",
              "    fill: var(--disabled-fill-color);\n",
              "    box-shadow: none;\n",
              "  }\n",
              "\n",
              "  .colab-df-spinner {\n",
              "    border: 2px solid var(--fill-color);\n",
              "    border-color: transparent;\n",
              "    border-bottom-color: var(--fill-color);\n",
              "    animation:\n",
              "      spin 1s steps(1) infinite;\n",
              "  }\n",
              "\n",
              "  @keyframes spin {\n",
              "    0% {\n",
              "      border-color: transparent;\n",
              "      border-bottom-color: var(--fill-color);\n",
              "      border-left-color: var(--fill-color);\n",
              "    }\n",
              "    20% {\n",
              "      border-color: transparent;\n",
              "      border-left-color: var(--fill-color);\n",
              "      border-top-color: var(--fill-color);\n",
              "    }\n",
              "    30% {\n",
              "      border-color: transparent;\n",
              "      border-left-color: var(--fill-color);\n",
              "      border-top-color: var(--fill-color);\n",
              "      border-right-color: var(--fill-color);\n",
              "    }\n",
              "    40% {\n",
              "      border-color: transparent;\n",
              "      border-right-color: var(--fill-color);\n",
              "      border-top-color: var(--fill-color);\n",
              "    }\n",
              "    60% {\n",
              "      border-color: transparent;\n",
              "      border-right-color: var(--fill-color);\n",
              "    }\n",
              "    80% {\n",
              "      border-color: transparent;\n",
              "      border-right-color: var(--fill-color);\n",
              "      border-bottom-color: var(--fill-color);\n",
              "    }\n",
              "    90% {\n",
              "      border-color: transparent;\n",
              "      border-bottom-color: var(--fill-color);\n",
              "    }\n",
              "  }\n",
              "</style>\n",
              "\n",
              "      <script>\n",
              "        async function quickchart(key) {\n",
              "          const quickchartButtonEl =\n",
              "            document.querySelector('#' + key + ' button');\n",
              "          quickchartButtonEl.disabled = true;  // To prevent multiple clicks.\n",
              "          quickchartButtonEl.classList.add('colab-df-spinner');\n",
              "          try {\n",
              "            const charts = await google.colab.kernel.invokeFunction(\n",
              "                'suggestCharts', [key], {});\n",
              "          } catch (error) {\n",
              "            console.error('Error during call to suggestCharts:', error);\n",
              "          }\n",
              "          quickchartButtonEl.classList.remove('colab-df-spinner');\n",
              "          quickchartButtonEl.classList.add('colab-df-quickchart-complete');\n",
              "        }\n",
              "        (() => {\n",
              "          let quickchartButtonEl =\n",
              "            document.querySelector('#df-ff114ef1-1124-4986-8def-15e181e1a287 button');\n",
              "          quickchartButtonEl.style.display =\n",
              "            google.colab.kernel.accessAllowed ? 'block' : 'none';\n",
              "        })();\n",
              "      </script>\n",
              "    </div>\n",
              "\n",
              "  <div id=\"id_4c1d934e-2d5e-4d29-95ff-d3a855813a1a\">\n",
              "    <style>\n",
              "      .colab-df-generate {\n",
              "        background-color: #E8F0FE;\n",
              "        border: none;\n",
              "        border-radius: 50%;\n",
              "        cursor: pointer;\n",
              "        display: none;\n",
              "        fill: #1967D2;\n",
              "        height: 32px;\n",
              "        padding: 0 0 0 0;\n",
              "        width: 32px;\n",
              "      }\n",
              "\n",
              "      .colab-df-generate:hover {\n",
              "        background-color: #E2EBFA;\n",
              "        box-shadow: 0px 1px 2px rgba(60, 64, 67, 0.3), 0px 1px 3px 1px rgba(60, 64, 67, 0.15);\n",
              "        fill: #174EA6;\n",
              "      }\n",
              "\n",
              "      [theme=dark] .colab-df-generate {\n",
              "        background-color: #3B4455;\n",
              "        fill: #D2E3FC;\n",
              "      }\n",
              "\n",
              "      [theme=dark] .colab-df-generate:hover {\n",
              "        background-color: #434B5C;\n",
              "        box-shadow: 0px 1px 3px 1px rgba(0, 0, 0, 0.15);\n",
              "        filter: drop-shadow(0px 1px 2px rgba(0, 0, 0, 0.3));\n",
              "        fill: #FFFFFF;\n",
              "      }\n",
              "    </style>\n",
              "    <button class=\"colab-df-generate\" onclick=\"generateWithVariable('df_cleaned')\"\n",
              "            title=\"Generate code using this dataframe.\"\n",
              "            style=\"display:none;\">\n",
              "\n",
              "  <svg xmlns=\"http://www.w3.org/2000/svg\" height=\"24px\"viewBox=\"0 0 24 24\"\n",
              "       width=\"24px\">\n",
              "    <path d=\"M7,19H8.4L18.45,9,17,7.55,7,17.6ZM5,21V16.75L18.45,3.32a2,2,0,0,1,2.83,0l1.4,1.43a1.91,1.91,0,0,1,.58,1.4,1.91,1.91,0,0,1-.58,1.4L9.25,21ZM18.45,9,17,7.55Zm-12,3A5.31,5.31,0,0,0,4.9,8.1,5.31,5.31,0,0,0,1,6.5,5.31,5.31,0,0,0,4.9,4.9,5.31,5.31,0,0,0,6.5,1,5.31,5.31,0,0,0,8.1,4.9,5.31,5.31,0,0,0,12,6.5,5.46,5.46,0,0,0,6.5,12Z\"/>\n",
              "  </svg>\n",
              "    </button>\n",
              "    <script>\n",
              "      (() => {\n",
              "      const buttonEl =\n",
              "        document.querySelector('#id_4c1d934e-2d5e-4d29-95ff-d3a855813a1a button.colab-df-generate');\n",
              "      buttonEl.style.display =\n",
              "        google.colab.kernel.accessAllowed ? 'block' : 'none';\n",
              "\n",
              "      buttonEl.onclick = () => {\n",
              "        google.colab.notebook.generateWithVariable('df_cleaned');\n",
              "      }\n",
              "      })();\n",
              "    </script>\n",
              "  </div>\n",
              "\n",
              "    </div>\n",
              "  </div>\n"
            ],
            "application/vnd.google.colaboratory.intrinsic+json": {
              "type": "dataframe",
              "variable_name": "df_cleaned",
              "summary": "{\n  \"name\": \"df_cleaned\",\n  \"rows\": 68912,\n  \"fields\": [\n    {\n      \"column\": \"instruction\",\n      \"properties\": {\n        \"dtype\": \"string\",\n        \"num_unique_values\": 58482,\n        \"samples\": [\n          \"Write a concise definition for \\\"algorithm\\\".\",\n          \"Describe a single day at the beach.\",\n          \"Using the provided input, generate a name for a new product.\"\n        ],\n        \"semantic_type\": \"\",\n        \"description\": \"\"\n      }\n    },\n    {\n      \"column\": \"output\",\n      \"properties\": {\n        \"dtype\": \"string\",\n        \"num_unique_values\": 67853,\n        \"samples\": [\n          \"Fruit\",\n          \"The company is likely using a hierarchical structure to manage its 500 employees. It consists of several departments or divisions, with decisions being made by the top-level management,and then filtered down to each level of the organizational structure. It is designed to minimize misunderstanding, promote efficiency, and optimize decision making processes.\",\n          \"<input type=\\\"checkbox\\\" name=\\\"newsletter\\\" value=\\\"newsletter\\\">Subscribe to newsletter\"\n        ],\n        \"semantic_type\": \"\",\n        \"description\": \"\"\n      }\n    }\n  ]\n}"
            }
          },
          "metadata": {},
          "execution_count": 3
        }
      ]
    },
    {
      "cell_type": "code",
      "source": [
        "#frames = [df_10_k,df_cleaned]\n",
        "#df = pd.concat(frames)\n",
        "df = df_cleaned\n",
        "df.head(10)"
      ],
      "metadata": {
        "colab": {
          "base_uri": "https://localhost:8080/",
          "height": 363
        },
        "id": "WNVmpgM2JTOx",
        "outputId": "a9c844e3-93c4-4fb1-c39e-421b1c5216da"
      },
      "id": "WNVmpgM2JTOx",
      "execution_count": 4,
      "outputs": [
        {
          "output_type": "execute_result",
          "data": {
            "text/plain": [
              "                                         instruction  \\\n",
              "0  For a car, what scams can be plotted with 0% f...   \n",
              "1  Why does it matter if a Central Bank has a neg...   \n",
              "2              Where should I be investing my money?   \n",
              "3               Specifically when do options expire?   \n",
              "4  Negative Balance from Automatic Options Exerci...   \n",
              "5  Approximation of equity value for company in d...   \n",
              "6  Is it true that 90% of investors lose their mo...   \n",
              "7  Can a company charge you for services never re...   \n",
              "8  Working out if I should be registered as self-...   \n",
              "9                            About eToro investments   \n",
              "\n",
              "                                              output  \n",
              "0  The car deal makes money 3 ways. If you pay in...  \n",
              "1  That is kind of the point, one of the hopes is...  \n",
              "2  Pay off your debt.  As you witnessed, no \"inve...  \n",
              "3  Equity options, at least those traded in the A...  \n",
              "4  Automatic exercisions can be extremely risky, ...  \n",
              "5  Generally \"default\" means that the company can...  \n",
              "6  The game is not zero sum. When a friend and I ...  \n",
              "7  In general, you can only be charged for servic...  \n",
              "8  Being self employed just means you fill out so...  \n",
              "9  For eToro, just like any other brokerage firm,...  "
            ],
            "text/html": [
              "\n",
              "  <div id=\"df-43314d8f-60a3-4bde-94a8-9e47945313fa\" class=\"colab-df-container\">\n",
              "    <div>\n",
              "<style scoped>\n",
              "    .dataframe tbody tr th:only-of-type {\n",
              "        vertical-align: middle;\n",
              "    }\n",
              "\n",
              "    .dataframe tbody tr th {\n",
              "        vertical-align: top;\n",
              "    }\n",
              "\n",
              "    .dataframe thead th {\n",
              "        text-align: right;\n",
              "    }\n",
              "</style>\n",
              "<table border=\"1\" class=\"dataframe\">\n",
              "  <thead>\n",
              "    <tr style=\"text-align: right;\">\n",
              "      <th></th>\n",
              "      <th>instruction</th>\n",
              "      <th>output</th>\n",
              "    </tr>\n",
              "  </thead>\n",
              "  <tbody>\n",
              "    <tr>\n",
              "      <th>0</th>\n",
              "      <td>For a car, what scams can be plotted with 0% f...</td>\n",
              "      <td>The car deal makes money 3 ways. If you pay in...</td>\n",
              "    </tr>\n",
              "    <tr>\n",
              "      <th>1</th>\n",
              "      <td>Why does it matter if a Central Bank has a neg...</td>\n",
              "      <td>That is kind of the point, one of the hopes is...</td>\n",
              "    </tr>\n",
              "    <tr>\n",
              "      <th>2</th>\n",
              "      <td>Where should I be investing my money?</td>\n",
              "      <td>Pay off your debt.  As you witnessed, no \"inve...</td>\n",
              "    </tr>\n",
              "    <tr>\n",
              "      <th>3</th>\n",
              "      <td>Specifically when do options expire?</td>\n",
              "      <td>Equity options, at least those traded in the A...</td>\n",
              "    </tr>\n",
              "    <tr>\n",
              "      <th>4</th>\n",
              "      <td>Negative Balance from Automatic Options Exerci...</td>\n",
              "      <td>Automatic exercisions can be extremely risky, ...</td>\n",
              "    </tr>\n",
              "    <tr>\n",
              "      <th>5</th>\n",
              "      <td>Approximation of equity value for company in d...</td>\n",
              "      <td>Generally \"default\" means that the company can...</td>\n",
              "    </tr>\n",
              "    <tr>\n",
              "      <th>6</th>\n",
              "      <td>Is it true that 90% of investors lose their mo...</td>\n",
              "      <td>The game is not zero sum. When a friend and I ...</td>\n",
              "    </tr>\n",
              "    <tr>\n",
              "      <th>7</th>\n",
              "      <td>Can a company charge you for services never re...</td>\n",
              "      <td>In general, you can only be charged for servic...</td>\n",
              "    </tr>\n",
              "    <tr>\n",
              "      <th>8</th>\n",
              "      <td>Working out if I should be registered as self-...</td>\n",
              "      <td>Being self employed just means you fill out so...</td>\n",
              "    </tr>\n",
              "    <tr>\n",
              "      <th>9</th>\n",
              "      <td>About eToro investments</td>\n",
              "      <td>For eToro, just like any other brokerage firm,...</td>\n",
              "    </tr>\n",
              "  </tbody>\n",
              "</table>\n",
              "</div>\n",
              "    <div class=\"colab-df-buttons\">\n",
              "\n",
              "  <div class=\"colab-df-container\">\n",
              "    <button class=\"colab-df-convert\" onclick=\"convertToInteractive('df-43314d8f-60a3-4bde-94a8-9e47945313fa')\"\n",
              "            title=\"Convert this dataframe to an interactive table.\"\n",
              "            style=\"display:none;\">\n",
              "\n",
              "  <svg xmlns=\"http://www.w3.org/2000/svg\" height=\"24px\" viewBox=\"0 -960 960 960\">\n",
              "    <path d=\"M120-120v-720h720v720H120Zm60-500h600v-160H180v160Zm220 220h160v-160H400v160Zm0 220h160v-160H400v160ZM180-400h160v-160H180v160Zm440 0h160v-160H620v160ZM180-180h160v-160H180v160Zm440 0h160v-160H620v160Z\"/>\n",
              "  </svg>\n",
              "    </button>\n",
              "\n",
              "  <style>\n",
              "    .colab-df-container {\n",
              "      display:flex;\n",
              "      gap: 12px;\n",
              "    }\n",
              "\n",
              "    .colab-df-convert {\n",
              "      background-color: #E8F0FE;\n",
              "      border: none;\n",
              "      border-radius: 50%;\n",
              "      cursor: pointer;\n",
              "      display: none;\n",
              "      fill: #1967D2;\n",
              "      height: 32px;\n",
              "      padding: 0 0 0 0;\n",
              "      width: 32px;\n",
              "    }\n",
              "\n",
              "    .colab-df-convert:hover {\n",
              "      background-color: #E2EBFA;\n",
              "      box-shadow: 0px 1px 2px rgba(60, 64, 67, 0.3), 0px 1px 3px 1px rgba(60, 64, 67, 0.15);\n",
              "      fill: #174EA6;\n",
              "    }\n",
              "\n",
              "    .colab-df-buttons div {\n",
              "      margin-bottom: 4px;\n",
              "    }\n",
              "\n",
              "    [theme=dark] .colab-df-convert {\n",
              "      background-color: #3B4455;\n",
              "      fill: #D2E3FC;\n",
              "    }\n",
              "\n",
              "    [theme=dark] .colab-df-convert:hover {\n",
              "      background-color: #434B5C;\n",
              "      box-shadow: 0px 1px 3px 1px rgba(0, 0, 0, 0.15);\n",
              "      filter: drop-shadow(0px 1px 2px rgba(0, 0, 0, 0.3));\n",
              "      fill: #FFFFFF;\n",
              "    }\n",
              "  </style>\n",
              "\n",
              "    <script>\n",
              "      const buttonEl =\n",
              "        document.querySelector('#df-43314d8f-60a3-4bde-94a8-9e47945313fa button.colab-df-convert');\n",
              "      buttonEl.style.display =\n",
              "        google.colab.kernel.accessAllowed ? 'block' : 'none';\n",
              "\n",
              "      async function convertToInteractive(key) {\n",
              "        const element = document.querySelector('#df-43314d8f-60a3-4bde-94a8-9e47945313fa');\n",
              "        const dataTable =\n",
              "          await google.colab.kernel.invokeFunction('convertToInteractive',\n",
              "                                                    [key], {});\n",
              "        if (!dataTable) return;\n",
              "\n",
              "        const docLinkHtml = 'Like what you see? Visit the ' +\n",
              "          '<a target=\"_blank\" href=https://colab.research.google.com/notebooks/data_table.ipynb>data table notebook</a>'\n",
              "          + ' to learn more about interactive tables.';\n",
              "        element.innerHTML = '';\n",
              "        dataTable['output_type'] = 'display_data';\n",
              "        await google.colab.output.renderOutput(dataTable, element);\n",
              "        const docLink = document.createElement('div');\n",
              "        docLink.innerHTML = docLinkHtml;\n",
              "        element.appendChild(docLink);\n",
              "      }\n",
              "    </script>\n",
              "  </div>\n",
              "\n",
              "\n",
              "    <div id=\"df-7572ed7e-3ba8-4fb3-9737-4f0e0818000b\">\n",
              "      <button class=\"colab-df-quickchart\" onclick=\"quickchart('df-7572ed7e-3ba8-4fb3-9737-4f0e0818000b')\"\n",
              "                title=\"Suggest charts\"\n",
              "                style=\"display:none;\">\n",
              "\n",
              "<svg xmlns=\"http://www.w3.org/2000/svg\" height=\"24px\"viewBox=\"0 0 24 24\"\n",
              "     width=\"24px\">\n",
              "    <g>\n",
              "        <path d=\"M19 3H5c-1.1 0-2 .9-2 2v14c0 1.1.9 2 2 2h14c1.1 0 2-.9 2-2V5c0-1.1-.9-2-2-2zM9 17H7v-7h2v7zm4 0h-2V7h2v10zm4 0h-2v-4h2v4z\"/>\n",
              "    </g>\n",
              "</svg>\n",
              "      </button>\n",
              "\n",
              "<style>\n",
              "  .colab-df-quickchart {\n",
              "      --bg-color: #E8F0FE;\n",
              "      --fill-color: #1967D2;\n",
              "      --hover-bg-color: #E2EBFA;\n",
              "      --hover-fill-color: #174EA6;\n",
              "      --disabled-fill-color: #AAA;\n",
              "      --disabled-bg-color: #DDD;\n",
              "  }\n",
              "\n",
              "  [theme=dark] .colab-df-quickchart {\n",
              "      --bg-color: #3B4455;\n",
              "      --fill-color: #D2E3FC;\n",
              "      --hover-bg-color: #434B5C;\n",
              "      --hover-fill-color: #FFFFFF;\n",
              "      --disabled-bg-color: #3B4455;\n",
              "      --disabled-fill-color: #666;\n",
              "  }\n",
              "\n",
              "  .colab-df-quickchart {\n",
              "    background-color: var(--bg-color);\n",
              "    border: none;\n",
              "    border-radius: 50%;\n",
              "    cursor: pointer;\n",
              "    display: none;\n",
              "    fill: var(--fill-color);\n",
              "    height: 32px;\n",
              "    padding: 0;\n",
              "    width: 32px;\n",
              "  }\n",
              "\n",
              "  .colab-df-quickchart:hover {\n",
              "    background-color: var(--hover-bg-color);\n",
              "    box-shadow: 0 1px 2px rgba(60, 64, 67, 0.3), 0 1px 3px 1px rgba(60, 64, 67, 0.15);\n",
              "    fill: var(--button-hover-fill-color);\n",
              "  }\n",
              "\n",
              "  .colab-df-quickchart-complete:disabled,\n",
              "  .colab-df-quickchart-complete:disabled:hover {\n",
              "    background-color: var(--disabled-bg-color);\n",
              "    fill: var(--disabled-fill-color);\n",
              "    box-shadow: none;\n",
              "  }\n",
              "\n",
              "  .colab-df-spinner {\n",
              "    border: 2px solid var(--fill-color);\n",
              "    border-color: transparent;\n",
              "    border-bottom-color: var(--fill-color);\n",
              "    animation:\n",
              "      spin 1s steps(1) infinite;\n",
              "  }\n",
              "\n",
              "  @keyframes spin {\n",
              "    0% {\n",
              "      border-color: transparent;\n",
              "      border-bottom-color: var(--fill-color);\n",
              "      border-left-color: var(--fill-color);\n",
              "    }\n",
              "    20% {\n",
              "      border-color: transparent;\n",
              "      border-left-color: var(--fill-color);\n",
              "      border-top-color: var(--fill-color);\n",
              "    }\n",
              "    30% {\n",
              "      border-color: transparent;\n",
              "      border-left-color: var(--fill-color);\n",
              "      border-top-color: var(--fill-color);\n",
              "      border-right-color: var(--fill-color);\n",
              "    }\n",
              "    40% {\n",
              "      border-color: transparent;\n",
              "      border-right-color: var(--fill-color);\n",
              "      border-top-color: var(--fill-color);\n",
              "    }\n",
              "    60% {\n",
              "      border-color: transparent;\n",
              "      border-right-color: var(--fill-color);\n",
              "    }\n",
              "    80% {\n",
              "      border-color: transparent;\n",
              "      border-right-color: var(--fill-color);\n",
              "      border-bottom-color: var(--fill-color);\n",
              "    }\n",
              "    90% {\n",
              "      border-color: transparent;\n",
              "      border-bottom-color: var(--fill-color);\n",
              "    }\n",
              "  }\n",
              "</style>\n",
              "\n",
              "      <script>\n",
              "        async function quickchart(key) {\n",
              "          const quickchartButtonEl =\n",
              "            document.querySelector('#' + key + ' button');\n",
              "          quickchartButtonEl.disabled = true;  // To prevent multiple clicks.\n",
              "          quickchartButtonEl.classList.add('colab-df-spinner');\n",
              "          try {\n",
              "            const charts = await google.colab.kernel.invokeFunction(\n",
              "                'suggestCharts', [key], {});\n",
              "          } catch (error) {\n",
              "            console.error('Error during call to suggestCharts:', error);\n",
              "          }\n",
              "          quickchartButtonEl.classList.remove('colab-df-spinner');\n",
              "          quickchartButtonEl.classList.add('colab-df-quickchart-complete');\n",
              "        }\n",
              "        (() => {\n",
              "          let quickchartButtonEl =\n",
              "            document.querySelector('#df-7572ed7e-3ba8-4fb3-9737-4f0e0818000b button');\n",
              "          quickchartButtonEl.style.display =\n",
              "            google.colab.kernel.accessAllowed ? 'block' : 'none';\n",
              "        })();\n",
              "      </script>\n",
              "    </div>\n",
              "\n",
              "    </div>\n",
              "  </div>\n"
            ],
            "application/vnd.google.colaboratory.intrinsic+json": {
              "type": "dataframe",
              "variable_name": "df",
              "summary": "{\n  \"name\": \"df\",\n  \"rows\": 68912,\n  \"fields\": [\n    {\n      \"column\": \"instruction\",\n      \"properties\": {\n        \"dtype\": \"string\",\n        \"num_unique_values\": 58482,\n        \"samples\": [\n          \"Write a concise definition for \\\"algorithm\\\".\",\n          \"Describe a single day at the beach.\",\n          \"Using the provided input, generate a name for a new product.\"\n        ],\n        \"semantic_type\": \"\",\n        \"description\": \"\"\n      }\n    },\n    {\n      \"column\": \"output\",\n      \"properties\": {\n        \"dtype\": \"string\",\n        \"num_unique_values\": 67853,\n        \"samples\": [\n          \"Fruit\",\n          \"The company is likely using a hierarchical structure to manage its 500 employees. It consists of several departments or divisions, with decisions being made by the top-level management,and then filtered down to each level of the organizational structure. It is designed to minimize misunderstanding, promote efficiency, and optimize decision making processes.\",\n          \"<input type=\\\"checkbox\\\" name=\\\"newsletter\\\" value=\\\"newsletter\\\">Subscribe to newsletter\"\n        ],\n        \"semantic_type\": \"\",\n        \"description\": \"\"\n      }\n    }\n  ]\n}"
            }
          },
          "metadata": {},
          "execution_count": 4
        }
      ]
    },
    {
      "cell_type": "markdown",
      "id": "ceeb5596-7095-4ae9-b153-82d79d0f96dc",
      "metadata": {
        "id": "ceeb5596-7095-4ae9-b153-82d79d0f96dc"
      },
      "source": [
        "# <b>2 <span style='color:#9146ff'>|</span> Dataset</b>"
      ]
    },
    {
      "cell_type": "code",
      "execution_count": 5,
      "id": "80737750-97cb-4bcd-b6d1-f97037ba1e82",
      "metadata": {
        "colab": {
          "base_uri": "https://localhost:8080/"
        },
        "id": "80737750-97cb-4bcd-b6d1-f97037ba1e82",
        "outputId": "562897eb-2d61-42e0-a492-65d59653ffd5"
      },
      "outputs": [
        {
          "output_type": "stream",
          "name": "stdout",
          "text": [
            "Using cuda device\n"
          ]
        }
      ],
      "source": [
        "DEVICE = \"cuda\" if torch.cuda.is_available() else \"mps\" if torch.backends.mps.is_available() else \"cpu\"\n",
        "print(f\"Using {DEVICE} device\")"
      ]
    },
    {
      "cell_type": "markdown",
      "id": "44b24a53-c5e9-4ef0-8084-31ea738e9343",
      "metadata": {
        "id": "44b24a53-c5e9-4ef0-8084-31ea738e9343"
      },
      "source": [
        "### Define dataframe"
      ]
    },
    {
      "cell_type": "code",
      "execution_count": 6,
      "id": "1114ef09-06c2-482d-80d8-40241d0d53ab",
      "metadata": {
        "id": "1114ef09-06c2-482d-80d8-40241d0d53ab"
      },
      "outputs": [],
      "source": [
        "df['src_len'] = [len(text.split()) for text in df.instruction]\n",
        "df['trg_len'] = [len(text.split()) for text in df.output]"
      ]
    },
    {
      "cell_type": "markdown",
      "id": "b893d623-a90f-4f9e-92e5-1e6debb77d70",
      "metadata": {
        "id": "b893d623-a90f-4f9e-92e5-1e6debb77d70"
      },
      "source": [
        "# <b>3 <span style='color:#9146ff'>|</span> EDA</b>"
      ]
    },
    {
      "cell_type": "markdown",
      "id": "48929e77-d479-44c9-9c28-6eb7a383e4a4",
      "metadata": {
        "id": "48929e77-d479-44c9-9c28-6eb7a383e4a4"
      },
      "source": [
        "# <b>4 <span style='color:#9146ff'>|</span> Data processing</b>"
      ]
    },
    {
      "cell_type": "markdown",
      "id": "72ac5d9e-5264-450b-85ef-26b4971b1874",
      "metadata": {
        "id": "72ac5d9e-5264-450b-85ef-26b4971b1874"
      },
      "source": [
        "### Define functions to treat dialog and answer columns"
      ]
    },
    {
      "cell_type": "code",
      "execution_count": 7,
      "id": "41d3f2b4-38b3-4e14-b2cc-a4c30a5db4bf",
      "metadata": {
        "id": "41d3f2b4-38b3-4e14-b2cc-a4c30a5db4bf"
      },
      "outputs": [],
      "source": [
        "def dialog_treatment(df,column):\n",
        "    df[column] = df[column].astype(str) # Convert all the values of the column to str type\n",
        "    df[column] = df[column].str.lower() # Transform the string values in lowercase\n",
        "    df[column] = df[column].apply(lambda x: re.sub(\"[^A-Za-z\\s]\",\"\",x)) # Replace any non-alphabetical characters with white space\n",
        "    df[column] = df[column].apply(lambda x: x.replace(\"\\s+\",\" \")) # Replace white spaces with a single white space\n",
        "    df[column] = df[column].apply(lambda x: \" \".join([word for word in x.split()])) ###'''\n",
        "    return df\n",
        "\n",
        "def answer_treatment(df,column):\n",
        "    df[column] = df[column].astype(str) # Convert all the values of the column to str type\n",
        "    df[column] = df[column].str.lower() # Transform the string values in lowercase\n",
        "    df[column] = df[column].apply(lambda x: re.sub(r'\\d','',x))# Remove all numeric characters\n",
        "    df[column] = df[column].apply(lambda x: x.replace(\"\\s+\",\" \")) # Replace white spaces with a single white space\n",
        "    df[column] = df[column].apply(lambda x: re.sub(r\"[-()&\\\"#/@;:<>{}`+=~|.!?,।]\", \"\", x)) # Remove specific punctuation and special characters from the values\n",
        "    df[column] = df[column].apply(lambda x: x.strip()) # Clean up text data  removing unwanted spaces'''\n",
        "    df[column] = \"<sos> \" + df[column] + \" <eos>\" # Add start of sequence and end of sequence to the string\n",
        "    return df"
      ]
    },
    {
      "cell_type": "markdown",
      "id": "1ce456da-8809-45e8-a736-c48fd3921f0f",
      "metadata": {
        "id": "1ce456da-8809-45e8-a736-c48fd3921f0f"
      },
      "source": [
        "### Treat columns"
      ]
    },
    {
      "cell_type": "code",
      "execution_count": 8,
      "id": "a084a880-a4a0-4a55-b6af-0444b99ff156",
      "metadata": {
        "id": "a084a880-a4a0-4a55-b6af-0444b99ff156"
      },
      "outputs": [],
      "source": [
        "df = dialog_treatment(df , 'instruction')\n",
        "df = answer_treatment(df , 'output')"
      ]
    },
    {
      "cell_type": "markdown",
      "id": "fb9db5ec-0a3e-4a87-9e63-dd653496eca4",
      "metadata": {
        "id": "fb9db5ec-0a3e-4a87-9e63-dd653496eca4"
      },
      "source": [
        "### Define the max and minimum length of a sentence in each column"
      ]
    },
    {
      "cell_type": "code",
      "execution_count": 9,
      "id": "4c661d0b-6b4b-4bec-a734-5b82c15808cd",
      "metadata": {
        "id": "4c661d0b-6b4b-4bec-a734-5b82c15808cd",
        "colab": {
          "base_uri": "https://localhost:8080/",
          "height": 424
        },
        "outputId": "eae35a30-3949-453f-c05b-8e02aa264049"
      },
      "outputs": [
        {
          "output_type": "execute_result",
          "data": {
            "text/plain": [
              "                                             instruction  \\\n",
              "99     do i have to pay a capital gains tax if i rebu...   \n",
              "187                   buying my first car out of college   \n",
              "242    what is the formula for determining estimated ...   \n",
              "280    what one bit of financial advice do you wish y...   \n",
              "306    stocks where can i find a list of bankruptdilu...   \n",
              "...                                                  ...   \n",
              "68891  convert the sentence he ran quickly to the sto...   \n",
              "68892  edit the sentence the alarm clock was ringing ...   \n",
              "68893  delete any words that are redundant in the sen...   \n",
              "68897  create a news headline for a story about a cel...   \n",
              "68906  complete the following sentence by inserting a...   \n",
              "\n",
              "                                                  output  src_len  trg_len  \n",
              "99        <sos> yes wash rules are only for losses <eos>       18        7  \n",
              "187    <sos> i've seen this approach to buyingfunding...        7       19  \n",
              "242    <sos> see this linki was also looking an answe...       18       19  \n",
              "280                      <sos> i wish i would have <eos>       16        5  \n",
              "306    <sos> the only recommendation i have is to try...       13       16  \n",
              "...                                                  ...      ...      ...  \n",
              "68891        <sos> he had run quickly to the store <eos>       14        7  \n",
              "68892  <sos> the alarm clock blared loudly at seven o...       13        8  \n",
              "68893            <sos> i bought items at the store <eos>       18        6  \n",
              "68897  <sos> tom hanks publishes new book exploring '...       15       13  \n",
              "68906  <sos> the sun was shining and the sky was clea...        8        9  \n",
              "\n",
              "[16217 rows x 4 columns]"
            ],
            "text/html": [
              "\n",
              "  <div id=\"df-e0805439-6fdf-4662-8a40-c8b08c88111a\" class=\"colab-df-container\">\n",
              "    <div>\n",
              "<style scoped>\n",
              "    .dataframe tbody tr th:only-of-type {\n",
              "        vertical-align: middle;\n",
              "    }\n",
              "\n",
              "    .dataframe tbody tr th {\n",
              "        vertical-align: top;\n",
              "    }\n",
              "\n",
              "    .dataframe thead th {\n",
              "        text-align: right;\n",
              "    }\n",
              "</style>\n",
              "<table border=\"1\" class=\"dataframe\">\n",
              "  <thead>\n",
              "    <tr style=\"text-align: right;\">\n",
              "      <th></th>\n",
              "      <th>instruction</th>\n",
              "      <th>output</th>\n",
              "      <th>src_len</th>\n",
              "      <th>trg_len</th>\n",
              "    </tr>\n",
              "  </thead>\n",
              "  <tbody>\n",
              "    <tr>\n",
              "      <th>99</th>\n",
              "      <td>do i have to pay a capital gains tax if i rebu...</td>\n",
              "      <td>&lt;sos&gt; yes wash rules are only for losses &lt;eos&gt;</td>\n",
              "      <td>18</td>\n",
              "      <td>7</td>\n",
              "    </tr>\n",
              "    <tr>\n",
              "      <th>187</th>\n",
              "      <td>buying my first car out of college</td>\n",
              "      <td>&lt;sos&gt; i've seen this approach to buyingfunding...</td>\n",
              "      <td>7</td>\n",
              "      <td>19</td>\n",
              "    </tr>\n",
              "    <tr>\n",
              "      <th>242</th>\n",
              "      <td>what is the formula for determining estimated ...</td>\n",
              "      <td>&lt;sos&gt; see this linki was also looking an answe...</td>\n",
              "      <td>18</td>\n",
              "      <td>19</td>\n",
              "    </tr>\n",
              "    <tr>\n",
              "      <th>280</th>\n",
              "      <td>what one bit of financial advice do you wish y...</td>\n",
              "      <td>&lt;sos&gt; i wish i would have &lt;eos&gt;</td>\n",
              "      <td>16</td>\n",
              "      <td>5</td>\n",
              "    </tr>\n",
              "    <tr>\n",
              "      <th>306</th>\n",
              "      <td>stocks where can i find a list of bankruptdilu...</td>\n",
              "      <td>&lt;sos&gt; the only recommendation i have is to try...</td>\n",
              "      <td>13</td>\n",
              "      <td>16</td>\n",
              "    </tr>\n",
              "    <tr>\n",
              "      <th>...</th>\n",
              "      <td>...</td>\n",
              "      <td>...</td>\n",
              "      <td>...</td>\n",
              "      <td>...</td>\n",
              "    </tr>\n",
              "    <tr>\n",
              "      <th>68891</th>\n",
              "      <td>convert the sentence he ran quickly to the sto...</td>\n",
              "      <td>&lt;sos&gt; he had run quickly to the store &lt;eos&gt;</td>\n",
              "      <td>14</td>\n",
              "      <td>7</td>\n",
              "    </tr>\n",
              "    <tr>\n",
              "      <th>68892</th>\n",
              "      <td>edit the sentence the alarm clock was ringing ...</td>\n",
              "      <td>&lt;sos&gt; the alarm clock blared loudly at seven o...</td>\n",
              "      <td>13</td>\n",
              "      <td>8</td>\n",
              "    </tr>\n",
              "    <tr>\n",
              "      <th>68893</th>\n",
              "      <td>delete any words that are redundant in the sen...</td>\n",
              "      <td>&lt;sos&gt; i bought items at the store &lt;eos&gt;</td>\n",
              "      <td>18</td>\n",
              "      <td>6</td>\n",
              "    </tr>\n",
              "    <tr>\n",
              "      <th>68897</th>\n",
              "      <td>create a news headline for a story about a cel...</td>\n",
              "      <td>&lt;sos&gt; tom hanks publishes new book exploring '...</td>\n",
              "      <td>15</td>\n",
              "      <td>13</td>\n",
              "    </tr>\n",
              "    <tr>\n",
              "      <th>68906</th>\n",
              "      <td>complete the following sentence by inserting a...</td>\n",
              "      <td>&lt;sos&gt; the sun was shining and the sky was clea...</td>\n",
              "      <td>8</td>\n",
              "      <td>9</td>\n",
              "    </tr>\n",
              "  </tbody>\n",
              "</table>\n",
              "<p>16217 rows × 4 columns</p>\n",
              "</div>\n",
              "    <div class=\"colab-df-buttons\">\n",
              "\n",
              "  <div class=\"colab-df-container\">\n",
              "    <button class=\"colab-df-convert\" onclick=\"convertToInteractive('df-e0805439-6fdf-4662-8a40-c8b08c88111a')\"\n",
              "            title=\"Convert this dataframe to an interactive table.\"\n",
              "            style=\"display:none;\">\n",
              "\n",
              "  <svg xmlns=\"http://www.w3.org/2000/svg\" height=\"24px\" viewBox=\"0 -960 960 960\">\n",
              "    <path d=\"M120-120v-720h720v720H120Zm60-500h600v-160H180v160Zm220 220h160v-160H400v160Zm0 220h160v-160H400v160ZM180-400h160v-160H180v160Zm440 0h160v-160H620v160ZM180-180h160v-160H180v160Zm440 0h160v-160H620v160Z\"/>\n",
              "  </svg>\n",
              "    </button>\n",
              "\n",
              "  <style>\n",
              "    .colab-df-container {\n",
              "      display:flex;\n",
              "      gap: 12px;\n",
              "    }\n",
              "\n",
              "    .colab-df-convert {\n",
              "      background-color: #E8F0FE;\n",
              "      border: none;\n",
              "      border-radius: 50%;\n",
              "      cursor: pointer;\n",
              "      display: none;\n",
              "      fill: #1967D2;\n",
              "      height: 32px;\n",
              "      padding: 0 0 0 0;\n",
              "      width: 32px;\n",
              "    }\n",
              "\n",
              "    .colab-df-convert:hover {\n",
              "      background-color: #E2EBFA;\n",
              "      box-shadow: 0px 1px 2px rgba(60, 64, 67, 0.3), 0px 1px 3px 1px rgba(60, 64, 67, 0.15);\n",
              "      fill: #174EA6;\n",
              "    }\n",
              "\n",
              "    .colab-df-buttons div {\n",
              "      margin-bottom: 4px;\n",
              "    }\n",
              "\n",
              "    [theme=dark] .colab-df-convert {\n",
              "      background-color: #3B4455;\n",
              "      fill: #D2E3FC;\n",
              "    }\n",
              "\n",
              "    [theme=dark] .colab-df-convert:hover {\n",
              "      background-color: #434B5C;\n",
              "      box-shadow: 0px 1px 3px 1px rgba(0, 0, 0, 0.15);\n",
              "      filter: drop-shadow(0px 1px 2px rgba(0, 0, 0, 0.3));\n",
              "      fill: #FFFFFF;\n",
              "    }\n",
              "  </style>\n",
              "\n",
              "    <script>\n",
              "      const buttonEl =\n",
              "        document.querySelector('#df-e0805439-6fdf-4662-8a40-c8b08c88111a button.colab-df-convert');\n",
              "      buttonEl.style.display =\n",
              "        google.colab.kernel.accessAllowed ? 'block' : 'none';\n",
              "\n",
              "      async function convertToInteractive(key) {\n",
              "        const element = document.querySelector('#df-e0805439-6fdf-4662-8a40-c8b08c88111a');\n",
              "        const dataTable =\n",
              "          await google.colab.kernel.invokeFunction('convertToInteractive',\n",
              "                                                    [key], {});\n",
              "        if (!dataTable) return;\n",
              "\n",
              "        const docLinkHtml = 'Like what you see? Visit the ' +\n",
              "          '<a target=\"_blank\" href=https://colab.research.google.com/notebooks/data_table.ipynb>data table notebook</a>'\n",
              "          + ' to learn more about interactive tables.';\n",
              "        element.innerHTML = '';\n",
              "        dataTable['output_type'] = 'display_data';\n",
              "        await google.colab.output.renderOutput(dataTable, element);\n",
              "        const docLink = document.createElement('div');\n",
              "        docLink.innerHTML = docLinkHtml;\n",
              "        element.appendChild(docLink);\n",
              "      }\n",
              "    </script>\n",
              "  </div>\n",
              "\n",
              "\n",
              "    <div id=\"df-b28a67a1-fa75-4052-b9cb-783904bf309b\">\n",
              "      <button class=\"colab-df-quickchart\" onclick=\"quickchart('df-b28a67a1-fa75-4052-b9cb-783904bf309b')\"\n",
              "                title=\"Suggest charts\"\n",
              "                style=\"display:none;\">\n",
              "\n",
              "<svg xmlns=\"http://www.w3.org/2000/svg\" height=\"24px\"viewBox=\"0 0 24 24\"\n",
              "     width=\"24px\">\n",
              "    <g>\n",
              "        <path d=\"M19 3H5c-1.1 0-2 .9-2 2v14c0 1.1.9 2 2 2h14c1.1 0 2-.9 2-2V5c0-1.1-.9-2-2-2zM9 17H7v-7h2v7zm4 0h-2V7h2v10zm4 0h-2v-4h2v4z\"/>\n",
              "    </g>\n",
              "</svg>\n",
              "      </button>\n",
              "\n",
              "<style>\n",
              "  .colab-df-quickchart {\n",
              "      --bg-color: #E8F0FE;\n",
              "      --fill-color: #1967D2;\n",
              "      --hover-bg-color: #E2EBFA;\n",
              "      --hover-fill-color: #174EA6;\n",
              "      --disabled-fill-color: #AAA;\n",
              "      --disabled-bg-color: #DDD;\n",
              "  }\n",
              "\n",
              "  [theme=dark] .colab-df-quickchart {\n",
              "      --bg-color: #3B4455;\n",
              "      --fill-color: #D2E3FC;\n",
              "      --hover-bg-color: #434B5C;\n",
              "      --hover-fill-color: #FFFFFF;\n",
              "      --disabled-bg-color: #3B4455;\n",
              "      --disabled-fill-color: #666;\n",
              "  }\n",
              "\n",
              "  .colab-df-quickchart {\n",
              "    background-color: var(--bg-color);\n",
              "    border: none;\n",
              "    border-radius: 50%;\n",
              "    cursor: pointer;\n",
              "    display: none;\n",
              "    fill: var(--fill-color);\n",
              "    height: 32px;\n",
              "    padding: 0;\n",
              "    width: 32px;\n",
              "  }\n",
              "\n",
              "  .colab-df-quickchart:hover {\n",
              "    background-color: var(--hover-bg-color);\n",
              "    box-shadow: 0 1px 2px rgba(60, 64, 67, 0.3), 0 1px 3px 1px rgba(60, 64, 67, 0.15);\n",
              "    fill: var(--button-hover-fill-color);\n",
              "  }\n",
              "\n",
              "  .colab-df-quickchart-complete:disabled,\n",
              "  .colab-df-quickchart-complete:disabled:hover {\n",
              "    background-color: var(--disabled-bg-color);\n",
              "    fill: var(--disabled-fill-color);\n",
              "    box-shadow: none;\n",
              "  }\n",
              "\n",
              "  .colab-df-spinner {\n",
              "    border: 2px solid var(--fill-color);\n",
              "    border-color: transparent;\n",
              "    border-bottom-color: var(--fill-color);\n",
              "    animation:\n",
              "      spin 1s steps(1) infinite;\n",
              "  }\n",
              "\n",
              "  @keyframes spin {\n",
              "    0% {\n",
              "      border-color: transparent;\n",
              "      border-bottom-color: var(--fill-color);\n",
              "      border-left-color: var(--fill-color);\n",
              "    }\n",
              "    20% {\n",
              "      border-color: transparent;\n",
              "      border-left-color: var(--fill-color);\n",
              "      border-top-color: var(--fill-color);\n",
              "    }\n",
              "    30% {\n",
              "      border-color: transparent;\n",
              "      border-left-color: var(--fill-color);\n",
              "      border-top-color: var(--fill-color);\n",
              "      border-right-color: var(--fill-color);\n",
              "    }\n",
              "    40% {\n",
              "      border-color: transparent;\n",
              "      border-right-color: var(--fill-color);\n",
              "      border-top-color: var(--fill-color);\n",
              "    }\n",
              "    60% {\n",
              "      border-color: transparent;\n",
              "      border-right-color: var(--fill-color);\n",
              "    }\n",
              "    80% {\n",
              "      border-color: transparent;\n",
              "      border-right-color: var(--fill-color);\n",
              "      border-bottom-color: var(--fill-color);\n",
              "    }\n",
              "    90% {\n",
              "      border-color: transparent;\n",
              "      border-bottom-color: var(--fill-color);\n",
              "    }\n",
              "  }\n",
              "</style>\n",
              "\n",
              "      <script>\n",
              "        async function quickchart(key) {\n",
              "          const quickchartButtonEl =\n",
              "            document.querySelector('#' + key + ' button');\n",
              "          quickchartButtonEl.disabled = true;  // To prevent multiple clicks.\n",
              "          quickchartButtonEl.classList.add('colab-df-spinner');\n",
              "          try {\n",
              "            const charts = await google.colab.kernel.invokeFunction(\n",
              "                'suggestCharts', [key], {});\n",
              "          } catch (error) {\n",
              "            console.error('Error during call to suggestCharts:', error);\n",
              "          }\n",
              "          quickchartButtonEl.classList.remove('colab-df-spinner');\n",
              "          quickchartButtonEl.classList.add('colab-df-quickchart-complete');\n",
              "        }\n",
              "        (() => {\n",
              "          let quickchartButtonEl =\n",
              "            document.querySelector('#df-b28a67a1-fa75-4052-b9cb-783904bf309b button');\n",
              "          quickchartButtonEl.style.display =\n",
              "            google.colab.kernel.accessAllowed ? 'block' : 'none';\n",
              "        })();\n",
              "      </script>\n",
              "    </div>\n",
              "\n",
              "  <div id=\"id_855d72cf-2367-48c3-9d82-ef20b82884fd\">\n",
              "    <style>\n",
              "      .colab-df-generate {\n",
              "        background-color: #E8F0FE;\n",
              "        border: none;\n",
              "        border-radius: 50%;\n",
              "        cursor: pointer;\n",
              "        display: none;\n",
              "        fill: #1967D2;\n",
              "        height: 32px;\n",
              "        padding: 0 0 0 0;\n",
              "        width: 32px;\n",
              "      }\n",
              "\n",
              "      .colab-df-generate:hover {\n",
              "        background-color: #E2EBFA;\n",
              "        box-shadow: 0px 1px 2px rgba(60, 64, 67, 0.3), 0px 1px 3px 1px rgba(60, 64, 67, 0.15);\n",
              "        fill: #174EA6;\n",
              "      }\n",
              "\n",
              "      [theme=dark] .colab-df-generate {\n",
              "        background-color: #3B4455;\n",
              "        fill: #D2E3FC;\n",
              "      }\n",
              "\n",
              "      [theme=dark] .colab-df-generate:hover {\n",
              "        background-color: #434B5C;\n",
              "        box-shadow: 0px 1px 3px 1px rgba(0, 0, 0, 0.15);\n",
              "        filter: drop-shadow(0px 1px 2px rgba(0, 0, 0, 0.3));\n",
              "        fill: #FFFFFF;\n",
              "      }\n",
              "    </style>\n",
              "    <button class=\"colab-df-generate\" onclick=\"generateWithVariable('df_trial')\"\n",
              "            title=\"Generate code using this dataframe.\"\n",
              "            style=\"display:none;\">\n",
              "\n",
              "  <svg xmlns=\"http://www.w3.org/2000/svg\" height=\"24px\"viewBox=\"0 0 24 24\"\n",
              "       width=\"24px\">\n",
              "    <path d=\"M7,19H8.4L18.45,9,17,7.55,7,17.6ZM5,21V16.75L18.45,3.32a2,2,0,0,1,2.83,0l1.4,1.43a1.91,1.91,0,0,1,.58,1.4,1.91,1.91,0,0,1-.58,1.4L9.25,21ZM18.45,9,17,7.55Zm-12,3A5.31,5.31,0,0,0,4.9,8.1,5.31,5.31,0,0,0,1,6.5,5.31,5.31,0,0,0,4.9,4.9,5.31,5.31,0,0,0,6.5,1,5.31,5.31,0,0,0,8.1,4.9,5.31,5.31,0,0,0,12,6.5,5.46,5.46,0,0,0,6.5,12Z\"/>\n",
              "  </svg>\n",
              "    </button>\n",
              "    <script>\n",
              "      (() => {\n",
              "      const buttonEl =\n",
              "        document.querySelector('#id_855d72cf-2367-48c3-9d82-ef20b82884fd button.colab-df-generate');\n",
              "      buttonEl.style.display =\n",
              "        google.colab.kernel.accessAllowed ? 'block' : 'none';\n",
              "\n",
              "      buttonEl.onclick = () => {\n",
              "        google.colab.notebook.generateWithVariable('df_trial');\n",
              "      }\n",
              "      })();\n",
              "    </script>\n",
              "  </div>\n",
              "\n",
              "    </div>\n",
              "  </div>\n"
            ],
            "application/vnd.google.colaboratory.intrinsic+json": {
              "type": "dataframe",
              "variable_name": "df_trial",
              "summary": "{\n  \"name\": \"df_trial\",\n  \"rows\": 16217,\n  \"fields\": [\n    {\n      \"column\": \"instruction\",\n      \"properties\": {\n        \"dtype\": \"string\",\n        \"num_unique_values\": 16139,\n        \"samples\": [\n          \"identify the type of emotional support given to the speaker\",\n          \"give me an example of irony\",\n          \"represent this information in a chart\"\n        ],\n        \"semantic_type\": \"\",\n        \"description\": \"\"\n      }\n    },\n    {\n      \"column\": \"output\",\n      \"properties\": {\n        \"dtype\": \"string\",\n        \"num_unique_values\": 15801,\n        \"samples\": [\n          \"<sos> a green stylized leaf logo with the words organicsinc written in an italic font in the center <eos>\",\n          \"<sos> [     ] <eos>\",\n          \"<sos> she toiled indefatigably on the task <eos>\"\n        ],\n        \"semantic_type\": \"\",\n        \"description\": \"\"\n      }\n    },\n    {\n      \"column\": \"src_len\",\n      \"properties\": {\n        \"dtype\": \"number\",\n        \"std\": 3,\n        \"min\": 2,\n        \"max\": 51,\n        \"num_unique_values\": 39,\n        \"samples\": [\n          36,\n          37,\n          14\n        ],\n        \"semantic_type\": \"\",\n        \"description\": \"\"\n      }\n    },\n    {\n      \"column\": \"trg_len\",\n      \"properties\": {\n        \"dtype\": \"number\",\n        \"std\": 4,\n        \"min\": 5,\n        \"max\": 19,\n        \"num_unique_values\": 15,\n        \"samples\": [\n          15,\n          6,\n          7\n        ],\n        \"semantic_type\": \"\",\n        \"description\": \"\"\n      }\n    }\n  ]\n}"
            }
          },
          "metadata": {},
          "execution_count": 9
        }
      ],
      "source": [
        "df_trial = df[~(df['src_len'] < 5) & ~(df['src_len'] > 19)]\n",
        "df_trial = df[~(df['trg_len'] < 5) & ~(df['trg_len'] > 19)]\n",
        "\n",
        "df_trial"
      ]
    },
    {
      "cell_type": "code",
      "source": [
        "df = df_trial\n"
      ],
      "metadata": {
        "id": "dQSVOjhuIcl7"
      },
      "id": "dQSVOjhuIcl7",
      "execution_count": 10,
      "outputs": []
    },
    {
      "cell_type": "code",
      "source": [
        "df.head(100)"
      ],
      "metadata": {
        "colab": {
          "base_uri": "https://localhost:8080/",
          "height": 424
        },
        "id": "Ek2qDNOtW63S",
        "outputId": "bcff0431-6367-4d92-a075-d0dc90a25a35"
      },
      "id": "Ek2qDNOtW63S",
      "execution_count": 11,
      "outputs": [
        {
          "output_type": "execute_result",
          "data": {
            "text/plain": [
              "                                            instruction  \\\n",
              "99    do i have to pay a capital gains tax if i rebu...   \n",
              "187                  buying my first car out of college   \n",
              "242   what is the formula for determining estimated ...   \n",
              "280   what one bit of financial advice do you wish y...   \n",
              "306   stocks where can i find a list of bankruptdilu...   \n",
              "...                                                 ...   \n",
              "4722            what percent of my salary should i save   \n",
              "4735  is there a good forum where i can discuss indi...   \n",
              "4765       repaying debt and saving difficult situation   \n",
              "4777  where can publicly traded profits go but to sh...   \n",
              "4795  is it worth it to reconcile my checkingsavings...   \n",
              "\n",
              "                                                 output  src_len  trg_len  \n",
              "99       <sos> yes wash rules are only for losses <eos>       18        7  \n",
              "187   <sos> i've seen this approach to buyingfunding...        7       19  \n",
              "242   <sos> see this linki was also looking an answe...       18       19  \n",
              "280                     <sos> i wish i would have <eos>       16        5  \n",
              "306   <sos> the only recommendation i have is to try...       13       16  \n",
              "...                                                 ...      ...      ...  \n",
              "4722  <sos> a single percentage figure makes little ...        8       18  \n",
              "4735  <sos> i use the forum seeking alpha httpseekin...       12        7  \n",
              "4765  <sos> i see one clear thing to help she lives ...        7       18  \n",
              "4777  <sos> where can publicly traded profits go but...       11       18  \n",
              "4795  <sos> banks make mistakes  reconciling your ac...       11       17  \n",
              "\n",
              "[100 rows x 4 columns]"
            ],
            "text/html": [
              "\n",
              "  <div id=\"df-3d66c124-db30-40aa-82cc-532b85aa529a\" class=\"colab-df-container\">\n",
              "    <div>\n",
              "<style scoped>\n",
              "    .dataframe tbody tr th:only-of-type {\n",
              "        vertical-align: middle;\n",
              "    }\n",
              "\n",
              "    .dataframe tbody tr th {\n",
              "        vertical-align: top;\n",
              "    }\n",
              "\n",
              "    .dataframe thead th {\n",
              "        text-align: right;\n",
              "    }\n",
              "</style>\n",
              "<table border=\"1\" class=\"dataframe\">\n",
              "  <thead>\n",
              "    <tr style=\"text-align: right;\">\n",
              "      <th></th>\n",
              "      <th>instruction</th>\n",
              "      <th>output</th>\n",
              "      <th>src_len</th>\n",
              "      <th>trg_len</th>\n",
              "    </tr>\n",
              "  </thead>\n",
              "  <tbody>\n",
              "    <tr>\n",
              "      <th>99</th>\n",
              "      <td>do i have to pay a capital gains tax if i rebu...</td>\n",
              "      <td>&lt;sos&gt; yes wash rules are only for losses &lt;eos&gt;</td>\n",
              "      <td>18</td>\n",
              "      <td>7</td>\n",
              "    </tr>\n",
              "    <tr>\n",
              "      <th>187</th>\n",
              "      <td>buying my first car out of college</td>\n",
              "      <td>&lt;sos&gt; i've seen this approach to buyingfunding...</td>\n",
              "      <td>7</td>\n",
              "      <td>19</td>\n",
              "    </tr>\n",
              "    <tr>\n",
              "      <th>242</th>\n",
              "      <td>what is the formula for determining estimated ...</td>\n",
              "      <td>&lt;sos&gt; see this linki was also looking an answe...</td>\n",
              "      <td>18</td>\n",
              "      <td>19</td>\n",
              "    </tr>\n",
              "    <tr>\n",
              "      <th>280</th>\n",
              "      <td>what one bit of financial advice do you wish y...</td>\n",
              "      <td>&lt;sos&gt; i wish i would have &lt;eos&gt;</td>\n",
              "      <td>16</td>\n",
              "      <td>5</td>\n",
              "    </tr>\n",
              "    <tr>\n",
              "      <th>306</th>\n",
              "      <td>stocks where can i find a list of bankruptdilu...</td>\n",
              "      <td>&lt;sos&gt; the only recommendation i have is to try...</td>\n",
              "      <td>13</td>\n",
              "      <td>16</td>\n",
              "    </tr>\n",
              "    <tr>\n",
              "      <th>...</th>\n",
              "      <td>...</td>\n",
              "      <td>...</td>\n",
              "      <td>...</td>\n",
              "      <td>...</td>\n",
              "    </tr>\n",
              "    <tr>\n",
              "      <th>4722</th>\n",
              "      <td>what percent of my salary should i save</td>\n",
              "      <td>&lt;sos&gt; a single percentage figure makes little ...</td>\n",
              "      <td>8</td>\n",
              "      <td>18</td>\n",
              "    </tr>\n",
              "    <tr>\n",
              "      <th>4735</th>\n",
              "      <td>is there a good forum where i can discuss indi...</td>\n",
              "      <td>&lt;sos&gt; i use the forum seeking alpha httpseekin...</td>\n",
              "      <td>12</td>\n",
              "      <td>7</td>\n",
              "    </tr>\n",
              "    <tr>\n",
              "      <th>4765</th>\n",
              "      <td>repaying debt and saving difficult situation</td>\n",
              "      <td>&lt;sos&gt; i see one clear thing to help she lives ...</td>\n",
              "      <td>7</td>\n",
              "      <td>18</td>\n",
              "    </tr>\n",
              "    <tr>\n",
              "      <th>4777</th>\n",
              "      <td>where can publicly traded profits go but to sh...</td>\n",
              "      <td>&lt;sos&gt; where can publicly traded profits go but...</td>\n",
              "      <td>11</td>\n",
              "      <td>18</td>\n",
              "    </tr>\n",
              "    <tr>\n",
              "      <th>4795</th>\n",
              "      <td>is it worth it to reconcile my checkingsavings...</td>\n",
              "      <td>&lt;sos&gt; banks make mistakes  reconciling your ac...</td>\n",
              "      <td>11</td>\n",
              "      <td>17</td>\n",
              "    </tr>\n",
              "  </tbody>\n",
              "</table>\n",
              "<p>100 rows × 4 columns</p>\n",
              "</div>\n",
              "    <div class=\"colab-df-buttons\">\n",
              "\n",
              "  <div class=\"colab-df-container\">\n",
              "    <button class=\"colab-df-convert\" onclick=\"convertToInteractive('df-3d66c124-db30-40aa-82cc-532b85aa529a')\"\n",
              "            title=\"Convert this dataframe to an interactive table.\"\n",
              "            style=\"display:none;\">\n",
              "\n",
              "  <svg xmlns=\"http://www.w3.org/2000/svg\" height=\"24px\" viewBox=\"0 -960 960 960\">\n",
              "    <path d=\"M120-120v-720h720v720H120Zm60-500h600v-160H180v160Zm220 220h160v-160H400v160Zm0 220h160v-160H400v160ZM180-400h160v-160H180v160Zm440 0h160v-160H620v160ZM180-180h160v-160H180v160Zm440 0h160v-160H620v160Z\"/>\n",
              "  </svg>\n",
              "    </button>\n",
              "\n",
              "  <style>\n",
              "    .colab-df-container {\n",
              "      display:flex;\n",
              "      gap: 12px;\n",
              "    }\n",
              "\n",
              "    .colab-df-convert {\n",
              "      background-color: #E8F0FE;\n",
              "      border: none;\n",
              "      border-radius: 50%;\n",
              "      cursor: pointer;\n",
              "      display: none;\n",
              "      fill: #1967D2;\n",
              "      height: 32px;\n",
              "      padding: 0 0 0 0;\n",
              "      width: 32px;\n",
              "    }\n",
              "\n",
              "    .colab-df-convert:hover {\n",
              "      background-color: #E2EBFA;\n",
              "      box-shadow: 0px 1px 2px rgba(60, 64, 67, 0.3), 0px 1px 3px 1px rgba(60, 64, 67, 0.15);\n",
              "      fill: #174EA6;\n",
              "    }\n",
              "\n",
              "    .colab-df-buttons div {\n",
              "      margin-bottom: 4px;\n",
              "    }\n",
              "\n",
              "    [theme=dark] .colab-df-convert {\n",
              "      background-color: #3B4455;\n",
              "      fill: #D2E3FC;\n",
              "    }\n",
              "\n",
              "    [theme=dark] .colab-df-convert:hover {\n",
              "      background-color: #434B5C;\n",
              "      box-shadow: 0px 1px 3px 1px rgba(0, 0, 0, 0.15);\n",
              "      filter: drop-shadow(0px 1px 2px rgba(0, 0, 0, 0.3));\n",
              "      fill: #FFFFFF;\n",
              "    }\n",
              "  </style>\n",
              "\n",
              "    <script>\n",
              "      const buttonEl =\n",
              "        document.querySelector('#df-3d66c124-db30-40aa-82cc-532b85aa529a button.colab-df-convert');\n",
              "      buttonEl.style.display =\n",
              "        google.colab.kernel.accessAllowed ? 'block' : 'none';\n",
              "\n",
              "      async function convertToInteractive(key) {\n",
              "        const element = document.querySelector('#df-3d66c124-db30-40aa-82cc-532b85aa529a');\n",
              "        const dataTable =\n",
              "          await google.colab.kernel.invokeFunction('convertToInteractive',\n",
              "                                                    [key], {});\n",
              "        if (!dataTable) return;\n",
              "\n",
              "        const docLinkHtml = 'Like what you see? Visit the ' +\n",
              "          '<a target=\"_blank\" href=https://colab.research.google.com/notebooks/data_table.ipynb>data table notebook</a>'\n",
              "          + ' to learn more about interactive tables.';\n",
              "        element.innerHTML = '';\n",
              "        dataTable['output_type'] = 'display_data';\n",
              "        await google.colab.output.renderOutput(dataTable, element);\n",
              "        const docLink = document.createElement('div');\n",
              "        docLink.innerHTML = docLinkHtml;\n",
              "        element.appendChild(docLink);\n",
              "      }\n",
              "    </script>\n",
              "  </div>\n",
              "\n",
              "\n",
              "    <div id=\"df-abc33f55-673f-4abc-a080-d50f1b42cb7b\">\n",
              "      <button class=\"colab-df-quickchart\" onclick=\"quickchart('df-abc33f55-673f-4abc-a080-d50f1b42cb7b')\"\n",
              "                title=\"Suggest charts\"\n",
              "                style=\"display:none;\">\n",
              "\n",
              "<svg xmlns=\"http://www.w3.org/2000/svg\" height=\"24px\"viewBox=\"0 0 24 24\"\n",
              "     width=\"24px\">\n",
              "    <g>\n",
              "        <path d=\"M19 3H5c-1.1 0-2 .9-2 2v14c0 1.1.9 2 2 2h14c1.1 0 2-.9 2-2V5c0-1.1-.9-2-2-2zM9 17H7v-7h2v7zm4 0h-2V7h2v10zm4 0h-2v-4h2v4z\"/>\n",
              "    </g>\n",
              "</svg>\n",
              "      </button>\n",
              "\n",
              "<style>\n",
              "  .colab-df-quickchart {\n",
              "      --bg-color: #E8F0FE;\n",
              "      --fill-color: #1967D2;\n",
              "      --hover-bg-color: #E2EBFA;\n",
              "      --hover-fill-color: #174EA6;\n",
              "      --disabled-fill-color: #AAA;\n",
              "      --disabled-bg-color: #DDD;\n",
              "  }\n",
              "\n",
              "  [theme=dark] .colab-df-quickchart {\n",
              "      --bg-color: #3B4455;\n",
              "      --fill-color: #D2E3FC;\n",
              "      --hover-bg-color: #434B5C;\n",
              "      --hover-fill-color: #FFFFFF;\n",
              "      --disabled-bg-color: #3B4455;\n",
              "      --disabled-fill-color: #666;\n",
              "  }\n",
              "\n",
              "  .colab-df-quickchart {\n",
              "    background-color: var(--bg-color);\n",
              "    border: none;\n",
              "    border-radius: 50%;\n",
              "    cursor: pointer;\n",
              "    display: none;\n",
              "    fill: var(--fill-color);\n",
              "    height: 32px;\n",
              "    padding: 0;\n",
              "    width: 32px;\n",
              "  }\n",
              "\n",
              "  .colab-df-quickchart:hover {\n",
              "    background-color: var(--hover-bg-color);\n",
              "    box-shadow: 0 1px 2px rgba(60, 64, 67, 0.3), 0 1px 3px 1px rgba(60, 64, 67, 0.15);\n",
              "    fill: var(--button-hover-fill-color);\n",
              "  }\n",
              "\n",
              "  .colab-df-quickchart-complete:disabled,\n",
              "  .colab-df-quickchart-complete:disabled:hover {\n",
              "    background-color: var(--disabled-bg-color);\n",
              "    fill: var(--disabled-fill-color);\n",
              "    box-shadow: none;\n",
              "  }\n",
              "\n",
              "  .colab-df-spinner {\n",
              "    border: 2px solid var(--fill-color);\n",
              "    border-color: transparent;\n",
              "    border-bottom-color: var(--fill-color);\n",
              "    animation:\n",
              "      spin 1s steps(1) infinite;\n",
              "  }\n",
              "\n",
              "  @keyframes spin {\n",
              "    0% {\n",
              "      border-color: transparent;\n",
              "      border-bottom-color: var(--fill-color);\n",
              "      border-left-color: var(--fill-color);\n",
              "    }\n",
              "    20% {\n",
              "      border-color: transparent;\n",
              "      border-left-color: var(--fill-color);\n",
              "      border-top-color: var(--fill-color);\n",
              "    }\n",
              "    30% {\n",
              "      border-color: transparent;\n",
              "      border-left-color: var(--fill-color);\n",
              "      border-top-color: var(--fill-color);\n",
              "      border-right-color: var(--fill-color);\n",
              "    }\n",
              "    40% {\n",
              "      border-color: transparent;\n",
              "      border-right-color: var(--fill-color);\n",
              "      border-top-color: var(--fill-color);\n",
              "    }\n",
              "    60% {\n",
              "      border-color: transparent;\n",
              "      border-right-color: var(--fill-color);\n",
              "    }\n",
              "    80% {\n",
              "      border-color: transparent;\n",
              "      border-right-color: var(--fill-color);\n",
              "      border-bottom-color: var(--fill-color);\n",
              "    }\n",
              "    90% {\n",
              "      border-color: transparent;\n",
              "      border-bottom-color: var(--fill-color);\n",
              "    }\n",
              "  }\n",
              "</style>\n",
              "\n",
              "      <script>\n",
              "        async function quickchart(key) {\n",
              "          const quickchartButtonEl =\n",
              "            document.querySelector('#' + key + ' button');\n",
              "          quickchartButtonEl.disabled = true;  // To prevent multiple clicks.\n",
              "          quickchartButtonEl.classList.add('colab-df-spinner');\n",
              "          try {\n",
              "            const charts = await google.colab.kernel.invokeFunction(\n",
              "                'suggestCharts', [key], {});\n",
              "          } catch (error) {\n",
              "            console.error('Error during call to suggestCharts:', error);\n",
              "          }\n",
              "          quickchartButtonEl.classList.remove('colab-df-spinner');\n",
              "          quickchartButtonEl.classList.add('colab-df-quickchart-complete');\n",
              "        }\n",
              "        (() => {\n",
              "          let quickchartButtonEl =\n",
              "            document.querySelector('#df-abc33f55-673f-4abc-a080-d50f1b42cb7b button');\n",
              "          quickchartButtonEl.style.display =\n",
              "            google.colab.kernel.accessAllowed ? 'block' : 'none';\n",
              "        })();\n",
              "      </script>\n",
              "    </div>\n",
              "\n",
              "    </div>\n",
              "  </div>\n"
            ],
            "application/vnd.google.colaboratory.intrinsic+json": {
              "type": "dataframe",
              "variable_name": "df",
              "summary": "{\n  \"name\": \"df\",\n  \"rows\": 16217,\n  \"fields\": [\n    {\n      \"column\": \"instruction\",\n      \"properties\": {\n        \"dtype\": \"string\",\n        \"num_unique_values\": 16139,\n        \"samples\": [\n          \"identify the type of emotional support given to the speaker\",\n          \"give me an example of irony\",\n          \"represent this information in a chart\"\n        ],\n        \"semantic_type\": \"\",\n        \"description\": \"\"\n      }\n    },\n    {\n      \"column\": \"output\",\n      \"properties\": {\n        \"dtype\": \"string\",\n        \"num_unique_values\": 15801,\n        \"samples\": [\n          \"<sos> a green stylized leaf logo with the words organicsinc written in an italic font in the center <eos>\",\n          \"<sos> [     ] <eos>\",\n          \"<sos> she toiled indefatigably on the task <eos>\"\n        ],\n        \"semantic_type\": \"\",\n        \"description\": \"\"\n      }\n    },\n    {\n      \"column\": \"src_len\",\n      \"properties\": {\n        \"dtype\": \"number\",\n        \"std\": 3,\n        \"min\": 2,\n        \"max\": 51,\n        \"num_unique_values\": 39,\n        \"samples\": [\n          36,\n          37,\n          14\n        ],\n        \"semantic_type\": \"\",\n        \"description\": \"\"\n      }\n    },\n    {\n      \"column\": \"trg_len\",\n      \"properties\": {\n        \"dtype\": \"number\",\n        \"std\": 4,\n        \"min\": 5,\n        \"max\": 19,\n        \"num_unique_values\": 15,\n        \"samples\": [\n          15,\n          6,\n          7\n        ],\n        \"semantic_type\": \"\",\n        \"description\": \"\"\n      }\n    }\n  ]\n}"
            }
          },
          "metadata": {},
          "execution_count": 11
        }
      ]
    },
    {
      "cell_type": "code",
      "execution_count": 12,
      "id": "425cb233-50eb-48c3-a8d8-4faaf69e34fb",
      "metadata": {
        "id": "425cb233-50eb-48c3-a8d8-4faaf69e34fb",
        "colab": {
          "base_uri": "https://localhost:8080/"
        },
        "outputId": "7805fa5d-ce13-4c31-9140-0e1da298b91f"
      },
      "outputs": [
        {
          "output_type": "stream",
          "name": "stdout",
          "text": [
            "51\n",
            "19\n"
          ]
        }
      ],
      "source": [
        "src_max_lenght_sentence = np.max(df['src_len'])\n",
        "trg_max_lenght_sentence = np.max(df['trg_len'])\n",
        "\n",
        "print(src_max_lenght_sentence)\n",
        "print(trg_max_lenght_sentence)"
      ]
    },
    {
      "cell_type": "markdown",
      "id": "aba809b9-0ce2-46c0-925c-537c5f33714f",
      "metadata": {
        "id": "aba809b9-0ce2-46c0-925c-537c5f33714f"
      },
      "source": [
        " ## <b>4.1 <span style='color:#9146ff'>|</span> Vectorization </b>\n",
        "\n",
        " https://www.geeksforgeeks.org/vectorization-techniques-in-nlp/\n",
        "\n",
        " It's the process to convert text data into numerical vectors, that can be understood and processed by ML models\n",
        "\n",
        " Traditional Tecniques: Bag of Words (BoW), Term Frequency-Inverse Document Frequency (TF-IDF), and Count Vectorizer."
      ]
    },
    {
      "cell_type": "code",
      "execution_count": 13,
      "id": "01923eef-8090-4075-8b79-0c28f22a9c0b",
      "metadata": {
        "id": "01923eef-8090-4075-8b79-0c28f22a9c0b"
      },
      "outputs": [],
      "source": [
        "import numpy as np\n",
        "from collections import Counter\n",
        "\n",
        "class SimpleTokenizer:\n",
        "    def __init__(self, num_words=None, oov_token=\"<OOV>\"):\n",
        "        self.num_words = num_words\n",
        "        self.oov_token = oov_token\n",
        "        self.word_counts = Counter()\n",
        "        self.word_index = {}\n",
        "        self.index_word = {}\n",
        "        self.fitted = False\n",
        "\n",
        "    def fit_on_texts(self, texts):\n",
        "        for text in texts:\n",
        "            self.word_counts.update(text.split())\n",
        "\n",
        "        # Include <pad> and <OOV>\n",
        "        vocab = [self.oov_token] + [word for word, _ in self.word_counts.most_common(self.num_words)]\n",
        "        vocab = ['<pad>'] + vocab\n",
        "\n",
        "        self.word_index = {word: idx for idx, word in enumerate(vocab)}\n",
        "        self.index_word = {idx: word for word, idx in self.word_index.items()}\n",
        "        self.fitted = True\n",
        "\n",
        "    def texts_to_sequences(self, texts):\n",
        "        if not self.fitted:\n",
        "            raise ValueError(\"Tokenizer has not been fitted yet.\")\n",
        "        sequences = []\n",
        "        for text in texts:\n",
        "            sequence = [self.word_index.get(word, self.word_index[self.oov_token]) for word in text.split()]\n",
        "            sequences.append(sequence)\n",
        "        return sequences\n",
        "\n",
        "def Vectorization(column, max_sequence_length):\n",
        "    global df\n",
        "\n",
        "    sentences = df[column].tolist()\n",
        "\n",
        "    tokenizer = SimpleTokenizer()\n",
        "    tokenizer.fit_on_texts(sentences)\n",
        "\n",
        "    sequences = tokenizer.texts_to_sequences(sentences)\n",
        "\n",
        "    pad_sequen = []\n",
        "    for seq in sequences:\n",
        "        if len(seq) < max_sequence_length:\n",
        "            seq = seq + [tokenizer.word_index['<pad>']] * (max_sequence_length - len(seq))\n",
        "        else:\n",
        "            seq = seq[:max_sequence_length]\n",
        "        pad_sequen.append(seq)\n",
        "\n",
        "    pad_sequen = np.array(pad_sequen, dtype=np.int32)\n",
        "\n",
        "    print(pad_sequen)\n",
        "    print(tokenizer.word_index)\n",
        "\n",
        "    return pad_sequen, tokenizer"
      ]
    },
    {
      "cell_type": "code",
      "execution_count": 14,
      "id": "72e143db-a4d1-4523-9c13-c30614a17113",
      "metadata": {
        "id": "72e143db-a4d1-4523-9c13-c30614a17113",
        "outputId": "217f511c-407a-4840-92bd-9ac0fa9ede71",
        "colab": {
          "base_uri": "https://localhost:8080/"
        }
      },
      "outputs": [
        {
          "output_type": "stream",
          "name": "stdout",
          "text": [
            "[[ 165   50  108 ...    0    0    0]\n",
            " [1012  159  210 ...    0    0    0]\n",
            " [  27   14    2 ...    0    0    0]\n",
            " ...\n",
            " [ 311  118   19 ...    0    0    0]\n",
            " [  22    3  133 ...    0    0    0]\n",
            " [ 141    2    7 ...    0    0    0]]\n",
            "{'<pad>': 0, '<OOV>': 1, 'the': 2, 'a': 3, 'of': 4, 'sentence': 5, 'to': 6, 'following': 7, 'in': 8, 'given': 9, 'that': 10, 'for': 11, 'and': 12, 'an': 13, 'is': 14, 'generate': 15, 'this': 16, 'with': 17, 'it': 18, 'words': 19, 'list': 20, 'rewrite': 21, 'create': 22, 'name': 23, 'two': 24, 'using': 25, 'find': 26, 'what': 27, 'make': 28, 'into': 29, 'word': 30, 'from': 31, 'identify': 32, 'write': 33, 'edit': 34, 'about': 35, 'more': 36, 'text': 37, 'three': 38, 'are': 39, 'on': 40, 'or': 41, 'five': 42, 'as': 43, 'one': 44, 'classify': 45, 'by': 46, 'correct': 47, 'phrase': 48, 'statement': 49, 'i': 50, 'question': 51, 'new': 52, 'construct': 53, 'calculate': 54, 'meaning': 55, 'which': 56, 'you': 57, 'title': 58, 'numbers': 59, 'how': 60, 'article': 61, 'up': 62, 'appropriate': 63, 'describe': 64, 'example': 65, 'be': 66, 'so': 67, 'can': 68, 'convert': 69, 'items': 70, 'provide': 71, 'its': 72, 'number': 73, 'headline': 74, 'type': 75, 'was': 76, 'input': 77, 'all': 78, 'different': 79, 'sentences': 80, 'change': 81, 'suggest': 82, 'output': 83, 'data': 84, 'give': 85, 'determine': 86, 'used': 87, 'come': 88, 'verb': 89, 'form': 90, 'order': 91, 'same': 92, 'most': 93, 'code': 94, 'query': 95, 'use': 96, 'adjectives': 97, 'categorize': 98, 'way': 99, 'add': 100, 'has': 101, 'their': 102, 'tense': 103, 'me': 104, 'if': 105, 'below': 106, 'each': 107, 'have': 108, 'based': 109, 'person': 110, 'equation': 111, 'concise': 112, 'at': 113, 'take': 114, 'language': 115, 'who': 116, 'related': 117, 'any': 118, 'countries': 119, 'grammar': 120, 'out': 121, 'metaphor': 122, 'between': 123, 'topic': 124, 'voice': 125, 'product': 126, 'set': 127, 'replace': 128, 'these': 129, 'them': 130, 'haiku': 131, 'would': 132, 'news': 133, 'poem': 134, 'animals': 135, 'he': 136, 'slogan': 137, 'creative': 138, 'story': 139, 'provided': 140, 'complete': 141, 'function': 142, 'information': 143, 'common': 144, 'grammatically': 145, 'average': 146, 'x': 147, 'many': 148, 'either': 149, 'area': 150, 'not': 151, 'movie': 152, 'line': 153, 'but': 154, 'book': 155, 'passive': 156, 'english': 157, 'positive': 158, 'my': 159, 'uses': 160, 'without': 161, 'speech': 162, 'compose': 163, 'passage': 164, 'do': 165, 'formal': 166, 'reword': 167, 'rearrange': 168, 'time': 169, 'according': 170, 'answer': 171, 'paragraph': 172, 'she': 173, 'sort': 174, 'elements': 175, 'us': 176, 'than': 177, 'tell': 178, 'select': 179, 'people': 180, 'examples': 181, 'should': 182, 'popular': 183, 'structure': 184, 'table': 185, 'your': 186, 'types': 187, 'paraphrase': 188, 'main': 189, 'company': 190, 'value': 191, 'world': 192, 'store': 193, 'expression': 194, 'customer': 195, 'translate': 196, 'four': 197, 'will': 198, 'cost': 199, 'item': 200, 'past': 201, 'price': 202, 'remove': 203, 'when': 204, 'does': 205, 'triangle': 206, 'string': 207, 'suitable': 208, 'present': 209, 'first': 210, 'array': 211, 'best': 212, 'active': 213, 'description': 214, 'total': 215, 'summarize': 216, 'describes': 217, 'categories': 218, 'famous': 219, 'contains': 220, 'synonyms': 221, 'tweet': 222, 'punctuation': 223, 'point': 224, 'some': 225, 'sql': 226, 'synonym': 227, 'sum': 228, 'read': 229, 'food': 230, 'subject': 231, 'sound': 232, 'group': 233, 'city': 234, 'transform': 235, 'joke': 236, 'spelling': 237, 'length': 238, 'tone': 239, 'original': 240, 'changing': 241, 'noun': 242, 'day': 243, 'states': 244, 'negative': 245, 'analyze': 246, 'color': 247, 'temperature': 248, 'population': 249, 'valid': 250, 'could': 251, 'cm': 252, 'errors': 253, 'cat': 254, 'good': 255, 'animal': 256, 'natural': 257, 'where': 258, 'arrange': 259, 'they': 260, 'task': 261, 'response': 262, 'insert': 263, 'nouns': 264, 'least': 265, 'country': 266, 'year': 267, 'object': 268, 'true': 269, 'car': 270, 'current': 271, 'proverb': 272, 'combine': 273, 'context': 274, 'we': 275, 'style': 276, 'technology': 277, 'interesting': 278, 'program': 279, 'simile': 280, 'someone': 281, 'choose': 282, 'rate': 283, 'ingredients': 284, 'format': 285, 'letter': 286, 'meaningful': 287, 'adjective': 288, 'python': 289, 'character': 290, 'computer': 291, 'conveys': 292, 'song': 293, 'stock': 294, 'there': 295, 'names': 296, 'verbs': 297, 'mathematical': 298, 'need': 299, 'learning': 300, 'future': 301, 'whether': 302, 'sentiment': 303, 'online': 304, 'less': 305, 'job': 306, 'mistakes': 307, 'descriptive': 308, 'tagline': 309, 'fruits': 310, 'delete': 311, 'intelligence': 312, 'false': 313, 'united': 314, 'characters': 315, 'improve': 316, 'software': 317, 'compute': 318, 'perfect': 319, 'concept': 320, 'artificial': 321, 'predict': 322, 'message': 323, 'sequence': 324, 'explain': 325, 'while': 326, 'quote': 327, 'spanish': 328, 'apple': 329, 'parts': 330, 'website': 331, 'french': 332, 'important': 333, 'please': 334, 'pronoun': 335, 'html': 336, 'term': 337, 'am': 338, 'being': 339, 'similar': 340, 'sides': 341, 'feeling': 342, 'cities': 343, 'single': 344, 'other': 345, 'possible': 346, 'th': 347, 'event': 348, 'money': 349, 'definition': 350, 'replacing': 351, 'post': 352, 'dog': 353, 'fill': 354, 'state': 355, 'unique': 356, 'proper': 357, 'detect': 358, 'idea': 359, 'web': 360, 'long': 361, 'model': 362, 'points': 363, 'search': 364, 'species': 365, 'last': 366, 'specific': 367, 'match': 368, 'found': 369, 'better': 370, 'problem': 371, 'grammatical': 372, 'blog': 373, 'system': 374, 'research': 375, 'objects': 376, 'modify': 377, 'mean': 378, 'get': 379, 'highest': 380, 'theme': 381, 'catchy': 382, 'expresses': 383, 'missing': 384, 'content': 385, 'idiom': 386, 'simple': 387, 'fact': 388, 'situation': 389, 'short': 390, 'rank': 391, 'his': 392, 'part': 393, 'top': 394, 'design': 395, 'had': 396, 'ai': 397, 'clause': 398, 'importance': 399, 'result': 400, 'takes': 401, 'email': 402, 'did': 403, 'been': 404, 'machine': 405, 'sun': 406, 'work': 407, 'such': 408, 'third': 409, 'describing': 410, 'scientific': 411, 'funny': 412, 'fix': 413, 'document': 414, 'estimate': 415, 'why': 416, 'ask': 417, 'products': 418, 'view': 419, 'logical': 420, 'analogy': 421, 'written': 422, 'programming': 423, 'capital': 424, 'business': 425, 'like': 426, 'piece': 427, 'values': 428, 'energy': 429, 'great': 430, 'random': 431, 'largest': 432, 'print': 433, 'pun': 434, 'terms': 435, 'things': 436, 'incorrect': 437, 'no': 438, 'associated': 439, 'very': 440, 'think': 441, 'square': 442, 'alternative': 443, 'user': 444, 'prime': 445, 'adverb': 446, 'buy': 447, 'india': 448, 'check': 449, 'customers': 450, 'paper': 451, 'life': 452, 'second': 453, 'containing': 454, 'blank': 455, 'keyword': 456, 'returns': 457, 'size': 458, 'another': 459, 'evaluate': 460, 'blue': 461, 'complex': 462, 'put': 463, 'start': 464, 'making': 465, 'reverse': 466, 'next': 467, 'element': 468, 'algorithm': 469, 'express': 470, 'emotion': 471, 'instruction': 472, 'went': 473, 'water': 474, 'help': 475, 'colors': 476, 'relationship': 477, 'comma': 478, 'formulate': 479, 'moon': 480, 'instructions': 481, 'climate': 482, 'sports': 483, 'personal': 484, 'benefits': 485, 'date': 486, 'today': 487, 'b': 488, 'c': 489, 'novel': 490, 'assistant': 491, 'were': 492, 'imperative': 493, 'tree': 494, 'compare': 495, 'divide': 496, 'compound': 497, 'social': 498, 'after': 499, 'service': 500, 'down': 501, 'over': 502, 'summary': 503, 'equivalent': 504, 'books': 505, 'family': 506, 'underlined': 507, 'chemical': 508, 'interrogative': 509, 'vocabulary': 510, 'key': 511, 'going': 512, 'clarity': 513, 'john': 514, 'figure': 515, 'musical': 516, 'phrases': 517, 'y': 518, 'opinion': 519, 'activities': 520, 'include': 521, 'recipe': 522, 'student': 523, 'house': 524, 'amount': 525, 'math': 526, 'adding': 527, 'version': 528, 'assign': 529, 'cats': 530, 'our': 531, 'vegetables': 532, 'happy': 533, 'together': 534, 'action': 535, 'snippet': 536, 'finance': 537, 'through': 538, 'keywords': 539, 'avoid': 540, 'ascending': 541, 'commonly': 542, 'follows': 543, 'something': 544, 'sky': 545, 'solve': 546, 'database': 547, 'components': 548, 'polite': 549, 'category': 550, 'summer': 551, 'physical': 552, 'years': 553, 'american': 554, 'restaurant': 555, 'riddle': 556, 'transition': 557, 'celsius': 558, 'show': 559, 'during': 560, 'unnecessary': 561, 'captures': 562, 'students': 563, 'integers': 564, 'features': 565, 'tax': 566, 'im': 567, 'go': 568, 'made': 569, 'place': 570, 'maximum': 571, 'reduce': 572, 'root': 573, 'height': 574, 'game': 575, 'correctly': 576, 'rhetorical': 577, 'right': 578, 'stocks': 579, 'major': 580, 'every': 581, 'needed': 582, 'side': 583, 'age': 584, 'class': 585, 'potential': 586, 'marketing': 587, 'dialogue': 588, 'count': 589, 'prints': 590, 'groups': 591, 'rephrase': 592, 'bold': 593, 'lines': 594, 'options': 595, 'health': 596, 'shopping': 597, 'much': 598, 'plants': 599, 'longest': 600, 'strings': 601, 'fahrenheit': 602, 'hours': 603, 'circle': 604, 'healthy': 605, 'project': 606, 'pick': 607, 'human': 608, 'elephant': 609, 'writing': 610, 'man': 611, 'living': 612, 'report': 613, 'own': 614, 'night': 615, 'organize': 616, 'extract': 617, 'humorous': 618, 'apples': 619, 'earth': 620, 'relevant': 621, 'gpt': 622, 'party': 623, 'decimal': 624, 'end': 625, 'successful': 626, 'few': 627, 'process': 628, 'both': 629, 'm': 630, 'field': 631, 'device': 632, 'probability': 633, 'css': 634, 'page': 635, 'facts': 636, 'guess': 637, 'per': 638, 'represent': 639, 'still': 640, 'brand': 641, 'live': 642, 'source': 643, 'difference': 644, 'play': 645, 'france': 646, 'rectangle': 647, 'survey': 648, 'team': 649, 'reflects': 650, 'professional': 651, 'onesentence': 652, 'mnemonic': 653, 'impact': 654, 'produce': 655, 'develop': 656, 'river': 657, 'clear': 658, 'includes': 659, 'corresponding': 660, 'opposite': 661, 'only': 662, 'turn': 663, 'high': 664, 'home': 665, 'app': 666, 'engineer': 667, 'odd': 668, 'children': 669, 'median': 670, 'surface': 671, 'solution': 672, 'dish': 673, 'love': 674, 'necessary': 675, 'volume': 676, 'update': 677, 'conversation': 678, 'europe': 679, 'whose': 680, 'greater': 681, 'dataset': 682, 'imagine': 683, 'prompt': 684, 'choice': 685, 'birds': 686, 'test': 687, 'learn': 688, 'month': 689, 'purpose': 690, 'market': 691, 'increase': 692, 'purchase': 693, 'power': 694, 'even': 695, 'statements': 696, 'base': 697, 'ocean': 698, 'author': 699, 'summarizes': 700, 'retrieve': 701, 'genre': 702, 'contain': 703, 'sure': 704, 'script': 705, 'fewer': 706, 'painting': 707, 'closest': 708, 'red': 709, 'services': 710, 'error': 711, 'recent': 712, 'distance': 713, 'effective': 714, 'running': 715, 'experience': 716, 'school': 717, 'science': 718, 'formula': 719, 'always': 720, 'tools': 721, 'environment': 722, 'clothing': 723, 'json': 724, 'binary': 725, 'shorter': 726, 'located': 727, 'separate': 728, 'border': 729, 'six': 730, 'classification': 731, 'thing': 732, 'photo': 733, 'speed': 734, 'park': 735, 'africa': 736, 'loop': 737, 'command': 738, 'pattern': 739, 'pieces': 740, 'events': 741, 'understand': 742, 'persuasive': 743, 'look': 744, 'angle': 745, 'around': 746, 'kind': 747, 'titles': 748, 'walking': 749, 'series': 750, 'free': 751, 'friend': 752, 'forms': 753, 'employees': 754, 'kitchen': 755, 'ways': 756, 'places': 757, 'london': 758, 'primary': 759, 'width': 760, 'media': 761, 'questions': 762, 'break': 763, 'radius': 764, 'variables': 765, 'mood': 766, 'address': 767, 'rhyme': 768, 'adverbs': 769, 'antonym': 770, 'compares': 771, 'nature': 772, 'mammals': 773, 'languages': 774, 'certain': 775, 'hypothesis': 776, 'century': 777, 'greatest': 778, 'days': 779, 'say': 780, 'york': 781, 'expensive': 782, 'lot': 783, 'quickly': 784, 'syntax': 785, 'particular': 786, 'rhyming': 787, 'accurate': 788, 'solar': 789, 'global': 790, 'meters': 791, 'cause': 792, 'feature': 793, 'numerical': 794, 'simplify': 795, 'scientists': 796, 'clean': 797, 'times': 798, 'ten': 799, 'light': 800, 'alliteration': 801, 'topics': 802, 'sales': 803, 'comparative': 804, 'essay': 805, 'asked': 806, 'wrote': 807, 'mountain': 808, 'might': 809, 'pay': 810, 'financial': 811, 'scenario': 812, 'credit': 813, 'historical': 814, 'sense': 815, 'keep': 816, 'old': 817, 'return': 818, 'dont': 819, 'score': 820, 'sources': 821, 'plant': 822, 'grocery': 823, 'want': 824, 'remember': 825, 'pandemic': 826, 'excerpt': 827, 'america': 828, 'development': 829, 'reorder': 830, 'weather': 831, 'air': 832, 'involving': 833, 'characteristics': 834, 'skills': 835, 'conjunction': 836, 'cake': 837, 'manner': 838, 'beautiful': 839, 'reformulate': 840, 'flower': 841, 'room': 842, 'activity': 843, 'd': 844, 'syllables': 845, 'letters': 846, 'salary': 847, 'card': 848, 'interest': 849, 'her': 850, 'chart': 851, 'flow': 852, 'fruit': 853, 'changes': 854, 'mammal': 855, 'inches': 856, 'smallest': 857, 'comparison': 858, 'lyrics': 859, 'foods': 860, 'sets': 861, 'starting': 862, 'modern': 863, 'trip': 864, 'hello': 865, 'issue': 866, 'before': 867, 'visit': 868, 'hashtag': 869, 'away': 870, 'friends': 871, 'dictionary': 872, 'tomorrow': 873, 'said': 874, 'week': 875, 'body': 876, 'employee': 877, 'resources': 878, 'marks': 879, 'history': 880, 'mistake': 881, 'full': 882, 'european': 883, 'steps': 884, 'large': 885, 'mark': 886, 'lists': 887, 'companies': 888, 'instead': 889, 'fish': 890, 'shape': 891, 'leader': 892, 'diseases': 893, 'walk': 894, 'basketball': 895, 'persons': 896, 'combining': 897, 'planets': 898, 'minutes': 899, 'called': 900, 'declarative': 901, 'pronouns': 902, 'location': 903, 'emphasize': 904, 'beach': 905, 'acronym': 906, 'dogs': 907, 'cup': 908, 'emotions': 909, 'movies': 910, 'fit': 911, 'cars': 912, 'parse': 913, 'summarizing': 914, 'descending': 915, 'seven': 916, 'palindrome': 917, 'bird': 918, 'share': 919, 'south': 920, 'currency': 921, 'opening': 922, 'analysis': 923, 'open': 924, 'small': 925, 'must': 926, 'rule': 927, 'hard': 928, 'regular': 929, 'makes': 930, 'yesterday': 931, 'art': 932, 'removing': 933, 'travel': 934, 'favorite': 935, 'humans': 936, 'figures': 937, 'variable': 938, 'sunset': 939, 'perimeter': 940, 'readability': 941, 'miles': 942, 'tag': 943, 'president': 944, 'teacher': 945, 'planet': 946, 'methods': 947, 'linear': 948, 'continuous': 949, 'singular': 950, 'coffee': 951, 'preserving': 952, 'late': 953, 'java': 954, 'jobs': 955, 'comment': 956, 'range': 957, 'ate': 958, 'won': 959, 'figurative': 960, 'meeting': 961, 'released': 962, 'endangered': 963, 'ran': 964, 'degrees': 965, 'instruments': 966, 'rd': 967, 'internet': 968, 'index': 969, 'really': 970, 'prices': 971, 'million': 972, 'rules': 973, 's': 974, 'independent': 975, 'just': 976, 'understanding': 977, 'decide': 978, 'build': 979, 'minimum': 980, 'beauty': 981, 'camping': 982, 'vegetable': 983, 'cut': 984, 'grade': 985, 'cloud': 986, 'records': 987, 'china': 988, 'blanks': 989, 'likely': 990, 'pollution': 991, 'translation': 992, 'processing': 993, 'success': 994, 'websites': 995, 'indicate': 996, 'greeting': 997, 'fraction': 998, 'sample': 999, 'javascript': 1000, 'argument': 1001, 'reflect': 1002, 'parallel': 1003, 'winter': 1004, 'review': 1005, 'merge': 1006, 'starts': 1007, 'join': 1008, 'artist': 1009, 'restate': 1010, 'green': 1011, 'buying': 1012, 'advice': 1013, 'yourself': 1014, 'knowledge': 1015, 'canada': 1016, 'general': 1017, 'plan': 1018, 'difficult': 1019, 'link': 1020, 'north': 1021, 'working': 1022, 'war': 1023, 'bought': 1024, 'direct': 1025, 'powerful': 1026, 'caused': 1027, 'percentage': 1028, 'keeping': 1029, 'mobile': 1030, 'warming': 1031, 'healthcare': 1032, 'coordinates': 1033, 'plural': 1034, 'simpler': 1035, 'phone': 1036, 'renewable': 1037, 'japan': 1038, 'display': 1039, 'education': 1040, 'needs': 1041, 'industry': 1042, 'easier': 1043, 'convey': 1044, 'native': 1045, 'run': 1046, 'pair': 1047, 'environmental': 1048, 'star': 1049, 'integer': 1050, 'lowest': 1051, 'unit': 1052, 'technologies': 1053, 'speaker': 1054, 'authors': 1055, 'fits': 1056, 'orange': 1057, 'banana': 1058, 'journey': 1059, 'dinner': 1060, 'laptop': 1061, 'equal': 1062, 'increasing': 1063, 'land': 1064, 'scale': 1065, 'ones': 1066, 'cash': 1067, 'then': 1068, 'become': 1069, 'save': 1070, 'including': 1071, 'automatically': 1072, 'public': 1073, 'security': 1074, 'application': 1075, 'effect': 1076, 'measure': 1077, 'cube': 1078, 'compile': 1079, 'oneliner': 1080, 'greet': 1081, 'multiplication': 1082, 'capitalization': 1083, 'eat': 1084, 'mentioned': 1085, 'results': 1086, 'algorithms': 1087, 'font': 1088, 'gdp': 1089, 'essential': 1090, 'heading': 1091, 'brainstorm': 1092, 'sea': 1093, 'means': 1094, 'feet': 1095, 'morning': 1096, 'done': 1097, 'matrix': 1098, 'maintaining': 1099, 'excited': 1100, 'street': 1101, 'fibonacci': 1102, 'alphabetical': 1103, 'stronger': 1104, 'neutral': 1105, 'reorganize': 1106, 'rain': 1107, 'reminder': 1108, 'highlight': 1109, 'pizza': 1110, 'existing': 1111, 'fiction': 1112, 'likes': 1113, 'k': 1114, 'doing': 1115, 'standard': 1116, 'target': 1117, 'created': 1118, 'tool': 1119, 'government': 1120, 'google': 1121, 'official': 1122, 'derivative': 1123, 'conjunctions': 1124, 'pet': 1125, 'clearer': 1126, 'redundant': 1127, 'season': 1128, 'tasks': 1129, 'poetic': 1130, 'usage': 1131, 'compress': 1132, 'hour': 1133, 'periodic': 1134, 'goal': 1135, 'applications': 1136, 'audience': 1137, 'exact': 1138, 'covid': 1139, 'hot': 1140, 'pm': 1141, 'california': 1142, 'sells': 1143, 'study': 1144, 'strong': 1145, 'communication': 1146, 'engaging': 1147, 'mask': 1148, 'medical': 1149, 'recommend': 1150, 'clauses': 1151, 'approximate': 1152, 'conclusion': 1153, 'comedy': 1154, 'level': 1155, 'biggest': 1156, 'bias': 1157, 'japanese': 1158, 'latest': 1159, 'requires': 1160, 'flowers': 1161, 'reconstruct': 1162, 'infer': 1163, 'emphasis': 1164, 'rating': 1165, 'beginning': 1166, 'advertisement': 1167, 'reading': 1168, 'garden': 1169, 'dishes': 1170, 'labels': 1171, 'connect': 1172, 'friendly': 1173, 'ice': 1174, 'material': 1175, 'continent': 1176, 'cite': 1177, 'perform': 1178, 'ball': 1179, 'known': 1180, 'yellow': 1181, 'record': 1182, 'college': 1183, 'wish': 1184, 'advantages': 1185, 'loan': 1186, 'bank': 1187, 'dollars': 1188, 'off': 1189, 'know': 1190, 'whats': 1191, 'sale': 1192, 'outside': 1193, 'foreign': 1194, 'usa': 1195, 'german': 1196, 'saying': 1197, 'enter': 1198, 'now': 1199, 'require': 1200, 'position': 1201, 'required': 1202, 'seen': 1203, 'reaction': 1204, 'condition': 1205, 'representation': 1206, 'demonstrates': 1207, 'everyday': 1208, 'cannot': 1209, 'atomic': 1210, 'members': 1211, 'label': 1212, 'space': 1213, 'union': 1214, 'walked': 1215, 'couplet': 1216, 'connotation': 1217, 'tourist': 1218, 'indirect': 1219, 'factors': 1220, 'carbon': 1221, 'suppose': 1222, 'finding': 1223, 'dependent': 1224, 'continents': 1225, 'reads': 1226, 'cant': 1227, 'may': 1228, 'actions': 1229, 'higher': 1230, 'works': 1231, 'launch': 1232, 'openended': 1233, 'conditions': 1234, 'playing': 1235, 'typos': 1236, 'digit': 1237, 'friendship': 1238, 'exercise': 1239, 'techniques': 1240, 'los': 1241, 'conflict': 1242, 'decision': 1243, 'eggs': 1244, 'clever': 1245, 'protagonist': 1246, 'informal': 1247, 'newspaper': 1248, 'users': 1249, 'gender': 1250, 'within': 1251, 'support': 1252, 'fund': 1253, 'try': 1254, 'manager': 1255, 'funds': 1256, 'him': 1257, 'gold': 1258, 'performance': 1259, 'gift': 1260, 'exchange': 1261, 'degree': 1262, 'consider': 1263, 'worlds': 1264, 'split': 1265, 'companys': 1266, 'microsoft': 1267, 'reason': 1268, 'due': 1269, 'desert': 1270, 'prediction': 1271, 'angles': 1272, 'taking': 1273, 'belong': 1274, 'complexity': 1275, 'east': 1276, 'computing': 1277, 'ideas': 1278, 'effects': 1279, 'illustrates': 1280, 'density': 1281, 'presidents': 1282, 'robot': 1283, 'parameters': 1284, 'deep': 1285, 'request': 1286, 'course': 1287, 'born': 1288, 'advertising': 1289, 'sleep': 1290, 'becomes': 1291, 'kilograms': 1292, 'highlighted': 1293, 'fast': 1294, 'ingredient': 1295, 'corrections': 1296, 'mexico': 1297, 'chronological': 1298, 'literary': 1299, 'quiz': 1300, 'fictional': 1301, 'divisible': 1302, 'expand': 1303, 'shapes': 1304, 'presidential': 1305, 'angeles': 1306, 'lion': 1307, 'column': 1308, 'consistent': 1309, 'traits': 1310, 'kilometers': 1311, 'described': 1312, 'breakfast': 1313, 'mouse': 1314, 'train': 1315, 'combines': 1316, 'barked': 1317, 'properly': 1318, 'film': 1319, 'cuisine': 1320, 'town': 1321, 'provides': 1322, 'additional': 1323, 'reviews': 1324, 'investment': 1325, 'available': 1326, 'income': 1327, 'african': 1328, 'investing': 1329, 'half': 1330, 'etfs': 1331, 'shows': 1332, 'dates': 1333, 'account': 1334, 'significant': 1335, 'close': 1336, 'real': 1337, 'directly': 1338, 'option': 1339, 'usd': 1340, 'net': 1341, 'sold': 1342, 'against': 1343, 'young': 1344, 'digital': 1345, 'strategy': 1346, 'multiple': 1347, 'answered': 1348, 'hexadecimal': 1349, 'campaign': 1350, 'orders': 1351, 'eliminate': 1352, 'destination': 1353, 'trends': 1354, 'loudly': 1355, 'italian': 1356, 'possessive': 1357, 'rainforest': 1358, 'symbol': 1359, 'genres': 1360, 'entities': 1361, 'fashion': 1362, 'accurately': 1363, 'sounds': 1364, 'among': 1365, 'logo': 1366, 'stress': 1367, 'wrong': 1368, 'vowels': 1369, 'risk': 1370, 'yes': 1371, 'expressed': 1372, 'case': 1373, 'hypotenuse': 1374, 'nations': 1375, 'basic': 1376, 'explains': 1377, 'presentation': 1378, 'begins': 1379, 'adventure': 1380, 'wind': 1381, 'scene': 1382, 'interview': 1383, 'bolded': 1384, 'homophone': 1385, 'meal': 1386, 'taste': 1387, 'oranges': 1388, 'concepts': 1389, 'expected': 1390, 'paris': 1391, 'plausible': 1392, 'players': 1393, 'sustainable': 1394, 'happiness': 1395, 'box': 1396, 'n': 1397, 'la': 1398, 'formed': 1399, 'revise': 1400, 'joy': 1401, 'comparing': 1402, 'organization': 1403, 'criteria': 1404, 'tags': 1405, 'punchline': 1406, 'lead': 1407, 'regression': 1408, 'having': 1409, 'eating': 1410, 'introduce': 1411, 'named': 1412, 'fly': 1413, 'factor': 1414, 'forest': 1415, 'vacation': 1416, 'calories': 1417, 'happened': 1418, 'cream': 1419, 'precise': 1420, 'providing': 1421, 'feel': 1422, 'academic': 1423, 'getting': 1424, 'preposition': 1425, 'block': 1426, 'played': 1427, 'finish': 1428, 'spoken': 1429, 'dark': 1430, 'fragment': 1431, 'oldest': 1432, 'equations': 1433, 'horror': 1434, 'fire': 1435, 'ensure': 1436, 'chinese': 1437, 'overall': 1438, 'profit': 1439, 'growth': 1440, 'able': 1441, 'typically': 1442, 'selling': 1443, 'low': 1444, 'individual': 1445, 'international': 1446, 'presented': 1447, 'calculating': 1448, 'closing': 1449, 'management': 1450, 'symbols': 1451, 'addition': 1452, 'thought': 1453, 'under': 1454, 'apply': 1455, 'id': 1456, 'details': 1457, 'longer': 1458, 'method': 1459, 'mass': 1460, 'exam': 1461, 'factorial': 1462, 'informative': 1463, 'creature': 1464, 'door': 1465, 'equipment': 1466, 'june': 1467, 'cooking': 1468, 'circumference': 1469, 'witty': 1470, 'dream': 1471, 'inputs': 1472, 'spring': 1473, 'propose': 1474, 'populous': 1475, 'define': 1476, 'nearest': 1477, 'thirdperson': 1478, 'lives': 1479, 'reach': 1480, 'fiveword': 1481, 'contrast': 1482, 'begin': 1483, 'contact': 1484, 'lengths': 1485, 'grades': 1486, 'hyperbole': 1487, 'chair': 1488, 'easy': 1489, 'promote': 1490, 'improved': 1491, 'causes': 1492, 'repetition': 1493, 'weight': 1494, 'computers': 1495, 'revolution': 1496, 'outcome': 1497, 'because': 1498, 'perspective': 1499, 'freedom': 1500, 'emails': 1501, 'trivia': 1502, 'period': 1503, 'stars': 1504, 'window': 1505, 'sadness': 1506, 'corrected': 1507, 'succinct': 1508, 'expressing': 1509, 'columns': 1510, 'measurement': 1511, 'ounces': 1512, 'rights': 1513, 'electric': 1514, 'spell': 1515, 'agreement': 1516, 'final': 1517, 'football': 1518, 'office': 1519, 'visualization': 1520, 'irony': 1521, 'menu': 1522, 'reformat': 1523, 'matches': 1524, 'articles': 1525, 'italicized': 1526, 'vivid': 1527, 'append': 1528, 'yet': 1529, 'tokyo': 1530, 'attributes': 1531, 'efficient': 1532, 'scheme': 1533, 'drama': 1534, 'sophisticated': 1535, 'whale': 1536, 'alternate': 1537, 'belonging': 1538, 'shorten': 1539, 'essence': 1540, 'boolean': 1541, 'outdoor': 1542, 'heart': 1543, 'remains': 1544, 'coin': 1545, 'apa': 1546, 'call': 1547, 'san': 1548, 'policy': 1549, 'organizations': 1550, 'harry': 1551, 'potter': 1552, 'implement': 1553, 'cheese': 1554, 'building': 1555, 'changed': 1556, 'discount': 1557, 'bring': 1558, 'estimated': 1559, 'wants': 1560, 'back': 1561, 'move': 1562, 'woman': 1563, 'bad': 1564, 'balance': 1565, 'relative': 1566, 'vs': 1567, 'worth': 1568, 'asking': 1569, 'maintain': 1570, 'stores': 1571, 'quality': 1572, 'reliable': 1573, 'schedule': 1574, 'offer': 1575, 'property': 1576, 'across': 1577, 'satisfaction': 1578, 'poetry': 1579, 'intact': 1580, 'behind': 1581, 'flight': 1582, 'ancient': 1583, 'hope': 1584, 'twitter': 1585, 'instance': 1586, 'hidden': 1587, 'asia': 1588, 'slope': 1589, 'materials': 1590, 'notation': 1591, 'believe': 1592, 'polynomial': 1593, 'fox': 1594, 'brands': 1595, 'frequent': 1596, 'monthly': 1597, 'electricity': 1598, 'department': 1599, 'classified': 1600, 'expressions': 1601, 'attention': 1602, 'childrens': 1603, 'mission': 1604, 'timeline': 1605, 'gerund': 1606, 'white': 1607, 'restructure': 1608, 'illustrate': 1609, 'assemble': 1610, 'august': 1611, 'quantity': 1612, 'fear': 1613, 'snow': 1614, 'nice': 1615, 'romantic': 1616, 'flag': 1617, 'losing': 1618, 'demonstrate': 1619, 'bright': 1620, 'lunch': 1621, 'raining': 1622, 'biased': 1623, 'step': 1624, 'modal': 1625, 'atmosphere': 1626, 'geographic': 1627, 'liters': 1628, 'stay': 1629, 'transportation': 1630, 'modified': 1631, 'regions': 1632, 'election': 1633, 'emphasizes': 1634, 'idiomatic': 1635, 'indian': 1636, 'traditional': 1637, 'variety': 1638, 'pen': 1639, 'fun': 1640, 'logic': 1641, 'password': 1642, 'symptoms': 1643, 'teams': 1644, 'distinct': 1645, 'discussing': 1646, 'australia': 1647, 'brown': 1648, 'rabbit': 1649, 'virtual': 1650, 'amazon': 1651, 'rise': 1652, 'detail': 1653, 'creativity': 1654, 'prize': 1655, 'child': 1656, 'feedback': 1657, 'arithmetic': 1658, 'synthesize': 1659, 'disease': 1660, 'jumped': 1661, 'entry': 1662, 'political': 1663, 'completes': 1664, 'soccer': 1665, 'adults': 1666, 'exciting': 1667, 'note': 1668, 'francisco': 1669, 'substitute': 1670, 'looking': 1671, 'centimeters': 1672, 'mental': 1673, 'sunny': 1674, 'behavior': 1675, 'bear': 1676, 'attitude': 1677, 'models': 1678, 'surprise': 1679, 'mortgage': 1680, 'prepare': 1681, 'see': 1682, 'debt': 1683, 'useful': 1684, 'claim': 1685, 'cards': 1686, 'transfer': 1687, 'rent': 1688, 'met': 1689, 'uk': 1690, 'taken': 1691, 'invented': 1692, 'coming': 1693, 'saving': 1694, 'alternatives': 1695, 'respect': 1696, 'giving': 1697, 'considered': 1698, 'replacement': 1699, 'api': 1700, 'etc': 1701, 'also': 1702, 'dollar': 1703, 'truth': 1704, 'oil': 1705, 'spreadsheet': 1706, 'games': 1707, 'manual': 1708, 'capitalize': 1709, 'despite': 1710, 'limit': 1711, 'background': 1712, 'control': 1713, 'listed': 1714, 'force': 1715, 'kg': 1716, 'liquid': 1717, 'shop': 1718, 'motto': 1719, 'never': 1720, 'follow': 1721, 'memorable': 1722, 'delicious': 1723, 'emotional': 1724, 'cylinder': 1725, 'represents': 1726, 'achieve': 1727, 'instances': 1728, 'resilience': 1729, 'often': 1730, 'actor': 1731, 'moral': 1732, 'boat': 1733, 'notes': 1734, 'widely': 1735, 'g': 1736, 'mediterranean': 1737, 'affirmative': 1738, 'oceans': 1739, 'engineering': 1740, 'predicate': 1741, 'disasters': 1742, 'upcoming': 1743, 'modifier': 1744, 'occurrences': 1745, 'alphabet': 1746, 'pounds': 1747, 'trees': 1748, 'ecofriendly': 1749, 'ever': 1750, 'respond': 1751, 'subordinating': 1752, 'developing': 1753, 'involves': 1754, 'sphere': 1755, 'rock': 1756, 'respective': 1757, 'smart': 1758, 'currently': 1759, 'rolling': 1760, 'bus': 1761, 'here': 1762, 'wearing': 1763, 'revenue': 1764, 'accordingly': 1765, 'issues': 1766, 'loves': 1767, 'fetch': 1768, 'tired': 1769, 'decided': 1770, 'evening': 1771, 'plastic': 1772, 'engine': 1773, 'bee': 1774, 'charity': 1775, 'summarise': 1776, 'units': 1777, 'cups': 1778, 'encourages': 1779, 'drink': 1780, 'quotation': 1781, 'est': 1782, 'kingdom': 1783, 'arguments': 1784, 'career': 1785, 'priority': 1786, 'strength': 1787, 'rectangular': 1788, 'passes': 1789, 'composed': 1790, 'devices': 1791, 'middle': 1792, 'discussed': 1793, 'technical': 1794, 'debate': 1795, 'combination': 1796, 'artwork': 1797, 'suggestion': 1798, 'professor': 1799, 'intelligent': 1800, 'inappropriate': 1801, 'network': 1802, 'well': 1803, 'restaurants': 1804, 'conjugation': 1805, 'dance': 1806, 'bag': 1807, 'fourth': 1808, 'cases': 1809, 'coherent': 1810, 'reptile': 1811, 'pages': 1812, 'automation': 1813, 'ending': 1814, 'regarding': 1815, 'texture': 1816, 'hypothetical': 1817, 'sums': 1818, 'broken': 1819, 'nobel': 1820, 'poverty': 1821, 'ticket': 1822, 'pseudocode': 1823, 'km': 1824, 'adjust': 1825, 'chocolate': 1826, 'classic': 1827, 'optimistic': 1828, 'landmarks': 1829, 'phrasing': 1830, 'seconds': 1831, 'sport': 1832, 'organic': 1833, 'businesses': 1834, 'landscape': 1835, 'too': 1836, 'far': 1837, 'heads': 1838, 'purchased': 1839, 'wellknown': 1840, 'parentheses': 1841, 'trying': 1842, 'determined': 1843, 'calendar': 1844, 'birthday': 1845, 'answers': 1846, 'qualities': 1847, 'forward': 1848, 'belongs': 1849, 'iphone': 1850, 'road': 1851, 'craft': 1852, 'atom': 1853, 'ft': 1854, 'calculates': 1855, 'relates': 1856, 'took': 1857, 'towards': 1858, 'benefit': 1859, 'titanic': 1860, 'grow': 1861, 'courage': 1862, 'caption': 1863, 'adult': 1864, 'tracking': 1865, 'dividend': 1866, 'annual': 1867, 'paying': 1868, 'protect': 1869, 'identity': 1870, 'budget': 1871, 'duplicate': 1872, 'added': 1873, 'status': 1874, 'managing': 1875, 'frequency': 1876, 'pronunciation': 1877, 'portfolio': 1878, 'percent': 1879, 'says': 1880, 'offered': 1881, 'euro': 1882, 'ratio': 1883, 'economy': 1884, 'costs': 1885, 'race': 1886, 'plans': 1887, 'mutual': 1888, 'sell': 1889, 'sites': 1890, 'finished': 1891, 'big': 1892, 'daily': 1893, 'choices': 1894, 'legal': 1895, 'signature': 1896, 'teach': 1897, 'groceries': 1898, 'near': 1899, 'weeks': 1900, 'brave': 1901, 'algebraic': 1902, 'happen': 1903, 'quadratic': 1904, 'commands': 1905, 'yesno': 1906, 'geometric': 1907, 'supply': 1908, 'iron': 1909, 'opened': 1910, 'furniture': 1911, 'cliche': 1912, 'consequences': 1913, 'placeholder': 1914, 'velocity': 1915, 'cleaning': 1916, 'alter': 1917, 'polygon': 1918, 'themes': 1919, 'catcher': 1920, 'rye': 1921, 'mathematics': 1922, 'clouds': 1923, 'invent': 1924, 'categorical': 1925, 'capitals': 1926, 'rainbow': 1927, 'multiply': 1928, 'served': 1929, 'convincing': 1930, 'redact': 1931, 'mountains': 1932, 'painted': 1933, 'jupiter': 1934, 'carry': 1935, 'professions': 1936, 'capita': 1937, 'grams': 1938, 'recycled': 1939, 'national': 1940, 'platform': 1941, 'ifelse': 1942, 'giraffe': 1943, 'simplest': 1944, 'secret': 1945, 'mineral': 1946, 'baroque': 1947, 'experiment': 1948, 'lets': 1949, 'extra': 1950, 'frame': 1951, 'fantasy': 1952, 'boiling': 1953, 'scientist': 1954, 'protein': 1955, 'shirt': 1956, 'feelings': 1957, 'pressure': 1958, 'molecular': 1959, 'commas': 1960, 'honey': 1961, 'left': 1962, 'addresses': 1963, 'personification': 1964, 'wording': 1965, 'arrays': 1966, 'carrot': 1967, 'british': 1968, 'vector': 1969, 'crisis': 1970, 'p': 1971, 'spent': 1972, 'f': 1973, 'disaster': 1974, 'firstperson': 1975, 'categorise': 1976, 'meme': 1977, 'habitat': 1978, 'recognize': 1979, 'cipher': 1980, 'shortest': 1981, 'prism': 1982, 'ifthen': 1983, 'abc': 1984, 'helium': 1985, 'redundancy': 1986, 'finds': 1987, 'ecommerce': 1988, 'machines': 1989, 'faulty': 1990, 'divided': 1991, 'metric': 1992, 'earths': 1993, 'resolve': 1994, 'yoga': 1995, 'girl': 1996, 'gave': 1997, 'subordinate': 1998, 'fractions': 1999, 'implied': 2000, 'celebrity': 2001, 'syntactic': 2002, 'st': 2003, 'chicago': 2004, 'consecutive': 2005, 'awkward': 2006, 'brackets': 2007, 'remind': 2008, 'creates': 2009, 'center': 2010, 'antonyms': 2011, 'adds': 2012, 'tenses': 2013, 'bridge': 2014, 'enjoyed': 2015, 'waves': 2016, 'catch': 2017, 'brazil': 2018, 'kinds': 2019, 'reversed': 2020, 'narrative': 2021, 'bob': 2022, 'mention': 2023, 'warm': 2024, 'mile': 2025, 'cold': 2026, 'classes': 2027, 'rgb': 2028, 'patient': 2029, 'waste': 2030, 'memory': 2031, 'empathy': 2032, 'vertices': 2033, 'society': 2034, 'tv': 2035, 'nonfiction': 2036, 'boy': 2037, 'literature': 2038, 'succeed': 2039, 'studying': 2040, 'marathon': 2041, 'participle': 2042, 'mla': 2043, 'clearly': 2044, 'abbreviation': 2045, 'talk': 2046, 'economic': 2047, 'sad': 2048, 'pairs': 2049, 'assignment': 2050, 'eiffel': 2051, 'tower': 2052, 'optimize': 2053, 'appointment': 2054, 'launched': 2055, 'resume': 2056, 'creating': 2057, 'helpful': 2058, 'king': 2059, 'those': 2060, 'civil': 2061, 'wanted': 2062, 'temperatures': 2063, 'landmark': 2064, 'pacific': 2065, 'female': 2066, 'streaming': 2067, 'clock': 2068, 'helps': 2069, 'early': 2070, 'filled': 2071, 'watch': 2072, 'abstract': 2073, 'asian': 2074, 'lazy': 2075, 'classroom': 2076, 'talking': 2077, 'quick': 2078, 'verse': 2079, 'failed': 2080, 'operator': 2081, 'autumn': 2082, 'usually': 2083, 'properties': 2084, 'puzzle': 2085, 'section': 2086, 'reframe': 2087, 'copy': 2088, 'snack': 2089, 'instrument': 2090, 'songs': 2091, 'showing': 2092, 'swimming': 2093, 'followed': 2094, 'innovative': 2095, 'tropical': 2096, 'assets': 2097, 'valuable': 2098, 'local': 2099, 'purchases': 2100, 'send': 2101, 'inflation': 2102, 'shares': 2103, 'poor': 2104, 'trade': 2105, 'taxes': 2106, 'bookkeeping': 2107, 'university': 2108, 'insurance': 2109, 'alert': 2110, 'etf': 2111, 'asks': 2112, 'trading': 2113, 'cryptocurrency': 2114, 'alien': 2115, 'resident': 2116, 'tested': 2117, 'rich': 2118, 'entire': 2119, 'documents': 2120, 'happens': 2121, 'wash': 2122, 'earned': 2123, 'moving': 2124, 'deviation': 2125, 'ms': 2126, 'abandoned': 2127, 'borders': 2128, 'refer': 2129, 'falling': 2130, 'intent': 2131, 'individuals': 2132, 'correction': 2133, 'ratings': 2134, 'smaller': 2135, 'practice': 2136, 'spain': 2137, 'economics': 2138, 'winning': 2139, 'ride': 2140, 'double': 2141, 'followup': 2142, 'boston': 2143, 'rising': 2144, 'outdoors': 2145, 'loneliness': 2146, 'fence': 2147, 'subjunctive': 2148, 'airport': 2149, 'rivers': 2150, 'umbrella': 2151, 'inspiring': 2152, 'usernames': 2153, 'differentiate': 2154, 'filter': 2155, 'various': 2156, 'header': 2157, 'remembering': 2158, 'digits': 2159, 'clothes': 2160, 'role': 2161, 'appear': 2162, 'segment': 2163, 'fake': 2164, 'tips': 2165, 'eu': 2166, 'angry': 2167, 'operating': 2168, 'attentiongrabbing': 2169, 'url': 2170, 'fifth': 2171, 'dynamic': 2172, 'satellite': 2173, 'deduce': 2174, 'someones': 2175, 'realistic': 2176, 'slang': 2177, 'destinations': 2178, 'die': 2179, 'pie': 2180, 'fitness': 2181, 'diversity': 2182, 'training': 2183, 'setting': 2184, 'intense': 2185, 'adapt': 2186, 'dioxide': 2187, 'release': 2188, 'nonliving': 2189, 'ethical': 2190, 'fell': 2191, 'board': 2192, 'measures': 2193, 'tip': 2194, 'conservation': 2195, 'consumer': 2196, 'peoples': 2197, 'restore': 2198, 'survival': 2199, 'irregular': 2200, 'repeated': 2201, 'recently': 2202, 'problems': 2203, 'contained': 2204, 'construction': 2205, 'specified': 2206, 'de': 2207, 'male': 2208, 'physics': 2209, 'received': 2210, 'incomplete': 2211, 'approach': 2212, 'frequently': 2213, 'enjoy': 2214, 'mount': 2215, 'everest': 2216, 'region': 2217, 'citrus': 2218, 'heard': 2219, 'acrostic': 2220, 'promoting': 2221, 'piano': 2222, 'homophones': 2223, 'started': 2224, 'cool': 2225, 'later': 2226, 'bicycle': 2227, 'continue': 2228, 'andor': 2229, 'atoms': 2230, 'july': 2231, 'wear': 2232, 'ambiguity': 2233, 'robots': 2234, 'thinking': 2235, 'browsers': 2236, 'printing': 2237, 'spot': 2238, 'reported': 2239, 'lost': 2240, 'sarcastic': 2241, 'splice': 2242, 'advertise': 2243, 'multiples': 2244, 'subjectverb': 2245, 'triangles': 2246, 'brother': 2247, 'sweet': 2248, 'superlative': 2249, 'occur': 2250, 'challenge': 2251, 'basket': 2252, 'sleeping': 2253, 'lake': 2254, 'lyric': 2255, 'soon': 2256, 'conditional': 2257, 'improvement': 2258, 'holiday': 2259, 'shown': 2260, 'eagle': 2261, 'semantically': 2262, 'coordinating': 2263, 'tiger': 2264, 'october': 2265, 'photosynthesis': 2266, 'reptiles': 2267, 'strawberry': 2268, 'gratitude': 2269, 'larger': 2270, 'shoes': 2271, 'coronavirus': 2272, 'semicolon': 2273, 'photograph': 2274, 'lonely': 2275, 'el': 2276, 'eaten': 2277, 'chased': 2278, 'compelling': 2279, 'difficulty': 2280, 'vegan': 2281, 'player': 2282, 'irrelevant': 2283, 'sandwich': 2284, 'jack': 2285, 'communicates': 2286, 'texts': 2287, 'collect': 2288, 'built': 2289, 'innovation': 2290, 'pyramid': 2291, 'bed': 2292, 'uppercase': 2293, 'england': 2294, 'attractions': 2295, 'vitamin': 2296, 'slice': 2297, 'rose': 2298, 'purchasing': 2299, 'recall': 2300, 'grass': 2301, 'artists': 2302, 'levels': 2303, 'specializes': 2304, 'focus': 2305, 'introducing': 2306, 'black': 2307, 'dragon': 2308, 'token': 2309, 'gallons': 2310, 'wild': 2311, 'unknown': 2312, 'diagnosis': 2313, 'once': 2314, 'capture': 2315, 'practices': 2316, 'distinguish': 2317, 'afraid': 2318, 'plane': 2319, 'dimensions': 2320, 'insult': 2321, 'rows': 2322, 'relating': 2323, 'forloop': 2324, 'hand': 2325, 'casual': 2326, 'tech': 2327, 'editing': 2328, 'horse': 2329, 'implies': 2330, 'logically': 2331, 'spices': 2332, 'busy': 2333, 'foot': 2334, 'punctuations': 2335, 'pool': 2336, 'formatting': 2337, 'talks': 2338, 'gone': 2339, 'cross': 2340, 'meet': 2341, 'ad': 2342, 'satisfies': 2343, 'gif': 2344, 'breed': 2345, 'allow': 2346, 'keys': 2347, 'genetic': 2348, 'evidence': 2349, 'solutions': 2350, 'storm': 2351, 'reference': 2352, 'teaspoons': 2353, 'outputs': 2354, 'diet': 2355, 'delivery': 2356, 'geographical': 2357, 'testing': 2358, 'sorted': 2359, 'division': 2360, 'speak': 2361, 'lexical': 2362, 'inc': 2363, 'frog': 2364, 'originated': 2365, 'profession': 2366, 'execute': 2367, 'profile': 2368, 'pencil': 2369, 'fastest': 2370, 'urgency': 2371, 'shoe': 2372, 'appears': 2373, 'jump': 2374, 'latitude': 2375, 'longitude': 2376, 'worked': 2377, 'incredibly': 2378, 'weekend': 2379, 'serve': 2380, 'aspects': 2381, 'displays': 2382, 'law': 2383, 'tom': 2384, 'replaced': 2385, 'bit': 2386, 'ago': 2387, 'expenses': 2388, 'paypal': 2389, 'contractor': 2390, 'hourly': 2391, 'offering': 2392, 'exchanges': 2393, 'member': 2394, 'closed': 2395, 'exist': 2396, 'twice': 2397, 'applicable': 2398, 'systems': 2399, 'underwater': 2400, 'canadian': 2401, 'discuss': 2402, 'accounts': 2403, 'interbank': 2404, 'bills': 2405, 'cover': 2406, 'already': 2407, 'streams': 2408, 'psychological': 2409, 'track': 2410, 'deposit': 2411, 'easiest': 2412, 'wealth': 2413, 'comprehensive': 2414, 'tutorial': 2415, 'mac': 2416, 'investments': 2417, 'inside': 2418, 'preparing': 2419, 'shared': 2420, 'didnt': 2421, 'investigate': 2422, 'contract': 2423, 'military': 2424, 'bond': 2425, 'germany': 2426, 'deduct': 2427, 'structured': 2428, 'fair': 2429, 'relevance': 2430, 'stand': 2431, 'gravitational': 2432, 'cultural': 2433, 'mary': 2434, 'contraction': 2435, 'salad': 2436, 'occurs': 2437, 'smile': 2438, 'eight': 2439, 'anagrams': 2440, 'derive': 2441, 'styles': 2442, 'taxonomic': 2443, 'cute': 2444, 'component': 2445, 'pleasant': 2446, 'subtitle': 2447, 'acid': 2448, 'trust': 2449, 'excellent': 2450, 'evaluates': 2451, 'revised': 2452, 'wasnt': 2453, 'supposed': 2454, 'clich': 2455, 'declaration': 2456, 'platforms': 2457, 'maintains': 2458, 'transforming': 2459, 'statistic': 2460, 'connecting': 2461, 'branches': 2462, 'herbivore': 2463, 'prominent': 2464, 'protecting': 2465, 'habitats': 2466, 'bar': 2467, 'conference': 2468, 'blockchain': 2469, 'caesar': 2470, 'medicine': 2471, 'kept': 2472, 'else': 2473, 'palette': 2474, 'podcast': 2475, 'phenomenon': 2476, 'recycling': 2477, 'healthier': 2478, 'meditation': 2479, 'accident': 2480, 'molecule': 2481, 'travelling': 2482, 'culture': 2483, 'sent': 2484, 'otherwise': 2485, 'subtract': 2486, 'secondperson': 2487, 'jumbled': 2488, 'concrete': 2489, 'expectancy': 2490, 'justice': 2491, 'wonders': 2492, 'colour': 2493, 'round': 2494, 'chatbot': 2495, 'runs': 2496, 'darkness': 2497, 'host': 2498, 'path': 2499, 'matter': 2500, 'personality': 2501, 'expressive': 2502, 'findings': 2503, 'chase': 2504, 'dreams': 2505, 'equilateral': 2506, 'announcement': 2507, 'capitalized': 2508, 'complementary': 2509, 'wars': 2510, 'telephone': 2511, 'reshape': 2512, 'nutrition': 2513, 'premise': 2514, 'picnic': 2515, 'grains': 2516, 'goals': 2517, 'involve': 2518, 'sorts': 2519, 'milk': 2520, 'senses': 2521, 'solving': 2522, 'objective': 2523, 'leap': 2524, 'requirements': 2525, 'quantum': 2526, 'exercises': 2527, 'motivate': 2528, 'positively': 2529, 'fixing': 2530, 'overwhelmed': 2531, 'exhausted': 2532, 'typical': 2533, 'lemon': 2534, 'planning': 2535, 'incredible': 2536, 'measurements': 2537, 'spoke': 2538, 'refers': 2539, 'semantic': 2540, 'meets': 2541, 'detailed': 2542, 'conveying': 2543, 'calm': 2544, 'baseball': 2545, 'seafood': 2546, 'suits': 2547, 'bread': 2548, 'nba': 2549, 'teenagers': 2550, 'trait': 2551, 'graphic': 2552, 'secondary': 2553, 'syllable': 2554, 'although': 2555, 'summarization': 2556, 'cyber': 2557, 'decreasing': 2558, 'beats': 2559, 'minute': 2560, 'smoothly': 2561, 'appealing': 2562, 'luck': 2563, 'promotes': 2564, 'lifestyle': 2565, 'sheet': 2566, 'generated': 2567, 'acidic': 2568, 'goes': 2569, 'corner': 2570, 'sunrise': 2571, 'template': 2572, 'rainy': 2573, 'devise': 2574, 'ship': 2575, 'shore': 2576, 'anagram': 2577, 'divisor': 2578, 'extremely': 2579, 'studied': 2580, 'cooked': 2581, 'saw': 2582, 'lived': 2583, 'nine': 2584, 'hungry': 2585, 'discovers': 2586, 'featuring': 2587, 'seasons': 2588, 'sector': 2589, 'peak': 2590, 'v': 2591, 'oxygen': 2592, 'generation': 2593, 'improving': 2594, 'personalized': 2595, 'academy': 2596, 'risks': 2597, 'everyone': 2598, 'regex': 2599, 'progressive': 2600, 'keyboard': 2601, 'gramatically': 2602, 'operations': 2603, 'calculation': 2604, 'neither': 2605, 'respectively': 2606, 'spread': 2607, 'reader': 2608, 'populations': 2609, 'duplicates': 2610, 'effort': 2611, 'contents': 2612, 'ensuring': 2613, 'astronaut': 2614, 'glass': 2615, 'aspect': 2616, 'confused': 2617, 'actors': 2618, 'discounted': 2619, 'household': 2620, 'decade': 2621, 'grows': 2622, 'visited': 2623, 'theories': 2624, 'police': 2625, 'attribute': 2626, 'edited': 2627, 'sustainability': 2628, 'facial': 2629, 'reducing': 2630, 'woods': 2631, 'cheerful': 2632, 'baking': 2633, 'doctor': 2634, 'mode': 2635, 'adverbial': 2636, 'urban': 2637, 'rounded': 2638, 'diameter': 2639, 'produced': 2640, 'o': 2641, 'arrived': 2642, 'impressive': 2643, 'workplace': 2644, 'utilizing': 2645, 'tables': 2646, 'refrigerator': 2647, 'ive': 2648, 'utc': 2649, 'je': 2650, 'tough': 2651, 'stages': 2652, 'completed': 2653, 'comes': 2654, 'published': 2655, 'traveling': 2656, 'conjuction': 2657, 'runon': 2658, 'multiplied': 2659, 'cow': 2660, 'humid': 2661, 'television': 2662, 'gaming': 2663, 'iconic': 2664, 'impactful': 2665, 'squares': 2666, 'entries': 2667, 'lettuce': 2668, 'drove': 2669, 'twist': 2670, 'march': 2671, 'celebrities': 2672, 'redundancies': 2673, 'punctuate': 2674, 'attend': 2675, 'universe': 2676, 'january': 2677, 'smith': 2678, 'conversational': 2679, 'herbivores': 2680, 'drinking': 2681, 'robotics': 2682, 'obtain': 2683, 'cells': 2684, 'kill': 2685, 'mockingbird': 2686, 'influential': 2687, 'washington': 2688, 'colorful': 2689, 'russia': 2690, 'smell': 2691, 'purple': 2692, 'arrive': 2693, 'discussion': 2694, 'predicts': 2695, 'explanation': 2696, 'separated': 2697, 'signed': 2698, 'transcribe': 2699, 'passwords': 2700, 'un': 2701, 'lay': 2702, 'similarity': 2703, 'guidelines': 2704, 'swap': 2705, 'shining': 2706, 'bat': 2707, 'punctuated': 2708, 'library': 2709, 'skin': 2710, 'sugar': 2711, 'register': 2712, 'until': 2713, 'recognition': 2714, 'lecture': 2715, 'ml': 2716, 'chess': 2717, 'antecedent': 2718, 'accept': 2719, 'tale': 2720, 'since': 2721, 'conversion': 2722, 'april': 2723, 'tall': 2724, 'nickname': 2725, 'dolphin': 2726, 'guitar': 2727, 'amazing': 2728, 'samples': 2729, 'pose': 2730, 'monday': 2731, 'announced': 2732, 'organisms': 2733, 'smoothie': 2734, 'appreciation': 2735, 'atlantic': 2736, 'bug': 2737, 'analyse': 2738, 'snake': 2739, 'sorting': 2740, 'hydrogen': 2741, 'along': 2742, 'tuesday': 2743, 'sodium': 2744, 'educational': 2745, 'antagonist': 2746, 'colours': 2747, 'trapezoid': 2748, 'preserves': 2749, 'revolutionary': 2750, 'tablespoons': 2751, 'manage': 2752, 'composition': 2753, 'hz': 2754, 'outfit': 2755, 'diagnose': 2756, 'scores': 2757, 'cereal': 2758, 'pickup': 2759, 'antarctica': 2760, 'powered': 2761, 'heat': 2762, 'laughed': 2763, 'yearly': 2764, 'demand': 2765, 'industrial': 2766, 'super': 2767, 'candies': 2768, 'gains': 2769, 'couldve': 2770, 'yearold': 2771, 'postapocalyptic': 2772, 'covered': 2773, 'yahoo': 2774, 'markets': 2775, 'equivalents': 2776, 'publicly': 2777, 'fall': 2778, 'cheapest': 2779, 'site': 2780, 'absolute': 2781, 'beginner': 2782, 'responsibility': 2783, 'employer': 2784, 'banks': 2785, 'pros': 2786, 'cons': 2787, 'automatic': 2788, 'floor': 2789, 'eg': 2790, 'nasdaq': 2791, 'inflow': 2792, 'outflow': 2793, 'isnt': 2794, 'sitting': 2795, 'fraud': 2796, 'issued': 2797, 'monetary': 2798, 'amounts': 2799, 'developer': 2800, 'todays': 2801, 'generally': 2802, 'resource': 2803, 'forum': 2804, 'traded': 2805, 'via': 2806, 'dividends': 2807, 'lookup': 2808, 'bonds': 2809, 'taxed': 2810, 'lower': 2811, 'normal': 2812, 'exactly': 2813, 'recommended': 2814, 'calculator': 2815, 'payment': 2816, 'ceo': 2817, 'roof': 2818, 'rat': 2819, 'safe': 2820, 'bidask': 2821, 'waiting': 2822, 'asset': 2823, 'leaving': 2824, 'purposes': 2825, 'vix': 2826, 'pursue': 2827, 'quotes': 2828, 'collapse': 2829, 'retirement': 2830, 'financially': 2831, 'priced': 2832, 'estate': 2833, 'got': 2834, 'quarter': 2835, 'hedge': 2836, 'retain': 2837, 'excel': 2838, 'derivatives': 2839, 'collection': 2840, 'opportunity': 2841, 'sizes': 2842, 'toyota': 2843, 'versus': 2844, 'hobby': 2845, 'screen': 2846, 'historic': 2847, 'windows': 2848, 'minerals': 2849, 'dna': 2850, 'rotation': 2851, 'stepbystep': 2852, 'giant': 2853, 'statistics': 2854, 'alphabetically': 2855, 'driver': 2856, 'sharing': 2857, 'straight': 2858, 'idioms': 2859, 'meanings': 2860, 'positions': 2861, 'highly': 2862, 'completely': 2863, 'nd': 2864, 'snacks': 2865, 'verbose': 2866, 'genderneutral': 2867, 'solid': 2868, 'balanced': 2869, 'interior': 2870, 'bonjour': 2871, 'hyperbolic': 2872, 'independence': 2873, 'equality': 2874, 'cell': 2875, 'attacks': 2876, 'aquatic': 2877, 'spark': 2878, 'politics': 2879, 'cafe': 2880, 'carnivore': 2881, 'seeds': 2882, 'charged': 2883, 'privacy': 2884, 'hurricane': 2885, 'earliest': 2886, 'care': 2887, 'statue': 2888, 'liberty': 2889, 'tshirt': 2890, 'vectors': 2891, 'passing': 2892, 'structures': 2893, 'coding': 2894, 'honest': 2895, 'boxes': 2896, 'visible': 2897, 'anthem': 2898, 'android': 2899, 'normalize': 2900, 'reply': 2901, 'oneline': 2902, 'band': 2903, 'storage': 2904, 'composers': 2905, 'era': 2906, 'bake': 2907, 'keeps': 2908, 'spam': 2909, 'intriguing': 2910, 'sixsided': 2911, 'todo': 2912, 'egypt': 2913, 'alive': 2914, 'penny': 2915, 'conjugate': 2916, 'assess': 2917, 'toy': 2918, 'coins': 2919, 'strawberries': 2920, 'toast': 2921, 'founded': 2922, 'scifi': 2923, 'allowed': 2924, 'dangerous': 2925, 'virus': 2926, 'consumption': 2927, 'singleuse': 2928, 'observation': 2929, 'biological': 2930, 'obscure': 2931, 'equals': 2932, 'mining': 2933, 'retrieves': 2934, 'distribution': 2935, 'episode': 2936, 'developed': 2937, 'desolate': 2938, 'chronologically': 2939, 'labrador': 2940, 'retriever': 2941, 'retrieving': 2942, 'lyrical': 2943, 'perennials': 2944, 'careers': 2945, 'forgot': 2946, 'fragments': 2947, 'centered': 2948, 'rural': 2949, 'areas': 2950, 'speakers': 2951, 'selected': 2952, 'grossing': 2953, 'theory': 2954, 'hat': 2955, 'guide': 2956, 'master': 2957, 'recast': 2958, 'utensils': 2959, 'retail': 2960, 'minister': 2961, 'forecast': 2962, 'vehicles': 2963, 'unethical': 2964, 'ideal': 2965, 'jokes': 2966, 'spin': 2967, 'possibility': 2968, 'surprised': 2969, 'milky': 2970, 'networks': 2971, 'inventions': 2972, 'suddenly': 2973, 'dealing': 2974, 'rocket': 2975, 'inventory': 2976, 'setup': 2977, 'paraphrased': 2978, 'follwing': 2979, 'replacements': 2980, 'repeating': 2981, 'yx': 2982, 'lakes': 2983, 'pitch': 2984, 'elevation': 2985, 'norway': 2986, 'production': 2987, 'summarises': 2988, 'raw': 2989, 'younger': 2990, 'subjects': 2991, 'galaxies': 2992, 'stressed': 2993, 'drive': 2994, 'mph': 2995, 'button': 2996, 'opensource': 2997, 'supervised': 2998, 'constant': 2999, 'paragraphs': 3000, 'infinitive': 3001, 'appearance': 3002, 'interpret': 3003, 'origin': 3004, 'tweets': 3005, 'heavy': 3006, 'tickets': 3007, 'maths': 3008, 'causal': 3009, 'max': 3010, 'misspelled': 3011, 'secondlargest': 3012, 'characteristic': 3013, 'unrelated': 3014, 'superpower': 3015, 'films': 3016, 'fifa': 3017, 'milliliters': 3018, 'doesnt': 3019, 'evil': 3020, 'contractions': 3021, 'accomplishments': 3022, 'faster': 3023, 'neural': 3024, 'joyful': 3025, 'principles': 3026, 'tent': 3027, 'slow': 3028, 'correlative': 3029, 'pass': 3030, 'encode': 3031, 'metrics': 3032, 'roads': 3033, 'solves': 3034, 'vehicle': 3035, 'somebody': 3036, 'crashing': 3037, 'onto': 3038, 'earthquake': 3039, 'immediately': 3040, 'rice': 3041, 'biome': 3042, 'syntactically': 3043, 'hunger': 3044, 'developments': 3045, 'affected': 3046, 'xy': 3047, 'advances': 3048, 'fx': 3049, 'calls': 3050, 'tallest': 3051, 'fields': 3052, 'starter': 3053, 'court': 3054, 'indicative': 3055, 'patience': 3056, 'bike': 3057, 'combustion': 3058, 'strategies': 3059, 'gonna': 3060, 'achieved': 3061, 'descriptions': 3062, 'suggests': 3063, 'theorem': 3064, 'award': 3065, 'citation': 3066, 'caught': 3067, 'technique': 3068, 'scared': 3069, 'battery': 3070, 'retaining': 3071, 'polygons': 3072, 'causative': 3073, 'wikipedia': 3074, 'photography': 3075, 'hypernym': 3076, 'james': 3077, 'edges': 3078, 'hotel': 3079, 'mt': 3080, 'invertebrates': 3081, 'mall': 3082, 'detective': 3083, 'shelf': 3084, 'gives': 3085, 'protest': 3086, 'consequence': 3087, 'grilled': 3088, 'naturally': 3089, 'progression': 3090, 'eyecatching': 3091, 'relations': 3092, 'tune': 3093, 'involved': 3094, 'encryption': 3095, 'stories': 3096, 'democracy': 3097, 'electronics': 3098, 'sat': 3099, 'steve': 3100, 'subheading': 3101, 'shakespeares': 3102, 'tomatoes': 3103, 'patients': 3104, 'subsequence': 3105, 'costing': 3106, 'proverbs': 3107, 'deserts': 3108, 'sahara': 3109, 'slowly': 3110, 'exploring': 3111, 'wildlife': 3112, 'compounds': 3113, 'pets': 3114, 'cone': 3115, 'technological': 3116, 'george': 3117, 'alarm': 3118, 'designed': 3119, 'meowed': 3120, 'visual': 3121, 'username': 3122, 'bones': 3123, 'friday': 3124, 'exists': 3125, 'deforestation': 3126, 'overcoming': 3127, 'row': 3128, 'luxury': 3129, 'allows': 3130, 'accuracy': 3131, 'thrones': 3132, 'gets': 3133, 'incorrectly': 3134, 'decrease': 3135, 'speaking': 3136, 'hands': 3137, 'wide': 3138, 'generous': 3139, 'wall': 3140, 'face': 3141, 'internal': 3142, 'applying': 3143, 'performs': 3144, 'apparel': 3145, 'father': 3146, 'elderly': 3147, 'italy': 3148, 'renaissance': 3149, 'stormy': 3150, 'becoming': 3151, 'stone': 3152, 'mat': 3153, 'accomplishment': 3154, 'ab': 3155, 'portion': 3156, 'carefully': 3157, 'substance': 3158, 'allowing': 3159, 'knew': 3160, 'impossible': 3161, 'forming': 3162, 'kids': 3163, 'gbp': 3164, 'indicates': 3165, 'civilizations': 3166, 'clustering': 3167, 'sketch': 3168, 'nonessential': 3169, 'hes': 3170, 'attended': 3171, 'php': 3172, 'symphony': 3173, 'nearby': 3174, 'fillintheblank': 3175, 'enough': 3176, 'planted': 3177, 'little': 3178, 'baby': 3179, 'ca': 3180, 'meter': 3181, 'substring': 3182, 'bangladesh': 3183, 'magnitude': 3184, 'habit': 3185, 'donating': 3186, 'singing': 3187, 'access': 3188, 'protection': 3189, 'switch': 3190, 'robotic': 3191, 'juice': 3192, 'recession': 3193, 'counts': 3194, 'included': 3195, 'appliances': 3196, 'seeing': 3197, 'concisely': 3198, 'depth': 3199, 'specify': 3200, 'tablespoon': 3201, 'failure': 3202, 'geography': 3203, 'mind': 3204, 'feathers': 3205, 'electrons': 3206, 'plantbased': 3207, 'rome': 3208, 'forget': 3209, 'happening': 3210, 'supplies': 3211, 'underline': 3212, 'generating': 3213, 'modifiers': 3214, 'outcomes': 3215, 'discovered': 3216, 'circles': 3217, 'everything': 3218, 'challenging': 3219, 'reality': 3220, 'demonstrating': 3221, 'colon': 3222, 'refactor': 3223, 'objectoriented': 3224, 'summation': 3225, 'assume': 3226, 'profanity': 3227, 'paste': 3228, 'offers': 3229, 'impacts': 3230, 'korea': 3231, 'problemsolving': 3232, 'operate': 3233, 'islands': 3234, 'pride': 3235, 'couldnt': 3236, 'fuel': 3237, 'illustrating': 3238, 'unhappy': 3239, 'layer': 3240, 'submit': 3241, 'special': 3242, 'browser': 3243, 'references': 3244, 'xml': 3245, 'jar': 3246, 'mango': 3247, 'recycle': 3248, 'battle': 3249, 'precipitation': 3250, 'pasta': 3251, 'tea': 3252, 'station': 3253, 'entrepreneur': 3254, 'magical': 3255, 'flavor': 3256, 'sign': 3257, 'similes': 3258, 'plays': 3259, 'potato': 3260, 'converts': 3261, 'moonlight': 3262, 'operation': 3263, 'proofread': 3264, 'z': 3265, 'classical': 3266, 'concert': 3267, 'architecture': 3268, 'elapsed': 3269, 'masses': 3270, 'sunday': 3271, 'climb': 3272, 'molecules': 3273, 'aluminum': 3274, 'bowl': 3275, 'thunder': 3276, 'constitution': 3277, 'wolf': 3278, 'homework': 3279, 'enthusiastic': 3280, 'alliterative': 3281, 'teachers': 3282, 'emissions': 3283, 'incorporates': 3284, 'incorporate': 3285, 'bacteria': 3286, 'barrier': 3287, 'reef': 3288, 'sour': 3289, 'connects': 3290, 'suggested': 3291, 'outline': 3292, 'manmade': 3293, 'viewers': 3294, 'director': 3295, 'quantitative': 3296, 'shark': 3297, 'fitting': 3298, 'athlete': 3299, 'further': 3300, 'relax': 3301, 'rosebush': 3302, 'threw': 3303, 'roles': 3304, 'subtracting': 3305, 'responsible': 3306, 'variations': 3307, 'misplaced': 3308, 'maria': 3309, 'smartphone': 3310, 'entity': 3311, 'serious': 3312, 'bot': 3313, 'italics': 3314, 'eye': 3315, 'invoke': 3316, 'laugh': 3317, 'homonym': 3318, 'latin': 3319, 'conveyed': 3320, 'memorize': 3321, 'centers': 3322, 'external': 3323, 'yard': 3324, 'applies': 3325, 'uncertainty': 3326, 'others': 3327, 'implicit': 3328, 'lbs': 3329, 'skiing': 3330, 'revolves': 3331, 'gap': 3332, 'nth': 3333, 'struggling': 3334, 'shakespeare': 3335, 'diagonal': 3336, 'introduction': 3337, 'zones': 3338, 'oxidation': 3339, 'sulfur': 3340, 'ii': 3341, 'calcium': 3342, 'rewritten': 3343, 'owl': 3344, 'kmh': 3345, 'appropriately': 3346, 'spaces': 3347, 'radians': 3348, 'halflife': 3349, 'skill': 3350, 'transport': 3351, 'squared': 3352, 'teaching': 3353, 'occupation': 3354, 'modifications': 3355, 'bio': 3356, 'rises': 3357, 'months': 3358, 'explores': 3359, 'parties': 3360, 'scan': 3361, 'j': 3362, 'advantage': 3363, 'roman': 3364, 'matching': 3365, 'discovery': 3366, 'efficiency': 3367, 'moons': 3368, 'vacuum': 3369, 'mysql': 3370, 'shipping': 3371, 'webbased': 3372, 'taglabel': 3373, 'switzerland': 3374, 'codes': 3375, 'emergency': 3376, 'tsp': 3377, 'loss': 3378, 'investors': 3379, 'reduction': 3380, 'experts': 3381, 'loans': 3382, 'myself': 3383, 'theft': 3384, 'ongoing': 3385, 'trouble': 3386, 'transactions': 3387, 'commodity': 3388, 'txt': 3389, 'linkedin': 3390, 'millions': 3391, 'spending': 3392, 'earn': 3393, 'spend': 3394, 'abbreviated': 3395, 'internationally': 3396, 'lodging': 3397, 'housing': 3398, 'rather': 3399, 'nyse': 3400, 'checks': 3401, 'sp': 3402, 'googles': 3403, 'cap': 3404, 'almost': 3405, 'governments': 3406, 'screener': 3407, 'aggressive': 3408, 'systematic': 3409, 'knowing': 3410, 'reports': 3411, 'shareholders': 3412, 'reconcile': 3413, 'ftse': 3414, 'xxx': 3415, 'madrid': 3416, 'mibor': 3417, 'euribor': 3418, 'expense': 3419, 'domestic': 3420, 'equity': 3421, 'fein': 3422, 'coca': 3423, 'cola': 3424, 'barriers': 3425, 'marketable': 3426, 'securities': 3427, 'associate': 3428, 'commodities': 3429, 'synergy': 3430, 'signify': 3431, 'doubleentry': 3432, 'regarded': 3433, 'citizen': 3434, 'non': 3435, 'forex': 3436, 'parttime': 3437, 'gain': 3438, 'quickbooks': 3439, 'labor': 3440, 'deal': 3441, 'transfers': 3442, 'actually': 3443, 'anymore': 3444, 'millionaires': 3445, 'auto': 3446, 'fuss': 3447, 'straddle': 3448, 'lots': 3449, 'ipo': 3450, 'front': 3451, 'valuation': 3452, 'owns': 3453, 'upon': 3454, 'himself': 3455, 'speculate': 3456, 'charge': 3457, 'incoming': 3458, 'offline': 3459, 'deduction': 3460, 'discounts': 3461, 'holding': 3462, 'shortterm': 3463, 'reserves': 3464, 'receipt': 3465, 'switching': 3466, 'invest': 3467, 'pins': 3468, 'irs': 3469, 'doublecount': 3470, 'automate': 3471, 'ratios': 3472, 'accounting': 3473, 'interactive': 3474, 'brokers': 3475, 'performing': 3476, 'sync': 3477, 'bet': 3478, 'shortsell': 3479, 'banking': 3480, 'huge': 3481, 'competitive': 3482, 'popcorn': 3483, 'currencies': 3484, 'csv': 3485, 'averaging': 3486, 'earnings': 3487, 'co': 3488, 'marriage': 3489, 'sbi': 3490, 'receive': 3491, 'inquiry': 3492, 'yield': 3493, 'collar': 3494, 'biomes': 3495, 'aim': 3496, 'tenacious': 3497, 'mid': 3498, 'west': 3499, 'completion': 3500, 'explaining': 3501, 'beaver': 3502, 'employs': 3503, 'bytes': 3504, 'standardize': 3505, 'iso': 3506, 'hygiene': 3507, 'strange': 3508, 'ends': 3509, 'chord': 3510, 'albert': 3511, 'einstein': 3512, 'storytelling': 3513, 'cryptocurrencies': 3514, 'protective': 3515, 'literal': 3516, 'tried': 3517, 'candidate': 3518, 'houston': 3519, 'teamwork': 3520, 'spirit': 3521, 'miami': 3522, 'milkshake': 3523, 'attitudes': 3524, 'devastating': 3525, 'insertion': 3526, 'supervisor': 3527, 'duties': 3528, 'ibm': 3529, 'eloquently': 3530, 'difficulties': 3531, 'laundry': 3532, 'reveal': 3533, 'posting': 3534, 'studies': 3535, 'viable': 3536, 'singer': 3537, 'probable': 3538, 'spelled': 3539, 'hopeful': 3540, 'extreme': 3541, 'unstructured': 3542, 'driving': 3543, 'amusement': 3544, 'centimetres': 3545, 'reddit': 3546, 'thread': 3547, 'violent': 3548, 'roots': 3549, 'majors': 3550, 'omnivore': 3551, 'drawing': 3552, 'deck': 3553, 'emotionally': 3554, 'writers': 3555, 'discovering': 3556, 'factorization': 3557, 'preparation': 3558, 'confidential': 3559, 'contribute': 3560, 'unhealthy': 3561, 'salmon': 3562, 'ranking': 3563, 'rainfall': 3564, 'unable': 3565, 'joining': 3566, 'lamp': 3567, 'religions': 3568, 'therefore': 3569, 'silent': 3570, 'thursday': 3571, 'rollercoaster': 3572, 'primates': 3573, 'backbone': 3574, 'leaves': 3575, 'village': 3576, 'hilarious': 3577, 'terabyte': 3578, 'functional': 3579, 'paintings': 3580, 'pablo': 3581, 'invention': 3582, 'repair': 3583, 'cloudbased': 3584, 'alone': 3585, 'celestial': 3586, 'lawyer': 3587, 'reputable': 3588, 'distant': 3589, 'subjectverbobject': 3590, 'captivating': 3591, 'endemic': 3592, 'mahatma': 3593, 'gandhi': 3594, 'angled': 3595, 'conciseness': 3596, 'locate': 3597, 'stays': 3598, 'dating': 3599, 'wheels': 3600, 'inclusion': 3601, 'lungs': 3602, 'alices': 3603, 'adventures': 3604, 'wonderland': 3605, 'awe': 3606, 'peru': 3607, 'press': 3608, 'filling': 3609, 'ravioli': 3610, 'improvements': 3611, 'traveled': 3612, 'drinks': 3613, 'sticks': 3614, 'felt': 3615, 'asleep': 3616, 'perseverance': 3617, 'defeat': 3618, 'shame': 3619, 'directors': 3620, 'ceiling': 3621, 'regret': 3622, 'negation': 3623, 'marked': 3624, 'plastics': 3625, 'opposites': 3626, 'reverses': 3627, 'cpu': 3628, 'centuries': 3629, 'stitch': 3630, 'butterfly': 3631, 'spots': 3632, 'politicians': 3633, 'youre': 3634, 'rendering': 3635, 'differently': 3636, 'atmospheric': 3637, 'arctic': 3638, 'bon': 3639, 'canal': 3640, 'permission': 3641, 'recommendations': 3642, 'fundamental': 3643, 'forces': 3644, 'herbs': 3645, 'determination': 3646, 'thank': 3647, 'kit': 3648, 'xx': 3649, 'breathe': 3650, 'godfather': 3651, 'endpoint': 3652, 'annuals': 3653, 'experienced': 3654, 'driven': 3655, 'allusion': 3656, 'snippets': 3657, 'proposal': 3658, 'lack': 3659, 'romeo': 3660, 'arr': 3661, 'stands': 3662, 'gifts': 3663, 'dissimilar': 3664, 'randomly': 3665, 'dnde': 3666, 'estacin': 3667, 'ordered': 3668, 'medication': 3669, 'warmup': 3670, 'worst': 3671, 'client': 3672, 'enhance': 3673, 'congruent': 3674, 'oak': 3675, 'r': 3676, 'punishment': 3677, 'commaseparated': 3678, 'euphemism': 3679, 'died': 3680, 'xyz': 3681, 'federal': 3682, 'considering': 3683, 'held': 3684, 'colorado': 3685, 'twoletter': 3686, 'facebook': 3687, 'octagon': 3688, 'boils': 3689, 'galaxy': 3690, 'breaks': 3691, 'taught': 3692, 'prepositional': 3693, 'assuming': 3694, 'tons': 3695, 'weekly': 3696, 'riding': 3697, 'assertion': 3698, 'infographic': 3699, 'layout': 3700, 'musicians': 3701, 'entitle': 3702, 'sarcasm': 3703, 'unlock': 3704, 'whales': 3705, 'voted': 3706, 'tangible': 3707, 'chronic': 3708, 'bc': 3709, 'waters': 3710, 'peaceful': 3711, 'notice': 3712, 'backup': 3713, 'fluent': 3714, 'px': 3715, 'transparency': 3716, 'crisp': 3717, 'extracts': 3718, 'approximately': 3719, 'retained': 3720, 'combinations': 3721, 'links': 3722, 'flabbergasted': 3723, 'astronomy': 3724, 'unsupervised': 3725, 'stance': 3726, 'transitions': 3727, 'contrasting': 3728, 'variation': 3729, 'vegetarian': 3730, 'viruses': 3731, 'nonverbal': 3732, 'concluding': 3733, 'euros': 3734, 'reverseengineer': 3735, 'processes': 3736, 'relief': 3737, 'cohesive': 3738, 'fictitious': 3739, 'agency': 3740, 'operators': 3741, 'reallife': 3742, 'magnetic': 3743, 'except': 3744, 'apology': 3745, 'flying': 3746, 'kangaroos': 3747, 'custom': 3748, 'visitor': 3749, 'savory': 3750, 'facilitate': 3751, 'conventions': 3752, 'relativity': 3753, 'castle': 3754, 'cliches': 3755, 'seperated': 3756, 'uplifting': 3757, 'travels': 3758, 'extend': 3759, 'revolutionized': 3760, 'selection': 3761, 'wh': 3762, 'plagiarism': 3763, 'thrilled': 3764, 'multiplechoice': 3765, 'magnet': 3766, 'movement': 3767, 'subtotal': 3768, 'contributes': 3769, 'correcting': 3770, 'decomposers': 3771, 'certainty': 3772, 'parks': 3773, 'metaphors': 3774, 'stanza': 3775, 'evaluating': 3776, 'altering': 3777, 'significantly': 3778, 'holidays': 3779, 'champions': 3780, 'league': 3781, 'grid': 3782, 'moved': 3783, 'optimal': 3784, 'wine': 3785, 'pentagon': 3786, 'festival': 3787, 'grape': 3788, 'willing': 3789, 'proteins': 3790, 'gas': 3791, 'metaphorical': 3792, 'amphibians': 3793, 'disorder': 3794, 'hexagon': 3795, 'silver': 3796, 'poems': 3797, 'saves': 3798, 'acquire': 3799, 'converse': 3800, 'assigned': 3801, 'superfluous': 3802, 'apart': 3803, 'extinction': 3804, 'safety': 3805, 'maskwearing': 3806, 'opinionated': 3807, 'ambiguous': 3808, 'amphibian': 3809, 'insect': 3810, 'delightful': 3811, 'jurassic': 3812, 'hibernate': 3813, 'subscription': 3814, 'invite': 3815, 'collocation': 3816, 'tongue': 3817, 'twister': 3818, 'bestselling': 3819, 'readable': 3820, 'madison': 3821, 'multiplies': 3822, 'geological': 3823, 'consisting': 3824, 'thick': 3825, 'fossil': 3826, 'resolution': 3827, 'retains': 3828, 'conduct': 3829, 'celebratory': 3830, 'entered': 3831, 'requested': 3832, 'pythagorean': 3833, 'poet': 3834, 'inclusive': 3835, 'attractive': 3836, 'cowardly': 3837, 'came': 3838, 'pakistan': 3839, 'fiber': 3840, 'addressing': 3841, 'stem': 3842, 'oneway': 3843, 'ny': 3844, 'mushroom': 3845, 'seed': 3846, 'protons': 3847, 'invalid': 3848, 'subordination': 3849, 'butter': 3850, 'standards': 3851, 'occured': 3852, 'closedended': 3853, 'stonehenge': 3854, 'starry': 3855, 'underlying': 3856, 'altitude': 3857, 'austria': 3858, 'computes': 3859, 'sang': 3860, 'vertebrates': 3861, 'correctness': 3862, 'temperate': 3863, 'nuclear': 3864, 'blood': 3865, 'broke': 3866, 'jazz': 3867, 'hiphop': 3868, 'succinctly': 3869, 'ph': 3870, 'ion': 3871, 'mistreated': 3872, 'debugging': 3873, 'hopped': 3874, 'comprehension': 3875, 'breadth': 3876, 'knife': 3877, 'fork': 3878, 'spoon': 3879, 'duration': 3880, 'featured': 3881, 'searching': 3882, 'awareness': 3883, 'mine': 3884, 'aged': 3885, 'vote': 3886, 'glitters': 3887, 'theatre': 3888, 'philosophy': 3889, 'sarah': 3890, 'caterpillar': 3891, 'waited': 3892, 'eternity': 3893, 'lush': 3894, 'prescribed': 3895, 'clip': 3896, 'greener': 3897, 'memorizing': 3898, 'attending': 3899, 'narrator': 3900, 'yen': 3901, 'employers': 3902, 'suffix': 3903, 'cookout': 3904, 'portrait': 3905, 'shelter': 3906, 'motives': 3907, 'notable': 3908, 'crime': 3909, 'butterflies': 3910, 'activists': 3911, 'englishlanguage': 3912, 'verbal': 3913, 'reasoning': 3914, 't': 3915, 'frozen': 3916, 'inspired': 3917, 'integrity': 3918, 'subtraction': 3919, 'gradient': 3920, 'loud': 3921, 'strenuous': 3922, 'eclipse': 3923, 'pond': 3924, 'deeper': 3925, 'apartment': 3926, 'toss': 3927, 'causeeffect': 3928, 'midrange': 3929, 'localize': 3930, 'timezone': 3931, 'rhymes': 3932, 'intricate': 3933, 'increasingly': 3934, 'ascii': 3935, 'sciences': 3936, 'consumed': 3937, 'relationships': 3938, 'differences': 3939, 'introductory': 3940, 'costeffective': 3941, 'grief': 3942, 'serves': 3943, 'projects': 3944, 'implemented': 3945, 'stretching': 3946, 'iambic': 3947, 'pentameter': 3948, 'rearranged': 3949, 'magazine': 3950, 'optimized': 3951, 'themselves': 3952, 'bakery': 3953, 'newly': 3954, 'foundation': 3955, 'entertainment': 3956, 'decisions': 3957, 'engagement': 3958, 'aid': 3959, 'equally': 3960, 'decipher': 3961, 'staying': 3962, 'princess': 3963, 'slide': 3964, 'thesaurus': 3965, 'jane': 3966, 'topping': 3967, 'pineapple': 3968, 'exploration': 3969, 'fully': 3970, 'spider': 3971, 'crowd': 3972, 'attack': 3973, 'jovial': 3974, 'parents': 3975, 'goods': 3976, 'collective': 3977, 'twilight': 3978, 'effectiveness': 3979, 'crossing': 3980, 'women': 3981, 'highend': 3982, 'splitting': 3983, 'rearranging': 3984, 'wise': 3985, 'homeless': 3986, 'moves': 3987, 'awards': 3988, 'completing': 3989, 'brightest': 3990, 'anxiety': 3991, 'chickens': 3992, 'zoo': 3993, 'immense': 3994, 'taxonomy': 3995, 'nonmaterial': 3996, 'salt': 3997, 'beneficial': 3998, 'initial': 3999, 'shade': 4000, 'fleschkincaid': 4001, 'animation': 4002, 'interface': 4003, 'limerick': 4004, 'doors': 4005, 'dress': 4006, 'agree': 4007, 'parallelism': 4008, 'backpack': 4009, 'quicksort': 4010, 'touch': 4011, 'serving': 4012, 'sandwiches': 4013, 'waterfall': 4014, 'swim': 4015, 'noisy': 4016, 'noise': 4017, 'relabel': 4018, 'spaghetti': 4019, 'spends': 4020, 'hospital': 4021, 'surgery': 4022, 'violates': 4023, 'compatible': 4024, 'bees': 4025, 'fantastic': 4026, 'invitation': 4027, 'determines': 4028, 'classifies': 4029, 'animate': 4030, 'exclamatory': 4031, 'careless': 4032, 'mysterious': 4033, 'sonnet': 4034, 'appreciate': 4035, 'arrested': 4036, 'abide': 4037, 'policies': 4038, 'arc': 4039, 'survive': 4040, 'carnivores': 4041, 'alcohol': 4042, 'families': 4043, 'journal': 4044, 'brain': 4045, 'remarkable': 4046, 'electrical': 4047, 'overwhelming': 4048, 'depicts': 4049, 'connected': 4050, 'vast': 4051, 'dc': 4052, 'grandfather': 4053, 'tails': 4054, 'chef': 4055, 'commanding': 4056, 'medium': 4057, 'odds': 4058, 'occuring': 4059, 'spectrum': 4060, 'organism': 4061, 'gcd': 4062, 'dialect': 4063, 'indicating': 4064, 'heights': 4065, 'quip': 4066, 'cue': 4067, 'stranded': 4068, 'threeline': 4069, 'omit': 4070, 'grooming': 4071, 'leaders': 4072, 'inaccuracies': 4073, 'e': 4074, 'whole': 4075, 'indicated': 4076, 'beat': 4077, 'sentece': 4078, 'knight': 4079, 'relentless': 4080, 'chicken': 4081, 'organizing': 4082, 'belt': 4083, 'zerosum': 4084, 'prose': 4085, 'orbit': 4086, 'highlighting': 4087, 'core': 4088, 'chosen': 4089, 'altered': 4090, 'coastline': 4091, 'nested': 4092, 'premises': 4093, 'recursive': 4094, 'starring': 4095, 'landing': 4096, 'fulltime': 4097, 'veux': 4098, 'legs': 4099, 'interviewee': 4100, 'converting': 4101, 'leg': 4102, 'chords': 4103, 'annotate': 4104, 'respectful': 4105, 'bustling': 4106, 'fail': 4107, 'pasttense': 4108, 'indices': 4109, 'rotate': 4110, 'clockwise': 4111, 'dice': 4112, 'imperial': 4113, 'brightly': 4114, 'chain': 4115, 'horns': 4116, 'cheap': 4117, 'threedimensional': 4118, 'trendy': 4119, 'executive': 4120, 'clarify': 4121, 'reasonable': 4122, 'readers': 4123, 'descriptors': 4124, 'unchanged': 4125, 'occurring': 4126, 'furious': 4127, 'outdated': 4128, 'collecting': 4129, 'bmi': 4130, 'statistical': 4131, 'spiders': 4132, 'insects': 4133, 'flavors': 4134, 'parrot': 4135, 'initiate': 4136, 'directory': 4137, 'achieving': 4138, 'organs': 4139, 'opinions': 4140, 'emma': 4141, 'complicated': 4142, 'farthest': 4143, 'terminology': 4144, 'havehas': 4145, 'verbing': 4146, 'intersection': 4147, 'elegant': 4148, 'citations': 4149, 'placed': 4150, 'consists': 4151, 'nursery': 4152, 'repetitive': 4153, 'footage': 4154, 'hardships': 4155, 'viral': 4156, 'matrices': 4157, 'fungus': 4158, 'adj': 4159, 'jet': 4160, 'steak': 4161, 'depending': 4162, 'upper': 4163, 'advocate': 4164, 'selects': 4165, 'needy': 4166, 'breeze': 4167, 'olive': 4168, 'island': 4169, 'gardening': 4170, 'challenges': 4171, 'enigmatic': 4172, 'observations': 4173, 'heroes': 4174, 'villains': 4175, 'separates': 4176, 'childhood': 4177, 'pancake': 4178, 'dutch': 4179, 'melody': 4180, 'streets': 4181, 'liked': 4182, 'saturday': 4183, 'conjunctive': 4184, 'consumers': 4185, 'yards': 4186, 'selector': 4187, 'mouth': 4188, 'turning': 4189, 'chaos': 4190, 'managed': 4191, 'lies': 4192, 'fairy': 4193, 'minimize': 4194, 'cottage': 4195, 'hobbies': 4196, 'auxiliary': 4197, 'satirical': 4198, 'discover': 4199, 'gigabyte': 4200, 'interaction': 4201, 'rains': 4202, 'farmer': 4203, 'deleting': 4204, 'classifier': 4205, 'determinant': 4206, 'zodiac': 4207, 'tenword': 4208, 'understandable': 4209, 'categorizing': 4210, 'stated': 4211, 'illogical': 4212, 'kgs': 4213, 'enchanted': 4214, 'bibliography': 4215, 'eraser': 4216, 'ruler': 4217, 'ill': 4218, 'eloquent': 4219, 'rush': 4220, 'newsletter': 4221, 'zone': 4222, 'lesson': 4223, 'cinquain': 4224, 'tomato': 4225, 'broccoli': 4226, 'watermelon': 4227, 'criterion': 4228, 'databases': 4229, 'numeric': 4230, 'designers': 4231, 'powers': 4232, 'celebrated': 4233, 'analogies': 4234, 'awarded': 4235, 'preserve': 4236, 'several': 4237, 'reunion': 4238, 'comedic': 4239, 'biking': 4240, 'locations': 4241, 'broadway': 4242, 'bill': 4243, 'hike': 4244, 'producer': 4245, 'interact': 4246, 'wet': 4247, 'ears': 4248, 'binomial': 4249, 'nomenclature': 4250, 'sister': 4251, 'central': 4252, 'successfully': 4253, 'diabetes': 4254, 'cancer': 4255, 'peter': 4256, 'enjoying': 4257, 'wood': 4258, 'allergens': 4259, 'founder': 4260, 'admiration': 4261, 'mix': 4262, 'politeness': 4263, 'covers': 4264, 'aphorism': 4265, 'freelancer': 4266, 'ambition': 4267, 'increased': 4268, 'creation': 4269, 'throw': 4270, 'jingle': 4271, 'wedding': 4272, 'australian': 4273, 'reimagine': 4274, 'slopeintercept': 4275, 'portray': 4276, 'furthest': 4277, 'applied': 4278, 'pleased': 4279, 'though': 4280, 'annoying': 4281, 'pointofview': 4282, 'gpa': 4283, 'swapping': 4284, 'literacy': 4285, 'tie': 4286, 'turkey': 4287, 'posed': 4288, 'colleague': 4289, 'aroma': 4290, 'mice': 4291, 'despair': 4292, 'traditionally': 4293, 'forests': 4294, 'accessory': 4295, 'musician': 4296, 'tennis': 4297, 'announcing': 4298, 'closer': 4299, 'hamster': 4300, 'edible': 4301, 'principal': 4302, 'airplane': 4303, 'revolutionizing': 4304, 'communicate': 4305, 'mayor': 4306, 'verification': 4307, 'advancing': 4308, 'rapidly': 4309, 'inserting': 4310, 'behold': 4311, 'causing': 4312, 'closely': 4313, 'momentum': 4314, 'ij': 4315, 'avatar': 4316, 'cook': 4317, 'treat': 4318, 'omitting': 4319, 'aerobic': 4320, 'comfortable': 4321, 'presence': 4322, 'cows': 4323, 'seo': 4324, 'tastes': 4325, 'gross': 4326, 'webpage': 4327, 'rewriting': 4328, 'owners': 4329, 'spacex': 4330, 'rhombus': 4331, 'pull': 4332, 'startup': 4333, 'focuses': 4334, 'empire': 4335, 'historically': 4336, 'qualitative': 4337, 'camp': 4338, 'urgent': 4339, 'cupcake': 4340, 'peace': 4341, 'clam': 4342, 'preferences': 4343, 'teeth': 4344, 'synopsis': 4345, 'airline': 4346, 'drugs': 4347, 'caffeine': 4348, 'safari': 4349, 'breaking': 4350, 'struggles': 4351, 'predicting': 4352, 'swift': 4353, 'interacting': 4354, 'mixed': 4355, 'intended': 4356, 'phonetic': 4357, 'thanksgiving': 4358, 'wellness': 4359, 'jacket': 4360, 'substitution': 4361, 'smoother': 4362, 'connection': 4363, 'album': 4364, 'van': 4365, 'leadership': 4366, 'xyxy': 4367, 'imaginary': 4368, 'domain': 4369, 'psychology': 4370, 'shipped': 4371, 'decompose': 4372, 'twenty': 4373, 'chemistry': 4374, 'goldfish': 4375, 'detailing': 4376, 'predator': 4377, 'prey': 4378, 'persist': 4379, 'lessons': 4380, 'punny': 4381, 'silly': 4382, 'focused': 4383, 'desk': 4384, 'romance': 4385, 'bigger': 4386, 'fortune': 4387, 'cookie': 4388, 'relate': 4389, 'preface': 4390, 'pronounce': 4391, 'metropolitan': 4392, 'quarantine': 4393, 'derived': 4394, 'landlocked': 4395, 'act': 4396, 'aardvark': 4397, 'boundaries': 4398, 'wave': 4399, 'composite': 4400, 'excitement': 4401, 'recategorize': 4402, 'besides': 4403, 'comic': 4404, 'chapter': 4405, 'textbook': 4406, 'improper': 4407, 'yaml': 4408, 'seattle': 4409, 'vulgar': 4410, 'ripe': 4411, 'creatures': 4412, 'looked': 4413, 'h': 4414, 'focusing': 4415, 'sweden': 4416, 'partition': 4417, 'posts': 4418, 'magic': 4419, 'isbn': 4420, 'david': 4421, 'sam': 4422, 'astonished': 4423, 'teaspoon': 4424, 'flipping': 4425, 'definitions': 4426, 'opens': 4427, 'breath': 4428, 'fixed': 4429, 'jk': 4430, 'relaxing': 4431, 'private': 4432, 'crossword': 4433, 'welcome': 4434, 'phases': 4435, 'durable': 4436, 'wonder': 4437, 'growing': 4438, 'metals': 4439, 'pack': 4440, 'particles': 4441, 'zipcode': 4442, 'eliminating': 4443, 'farming': 4444, 'supports': 4445, 'invited': 4446, 'vibrant': 4447, 'dropdown': 4448, 'acts': 4449, 'introduced': 4450, 'paint': 4451, 'deer': 4452, 'advanced': 4453, 'substances': 4454, 'cruise': 4455, 'dawn': 4456, 'illinois': 4457, 'painters': 4458, 'directed': 4459, 'desired': 4460, 'satisfy': 4461, 'tenth': 4462, 'biases': 4463, 'eligible': 4464, 'transitive': 4465, 'trend': 4466, 'standing': 4467, 'tasty': 4468, 'listen': 4469, 'saved': 4470, 'americas': 4471, 'collaboration': 4472, 'inspire': 4473, 'shes': 4474, 'nobody': 4475, 'gorilla': 4476, 'pot': 4477, 'desktop': 4478, 'anything': 4479, 'crowded': 4480, 'trace': 4481, 'tests': 4482, 'dusk': 4483, 'colored': 4484, 'scored': 4485, 'fourword': 4486, 'satisfied': 4487, 'ages': 4488, 'watched': 4489, 'fur': 4490, 'pi': 4491, 'clues': 4492, 'told': 4493, 'exhibition': 4494, 'nontrivial': 4495, 'comments': 4496, 'emphatic': 4497, 'frankenstein': 4498, 'clusters': 4499, 'blanket': 4500, 'deploy': 4501, 'zip': 4502, 'county': 4503, 'dashboard': 4504, 'designing': 4505, 'desserts': 4506, 'bordering': 4507, 'majority': 4508, 'capable': 4509, 'programs': 4510, 'enables': 4511, 'insulators': 4512, 'factbased': 4513, 'barn': 4514, 'capricious': 4515, 'rap': 4516, 'head': 4517, 'verify': 4518, 'factual': 4519, 'accountant': 4520, 'associations': 4521, 'shy': 4522, 'bell': 4523, 'arizona': 4524, 'teapot': 4525, 'instagram': 4526, 'navigation': 4527, 'knockknock': 4528, 'inputted': 4529, 'emily': 4530, 'dispute': 4531, 'brief': 4532, 'eyes': 4533, 'grew': 4534, 'mathematicians': 4535, 'scent': 4536, 'freshly': 4537, 'extension': 4538, 'hill': 4539, 'universal': 4540, 'credentials': 4541, 'skip': 4542, 'popularity': 4543, 'kmeans': 4544, 'dramatic': 4545, 'courses': 4546, 'edge': 4547, 'buildings': 4548, 'gatsby': 4549, 'opposing': 4550, 'dialog': 4551, 'prioritize': 4552, 'cubic': 4553, 'breeds': 4554, 'illustration': 4555, 'grabbing': 4556, 'gods': 4557, 'doctype': 4558, 'lord': 4559, 'rings': 4560, 'enthalpy': 4561, 'navy': 4562, 'raise': 4563, 'philosophical': 4564, 'icebreaker': 4565, 'judge': 4566, 'peaks': 4567, 'interested': 4568, 'rephrased': 4569, 'owner': 4570, 'vision': 4571, 'let': 4572, 'industries': 4573, 'catchphrase': 4574, 'producing': 4575, 'questionnaire': 4576, 'happily': 4577, 'intersecting': 4578, 'oscar': 4579, 'spinning': 4580, 'innovations': 4581, 'noodles': 4582, 'politician': 4583, 'stroke': 4584, 'rpa': 4585, 'bots': 4586, 'affirmation': 4587, 'obtaining': 4588, 'bookstore': 4589, 'insights': 4590, 'triangular': 4591, 'scissors': 4592, 'jealous': 4593, 'package': 4594, 'simplified': 4595, 'effectively': 4596, 'factory': 4597, 'jargon': 4598, 'timeconsuming': 4599, 'strongest': 4600, 'rebuy': 4601, 'determining': 4602, 'earning': 4603, 'bankruptdiluting': 4604, 'lenders': 4605, 'brickandmortar': 4606, 'mappings': 4607, 'sedol': 4608, 'isin': 4609, 'emergencies': 4610, 'reinvestment': 4611, 'portfolios': 4612, 'fyye': 4613, 'reporting': 4614, 'leverage': 4615, 'hedges': 4616, 'zerointerest': 4617, 'selfselect': 4618, 'isa': 4619, 'providers': 4620, 'dad': 4621, 'unsecured': 4622, 'freelancing': 4623, 'hire': 4624, 'consultant': 4625, 'sticking': 4626, 'secured': 4627, 'tranfered': 4628, 'scam': 4629, 'emailed': 4630, 'convexity': 4631, 'roughly': 4632, 'debit': 4633, 'naming': 4634, 'fringe': 4635, 'scorp': 4636, 'decent': 4637, 'graduation': 4638, 'continued': 4639, 'coverage': 4640, 'merits': 4641, 'petrobras': 4642, 'quoted': 4643, 'endorsing': 4644, 'platinum': 4645, 'coldcallers': 4646, 'nonelectronic': 4647, 'traders': 4648, 'alltime': 4649, 'outstanding': 4650, 'cosign': 4651, 'reject': 4652, 'nicely': 4653, 'politely': 4654, 'whom': 4655, 'recover': 4656, 'liable': 4657, 'cagr': 4658, 'homes': 4659, 'ie': 4660, 'owed': 4661, 'corporations': 4662, 'massive': 4663, 'depositing': 4664, 'dba': 4665, 'economical': 4666, 'lease': 4667, 'sip': 4668, 'quarterly': 4669, 'repaying': 4670, 'profits': 4671, 'checkingsavings': 4672, 'reviewed': 4673, 'vt': 4674, 'bnd': 4675, 'preferred': 4676, 'clm': 4677, 'deferring': 4678, 'rrsps': 4679, 'bookblog': 4680, 'gainslosses': 4681, 'identifierscharacters': 4682, 'undervalued': 4683, 'cheque': 4684, 'costbasis': 4685, 'reinvestments': 4686, 'splits': 4687, 'girlfriend': 4688, 'bid': 4689, 'comparingreviewing': 4690, 'selfemployed': 4691, 'mintcom': 4692, 'pinksheet': 4693, 'nsebse': 4694, 'backtest': 4695, 'borrow': 4696, 'push': 4697, 'reinvest': 4698, 'inverse': 4699, 'fy': 4700, 'headlines': 4701, 'dilution': 4702, 'consultants': 4703, 'contractors': 4704, 'saver': 4705, 'contacted': 4706, 'settlement': 4707, 'paypals': 4708, 'nse': 4709, 'dummys': 4710, 'discrepency': 4711, 'fidelitys': 4712, 'spike': 4713, 'jewellery': 4714, 'melt': 4715, 'ira': 4716, 'gld': 4717, 'iau': 4718, 'sgol': 4719, 'supermarkets': 4720, 'rewards': 4721, 'seetrade': 4722, 'sptsx': 4723, 'forums': 4724, 'picking': 4725, 'solo': 4726, 'rrsp': 4727, 'renovation': 4728, 'basement': 4729, 'withdraw': 4730, 'oneself': 4731, 'crashes': 4732, 'files': 4733, 'nysenasdaq': 4734, 'openclose': 4735, 'governmentmandated': 4736, 'savinginvesting': 4737, 'futures': 4738, 'conservative': 4739, 'reasonably': 4740, 'lasting': 4741, 'nonpermanent': 4742, 'insouts': 4743, 'writingoff': 4744, 'denied': 4745, 'rebalancing': 4746, 'brokerage': 4747, 'freelancers': 4748, 'deductible': 4749, 'losses': 4750, 'financing': 4751, 'trackable': 4752, 'ticker': 4753, 'nymex': 4754, 'crude': 4755, 'rebalance': 4756, 'attorney': 4757, 'builder': 4758, 'wire': 4759, 'w': 4760, 'compensated': 4761, 'considerations': 4762, 'intraday': 4763, 'qqq': 4764, 'headaches': 4765, 'quicken': 4766, 'gnucash': 4767, 'syncing': 4768, 'upfront': 4769, 'thrift': 4770, 'charts': 4771, 'uncashed': 4772, 'paycheck': 4773, 'expired': 4774, 'cboe': 4775, 'updating': 4776, 'hardcopies': 4777, 'scanned': 4778, 'copies': 4779, 'wholesaler': 4780, 'heater': 4781, 'rental': 4782, 'oversimplify': 4783, 'spreadsheets': 4784, 'payments': 4785, 'ontime': 4786, 'iopts': 4787, 'physically': 4788, 'inexpensively': 4789, 'fundsetfs': 4790, 'nofee': 4791, 'export': 4792, 'td': 4793, 'ameritrade': 4794, 'agencys': 4795, 'inr': 4796, 'dividendpaying': 4797, 'hurt': 4798, 'theater': 4799, 'devaluation': 4800, 'itself': 4801, 'refinancing': 4802, 'proceeds': 4803, 'taxable': 4804, 'mkt': 4805, 'billion': 4806, 'problematic': 4807, 'cashiers': 4808, 'gym': 4809, 'membership': 4810, 'pushespulls': 4811, 'multiuser': 4812, 'nonus': 4813, 'hedged': 4814, 'highnet': 4815, 'tokens': 4816, 'dealership': 4817, 'compounding': 4818, 'dealer': 4819, 'steadily': 4820, 'investor': 4821, 'bother': 4822, 'moodys': 4823, 'fitch': 4824, 'vanguard': 4825, 'treasury': 4826, 'convention': 4827, 'ishares': 4828, 'exchangetraded': 4829, 'eurousd': 4830, 'profitloss': 4831, 'stops': 4832, 'apologize': 4833, 'skunk': 4834, 'cabbage': 4835, 'cutoff': 4836, 'hans': 4837, 'fallacies': 4838, 'onwith': 4839, 'preservation': 4840, 'barcelona': 4841, 'thesis': 4842, 'kilobyte': 4843, 'expanded': 4844, 'invasive': 4845, 'ellipsis': 4846, 'lipstick': 4847, 'valued': 4848, 'motivated': 4849, 'rockets': 4850, 'tentative': 4851, 'loathe': 4852, 'displaying': 4853, 'zephyr': 4854, 'cuddly': 4855, 'normalization': 4856, 'contemporaries': 4857, 'galileo': 4858, 'galilei': 4859, 'volumetric': 4860, 'crosssectional': 4861, 'kilogram': 4862, 'incapable': 4863, 'overseeing': 4864, 'relieved': 4865, 'tends': 4866, 'meowing': 4867, 'concludes': 4868, 'handle': 4869, 'death': 4870, 'anthropomorphism': 4871, 'symptom': 4872, 'depicted': 4873, 'midi': 4874, 'grammaticaly': 4875, 'promised': 4876, 'oppress': 4877, 'deserve': 4878, 'ransomware': 4879, 'orthographic': 4880, 'fungi': 4881, 'braces': 4882, 'subgoals': 4883, 'ultimate': 4884, 'scrutiny': 4885, 'proverbially': 4886, 'forceful': 4887, 'peacock': 4888, 'pg': 4889, 'firm': 4890, 'unnatural': 4891, 'trigonometric': 4892, 'exclamation': 4893, 'miniutes': 4894, 'customize': 4895, 'stoic': 4896, 'dangling': 4897, 'civilisations': 4898, 'mashed': 4899, 'potatoes': 4900, 'poached': 4901, 'grandmother': 4902, 'jiu': 4903, 'jitsu': 4904, 'practitioners': 4905, 'dot': 4906, 'gargantuan': 4907, 'midpoints': 4908, 'translates': 4909, 'productivity': 4910, 'impelling': 4911, 'reusable': 4912, 'bags': 4913, 'awesomest': 4914, 'spellinggrammarstyle': 4915, 'dieting': 4916, 'synonymize': 4917, 'minds': 4918, 'alike': 4919, 'ultimatum': 4920, 'careercounseling': 4921, 'synonmym': 4922, 'lowercased': 4923, 'mail': 4924, 'ascorbic': 4925, 'fastpaced': 4926, 'slowpaced': 4927, 'gigs': 4928, 'picasso': 4929, 'sweetness': 4930, 'sweetest': 4931, 'unicef': 4932, 'cobalt': 4933, 'adventurous': 4934, 'unrelenting': 4935, 'irresistible': 4936, 'exuberant': 4937, 'frivolous': 4938, 'cyberattack': 4939, 'antidote': 4940, 'devour': 4941, 'stalactites': 4942, 'caves': 4943, 'technically': 4944, 'referred': 4945, 'galvanize': 4946, 'unrequited': 4947, 'judgement': 4948, 'fang': 4949, 'oragnize': 4950, 'disappointment': 4951, 'quirky': 4952, 'blew': 4953, 'raj': 4954, 'ghat': 4955, 'memorial': 4956, 'unskilled': 4957, 'laborers': 4958, 'engines': 4959, 'genderinclusive': 4960, 'paleontologists': 4961, 'prefixes': 4962, 'bark': 4963, 'zombie': 4964, 'cycl': 4965, 'girls': 4966, 'pictogram': 4967, 'baffle': 4968, 'curve': 4969, 'aback': 4970, 'pumpkin': 4971, 'naturalsounding': 4972, 'rest': 4973, 'selfesteem': 4974, 'geo': 4975, 'fashionable': 4976, 'reached': 4977, 'gentleman': 4978, 'nonmammals': 4979, 'bingo': 4980, 'bath': 4981, 'scrumptious': 4982, 'snail': 4983, 'optimism': 4984, 'supplying': 4985, 'encapsulates': 4986, 'grammaticallyo': 4987, 'helplessness': 4988, 'quarters': 4989, 'nickels': 4990, 'dimes': 4991, 'celebrating': 4992, 'pears': 4993, 'balls': 4994, 'wented': 4995, 'reworded': 4996, 'nonalcoholic': 4997, 'beverage': 4998, 'crushing': 4999, 'shuffled': 5000, 'serene': 5001, 'creat': 5002, 'fridays': 5003, 'welldefined': 5004, 'recommendation': 5005, 'sistine': 5006, 'chapel': 5007, 'contradiction': 5008, 'bubble': 5009, 'visibility': 5010, 'advantagebenefit': 5011, 'shineth': 5012, 'aware': 5013, 'usages': 5014, 'monochrome': 5015, 'hook': 5016, 'pop': 5017, 'organisation': 5018, 'frogs': 5019, 'cognitively': 5020, 'predefined': 5021, 'numpy': 5022, 'decline': 5023, 'kangaroo': 5024, 'royal': 5025, 'satrical': 5026, 'waver': 5027, 'midpoint': 5028, 'http': 5029, 'stationary': 5030, 'divisors': 5031, 'gram': 5032, 'trigger': 5033, 'headquartered': 5034, 'voyage': 5035, 'panama': 5036, 'lately': 5037, 'antibullying': 5038, 'culinary': 5039, 'sunburn': 5040, 'persistent': 5041, 'musthave': 5042, 'firstaid': 5043, 'biography': 5044, 'carpenter': 5045, 'messi': 5046, 'nlp': 5047, 'distacity': 5048, 'possibilities': 5049, 'endless': 5050, 'tulips': 5051, 'biblical': 5052, 'animations': 5053, 'sleeveless': 5054, 'vneck': 5055, 'jan': 5056, 'feb': 5057, 'mar': 5058, 'faced': 5059, 'dispite': 5060, 'juliet': 5061, 'rubiks': 5062, 'zeros': 5063, 'ophthalmologist': 5064, 'autobuses': 5065, 'newer': 5066, 'pollination': 5067, 'divulge': 5068, 'ap': 5069, 'pluto': 5070, 'impending': 5071, 'beljium': 5072, 'realized': 5073, 'omnipresent': 5074, 'thoughts': 5075, 'predominant': 5076, 'misspelt': 5077, 'noon': 5078, 'warmcoolcold': 5079, 'hacksaw': 5080, 'hammer': 5081, 'multiplying': 5082, 'subtends': 5083, 'gathered': 5084, 'perennial': 5085, 'reinforcement': 5086, 'readings': 5087, 'vertebrate': 5088, 'invertebrate': 5089, 'competition': 5090, 'noncitrus': 5091, 'riddles': 5092, 'suzanne': 5093, 'employed': 5094, 'corp': 5095, 'canceling': 5096, 'internships': 5097, 'rethinking': 5098, 'carbs': 5099, 'guacamole': 5100, 'educate': 5101, 'expecting': 5102, 'circumstance': 5103, 'thematic': 5104, 'toys': 5105, 'doll': 5106, 'gps': 5107, 'trajectory': 5108, 'hate': 5109, 'cyberbullying': 5110, 'publickey': 5111, 'cryptography': 5112, 'onbrand': 5113, 'playstation': 5114, 'controller': 5115, 'aloud': 5116, 'edward': 5117, 'vampire': 5118, 'silently': 5119, 'crept': 5120, 'unsuspecting': 5121, 'victim': 5122, 'locomotive': 5123, 'kw': 5124, 'friction': 5125, 'kn': 5126, 'wrting': 5127, 'pedals': 5128, 'mirror': 5129, 'ministers': 5130, 'botswana': 5131, 'insufficient': 5132, 'wordphrase': 5133, 'discriptive': 5134, 'alexander': 5135, 'conquest': 5136, 'whereas': 5137, 'summaries': 5138, 'holds': 5139, 'abbreviations': 5140, 'elevator': 5141, 'palindromic': 5142, 'reverie': 5143, 'enclosed': 5144, 'levenshtein': 5145, 'blanksthe': 5146, 'gases': 5147, 'insist': 5148, 'weights': 5149, 'helped': 5150, 'coach': 5151, 'regularly': 5152, 'analytical': 5153, 'renew': 5154, 'crimerelated': 5155, 'jargonfree': 5156, 'bb': 5157, 'humorously': 5158, 'turns': 5159, 'crop': 5160, 'subset': 5161, 'wherever': 5162, 'clutching': 5163, 'prune': 5164, 'comprehensible': 5165, 'sentimentally': 5166, 'stylesheet': 5167, 'fontstyle': 5168, 'incident': 5169, 'geometry': 5170, 'piglatin': 5171, 'molar': 5172, 'credible': 5173, 'conservancy': 5174, 'charitable': 5175, 'logistic': 5176, 'nuanced': 5177, 'buckets': 5178, 'reflection': 5179, 'dairy': 5180, 'bpm': 5181, 'twoplayer': 5182, 'drivers': 5183, 'rupee': 5184, 'nodes': 5185, 'anxious': 5186, 'anime': 5187, 'shine': 5188, 'fountain': 5189, 'cinema': 5190, 'verbosity': 5191, 'camera': 5192, 'subnet': 5193, 'worded': 5194, 'slightly': 5195, 'remainder': 5196, 'argumentative': 5197, 'pleasure': 5198, 'lando': 5199, 'trillion': 5200, 'descripion': 5201, 'airbus': 5202, 'sacrificing': 5203, 'scenarios': 5204, 'guides': 5205, 'listing': 5206, 'distributive': 5207, 'offensive': 5208, 'pens': 5209, 'wifi': 5210, 'mercury': 5211, 'stout': 5212, 'growled': 5213, 'consignment': 5214, 'neighbour': 5215, 'transformation': 5216, 'sons': 5217, 'tournament': 5218, 'validation': 5219, 'orlando': 5220, 'fl': 5221, 'ma': 5222, 'muscles': 5223, 'jaw': 5224, 'lit': 5225, 'leads': 5226, 'metagram': 5227, 'twodigit': 5228, 'hero': 5229, 'provisions': 5230, 'coworkers': 5231, 'flu': 5232, 'hardly': 5233, 'rightangled': 5234, 'blackouts': 5235, 'ballroom': 5236, 'immune': 5237, 'silhouette': 5238, 'dsp': 5239, 'processor': 5240, 'anonymous': 5241, 'laughter': 5242, 'designs': 5243, 'manufacturers': 5244, 'fascinated': 5245, 'melting': 5246, 'ecosystem': 5247, 'ownership': 5248, 'denmark': 5249, 'portugal': 5250, 'indoors': 5251, 'suburban': 5252, 'contradictory': 5253, 'uefa': 5254, 'scrambled': 5255, 'mug': 5256, 'purred': 5257, 'quietly': 5258, 'brought': 5259, 'sweater': 5260, 'grates': 5261, 'nerves': 5262, 'misspelling': 5263, 'lightning': 5264, 'login': 5265, 'proxy': 5266, 'thousands': 5267, 'compiled': 5268, 'interpreted': 5269, 'flood': 5270, 'tornado': 5271, 'normally': 5272, 'touchdown': 5273, 'aberration': 5274, 'skeptical': 5275, 'fibrous': 5276, 'globular': 5277, 'weaknesses': 5278, 'vocabularies': 5279, 'noble': 5280, 'jeff': 5281, 'genere': 5282, 'spear': 5283, 'enemy': 5284, 'advance': 5285, 'connective': 5286, 'gaps': 5287, 'odometer': 5288, 'tokenize': 5289, 'maritime': 5290, 'tailor': 5291, 'tactics': 5292, 'bite': 5293, 'consonants': 5294, 'compost': 5295, 'droughts': 5296, 'franchise': 5297, 'supper': 5298, 'gem': 5299, 'backyard': 5300, 'acolyte': 5301, 'oslo': 5302, 'exaggeration': 5303, 'preschooler': 5304, 'spare': 5305, 'punctilious': 5306, 'imparative': 5307, 'intensity': 5308, 'sunlight': 5309, 'translated': 5310, 'filler': 5311, 'typo': 5312, 'physiological': 5313, 'juliets': 5314, 'sideeffects': 5315, 'mandated': 5316, 'tunisia': 5317, 'discusses': 5318, 'implications': 5319, 'pounded': 5320, 'howled': 5321, 'theyhappyhadwerewhen': 5322, 'sleeps': 5323, 'float': 5324, 'participles': 5325, 'taiwan': 5326, 'sympathy': 5327, 'diffferent': 5328, 'sly': 5329, 'laws': 5330, 'motion': 5331, 'hexcode': 5332, 'diction': 5333, 'clinical': 5334, 'polyphonic': 5335, 'ttest': 5336, 'spoilage': 5337, 'occupational': 5338, 'plagiarize': 5339, 'dsl': 5340, 'unclear': 5341, 'hyperbola': 5342, 'divides': 5343, 'sol': 5344, 'brilla': 5345, 'hoy': 5346, 'coniferous': 5347, 'marbury': 5348, 'roe': 5349, 'wade': 5350, 'aptly': 5351, 'neon': 5352, 'sheets': 5353, 'friendships': 5354, 'maybe': 5355, 'empowerment': 5356, 'analyzed': 5357, 'byproduct': 5358, 'fuels': 5359, 'hazardous': 5360, 'nonhazardous': 5361, 'punch': 5362, 'funnier': 5363, 'generic': 5364, 'nameexamplecom': 5365, 'tricks': 5366, 'abilities': 5367, 'route': 5368, 'authoritative': 5369, 'nu': 5370, 'mbers': 5371, 'performances': 5372, 'octaveincluding': 5373, 'sharps': 5374, 'flats': 5375, 'sixteenth': 5376, 'palindromes': 5377, 'medias': 5378, 'designated': 5379, 'populated': 5380, 'ww': 5381, 'screaming': 5382, 'inspirational': 5383, 'despacito': 5384, 'truck': 5385, 'carrying': 5386, 'threestep': 5387, 'stemmer': 5388, 'bald': 5389, 'salty': 5390, 'pitchforked': 5391, 'desire': 5392, 'exams': 5393, 'ant': 5394, 'cracker': 5395, 'anomaly': 5396, 'smstext': 5397, 'haikustyle': 5398, 'ubiquitous': 5399, 'phoneme': 5400, 'neutrons': 5401, 'clutter': 5402, 'led': 5403, 'nationality': 5404, 'landed': 5405, 'sentencederive': 5406, 'philanthropy': 5407, 'serenity': 5408, 'ointment': 5409, 'peanut': 5410, 'jelly': 5411, 'fascinating': 5412, 'charging': 5413, 'targeted': 5414, 'triathlon': 5415, 'straightforward': 5416, 'covering': 5417, 'weatherrelated': 5418, 'bouquet': 5419, 'imo': 5420, 'timerelated': 5421, 'preform': 5422, 'svalbard': 5423, 'xn': 5424, 'negate': 5425, 'inviting': 5426, 'dinosaur': 5427, 'championships': 5428, 'lebron': 5429, 'taj': 5430, 'mahal': 5431, 'wins': 5432, 'puns': 5433, 'fever': 5434, 'aiming': 5435, 'pragmatic': 5436, 'developers': 5437, 'croissance': 5438, 'verte': 5439, 'deals': 5440, 'landscaping': 5441, 'fresh': 5442, 'formality': 5443, 'industrialized': 5444, 'universityenrollparentsurgedtheirtochildren': 5445, 'totally': 5446, 'flour': 5447, 'tauern': 5448, 'epiphany': 5449, 'opioid': 5450, 'punished': 5451, 'irresponsible': 5452, 'witness': 5453, 'empty': 5454, 'furnish': 5455, 'expiration': 5456, 'parallelogram': 5457, 'birth': 5458, 'herons': 5459, 'edits': 5460, 'blues': 5461, 'placid': 5462, 'snowstorm': 5463, 'recite': 5464, 'enjoys': 5465, 'hydronium': 5466, 'concentration': 5467, 'fourbar': 5468, 'shouldnt': 5469, 'rework': 5470, 'bullfrog': 5471, 'bullfrogs': 5472, 'prolific': 5473, 'foxes': 5474, 'memoir': 5475, 'twoline': 5476, 'adjectivenoun': 5477, 'shimmer': 5478, 'keepsake': 5479, 'hasty': 5480, 'histogram': 5481, 'soothing': 5482, 'reveals': 5483, 'citing': 5484, 'bonne': 5485, 'chance': 5486, 'persuade': 5487, 'dramatically': 5488, 'wooden': 5489, 'reclining': 5490, 'backrest': 5491, 'percussion': 5492, 'starstudded': 5493, 'lectured': 5494, 'disagreement': 5495, 'acrimonious': 5496, 'creatively': 5497, 'recipes': 5498, 'boring': 5499, 'node': 5500, 'youve': 5501, 'globe': 5502, 'blueberries': 5503, 'onion': 5504, 'grapefruit': 5505, 'wings': 5506, 'replay': 5507, 'eightdigit': 5508, 'builtin': 5509, 'iterates': 5510, 'mixture': 5511, 'lilac': 5512, 'buttercup': 5513, 'httpswwwhuffpostcomentryhowsocialmediaaffectsmentalhealthbbacfebabfdd': 5514, 'httpswwwnprorgsectionsgoatsandsodaexpertschildrenbenefitfromearlyexposuretolanguage': 5515, 'dazzle': 5516, 'participated': 5517, 'milliseconds': 5518, 'bottles': 5519, 'bottle': 5520, 'seemed': 5521, 'mysteries': 5522, 'kindergarteners': 5523, 'tragedy': 5524, 'occurred': 5525, 'rejecting': 5526, 'discord': 5527, 'ranked': 5528, 'actionable': 5529, 'contemporary': 5530, 'regulate': 5531, 'assigns': 5532, 'builds': 5533, 'etiquette': 5534, 'possesses': 5535, 'nutritional': 5536, 'declaring': 5537, 'alacrity': 5538, 'svo': 5539, 'budgeting': 5540, 'whatif': 5541, 'boroughs': 5542, 'lambda': 5543, 'iii': 5544, 'nightmare': 5545, 'coordinate': 5546, 'scholarship': 5547, 'apis': 5548, 'methane': 5549, 'dishonesty': 5550, 'rotates': 5551, 'colder': 5552, 'gato': 5553, 'en': 5554, 'mesa': 5555, 'customerinfo': 5556, 'minecraft': 5557, 'fishtailed': 5558, 'icy': 5559, 'reread': 5560, 'ready': 5561, 'nick': 5562, 'definitona': 5563, 'imitate': 5564, 'effervescence': 5565, 'hesitant': 5566, 'printer': 5567, 'monkey': 5568, 'queue': 5569, 'buzzwords': 5570, 'god': 5571, 'bless': 5572, 'ancestor': 5573, 'hollow': 5574, 'allocate': 5575, 'headache': 5576, 'kicked': 5577, 'meant': 5578, 'nourishing': 5579, 'revive': 5580, 'frolicking': 5581, 'convergence': 5582, 'dive': 5583, 'tence': 5584, 'fears': 5585, 'executing': 5586, 'chilli': 5587, 'cafeterias': 5588, 'dylan': 5589, 'styling': 5590, 'smiled': 5591, 'sadly': 5592, 'unfortunately': 5593, 'extraction': 5594, 'maslows': 5595, 'hierarchy': 5596, 'demands': 5597, 'succinctness': 5598, 'vocab': 5599, 'sedulous': 5600, 'soaring': 5601, 'gcf': 5602, 'hex': 5603, 'acf': 5604, 'barbados': 5605, 'aproximate': 5606, 'procedure': 5607, 'assistance': 5608, 'objection': 5609, 'vaccine': 5610, 'batesada': 5611, 'relatable': 5612, 'fluency': 5613, 'faultyincorrect': 5614, 'taime': 5615, 'wordvec': 5616, 'selfawareness': 5617, 'classificationbased': 5618, 'mediumsized': 5619, 'envy': 5620, 'bulb': 5621, 'spiritual': 5622, 'raplike': 5623, 'compliant': 5624, 'belgium': 5625, 'indigienous': 5626, 'zebra': 5627, 'ninthlargest': 5628, 'notebooks': 5629, 'decoration': 5630, 'actual': 5631, 'hair': 5632, 'fashionably': 5633, 'interviews': 5634, 'kings': 5635, 'shakespearianstyle': 5636, 'tuples': 5637, 'summative': 5638, 'controversial': 5639, 'interviewing': 5640, 'applicants': 5641, 'applicant': 5642, 'eur': 5643, 'byproducts': 5644, 'automated': 5645, 'assistants': 5646, 'mens': 5647, 'neverending': 5648, 'cycle': 5649, 'grammulner': 5650, 'caring': 5651, 'diligence': 5652, 'tossing': 5653, 'prototype': 5654, 'implore': 5655, 'discern': 5656, 'marine': 5657, 'bioluminescent': 5658, 'karaoke': 5659, 'critically': 5660, 'surprising': 5661, 'pluralization': 5662, 'soy': 5663, 'soja': 5664, 'bean': 5665, 'originating': 5666, 'worldwide': 5667, 'antivirus': 5668, 'consideration': 5669, 'astounding': 5670, 'approved': 5671, 'cosine': 5672, 'sorcerers': 5673, 'xaxis': 5674, 'yaxis': 5675, 'impressionist': 5676, 'soft': 5677, 'philosophers': 5678, 'margaret': 5679, 'atwood': 5680, 'combined': 5681, 'began': 5682, 'datamap': 5683, 'jog': 5684, 'kilometer': 5685, 'vertical': 5686, 'axis': 5687, 'paraphrasing': 5688, 'encompasses': 5689, 'hints': 5690, 'mischievous': 5691, 'voracious': 5692, 'shelves': 5693, 'statins': 5694, 'outlets': 5695, 'energetic': 5696, 'synonms': 5697, 'driverless': 5698, 'birthstone': 5699, 'heaviest': 5700, 'lightest': 5701, 'motivating': 5702, 'tosses': 5703, 'dressing': 5704, 'categorized': 5705, 'stirfry': 5706, 'stopped': 5707, 'midlevel': 5708, 'redraft': 5709, 'articulate': 5710, 'couch': 5711, 'acceptable': 5712, 'grouped': 5713, 'concision': 5714, 'adaptation': 5715, 'rare': 5716, 'receives': 5717, 'excellence': 5718, 'rms': 5719, 'selfhelp': 5720, 'subheadline': 5721, 'trueorfalse': 5722, 'clucking': 5723, 'pecking': 5724, 'competed': 5725, 'pungent': 5726, 'defined': 5727, 'charles': 5728, 'dickens': 5729, 'ous': 5730, 'discrepancies': 5731, 'introverted': 5732, 'extroverted': 5733, 'plum': 5734, 'mosquitoes': 5735, 'provinces': 5736, 'imporant': 5737, 'confirming': 5738, 'denying': 5739, 'availability': 5740, 'verdant': 5741, 'enraptured': 5742, 'decree': 5743, 'shuffling': 5744, 'iot': 5745, 'abrupt': 5746, 'interpretation': 5747, 'webpages': 5748, 'blogging': 5749, 'humidity': 5750, 'representative': 5751, 'craziest': 5752, 'lady': 5753, 'delighted': 5754, 'botnet': 5755, 'malfunctioning': 5756, 'aanthe': 5757, 'vigorous': 5758, 'sampling': 5759, 'clamber': 5760, 'scatter': 5761, 'radiate': 5762, 'timid': 5763, 'resourceful': 5764, 'ironic': 5765, 'orchestras': 5766, 'ordinary': 5767, 'environmentfriendly': 5768, 'fastcasual': 5769, 'leonardo': 5770, 'da': 5771, 'vinci': 5772, 'mona': 5773, 'lisa': 5774, 'mathematician': 5775, 'factchecking': 5776, 'calculations': 5777, 'justin': 5778, 'bieber': 5779, 'beaucoup': 5780, 'travail': 5781, 'zscore': 5782, 'accepting': 5783, 'confidence': 5784, 'compact': 5785, 'inculcate': 5786, 'melbourne': 5787, 'surrounding': 5788, 'inanimate': 5789, 'wrecked': 5790, 'foolish': 5791, 'dancing': 5792, 'delayed': 5793, 'ir': 5794, 'unbelievably': 5795, 'onebyone': 5796, 'capping': 5797, 'camouflage': 5798, 'crawled': 5799, 'deletions': 5800, 'gregorian': 5801, 'julian': 5802, 'procrastinate': 5803, 'fabulous': 5804, 'diamond': 5805, 'approval': 5806, 'bubbly': 5807, 'blindly': 5808, 'blundered': 5809, 'bedroom': 5810, 'suspect': 5811, 'aquarium': 5812, 'groundbreaking': 5813, 'ordinal': 5814, 'webapplication': 5815, 'octogenarian': 5816, 'pilgrimage': 5817, 'recursion': 5818, 'ecoregion': 5819, 'contrite': 5820, 'facade': 5821, 'verbed': 5822, 'marvel': 5823, 'apparent': 5824, 'denver': 5825, 'webinar': 5826, 'excerpts': 5827, 'discriminant': 5828, 'decreased': 5829, 'phraseology': 5830, 'declare': 5831, 'liter': 5832, 'poses': 5833, 'rohingya': 5834, 'refugees': 5835, 'ff': 5836, 'circuit': 5837, 'sensational': 5838, 'spectacular': 5839, 'superb': 5840, 'illustrator': 5841, 'shot': 5842, 'admire': 5843, 'vendors': 5844, 'penchant': 5845, 'predilection': 5846, 'vaccines': 5847, 'teaser': 5848, 'wordy': 5849, 'molality': 5850, 'organizational': 5851, 'integral': 5852, 'paintin': 5853, 'newfoundland': 5854, 'peacocks': 5855, 'shed': 5856, 'regrow': 5857, 'cheeses': 5858, 'expert': 5859, 'crystal': 5860, 'docs': 5861, 'biometrics': 5862, 'demonstrative': 5863, 'accomplish': 5864, 'winner': 5865, 'boxing': 5866, 'tyson': 5867, 'fury': 5868, 'deontay': 5869, 'wilder': 5870, 'ipod': 5871, 'polynomials': 5872, 'highstakes': 5873, 'hardest': 5874, 'perturbed': 5875, 'bak': 5876, 'cakes': 5877, 'animated': 5878, 'sailing': 5879, 'spaceship': 5880, 'cheats': 5881, 'dodecagon': 5882, 'nervous': 5883, 'gathering': 5884, 'harm': 5885, 'serendipity': 5886, 'dinosaurs': 5887, 'comet': 5888, 'striking': 5889, 'smoking': 5890, 'louvre': 5891, 'museum': 5892, 'permutation': 5893, 'prodigious': 5894, 'indelible': 5895, 'simplicity': 5896, 'infectious': 5897, 'dilemma': 5898, 'qualify': 5899, 'unified': 5900, 'coordination': 5901, 'quintillion': 5902, 'reponse': 5903, 'accessible': 5904, 'oh': 5905, 'wilderness': 5906, 'summery': 5907, 'wallop': 5908, 'accoustic': 5909, 'starred': 5910, 'maple': 5911, 'beatles': 5912, 'cafeteria': 5913, 'imagery': 5914, 'wage': 5915, 'crossings': 5916, 'mispelled': 5917, 'pine': 5918, 'upvote': 5919, 'prophet': 5920, 'subheadings': 5921, 'singleword': 5922, 'integrate': 5923, 'paths': 5924, 'brittle': 5925, 'tossed': 5926, 'rhythm': 5927, 'defines': 5928, 'textbooks': 5929, 'pursuit': 5930, 'encourage': 5931, 'soundness': 5932, 'favourite': 5933, 'seem': 5934, 'genderspecific': 5935, 'turkish': 5936, 'duct': 5937, 'tape': 5938, 'shoelaces': 5939, 'defeated': 5940, 'joins': 5941, 'sixword': 5942, 'essentials': 5943, 'mothers': 5944, 'conver': 5945, 'yxx': 5946, 'chestnutcoloured': 5947, 'volunteering': 5948, 'comically': 5949, 'boil': 5950, 'egg': 5951, 'felis': 5952, 'silvestris': 5953, 'catus': 5954, 'occupy': 5955, 'shell': 5956, 'diets': 5957, 'reduced': 5958, 'cardiovascular': 5959, 'helping': 5960, 'flights': 5961, 'lackadaisical': 5962, 'spotlight': 5963, 'arjun': 5964, 'raised': 5965, 'percentages': 5966, 'complaint': 5967, 'resolutions': 5968, 'lire': 5969, 'livre': 5970, 'wellstructured': 5971, 'subtracted': 5972, 'intimidating': 5973, 'mentions': 5974, 'insight': 5975, 'successive': 5976, 'musically': 5977, 'racecar': 5978, 'useruploaded': 5979, 'pdf': 5980, 'regards': 5981, 'bolivia': 5982, 'canceled': 5983, 'skirt': 5984, 'funeral': 5985, 'italic': 5986, 'teeming': 5987, 'doomed': 5988, 'rode': 5989, 'deny': 5990, 'beings': 5991, 'kenopsia': 5992, 'amazons': 5993, 'citys': 5994, 'skyline': 5995, 'roll': 5996, 'tripped': 5997, 'exoplanet': 5998, 'arkansas': 5999, 'thirteen': 6000, 'foramina': 6001, 'skull': 6002, 'volatility': 6003, 'bearish': 6004, 'trim': 6005, 'mustard': 6006, 'bull': 6007, 'encouraged': 6008, 'nonadjacent': 6009, 'tangent': 6010, 'diego': 6011, 'civilization': 6012, 'giza': 6013, 'pessimistic': 6014, 'soviet': 6015, 'anagogic': 6016, 'knitting': 6017, 'typographic': 6018, 'contentment': 6019, 'recipient': 6020, 'meat': 6021, 'caf': 6022, 'thoughtprovoking': 6023, 'sanitation': 6024, 'offenses': 6025, 'felony': 6026, 'measuring': 6027, 'assertive': 6028, 'scalability': 6029, 'reliability': 6030, 'circular': 6031, 'experiments': 6032, 'breach': 6033, 'emotive': 6034, 'clickbaity': 6035, 'synchronize': 6036, 'flown': 6037, 'baltic': 6038, 'mathematically': 6039, 'accepts': 6040, 'remain': 6041, 'bilingual': 6042, 'auditorium': 6043, 'chairs': 6044, 'charing': 6045, 'edgar': 6046, 'allen': 6047, 'poe': 6048, 'raven': 6049, 'inclusively': 6050, 'coastal': 6051, 'compassion': 6052, 'exampe': 6053, 'novels': 6054, 'harper': 6055, 'lee': 6056, 'symbolizes': 6057, 'generage': 6058, 'bloom': 6059, 'orchestra': 6060, 'strive': 6061, 'devil': 6062, 'wears': 6063, 'prada': 6064, 'woke': 6065, 'emphasises': 6066, 'quo': 6067, 'returning': 6068, 'mocking': 6069, 'arithmetics': 6070, 'affect': 6071, 'censor': 6072, 'requirement': 6073, 'vaccinated': 6074, 'comprise': 6075, 'realworld': 6076, 'jason': 6077, 'pension': 6078, 'contribution': 6079, 'mr': 6080, 'kim': 6081, 'foundations': 6082, 'aiinfinance': 6083, 'complexcompound': 6084, 'complexmulti': 6085, 'walker': 6086, 'orchids': 6087, 'coke': 6088, 'carrots': 6089, 'wordings': 6090, 'polar': 6091, 'infiltrate': 6092, 'fridaynightfeels': 6093, 'innovators': 6094, 'pin': 6095, 'secure': 6096, 'unspoken': 6097, 'assessment': 6098, 'sin': 6099, 'protist': 6100, 'imperious': 6101, 'ving': 6102, 'villain': 6103, 'egyptian': 6104, 'pyramids': 6105, 'inversion': 6106, 'moderate': 6107, 'fervent': 6108, 'instill': 6109, 'designate': 6110, 'seductive': 6111, 'flirt': 6112, 'pursuing': 6113, 'restricts': 6114, 'optin': 6115, 'confirmation': 6116, 'resumes': 6117, 'bask': 6118, 'decisionmaking': 6119, 'negotiate': 6120, 'evens': 6121, 'lodestar': 6122, 'symbolic': 6123, 'scarped': 6124, 'acute': 6125, 'obtuse': 6126, 'sumerians': 6127, 'sentene': 6128, 'hieroglyphs': 6129, 'deepest': 6130, 'condense': 6131, 'dissolves': 6132, 'passphrase': 6133, 'mockup': 6134, 'roosevelt': 6135, 'biodiversity': 6136, 'herbaceous': 6137, 'woody': 6138, 'wetland': 6139, 'grabbed': 6140, 'gargle': 6141, 'cellphones': 6142, 'beneath': 6143, 'sofa': 6144, 'passengers': 6145, 'oxymoronic': 6146, 'kate': 6147, 'boiled': 6148, 'terrible': 6149, 'tradeoff': 6150, 'diluted': 6151, 'charaters': 6152, 'lithosphere': 6153, 'mantle': 6154, 'precocious': 6155, 'astute': 6156, 'avoiding': 6157, 'strategic': 6158, 'officialsounding': 6159, 'gifted': 6160, 'talented': 6161, 'mileage': 6162, 'install': 6163, 'wellrested': 6164, 'mandatory': 6165, 'worry': 6166, 'wwwexamplecom': 6167, 'heavily': 6168, 'slick': 6169, 'buttons': 6170, 'barbecue': 6171, 'surprises': 6172, 'injustice': 6173, 'frontend': 6174, 'bi': 6175, 'carbonhydrogen': 6176, 'fluffy': 6177, 'mastery': 6178, 'warrior': 6179, 'fighting': 6180, 'emphasizing': 6181, 'selfcare': 6182, 'sherlock': 6183, 'holmes': 6184, 'religionsbelief': 6185, 'aug': 6186, 'l': 6187, 'bacterial': 6188, 'align': 6189, 'concerning': 6190, 'lowcost': 6191, 'homeworks': 6192, 'joked': 6193, 'writer': 6194, 'legendary': 6195, 'afford': 6196, 'twelve': 6197, 'scholars': 6198, 'gettysburg': 6199, 'confederate': 6200, 'victory': 6201, 'abusive': 6202, 'sees': 6203, 'praise': 6204, 'swaps': 6205, 'erroneous': 6206, 'proliferate': 6207, 'embrace': 6208, 'properincorrectmissing': 6209, 'dishs': 6210, 'mushrooms': 6211, 'participate': 6212, 'emojis': 6213, 'specializing': 6214, 'berries': 6215, 'inevitably': 6216, 'circumstances': 6217, 'dangers': 6218, 'reachs': 6219, 'meetings': 6220, 'wisdom': 6221, 'tesla': 6222, 'wheat': 6223, 'cheat': 6224, 'abcdefghijklmnopqrstuvwxyz': 6225, 'planetary': 6226, 'confusing': 6227, 'passion': 6228, 'donald': 6229, 'trump': 6230, 'ireland': 6231, 'affection': 6232, 'estimation': 6233, 'deidentify': 6234, 'capitalizes': 6235, 'familys': 6236, 'grateful': 6237, 'deleted': 6238, 'leopard': 6239, 'shadow': 6240, 'wallow': 6241, 'upperbody': 6242, 'breakthrough': 6243, 'nondecreasing': 6244, 'levity': 6245, 'portrays': 6246, 'publicize': 6247, 'teddy': 6248, 'roosevelts': 6249, 'inauguration': 6250, 'convincible': 6251, 'merges': 6252, 'merged': 6253, 'popup': 6254, 'biblioteca': 6255, 'downfalls': 6256, 'pure': 6257, 'mad': 6258, 'lib': 6259, 'appetizer': 6260, 'fried': 6261, 'shrimp': 6262, 'seventy': 6263, 'conjugations': 6264, 'constraints': 6265, 'retrofit': 6266, 'blogpost': 6267, 'flit': 6268, 'theyre': 6269, 'traffic': 6270, 'subscribed': 6271, 'quit': 6272, 'cynical': 6273, 'emoji': 6274, 'metonymy': 6275, 'rid': 6276, 'bamboo': 6277, 'lays': 6278, 'peas': 6279, 'cluster': 6280, 'bridges': 6281, 'sounding': 6282, 'neige': 6283, 'fleur': 6284, 'jardin': 6285, 'conversations': 6286, 'wake': 6287, 'xors': 6288, 'rationale': 6289, 'dissuade': 6290, 'u': 6291, 'javasscript': 6292, 'flexbox': 6293, 'visualisation': 6294, 'trigonometry': 6295, 'wordsphrases': 6296, 'sweeping': 6297, 'reforms': 6298, 'plus': 6299, 'pro': 6300, 'diminishing': 6301, 'abscond': 6302, 'denominator': 6303, 'melodic': 6304, 'toplevel': 6305, 'domains': 6306, 'anonymity': 6307, 'omnivores': 6308, 'onset': 6309, 'appeal': 6310, 'pathos': 6311, 'pity': 6312, 'hyperlinks': 6313, 'musketeers': 6314, 'supplement': 6315, 'elicits': 6316, 'blooming': 6317, 'porch': 6318, 'corolla': 6319, 'hyundai': 6320, 'sonata': 6321, 'lexus': 6322, 'ls': 6323, 'grandparents': 6324, 'passivevoice': 6325, 'jill': 6326, 'consolidate': 6327, 'racing': 6328, 'nelson': 6329, 'mandela': 6330, 'sudden': 6331, 'surge': 6332, 'repetitions': 6333, 'stored': 6334, 'helmet': 6335, 'philippine': 6336, 'foliage': 6337, 'musicals': 6338, 'hug': 6339, 'licentious': 6340, 'teds': 6341, 'romcom': 6342, 'swiss': 6343, 'jumps': 6344, 'stylistic': 6345, 'compliments': 6346, 'ideally': 6347, 'iscapital': 6348, 'parantheses': 6349, 'ce': 6350, 'qui': 6351, 'appris': 6352, 'assez': 6353, 'courteous': 6354, 'filmed': 6355, 'infrastructure': 6356, 'specialty': 6357, 'guatemala': 6358, 'extinct': 6359, 'agrees': 6360, 'schoolaged': 6361, 'observe': 6362, 'newest': 6363, 'interlocutor': 6364, 'caustic': 6365, 'unlocked': 6366, 'screamed': 6367, 'terror': 6368, 'trumps': 6369, 'remark': 6370, 'praising': 6371, 'delivers': 6372, 'leafs': 6373, 'unpleasant': 6374, 'steel': 6375, 'gallon': 6376, 'enmity': 6377, 'dominican': 6378, 'republic': 6379, 'diverse': 6380, 'stuck': 6381, 'snappy': 6382, 'kelvin': 6383, 'lively': 6384, 'yields': 6385, 'achievement': 6386, 'dessert': 6387, 'originates': 6388, 'actionprocess': 6389, 'potentially': 6390, 'wardrobe': 6391, 'bands': 6392, 'subsentences': 6393, 'classificaiton': 6394, 'vaccinations': 6395, 'specifications': 6396, 'residential': 6397, 'controlled': 6398, 'ability': 6399, 'crohns': 6400, 'scorpion': 6401, 'pandas': 6402, 'hydrocarbons': 6403, 'nonhydrocarbons': 6404, 'towel': 6405, 'postgraduation': 6406, 'animalthemed': 6407, 'cookbook': 6408, 'sisters': 6409, 'hall': 6410, 'invocation': 6411, 'inform': 6412, 'chameleon': 6413, 'motivational': 6414, 'postfix': 6415, 'timeseries': 6416, 'forecasting': 6417, 'terminal': 6418, 'linux': 6419, 'volunteerbased': 6420, 'queensland': 6421, 'surprisingly': 6422, 'entropy': 6423, 'adopted': 6424, 'sensible': 6425, 'constrains': 6426, 'masculine': 6427, 'feminine': 6428, 'persuasion': 6429, 'sized': 6430, 'mutation': 6431, 'denoted': 6432, 'resultant': 6433, 'assonance': 6434, 'consonance': 6435, 'flip': 6436, 'lands': 6437, 'bathroom': 6438, 'fan': 6439, 'dr': 6440, 'susan': 6441, 'obedient': 6442, 'jennifer': 6443, 'performed': 6444, 'poorly': 6445, 'tren': 6446, 'lleg': 6447, 'irritating': 6448, 'imbroglio': 6449, 'quagmire': 6450, 'utah': 6451, 'silence': 6452, 'georgetown': 6453, 'volcanic': 6454, 'ash': 6455, 'shanghai': 6456, 'cancelled': 6457, 'bow': 6458, 'precisely': 6459, 'thief': 6460, 'apprehended': 6461, 'officers': 6462, 'visiting': 6463, 'mri': 6464, 'pitched': 6465, 'stroer': 6466, 'somethign': 6467, 'choclate': 6468, 'daisy': 6469, 'cleaned': 6470, 'agriculturebased': 6471, 'inherited': 6472, 'finishes': 6473, 'paragrapg': 6474, 'tickers': 6475, 'aliens': 6476, 'poesy': 6477, 'sanitizer': 6478, 'folowing': 6479, 'himalayas': 6480, 'prevent': 6481, 'sunglasses': 6482, 'council': 6483, 'mover': 6484, 'compliment': 6485, 'startups': 6486, 'diagnoses': 6487, 'cybersecurity': 6488, 'tank': 6489, 'shells': 6490, 'hypotenuese': 6491, 'meows': 6492, 'coefficient': 6493, 'morei': 6494, 'upgraded': 6495, 'disadvantages': 6496, 'expectations': 6497, 'sequel': 6498, 'apes': 6499, 'soup': 6500, 'plaid': 6501, 'octopus': 6502, 'powerpoint': 6503, 'rates': 6504, 'quickest': 6505, 'enthusiasm': 6506, 'examines': 6507, 'attracted': 6508, 'drills': 6509, 'jackhammers': 6510, 'healthiest': 6511, 'triggers': 6512, 'calltoaction': 6513, 'concern': 6514, 'wore': 6515, 'concerned': 6516, 'experiencing': 6517, 'fishing': 6518, 'quotations': 6519, 'theta': 6520, 'greedily': 6521, 'unreadable': 6522, 'endurance': 6523, 'haber': 6524, 'romney': 6525, 'ads': 6526, 'poisonous': 6527, 'aigenerated': 6528, 'storebought': 6529, 'handmade': 6530, 'practical': 6531, 'cheer': 6532, 'enzyme': 6533, 'departments': 6534, 'budgettosalary': 6535, 'salaries': 6536, 'walks': 6537, 'chapters': 6538, 'versatile': 6539, 'tomatoebased': 6540, 'sauce': 6541, 'reddish': 6542, 'hue': 6543, 'anaerobic': 6544, 'scans': 6545, 'reorganizing': 6546, 'famously': 6547, 'selfdriving': 6548, 'feasible': 6549, 'highways': 6550, 'jim': 6551, 'destroyed': 6552, 'rephrases': 6553, 'almosttreesnofallleaves': 6554, 'professionals': 6555, 'personalities': 6556, 'parser': 6557, 'addressed': 6558, 'toppings': 6559, 'gorillas': 6560, 'hummingbirds': 6561, 'documentary': 6562, 'proficient': 6563, 'endearment': 6564, 'outer': 6565, 'si': 6566, 'hulu': 6567, 'noneu': 6568, 'connotations': 6569, 'releasing': 6570, 'indoor': 6571, 'jungle': 6572, 'positivenegative': 6573, 'involvement': 6574, 'vietnam': 6575, 'nonliquid': 6576, 'gatekeeper': 6577, 'xray': 6578, 'downloaded': 6579, 'similarly': 6580, 'themed': 6581, 'courageous': 6582, 'develops': 6583, 'nvidia': 6584, 'geforce': 6585, 'assassess': 6586, 'validity': 6587, 'outlaws': 6588, 'ngo': 6589, 'lovely': 6590, 'petroldiesel': 6591, 'lousy': 6592, 'lesser': 6593, 'geologic': 6594, 'tectonic': 6595, 'passed': 6596, 'legislation': 6597, 'corruption': 6598, 'greed': 6599, 'annotations': 6600, 'excessive': 6601, 'microscope': 6602, 'rodents': 6603, 'dough': 6604, 'profitability': 6605, 'steam': 6606, 'draft': 6607, 'quesadilla': 6608, 'diagonals': 6609, 'athletes': 6610, 'ghost': 6611, 'mansion': 6612, 'forever': 6613, 'extracting': 6614, 'intrusive': 6615, 'checkbox': 6616, 'subscribe': 6617, 'ventilator': 6618, 'herbal': 6619, 'medicines': 6620, 'q': 6621, 'catfish': 6622, 'explanatory': 6623, 'athority': 6624, 'intake': 6625, 'mg': 6626, 'nonzero': 6627, 'identification': 6628, 'institutions': 6629, 'occupations': 6630, 'tertiary': 6631, 'officially': 6632, 'birthdate': 6633, 'pizzaeats': 6634, 'inquiries': 6635, 'hesitate': 6636, 'guilt': 6637, 'brassy': 6638, 'protocol': 6639, 'chores': 6640, 'superhero': 6641, 'void': 6642, 'flavorful': 6643, 'outback': 6644, 'hiking': 6645, 'studio': 6646, 'parenthesis': 6647, 'plentiful': 6648, 'frustration': 6649, 'acetylcholine': 6650, 'solicits': 6651, 'reaches': 6652, 'breakpoint': 6653, 'favor': 6654, 'juggle': 6655, 'yours': 6656, 'surgeon': 6657, 'compass': 6658, 'bungee': 6659, 'jumping': 6660, 'crab': 6661, 'timestamps': 6662, 'cumulative': 6663, 'handsome': 6664, 'similary': 6665, 'adorned': 6666, 'selecting': 6667, 'fluffypaws': 6668, 'dissatisfaction': 6669, 'wellwritten': 6670, 'contest': 6671, 'lighthouse': 6672, 'hydroelectric': 6673, 'imdb': 6674, 'organ': 6675, 'stimulants': 6676, 'depressants': 6677, 'nicotine': 6678, 'supporting': 6679, 'cousin': 6680, 'exclusive': 6681, 'negotiator': 6682, 'modifying': 6683, 'neil': 6684, 'armstrong': 6685, 'agent': 6686, 'sexual': 6687, 'absolutely': 6688, 'multiline': 6689, 'none': 6690, 'taylor': 6691, 'camry': 6692, 'stark': 6693, 'drizzle': 6694, 'ethics': 6695, 'adopt': 6696, 'inconsistencies': 6697, 'stinginess': 6698, 'cacophony': 6699, 'newlycut': 6700, 'apptit': 6701, 'fresheners': 6702, 'principle': 6703, 'responsive': 6704, 'mentioning': 6705, 'antagonizing': 6706, 'enable': 6707, 'manually': 6708, 'datasets': 6709, 'rephrasing': 6710, 'reusing': 6711, 'sing': 6712, 'sleeve': 6713, 'gb': 6714, 'byte': 6715, 'chief': 6716, 'cocacola': 6717, 'complemment': 6718, 'jeans': 6719, 'nato': 6720, 'coulded': 6721, 'approaches': 6722, 'fortunate': 6723, 'fundraising': 6724, 'depict': 6725, 'puppies': 6726, 'netflix': 6727, 'closure': 6728, 'shortened': 6729, 'hyperboles': 6730, 'tshirts': 6731, 'encrypt': 6732, 'ludwig': 6733, 'beethoven': 6734, 'sharks': 6735, 'tonight': 6736, 'entendre': 6737, 'chronology': 6738, 'rockpaperscissors': 6739, 'les': 6740, 'enfants': 6741, 'jouent': 6742, 'avec': 6743, 'leurs': 6744, 'jouets': 6745, 'abroad': 6746, 'fourline': 6747, 'showers': 6748, 'photographer': 6749, 'shoot': 6750, 'parameter': 6751, 'audacious': 6752, 'paid': 6753, 'dozen': 6754, 'ternary': 6755, 'cooled': 6756, 'lava': 6757, 'fancy': 6758, 'ducks': 6759, 'competent': 6760, 'bluetooth': 6761, 'enabled': 6762, 'identiy': 6763, 'adolf': 6764, 'hitler': 6765, 'austrian': 6766, 'rocky': 6767, 'balboa': 6768, 'boxer': 6769, 'monument': 6770, 'seller': 6771, 'espresso': 6772, 'lab': 6773, 'putting': 6774, 'freezer': 6775, 'cliff': 6776, 'junk': 6777, 'drawer': 6778, 'modulus': 6779, 'rational': 6780, 'windy': 6781, 'prompting': 6782, 'exotic': 6783, 'corresponds': 6784, 'nicknames': 6785, 'pretrained': 6786, 'chat': 6787, 'whisper': 6788, 'shout': 6789, 'calculat': 6790, 'inaccurate': 6791, 'coral': 6792, 'dealsbackgiveswhoawin': 6793, 'laudable': 6794, 'endeavour': 6795, 'emphasise': 6796, 'circulatory': 6797, 'mechanics': 6798, 'functioning': 6799, 'joined': 6800, 'enumerate': 6801, 'firstname': 6802, 'lastname': 6803, 'tour': 6804, 'bitcoin': 6805, 'vice': 6806, 'pulitzer': 6807, 'adjustments': 6808, 'threecourse': 6809, 'exercising': 6810, 'nominated': 6811, 'havent': 6812, 'hydroxide': 6813, 'pig': 6814, 'conjugated': 6815, 'improves': 6816, 'practicing': 6817, 'portuguese': 6818, 'info': 6819, 'marmalade': 6820, 'trombonist': 6821, 'egglaying': 6822, 'snakes': 6823, 'inverted': 6824, 'ecologyfriendly': 6825, 'granted': 6826, 'pardon': 6827, 'crimial': 6828, 'offense': 6829, 'nation': 6830, 'forwards': 6831, 'freshwater': 6832, 'cosmos': 6833, 'humility': 6834, 'notifies': 6835, 'miss': 6836, 'deadline': 6837, 'accepted': 6838, 'excess': 6839, 'affecting': 6840, 'patch': 6841, 'seize': 6842, 'enjoyment': 6843, 'enduring': 6844, 'longevity': 6845, 'jury': 6846, 'verdict': 6847, 'dissertation': 6848, 'sine': 6849, 'greets': 6850, 'updated': 6851, 'cultivating': 6852, 'venture': 6853, 'irritability': 6854, 'lowlevel': 6855, 'highlevel': 6856, 'virtualization': 6857, 'proprietary': 6858, 'sentencecase': 6859, 'attraction': 6860, 'mutations': 6861, 'extracted': 6862, 'wisconsin': 6863, 'deduplicate': 6864, 'twoyearold': 6865, 'twopart': 6866, 'denomination': 6867, 'relatively': 6868, 'golf': 6869, 'sixth': 6870, 'ian': 6871, 'fleming': 6872, 'conforms': 6873, 'heated': 6874, 'chlorophyll': 6875, 'seminar': 6876, 'thatll': 6877, 'salacious': 6878, 'gossip': 6879, 'manufactured': 6880, 'nautical': 6881, 'screw': 6882, 'upsample': 6883, 'anniversary': 6884, 'husband': 6885, 'taco': 6886, 'clown': 6887, 'abandons': 6888, 'circus': 6889, 'enforcement': 6890, 'lo': 6891, 'outlined': 6892, 'embed': 6893, 'mongodb': 6894, 'unusual': 6895, 'suspects': 6896, 'gpts': 6897, 'lying': 6898, 'looks': 6899, 'roller': 6900, 'coaster': 6901, 'roses': 6902, 'lilies': 6903, 'jd': 6904, 'salinger': 6905, 'cocktail': 6906, 'entrance': 6907, 'fivestar': 6908, 'contrary': 6909, 'slip': 6910, 'ham': 6911, 'pillar': 6912, 'complimentary': 6913, 'aller': 6914, 'au': 6915, 'imaginative': 6916, 'monuments': 6917, 'elaborate': 6918, 'anger': 6919, 'disgust': 6920, 'wellformed': 6921, 'rottweiler': 6922, 'hunter': 6923, 'unforgiving': 6924, 'lightening': 6925, 'unladen': 6926, 'swallow': 6927, 'cryptanalyse': 6928, 'phenomena': 6929, 'exerted': 6930, 'epigram': 6931, 'outrageous': 6932, 'hilariously': 6933, 'nameserver': 6934, 'filing': 6935, 'milligrams': 6936, 'lucy': 6937, 'adam': 6938, 'pledged': 6939, 'argue': 6940, 'targets': 6941, 'bored': 6942, 'careful': 6943, 'thoughtful': 6944, 'ipv': 6945, 'messages': 6946, 'chats': 6947, 'substrings': 6948, 'familyfriendly': 6949, 'twentyone': 6950, 'pilots': 6951, 'characterize': 6952, 'koreas': 6953, 'ambitions': 6954, 'mammalia': 6955, 'aves': 6956, 'experimental': 6957, 'rowlings': 6958, 'wealthy': 6959, 'automobile': 6960, 'zero': 6961, 'radian': 6962, 'shylock': 6963, 'merchant': 6964, 'venice': 6965, 'organized': 6966, 'unimpressed': 6967, 'porcupine': 6968, 'bigrams': 6969, 'scarce': 6970, 'gregarious': 6971, 'chaotic': 6972, 'siddhartha': 6973, 'stamp': 6974, 'azure': 6975, 'architect': 6976, 'plagiarized': 6977, 'nonphysical': 6978, 'combat': 6979, 'rebel': 6980, 'alliance': 6981, 'fought': 6982, 'alongside': 6983, 'luke': 6984, 'skywalker': 6985, 'yavin': 6986, 'jaloux': 6987, 'oxymorons': 6988, 'sudoku': 6989, 'highlights': 6990, 'festivals': 6991, 'disclaimer': 6992, 'bedrooms': 6993, 'eights': 6994, 'dirty': 6995, 'halfsentences': 6996, 'affordable': 6997, 'parenting': 6998, 'manufacturing': 6999, 'fired': 7000, 'alliterate': 7001, 'hint': 7002, 'informally': 7003, 'skepticism': 7004, 'velleity': 7005, 'vincent': 7006, 'gogh': 7007, 'reinterpret': 7008, 'nondurable': 7009, 'domainspecific': 7010, 'confident': 7011, 'stop': 7012, 'carbonara': 7013, 'voting': 7014, 'aminor': 7015, 'tourism': 7016, 'guests': 7017, 'curriculum': 7018, 'unprecedented': 7019, 'smelled': 7020, 'meals': 7021, 'conveniences': 7022, 'pseudoscience': 7023, 'golden': 7024, 'gate': 7025, 'whipped': 7026, 'wildly': 7027, 'artifact': 7028, 'contrastive': 7029, 'predators': 7030, 'ground': 7031, 'heshe': 7032, 'relavant': 7033, 'imply': 7034, 'frost': 7035, 'pivot': 7036, 'nomadic': 7037, 'dedicated': 7038, 'contextfree': 7039, 'charm': 7040, 'inspiration': 7041, 'hotdogs': 7042, 'drank': 7043, 'beers': 7044, 'metalloids': 7045, 'gymnosperm': 7046, 'angiosperm': 7047, 'highfat': 7048, 'musuems': 7049, 'bloodstreams': 7050, 'dabble': 7051, 'sharp': 7052, 'spray': 7053, 'crisper': 7054, 'steven': 7055, 'spielberg': 7056, 'quotient': 7057, 'raspberry': 7058, 'contruct': 7059, 'boats': 7060, 'yoghurt': 7061, 'replied': 7062, 'teenage': 7063, 'strands': 7064, 'gather': 7065, 'dear': 7066, 'adaptability': 7067, 'functionality': 7068, 'graduated': 7069, 'penn': 7070, 'treebank': 7071, 'acted': 7072, 'thailand': 7073, 'wednesday': 7074, 'gadgets': 7075, 'skateboard': 7076, 'sportsthemed': 7077, 'homonyms': 7078, 'bay': 7079, 'bananas': 7080, 'representatives': 7081, 'senate': 7082, 'sulfurous': 7083, 'arrows': 7084, 'tooth': 7085, 'advised': 7086, 'advices': 7087, 'influencing': 7088, 'ountry': 7089, 'hobbit': 7090, 'prove': 7091, 'elimination': 7092, 'morgans': 7093, 'showcases': 7094, 'incorporating': 7095, 'migration': 7096, 'servant': 7097, 'predecessor': 7098, 'exchanged': 7099, 'timetravel': 7100, 'toijobamazinganapplied': 7101, 'reciprocal': 7102, 'yintercept': 7103, 'counter': 7104, 'sneeze': 7105, 'arthritis': 7106, 'refueled': 7107, 'wrap': 7108, 'disability': 7109, 'storing': 7110, 'refused': 7111, 'imagination': 7112, 'assembling': 7113, 'unemployment': 7114, 'obstacle': 7115, 'sophistication': 7116, 'ox': 7117, 'scream': 7118, 'aston': 7119, 'villa': 7120, 'engage': 7121, 'gauge': 7122, 'confirms': 7123, 'absorb': 7124, 'shortening': 7125, 'elite': 7126, 'collaborate': 7127, 'referring': 7128, 'animalrelated': 7129, 'allergies': 7130, 'exporters': 7131, 'validate': 7132, 'formally': 7133, 'elon': 7134, 'musk': 7135, 'dallas': 7136, 'linking': 7137, 'magi': 7138, 'heuristic': 7139, 'evaluation': 7140, 'influence': 7141, 'ceramic': 7142, 'concised': 7143, 'outgoing': 7144, 'antiderivative': 7145, 'simplifying': 7146, 'nn': 7147, 'jj': 7148, 'vb': 7149, 'urls': 7150, 'greece': 7151, 'believes': 7152, 'sprint': 7153, 'grown': 7154, 'wallpaper': 7155, 'speaks': 7156, 'eggplant': 7157, 'pear': 7158, 'airbender': 7159, 'bolder': 7160, 'floatingpoint': 7161, 'parliamentary': 7162, 'phonetics': 7163, 'exception': 7164, 'handler': 7165, 'waking': 7166, 'disorders': 7167, 'genes': 7168, 'conclude': 7169, 'zinc': 7170, 'oxide': 7171, 'grading': 7172, 'emerging': 7173, 'servers': 7174, 'hosted': 7175, 'floral': 7176, 'taxation': 7177, 'inferred': 7178, 'clichs': 7179, 'serviceoriented': 7180, 'productoriented': 7181, 'truncate': 7182, 'toprated': 7183, 'airports': 7184, 'owned': 7185, 'walmart': 7186, 'magnetism': 7187, 'gravitation': 7188, 'xp': 7189, 'appliance': 7190, 'billboard': 7191, 'mama': 7192, 'lifes': 7193, 'democrat': 7194, 'invert': 7195, 'philosopher': 7196, 'teachings': 7197, 'herself': 7198, 'halloween': 7199, 'costume': 7200, 'cameldaisyhorserose': 7201, 'morocco': 7202, 'shampoo': 7203, 'modulo': 7204, 'hasnt': 7205, 'monarchy': 7206, 'desperation': 7207, 'explosion': 7208, 'bikes': 7209, 'originally': 7210, 'poignant': 7211, 'graceful': 7212, 'americausa': 7213, 'joe': 7214, 'andy': 7215, 'freezing': 7216, 'coat': 7217, 'clutch': 7218, 'trifling': 7219, 'disposable': 7220, 'cynthias': 7221, 'daughter': 7222, 'glow': 7223, 'slogans': 7224, 'cinderellas': 7225, 'slipper': 7226, 'planes': 7227, 'yz': 7228, 'rotating': 7229, 'counterclockwise': 7230, 'nonhuman': 7231, 'ax': 7232, 'bx': 7233, 'heresy': 7234, 'isotope': 7235, 'talent': 7236, 'learnt': 7237, 'rats': 7238, 'apposite': 7239, 'beginners': 7240, 'oxford': 7241, 'elevate': 7242, 'herb': 7243, 'christopher': 7244, 'nolan': 7245, 'cognitive': 7246, 'thermodynamics': 7247, 'dom': 7248, 'proposed': 7249, 'calculus': 7250, 'honesty': 7251, 'barking': 7252, 'recount': 7253, 'kubla': 7254, 'khan': 7255, 'shades': 7256, 'port': 7257, 'sasebo': 7258, 'shores': 7259, 'florda': 7260, 'distinguishes': 7261, 'terrestrial': 7262, 'hoard': 7263, 'delhi': 7264, 'reactant': 7265, 'noncarbonated': 7266, 'beverages': 7267, 'migratory': 7268, 'corners': 7269, 'haunt': 7270, 'habits': 7271, 'championship': 7272, 'wildcard': 7273, 'spotify': 7274, 'producers': 7275, 'frameworks': 7276, 'accessibility': 7277, 'nominative': 7278, 'accusative': 7279, 'dative': 7280, 'transaction': 7281, 'metapher': 7282, 'attaining': 7283, 'treasure': 7284, 'quippy': 7285, 'prankster': 7286, 'illness': 7287, 'carries': 7288, 'endeavor': 7289, 'midnight': 7290, 'hide': 7291, 'handwriting': 7292, 'machinereadable': 7293, 'configure': 7294, 'rainforests': 7295, 'roar': 7296, 'showed': 7297, 'risen': 7298, 'kafka': 7299, 'loving': 7300, 'guest': 7301, 'mindbending': 7302, 'foggy': 7303, 'texttospeech': 7304, 'aibased': 7305, 'proceeded': 7306, 'rub': 7307, 'cursed': 7308, 'redeyed': 7309, 'mermaid': 7310, 'nino': 7311, 'removes': 7312, 'bookshelf': 7313, 'modernday': 7314, 'hare': 7315, 'shift': 7316, 'loyal': 7317, 'companions': 7318, 'feats': 7319, 'ais': 7320, 'implementation': 7321, 'utilization': 7322, 'independently': 7323, 'curricula': 7324, 'consuming': 7325, 'datefocused': 7326, 'subtle': 7327, 'renowned': 7328, 'calmly': 7329, 'confidently': 7330, 'bottom': 7331, 'tiredness': 7332, 'threeword': 7333, 'halting': 7334, 'dam': 7335, 'yangtze': 7336, 'proud': 7337, 'achievemnt': 7338, 'hotels': 7339, 'aligns': 7340, 'cited': 7341, 'dread': 7342, 'uranium': 7343, 'cautious': 7344, 'hci': 7345, 'epoch': 7346, 'fantastical': 7347, 'mexican': 7348, 'legend': 7349, 'predicted': 7350, 'unveil': 7351, 'everybody': 7352, 'annoyance': 7353, 'angular': 7354, 'orbiting': 7355, 'sneakers': 7356, 'twobedroom': 7357, 'zerowaste': 7358, 'vocal': 7359, 'downside': 7360, 'prejudice': 7361, 'adage': 7362, 'flashy': 7363, 'arabic': 7364, 'defy': 7365, 'gravity': 7366, 'mock': 7367, 'kaveri': 7368, 'articulates': 7369, 'looping': 7370, 'biology': 7371, 'cols': 7372, 'genie': 7373, 'granting': 7374, 'correlations': 7375, 'demographic': 7376, 'eightword': 7377, 'butterscotch': 7378, 'sundae': 7379, 'meek': 7380, 'backtranslate': 7381, 'slept': 7382, 'polarity': 7383, 'holders': 7384, 'excels': 7385, 'chees': 7386, 'donate': 7387, 'admirer': 7388, 'complements': 7389, 'unforgettable': 7390, 'delivered': 7391, 'reactants': 7392, 'argentina': 7393, 'nebraska': 7394, 'strident': 7395, 'convolutional': 7396, 'hippopotamus': 7397, 'ocelot': 7398, 'alan': 7399, 'amy': 7400, 'daddy': 7401, 'pints': 7402, 'incensed': 7403, 'venues': 7404, 'toothpaste': 7405, 'soil': 7406, 'dust': 7407, 'swiftly': 7408, 'neutrality': 7409, 'win': 7410, 'measured': 7411, 'negated': 7412, 'unix': 7413, 'timestamp': 7414, 'sqlite': 7415, 'rocks': 7416, 'firewall': 7417, 'infected': 7418, 'sarscov': 7419, 'supernatural': 7420, 'twitters': 7421, 'jays': 7422, 'colonies': 7423, 'doubt': 7424, 'hairy': 7425, 'upturned': 7426, 'snout': 7427, 'tusks': 7428, 'curved': 7429, 'ivory': 7430, 'generates': 7431, 'aws': 7432, 'acceptance': 7433, 'perfectly': 7434, 'invoice': 7435, 'peroxide': 7436, 'nights': 7437, 'nose': 7438, 'nor': 7439, 'lawenforcement': 7440, 'investigates': 7441, 'corporate': 7442, 'nile': 7443, 'predatorsprey': 7444, 'spikes': 7445, 'closures': 7446, 'brass': 7447, 'syllabic': 7448, 'graduate': 7449, 'nonmagnetic': 7450, 'pascals': 7451, 'thirteenth': 7452, 'simpsons': 7453, 'parachute': 7454, 'rubber': 7455, 'waffle': 7456, 'fed': 7457, 'southern': 7458, 'hemisphere': 7459, 'walt': 7460, 'disney': 7461, 'locality': 7462, 'dickinson': 7463, 'nonnegatives': 7464, 'initiative': 7465, 'magnesium': 7466, 'telling': 7467, 'jacques': 7468, 'cousteau': 7469, 'explorer': 7470, 'conservationist': 7471, 'huckleberry': 7472, 'finn': 7473, 'genras': 7474, 'nun': 7475, 'flowing': 7476, 'paul': 7477, 'su': 7478, 'madre': 7479, 'muy': 7480, 'orgullosa': 7481, 'rebellion': 7482, 'fable': 7483, 'apropriate': 7484, 'spanishamerican': 7485, 'troops': 7486, 'cuba': 7487, 'shakespearean': 7488, 'tidiest': 7489, 'readonly': 7490, 'chemicals': 7491, 'extinguishers': 7492, 'morse': 7493, 'nonoffensive': 7494, 'scottsdale': 7495, 'az': 7496, 'lifespan': 7497, 'massachusetts': 7498, 'legalize': 7499, 'samesex': 7500, 'cheesecake': 7501, 'typing': 7502, 'vernacular': 7503, 'abstraction': 7504, 'rothko': 7505, 'brothers': 7506, 'boss': 7507, 'proteinrich': 7508, 'choosing': 7509, 'sporty': 7510, 'understood': 7511, 'personlize': 7512, 'hamburger': 7513, 'lefthand': 7514, 'conclusions': 7515, 'galapagos': 7516, 'naked': 7517, 'gallery': 7518, 'nucleus': 7519, 'wordcloud': 7520, 'approriate': 7521, 'baked': 7522, 'salutation': 7523, 'entertaining': 7524, 'consequently': 7525, 'estimates': 7526, 'sue': 7527, 'vegetarians': 7528, 'denominators': 7529, 'accessories': 7530, 'coherence': 7531, 'upc': 7532, 'bizarre': 7533, 'sn': 7534, 'couple': 7535, 'lynx': 7536, 'universities': 7537, 'jubilant': 7538, 'misfortune': 7539, 'codon': 7540, 'polluted': 7541, 'mailman': 7542, 'sliced': 7543, 'eliminates': 7544, 'rescheduled': 7545, 'hermano': 7546, 'ella': 7547, 'fue': 7548, 'tienda': 7549, 'rescue': 7550, 'runing': 7551, 'hyperparameter': 7552, 'optimization': 7553, 'jewelry': 7554, 'ratified': 7555, 'authenticate': 7556, 'geology': 7557, 'traveler': 7558, 'explored': 7559, 'responses': 7560, 'spellings': 7561, 'beijing': 7562, 'hop': 7563, 'zuckerberg': 7564, 'deciding': 7565, 'snowboarding': 7566, 'nashville': 7567, 'tn': 7568, 'nonremovable': 7569, 'authoritive': 7570, 'nonauthoritive': 7571, 'lock': 7572, 'vienna': 7573, 'warmest': 7574, 'coolest': 7575, 'nocturnal': 7576, 'limits': 7577, 'followng': 7578, 'inventive': 7579, 'centre': 7580, 'twentieth': 7581, 'azaz': 7582, 'specialized': 7583, 'organelle': 7584, 'folk': 7585, 'sheeps': 7586, 'employing': 7587, 'researchbacked': 7588, 'pairing': 7589, 'suggestions': 7590, 'rugby': 7591, 'ecology': 7592, 'salem': 7593, 'witch': 7594, 'trials': 7595, 'destroy': 7596, 'fierce': 7597, 'evaluated': 7598, 'retort': 7599, 'depression': 7600, 'adept': 7601, 'onomatopoeia': 7602, 'countryside': 7603, 'toto': 7604, 'khalid': 7605, 'anothers': 7606, 'viewpoints': 7607, 'elefant': 7608, 'learge': 7609, 'amased': 7610, 'constituents': 7611, 'intuition': 7612, 'entrepreneurs': 7613, 'encountered': 7614, 'alice': 7615, 'albuquerque': 7616, 'resembles': 7617, 'hanks': 7618, 'julia': 7619, 'roberts': 7620, 'integersm': 7621, 'definitely': 7622, 'nucleobase': 7623, 'dehydration': 7624, 'incentive': 7625, 'defining': 7626, 'ambitious': 7627, 'subscribers': 7628, 'pewdiepie': 7629, 'declared': 7630, 'giraffes': 7631, 'neck': 7632, 'poker': 7633, 'fallacy': 7634, 'windshield': 7635, 'expanding': 7636, 'strain': 7637, 'repaired': 7638, 'trilogy': 7639, 'routine': 7640, 'cest': 7641, 'formidable': 7642, 'noticed': 7643, 'react': 7644, 'clearest': 7645, 'broadcasting': 7646, 'dignitaries': 7647, 'speeches': 7648, 'assembly': 7649, 'ho': 7650, 'montana': 7651, 'disruption': 7652, 'catholic': 7653, 'churchs': 7654, 'abortion': 7655, 'luminosity': 7656, 'phase': 7657, 'migrant': 7658, 'redtailed': 7659, 'hawk': 7660, 'coprime': 7661, 'declares': 7662, 'disbelief': 7663, 'exporting': 7664, 'soybeans': 7665, 'thunderstorm': 7666, 'las': 7667, 'vegas': 7668, 'acids': 7669, 'combien': 7670, 'cotes': 7671, 'authentication': 7672, 'december': 7673, 'monkeys': 7674, 'publication': 7675, 'hundredth': 7676, 'stumbled': 7677, 'flat': 7678, 'again': 7679, 'neighborhood': 7680, 'crud': 7681, 'directs': 7682, 'rhymning': 7683, 'compete': 7684, 'caveat': 7685, 'catches': 7686, 'worm': 7687, 'dimensional': 7688, 'avantgarde': 7689, 'aesthetically': 7690, 'pleasing': 7691, 'quiet': 7692, 'disruptive': 7693, 'ranges': 7694, 'herhis': 7695, 'winners': 7696, 'revisit': 7697, 'spite': 7698, 'semi': 7699, 'forgetful': 7700, 'protests': 7701, 'wordplay': 7702, 'unite': 7703, 'cloudy': 7704, 'cheesy': 7705, 'greatly': 7706, 'appreciated': 7707, 'bigtext': 7708, 'tacos': 7709, 'mythological': 7710, 'monopoly': 7711, 'systolic': 7712, 'cordial': 7713, 'broach': 7714, 'peculiar': 7715, 'dead': 7716, 'concentrate': 7717, 'crocodile': 7718, 'moss': 7719, 'pc': 7720, 'boundary': 7721, 'jigsaw': 7722, 'multivitamin': 7723, 'joint': 7724, 'chatbots': 7725, 'impacted': 7726, 'pos': 7727, 'fillin': 7728, 'keras': 7729, 'qualified': 7730, 'hikes': 7731, 'metal': 7732, 'nonmetal': 7733, 'accidently': 7734, 'learner': 7735, 'wry': 7736, 'worker': 7737, 'mainly': 7738, 'imposed': 7739, 'strict': 7740, 'regulations': 7741, 'pigeon': 7742, 'octagonal': 7743, 'stephen': 7744, 'recognizable': 7745, 'promotion': 7746, 'summarising': 7747, 'mydog': 7748, 'setbreed': 7749, 'faces': 7750, 'inner': 7751, 'meaningthe': 7752, 'consulted': 7753, 'complaints': 7754, 'workers': 7755, 'unions': 7756, 'negotiations': 7757, 'hopes': 7758, 'sparkling': 7759, 'respire': 7760, 'violin': 7761, 'angrily': 7762, 'supreme': 7763, 'justices': 7764, 'appointed': 7765, 'obama': 7766, 'vitamins': 7767, 'authentic': 7768, 'thai': 7769, 'prepositions': 7770, 'parody': 7771, 'asterisks': 7772, 'parking': 7773, 'dirt': 7774, 'sped': 7775, 'pink': 7776, 'polka': 7777, 'dots': 7778, 'displeased': 7779, 'conducted': 7780, 'activism': 7781, 'findreplace': 7782, 'dense': 7783, 'oclock': 7784, 'thirds': 7785, 'fifty': 7786, 'footprint': 7787, 'sunk': 7788, 'spellcheck': 7789, 'ernest': 7790, 'hemingway': 7791, 'doublenegatives': 7792, 'neighbor': 7793, 'briefer': 7794, 'gorgeous': 7795, 'precision': 7796, 'leisure': 7797, 'vowel': 7798, 'preludes': 7799, 'entertain': 7800, 'fivedigit': 7801, 'raphael': 7802, 'loops': 7803, 'traverse': 7804, 'healthrelated': 7805, 'limited': 7806, 'penguins': 7807, 'berlin': 7808, 'acidity': 7809, 'vinegar': 7810, 'fare': 7811, 'disjoint': 7812, 'reactions': 7813, 'robert': 7814, 'macroeconomic': 7815, 'colleges': 7816, 'chelsea': 7817, 'arsenal': 7818, 'stupid': 7819, 'yummy': 7820, 'cheetah': 7821, 'pointer': 7822, 'joanna': 7823, 'chimpanzee': 7824, 'oven': 7825, 'cookies': 7826, 'tendigit': 7827, 'rsum': 7828, 'telemarketing': 7829, 'prague': 7830, 'contextappropriate': 7831, 'versions': 7832, 'genus': 7833, 'toothpicks': 7834, 'usstates': 7835, 'coast': 7836, 'galleries': 7837, 'transitional': 7838, 'unknowns': 7839, 'xyzw': 7840, 'hundreds': 7841, 'reasearhers': 7842, 'parler': 7843, 'plaisir': 7844, 'bienvenu': 7845, 'reactors': 7846, 'schadenfreude': 7847, 'grand': 7848, 'symobilizes': 7849, 'patterns': 7850, 'invasion': 7851, 'skillful': 7852, 'preserved': 7853, 'nhl': 7854, 'apothegmatic': 7855, 'ventured': 7856, 'tinker': 7857, 'laura': 7858, 'danced': 7859, 'gracefully': 7860, 'int': 7861, 'playlist': 7862, 'placeholders': 7863, 'hired': 7864, 'elses': 7865, 'nonvegetarian': 7866, 'prince': 7867, 'marry': 7868, 'cinderella': 7869, 'bacon': 7870, 'cucumber': 7871, 'render': 7872, 'jaguar': 7873, 'inference': 7874, 'floods': 7875, 'commonplace': 7876, 'afternoon': 7877, 'useast': 7878, 'virginia': 7879, 'nutritious': 7880, 'oceanic': 7881, 'ramen': 7882, 'supermarketexpresscom': 7883, 'hit': 7884, 'outerspace': 7885, 'granite': 7886, 'virtues': 7887, 'possess': 7888, 'autonomous': 7889, 'shocking': 7890, 'definite': 7891, 'origami': 7892, 'lotus': 7893, 'sixthlargest': 7894, 'sayings': 7895, 'abundant': 7896, 'crust': 7897, 'greek': 7898, 'opulent': 7899, 'unbiased': 7900, 'forecasted': 7901, 'pixel': 7902, 'specification': 7903, 'streamline': 7904, 'repeatable': 7905, 'programmed': 7906, 'triggered': 7907, 'actress': 7908, 'proven': 7909, 'healthconscious': 7910, 'cubes': 7911, 'predictable': 7912, 'amplitude': 7913, 'recorded': 7914, 'seismograph': 7915, 'rowling': 7916, 'predictions': 7917, 'marking': 7918, 'factually': 7919, 'gained': 7920, 'comfort': 7921, 'scenery': 7922, 'sometimes': 7923, 'bash': 7924, 'richness': 7925, 'yearoveryear': 7926, 'bachelors': 7927, 'critics': 7928, 'sao': 7929, 'paulo': 7930, 'volcanoes': 7931, 'architects': 7932, 'modernist': 7933, 'selfcontained': 7934, 'goose': 7935, 'kashi': 7936, 'subsets': 7937, 'minimized': 7938, 'glucose': 7939, 'resulting': 7940, 'garbage': 7941, 'punctuality': 7942, 'courtroom': 7943, 'prokaryotic': 7944, 'rundown': 7945, 'themylieddogsofaon': 7946, 'linguistically': 7947, 'bullet': 7948, 'mars': 7949, 'contagious': 7950, 'noncontagious': 7951, 'horizontally': 7952, 'iframe': 7953, 'evokes': 7954, 'carbohydrate': 7955, 'playining': 7956, 'alliterations': 7957, 'darker': 7958, 'bouquets': 7959, 'quickness': 7960, 'phrasal': 7961, 'flaming': 7962, 'pupil': 7963, 'bride': 7964, 'exemplify': 7965, 'democratic': 7966, 'lovable': 7967, 'attach': 7968, 'verified': 7969, 'passague': 7970, 'arrangements': 7971, 'lid': 7972, 'bears': 7973, 'survivors': 7974, 'withstand': 7975, 'radiation': 7976, 'affects': 7977, 'demanded': 7978, 'hardworking': 7979, 'cl': 7980, 'octal': 7981, 'numbering': 7982, 'antarctic': 7983, 'toronto': 7984, 'slot': 7985, 'establishes': 7986, 'pepper': 7987, 'squash': 7988, 'nonviolent': 7989, 'adv': 7990, 'prp': 7991, 'det': 7992, 'determiner': 7993, 'mystery': 7994, 'earlier': 7995, 'constitutes': 7996, 'oxymoron': 7997, 'genderbiased': 7998, 'campaigns': 7999, 'church': 8000, 'bells': 8001, 'tolled': 8002, 'weasel': 8003, 'sulphur': 8004, 'sulphate': 8005, 'translations': 8006, 'writes': 8007, 'scheduled': 8008, 'turtle': 8009, 'uncaring': 8010, 'acrylic': 8011, 'keychains': 8012, 'opera': 8013, 'carmen': 8014, 'generalized': 8015, 'racism': 8016, 'magento': 8017, 'finals': 8018, 'thirty': 8019, 'thousand': 8020, 'weigh': 8021, 'skylines': 8022, 'hwo': 8023, 'oz': 8024, 'jam': 8025, 'hath': 8026, 'pound': 8027, 'gasoline': 8028, 'mpg': 8029, 'constructed': 8030, 'evenly': 8031, 'deejay': 8032, 'chiefs': 8033, 'sift': 8034, 'periodically': 8035, 'catalyst': 8036, 'wordiness': 8037, 'nutrients': 8038, 'biologically': 8039, 'adapted': 8040, 'seat': 8041, 'nasa': 8042, 'shuttles': 8043, 'notebook': 8044, 'autoencoder': 8045, 'tweetlength': 8046, 'misrepresents': 8047, 'papers': 8048, 'artificially': 8049, 'olympics': 8050, 'doobjects': 8051, 'heavier': 8052, 'nondirective': 8053, 'ape': 8054, 'pretend': 8055, 'logarithm': 8056, 'wicked': 8057, 'comforting': 8058, 'distancing': 8059, 'preceding': 8060, 'succeeding': 8061, 'pole': 8062, 'editor': 8063, 'engaged': 8064, 'oracle': 8065, 'transcription': 8066, 'genders': 8067, 'whistle': 8068, 'visits': 8069, 'libraries': 8070, 'yogurt': 8071, 'junior': 8072, 'laptops': 8073, 'playground': 8074, 'pollutants': 8075, 'correlation': 8076, 'download': 8077, 'immigration': 8078, 'reform': 8079, 'mileshr': 8080, 'matched': 8081, 'scope': 8082, 'ethnic': 8083, 'earns': 8084, 'fiscal': 8085, 'pictured': 8086, 'squirrel': 8087, 'pickles': 8088, 'monster': 8089, 'wont': 8090, 'typed': 8091, 'inconsistent': 8092, 'recreation': 8093, 'linked': 8094, 'imbalance': 8095, 'representing': 8096, 'ballet': 8097, 'fluttered': 8098, 'delight': 8099, 'stakeholders': 8100, 'regional': 8101, 'hybrid': 8102, 'gmt': 8103, 'amazed': 8104, 'drastically': 8105, 'gradually': 8106, 'becaus': 8107, 'channels': 8108, 'proof': 8109, 'footnotes': 8110, 'basis': 8111, 'annoyed': 8112, 'impatient': 8113, 'governor': 8114, 'idaho': 8115, 'pill': 8116, 'takeaway': 8117, 'workrelated': 8118, 'thirddegree': 8119, 'stripes': 8120, 'jdbc': 8121, 'mapping': 8122, 'dentist': 8123, 'stationery': 8124, 'targeting': 8125, 'amazement': 8126, 'encouragement': 8127, 'prepared': 8128, 'kitchens': 8129, 'robbed': 8130, 'chengdu': 8131, 'calling': 8132, 'countwordsloving': 8133, 'daring': 8134, 'environmentallyfriendly': 8135, 'hear': 8136, 'soda': 8137, 'northwest': 8138, 'avocado': 8139, 'covariance': 8140, 'cad': 8141, 'climates': 8142, 'reservation': 8143, 'bookingdate': 8144, 'oct': 8145, 'vais': 8146, 'bibliothque': 8147, 'coal': 8148, 'rig': 8149, 'remotely': 8150, 'hay': 8151, 'shines': 8152, 'markdown': 8153, 'carnivorous': 8154, 'herbivorous': 8155, 'omnivorous': 8156, 'edition': 8157, 'examined': 8158, 'carried': 8159, 'balloons': 8160, 'knocked': 8161, 'hive': 8162, 'faith': 8163, 'counterfeit': 8164, 'apps': 8165, 'invoicing': 8166, 'embracing': 8167, 'tells': 8168, 'retweet': 8169, 'vague': 8170, 'agile': 8171, 'announce': 8172, 'parked': 8173, 'byline': 8174, 'deliver': 8175, 'efficiently': 8176, 'quartile': 8177, 'tackle': 8178, 'intresting': 8179, 'ceremony': 8180, 'jungles': 8181, 'remaining': 8182, 'explore': 8183, 'meteorologist': 8184, 'nonrenewable': 8185, 'kilimanjaro': 8186, 'briefly': 8187, 'punchy': 8188, 'bereft': 8189, 'belongings': 8190, 'showcasing': 8191, 'jerry': 8192, 'pharrell': 8193, 'williams': 8194, 'bone': 8195, 'wonone': 8196, 'rename': 8197, 'ponder': 8198, 'dash': 8199, 'drudge': 8200, 'towns': 8201, 'soared': 8202, 'above': 8203, 'merrier': 8204, 'autonomy': 8205, 'presentations': 8206, 'packs': 8207, 'batteries': 8208, 'dependency': 8209, 'leading': 8210, 'entrepreneurship': 8211, 'partial': 8212, 'trash': 8213, 'wishful': 8214, 'uncertain': 8215, 'incidence': 8216, 'refraction': 8217, 'bilbos': 8218, 'sword': 8219, 'autoimmune': 8220, 'stimuli': 8221, 'justifying': 8222, 'borrowed': 8223, 'hers': 8224, 'unconscious': 8225, 'orchestrate': 8226, 'translatre': 8227, 'humankind': 8228, 'demonstrated': 8229, 'survived': 8230, 'pertaining': 8231, 'calcuate': 8232, 'journalism': 8233, 'acer': 8234, 'philips': 8235, 'lg': 8236, 'grasslands': 8237, 'adjacent': 8238, 'visualize': 8239, 'initials': 8240, 'threats': 8241, 'candidates': 8242, 'descirbe': 8243, 'museums': 8244, 'installed': 8245, 'grain': 8246, 'mike': 8247, 'epic': 8248, 'homer': 8249, 'stright': 8250, 'cd': 8251, 'muscle': 8252, 'stream': 8253, 'paraphase': 8254, 'macaroni': 8255, 'wisely': 8256, 'myfuncstr': 8257, 'str': 8258, 'myfunchello': 8259, 'myfunclist': 8260, 'myfunc': 8261, 'mom': 8262, 'birmingham': 8263, 'concatenated': 8264, 'weighs': 8265, 'stepped': 8266, 'sunshine': 8267, 'italianstyle': 8268, 'antipasto': 8269, 'sixmonth': 8270, 'indefinite': 8271, 'seek': 8272, 'constructions': 8273, 'relieve': 8274, 'farenheit': 8275, 'tempo': 8276, 'influx': 8277, 'decor': 8278, 'ahead': 8279, 'easily': 8280, 'weakest': 8281, 'cityregion': 8282, 'dictionaries': 8283, 'sina': 8284, 'cosa': 8285, 'linda': 8286, 'chloe': 8287, 'solved': 8288, 'prefix': 8289, 'micro': 8290, 'rodeo': 8291, 'muddy': 8292, 'repeat': 8293, 'churros': 8294, 'spicies': 8295, 'seals': 8296, 'nonprime': 8297, 'noncomposite': 8298, 'colombia': 8299, 'shocked': 8300, 'audiences': 8301, 'applause': 8302, 'ringing': 8303}\n",
            "[[   2  142 2682 ...    0    0    0]\n",
            " [   2 1268  741 ...    4  160  693]\n",
            " [   2  400   19 ...   15   16  156]\n",
            " ...\n",
            " [   2   13  380 ...    0    0    0]\n",
            " [   2 1486 4492 ...    0    0    0]\n",
            " [   2    4  106 ...    0    0    0]]\n",
            "{'<pad>': 0, '<OOV>': 1, '<sos>': 2, '<eos>': 3, 'the': 4, 'is': 5, 'a': 6, 'of': 7, 'and': 8, 'to': 9, 'in': 10, 'are': 11, 'for': 12, 'i': 13, 'was': 14, 'with': 15, 'an': 16, 'that': 17, 'he': 18, 'this': 19, 'it': 20, 'you': 21, 'be': 22, 'on': 23, 'by': 24, 'as': 25, 'from': 26, 'she': 27, 'can': 28, 'has': 29, 'new': 30, 'have': 31, 'x': 32, 'like': 33, 'sentence': 34, 'what': 35, 'your': 36, 'my': 37, 'not': 38, 'at': 39, 'three': 40, 'two': 41, 'or': 42, '$': 43, 'had': 44, 'we': 45, 'will': 46, 'world': 47, 'his': 48, 'time': 49, 'store': 50, 'most': 51, 'one': 52, 'our': 53, 'her': 54, 'john': 55, 'return': 56, '*': 57, 'do': 58, 'apple': 59, 'used': 60, 'all': 61, 'if': 62, 'day': 63, 'up': 64, 'there': 65, 'but': 66, 'where': 67, 'cat': 68, 'their': 69, 'b': 70, 'select': 71, 'so': 72, 'data': 73, 'people': 74, 'its': 75, 'they': 76, 'number': 77, 'more': 78, 'how': 79, 'no': 80, 'am': 81, 'about': 82, 'would': 83, 'us': 84, 'sky': 85, 'make': 86, 'verb': 87, 'def': 88, 'life': 89, 'united': 90, 'go': 91, 'include': 92, 'been': 93, 'dog': 94, 'should': 95, 'five': 96, 'word': 97, 'average': 98, 'than': 99, 'when': 100, 'which': 101, 'me': 102, 'could': 103, 'states': 104, 'car': 105, 'sun': 106, 'were': 107, 'between': 108, 'night': 109, 'learning': 110, 'area': 111, 'technology': 112, 'great': 113, 'y': 114, 'out': 115, 'went': 116, 'through': 117, 'take': 118, '%': 119, 'some': 120, 'did': 121, 'blue': 122, 'total': 123, 'get': 124, 'name': 125, 'city': 126, 'around': 127, 'given': 128, 'noun': 129, 'common': 130, 'book': 131, 'work': 132, 'water': 133, ']': 134, \"it's\": 135, \"i'm\": 136, 'text': 137, 'food': 138, 'energy': 139, 'equal': 140, 'help': 141, 'yes': 142, '[': 143, 'over': 144, 'who': 145, 'going': 146, 'future': 147, 'order': 148, 'first': 149, 'good': 150, 'popular': 151, 'way': 152, 'triangle': 153, 'c': 154, 'person': 155, 'example': 156, 'countries': 157, 'language': 158, 'change': 159, 'years': 160, 'apples': 161, 'numbers': 162, 'sum': 163, 'need': 164, 'price': 165, 'population': 166, 'love': 167, 'customer': 168, 'square': 169, 'ai': 170, 'intelligence': 171, 'project': 172, 'best': 173, 'value': 174, 'power': 175, 'set': 176, 'task': 177, 'into': 178, 'red': 179, 'orange': 180, 'cost': 181, 'movie': 182, 'product': 183, 'artificial': 184, 'list': 185, 'house': 186, 'words': 187, 'computer': 188, 'temperature': 189, 'other': 190, 'made': 191, 'many': 192, 'very': 193, 'india': 194, 'climate': 195, 'river': 196, 'article': 197, 'software': 198, 'cm': 199, 'down': 200, 'approximately': 201, 'why': 202, 'because': 203, 'any': 204, 'always': 205, 'quickly': 206, 'today': 207, 'global': 208, 'tree': 209, 'buy': 210, 'park': 211, 'students': 212, 'york': 213, 'elephant': 214, '–': 215, 'type': 216, 'animals': 217, 'use': 218, 'found': 219, 'statement': 220, 'main': 221, 'num': 222, 'group': 223, 'beautiful': 224, 'experience': 225, 'just': 226, 'job': 227, 'health': 228, 'summer': 229, 'light': 230, 'positive': 231, 'system': 232, 'important': 233, 'category': 234, 'th': 235, \"don't\": 236, 'every': 237, 'social': 238, 'result': 239, 'online': 240, 'banana': 241, 'machine': 242, 'journey': 243, 'better': 244, 'money': 245, 'france': 246, 'success': 247, 'while': 248, 'air': 249, 'earth': 250, 'away': 251, 'last': 252, 'home': 253, 'green': 254, 'phrase': 255, 'body': 256, 'making': 257, 'being': 258, 'bright': 259, 'china': 260, 'answer': 261, 'never': 262, 'four': 263, 'true': 264, 'natural': 265, 'range': 266, 'per': 267, 'create': 268, 'table': 269, 'hard': 270, 'ocean': 271, 'using': 272, 'business': 273, 'high': 274, 'team': 275, 'wind': 276, 'such': 277, 'items': 278, 'yellow': 279, 'stars': 280, 'cats': 281, 'family': 282, 'joy': 283, 'degrees': 284, 'find': 285, 'country': 286, 'moon': 287, 'google': 288, 'does': 289, 'current': 290, 'here': 291, 'small': 292, 'age': 293, 'rate': 294, 'man': 295, 'string': 296, 'hours': 297, 'each': 298, 'after': 299, 'equation': 300, 'color': 301, 'fruits': 302, 'fruit': 303, 'said': 304, 'company': 305, 'him': 306, 'news': 307, 'subject': 308, 'written': 309, 'n': 310, 'school': 311, 'eggs': 312, 'largest': 313, 'them': 314, 'too': 315, 'animal': 316, 'books': 317, 'morning': 318, 'meters': 319, 'mountain': 320, 'capital': 321, 'right': 322, 'something': 323, 'equivalent': 324, 'teacher': 325, 'think': 326, 'form': 327, 'benefits': 328, 'walk': 329, 'adjective': 330, 'vegetables': 331, 'mammal': 332, 'running': 333, 'service': 334, 'full': 335, 'correct': 336, 'want': 337, 'tomorrow': 338, 'walking': 339, 'past': 340, 'examples': 341, 'human': 342, 'output': 343, 'exploring': 344, 'shopping': 345, 'different': 346, 'old': 347, 'both': 348, 'before': 349, 'ran': 350, 'stay': 351, 'object': 352, 'feeling': 353, 'song': 354, 'look': 355, 'key': 356, 'million': 357, 'types': 358, 'false': 359, 'd': 360, 'student': 361, 'miles': 362, 'strong': 363, 'now': 364, 'web': 365, 'oranges': 366, 'hello': 367, 'friends': 368, 'information': 369, 'across': 370, 'due': 371, 'highest': 372, 'item': 373, 'difficult': 374, 'year': 375, 'much': 376, 'read': 377, 'potential': 378, 'must': 379, 'bought': 380, 'line': 381, 'species': 382, 'impact': 383, 'coffee': 384, 'beach': 385, 'only': 386, 'place': 387, 'days': 388, 'deep': 389, 'without': 390, 'point': 391, 'else': 392, 'state': 393, 'taking': 394, 'room': 395, 'delicious': 396, 'music': 397, 'white': 398, 'sweet': 399, 'see': 400, 'negative': 401, 'likely': 402, 'really': 403, 'action': 404, 'yesterday': 405, 'elements': 406, 'length': 407, 'lion': 408, 'playing': 409, 'things': 410, 'friend': 411, 'everyone': 412, 'fish': 413, 'trees': 414, 'bird': 415, 'products': 416, 'birds': 417, 'filled': 418, 'prime': 419, 'ice': 420, 'feet': 421, 'living': 422, 'colors': 423, 'essential': 424, '°c': 425, 'contains': 426, 'html': 427, 'large': 428, 'back': 429, 'increase': 430, 'physical': 431, 'bananas': 432, 'japan': 433, 'los': 434, 'possible': 435, 'phone': 436, 'play': 437, 'media': 438, 'rain': 439, 'perfect': 440, 'customers': 441, 'sea': 442, 'sentiment': 443, 'solution': 444, 'long': 445, 'children': 446, 'may': 447, 'event': 448, 's': 449, 'healthy': 450, 'story': 451, 'beauty': 452, 'sides': 453, 'american': 454, 'having': 455, 'classified': 456, 'took': 457, 'meeting': 458, 'angeles': 459, 'times': 460, 'problem': 461, 'street': 462, 'canada': 463, 'internet': 464, 'learn': 465, 'america': 466, 'dogs': 467, 'game': 468, 'located': 469, 'cheese': 470, 'writing': 471, 'heart': 472, 'happy': 473, 'code': 474, 'cake': 475, 'stock': 476, 'major': 477, 'class': 478, 'according': 479, 'top': 480, 'french': 481, 'complete': 482, 'peaceful': 483, 'south': 484, 'vibrant': 485, 'excited': 486, 'model': 487, 'head': 488, 'eating': 489, 'purchase': 490, 'means': 491, 'process': 492, 'government': 493, 'late': 494, 'together': 495, 'digital': 496, 'knowledge': 497, 'chicken': 498, 'famous': 499, 'ate': 500, 'africa': 501, 'nature': 502, 'run': 503, 'same': 504, 'live': 505, 'public': 506, 'fox': 507, 'pandemic': 508, 'germany': 509, 'mean': 510, 'eat': 511, 'celsius': 512, 'increased': 513, '°f': 514, 'cream': 515, 'war': 516, 'tense': 517, 'int': 518, 'cars': 519, 'market': 520, 'even': 521, 'still': 522, 'communication': 523, 'services': 524, 'come': 525, 'paris': 526, 'next': 527, 'party': 528, 'powerful': 529, 'solar': 530, 'dinner': 531, 'black': 532, 'walked': 533, 'planet': 534, 'ingredients': 535, 'pizza': 536, 'try': 537, 'own': 538, 'hope': 539, 'question': 540, 'present': 541, 'part': 542, 'brown': 543, 'plan': 544, 'cannot': 545, 'side': 546, 'function': 547, 'successful': 548, 'painting': 549, 'humans': 550, 'english': 551, 'difference': 552, 'pm': 553, 'amazon': 554, 'environment': 555, 'keep': 556, 'call': 557, 'understand': 558, 'second': 559, 'website': 560, 'sales': 561, 'known': 562, 'someone': 563, 'then': 564, 'face': 565, 'study': 566, 'breeze': 567, 'milk': 568, 'favorite': 569, 'height': 570, 'smith': 571, 'movies': 572, 'warm': 573, 'processing': 574, 'tiger': 575, 'california': 576, 'laptop': 577, 'education': 578, 'garden': 579, 'element': 580, 'start': 581, 'during': 582, 'situation': 583, 'excellent': 584, 'simple': 585, 'skills': 586, 'off': 587, 'content': 588, 'cold': 589, 'yet': 590, 'basketball': 591, 'input': 592, 'quality': 593, 'sugar': 594, 'plants': 595, 'pollution': 596, 'typically': 597, 'currently': 598, 'wanted': 599, 'programming': 600, 'following': 601, 'search': 602, 'called': 603, 'financial': 604, 'paper': 605, 'please': 606, 'feel': 607, 'development': 608, 'caused': 609, 'units': 610, 'modern': 611, 'understanding': 612, 'tokyo': 613, 'science': 614, 'letter': 615, 'town': 616, 'carbon': 617, 'speed': 618, 'characters': 619, 'fahrenheit': 620, 'looking': 621, 'sure': 622, 'provide': 623, 'end': 624, 'let': 625, 'ever': 626, 'longest': 627, 'majestic': 628, 'sleep': 629, 'array': 630, 'warming': 631, 'butter': 632, 'tasks': 633, 'cause': 634, 'reduce': 635, 'speech': 636, 'inches': 637, 'cup': 638, 'expression': 639, 'swimming': 640, 'felt': 641, 'pronoun': 642, 'mexico': 643, 'video': 644, 'done': 645, 'lives': 646, 'growth': 647, 'believe': 648, 'watch': 649, 'kind': 650, 'london': 651, 'finished': 652, 'plant': 653, 'surface': 654, 'decision': 655, 'title': 656, 'novel': 657, 'employees': 658, 'design': 659, 'x^': 660, 'dark': 661, 'lake': 662, 'art': 663, 'president': 664, 'covid': 665, 'finish': 666, 'bear': 667, 'dream': 668, 'latest': 669, 'reading': 670, 'brazil': 671, 'adjectives': 672, 'python': 673, 'cloud': 674, 'check': 675, 'analysis': 676, 'report': 677, 'big': 678, 'spanish': 679, 'saw': 680, 'rectangle': 681, 'commonly': 682, 'soft': 683, 'kitchen': 684, 'kingdom': 685, 'adventure': 686, 'cities': 687, 'therefore': 688, 'leaves': 689, 'solutions': 690, 'performance': 691, 'europe': 692, 'random': 693, 'put': 694, 'george': 695, 'points': 696, 'tax': 697, 'open': 698, 'test': 699, 'outside': 700, 'week': 701, 'features': 702, 'restaurant': 703, 'brave': 704, 'minutes': 705, 'adverb': 706, 'join': 707, 'uses': 708, 'style': 709, 'la': 710, 'working': 711, 'chemical': 712, 'weather': 713, '[]': 714, 'hour': 715, 'clouds': 716, 'recognition': 717, 'give': 718, 'rising': 719, 'sound': 720, 'flower': 721, 'engineer': 722, 'forest': 723, 'few': 724, 'lot': 725, 'yourself': 726, 'topic': 727, 'sense': 728, 'say': 729, 'limit': 730, 'able': 731, 'spain': 732, 'scientists': 733, \"can't\": 734, 'courage': 735, 'early': 736, 'meet': 737, 'nouns': 738, 'sunny': 739, 'kilometers': 740, 'seen': 741, 'also': 742, 'know': 743, 'needs': 744, 'got': 745, 'term': 746, 'well': 747, 'since': 748, 'enjoy': 749, 'exercise': 750, 'against': 751, 'fire': 752, 'mary': 753, 'amazing': 754, 'scientific': 755, 'sports': 756, 'reach': 757, 'month': 758, 'e': 759, 'access': 760, 'activities': 761, 'chair': 762, 'estimated': 763, 'describe': 764, 'voice': 765, 'mouse': 766, 'issue': 767, 'north': 768, 'date': 769, 'businesses': 770, 'requires': 771, 'quick': 772, 'lunch': 773, 'intelligent': 774, 'despite': 775, 'sleeping': 776, 'door': 777, 'fast': 778, 'algorithm': 779, 'g': 780, 'plastic': 781, 'oxygen': 782, 'sequence': 783, 'revolution': 784, 'distance': 785, 'explore': 786, 'improved': 787, 'iphone': 788, 'network': 789, 'everything': 790, 'step': 791, 'possibilities': 792, 'sorry': 793, 'expected': 794, 'median': 795, 'bus': 796, 'maximum': 797, 'determined': 798, 'winter': 799, 'road': 800, 'fun': 801, 'likes': 802, 'tomatoes': 803, 'cool': 804, 'storm': 805, 'clothing': 806, 'environmental': 807, 'radius': 808, 'creative': 809, 'declarative': 810, 'san': 811, 'microsoft': 812, 'hot': 813, 'm': 814, 'makes': 815, 'based': 816, 'level': 817, 'security': 818, 'amount': 819, 'others': 820, 'primary': 821, 'renewable': 822, 'travel': 823, 'sustainable': 824, 'gentle': 825, 'european': 826, 'app': 827, 'waves': 828, 'pencil': 829, 'goals': 830, 'jupiter': 831, 'circle': 832, 'shining': 833, 'tower': 834, 'started': 835, 'jane': 836, 'museum': 837, 'washington': 838, 'gave': 839, 'soon': 840, 'decided': 841, 'size': 842, 'effective': 843, 'rise': 844, 'dress': 845, 'chocolate': 846, 'div': 847, 'base': 848, 'salary': 849, 'getting': 850, 'clear': 851, 'low': 852, 'tool': 853, 'offer': 854, 'source': 855, 'marketing': 856, 'resources': 857, 'often': 858, 'de': 859, 'australia': 860, 'q': 861, 'breakfast': 862, 'games': 863, 'smart': 864, 'healthcare': 865, 'temperatures': 866, 'root': 867, 'happiness': 868, 'pen': 869, 'patient': 870, 'associated': 871, 'lazy': 872, 'show': 873, 'languages': 874, 'tale': 875, 'bob': 876, 'land': 877, 'creating': 878, 'these': 879, 'share': 880, 'worth': 881, 'little': 882, 'doing': 883, 'structure': 884, 'program': 885, 'mind': 886, 'jumped': 887, 'incorrect': 888, 'score': 889, 'exam': 890, 'doctor': 891, 'strawberries': 892, 'fear': 893, 'fresh': 894, 'mars': 895, 'author': 896, 'mobile': 897, 'eagle': 898, 'sunset': 899, 'hydrogen': 900, 'italy': 901, 'probability': 902, 'needed': 903, 'un': 904, 'results': 905, 'rabbit': 906, 'mammals': 907, 'java': 908, 'angle': 909, 'cheerful': 910, \"you're\": 911, 'sources': 912, 'easy': 913, 'location': 914, 'engineering': 915, 'free': 916, 'single': 917, \"that's\": 918, 'option': 919, 'international': 920, 'care': 921, 'visit': 922, 'once': 923, 'including': 924, 'manager': 925, 'provides': 926, 'building': 927, 'grocery': 928, 'created': 929, 'barked': 930, 'mark': 931, 'snow': 932, 'unlock': 933, 'policy': 934, 'carrots': 935, 'j': 936, 'theme': 937, 'asia': 938, 'loves': 939, 'mount': 940, 'vast': 941, 'related': 942, 'emissions': 943, 'strength': 944, 'regular': 945, 'field': 946, 'innovative': 947, 'loud': 948, 'assignment': 949, 'bag': 950, 'providing': 951, 'f': 952, 'passionate': 953, 'enjoyed': 954, 'independent': 955, 'friendly': 956, 'visited': 957, 'soccer': 958, 'developer': 959, 'finance': 960, 'effects': 961, 'bad': 962, 'might': 963, 'bank': 964, 'crisis': 965, 'choice': 966, 'completed': 967, 'risk': 968, 'research': 969, 'wall': 970, 'save': 971, 'figure': 972, 'asked': 973, 'complex': 974, 'taken': 975, 'idea': 976, 'office': 977, 'usually': 978, 'bring': 979, 'dreams': 980, 'vegetable': 981, 'safety': 982, 'tall': 983, 'diet': 984, 'ability': 985, 'volume': 986, 'levels': 987, 'exciting': 988, 'brightly': 989, 'scientist': 990, 'arr': 991, 'binary': 992, 'applications': 993, 'printi': 994, 'forward': 995, 'closest': 996, 'grade': 997, 'revolutionary': 998, 'football': 999, 'improve': 1000, 'shoes': 1001, 'peace': 1002, 'ground': 1003, 'flour': 1004, 'remarkable': 1005, 'activity': 1006, 'carrot': 1007, 'progress': 1008, 'print': 1009, 'mental': 1010, 'again': 1011, 'tr': 1012, 'gpt': 1013, 'pay': 1014, 'advantages': 1015, 'add': 1016, 'income': 1017, 'gold': 1018, 'none': 1019, 'several': 1020, 'nothing': 1021, 'management': 1022, 'within': 1023, 'daily': 1024, 'trip': 1025, 'boy': 1026, 'smile': 1027, 'studying': 1028, 'sight': 1029, 'atmosphere': 1030, 'ancient': 1031, 'eaten': 1032, 'destination': 1033, 'lead': 1034, 'passage': 1035, 'composed': 1036, 'objects': 1037, 'everest': 1038, 'gender': 1039, 'homework': 1040, 'rock': 1041, 'jack': 1042, 'effort': 1043, 'evening': 1044, 'appreciate': 1045, 'potatoes': 1046, 'autumn': 1047, 'vacation': 1048, 'window': 1049, 'systems': 1050, 'alice': 1051, 'blanket': 1052, 'young': 1053, \"''\": 1054, 'comes': 1055, 'african': 1056, 'tips': 1057, 'setting': 1058, 'girl': 1059, 'generate': 1060, 'fall': 1061, 'opportunities': 1062, 'poem': 1063, 'steps': 1064, 'expensive': 1065, 'trying': 1066, 'history': 1067, 'stands': 1068, 'thing': 1069, 'usd': 1070, 'view': 1071, 'mother': 1072, 'waste': 1073, 'thought': 1074, 'opinion': 1075, 'computing': 1076, 'reliable': 1077, 'shop': 1078, 'support': 1079, 'orders': 1080, 'wrote': 1081, 'left': 1082, 'tone': 1083, 'divided': 1084, 'raining': 1085, 'season': 1086, 'unknown': 1087, 'confident': 1088, 'garlic': 1089, 'trust': 1090, 'el': 1091, 'taste': 1092, \"didn't\": 1093, 'boat': 1094, 'desc': 1095, 'importance': 1096, 'june': 1097, 'released': 1098, 'cross': 1099, 'achieve': 1100, 'serene': 1101, 'space': 1102, 'heard': 1103, 'user': 1104, 'productivity': 1105, 'mysterious': 1106, 'captivating': 1107, 'strawberry': 1108, 'whale': 1109, 'medical': 1110, 'users': 1111, 'listen': 1112, 'unlocking': 1113, 'incredible': 1114, 'eyes': 1115, 'period': 1116, 'francisco': 1117, 'economy': 1118, 'seven': 1119, 'dish': 1120, 'javascript': 1121, 'active': 1122, 'rice': 1123, 'series': 1124, 'won': 1125, 'act': 1126, 'ways': 1127, 'cash': 1128, 'although': 1129, 'under': 1130, 'interest': 1131, 'union': 1132, 'match': 1133, 'unique': 1134, 'library': 1135, 'short': 1136, 'drive': 1137, 'similar': 1138, 'months': 1139, 'practice': 1140, 'nice': 1141, 'formula': 1142, 'welcome': 1143, 'meal': 1144, 'force': 1145, 'desert': 1146, 'brother': 1147, 'furniture': 1148, 'shape': 1149, 'king': 1150, 'border': 1151, 'dishes': 1152, 'consequences': 1153, 'creativity': 1154, 'ambitious': 1155, 'sets': 1156, 'election': 1157, 'planning': 1158, 'industry': 1159, 'eiffel': 1160, 'billion': 1161, 'adventures': 1162, 'control': 1163, 'import': 1164, 'egypt': 1165, 'address': 1166, 'standard': 1167, 'px': 1168, 'electric': 1169, 'heat': 1170, 'clean': 1171, 'gorilla': 1172, 'disease': 1173, 'mountains': 1174, 'methods': 1175, 'engaging': 1176, 'metaphor': 1177, 'thank': 1178, 'woman': 1179, 'fly': 1180, 'jobs': 1181, 'bed': 1182, 'meaning': 1183, 'gone': 1184, 'ready': 1185, 'goal': 1186, 'wild': 1187, 'nine': 1188, 'camping': 1189, 'stress': 1190, 'error': 1191, 'broccoli': 1192, 'automation': 1193, 'flowers': 1194, 'delighted': 1195, 'bike': 1196, 'chicago': 1197, 'efficiency': 1198, 'speaker': 1199, 'energetic': 1200, \"won't\": 1201, 'hand': 1202, 'far': 1203, 'options': 1204, 'instruments': 1205, 'computers': 1206, 'stop': 1207, 'funds': 1208, 'another': 1209, 'budget': 1210, 'economic': 1211, 'impossible': 1212, 'inside': 1213, 'real': 1214, 'balance': 1215, 'appears': 1216, 'society': 1217, 'pet': 1218, 'safe': 1219, 'giant': 1220, 'sunshine': 1221, 'bringing': 1222, 'character': 1223, 'solve': 1224, 'tent': 1225, 'albert': 1226, 'cheetah': 1227, 'towards': 1228, 'further': 1229, 'flight': 1230, 'components': 1231, 'moonlight': 1232, 'increasing': 1233, 'id': 1234, 'golden': 1235, 'exhausted': 1236, 'perimeter': 1237, 'arrived': 1238, 'cow': 1239, 'nations': 1240, 'takes': 1241, 'indian': 1242, 'lemon': 1243, 'enough': 1244, 'innovation': 1245, 'o': 1246, 'clause': 1247, 'faster': 1248, 'ahead': 1249, 'greatest': 1250, 'guitar': 1251, 'reminder': 1252, 'matter': 1253, 'comedy': 1254, 'discover': 1255, 'endangered': 1256, 'star': 1257, 'challenges': 1258, 'break': 1259, 'musical': 1260, 'turn': 1261, 'p': 1262, 'models': 1263, 'conflict': 1264, 'max': 1265, 'harry': 1266, 'potter': 1267, \"i've\": 1268, 'described': 1269, \"here's\": 1270, 'guide': 1271, 'ideas': 1272, 'costs': 1273, 'consider': 1274, 'hear': 1275, 'until': 1276, 'third': 1277, 'already': 1278, 'leave': 1279, 'law': 1280, 'employee': 1281, 'necessary': 1282, 'kids': 1283, 'worked': 1284, 'goes': 1285, 'express': 1286, 'tea': 1287, 'oil': 1288, 'decimal': 1289, 'preposition': 1290, 'experiment': 1291, 'diseases': 1292, 'snake': 1293, 'hat': 1294, 'succeed': 1295, 'mercury': 1296, 'ball': 1297, \"couldn't\": 1298, 'presentation': 1299, 'brings': 1300, 'train': 1301, 'loudly': 1302, 'display': 1303, 'curious': 1304, 'growing': 1305, 'valid': 1306, 'august': 1307, 'singing': 1308, 'horse': 1309, 'unable': 1310, 'lack': 1311, 'local': 1312, 'appropriate': 1313, 'virtual': 1314, 'weight': 1315, 'dollars': 1316, 'classification': 1317, 'opportunity': 1318, 'rolling': 1319, '^': 1320, 'native': 1321, 'greater': 1322, 'rises': 1323, 'suitable': 1324, 'fiction': 1325, 'forget': 1326, 'develop': 1327, 'james': 1328, 'engine': 1329, 'neural': 1330, 'parents': 1331, 'galaxy': 1332, 'skin': 1333, 'changes': 1334, 'falling': 1335, 'film': 1336, 'thoughts': 1337, 'wish': 1338, 'gas': 1339, 'write': 1340, 'course': 1341, 'personal': 1342, 'came': 1343, 'currency': 1344, 'net': 1345, 'companies': 1346, 'those': 1347, 'quite': 1348, 'operating': 1349, 'problems': 1350, 'minimum': 1351, 'works': 1352, 'less': 1353, 'count': 1354, 'page': 1355, 'anything': 1356, 'math': 1357, 'least': 1358, 'six': 1359, 'cube': 1360, 'japanese': 1361, 'among': 1362, 'higher': 1363, 'challenge': 1364, 'recent': 1365, 'solving': 1366, 'leader': 1367, 'tools': 1368, 'above': 1369, 'opened': 1370, 'sadness': 1371, 'bread': 1372, 'cases': 1373, 'pleasant': 1374, 'documents': 1375, 'resilience': 1376, 'response': 1377, 'facebook': 1378, 'peak': 1379, 'pacific': 1380, 'email': 1381, 'slowly': 1382, 'picture': 1383, 'joe': 1384, 'university': 1385, 'plane': 1386, 'lost': 1387, 'glass': 1388, 'shirt': 1389, 'successfully': 1390, 'iron': 1391, 'silent': 1392, 'emotion': 1393, 'national': 1394, 'secrets': 1395, 'robotics': 1396, 'technologies': 1397, 'gdp': 1398, 'challenging': 1399, 'silver': 1400, 'become': 1401, 'giraffe': 1402, 'est': 1403, 'document': 1404, 'romantic': 1405, 'variable': 1406, 'board': 1407, 'focus': 1408, 'belongs': 1409, 'ensure': 1410, 'rose': 1411, 'hypothesis': 1412, 'developing': 1413, 'build': 1414, 'helium': 1415, 'century': 1416, 'east': 1417, 'outcome': 1418, 'onto': 1419, 'recipe': 1420, 'account': 1421, 'final': 1422, 'dollar': 1423, 'though': 1424, 'helps': 1425, 'mix': 1426, 'october': 1427, 'index': 1428, 'passive': 1429, 'offers': 1430, 'proper': 1431, 'contact': 1432, 'sounds': 1433, 'factors': 1434, 'overall': 1435, 'bold': 1436, 'members': 1437, 'friendship': 1438, 'asian': 1439, 'cooking': 1440, 'sunlight': 1441, 'brand': 1442, 'piano': 1443, 'audience': 1444, 'professional': 1445, 'rights': 1446, 'move': 1447, 'venus': 1448, 'neptune': 1449, 'sorted': 1450, 'abc': 1451, \"earth's\": 1452, 'darkness': 1453, 'testing': 1454, 'catcher': 1455, 'watching': 1456, 'purple': 1457, 'driving': 1458, 'colombia': 1459, 'burning': 1460, 'drawing': 1461, 'aid': 1462, 'kit': 1463, 'width': 1464, 'groceries': 1465, 'salad': 1466, 'unit': 1467, 'le': 1468, 'expressed': 1469, 'vehicle': 1470, 'hair': 1471, 'behavior': 1472, 'pressure': 1473, 'jump': 1474, 'approximate': 1475, 'heavy': 1476, 'cuisine': 1477, 'dioxide': 1478, 'watched': 1479, 'path': 1480, 'surprise': 1481, 'flavor': 1482, 'juice': 1483, 'values': 1484, 'device': 1485, 'tom': 1486, 'tv': 1487, 'slow': 1488, 'significant': 1489, 'poverty': 1490, 'grow': 1491, 'artist': 1492, 'emotions': 1493, 'goods': 1494, 'extra': 1495, 'fit': 1496, 'buying': 1497, 'trade': 1498, 'interesting': 1499, 'ask': 1500, 'mistakes': 1501, 'sort': 1502, 'tell': 1503, 'gift': 1504, 'continue': 1505, 'considered': 1506, 'received': 1507, 'organization': 1508, 'remember': 1509, 'instead': 1510, \"doesn't\": 1511, 'flow': 1512, 'issues': 1513, 'rich': 1514, 'follow': 1515, 'produce': 1516, 'finding': 1517, 'grapes': 1518, 'salt': 1519, 'poor': 1520, 'professor': 1521, 'einstein': 1522, 'staying': 1523, 'feline': 1524, 'behind': 1525, 'uranus': 1526, 'application': 1527, 'drove': 1528, '°': 1529, 'sodium': 1530, 'piece': 1531, 'contain': 1532, 'deforestation': 1533, 'chinese': 1534, 'jumps': 1535, 'transportation': 1536, 'facial': 1537, 'becoming': 1538, 'algorithms': 1539, 'william': 1540, 'efficient': 1541, 'usa': 1542, 'regularly': 1543, 'dance': 1544, 'battery': 1545, 'atomic': 1546, 'transforming': 1547, 'russia': 1548, 'race': 1549, 'calm': 1550, 'baking': 1551, 'powder': 1552, 'wings': 1553, 'visiting': 1554, 'impacts': 1555, 'protein': 1556, 'unexpected': 1557, 'silence': 1558, 'television': 1559, 'alive': 1560, 'virus': 1561, 'magical': 1562, 'rainbow': 1563, 'began': 1564, 'machines': 1565, 'chill': 1566, 'wear': 1567, 'played': 1568, 'universe': 1569, 'coronavirus': 1570, 'speak': 1571, 'atoms': 1572, 'laughter': 1573, 'rating': 1574, 'name]': 1575, 'saving': 1576, 'colorful': 1577, 'joyful': 1578, 'tennis': 1579, 'rye': 1580, 'tropical': 1581, 'evidence': 1582, 'approach': 1583, 'supplies': 1584, 'switzerland': 1585, 'advice': 1586, 'available': 1587, 'missing': 1588, 'prices': 1589, 'suggested': 1590, 'odd': 1591, 'close': 1592, 'focused': 1593, 'held': 1594, 'theory': 1595, 'rest': 1596, 'swift': 1597, 'comprehensive': 1598, 'protection': 1599, 'note': 1600, 'treat': 1601, 'twinkling': 1602, 'ca': 1603, 'cut': 1604, 'butterfly': 1605, 'en': 1606, 'july': 1607, 'utensils': 1608, 'stove': 1609, 'department': 1610, 'hi': 1611, 'intense': 1612, 'cookies': 1613, 'enthusiasm': 1614, 'h': 1615, 'saturn': 1616, \"let's\": 1617, 'gain': 1618, 'spring': 1619, 'outdoor': 1620, 'trends': 1621, 'strategies': 1622, 'liquid': 1623, 'cleaning': 1624, 'wellbeing': 1625, 'integer': 1626, 'fence': 1627, 'organic': 1628, 'loss': 1629, 'determination': 1630, 'mistake': 1631, 'spelling': 1632, 'message': 1633, 'twitter': 1634, 'symbol': 1635, 'centimeters': 1636, 'legs': 1637, 'spoken': 1638, 'argentina': 1639, 'shadows': 1640, 'seeds': 1641, 'embrace': 1642, 'vehicles': 1643, 'inc': 1644, 'robot': 1645, 'painted': 1646, 'visual': 1647, 'pie': 1648, 'factor': 1649, 'sustainability': 1650, \"world's\": 1651, 'horror': 1652, 'image': 1653, 'boiling': 1654, 'mood': 1655, 'freedom': 1656, 'emails': 1657, 'decisions': 1658, 'storage': 1659, 'grand': 1660, 'fact': 1661, 'vision': 1662, 'closed': 1663, 'introducing': 1664, 'gray': 1665, 'thinking': 1666, 'rapidly': 1667, 'equilateral': 1668, 'samsung': 1669, 'thousand': 1670, 'sad': 1671, 'varchar': 1672, 'born': 1673, 'starry': 1674, 'illuminated': 1675, 'spread': 1676, 'tomato': 1677, 'record': 1678, 'span': 1679, 'formed': 1680, 'enjoys': 1681, 'father': 1682, 'david': 1683, 'techniques': 1684, 'actions': 1685, 'palindrome': 1686, 'clothes': 1687, 'networks': 1688, 'shows': 1689, 'mango': 1690, 'grilled': 1691, 'strategy': 1692, 'widely': 1693, 'pear': 1694, 'review': 1695, 'desk': 1696, 'roasted': 1697, 'changed': 1698, 'st': 1699, 'proud': 1700, 'center': 1701, 'drama': 1702, 'elated': 1703, 'linear': 1704, 'reptile': 1705, 'degree': 1706, 'sample': 1707, 'chased': 1708, 'peppers': 1709, 'gently': 1710, 'stone': 1711, 'ft': 1712, 'passion': 1713, 'atom': 1714, 'weekend': 1715, 'however': 1716, 'upon': 1717, 'recently': 1718, \"i'd\": 1719, 'percentage': 1720, 'position': 1721, 'texas': 1722, 'details': 1723, 'below': 1724, 'built': 1725, 'direct': 1726, 'k': 1727, 'sale': 1728, 'wave': 1729, 'speaking': 1730, 'wants': 1731, 'submit': 1732, 'exchange': 1733, 'pair': 1734, 'risks': 1735, 'whole': 1736, 'terms': 1737, 'peter': 1738, 'became': 1739, 'oak': 1740, 'acid': 1741, 'angry': 1742, 'paragraph': 1743, 'idiom': 1744, 'effect': 1745, 'persuasive': 1746, 'je': 1747, 'wonderful': 1748, 'flashlight': 1749, 'ride': 1750, 'anger': 1751, 'british': 1752, 'planets': 1753, 'devastating': 1754, 'foods': 1755, 'relief': 1756, 'populous': 1757, 'synonym': 1758, 'photo': 1759, 'airport': 1760, 'woods': 1761, 'delhi': 1762, 'umbrella': 1763, 'metal': 1764, 'dolphin': 1765, 'synonyms': 1766, 'turkey': 1767, 'fuels': 1768, 'atlantic': 1769, 'civil': 1770, 'km': 1771, 'cozy': 1772, 'avocado': 1773, 'representation': 1774, 'font': 1775, 'resilient': 1776, 'immense': 1777, 'regression': 1778, 'everyday': 1779, 'electricity': 1780, 'hypotenuse': 1781, 'official': 1782, 'extremely': 1783, 'mission': 1784, 'determiner': 1785, 'printhello': 1786, 'verbs': 1787, 'password': 1788, 'horizon': 1789, 'deer': 1790, 'gaining': 1791, 'healthier': 1792, 'count*': 1793, 'grateful': 1794, 'follows': 1795, 'changing': 1796, 'categorized': 1797, 'deadline': 1798, 'al': 1799, 'habitat': 1800, 'biggest': 1801, 'conclusion': 1802, 'processes': 1803, 'showing': 1804, 'kindness': 1805, 'bell': 1806, 'smallest': 1807, 'rainforest': 1808, 'thunder': 1809, 'spent': 1810, 'comfort': 1811, 'discovery': 1812, 'anxiety': 1813, 'plans': 1814, 'protect': 1815, 'sang': 1816, 'z': 1817, 'problemsolving': 1818, 'fuel': 1819, 'pro': 1820, 'sunrise': 1821, 'reality': 1822, 'tech': 1823, 'char': 1824, 'college': 1825, 'berlin': 1826, 'kale': 1827, 'onions': 1828, 'sarah': 1829, 'ship': 1830, 'calories': 1831, 'role': 1832, 'bowl': 1833, 'sauce': 1834, 'digit': 1835, 'educational': 1836, 'refrigerator': 1837, 'individual': 1838, 'schedule': 1839, 'respect': 1840, 'organizations': 1841, 'industrial': 1842, 'essay': 1843, 'questions': 1844, 'eg': 1845, 'fund': 1846, 'rates': 1847, 'tried': 1848, 'matches': 1849, 'introduction': 1850, 'compound': 1851, 'choose': 1852, 'rhyme': 1853, 'longer': 1854, 'bond': 1855, 'recommend': 1856, 'avoid': 1857, 'special': 1858, 'attention': 1859, 'profit': 1860, 'truly': 1861, 'fx': 1862, 'cm^': 1863, 'mass': 1864, 'cm²': 1865, 'scale': 1866, 'satisfied': 1867, 'announced': 1868, 'hiking': 1869, 'organized': 1870, 'es': 1871, 'onion': 1872, 'pepper': 1873, 'zebra': 1874, 'ascending': 1875, 'endless': 1876, 'individuals': 1877, 'inner': 1878, 'belong': 1879, 'boston': 1880, 'player': 1881, 'flexibility': 1882, 'beginning': 1883, 'traffic': 1884, 'coin': 1885, '→': 1886, 'co': 1887, 'genre': 1888, 'streets': 1889, 'political': 1890, 'actor': 1891, 'excerpt': 1892, 'case': 1893, 'highly': 1894, 'purpose': 1895, 'cell': 1896, 'norway': 1897, 'gathering': 1898, 'materials': 1899, 'consumption': 1900, 'blowing': 1901, 'places': 1902, 'peru': 1903, 'fossil': 1904, 'smell': 1905, 'bat': 1906, 'achieving': 1907, 'destruction': 1908, 'frog': 1909, 'corner': 1910, 'served': 1911, 'upcoming': 1912, 'chance': 1913, 'simile': 1914, 'derivative': 1915, 'doe': 1916, 'variety': 1917, 'memory': 1918, 'fluffy': 1919, 'child': 1920, 'laugh': 1921, 'bake': 1922, 'wolf': 1923, 'imperative': 1924, 'cooked': 1925, 'creature': 1926, 'thrilled': 1927, 'justice': 1928, 'falls': 1929, 'certain': 1930, 'nutrition': 1931, 'ho': 1932, 'relationships': 1933, 'experiences': 1934, 'fraction': 1935, 'police': 1936, 'absolutely': 1937, 'mystery': 1938, 'honey': 1939, 'bee': 1940, 'flew': 1941, 'moments': 1942, 'lonely': 1943, 'swiftly': 1944, 'assistant': 1945, 'cups': 1946, 'finally': 1947, 'van': 1948, 'chart': 1949, 'kept': 1950, 'england': 1951, 'loyal': 1952, 'afraid': 1953, 'analyst': 1954, 'chess': 1955, 'station': 1956, \"john's\": 1957, 'pink': 1958, 'meaningful': 1959, 'arizona': 1960, 'visualization': 1961, 'photosynthesis': 1962, 'dancing': 1963, 'presidential': 1964, 'letters': 1965, 'material': 1966, 'wearing': 1967, 'himself': 1968, 'generation': 1969, 'sharp': 1970, 'studied': 1971, 'throughout': 1972, 'baseball': 1973, 'conversation': 1974, 'april': 1975, 'ii': 1976, 'tired': 1977, 'pool': 1978, 'bar': 1979, 'protagonist': 1980, 'combination': 1981, 'empathy': 1982, 'impressive': 1983, 'eager': 1984, 'feelings': 1985, 'beans': 1986, 'adults': 1987, 'creatures': 1988, 'bridge': 1989, 'customer_id': 1990, 'researchers': 1991, 'influential': 1992, 'credit': 1993, 'comfortable': 1994, 'investing': 1995, 'pros': 1996, 'cons': 1997, 'investment': 1998, 'classes': 1999, 'investments': 2000, 'alone': 2001, 'catch': 2002, 'bigger': 2003, 'alternative': 2004, 'allowed': 2005, 'property': 2006, 'reasons': 2007, 'looks': 2008, 'stocks': 2009, 'feature': 2010, 'economics': 2011, 'lower': 2012, 'weeks': 2013, 'practices': 2014, 'talk': 2015, 'records': 2016, 'windows': 2017, 'description': 2018, 'effectively': 2019, 'method': 2020, 'revenue': 2021, 'measure': 2022, 'sign': 2023, 'talking': 2024, 'daring': 2025, 'pieces': 2026, 'grammatically': 2027, 'prepare': 2028, 'hundred': 2029, 'relationship': 2030, 'training': 2031, 'hexadecimal': 2032, 'magic': 2033, 'bags': 2034, 'imagination': 2035, 'desire': 2036, 'spending': 2037, 'boost': 2038, 'toy': 2039, 'teamwork': 2040, 'teeth': 2041, 'concept': 2042, 'circumference': 2043, 'distant': 2044, 'despair': 2045, 'angles': 2046, 'hidden': 2047, 'prey': 2048, 'liberty': 2049, 'youtube': 2050, 'grape': 2051, 'male': 2052, 'periodic': 2053, 'mediterranean': 2054, 'mph': 2055, 'nigeria': 2056, 'navigating': 2057, 'reducing': 2058, 'mat': 2059, 'nile': 2060, 'runs': 2061, 'turns': 2062, 'dynamic': 2063, 'passed': 2064, 'die': 2065, 'central': 2066, 'oceans': 2067, 'antonym': 2068, 'carefully': 2069, 'franklin': 2070, 'selection': 2071, 'forever': 2072, 'biden': 2073, 'salmon': 2074, 'generous': 2075, \"one's\": 2076, 'increasingly': 2077, 'moment': 2078, 'platform': 2079, 'meditation': 2080, 'career': 2081, 'brilliant': 2082, 'failure': 2083, 'sandwich': 2084, 'secret': 2085, 'raced': 2086, 'seconds': 2087, 'leaving': 2088, 'feedback': 2089, 'websites': 2090, 'events': 2091, 'whisper': 2092, 'branches': 2093, 'lisa': 2094, 'smooth': 2095, 'assistance': 2096, 'danger': 2097, 'instructions': 2098, 'bark': 2099, 'hey': 2100, 'diverse': 2101, 'serenity': 2102, 'furry': 2103, 'november': 2104, 'proverb': 2105, 'penny': 2106, 'pasta': 2107, 'spinach': 2108, 'mushrooms': 2109, 'tranquil': 2110, 'loneliness': 2111, 'dependent': 2112, 'edge': 2113, 'antarctica': 2114, 'launch': 2115, 'etc': 2116, 'measures': 2117, 'telephone': 2118, 'ounces': 2119, 'saved': 2120, 'near': 2121, 'yogurt': 2122, 'navy': 2123, 'queen': 2124, 'box': 2125, 'generated': 2126, 'connected': 2127, 'jumping': 2128, 'disorder': 2129, 'discount': 2130, 'implications': 2131, 'overwhelmed': 2132, 'players': 2133, 'citrus': 2134, 'monkey': 2135, 'clever': 2136, 'continuous': 2137, 'helping': 2138, 'drink': 2139, 'pineapple': 2140, 'unpredictable': 2141, 'breathtaking': 2142, 'surprised': 2143, 'failed': 2144, 'oldest': 2145, 'renowned': 2146, 'rome': 2147, 'lifestyle': 2148, 'bacteria': 2149, 'fur': 2150, 'audio': 2151, 'standing': 2152, 'sam': 2153, 'turtle': 2154, 'enjoying': 2155, 'grass': 2156, 'designer': 2157, 'mile': 2158, 'volleyball': 2159, 'shakespeare': 2160, 'nobel': 2161, 'prize': 2162, 'drinking': 2163, 'worldwide': 2164, 'knife': 2165, 'satisfaction': 2166, 'democracy': 2167, 'lines': 2168, 'label': 2169, 'classic': 2170, 'heads': 2171, 'accurate': 2172, 'german': 2173, 'beneath': 2174, 'database': 2175, 'classroom': 2176, 'provided': 2177, 'stories': 2178, 'eye': 2179, 'bill': 2180, 'stand': 2181, 'addition': 2182, 'generally': 2183, 'uk': 2184, 'construction': 2185, 'card': 2186, 'gets': 2187, 'helpful': 2188, 'double': 2189, 'quote': 2190, 'monthly': 2191, 'heavily': 2192, 'percent': 2193, 'prefer': 2194, 'rent': 2195, 'adding': 2196, 'link': 2197, 'comparison': 2198, 'various': 2199, 'dedicated': 2200, 'relevant': 2201, 'contribute': 2202, 'wealth': 2203, 'easier': 2204, 'later': 2205, 'whether': 2206, 'beyond': 2207, 'lies': 2208, 'robust': 2209, 'receive': 2210, 'cards': 2211, 'format': 2212, 'accomplish': 2213, 'spend': 2214, 'button': 2215, 'charles': 2216, 'pain': 2217, 'teach': 2218, 'immediately': 2219, 'captain': 2220, 'courageous': 2221, 'wise': 2222, 'sister': 2223, 'italian': 2224, 'pentagon': 2225, 'dedication': 2226, 'inspiring': 2227, 'accurately': 2228, 'keys': 2229, 'implement': 2230, 'surprises': 2231, 'belgium': 2232, 'vegan': 2233, 'houston': 2234, 'island': 2235, 'harmony': 2236, 'marathon': 2237, 'eight': 2238, 'suddenly': 2239, 'forgotten': 2240, 'entire': 2241, 'v': 2242, 'cook': 2243, 'gratitude': 2244, 'figures': 2245, 'historic': 2246, 'nuts': 2247, 'analyzing': 2248, 'giving': 2249, 'leading': 2250, 'solid': 2251, \"wasn't\": 2252, 'independence': 2253, 'equality': 2254, 'instagram': 2255, 'aquatic': 2256, 'damage': 2257, 'magnificent': 2258, \"we're\": 2259, 'begin': 2260, 'lowest': 2261, 'expect': 2262, 'arctic': 2263, 'translation': 2264, 'examining': 2265, 'intricate': 2266, 'fontsize': 2267, 'classify': 2268, 'pattern': 2269, 'roosevelt': 2270, 'protecting': 2271, 'rivers': 2272, 'density': 2273, 'advanced': 2274, 'nurse': 2275, 'overwhelming': 2276, 'lightning': 2277, 'hit': 2278, 'android': 2279, 'elephants': 2280, 'secure': 2281, 'disaster': 2282, 'symptoms': 2283, 'bacon': 2284, 'culture': 2285, 'manufacturing': 2286, 'alliteration': 2287, 'continents': 2288, 'satellite': 2289, 'gorgeous': 2290, 'reduced': 2291, 'juicy': 2292, 'warmth': 2293, 'hands': 2294, 'arms': 2295, 'clock': 2296, 'begins': 2297, 'along': 2298, 'parts': 2299, 'deeper': 2300, 'kilograms': 2301, 'rings': 2302, 'sing': 2303, 'electronics': 2304, \"company's\": 2305, 'stitch': 2306, 'table_name': 2307, 'demand': 2308, 'outcomes': 2309, 'incredibly': 2310, 'bears': 2311, 'numerical': 2312, 'wake': 2313, 'wide': 2314, 'connect': 2315, 'earned': 2316, 'labrador': 2317, 'influence': 2318, 'perform': 2319, 'victory': 2320, 'syllables': 2321, 'daisy': 2322, 'oven': 2323, 'causes': 2324, 'lights': 2325, 'depression': 2326, 'optimistic': 2327, 'twists': 2328, 'gathered': 2329, 'crowd': 2330, 'region': 2331, 'performing': 2332, 'liters': 2333, 'fibonacci': 2334, 'divisible': 2335, 'wildlife': 2336, 'integrity': 2337, 'attend': 2338, 'keyboard': 2339, 'flag': 2340, 'attitude': 2341, 'nitrogen': 2342, 'robots': 2343, 'firefox': 2344, 'efficiently': 2345, 'landscape': 2346, 'brighter': 2347, 'condition': 2348, 'describing': 2349, 'pass': 2350, 'potato': 2351, 'triangles': 2352, 'breaking': 2353, 'olive': 2354, 'processor': 2355, 'coming': 2356, 'original': 2357, 'round': 2358, 'rapid': 2359, 'administrator': 2360, 'playful': 2361, 'excitement': 2362, 'compassionate': 2363, 'π': 2364, 'leopard': 2365, 'designed': 2366, 'patience': 2367, 'exercising': 2368, 'marie': 2369, 'hearing': 2370, 'gaming': 2371, 'remain': 2372, 'sparkling': 2373, 'revolutionize': 2374, 'mouth': 2375, 'spoon': 2376, 'urban': 2377, 'violin': 2378, 'smartphone': 2379, 'steve': 2380, 'quiet': 2381, 'lush': 2382, 'appliances': 2383, 'forests': 2384, 'rd': 2385, 'embracing': 2386, 'continent': 2387, 'shark': 2388, 'dry': 2389, 'lord': 2390, 'gatsby': 2391, 'matrix': 2392, 'searching': 2393, 'okay': 2394, 'fastest': 2395, 'tablespoon': 2396, 'hermione': 2397, 'capable': 2398, 'site': 2399, 'pretty': 2400, 'themselves': 2401, 'probably': 2402, 'community': 2403, 'basic': 2404, 'section': 2405, 'version': 2406, 'abandoned': 2407, 'electronic': 2408, 'yahoo': 2409, 'breath': 2410, 'shares': 2411, 'markets': 2412, 'technical': 2413, 'offering': 2414, 'invest': 2415, 'gives': 2416, 'coins': 2417, 'taxes': 2418, 'apply': 2419, 'tuesday': 2420, 'itself': 2421, 'manage': 2422, 'wait': 2423, 'track': 2424, 'excel': 2425, 'lawyer': 2426, \"isn't\": 2427, 'limited': 2428, 'sometimes': 2429, 'describes': 2430, 'liked': 2431, 'dutch': 2432, 'hungry': 2433, 'hobbies': 2434, 'resolute': 2435, 'arrive': 2436, 'kg': 2437, 'sentences': 2438, 'unprecedented': 2439, 'ultimate': 2440, 'exhilarating': 2441, 'snacks': 2442, 'medicine': 2443, 'beneficial': 2444, 'paint': 2445, 'programs': 2446, 'slope': 2447, 'movement': 2448, 'duck': 2449, 'slide': 2450, 'descriptive': 2451, 'smarter': 2452, 'genetic': 2453, 'reaches': 2454, 'collaboration': 2455, 'ideal': 2456, 'ceo': 2457, 'meat': 2458, 'empty': 2459, 'shines': 2460, 'beijing': 2461, 'thursday': 2462, 'fashion': 2463, 'characteristics': 2464, 'moral': 2465, 'mom': 2466, 'ecofriendly': 2467, 'climbing': 2468, 'spider': 2469, 'stopped': 2470, 'fabric': 2471, 'rubber': 2472, 'devoured': 2473, 'causing': 2474, 'jubilant': 2475, 'raging': 2476, 'win': 2477, 'jeans': 2478, 'fat': 2479, 'rat': 2480, 'sat': 2481, 'relax': 2482, 'drinks': 2483, 'battle': 2484, 'flu': 2485, 'diabetes': 2486, 'accepted': 2487, 'geothermal': 2488, 'punctuation': 2489, 'statue': 2490, 'loving': 2491, 'update': 2492, 'grams': 2493, 'pounds': 2494, 'aluminum': 2495, 'ram': 2496, 'organisms': 2497, 'euro': 2498, 'rollercoaster': 2499, 'mindful': 2500, 'starting': 2501, 'chasing': 2502, 'calculate': 2503, 'embark': 2504, 'waited': 2505, 'adventurous': 2506, 'stillness': 2507, 'brought': 2508, 'electrons': 2509, 'tackle': 2510, 'conjunction': 2511, 'bush': 2512, 'leonardo': 2513, 'da': 2514, 'vinci': 2515, 'soothing': 2516, 'explain': 2517, 'floor': 2518, 'neutral': 2519, 'fair': 2520, 'creamy': 2521, 'refreshing': 2522, 'barrier': 2523, 'completing': 2524, 'minister': 2525, 'purchased': 2526, 'danced': 2527, 'scene': 2528, 'winds': 2529, 'awaits': 2530, 'struggle': 2531, 'perseverance': 2532, 'humanity': 2533, 'listening': 2534, 'methane': 2535, 'status': 2536, 'bubble': 2537, 'staff': 2538, 'conservation': 2539, 'saves': 2540, 'aim': 2541, 'kangaroo': 2542, 'blooms': 2543, 'mining': 2544, 'inviting': 2545, 'studies': 2546, 'nuclear': 2547, 'printx': 2548, 'indonesia': 2549, 'rays': 2550, 'loyalty': 2551, 'nlp': 2552, 'robotic': 2553, 'consists': 2554, 'massive': 2555, 'towering': 2556, 'tweet': 2557, 'reviews': 2558, 'enthusiastic': 2559, 'compared': 2560, 'connection': 2561, 'physics': 2562, 'realized': 2563, 'grey': 2564, 'heights': 2565, 'outdoors': 2566, 'retail': 2567, 'joyfully': 2568, 'teams': 2569, 'looked': 2570, 'velocity': 2571, 'responsibility': 2572, 'spaghetti': 2573, 'bicycle': 2574, 'shapes': 2575, 'hexagon': 2576, 'plot': 2577, 'irony': 2578, 'quantity': 2579, 'middle': 2580, 'village': 2581, 'camera': 2582, 'pleasure': 2583, 'il': 2584, 'elevation': 2585, 'death': 2586, 'yoga': 2587, 'dataset': 2588, 'followed': 2589, 'kmh': 2590, 'predicted': 2591, 'efforts': 2592, 'azure': 2593, 'sushi': 2594, 'uncertain': 2595, 'survey': 2596, 'universal': 2597, 'snowflakes': 2598, 'baked': 2599, 'lettuce': 2600, 'critical': 2601, 'flying': 2602, 'prepared': 2603, 'soil': 2604, 'covered': 2605, 'snack': 2606, 'stores': 2607, 'background': 2608, 'automated': 2609, 'require': 2610, 'accuracy': 2611, 'portugal': 2612, 'december': 2613, 'january': 2614, 'dc': 2615, 'xy': 2616, 'grace': 2617, 'production': 2618, \"he's\": 2619, 'revolutionizing': 2620, 'larger': 2621, 'wonders': 2622, 'bats': 2623, 'encryption': 2624, 'flute': 2625, 'netflix': 2626, 'influenza': 2627, 'notes': 2628, 'curie': 2629, 'globe': 2630, 'stunning': 2631, 'nobody': 2632, 'writer': 2633, 'saturday': 2634, 'hotel': 2635, 'roses': 2636, 'korea': 2637, 'implies': 2638, 'west': 2639, 'vanilla': 2640, 'abstract': 2641, 'busy': 2642, 'bottles': 2643, 'appointment': 2644, 'household': 2645, 'resourceful': 2646, 'syntax': 2647, 'zip': 2648, 'labor': 2649, 'ipad': 2650, 'female': 2651, 'acceptance': 2652, 'hyperbole': 2653, 'unforgettable': 2654, 'entertainment': 2655, 'opinions': 2656, 'birthday': 2657, 'whose': 2658, 'post': 2659, 'delight': 2660, 'attended': 2661, 'met': 2662, 'breed': 2663, 'traditional': 2664, 'retriever': 2665, 'launched': 2666, 'usage': 2667, 'devices': 2668, 'dum': 2669, 'strive': 2670, 'str': 2671, 'tablespoons': 2672, 'url': 2673, 'ventured': 2674, 'confused': 2675, 'mathematical': 2676, 'sour': 2677, 'elif': 2678, 'personalized': 2679, 'cereal': 2680, 'shone': 2681, 'wash': 2682, 'rules': 2683, 'lose': 2684, 'divide': 2685, 'anyone': 2686, 'desktop': 2687, 'historical': 2688, 'general': 2689, 'carry': 2690, 'aware': 2691, 'exist': 2692, 'rewards': 2693, 'laws': 2694, 'updated': 2695, 'interface': 2696, 'topics': 2697, 'accounts': 2698, 'citizens': 2699, 'journal': 2700, 'completely': 2701, 'maybe': 2702, 'annual': 2703, 'blog': 2704, 'specific': 2705, 'prevent': 2706, 'coding': 2707, 'charge': 2708, 'receiving': 2709, 'thick': 2710, 'agreement': 2711, 'decrease': 2712, 'spot': 2713, \"i'll\": 2714, 'mac': 2715, 'advance': 2716, 'properties': 2717, 'allows': 2718, 'competitive': 2719, 'led': 2720, 'robert': 2721, 'screen': 2722, 'mineral': 2723, 'tenacious': 2724, 'cultural': 2725, 'images': 2726, 'happen': 2727, 'replaced': 2728, 'persistent': 2729, 'midwest': 2730, 'illinois': 2731, 'factorialn': 2732, 'announcement': 2733, 'desired': 2734, 'leaf': 2735, 'assigned': 2736, 'mangoes': 2737, 'winning': 2738, 'wrong': 2739, 'texture': 2740, 'swam': 2741, 'cylinder': 2742, 'ripe': 2743, '\\\\': 2744, 'pigeon': 2745, 'grammar': 2746, 'playground': 2747, 'optimism': 2748, 'complexity': 2749, 'calming': 2750, 'oatmeal': 2751, 'handle': 2752, 'dairy': 2753, 'maps': 2754, 'numerous': 2755, 'ticket': 2756, 'performed': 2757, 'shanghai': 2758, 'iconic': 2759, 'obstacles': 2760, 'exploration': 2761, 'showed': 2762, 'declaration': 2763, 'equals': 2764, 'mathematics': 2765, 'wood': 2766, 'frustrated': 2767, 'politics': 2768, 'unsupervised': 2769, 'chat': 2770, 'predicate': 2771, 'lighting': 2772, 'cafe': 2773, 'frequent': 2774, 'privacy': 2775, 'logo': 2776, 'richard': 2777, 'cancer': 2778, 'discussed': 2779, 'brush': 2780, 'blockchain': 2781, 'equipment': 2782, 'noise': 2783, 'alphabet': 2784, 'illuminating': 2785, 'interested': 2786, 'maple': 2787, 'recycle': 2788, 'balanced': 2789, 'furious': 2790, 'integers': 2791, 'invented': 2792, 'turing': 2793, 'cubic': 2794, 'band': 2795, 'insights': 2796, 'bones': 2797, 'protons': 2798, 'waiting': 2799, 'last_name': 2800, 'chose': 2801, 'parrot': 2802, 'mona': 2803, 'facing': 2804, 'joke': 2805, 'insects': 2806, 'dragon': 2807, 'monarchy': 2808, 'spectacular': 2809, 'stationery': 2810, 'reef': 2811, 'quinoa': 2812, 'cycle': 2813, 'faced': 2814, 'twinkle': 2815, 'crisp': 2816, \"sun's\": 2817, 'meadow': 2818, 'bald': 2819, \"life's\": 2820, 'foundation': 2821, 'fries': 2822, 'fried': 2823, 'ethical': 2824, 'founded': 2825, 'soaring': 2826, 'fantasy': 2827, 'coat': 2828, 'reaction': 2829, 'ab': 2830, 'covering': 2831, \"'a'\": 2832, 'automate': 2833, 'predict': 2834, 'backgroundcolor': 2835, 'polar': 2836, 'entrepreneur': 2837, 'picnic': 2838, 'basil': 2839, 'sunscreen': 2840, 'pakistan': 2841, 'ups': 2842, 'downs': 2843, 'squirrel': 2844, 'rural': 2845, 'hammer': 2846, 'wheat': 2847, 'epic': 2848, 'abilities': 2849, 'experienced': 2850, 'greek': 2851, 'cutting': 2852, 'snippet': 2853, 'presence': 2854, 'romeo': 2855, 'juliet': 2856, 'alarm': 2857, 'discovered': 2858, 'cloudy': 2859, 'avengers': 2860, 'leap': 2861, 'quantum': 2862, 'confidence': 2863, 'struggling': 2864, 'recycling': 2865, 'blazing': 2866, 'skill': 2867, 'workplace': 2868, 'skiing': 2869, 'developed': 2870, 'reveals': 2871, 'finds': 2872, 'grown': 2873, 'harnessing': 2874, 'typical': 2875, 'survival': 2876, 'flavorful': 2877, 'milliliters': 2878, 'spoke': 2879, 'translates': 2880, 'willing': 2881, 'literature': 2882, 'gandhi': 2883, 'learned': 2884, 'cute': 2885, 'ecommerce': 2886, 'hopped': 2887, 'landmark': 2888, 'stylish': 2889, 'strings': 2890, 'delivery': 2891, 'whenever': 2892, 'hold': 2893, 'marine': 2894, 'crocodile': 2895, 'chrome': 2896, 'strategic': 2897, 'indeed': 2898, 'required': 2899, 'master': 2900, 'dictionary': 2901, 'survive': 2902, 'offered': 2903, 'amazed': 2904, 'clustering': 2905, 'constant': 2906, 'prints': 2907, 'discounts': 2908, 'purchases': 2909, 'hawk': 2910, 'organize': 2911, 'generations': 2912, 'involves': 2913, 'seemed': 2914, 'chaos': 2915, 'responsible': 2916, \"person's\": 2917, 'princess': 2918, \"cat's\": 2919, 'twice': 2920, 'godfather': 2921, 'islands': 2922, 'polite': 2923, 'ease': 2924, 'assist': 2925, 'possibility': 2926, 'shift': 2927, 'enabled': 2928, 'accomplishment': 2929, 'fever': 2930, 'basket': 2931, 'includes': 2932, 'hydropower': 2933, 'hue': 2934, 'query': 2935, 'poland': 2936, 'funny': 2937, 'colorado': 2938, 'shore': 2939, 'column': 2940, 'shade': 2941, 'gb': 2942, 'ernest': 2943, 'cells': 2944, 'constantly': 2945, 'drift': 2946, 'wet': 2947, 'hardworking': 2948, 'soul': 2949, 'named': 2950, 'insect': 2951, 'classical': 2952, 'snakes': 2953, 'jaguar': 2954, 'turtles': 2955, 'rgb': 2956, 'knows': 2957, 'mozilla': 2958, 'monday': 2959, \"nature's\": 2960, 'unhappy': 2961, 'valuable': 2962, 'creates': 2963, 'nonfiction': 2964, 'association': 2965, 'payment': 2966, 'experts': 2967, 'medium': 2968, 'leapt': 2969, 'elegant': 2970, 'cricket': 2971, 'toronto': 2972, 'serious': 2973, 'wonder': 2974, 'friday': 2975, 'achieved': 2976, 'palace': 2977, 'luxembourg': 2978, 'articles': 2979, 'moving': 2980, 'slice': 2981, 'sulfur': 2982, 'freshly': 2983, 'facts': 2984, 'goat': 2985, 'keeps': 2986, 'abundant': 2987, 'priority': 2988, 'beef': 2989, 'utc': 2990, 'alaska': 2991, 'disney': 2992, 'urgent': 2993, 'titanic': 2994, 'midnight': 2995, 'networking': 2996, 'interactive': 2997, 'r': 2998, 'eagerly': 2999, 'turned': 3000, 'noodles': 3001, 'correctly': 3002, 'soup': 3003, 'kill': 3004, 'tests': 3005, 'starring': 3006, 'paul': 3007, 'valley': 3008, 'knight': 3009, 'lessons': 3010, 'consideration': 3011, 'occurring': 3012, 'crafting': 3013, 'coconut': 3014, 'pagetitle': 3015, 'equations': 3016, 'hill': 3017, 'luxury': 3018, 'antagonist': 3019, 'fibonaccin': 3020, 'roar': 3021, 'command': 3022, 'women': 3023, 'benefit': 3024, 'entry': 3025, 'wikipedia': 3026, 'seems': 3027, 'ms': 3028, 'finances': 3029, 'sent': 3030, 'bitcoin': 3031, 'fourth': 3032, 'alpha': 3033, 'bedroom': 3034, 'profits': 3035, 'insurance': 3036, 'portfolio': 3037, 'legal': 3038, 'rule': 3039, 'club': 3040, 'secondary': 3041, 'shelf': 3042, 'charity': 3043, 'depending': 3044, 'accounting': 3045, 'statistics': 3046, 'regulations': 3047, 'td': 3048, 'caught': 3049, 'quarter': 3050, 'answers': 3051, 'canadian': 3052, 'mint': 3053, 'definitely': 3054, 'returns': 3055, 'stream': 3056, 'inflation': 3057, 'basis': 3058, 'worry': 3059, 'target': 3060, 'ratio': 3061, 'easily': 3062, 'perspective': 3063, 'factorial': 3064, 'gravitational': 3065, 'extraordinary': 3066, 'huge': 3067, 'michigan': 3068, 'employment': 3069, 'sold': 3070, 'nearby': 3071, 'draw': 3072, 'airplane': 3073, 'pears': 3074, 'motivated': 3075, 'ray': 3076, 'thereof': 3077, 'sharing': 3078, 'petals': 3079, 'fill': 3080, 'goodbye': 3081, 'greetings': 3082, 'graceful': 3083, 'sq': 3084, 'coast': 3085, 'euros': 3086, 'pushing': 3087, 'wallet': 3088, 'fields': 3089, 'genus': 3090, 'dr': 3091, 'compassion': 3092, 'hardware': 3093, 'vote': 3094, 'scalability': 3095, 'celery': 3096, 'bc': 3097, 'isolation': 3098, 'desolate': 3099, 'competition': 3100, 'steel': 3101, 'printing': 3102, 'overview': 3103, 'interior': 3104, 'polygon': 3105, 'revolutionized': 3106, 'ambition': 3107, 'afternoon': 3108, 'attack': 3109, 'pursuit': 3110, 'excellence': 3111, 'nearest': 3112, 'coordinates': 3113, 'noble': 3114, 'treated': 3115, 'obtuse': 3116, 'monkeys': 3117, 'indicate': 3118, 'laughing': 3119, 'mainly': 3120, 'thousands': 3121, 'hurricane': 3122, 'ecstatic': 3123, 'ny': 3124, 'melody': 3125, 'pop': 3126, 'doors': 3127, 'mall': 3128, 'ethiopia': 3129, 'properly': 3130, 'greenhouse': 3131, 'supervised': 3132, 'reinforcement': 3133, 'strolled': 3134, 'disasters': 3135, 'anxious': 3136, 'keyword': 3137, 'violet': 3138, 'plenty': 3139, 'dazzling': 3140, 'kilometer': 3141, 'diagnosis': 3142, 'humorous': 3143, 'cluster': 3144, 'pine': 3145, 'capture': 3146, 'jungle': 3147, 'chairs': 3148, 'super': 3149, 'either': 3150, 'thrilling': 3151, 'organizing': 3152, 'sahara': 3153, 'giraffes': 3154, 'harder': 3155, 'innovations': 3156, 'marks': 3157, 'fatal': 3158, 'winston': 3159, 'alan': 3160, 'feathers': 3161, 'relentless': 3162, 'sphere': 3163, 'authentication': 3164, 'predictive': 3165, 'analytics': 3166, 'manner': 3167, 'discovering': 3168, 'disappointment': 3169, 'academy': 3170, 'dawn': 3171, 'gloomy': 3172, 'accepting': 3173, 'shimmering': 3174, 'parliamentary': 3175, 'destiny': 3176, 'spam': 3177, 'yen': 3178, 'canyon': 3179, 'instrument': 3180, 'johnson': 3181, 'leisurely': 3182, 'farmer': 3183, 'waterproof': 3184, 'surrounded': 3185, 'complicated': 3186, 'cinnamon': 3187, 'courteous': 3188, 'wonderland': 3189, 'identity': 3190, 'communicate': 3191, 'pure': 3192, 'molecular': 3193, 'bath': 3194, 'stage': 3195, 'filling': 3196, 'patterns': 3197, 'waters': 3198, 'winding': 3199, 'perched': 3200, 'seat': 3201, 'traveling': 3202, 'sink': 3203, 'savory': 3204, 'tart': 3205, 'ingredient': 3206, 'toast': 3207, 'flowing': 3208, 'managed': 3209, 'infinity': 3210, 'float': 3211, 'cotton': 3212, 'roaring': 3213, 'pursue': 3214, 'moved': 3215, 'ago': 3216, 'observation': 3217, 'debate': 3218, 'adobe': 3219, 'maria': 3220, 'penguins': 3221, 'streaming': 3222, 'firstaid': 3223, 'connecting': 3224, 'participle': 3225, 'vincent': 3226, 'gogh': 3227, 'miss': 3228, 'atmospheric': 3229, 'consumer': 3230, 'ended': 3231, 'uncovering': 3232, 'centauri': 3233, 'gases': 3234, 'interact': 3235, 'transform': 3236, 'doctors': 3237, 'improving': 3238, 'smiled': 3239, 'menu': 3240, 'biomass': 3241, 'soar': 3242, 'reports': 3243, 'leadership': 3244, 'court': 3245, 'emotional': 3246, 'mischievous': 3247, 'const': 3248, 'happened': 3249, 'switch': 3250, 'hockey': 3251, 'capita': 3252, 'harm': 3253, 'roll': 3254, 'jogging': 3255, 'penguin': 3256, 'inappropriate': 3257, 'affected': 3258, 'rectangular': 3259, 'prism': 3260, 'greeting': 3261, 'octagon': 3262, 'astute': 3263, 'laughed': 3264, 'passes': 3265, 'extract': 3266, 'rocket': 3267, 'dname': 3268, 'chef': 3269, 'oh': 3270, 'memories': 3271, 'dreaming': 3272, 'whales': 3273, 'cognitive': 3274, 'ads': 3275, 'advancements': 3276, 'instruction': 3277, 'half': 3278, 'radiant': 3279, 'lasagna': 3280, 'dessert': 3281, 'argument': 3282, 'decisionmaking': 3283, 'plays': 3284, 'si': 3285, 'spark': 3286, 'grains': 3287, 'spacex': 3288, 'ml': 3289, 'anomaly': 3290, 'detection': 3291, 'lentils': 3292, 'holds': 3293, 'luxurious': 3294, 'believed': 3295, 'hummingbird': 3296, 'thanks': 3297, 'reaching': 3298, 'lit': 3299, 'comma': 3300, 'ordered': 3301, 'holiday': 3302, 'glad': 3303, 'scheme': 3304, 'loop': 3305, 'fifa': 3306, 'restaurants': 3307, 'occurred': 3308, 'blender': 3309, 'martin': 3310, 'accomplished': 3311, 'sway': 3312, 'fills': 3313, 'passengers': 3314, 'peach': 3315, 'awards': 3316, 'ensuring': 3317, 'reflecting': 3318, 'spirit': 3319, 'boats': 3320, 'golf': 3321, 'hemingway': 3322, 'ducks': 3323, 'hundreds': 3324, 'crash': 3325, 'biodiversity': 3326, 'lived': 3327, 'mumbai': 3328, 'lengths': 3329, 'sofa': 3330, 'walks': 3331, 'mg': 3332, 'jurassic': 3333, 'amur': 3334, 'sector': 3335, 'tallest': 3336, 'celebrity': 3337, 'sprinted': 3338, 'jd': 3339, 'jk': 3340, 'qualities': 3341, 'route': 3342, 'bureau': 3343, 'warning': 3344, 'agriculture': 3345, 'charging': 3346, 'ends': 3347, 'floods': 3348, 'talented': 3349, 'deals': 3350, 'frustration': 3351, 'sudden': 3352, 'grows': 3353, 'march': 3354, 'combat': 3355, 'hamburger': 3356, 'depth': 3357, 'decide': 3358, 'monaco': 3359, 'andorra': 3360, 'stood': 3361, 'dealing': 3362, 'knock': 3363, 'verdant': 3364, 'affluent': 3365, 'industries': 3366, 'appearance': 3367, 'sparkled': 3368, 'dice': 3369, 'row': 3370, 'hulu': 3371, 'celebration': 3372, 'mentioned': 3373, 'grief': 3374, 'interview': 3375, 'preparation': 3376, 'sport': 3377, 'sheep': 3378, 'politician': 3379, 'engagement': 3380, 'diego': 3381, 'lincoln': 3382, 'pride': 3383, 'architect': 3384, 'couch': 3385, 'informative': 3386, 'headphones': 3387, 'ending': 3388, 'baby': 3389, 'steady': 3390, 'regions': 3391, 'diamond': 3392, 'ff': 3393, \"family's\": 3394, 'astronaut': 3395, 'suggests': 3396, 'operations': 3397, 'believes': 3398, 'farming': 3399, 'teaspoons': 3400, 'granger': 3401, 'tsk': 3402, 'map': 3403, 'fitness': 3404, 'afford': 3405, 'containing': 3406, 'owl': 3407, 'agent': 3408, 'cooling': 3409, 'recommended': 3410, 'detected': 3411, 'eminem': 3412, 'northern': 3413, 'peacefully': 3414, 'expresses': 3415, 'concert': 3416, 'conference': 3417, 'ramen': 3418, 'shock': 3419, 'concern': 3420, 'borders': 3421, 'capacity': 3422, 'editor': 3423, 'emma': 3424, 'morocco': 3425, 'blood': 3426, 'echo': 3427, 'anticipation': 3428, 'couple': 3429, 'feed': 3430, 'broker': 3431, 'unfortunately': 3432, 'initial': 3433, 'server': 3434, 'edition': 3435, 'request': 3436, 'refers': 3437, 'etfs': 3438, 'western': 3439, 'bolivia': 3440, 'simply': 3441, 'multiple': 3442, 'lists': 3443, 'equity': 3444, 'explained': 3445, 'reached': 3446, 'particular': 3447, 'compiled': 3448, 'agree': 3449, 'daughter': 3450, 'api': 3451, 'permission': 3452, 'sell': 3453, 'mutual': 3454, 'bit': 3455, 'agency': 3456, 'exercises': 3457, 'expenses': 3458, 'represent': 3459, 'matters': 3460, 'linux': 3461, 'banking': 3462, 'static': 3463, 'seek': 3464, 'streams': 3465, 'myself': 3466, 'silly': 3467, 'advantage': 3468, 'amounts': 3469, 'aspects': 3470, 'choosing': 3471, 'copper': 3472, 'regret': 3473, 'vigorous': 3474, 'slightly': 3475, 'shared': 3476, 'heshe': 3477, 'completion': 3478, 'fifty': 3479, 'promoting': 3480, \"they're\": 3481, 'internal': 3482, 'blueberries': 3483, 'kiwi': 3484, 'pineapples': 3485, 'costa': 3486, 'conquer': 3487, 'suis': 3488, 'crab': 3489, 'cast': 3490, 'driver': 3491, 'succulent': 3492, 'buds': 3493, 'dash': 3494, 'mask': 3495, 'crashing': 3496, 'depths': 3497, 'dam': 3498, 'candidate': 3499, 'concepts': 3500, 'policies': 3501, 'decade': 3502, 'wooden': 3503, 'motivation': 3504, 'cherries': 3505, 'mammalia': 3506, 'miami': 3507, 'milkshake': 3508, 'threw': 3509, 'greens': 3510, 'tonight': 3511, 'wisely': 3512, 'enhanced': 3513, 'canine': 3514, 'companion': 3515, 'realtime': 3516, 'laundry': 3517, 'surroundings': 3518, 'meowed': 3519, 'invention': 3520, 'constructed': 3521, 'ethic': 3522, 'overcoming': 3523, 'dressed': 3524, 'singer': 3525, 'supposed': 3526, 'delicate': 3527, 'spinning': 3528, 'belonging': 3529, 'possess': 3530, 'admirable': 3531, 'frogs': 3532, 'threat': 3533, 'loved': 3534, 'gun': 3535, 'ottawa': 3536, 'construct': 3537, 'interactions': 3538, 'mayor': 3539, 'architecture': 3540, 'contentment': 3541, 'silently': 3542, 'greece': 3543, 'magnet': 3544, 'hop': 3545, 'venezuela': 3546, 'southern': 3547, 'adversity': 3548, 'unleashing': 3549, 'mesmerizing': 3550, 'seattle': 3551, 'calculated': 3552, 'categories': 3553, 'alternatives': 3554, 'temple': 3555, 'almost': 3556, 'breathe': 3557, 'indigo': 3558, 'breathing': 3559, 'proposal': 3560, 'advisable': 3561, 'preserving': 3562, 'climbed': 3563, 'treatment': 3564, 'l': 3565, 'appear': 3566, 'joining': 3567, 'habits': 3568, 'reusable': 3569, 'recycled': 3570, 'cpu': 3571, 'viruses': 3572, 'sneakers': 3573, 'phenomenon': 3574, 'trustworthy': 3575, 'block': 3576, 'conditions': 3577, 'dear': 3578, 'bottle': 3579, 'vacuum': 3580, 'lemons': 3581, 'shelter': 3582, 'repair': 3583, 'stroll': 3584, 'churchill': 3585, 'rather': 3586, 'fifth': 3587, 'capabilities': 3588, 'henry': 3589, 'celestial': 3590, 'diameter': 3591, 'soda': 3592, 'mice': 3593, 'first_name': 3594, 'enter': 3595, 'rustling': 3596, 'authoritative': 3597, 'deciding': 3598, 'sunday': 3599, 'hills': 3600, 'phoenix': 3601, 'herbivores': 3602, 'expectancy': 3603, 'sitting': 3604, 'roads': 3605, 'tourist': 3606, 'destinations': 3607, 'lions': 3608, 'blossom': 3609, 'circles': 3610, 'ginger': 3611, 'diversity': 3612, 'presented': 3613, 'nearly': 3614, 'lewis': 3615, 'adam': 3616, 'cultures': 3617, 'invigorating': 3618, 'lying': 3619, 'nonliving': 3620, 'increases': 3621, 'vowels': 3622, 'strode': 3623, 'egg': 3624, 'mozzarella': 3625, 'revealed': 3626, 'hint': 3627, 'amidst': 3628, 'gather': 3629, 'affecting': 3630, 'skipped': 3631, 'celebrating': 3632, 'tangy': 3633, 'detect': 3634, 'plantbased': 3635, 'dangerous': 3636, 'pants': 3637, 'weekends': 3638, 'analyze': 3639, \"'\": 3640, 'personification': 3641, 'vivid': 3642, 'conveys': 3643, 'bias': 3644, 'taj': 3645, 'mahal': 3646, 'practicing': 3647, 'carbohydrates': 3648, 'mushroom': 3649, 'visionary': 3650, 'direction': 3651, 'represents': 3652, 'glow': 3653, \"people's\": 3654, 'sage': 3655, 'sunglasses': 3656, 'proxima': 3657, 'bangladesh': 3658, 'massachusetts': 3659, 'inspire': 3660, 'grain': 3661, 'summarization': 3662, 'irregular': 3663, 'weary': 3664, 'faith': 3665, 'syria': 3666, 'bliss': 3667, 'areas': 3668, 'layer': 3669, 'fell': 3670, 'published': 3671, 'artwork': 3672, 'cucumber': 3673, 'pluto': 3674, 'displayed': 3675, 'shoulder': 3676, 'narendra': 3677, 'modi': 3678, 'surprising': 3679, 'sapphire': 3680, 'scenario': 3681, 'uncover': 3682, 'rope': 3683, 'champions': 3684, 'quest': 3685, 'shoe': 3686, 'federal': 3687, 'skating': 3688, 'greatly': 3689, 'shocked': 3690, 'ecosystems': 3691, 'printnum': 3692, 'entered': 3693, 'neutrons': 3694, 'automobile': 3695, 'flexible': 3696, 'resolution': 3697, 'factual': 3698, 'michael': 3699, 'alexander': 3700, 'pounding': 3701, 'cover': 3702, 'squared': 3703, 'wwwexamplecom': 3704, 'mnemonic': 3705, 'names': 3706, 'homes': 3707, 'riding': 3708, 'jewelry': 3709, 'motivate': 3710, 'camel': 3711, 'mug': 3712, 'mentions': 3713, 'watermelon': 3714, 'italic': 3715, 'gmol': 3716, 'iot': 3717, 'beatles': 3718, 'standards': 3719, 'promote': 3720, 'astonished': 3721, 'tesla': 3722, 'tshirt': 3723, 'neither': 3724, 'decreasing': 3725, \"customer's\": 3726, 'adverbial': 3727, 'athlete': 3728, 'disappointed': 3729, 'cauliflower': 3730, 'bravery': 3731, 'transformation': 3732, 'emily': 3733, 'graduated': 3734, 'symphony': 3735, 'hearts': 3736, 'respectful': 3737, 'says': 3738, 'cherry': 3739, 'aunt': 3740, 'printsum': 3741, 'chip': 3742, 'steak': 3743, 'tasty': 3744, 'seafood': 3745, 'stark': 3746, 'americans': 3747, 'hero': 3748, 'divine': 3749, 'graphic': 3750, 'headache': 3751, 'consumed': 3752, 'impacted': 3753, 'principles': 3754, 'scissors': 3755, 'arithmetic': 3756, 'peas': 3757, 'teachers': 3758, 'improvement': 3759, 'twilight': 3760, 'frequency': 3761, 'sql': 3762, 'recall': 3763, 'brainstorming': 3764, 'celebrated': 3765, 'alien': 3766, 'boss': 3767, 'cascading': 3768, 'celebrate': 3769, 'league': 3770, 'moves': 3771, 'void': 3772, 'customer_name': 3773, 'pressing': 3774, 'lively': 3775, 'pages': 3776, 'mongolia': 3777, 'nasa': 3778, 'unstoppable': 3779, 'glorious': 3780, 'unite': 3781, 'wednesday': 3782, 'iii': 3783, 'emergency': 3784, 'thief': 3785, 'manual': 3786, 'selfdriving': 3787, '×': 3788, 'interpersonal': 3789, 'que': 3790, 'considerable': 3791, 'swim': 3792, 'grades': 3793, 'hopeful': 3794, 'caring': 3795, 'escape': 3796, 'magnesium': 3797, 'groups': 3798, 'rhinoceros': 3799, 'frost': 3800, 'isaac': 3801, 'newton': 3802, 'accountant': 3803, 'leather': 3804, 'doctype': 3805, 'suffering': 3806, 'vaccine': 3807, 'paulo': 3808, 'combustion': 3809, 'rowling': 3810, 'drank': 3811, 'dust': 3812, 'está': 3813, 'demonstrating': 3814, 'purchasing': 3815, 'arranged': 3816, 'monster': 3817, 'census': 3818, 'steam': 3819, 'pi': 3820, 'regex': 3821, 'touch': 3822, 'widespread': 3823, 'freezing': 3824, 'shine': 3825, 'forming': 3826, 'lighthouse': 3827, 'icy': 3828, 'polynomial': 3829, 'cycling': 3830, 'honest': 3831, 'supportive': 3832, 'ford': 3833, 'hurricanes': 3834, 'enchanting': 3835, 'lakers': 3836, 'pets': 3837, 'pyramid': 3838, 'tdcolumn': 3839, 'allowing': 3840, 'bitter': 3841, 'delivered': 3842, 'starts': 3843, 'vector': 3844, 'introverted': 3845, 'yard': 3846, 'longterm': 3847, 'artists': 3848, 'designers': 3849, 'writers': 3850, 'brothers': 3851, 'tune': 3852, 'luck': 3853, '≈': 3854, 'clarinet': 3855, 'upbeat': 3856, 'charming': 3857, 'realistic': 3858, 'harvard': 3859, 'mode': 3860, 'authors': 3861, 'array[]': 3862, 'simplified': 3863, 'stephen': 3864, 'launches': 3865, \"today's\": 3866, 'florida': 3867, 'shaping': 3868, 'louvre': 3869, 'dolphins': 3870, 'strenuous': 3871, 'placed': 3872, 'smaller': 3873, 'eventually': 3874, 'markup': 3875, 'keywords': 3876, 'trump': 3877, 'discouraged': 3878, 'resource': 3879, 'sophisticated': 3880, 'shortest': 3881, 'thomas': 3882, 'fontfamily': 3883, 'stretching': 3884, '[apple': 3885, 'col': 3886, 'splendid': 3887, 'sacramento': 3888, \"teacher's\": 3889, 'jellyfish': 3890, 'contagious': 3891, 'abraham': 3892, 'nelson': 3893, 'mandela': 3894, 'tide': 3895, 'tim': 3896, 'gate': 3897, 'consuming': 3898, 'truth': 3899, 'print^': 3900, 'str**': 3901, 'turmeric': 3902, 'cumin': 3903, 'stranger': 3904, 'enhancing': 3905, 'romance': 3906, 'pitch': 3907, 'justin': 3908, 'soy': 3909, 'autonomous': 3910, \"country's\": 3911, 'foot': 3912, 'crystal': 3913, 'rush': 3914, 'iran': 3915, 'pick': 3916, 'contributing': 3917, 'hz': 3918, 'spices': 3919, 'designs': 3920, 'drums': 3921, 'dire': 3922, 'tie': 3923, 'actually': 3924, 'monetary': 3925, \"we'll\": 3926, 'tigers': 3927, 'alarming': 3928, 'agile': 3929, 'apologize': 3930, 'chickens': 3931, 'packed': 3932, 'bustling': 3933, 'families': 3934, 'forms': 3935, 'executive': 3936, 'millions': 3937, 'wireless': 3938, 'tough': 3939, 'orchids': 3940, 'resume': 3941, 'affectionate': 3942, 'orwell': 3943, 'adult': 3944, '✔': 3945, 'poodle': 3946, 'situations': 3947, 'wedding': 3948, 'optimization': 3949, 'taylor': 3950, 'guests': 3951, 'interaction': 3952, 'timely': 3953, 'films': 3954, 'tail': 3955, 'eraser': 3956, 'arg': 3957, \"'name'\": 3958, 'bees': 3959, 'herbivore': 3960, 'una': 3961, 'café': 3962, 'humid': 3963, 'meals': 3964, 'wildflowers': 3965, 'houses': 3966, 'saxophone': 3967, 'scott': 3968, 'newest': 3969, 'differently': 3970, 'peaks': 3971, '[your': 3972, '[redacted]': 3973, 'replace': 3974, 'speaks': 3975, 'tastes': 3976, 'lasted': 3977, 'outputs': 3978, 'resulting': 3979, 'protective': 3980, 'trapezoid': 3981, 'psychology': 3982, \"'the\": 3983, 'lbs': 3984, '___': 3985, 'powered': 3986, 'neighborhood': 3987, 'gardening': 3988, 'tfkeraslayersdense': 3989, 'losses': 3990, 'screener': 3991, 'savings': 3992, 'except': 3993, 'lending': 3994, 'mortgage': 3995, 'paid': 3996, 'transaction': 3997, 'especially': 3998, 'estimate': 3999, 'banks': 4000, 'ledger': 4001, \"google's\": 4002, 'file': 4003, 'meticulous': 4004, 'nyse': 4005, 'transactions': 4006, 'taxable': 4007, 'assuming': 4008, 'pays': 4009, 'calling': 4010, 'asking': 4011, 'seeking': 4012, 'allow': 4013, 'summary': 4014, 'psychological': 4015, 'barriers': 4016, 'cents': 4017, 'profession': 4018, 'discusses': 4019, 'paypal': 4020, 'cnn': 4021, 'debt': 4022, 'trading': 4023, 'installed': 4024, 'ein': 4025, 'mail': 4026, \"haven't\": 4027, 'tracking': 4028, 'acquired': 4029, 'mostly': 4030, 'holidays': 4031, 'listed': 4032, \"there's\": 4033, 'derivatives': 4034, 'nasdaq': 4035, 'loan': 4036, 'odds': 4037, \"wouldn't\": 4038, 'basics': 4039, 'irs': 4040, 'calendar': 4041, 'reader': 4042, 'skip': 4043, 'outstanding': 4044, 'concerns': 4045, 'satisfy': 4046, 'suggest': 4047, 'shifting': 4048, 'suspect': 4049, 'pull': 4050, 'entering': 4051, 'australian': 4052, 'absorb': 4053, 'calls': 4054, 'magnitude': 4055, 'normal': 4056, 'principal': 4057, 'quantitative': 4058, 'se': 4059, 'dna': 4060, 'fearless': 4061, 'skunk': 4062, 'deserts': 4063, 'diamonds': 4064, 'candy': 4065, 'madrid': 4066, 'enjoyable': 4067, 'quadratic': 4068, 'thorough': 4069, 'thus': 4070, 'pack': 4071, 'mighty': 4072, 'existing': 4073, 'miserable': 4074, 'projects': 4075, 'geometric': 4076, 'raspberries': 4077, 'beaver': 4078, 'occurs': 4079, 'companions': 4080, 'nation': 4081, 'grandfather': 4082, 'movements': 4083, 'tan': 4084, 'answered': 4085, \"student's\": 4086, 'minor': 4087, \"what's\": 4088, 'brain': 4089, 'ripple': 4090, 'waved': 4091, 'mx': 4092, 'glasses': 4093, 'photography': 4094, 'arduous': 4095, 'brimming': 4096, 'handmade': 4097, 'eastern': 4098, 'accomplishments': 4099, 'picking': 4100, 'hate': 4101, 'primates': 4102, 'quiero': 4103, 'galileo': 4104, 'galilei': 4105, 'leafy': 4106, 'highs': 4107, 'sticks': 4108, 'peanut': 4109, 'slices': 4110, 'ibm': 4111, 'frozen': 4112, 'forlorn': 4113, 'despondent': 4114, 'careful': 4115, 'managing': 4116, 'cho': 4117, 'mindfulness': 4118, 'isosceles': 4119, 'selling': 4120, 'primarily': 4121, 'themes': 4122, 'conducted': 4123, 'estimates': 4124, 'snowflake': 4125, 'bonjour': 4126, 'poetic': 4127, 'caffeine': 4128, 'teenage': 4129, 'promised': 4130, 'closing': 4131, 'ireland': 4132, 'fungi': 4133, 'violence': 4134, 'firearm': 4135, 'rangen': 4136, 'occupation': 4137, 'gracious': 4138, 'max_num': 4139, 'transformed': 4140, 'avenue': 4141, 'amusement': 4142, 'hollywood': 4143, 'categorical': 4144, 'ecuador': 4145, \"she's\": 4146, 'reversed': 4147, 'roots': 4148, 'electrical': 4149, 'pat': 4150, 'speeding': 4151, 'gucci': 4152, 'louis': 4153, 'expressive': 4154, 'desserts': 4155, 'authority': 4156, 'memorable': 4157, 'murder': 4158, 'marketplace': 4159, 'jim': 4160, 'committee': 4161, 'everywhere': 4162, 'unhealthy': 4163, 'caesar': 4164, 'corresponds': 4165, 'inspirational': 4166, 'segment': 4167, 'palm': 4168, 'buildings': 4169, 'schools': 4170, 'accessories': 4171, 'tables': 4172, 'css': 4173, 'anthem': 4174, 'chimpanzee': 4175, 'orangutan': 4176, 'voices': 4177, 'criminal': 4178, 'stakes': 4179, 'beat': 4180, 'tour': 4181, 'letting': 4182, 'referred': 4183, 'vitamin': 4184, 'les': 4185, 'cocacola': 4186, 'cleaner': 4187, 'wandered': 4188, 'hopes': 4189, 'counts': 4190, 'eternity': 4191, 'travelling': 4192, 'amongst': 4193, 'straws': 4194, 'committed': 4195, 'observe': 4196, 'difficulty': 4197, 'interrogative': 4198, 'otherwise': 4199, 'fog': 4200, 'rare': 4201, 'linked': 4202, 'timeless': 4203, 'comforting': 4204, 'blows': 4205, 'ants': 4206, 'polluted': 4207, 'centuries': 4208, 'carnivores': 4209, 'factory': 4210, 'workers': 4211, 'hardly': 4212, 'classifying': 4213, 'naive': 4214, 'encouraged': 4215, 'maximize': 4216, 'melon': 4217, 'fragrant': 4218, 'victoria': 4219, 'lyrics': 4220, 'seals': 4221, 'researching': 4222, 'baroque': 4223, 'radiating': 4224, 'lawn': 4225, 'pumpkin': 4226, 'lungs': 4227, 'achievements': 4228, 'uncharted': 4229, 'rica': 4230, 'awe': 4231, 'perfection': 4232, 'elderly': 4233, 'ricotta': 4234, 'uncertainty': 4235, 'curled': 4236, 'hesheit': 4237, 'stuck': 4238, 'burger': 4239, 'stretches': 4240, 'betty': 4241, 'happily': 4242, 'demonstrated': 4243, 'beverage': 4244, 'exceptional': 4245, 'singleuse': 4246, 'newspaper': 4247, 'hesitant': 4248, 'reliability': 4249, 'rocks': 4250, 'poetry': 4251, 'reason': 4252, 'hosting': 4253, 'distinct': 4254, 'opposite': 4255, 'jill': 4256, 'fail': 4257, 'shower': 4258, 'episode': 4259, 'iv': 4260, 'shaped': 4261, 'popularity': 4262, 'http': 4263, 'climb': 4264, 'cottage': 4265, 'diagnose': 4266, 'foxes': 4267, 'voyage': 4268, 'optimal': 4269, 'videos': 4270, 'send': 4271, 'evaluation': 4272, 'forces': 4273, 'gravity': 4274, 'sandwiches': 4275, 'treats': 4276, 'rosemary': 4277, 'fiercely': 4278, '±': 4279, 'carpenter': 4280, 'descending': 4281, 'risen': 4282, 'dialogue': 4283, 'distancing': 4284, 'assistants': 4285, 'biased': 4286, 'knives': 4287, 'monitor': 4288, 'towel': 4289, 'viewing': 4290, 'resulted': 4291, 'printer': 4292, 'sly': 4293, 'chrysanthemum': 4294, 'sunflower': 4295, 'geographic': 4296, 'hypothesize': 4297, 'peaches': 4298, 'productive': 4299, 'cameras': 4300, 'men': 4301, 'encouraging': 4302, 'fatigue': 4303, 'joyous': 4304, 'à': 4305, 'ranging': 4306, 'roller': 4307, 'coaster': 4308, 'ultimately': 4309, 'rigorous': 4310, 'rains': 4311, 'pouring': 4312, 'discrimination': 4313, 'jazz': 4314, 'measuring': 4315, 'obama': 4316, 'dull': 4317, 'significantly': 4318, 'chocolates': 4319, 'acronym': 4320, '°n': 4321, '°w': 4322, 'scattered': 4323, 'ist': 4324, 'sand': 4325, 'unbreakable': 4326, 'inventing': 4327, 'paths': 4328, 'milky': 4329, 'weekly': 4330, 'profound': 4331, 'butterflies': 4332, 'tshirts': 4333, 'zero': 4334, 'corresponding': 4335, \"you'd\": 4336, 'analytical': 4337, 'neighbors': 4338, 'catches': 4339, 'timeline': 4340, 'jackson': 4341, 'persists': 4342, 'teaching': 4343, 'rhythm': 4344, 'whereas': 4345, 'melting': 4346, 'told': 4347, 'gallery': 4348, 'symbols': 4349, 'superior': 4350, 'ma': 4351, 'affordable': 4352, 'beaming': 4353, 'contract': 4354, 'signed': 4355, 'functioning': 4356, 'hippopotamus': 4357, 'populations': 4358, 'browsers': 4359, 'subordinate': 4360, 'boundaries': 4361, 'incorrectly': 4362, 'drives': 4363, 'rewarded': 4364, 'struck': 4365, 'sweetly': 4366, 'augmented': 4367, 'ar': 4368, 'rebellion': 4369, 'relaxing': 4370, 'residents': 4371, 'crimson': 4372, 'herself': 4373, 'variables': 4374, 'uneasy': 4375, 'ne': 4376, 'obesity': 4377, 'participants': 4378, 'parmesan': 4379, 'belongings': 4380, 'lay': 4381, 'operation': 4382, 'puppy': 4383, 'exhaustion': 4384, 'tickets': 4385, 'temp': 4386, 'chips': 4387, 'finishing': 4388, 'hastened': 4389, 'cardiovascular': 4390, 'kite': 4391, 'costeffective': 4392, 'relaxation': 4393, 'nights': 4394, 'brew': 4395, 'unveils': 4396, '£': 4397, 'thoughtful': 4398, 'rightangled': 4399, 'claws': 4400, 'relativity': 4401, 'imposing': 4402, 'opulent': 4403, 'precipitation': 4404, 'jennifer': 4405, 'connections': 4406, 'uplifting': 4407, 'perspectives': 4408, 'transport': 4409, 'bengal': 4410, 'faulty': 4411, 'gravitation': 4412, 'momentum': 4413, 'files': 4414, 'posts': 4415, 'closer': 4416, 'colour': 4417, 'ruby': 4418, 'vital': 4419, 'intent': 4420, 'var': 4421, 'adaptability': 4422, 'dreary': 4423, 'sit': 4424, 'aweinspiring': 4425, 'lily': 4426, 'tableau': 4427, 'anagram': 4428, 'jovial': 4429, 'typetext': 4430, 'frame': 4431, 'proteins': 4432, 'noticed': 4433, 'rode': 4434, '—': 4435, 'selfcare': 4436, 'lima': 4437, 'notation': 4438, 'chennai': 4439, 'amusing': 4440, 'stuffed': 4441, 'songs': 4442, 'apart': 4443, 'evaluates': 4444, 'aapl': 4445, 'drop': 4446, 'racing': 4447, 'pan': 4448, 'driven': 4449, 'squirrels': 4450, 'wished': 4451, 'motion': 4452, 'immensely': 4453, 'leg': 4454, 'fleeting': 4455, 'indicates': 4456, 'breezy': 4457, 'ce': 4458, 'vegetation': 4459, 'estoy': 4460, 'pthis': 4461, 'madison': 4462, 'anywhere': 4463, 'salinger': 4464, 'pour': 4465, 'courses': 4466, 'tricks': 4467, \"'new\": 4468, \"york'\": 4469, 'gear': 4470, 'imaginative': 4471, 'prolific': 4472, 'senses': 4473, 'collection': 4474, 'constructing': 4475, 'turning': 4476, 'unusual': 4477, 'camp': 4478, 'inputs': 4479, 'saudi': 4480, 'arabia': 4481, 'wellknown': 4482, \"lake's\": 4483, 'osaka': 4484, 'forth': 4485, '[a': 4486, 'beloved': 4487, 'hang': 4488, 'kindly': 4489, 'spreading': 4490, 'striking': 4491, 'hanks': 4492, 'discussing': 4493, 'eats': 4494, 'bbc': 4495, 'stages': 4496, 'hashtag': 4497, 'realworld': 4498, 'clarity': 4499, 'lavender': 4500, 'startled': 4501, 'altitude': 4502, 'invertebrates': 4503, 'temperate': 4504, 'theories': 4505, 'charges': 4506, 'zuckerberg': 4507, '**': 4508, 'achievable': 4509, 'connects': 4510, 'grassy': 4511, 'tumultuous': 4512, 'concentration': 4513, 'covers': 4514, 'iceland': 4515, 'tiny': 4516, 'grapefruit': 4517, 'exposure': 4518, 'bordered': 4519, 'rugby': 4520, 'frisbee': 4521, 'walmart': 4522, 'sleek': 4523, 'lightweight': 4524, 'occasion': 4525, 'horses': 4526, 'declared': 4527, 'egyptian': 4528, 'soviet': 4529, 'breakthrough': 4530, 'scheduled': 4531, 'possessive': 4532, 'minerals': 4533, 'luther': 4534, 'jr': 4535, 'parks': 4536, 'shellfish': 4537, 'multiplied': 4538, 'digits': 4539, 'gato': 4540, 'leopards': 4541, 'gorillas': 4542, 'fed': 4543, 'wealthy': 4544, 'alphabetical': 4545, 'fantastic': 4546, 'lecture': 4547, 'struggles': 4548, 'wishing': 4549, 'nourishing': 4550, 'misty': 4551, 'gallons': 4552, 'int[]': 4553, 'array[i]': 4554, 'structures': 4555, 'wore': 4556, 'wage': 4557, 'hike': 4558, 'oregon': 4559, 'surgery': 4560, 'masks': 4561, 'jubilation': 4562, 'careless': 4563, 'military': 4564, 'blessing': 4565, 'ios': 4566, 'joined': 4567, 'bulb': 4568, 'sounded': 4569, 'minute': 4570, 'son': 4571, 'implemented': 4572, 'prediction': 4573, 'administration': 4574, 'tails': 4575, 'cyber': 4576, 'figurative': 4577, 'concrete': 4578, 'howling': 4579, 'lacked': 4580, 'tolkien': 4581, 'slides': 4582, 'sausage': 4583, 'captivated': 4584, 'introduced': 4585, 'formidable': 4586, 'bloom': 4587, 'attending': 4588, 'sparrow': 4589, 'landmarks': 4590, 'fragile': 4591, 'glowed': 4592, 'wellness': 4593, 'accident': 4594, 'defined': 4595, 'expansion': 4596, 'grandmother': 4597, 'crops': 4598, 'arc': 4599, 'eggplant': 4600, 'malicious': 4601, 'beamed': 4602, 'biking': 4603, \"smith's\": 4604, 'catastrophic': 4605, 'preparing': 4606, 'blissful': 4607, 'deviation': 4608, 'surgeon': 4609, 'attributes': 4610, 'kevin': 4611, 'prove': 4612, 'eu': 4613, 'total_cost': 4614, 'jordan': 4615, 'monument': 4616, 'evil': 4617, 'meter': 4618, 'decreased': 4619, 'hurry': 4620, 'resist': 4621, 'greener': 4622, 'gif': 4623, 'mockingbird': 4624, 'pound': 4625, 'racecar': 4626, 'press': 4627, 'added': 4628, 'respond': 4629, 'majority': 4630, 'scores': 4631, 'organism': 4632, 'leads': 4633, 'magazine': 4634, 'dough': 4635, 'unveiled': 4636, 'generating': 4637, 'reminiscent': 4638, 'notebook': 4639, 'constitutional': 4640, 'republic': 4641, 'develops': 4642, 'academic': 4643, 'endgame': 4644, 'weasley': 4645, 'longitude': 4646, 'latitude': 4647, 'concise': 4648, 'interval': 4649, 'impressed': 4650, 'pronunciation': 4651, 'constitution': 4652, 'durable': 4653, 'prince': 4654, 'pot': 4655, 'stronger': 4656, 'domestic': 4657, 'displeased': 4658, 'enhance': 4659, 'corn': 4660, 'discussion': 4661, 'happier': 4662, 'appreciation': 4663, 'broke': 4664, 'broken': 4665, 'expectations': 4666, 'predator': 4667, 'coal': 4668, 'betrayed': 4669, 'represented': 4670, 'phones': 4671, 'coastal': 4672, 'originated': 4673, 'serve': 4674, 'church': 4675, 'owners': 4676, 'embarrassed': 4677, 'earthquakes': 4678, 'coral': 4679, 'calcium': 4680, 'range]': 4681, 'giants': 4682, 'resolve': 4683, 'ongoing': 4684, 'adequate': 4685, 'beavers': 4686, 'interpreting': 4687, 'solved': 4688, 'nepal': 4689, 'informed': 4690, 'browser': 4691, 'calculator': 4692, 'jar': 4693, 'counter': 4694, 'yards': 4695, 'burst': 4696, 'gym': 4697, 'afloat': 4698, 'falcon': 4699, 'chihuahua': 4700, 'beam': 4701, 'producer': 4702, 'venture': 4703, 'liechtenstein': 4704, 'whatever': 4705, 'ruler': 4706, \"'john'\": 4707, \"'age'\": 4708, 'tempura': 4709, 'udon': 4710, 'yakitori': 4711, 'gracefully': 4712, 'environmentally': 4713, 'reversedstring': 4714, '•': 4715, 'suggestion': 4716, 'director': 4717, 'ludwig': 4718, 'engage': 4719, 'tons': 4720, 'guatemala': 4721, 'cryptocurrency': 4722, 'stroke': 4723, 'joker': 4724, 'urgency': 4725, 'rugged': 4726, 'hunter': 4727, 'masculine': 4728, 'obedient': 4729, 'tablet': 4730, 'package': 4731, 'chemistry': 4732, 'manmade': 4733, 'salamander': 4734, 'aroma': 4735, 'startups': 4736, 'passwords': 4737, 'addressed': 4738, 'recreational': 4739, 'mahatma': 4740, 'fishing': 4741, 'picked': 4742, 'substantial': 4743, 'announces': 4744, 'ada': 4745, 'lovelace': 4746, 'addressing': 4747, 'cows': 4748, 'owned': 4749, 'washing': 4750, 'scenery': 4751, '“the': 4752, 'mansion': 4753, 'empire': 4754, \"'us'\": 4755, 'cable': 4756, 'sweetness': 4757, 'roman': 4758, 'positivity': 4759, 'logical': 4760, 'grammatical': 4761, 'sierra': 4762, 'reversed_string': 4763, 'athletic': 4764, 'echoed': 4765, 'serving': 4766, 'raindrops': 4767, 'pursuing': 4768, 'metropolitan': 4769, 'maintaining': 4770, 'wright': 4771, 'contained': 4772, 'pa': 4773, 'arr[i]': 4774, 'explored': 4775, 'diagonal': 4776, 'titlemy': 4777, 'waxing': 4778, 'voting': 4779, 'greenpeace': 4780, 'jefferson': 4781, 'echoing': 4782, 'lizard': 4783, 'joint': 4784, 'refused': 4785, 'christopher': 4786, 'pad': 4787, 'pancakes': 4788, 'exclamation': 4789, \"'chicago'\": 4790, 'factorialnum': 4791, 'boo': 4792, 'recession': 4793, \"activation'relu'\": 4794, 'reactors': 4795, 'reversed_str': 4796, 'highest_value': 4797, 'explains': 4798, 'canned': 4799, 'seed': 4800, 'borrow': 4801, 'asset': 4802, 'commodities': 4803, 'schwab': 4804, 'unsecured': 4805, 'loans': 4806, 'fraud': 4807, 'alert': 4808, 'capitalism': 4809, 'cd': 4810, 'fees': 4811, 'deposit': 4812, 'platinum': 4813, 'transfers': 4814, 'moreover': 4815, 'stumbled': 4816, 'permanent': 4817, 'assets': 4818, 'signature': 4819, 'criteria': 4820, 'declining': 4821, 'investors': 4822, 'detail': 4823, 'counting': 4824, 'earnings': 4825, 'charts': 4826, 'reference': 4827, 'raise': 4828, 'fancy': 4829, 'dividends': 4830, 'errors': 4831, 'entity': 4832, 'ishares': 4833, 'emerging': 4834, 'opening': 4835, \"you've\": 4836, 'explanation': 4837, 'comment': 4838, 'pe': 4839, 'comments': 4840, 'component': 4841, 'plausible': 4842, 'offline': 4843, 'indirect': 4844, 'particularly': 4845, 'log': 4846, 'fan': 4847, 'opensource': 4848, \"you'll\": 4849, 'gnucash': 4850, 'highlights': 4851, 'prompts': 4852, 'marked': 4853, 'quotes': 4854, 'guns': 4855, 'partnership': 4856, 'setup': 4857, 'aimed': 4858, 'tutorial': 4859, 'extreme': 4860, 'obvious': 4861, 'owe': 4862, 'yield': 4863, 'checking': 4864, 'familiar': 4865, 'inperson': 4866, 'paying': 4867, 'foreign': 4868, 'barely': 4869, 'quicken': 4870, 'consistent': 4871, 'pub': 4872, 'raw': 4873, 'honor': 4874, 'advocate': 4875, 'unlimited': 4876, 'borrowed': 4877, 'bite': 4878, 'theater': 4879, 'popcorn': 4880, 'maintain': 4881, 'seem': 4882, 'depends': 4883, \"we've\": 4884, 'bonds': 4885, 'enable': 4886, 'millionaires': 4887, 'collect': 4888, 'detailed': 4889, 'differences': 4890, 'rangenum': 4891, 'cabbage': 4892, 'flowering': 4893, 'woke': 4894, 'excitedly': 4895, 'it’s': 4896, 'unwavering': 4897, 'ohio': 4898, 'lens': 4899, 'regal': 4900, 'dew': 4901, 'designing': 4902, 'fold': 4903, 'origami': 4904, 'preservation': 4905, 'barcelona': 4906, 'brightening': 4907, 'corruption': 4908, 'inspired': 4909, 'bytes': 4910, 'hygiene': 4911, 'cholera': 4912, 'wins': 4913, 'mysteries': 4914, 'mesmerized': 4915, 'peculiar': 4916, 'floated': 4917, 'castle': 4918, 'portable': 4919, 'jogged': 4920, 'chord': 4921, 'radiance': 4922, 'lock': 4923, 'hook': 4924, 'disgust': 4925, 'organ': 4926, 'respiratory': 4927, 'perfectly': 4928, 'positions': 4929, 'contemporary': 4930, 'wife': 4931, 'grasp': 4932, 'strict': 4933, 'runner': 4934, 'gummy': 4935, 'tap': 4936, 'wound': 4937, 'translated': 4938, 'swallow': 4939, 'generosity': 4940, 'regarding': 4941, 'u': 4942, 'repercussions': 4943, 'johannes': 4944, 'postponed': 4945, 'humidity': 4946, 'cuts': 4947, 'bask': 4948, 'bars': 4949, 'solitary': 4950, 'utilizing': 4951, 'updates': 4952, 'midst': 4953, 'charlie': 4954, 'suspense': 4955, 'fostering': 4956, 'guangzhou': 4957, 'posting': 4958, 'considerate': 4959, 'alike': 4960, 'nonhuman': 4961, 'entities': 4962, 'stretch': 4963, 'valued': 4964, 'whitetailed': 4965, 'signs': 4966, 'sloths': 4967, 'toucans': 4968, 'jaguars': 4969, 'attacks': 4970, 'linkedin': 4971, 'arachnid': 4972, 'mortality': 4973, 'tornado': 4974, 'blizzard': 4975, 'cairo': 4976, 'fastpaced': 4977, 'disruption': 4978, 'traveled': 4979, 'missouri': 4980, 'cirrus': 4981, 'stratus': 4982, 'cumulus': 4983, 'brooklyn': 4984, 'mop': 4985, 'chile': 4986, 'paraguay': 4987, 'uruguay': 4988, 'guyana': 4989, 'suriname': 4990, 'bedrooms': 4991, 'driverless': 4992, 'cautiously': 4993, 'snowman': 4994, 'mechanical': 4995, 'shoulders': 4996, 'spotted': 4997, 'calculus': 4998, 'sworn': 4999, 'deck': 5000, 'recipes': 5001, 'journeyed': 5002, 'dive': 5003, 'poison': 5004, 'soars': 5005, 'lasting': 5006, 'flashlights': 5007, 'batteries': 5008, 'journaling': 5009, 'nike': 5010, 'previously': 5011, 'conversations': 5012, 'striding': 5013, 'adorned': 5014, 'thin': 5015, 'volcanic': 5016, 'daunting': 5017, 'earliest': 5018, 'rio': 5019, 'distributed': 5020, 'furiously': 5021, 'professions': 5022, 'pharmacist': 5023, 'vr': 5024, 'passing': 5025, 'rainfall': 5026, 'gargantuan': 5027, 'bolt': 5028, 'instant': 5029, '∨': 5030, 'fake': 5031, 'correlation': 5032, 'urge': 5033, 'poker': 5034, 'christianity': 5035, 'islam': 5036, 'awesome': 5037, 'libraries': 5038, 'severe': 5039, 'palette': 5040, 'reuse': 5041, 'boxes': 5042, 'visible': 5043, 'articulate': 5044, 'watson': 5045, 'os': 5046, \"apple's\": 5047, 'inspiration': 5048, 'vs': 5049, 'maintained': 5050, 'functional': 5051, 'molecule': 5052, 'paintings': 5053, 'pablo': 5054, 'god': 5055, 'bless': 5056, 'limes': 5057, 'cobalt': 5058, 'useful': 5059, 'masterpiece': 5060, 'sadly': 5061, 'reflected': 5062, 'anna': 5063, 'seize': 5064, 'embraced': 5065, 'lingers': 5066, 'johann': 5067, 'sebastian': 5068, 'bach': 5069, 'cave': 5070, 'refer': 5071, 'mike': 5072, 'trillion': 5073, 'hopeless': 5074, 'heated': 5075, 'chest': 5076, 'heating': 5077, 'sailor': 5078, 'w': 5079, 'blew': 5080, 'disagree': 5081, 'brewing': 5082, 'crossing': 5083, 'flaming': 5084, 'glimmered': 5085, 'utilized': 5086, 'stairs': 5087, 'smiles': 5088, 'unleash': 5089, 'bayes': 5090, 'astounding': 5091, 'las': 5092, 'vegas': 5093, 'cope': 5094, 'tuna': 5095, 'apps': 5096, 'transition': 5097, 'sixsided': 5098, 'prominent': 5099, 'bug': 5100, 'steep': 5101, 'inclusion': 5102, 'teddy': 5103, 'consoleloghello': 5104, 'spare': 5105, 'fashionable': 5106, 'territories': 5107, \"alice's\": 5108, 'carroll': 5109, 'relatively': 5110, 'weak': 5111, '___________': 5112, 'brilliance': 5113, 'list[i]': 5114, 'believing': 5115, 'aims': 5116, 'humor': 5117, 'inform': 5118, 'planted': 5119, 'boundless': 5120, 'soaked': 5121, 'beverages': 5122, 'literacy': 5123, 'cheerfully': 5124, 'statistical': 5125, \"team's\": 5126, 'yielded': 5127, 'nick': 5128, 'clearly': 5129, 'identify': 5130, 'tvs': 5131, 'oceania': 5132, 'patatas': 5133, 'michelangelo': 5134, 'epa': 5135, 'obstacle': 5136, 'puma': 5137, 'announce': 5138, 'productx': 5139, 'cheer': 5140, 'volcano': 5141, 'plastics': 5142, 'dislike': 5143, 'throw': 5144, 'domain': 5145, 'graphics': 5146, 'opposed': 5147, 'commitment': 5148, 'context': 5149, 'consumers': 5150, 'abundance': 5151, 'royal': 5152, 'saying': 5153, 'supporting': 5154, 'asc': 5155, 'host': 5156, 'stationary': 5157, 'distribution': 5158, 'noon': 5159, \"moon's\": 5160, 'automatically': 5161, 'choices': 5162, 'optimize': 5163, 'tend': 5164, 'universities': 5165, 'luminous': 5166, 'corporation': 5167, 'scored': 5168, 'bon': 5169, 'viaje': 5170, 'supply': 5171, 'fundamental': 5172, 'awake': 5173, 'thyme': 5174, 'oregano': 5175, 'minnesota': 5176, 'francis': 5177, 'nurses': 5178, 'actors': 5179, 'underwater': 5180, 'lionel': 5181, 'shrill': 5182, 'sensation': 5183, 'ox': 5184, 'ranked': 5185, 'terrible': 5186, 'perennials': 5187, 'seasons': 5188, 'sake': 5189, 'pinnacle': 5190, 'mid': 5191, 'afghanistan': 5192, 'wilderness': 5193, 'tidal': 5194, 'defending': 5195, 'mythical': 5196, 'overcome': 5197, 'reluctantly': 5198, 'voted': 5199, \"speaker's\": 5200, 'reverse_stringstring': 5201, 'string[]': 5202, 'arrested': 5203, 'bow': 5204, 'capitals': 5205, 'ethereal': 5206, 'wolves': 5207, 'ancestor': 5208, 'cancelled': 5209, 'patrick': 5210, 'taxrate': 5211, 'zone': 5212, 'jones': 5213, 'neighbor': 5214, 'roars': 5215, 'soap': 5216, 'vinegar': 5217, 'glory': 5218, 'knowing': 5219, 'photographer': 5220, 'backpack': 5221, \"author's\": 5222, 'peacefulness': 5223, 'snowboarding': 5224, 'observed': 5225, \"j'ai\": 5226, 'skies': 5227, 'sydney': 5228, 'pulling': 5229, 'nails': 5230, 'rewarding': 5231, 'recognized': 5232, 'overjoyed': 5233, 'emphasize': 5234, 'fairness': 5235, 'unethical': 5236, 'invitation': 5237, 'genres': 5238, 'accept': 5239, 'xyz': 5240, 'educated': 5241, 'consolelogi': 5242, 'barack': 5243, 'ronald': 5244, 'convenience': 5245, 'shut': 5246, 'nonessential': 5247, 'steadily': 5248, 'utah': 5249, 'das': 5250, 'auto': 5251, 'informal': 5252, 'upset': 5253, 'taught': 5254, 'crept': 5255, 'sandals': 5256, 'philosophy': 5257, 'belt': 5258, 'nose': 5259, 'statements': 5260, 'botswana': 5261, 'summation': 5262, 'inventory': 5263, 'aggressive': 5264, 'picturesque': 5265, 'finals': 5266, 'lever': 5267, 'typo': 5268, 'aches': 5269, 'seething': 5270, 'rarely': 5271, 'skunks': 5272, 'judge': 5273, 'fridge': 5274, 'yx^': 5275, 'lakes': 5276, 'northeast': 5277, 'mirthful': 5278, 'lebron': 5279, 'arrays': 5280, 'wilson': 5281, 'lottery': 5282, 'beliefs': 5283, 'paw': 5284, 'thinker': 5285, 'trunk': 5286, 'era': 5287, 'tangible': 5288, 'oslo': 5289, 'worse': 5290, 'researcher': 5291, 'teenagers': 5292, 'meandered': 5293, 'uber': 5294, 'push': 5295, 'backup': 5296, 'external': 5297, 'stressed': 5298, 'syllable': 5299, 'vi': 5300, 'subset': 5301, 'riddle': 5302, 'conservancy': 5303, 'maintenance': 5304, 'accused': 5305, 'define': 5306, 'promises': 5307, 'additional': 5308, 'oxford': 5309, 'convolutional': 5310, 'hunger': 5311, 'hoped': 5312, 'envy': 5313, 'ton': 5314, 'referring': 5315, 'elon': 5316, 'musk': 5317, 'governments': 5318, 'strange': 5319, 'fading': 5320, 'hired': 5321, 'spite': 5322, 'unbeatable': 5323, 'pp': 5324, 'spacious': 5325, 'comprehend': 5326, 'praise': 5327, 'paradise': 5328, 'vegetarian': 5329, 'measles': 5330, 'established': 5331, 'ad': 5332, 'nonverbal': 5333, 'proceed': 5334, 'cinema': 5335, 'stops': 5336, 'instructed': 5337, 'promptly': 5338, 'crazy': 5339, 'eyre': 5340, 'wa': 5341, 'renewal': 5342, 'bouncing': 5343, 'colder': 5344, 'subtotal': 5345, 'koala': 5346, 'brands': 5347, 'verdict': 5348, 'grew': 5349, 'pens': 5350, 'scalene': 5351, 'wifi': 5352, 'aabb': 5353, 'pillow': 5354, 'secondlargest': 5355, 'birth': 5356, 'forrest': 5357, 'gump': 5358, 'kangaroos': 5359, 'surrounding': 5360, 'exceed': 5361, 'programmer': 5362, 'muscles': 5363, 'technique': 5364, 'upheaval': 5365, 'paws': 5366, 'september': 5367, 'appetizer': 5368, 'crescent': 5369, 'parties': 5370, 'travels': 5371, 'throat': 5372, 'add_two_numbersa': 5373, \"newton's\": 5374, 'tip': 5375, 'eur': 5376, 'logic': 5377, 'acidic': 5378, 'webpages': 5379, 'nominated': 5380, 'evaluated': 5381, 'nd': 5382, 'hthis': 5383, 'exams': 5384, 'doubt': 5385, 'yosemite': 5386, 'colours': 5387, 'mixed': 5388, 'hues': 5389, 'cryptic': 5390, 'randomnumber': 5391, 'mathfloormathrandom': 5392, 'precision': 5393, 'sweden': 5394, 'biryani': 5395, 'crafts': 5396, 'waterfall': 5397, 'eagles': 5398, 'curved': 5399, 'teen': 5400, 'protest': 5401, 'captures': 5402, 'emptiness': 5403, 'automobiles': 5404, 'wine': 5405, 'balmy': 5406, 'automating': 5407, 'bells': 5408, 'iostream': 5409, 'earthquake': 5410, 'alla': 5411, 'reluctant': 5412, 'purr': 5413, 'aged': 5414, 'jeff': 5415, 'hawks': 5416, 'avalanche': 5417, 'pinks': 5418, 'guidance': 5419, 'snowfall': 5420, 'mitigate': 5421, 'advertising': 5422, 'sprint': 5423, 'lyric': 5424, \"everyone's\": 5425, 'procrastination': 5426, 'darkest': 5427, 'rpa': 5428, 't': 5429, 'ch': 5430, 'compost': 5431, 'kolkata': 5432, 'parrots': 5433, 'noises': 5434, 'entertaining': 5435, 'developments': 5436, 'une': 5437, 'verbal': 5438, 'exerted': 5439, 'attendant': 5440, 'exaggeration': 5441, 'multiples': 5442, 'punctual': 5443, 'advantageous': 5444, 'install': 5445, 'humble': 5446, 'selfless': 5447, 'affect': 5448, 'intensity': 5449, 'rooms': 5450, 'silicon': 5451, 'exquisite': 5452, 'shouted': 5453, 'molecules': 5454, \"f'x\": 5455, \"'active'\": 5456, 'relative': 5457, 'chirping': 5458, 'situational': 5459, 'toucan': 5460, 'gusty': 5461, 'incensed': 5462, 'aggravated': 5463, 'español': 5464, 'canberra': 5465, 'colleague': 5466, 'respected': 5467, 'systemoutprintlnhello': 5468, 'homophones': 5469, 'supermarket': 5470, 'neon': 5471, 'consisting': 5472, 'virtue': 5473, 'strike': 5474, 'alchemist': 5475, 'coelho': 5476, 'notable': 5477, 'philadelphia': 5478, 'viral': 5479, 'poet': 5480, 'legislation': 5481, \"alzheimer's\": 5482, 'pastries': 5483, 'bakery': 5484, 'addiction': 5485, 'visually': 5486, 'tedious': 5487, 'populated': 5488, 'fiber': 5489, 'puzzle': 5490, 'inch': 5491, 'converted': 5492, 'prosperous': 5493, 'twenty': 5494, 'carrying': 5495, 'watermelons': 5496, 'photograph': 5497, 'multiplying': 5498, 'oneway': 5499, 'salty': 5500, 'optional': 5501, 'softly': 5502, 'curiosity': 5503, 'adverbs': 5504, \"user's\": 5505, 'desperately': 5506, 'combined': 5507, 'putting': 5508, 'landed': 5509, 'acts': 5510, 'suffer': 5511, 'tank': 5512, 'communications': 5513, 'beams': 5514, 'rabbits': 5515, 'forgot': 5516, 'squash': 5517, 'abbreviation': 5518, 'dystopian': 5519, 'invisible': 5520, 'kick': 5521, 'outlook': 5522, 'tragedy': 5523, 'stonehenge': 5524, 'sauntered': 5525, 'unemployment': 5526, 'platforms': 5527, 'developers': 5528, 'galapagos': 5529, 'ocelot': 5530, 'tasmanian': 5531, 'throwing': 5532, 'edges': 5533, 'discounted': 5534, 'functions': 5535, 'belief': 5536, 'mt': 5537, 'austria': 5538, 'cheddar': 5539, 'nums': 5540, 'pronouns': 5541, 'climates': 5542, 'rug': 5543, 'parallelogram': 5544, 'bang': 5545, 'slept': 5546, 'soundly': 5547, 'crunchy': 5548, 'evolved': 5549, 'relish': 5550, 'ensemble': 5551, 'breaks': 5552, 'bounded': 5553, 'frigid': 5554, 'blustery': 5555, 'inquisitive': 5556, 'chloride': 5557, 'ph': 5558, 'cathedral': 5559, 'em': 5560, 'checked': 5561, 'sensoji': 5562, 'chlorine': 5563, 'infected': 5564, 'refugees': 5565, 'toll': 5566, 'comprehension': 5567, 'infinite': 5568, 'looming': 5569, 'ambiguous': 5570, 'beige': 5571, 'gps': 5572, 'pigs': 5573, 'randomrandint': 5574, 'subsequence': 5575, 'dickens': 5576, 'beast': 5577, 'colleagues': 5578, 'lifetime': 5579, 'detective': 5580, 'paddle': 5581, 'persevere': 5582, 'rachel': 5583, 'panda': 5584, 'sumatran': 5585, 'returned': 5586, 'cone': 5587, 'remarkably': 5588, 'sara': 5589, 'cape': 5590, 'hide': 5591, 'fallen': 5592, 'daffodils': 5593, 'hawking': 5594, 'scholarship': 5595, 'kjmol': 5596, 'nonmetal': 5597, 'crime': 5598, 'vitamins': 5599, 'chase': 5600, 'malcolm': 5601, 'susan': 5602, 'unveiling': 5603, 'minecraft': 5604, 'papaya': 5605, 'ablaze': 5606, 'cloudbased': 5607, 'zimbabwe': 5608, 'acute': 5609, 'plus': 5610, 'shoreline': 5611, 'harp': 5612, 'difficulties': 5613, 'storms': 5614, 'exists': 5615, 'encourage': 5616, 'matching': 5617, 'sailed': 5618, 'burgers': 5619, 'dylan': 5620, 'complementary': 5621, 'delete': 5622, 'landing': 5623, 'guess': 5624, 'thrones': 5625, 'simplest': 5626, 'untold': 5627, 'incessantly': 5628, 'sixth': 5629, \"who's\": 5630, 'army': 5631, 'flights': 5632, 'bubbly': 5633, 'representing': 5634, 'implied': 5635, 'expanse': 5636, 'vastness': 5637, 'curse': 5638, 'stayed': 5639, 'selfawareness': 5640, 'rats': 5641, 'curtain': 5642, 'spiritual': 5643, 'costing': 5644, 'glows': 5645, 'denial': 5646, 'dos': 5647, 'octopus': 5648, 'eel': 5649, 'sansserif': 5650, 'padding': 5651, 'joey': 5652, 'reported': 5653, 'senior': 5654, 'exhilaration': 5655, 'compare': 5656, 'economies': 5657, 'albany': 5658, 'diligent': 5659, 'collaborative': 5660, 'meta': 5661, 'hunt': 5662, 'emerged': 5663, 'realism': 5664, 'evident': 5665, 'redemption': 5666, 'blinding': 5667, 'weeknd': 5668, \"philosopher's\": 5669, 'blueberry': 5670, 'folder': 5671, 'jog': 5672, 'olives': 5673, 'pepperoni': 5674, '[[': 5675, ']]': 5676, 'hug': 5677, 'jimmy': 5678, 'geese': 5679, 'stew': 5680, 'influenced': 5681, 'stirfry': 5682, 'ash': 5683, 'unsure': 5684, 'substitute': 5685, 'treasure': 5686, 'world’s': 5687, 'coriander': 5688, \"mcdonald's\": 5689, 'fabulous': 5690, 'zoo': 5691, 'ten': 5692, 'unsuccessful': 5693, 'chris': 5694, 'gbp': 5695, 'civilizations': 5696, 'civilization': 5697, 'wow': 5698, 'expansive': 5699, 'thunderstorm': 5700, \"spring's\": 5701, 'remotely': 5702, 'failing': 5703, 'sampling': 5704, 'freely': 5705, 'roof': 5706, 'geographical': 5707, 'pollutants': 5708, 'newborn': 5709, 'culinary': 5710, 'hospital': 5711, 'lesson': 5712, 'feels': 5713, 'sticky': 5714, 'views': 5715, 'kong': 5716, 'boasts': 5717, 'died': 5718, 'douglas': 5719, 'engineers': 5720, 'guilt': 5721, 'alcohol': 5722, 'williams': 5723, 'fbi': 5724, 'lg': 5725, 'infectious': 5726, 'sped': 5727, \"'e'\": 5728, 'envelope': 5729, 'harper': 5730, 'lee': 5731, 'toys': 5732, 'finland': 5733, 'ounce': 5734, 'cure': 5735, 'fierce': 5736, 'total_spent': 5737, 'dejected': 5738, 'affection': 5739, \"'i\": 5740, 'acer': 5741, 'sony': 5742, 'dallas': 5743, 'thoroughly': 5744, 'narrative': 5745, 'spectrum': 5746, 'ah': 5747, 'fearful': 5748, 'division': 5749, 'pin': 5750, 'smoking': 5751, 'clearer': 5752, 'toaster': 5753, 'leisure': 5754, 'anticipating': 5755, 'chili': 5756, 'february': 5757, 'particles': 5758, 'nervous': 5759, 'stem': 5760, 'coordination': 5761, 'technological': 5762, 'surprisingly': 5763, 'trend': 5764, 'relations': 5765, 'comparative': 5766, 'evergreen': 5767, 'userfriendly': 5768, \"'a\": 5769, 'singular': 5770, 'ron': 5771, 'reflects': 5772, 'tossed': 5773, 'leaders': 5774, 'wellstructured': 5775, 'championship': 5776, 'chronic': 5777, 'triple': 5778, 'delectable': 5779, 'georgia': 5780, 'jrr': 5781, 'explosion': 5782, 'dirty': 5783, 'cuttingedge': 5784, 'chosen': 5785, 'altered': 5786, \"'london'\": 5787, 'continued': 5788, 'gates': 5789, 'uniquestrings': 5790, 'adjust': 5791, 'traditionally': 5792, 'slang': 5793, 'abroad': 5794, 'missed': 5795, 'int_val': 5796, 'ordchar': 5797, 'myth': 5798, 'purrfect': 5799, 'similarity': 5800, 'mentor': 5801, 'anchor': 5802, 'unreliable': 5803, 'intuitive': 5804, 'dissatisfied': 5805, 'mustard': 5806, 'bull': 5807, 'hesitation': 5808, 'editing': 5809, 'giza': 5810, 'repellent': 5811, 'x²': 5812, 'forecast': 5813, 'pas': 5814, 'crucial': 5815, 'wishes': 5816, 'strikes': 5817, 'objectoriented': 5818, '$str_arr': 5819, 'assignments': 5820, 'chic': 5821, 'outdated': 5822, 'heavens': 5823, 'spiders': 5824, 'sung': 5825, 'drifting': 5826, 'fortune': 5827, 'varied': 5828, 'tacos': 5829, 'jet': 5830, 'garbage': 5831, 'department_name': 5832, 'makeup': 5833, 'colonies': 5834, 'enormous': 5835, 'fiery': 5836, 'shrimp': 5837, 'villain': 5838, 'philodendron': 5839, 'steamed': 5840, 'enables': 5841, 'elected': 5842, 'congestion': 5843, 'thankful': 5844, 'freshness': 5845, 'hearty': 5846, 'representatives': 5847, 'headed': 5848, 'accents': 5849, 'odyssey': 5850, 'cinematic': 5851, 'catfish': 5852, 'substance': 5853, 'helped': 5854, 'gifted': 5855, 'israel': 5856, 'netherlands': 5857, 'graduation': 5858, 'stylebackgroundcolor': 5859, 'barbecue': 5860, 'bi': 5861, 'exceptionally': 5862, 'prioritize': 5863, 'utterly': 5864, 'strides': 5865, 'chelsea': 5866, 'insightful': 5867, 'antecedent': 5868, 'hopper': 5869, 'conveying': 5870, 'firewalls': 5871, 'shepherd': 5872, 'joys': 5873, 'suit': 5874, 'brad': 5875, 'ceramic': 5876, 'hourly': 5877, 'plural': 5878, 'burgundy': 5879, 'vietnam': 5880, 'happens': 5881, 'sweaters': 5882, 'claims': 5883, 'emerald': 5884, 'behold': 5885, 'springfield': 5886, 'centers': 5887, 'soba': 5888, 'craft': 5889, 'seasonal': 5890, 'stubborn': 5891, 'shiny': 5892, 'caulfield': 5893, 'carnivore': 5894, 'amy': 5895, 'boron': 5896, 'ridiculous': 5897, 'compact': 5898, 'transparent': 5899, 'montana': 5900, 'macaroni': 5901, 'kenya': 5902, 'taza': 5903, 'beethoven': 5904, 'almond': 5905, 'opera': 5906, 'quarantine': 5907, 'originally': 5908, 'pennsylvania': 5909, 'ears': 5910, 'tofu': 5911, 'aromatic': 5912, 'criticism': 5913, 'pig': 5914, 'nn': 5915, 'peanuts': 5916, 'projected': 5917, 'gallon': 5918, 'fitzgerald': 5919, 'founder': 5920, 'tremendous': 5921, 'clown': 5922, 'kelvin': 5923, 'trumpet': 5924, 'port': 5925, 'abbey': 5926, 'currents': 5927, 'kansas': 5928, 'conserving': 5929, 'mutations': 5930, 'amber': 5931, 'forecasted': 5932, 'pencils': 5933, 'paperclips': 5934, 'definition': 5935, 'knowledgeable': 5936, 'semana': 5937, 'dead': 5938, 'feminine': 5939, 'appeal': 5940, 'explorer': 5941, 'safari': 5942, 'tranquility': 5943, 'strongly': 5944, 'alex': 5945, 'crop': 5946, 'moscow': 5947, 'aliens': 5948, 'melancholic': 5949, 'bishop': 5950, 'backgrounds': 5951, 'jacket': 5952, 'edible': 5953, 'funk': 5954, 'bruno': 5955, 'collected': 5956, '∧': 5957, 'obnoxious': 5958, 'promotion': 5959, 'sells': 5960, 'instructor': 5961, 'idept_name': 5962, 'terrain': 5963, 'destroyed': 5964, 'mechanics': 5965, 'indoor': 5966, 'proficient': 5967, 'achievement': 5968, 'proficiency': 5969, 'release': 5970, 'gross': 5971, 'dragons': 5972, 'powers': 5973, 'belize': 5974, \"'s\": 5975, '$$': 5976, 'systemoutprintlni': 5977, 'malware': 5978, 'thoughtprovoking': 5979, 'comparing': 5980, 'firstname': 5981, 'measured': 5982, 'bonded': 5983, 'cooperation': 5984, 'faces': 5985, 'wherever': 5986, 'handsome': 5987, 'preheat': 5988, 'pixel': 5989, 'ordinary': 5990, 'featuring': 5991, 'redwood': 5992, 'subtracting': 5993, 'zinc': 5994, 'melodic': 5995, 'honesty': 5996, 'perceptive': 5997, 'racial': 5998, 'pocket': 5999, 'album': 6000, 'reduces': 6001, 'shoot': 6002, 'invasion': 6003, 'discipline': 6004, 'blanketed': 6005, 'dusk': 6006, 'dentist': 6007, 'tempo': 6008, 'nor': 6009, 'blocks': 6010, 'rolls': 6011, 'flames': 6012, 'leaped': 6013, 'posture': 6014, 'modify': 6015, 'hawaii': 6016, 'reward': 6017, 'maximizing': 6018, 'dreadful': 6019, 'regards': 6020, 'devised': 6021, 'composite': 6022, 'monuments': 6023, 'merged': 6024, 'forint': 6025, 'democratic': 6026, 'frequently': 6027, 'versatile': 6028, 'ebay': 6029, 'wyoming': 6030, 'attributed': 6031, 'gap': 6032, 'core': 6033, 'fibonaccinfibonaccin': 6034, 'fixed': 6035, 'galaxies': 6036, 'assemble': 6037, 'trained': 6038, 'muted': 6039, 'jealous': 6040, 'gibbous': 6041, 'waning': 6042, 'dense': 6043, 'yangtze': 6044, 'aminor': 6045, 'invited': 6046, 'valuevaluevalueoption': 6047, 'sprinkled': 6048, 'decorate': 6049, 'selfbreed': 6050, 'private': 6051, 'reply': 6052, 'thailand': 6053, 'pond': 6054, 'oxidation': 6055, 'migration': 6056, 'traveler': 6057, 'columns': 6058, 'americas': 6059, 'producing': 6060, 'references': 6061, 'behaviors': 6062, 'storing': 6063, 'floral': 6064, 'taxation': 6065, \"winter's\": 6066, 'wheel': 6067, 'witch': 6068, 'qatar': 6069, 'halflife': 6070, 'maine': 6071, 'parsley': 6072, 'new_list': 6073, 'integration': 6074, 'spaces': 6075, 'julius': 6076, 'adams': 6077, 'recommendations': 6078, 'possesses': 6079, 'velvety': 6080, 'county': 6081, 'colon': 6082, 'console': 6083, 'worlds': 6084, 'misfortune': 6085, 'thheader': 6086, 'walls': 6087, 'treatments': 6088, 'hibiscus': 6089, 'obtaining': 6090, 'dropped': 6091, 'gasoline': 6092, 'retirement': 6093, 'frightened': 6094, 'sorrow': 6095, 'illuminates': 6096, 'monitoring': 6097, 'grasslands': 6098, 'johnny': 6099, 'walter': 6100, 'scared': 6101, 'total_sum': 6102, 'valueitemitem': 6103, 'globalwarming': 6104, 'uniquechars': 6105, 'lucky': 6106, 'plush': 6107, 'por': 6108, 'listener': 6109, 'seal': 6110, 'recommendation': 6111, 'cds': 6112, 'mintcom': 6113, 'farm': 6114, 'lender': 6115, 'bloomberg': 6116, 'wiki': 6117, 'attached': 6118, 'futures': 6119, 'contractor': 6120, 'entice': 6121, 'isas': 6122, 'boils': 6123, 'itr': 6124, 'declare': 6125, 'freelancing': 6126, 'transfer': 6127, 'publicly': 6128, 'verify': 6129, 'scam': 6130, 'vega': 6131, 'visa': 6132, 'moneydance': 6133, 'assumptions': 6134, 'cobra': 6135, 'insight': 6136, 'dates': 6137, 'httpswwwnysecommarketshourscalendars': 6138, 'targeted': 6139, 'avoided': 6140, 'fits': 6141, 'calculations': 6142, 'affairs': 6143, 'losing': 6144, \"government's\": 6145, 'cryptocurrencies': 6146, 'login': 6147, 'pronounce': 6148, 'economical': 6149, 'liabilities': 6150, 'bunch': 6151, 'forum': 6152, 'traded': 6153, 'via': 6154, 'webbased': 6155, 'threequarters': 6156, 'posted': 6157, 'bills': 6158, 'deliver': 6159, 'vanguard': 6160, 'ftse': 6161, 'cynicism': 6162, 'naked': 6163, 'involved': 6164, 'geography': 6165, 'intangible': 6166, 'demat': 6167, 'normally': 6168, 'trick': 6169, 'buxfercom': 6170, 'settlement': 6171, 'premium': 6172, 'sending': 6173, 'mature': 6174, 'client': 6175, 'partial': 6176, 'observations': 6177, 'bullet': 6178, 'cashflow': 6179, 'forecasting': 6180, 'owning': 6181, 'gains': 6182, 'prior': 6183, 'vix': 6184, 'directly': 6185, 'wages': 6186, 'registered': 6187, 'ex': 6188, 'separate': 6189, 'corporate': 6190, 'taxed': 6191, 'fully': 6192, 'rental': 6193, 'deducting': 6194, 'tentative': 6195, 'clicking': 6196, 'straddle': 6197, 'documented': 6198, 'spreadsheet': 6199, 'flows': 6200, 'initiate': 6201, 'anonymity': 6202, 'sheets': 6203, 'circumstances': 6204, 'spreadsheets': 6205, 'purposes': 6206, 'guessing': 6207, 'simplistic': 6208, 'hedge': 6209, 'unlikely': 6210, 'pins': 6211, 'fashioned': 6212, 'monopoly': 6213, 'teaches': 6214, 'fine': 6215, 'identical': 6216, 'regardless': 6217, 'payments': 6218, 'checks': 6219, 'wire': 6220, 'doc': 6221, 'hull': 6222, 'downside': 6223, 'lots': 6224, 'debtors': 6225, 'creation': 6226, 'relation': 6227, 'filter': 6228, 'tends': 6229, 'bulk': 6230, 'cares': 6231, 'stolen': 6232, 'literally': 6233, 'onerous': 6234, 'exactly': 6235, \"aren't\": 6236, 'requirement': 6237, 'cap': 6238, 'tokens': 6239, 'merge': 6240, 'correction': 6241, 'overseas': 6242, 'miscellaneous': 6243, 'queries': 6244, \"they've\": 6245, 'shot': 6246, 'possessed': 6247, 'expense': 6248, 'somebody': 6249, 'sec': 6250, 'fairly': 6251, 'heroic': 6252, 'audacious': 6253, 'gallant': 6254, 'spirited': 6255, 'ceremony': 6256, 'perennial': 6257, 'biomes': 6258, 'alley': 6259, 'renting': 6260, 'scamper': 6261, 'steadfast': 6262, 'accompanied': 6263, 'indiana': 6264, 'wisconsin': 6265, 'participated': 6266, 'goodness': 6267, 'furnishings': 6268, 'robbers': 6269, 'issued': 6270, 'contraction': 6271, 'glistening': 6272, 'papayas': 6273, 'nerves': 6274, 'con': 6275, 'su': 6276, 'purring': 6277, 'respite': 6278, 'meets': 6279, 'iso': 6280, \"hadn't\": 6281, 'te': 6282, 'wondrous': 6283, 'carp': 6284, 'cielo': 6285, 'azul': 6286, 'sortedslower': 6287, 'spell': 6288, 'glove': 6289, 'begun': 6290, 'storytelling': 6291, 'shield': 6292, 'ear': 6293, 'roaming': 6294, 'abode': 6295, 'lore': 6296, 'vice': 6297, 'senator': 6298, 'crashed': 6299, 'rustic': 6300, 'fix': 6301, 'sculpture': 6302, 'rockets': 6303, 'remembered': 6304, \"women's\": 6305, 'asserted': 6306, 'baker': 6307, 'truck': 6308, 'priced': 6309, 'acme': 6310, 'miraculous': 6311, 'detest': 6312, 'laptops': 6313, 'duration': 6314, 'zephyr': 6315, 'phylum': 6316, 'chordata': 6317, 'calculating': 6318, 'deleting': 6319, 'specified': 6320, 'volunteers': 6321, 'seuss': 6322, 'newly': 6323, 'decoding': 6324, 'normalized': 6325, 'kepler': 6326, 'olympic': 6327, 'minds': 6328, 'potentially': 6329, 'manipulation': 6330, 'calculation': 6331, 'thesis': 6332, 'insertion': 6333, 'horizons': 6334, 'fades': 6335, 'm^s': 6336, 'elections': 6337, 'soothes': 6338, 'dried': 6339, 'supervisor': 6340, 'krishna': 6341, 'bleak': 6342, 'manners': 6343, 'salesperson': 6344, 'outer': 6345, 'wonka': 6346, 'formally': 6347, 'copies': 6348, 'peruse': 6349, 'palms': 6350, 'sweaty': 6351, 'determine': 6352, 'hydroxide': 6353, 'shenzhen': 6354, 'wuhan': 6355, 'commerce': 6356, 'composting': 6357, 'hiring': 6358, 'ensures': 6359, 'cyclone': 6360, 'priceless': 6361, 'pulmonary': 6362, 'pneumonia': 6363, 'sailboat': 6364, 'lover': 6365, 'detergents': 6366, 'haliaeetus': 6367, 'tiredness': 6368, 'heroes': 6369, 'deserves': 6370, 'snapchat': 6371, 'tardily': 6372, 'expressions': 6373, 'injuries': 6374, 'deaths': 6375, 'info': 6376, 'ecosystem': 6377, 'feat': 6378, 'invaluable': 6379, 'keen': 6380, 'muffin': 6381, 'conversational': 6382, 'dydx': 6383, 'employee_name': 6384, 'thread': 6385, 'algeria': 6386, 'smoke': 6387, 'peacock': 6388, 'majors': 6389, 'marseille': 6390, 'lyon': 6391, 'toulouse': 6392, 'scat': 6393, 'hiding': 6394, 'fears': 6395, 'jauntily': 6396, 'broad': 6397, 'discrete': 6398, 'rotation': 6399, 'zorro': 6400, 'dolce': 6401, 'gabbana': 6402, 'versace': 6403, 'worrying': 6404, 'securing': 6405, 'dart': 6406, 'infringing': 6407, 'unbearable': 6408, 'factorization': 6409, 'flavors': 6410, 'nonperishable': 6411, 'buses': 6412, 'asos': 6413, 'topshop': 6414, 'hm': 6415, 'zara': 6416, 'identified': 6417, 'preserve': 6418, 'wisps': 6419, 'stretched': 6420, 'indus': 6421, 'janeiro': 6422, 'persons': 6423, 'secured': 6424, 'cryptography': 6425, 'mashed': 6426, 'therapist': 6427, 'qck': 6428, 'brwn': 6429, 'jmps': 6430, 'lzy': 6431, 'dg': 6432, 'fight': 6433, 'vectors': 6434, 'hungary': 6435, 'absolute': 6436, 'berkeley': 6437, 'lamp': 6438, 'religions': 6439, 'buddhism': 6440, 'nutritional': 6441, 'deficiencies': 6442, 'cans': 6443, 'soleil': 6444, \"'i'\": 6445, 'unexpectedly': 6446, 'personable': 6447, 'deepmind': 6448, 'backbone': 6449, 'floating': 6450, 'pequeño': 6451, 'crosscountry': 6452, 'poorly': 6453, 'printcase': 6454, 'adele': 6455, 'picasso': 6456, 'identifies': 6457, 'sorts': 6458, 'totalmarks': 6459, 'exclaimed': 6460, 'farewell': 6461, 'redundancy': 6462, 'solitude': 6463, 'frideric': 6464, 'handel': 6465, 'antonio': 6466, 'vivaldi': 6467, 'exuberant': 6468, 'hits': 6469, 'carbonic': 6470, 'colonizing': 6471, 'controlled': 6472, 'sputnik': 6473, 'drizzle': 6474, 'gust': 6475, 'coordinating': 6476, 'wschools': 6477, 'coursera': 6478, 'freecodecamp': 6479, 'inputwhat': 6480, 'swaying': 6481, 'differentiation': 6482, 'username': 6483, 'lyrical': 6484, 'origin': 6485, 'veterinarian': 6486, 'nestled': 6487, 'proceeded': 6488, 'endemic': 6489, 'mayan': 6490, \"c'est\": 6491, 'vie': 6492, 'sinking': 6493, 'deliciously': 6494, 'raj': 6495, 'delayed': 6496, 'hazy': 6497, 'bing': 6498, 'engines': 6499, 'exuberance': 6500, 'strife': 6501, 'threatening': 6502, 'unbelievable': 6503, 'prevented': 6504, 'rupee': 6505, 'orlando': 6506, 'grounds': 6507, 'edward': 6508, 'deepest': 6509, 'meticulously': 6510, 'tailored': 6511, 'dating': 6512, 'nevertheless': 6513, 'consequently': 6514, 'zombie': 6515, 'brains': 6516, 'zebras': 6517, 'surveyed': 6518, 'budding': 6519, 'meadows': 6520, 'spray': 6521, 'mow': 6522, 'baffled': 6523, 'curve': 6524, 'aback': 6525, 'cloves': 6526, 'nutmeg': 6527, 'diary': 6528, 'soldier': 6529, 'investigated': 6530, 'eclectic': 6531, 'affable': 6532, 'abound': 6533, 'nonmammals': 6534, 'blend': 6535, 'thrive': 6536, 'fingerprint': 6537, 'replicate': 6538, 'thereby': 6539, 'vessel': 6540, 'rocked': 6541, 'ballerina': 6542, 'allnew': 6543, 'ceci': 6544, 'relying': 6545, 'gentleman': 6546, 'pavement': 6547, 'magazines': 6548, 'birch': 6549, 'rubbed': 6550, 'beckons': 6551, 'posed': 6552, 'unfolds': 6553, 'lays': 6554, 'helpless': 6555, 'quicksand': 6556, \"shakespeare's\": 6557, 'nickels': 6558, 'elation': 6559, 'prioritizing': 6560, 'alcoholic': 6561, 'balls': 6562, 'defeat': 6563, 'yearning': 6564, 'addresses': 6565, 'seagulls': 6566, 'thrill': 6567, 'sweater': 6568, 'bravas': 6569, 'ceiling': 6570, 'lopez': 6571, 'apis': 6572, 'seventyfive': 6573, 'chronological': 6574, 'proposes': 6575, 'on²': 6576, 'availability': 6577, 'linda': 6578, 'textsplit': 6579, 'slogan': 6580, 'systemoutprintlnthe': 6581, 'reversed_sentence': 6582, 'gonna': 6583, 'cellular': 6584, 'biological': 6585, 'obscure': 6586, 'sketch': 6587, 'photoshop': 6588, 'illustrator': 6589, 'scheduling': 6590, 'gusta': 6591, 'drastic': 6592, 'downturn': 6593, 'nparray[]': 6594, 'printc': 6595, 'wars': 6596, 'spots': 6597, 'gothic': 6598, 'politicians': 6599, 'mastered': 6600, 'doublecheck': 6601, 'screens': 6602, 'canvas': 6603, 'printa': 6604, 'predicting': 6605, 'navigated': 6606, 'antoine': 6607, 'administrative': 6608, 'sumx': 6609, 'timeseries': 6610, 'extensive': 6611, 'halfway': 6612, 'canal': 6613, 'protections': 6614, 'backend': 6615, 'photos': 6616, 'identification': 6617, 'wondering': 6618, 'dismayed': 6619, 'unfortunate': 6620, 'reeling': 6621, 'impacting': 6622, 'cupcakes': 6623, 'tarragon': 6624, 'uv': 6625, 'gozaimasu': 6626, 'sqrt': 6627, 'magellan': 6628, 'del': 6629, 'drake': 6630, 'scampered': 6631, 'print_hello_world': 6632, 'asparagus': 6633, 'messi': 6634, 'shiver': 6635, 'literary': 6636, 'notifications': 6637, 'staysafe': 6638, 'awful': 6639, 'tulips': 6640, 'ehr': 6641, 'portal': 6642, 'arrsort': 6643, 'subtract': 6644, 'yemen': 6645, \"trump's\": 6646, 'whisks': 6647, 'spoons': 6648, 'spatulas': 6649, 'boards': 6650, 'pans': 6651, 'clauses': 6652, 'entrepreneurship': 6653, 'mar': 6654, 'unseen': 6655, 'deal': 6656, \"rubik's\": 6657, 'beetle': 6658, 'crave': 6659, '_': 6660, 'unsatisfactory': 6661, 'lift': 6662, 'ophthalmologist': 6663, 'formulated': 6664, 'suspects': 6665, \"'california'\": 6666, 'supreme': 6667, 'angel': 6668, 'removed': 6669, 'phenomena': 6670, 'covalent': 6671, 'revised': 6672, 'festive': 6673, 'pollination': 6674, 'nausea': 6675, 'dizziness': 6676, 'kicks': 6677, \"date'\": 6678, 'calculateprice': 6679, 'employ': 6680, 'priorities': 6681, 'fragrance': 6682, 'reusing': 6683, 'worried': 6684, 'scales': 6685, 'garage': 6686, 'photographs': 6687, 'investigating': 6688, 'astronomers': 6689, 'mon': 6690, 'déjeuner': 6691, 'a*b': 6692, 'angiosperm': 6693, 'deciduous': 6694, 'eliminate': 6695, \"bee's\": 6696, 'monsoon': 6697, 'turquoise': 6698, 'marigold': 6699, 'rambunctious': 6700, 'righteous': 6701, 'punishment': 6702, 'casts': 6703, 'agricultural': 6704, 'machinery': 6705, 'damaging': 6706, 'corp': 6707, 'internship': 6708, 'affects': 6709, 'kilimanjaro': 6710, 'kiwis': 6711, '¥': 6712, 'snowshoeing': 6713, 'reagan': 6714, 'repairs': 6715, 'boring': 6716, 'minimalistic': 6717, 'doll': 6718, 'twoletter': 6719, 'dependence': 6720, 'exponential': 6721, 'swimsuit': 6722, 'salut': 6723, 'repetition': 6724, 'andromeda': 6725, 'healthily': 6726, 'cunning': 6727, 'shrewd': 6728, 'bluetooth': 6729, 'moneysaving': 6730, 'playstation': 6731, 'sheet': 6732, 'vampire': 6733, 'locomotive': 6734, 'eine': 6735, 'bitte': 6736, 'faithful': 6737, 'prompt': 6738, 'maxarr': 6739, 'second_largest': 6740, 'ripples': 6741, 'narrow': 6742, 'kindhearted': 6743, 'lend': 6744, 'shirts': 6745, 'leo': 6746, 'advancing': 6747, 'clicks': 6748, 'cones': 6749, 'warranty': 6750, 'deficient': 6751, 'agitated': 6752, 'exhausting': 6753, 'infographic': 6754, 'semester': 6755, 'prejudice': 6756, 'pulley': 6757, 'inclined': 6758, 'drum': 6759, 'bone': 6760, 'allpurpose': 6761, 'mitchell': 6762, 'fireworks': 6763, 'cheesecake': 6764, 'pastime': 6765, 'ontario': 6766, 'hosted': 6767, 'festival': 6768, 'utmost': 6769, 'kobe': 6770, 'bryant': 6771, 'profile': 6772, 'advised': 6773, 'enclosed': 6774, 'woodrow': 6775, '[i': 6776, 'egyptians': 6777, 'plum': 6778, 'methodical': 6779, 'estate': 6780, 'boom': 6781, 'perro': 6782, 'muy': 6783, 'displaying': 6784, 'framework': 6785, 'expressing': 6786, 'liking': 6787, 'commuters': 6788, 'nicely': 6789, 'noisy': 6790, 'shallow': 6791, 'subjects': 6792, 'consolelogarr': 6793, 'spelled': 6794, 'previous': 6795, 'usb': 6796, 'systemoutprintlnsum': 6797, 'brownies': 6798, 'fontstyle': 6799, 'careened': 6800, 'otay': 6801, 'arthur': 6802, 'residing': 6803, 'credible': 6804, 'ok': 6805, '[e': 6806, 'stick': 6807, 'guidelines': 6808, 'agreed': 6809, 'xp': 6810, 'evol': 6811, 'od': 6812, 'llaes': 6813, 'apache': 6814, 'tensorflow': 6815, 'incentive': 6816, 'bewildered': 6817, 'unveil': 6818, 'requested': 6819, \"else's\": 6820, 'bpm': 6821, 'jaws': 6822, 'trouble': 6823, \"'hello\": 6824, 'attempts': 6825, 'perused': 6826, 'variation': 6827, 'edgy': 6828, 'tiles': 6829, 'incentives': 6830, 'aa': 6831, 'collective': 6832, 'encouragement': 6833, 'smartly': 6834, 'unleashed': 6835, 'nap': 6836, 'vocal': 6837, 'legacy': 6838, 'continues': 6839, 'followers': 6840, 'jokes': 6841, 'bean': 6842, 'sarcastic': 6843, 'overly': 6844, 'consume': 6845, 'reversestring': 6846, 'adept': 6847, 'brighten': 6848, 'remainder': 6849, 'deadlines': 6850, 'watashi': 6851, 'desu': 6852, 'reigns': 6853, 'agreeable': 6854, 'landlord': 6855, 'mixing': 6856, 'romania': 6857, 'saint': 6858, 'stripes': 6859, 'bride': 6860, 'coach': 6861, 'vengeful': 6862, 'ghost': 6863, 'unfinished': 6864, 'bartender': 6865, 'tags': 6866, 'kookaburra': 6867, 'simon': 6868, 'becomes': 6869, 'accessible': 6870, 'weighs': 6871, 'scent': 6872, 'meow': 6873, 'shimmered': 6874, 'teenager': 6875, 'instantly': 6876, 'remind': 6877, 'lucy': 6878, 'seminar': 6879, 'drug': 6880, 'tdtd': 6881, 'aspen': 6882, 'satire': 6883, 'toprated': 6884, 'hotels': 6885, 'monumental': 6886, 'thames': 6887, 'radiation': 6888, 'conversion': 6889, 'warmblooded': 6890, 'tournament': 6891, 'spiderman': 6892, 'leonard': 6893, 'simpler': 6894, 'contrast': 6895, 'shading': 6896, 'stately': 6897, 'intimidating': 6898, 'succeeding': 6899, 'breach': 6900, 'upright': 6901, 'securely': 6902, 'gimp': 6903, 'coworker': 6904, 'chills': 6905, 'sore': 6906, 'excessive': 6907, 'scorsese': 6908, 'directional': 6909, 'overloaded': 6910, 'immune': 6911, 'invaders': 6912, 'younger': 6913, 'molasses': 6914, 'contributes': 6915, 'chatbots': 6916, 'unstructured': 6917, 'manufacturers': 6918, 'fascinated': 6919, 'visits': 6920, 'refuses': 6921, 'promise': 6922, 'fewer': 6923, 'typos': 6924, 'spans': 6925, 'bridges': 6926, 'reddish': 6927, 'evaluating': 6928, 'roc': 6929, 'auc': 6930, 'session': 6931, 'routine': 6932, 'rundown': 6933, 'dilapidated': 6934, 'ipsum': 6935, 'dolor': 6936, 'even_nums': 6937, 'munich': 6938, 'defeated': 6939, 'biology': 6940, 'scrambled': 6941, 'bounty': 6942, 'sleepy': 6943, 'purred': 6944, 'quietly': 6945, 'relocated': 6946, 'conserve': 6947, 'maths': 6948, 'anonymous': 6949, 'essays': 6950, 'trains': 6951, 'strives': 6952, 'thcolumn': 6953, 'ccustomer_id': 6954, 'scustomer_id': 6955, 'blissfully': 6956, 'divisor': 6957, 'jingle': 6958, 'typesubmit': 6959, 'mankind': 6960, 'stdcout': 6961, 'stdendl': 6962, 'interpreted': 6963, 'underlined': 6964, 'infinitive': 6965, 'carbonara': 6966, 'bolognese': 6967, 'collagen': 6968, 'myosin': 6969, 'volcanoes': 6970, 'rippling': 6971, 'ghana': 6972, 'congo': 6973, 'uganda': 6974, 'angola': 6975, 'cacti': 6976, 'agave': 6977, 'joshua': 6978, 'tufted': 6979, 'primroses': 6980, 'rejuvenated': 6981, 'responding': 6982, 'kinds': 6983, 'pigeons': 6984, 'crows': 6985, 'sparrows': 6986, 'enemy': 6987, 'angrily': 6988, 'scoop': 6989, 'melt': 6990, 'quilt': 6991, 'scotland': 6992, 'blankets': 6993, 'thedt': 6994, 'maritime': 6995, 'stringent': 6996, 'restrictions': 6997, 'perils': 6998, 'influencer': 6999, 'shown': 7000, 'rescheduled': 7001, 'striving': 7002, 'flame': 7003, 'obtain': 7004, 'artificialintelligence': 7005, 'consecutive': 7006, 'cardboard': 7007, 'droughts': 7008, 'technician': 7009, 'gardens': 7010, 'redtailed': 7011, 'heron': 7012, 'robin': 7013, 'cardinals': 7014, 'witty': 7015, 'jolly': 7016, 'vous': 7017, 'fuzzy': 7018, 'religious': 7019, \"'blue'\": 7020, 'puzzles': 7021, 'tablets': 7022, 'attentive': 7023, 'googl': 7024, 'sprinting': 7025, 'gliding': 7026, 'leaping': 7027, 'physiological': 7028, 'na': 7029, 'tunisia': 7030, 'await': 7031, 'necessity': 7032, 'equipped': 7033, 'mixer': 7034, 'boolean': 7035, 'clapped': 7036, 'chipmunks': 7037, 'marmots': 7038, 'energetically': 7039, 'blogging': 7040, 'selfesteem': 7041, 'cybersecurity': 7042, 'tapir': 7043, 'strands': 7044, 'taiwan': 7045, 'reptiles': 7046, 'everchanging': 7047, 'bowls': 7048, 'granola': 7049, 'sauntering': 7050, 'alligator': 7051, 'weakness': 7052, 'cue': 7053, 'sting': 7054, 'arises': 7055, 'windy': 7056, 'sait': 7057, 'reserved': 7058, 'cautious': 7059, 'exasperated': 7060, 'aprender': 7061, 'adidas': 7062, 'melodies': 7063, 'phello': 7064, 'worldp': 7065, 'documentp': 7066, 'coniferous': 7067, 'balaenoptera': 7068, 'musculus': 7069, 'paragraphs': 7070, 'supplement': 7071, 'rollout': 7072, 'empowerment': 7073, 'analyzed': 7074, 'frameworks': 7075, \"day's\": 7076, 'yearold': 7077, 'exemplary': 7078, 'unfold': 7079, 'shattered': 7080, 'fragments': 7081, 'ambitions': 7082, 'irritable': 7083, 'convert': 7084, 'él': 7085, 'veces': 7086, 'twist': 7087, 'hurriedly': 7088, 'lenovo': 7089, 'amazoncom': 7090, 'cultivate': 7091, 'infection': 7092, 'malaria': 7093, 'scare': 7094, 'retrieved': 7095, 'shortly': 7096, 'somber': 7097, 'meryl': 7098, 'streep': 7099, 'suspenseful': 7100, 'extinguisher': 7101, 'healing': 7102, 'personality': 7103, 'depressed': 7104, 'exhilarated': 7105, 'styles': 7106, 'apa': 7107, 'paperback': 7108, 'expandable': 7109, 'hangs': 7110, 'pomegranates': 7111, 'karen': 7112, 'coyote': 7113, 'lax': 7114, 'inevitable': 7115, 'ant': 7116, 'add_numbersab': 7117, 'involving': 7118, 'windowsill': 7119, 'relevance': 7120, 'invalid': 7121, 'bravely': 7122, 'neil': 7123, 'legendary': 7124, 'sapporo': 7125, 'hare': 7126, 'competent': 7127, 'decisive': 7128, 'proactive': 7129, 'f]': 7130, 'hoarded': 7131, 'coppola': 7132, 'withdrawal': 7133, 'lockdown': 7134, 'indoors': 7135, 'velvet': 7136, 'longlasting': 7137, 'badminton': 7138, 'kabaddi': 7139, 'hypernym': 7140, 'actively': 7141, 'rhyming': 7142, 'ralph': 7143, 'favorable': 7144, 'gmail': 7145, 'invasive': 7146, 'carmen': 7147, 'siblings': 7148, 'lab': 7149, 'glowing': 7150, 'harness': 7151, 'worklife': 7152, 'aienabled': 7153, 'hospitality': 7154, 'rex': 7155, 'katharine': 7156, 'hepburn': 7157, 'canines': 7158, 'world”': 7159, 'backdrop': 7160, 'handed': 7161, 'positively': 7162, 'sleeps': 7163, 'cleanenergy': 7164, 'tortoise': 7165, 'devil': 7166, 'kayak': 7167, 'sunflowers': 7168, 'bamboo': 7169, 'containers': 7170, 'freezer': 7171, 'realization': 7172, 'indepth': 7173, 'vertebrates': 7174, 'cosmos': 7175, 'bookshelf': 7176, 'aretha': 7177, 'inferno': 7178, 'teresa': 7179, 'devoted': 7180, 'demonstrates': 7181, 'tourists': 7182, 'kim': 7183, 'demonstrate': 7184, 'rage': 7185, 'donates': 7186, 'shaking': 7187, 'terror': 7188, 'a[i][j]': 7189, 'impressionist': 7190, 'surrealist': 7191, 'arguing': 7192, 'relentlessly': 7193, 'shell': 7194, 'diligently': 7195, 'jessie': 7196, 'warnings': 7197, 'undisturbed': 7198, 'terrier': 7199, 'buckwheat': 7200, 'marketers': 7201, 'entrepreneurs': 7202, 'annoyance': 7203, 'ion': 7204, 'ben': 7205, \"paul's\": 7206, 'buckingham': 7207, 'mistreated': 7208, 'disneyland': 7209, 'bullfrogs': 7210, 'searched': 7211, 'pipe': 7212, 'malta': 7213, 'mastering': 7214, 'smartphones': 7215, 'ferocious': 7216, 'breadth': 7217, 'ages': 7218, 'spatula': 7219, 'rhymes': 7220, 'boutique': 7221, 'scholarly': 7222, 'deli': 7223, \"'los\": 7224, \"angeles'\": 7225, 'worthwhile': 7226, 'percussion': 7227, 'clash': 7228, 'disagreed': 7229, 'contribution': 7230, 'innovate': 7231, 'antonyms': 7232, 'atop': 7233, 'pathways': 7234, 'todo': 7235, 'lo': 7236, 'alltime': 7237, 'hheadingh': 7238, 'hsubheadingh': 7239, 'output_string': 7240, 'phillips': 7241, 'ciel': 7242, 'bleu': 7243, 'contents': 7244, 'ethics': 7245, 'comprises': 7246, 'tellurium': 7247, 'generated_number': 7248, 'roundnum': 7249, 'mixture': 7250, 'buttercup': 7251, 'wool': 7252, 'patients': 7253, 'austen': 7254, 'marigolds': 7255, 'annuals': 7256, 'caterpillar': 7257, 'witnessed': 7258, 'lacrosse': 7259, 'suite': 7260, 'rusting': 7261, \"print'*'\": 7262, 'shortage': 7263, \"'no'\": 7264, 'prescribed': 7265, 'medications': 7266, 'erg': 7267, 'energyefficient': 7268, 'retrieve': 7269, 'polka': 7270, 'dots': 7271, 'wardrobe': 7272, 'banksy': 7273, 'yayoi': 7274, 'kusama': 7275, 'walker': 7276, 'jenny': 7277, 'analogy': 7278, '√': 7279, 'pairs': 7280, 'keri': 7281, 'hilson': 7282, 'peptide': 7283, 'mainland': 7284, 'somalia': 7285, 'haiti': 7286, 'bookkeeping': 7287, 'ethylene': 7288, 'guinea': 7289, 'fluttering': 7290, \"mary's\": 7291, 'arrayname': 7292, 'mist': 7293, 'evenings': 7294, 'tag': 7295, 'instance': 7296, 'snaking': 7297, 'x**': 7298, 'scanning': 7299, 'teriyaki': 7300, 'decorated': 7301, 'nightmare': 7302, 'forgetting': 7303, 'expand': 7304, 'meilleur': 7305, 'hugged': 7306, 'interfaces': 7307, 'produced': 7308, 'rosebush': 7309, 'tulip': 7310, 'dishonest': 7311, 'rosa': 7312, 'anthony': 7313, 'remained': 7314, 'prototyping': 7315, 'chatbot': 7316, 'waking': 7317, 'topnotch': 7318, 'visitors': 7319, 'rhinos': 7320, 'actress': 7321, 'vocabulary': 7322, 'effervescent': 7323, 'parker': 7324, 'des': 7325, 'hollow': 7326, 'equitable': 7327, 'nutritious': 7328, 'kicked': 7329, 'scarlet': 7330, 'vermillion': 7331, 'frances': 7332, 'toss': 7333, 'boil': 7334, 'chilli': 7335, 'murky': 7336, 'creator': 7337, 'iarraylength': 7338, 'fennec': 7339, 'hypertext': 7340, 'customerid': 7341, 'temp_in_celsius': 7342, 'bookspublish_year': 7343, 'swirling': 7344, 'donald': 7345, 'hierarchy': 7346, 'trails': 7347, 'avoiding': 7348, 'hex': 7349, 'tertiary': 7350, 'keeping': 7351, 'surgical': 7352, 'lesion': 7353, 'rhetorical': 7354, 'revel': 7355, 'fontweight': 7356, \"'john\": 7357, \"doe'\": 7358, 'date_of_birth': 7359, 'corners': 7360, 'som': 7361, 'examination': 7362, 'img': 7363, 'utilize': 7364, 'assess': 7365, 'sciences': 7366, \"shouldn't\": 7367, 'dread': 7368, \"union's\": 7369, 'proposed': 7370, 'packaging': 7371, 'alberta': 7372, 'refreshment': 7373, 'lifting': 7374, 'holes': 7375, 'pushed': 7376, 'reflective': 7377, 'parked': 7378, 'hire': 7379, 'detrimental': 7380, 'compete': 7381, 'poodles': 7382, 'collies': 7383, 'labradors': 7384, 'exceedingly': 7385, '[word': 7386, 'credited': 7387, 'agitation': 7388, 'backyard': 7389, 'nutrients': 7390, 'alongside': 7391, 'rosalind': 7392, 'valencia': 7393, 'viewer': 7394, 'bargaining': 7395, 'mi': 7396, \"'open\": 7397, \"sans'\": 7398, 'ffffff': 7399, '[brand]': 7400, 'meme': 7401, 'wristwatch': 7402, 'selfdiscovery': 7403, \"king's\": 7404, 'elizabeth': 7405, 'thou': 7406, 'virgil': 7407, 'twofactor': 7408, 'passersby': 7409, 'marvelous': 7410, 'limitless': 7411, 'thorns': 7412, 'lurking': 7413, 'blazer': 7414, 'rearranged': 7415, 'oxfam': 7416, 'macaws': 7417, 'convenient': 7418, 'plums': 7419, 'raven': 7420, 'onomatopoeia': 7421, 'illegal': 7422, 'bioluminescent': 7423, 'renaissance': 7424, 'karaoke': 7425, 'recorded': 7426, 'critically': 7427, 'qualitative': 7428, 'thundering': 7429, 'eerie': 7430, 'qa': 7431, 'antivirus': 7432, 'jose': 7433, \"sorcerer's\": 7434, 'xaxis': 7435, 'abcdefghijklmnopqrstuvwxyz': 7436, 'visuals': 7437, 'claude': 7438, 'monet': 7439, 'margaret': 7440, 'atwood': 7441, \"handmaid's\": 7442, 'winner': 7443, 'runon': 7444, 'wrench': 7445, \"'g'\": 7446, 'boosts': 7447, 'insert': 7448, 'result_arr': 7449, 'preindustrial': 7450, 'portion': 7451, 'lined': 7452, 'tardy': 7453, 'charm': 7454, 'flock': 7455, 'pork': 7456, 'chimichurri': 7457, 'brazilian': 7458, 'heaviest': 7459, 'lightest': 7460, 'xbox': 7461, 'wasting': 7462, 'unwell': 7463, 'gadgets': 7464, 'malala': 7465, 'yousafzai': 7466, 'angela': 7467, 'merkel': 7468, 'highend': 7469, 'alerts': 7470, 'declares': 7471, 'expertise': 7472, 'meanwhile': 7473, 'recording': 7474, 'frontend': 7475, 'ux': 7476, \"girl's\": 7477, 'knew': 7478, 'fiddle': 7479, 'howled': 7480, 'fatigued': 7481, 'pains': 7482, 'aardvarks': 7483, 'peck': 7484, 'biting': 7485, 'caustic': 7486, 'cardamom': 7487, 'papers': 7488, 'extroverted': 7489, 'silk': 7490, 'scarf': 7491, 'ursidae': 7492, 'equidae': 7493, 'cocoa': 7494, 'nonmaterial': 7495, 'columbia': 7496, 'smiling': 7497, '€': 7498, 'us$': 7499, 'pleasurable': 7500, 'mesopotamian': 7501, 'animation': 7502, 'shuffled_deck': 7503, 'lendeck': 7504, 'mandarin': 7505, 'speakers': 7506, 'aquarium': 7507, 'representative': 7508, 'hallway': 7509, 'lady': 7510, 'hacker': 7511, 'celebrities': 7512, 'resigned': 7513, 'scatter': 7514, 'carried': 7515, '$width': 7516, '$area': 7517, 'apricots': 7518, 'laying': 7519, 'delay': 7520, 'crossed': 7521, 'viola': 7522, 'cello': 7523, 'bass': 7524, 'grill': 7525, 'mathematician': 7526, 'qualifications': 7527, 'useless': 7528, 'dakota': 7529, 'hasten': 7530, \"'go'\": 7531, 'labels': 7532, 'arial': 7533, 'usual': 7534, 'pamyu': 7535, 'spends': 7536, 'homophone': 7537, 'instill': 7538, 'discuss': 7539, 'yesno': 7540, 'collecting': 7541, 'melbourne': 7542, 'bioenergy': 7543, 'animate': 7544, \"microsoft's\": 7545, 'loading': 7546, 'panels': 7547, 'ir': 7548, 'sobre': 7549, 'verse': 7550, 'donkey': 7551, \"intelligence'\": 7552, 'approval': 7553, 'groundbreaking': 7554, 'fascinating': 7555, 'octogenarian': 7556, 'sites': 7557, 'cedar': 7558, 'imperial': 7559, 'apparent': 7560, 'embedded': 7561, \"joe's\": 7562, 'banner': 7563, 'denver': 7564, 'investigation': 7565, 'turbulent': 7566, 'trudeau': 7567, 'admired': 7568, 'superb': 7569, 'admire': 7570, 'vendors': 7571, 'outgoing': 7572, 'housing': 7573, 'vaccines': 7574, 'scream': 7575, 'gesture': 7576, 'binnum': 7577, 'organizational': 7578, 'estonia': 7579, 'hummingbirds': 7580, 'cheeses': 7581, 'expert': 7582, 'encounter': 7583, 'docs': 7584, 'biometrics': 7585, 'demonstrative': 7586, 'painter': 7587, 'scratch': 7588, 'sole': 7589, 'humming': 7590, 'installations': 7591, 'hp': 7592, 'nets': 7593, 'dictatorship': 7594, 'occuring': 7595, \"'male'\": 7596, 'factored': 7597, 'companionship': 7598, 'womack': 7599, 'needle': 7600, 'cakes': 7601, 'suggesting': 7602, 'animated': 7603, 'sailing': 7604, 'stadium': 7605, 'unfamiliar': 7606, \"ain't\": 7607, 'beaches': 7608, 'heritage': 7609, 'amphibian': 7610, 'drew': 7611, 'reykjavik': 7612, 'reunited': 7613, 'avid': 7614, 'appetite': 7615, 'utensil': 7616, 'subtropical': 7617, 'simplicity': 7618, 'apprehended': 7619, 'conveniently': 7620, \"'but'\": 7621, 'tuberculosis': 7622, \"parents'\": 7623, \"print'the\": 7624, 'enrolled': 7625, 'honors': 7626, 'amelie': 7627, 'sweat': 7628, 'datetime': 7629, 'starter': 7630, 'compass': 7631, 'initiatives': 7632, 'acrylic': 7633, 'desks': 7634, \"store's\": 7635, 'encourages': 7636, 'pointer': 7637, 'reform': 7638, 'dhaka': 7639, 'groom': 7640, 'flies': 7641, 'paragraphp': 7642, 'anew': 7643, 'postman': 7644, 'vladimir': 7645, 'putin': 7646, 'lennon': 7647, 'mccartney': 7648, 'ringo': 7649, 'pete': 7650, 'imagery': 7651, 'ribbon': 7652, 'confirmed': 7653, 'globally': 7654, 'operator': 7655, 'conjugation': 7656, 'printstring': 7657, 'printthis': 7658, 'motherboard': 7659, 'helloworld': 7660, 'kyoto': 7661, 'bangalore': 7662, '__name__': 7663, \"'__main__'\": 7664, 'hemisphere': 7665, 'imdb': 7666, 'esta': 7667, 'pandas': 7668, 'departed': 7669, 'hulk': 7670, 'tape': 7671, 'whispers': 7672, 'zerosum': 7673, 'person’s': 7674, 'reveal': 7675, 'patriotism': 7676, 'starling': 7677, 'withstand': 7678, \"mother's\": 7679, 'date_signed_up': 7680, 'date_subcurdate': 7681, 'constance': 7682, 'paints': 7683, 'everflowing': 7684, 'dependable': 7685, 'glaciers': 7686, 'emphasizing': 7687, 'glided': 7688, 'froze': 7689, 'coastline': 7690, 'molly': 7691, 'fulltime': 7692, \"'apple'\": 7693, 'inconvenience': 7694, 'shipping': 7695, 'carrier': 7696, 'turkeys': 7697, 'iraq': 7698, 'rembrandt': 7699, 'caravaggio': 7700, 'chords': 7701, 'celtics': 7702, 'beer': 7703, 'split': 7704, 'unfriendly': 7705, 'brief': 7706, 'possessions': 7707, 'radio': 7708, 'pal': 7709, 'hydroelectric': 7710, 'bisector': 7711, 'methanol': 7712, 'hexane': 7713, 'ridden': 7714, 'summertime': 7715, 'stirring': 7716, 'rudyard': 7717, 'kipling': 7718, 'healthful': 7719, 'exoplanet': 7720, 'arkansas': 7721, 'rhode': 7722, 'hampshire': 7723, 'foramen': 7724, 'appeared': 7725, 'volatility': 7726, 'cluttered': 7727, 'pancake': 7728, 'timestamp': 7729, 'fueled': 7730, 'embarked': 7731, 'listsort': 7732, 'substring': 7733, 'πr': 7734, 'appearances': 7735, 'proboscidea': 7736, 'horns': 7737, 'confront': 7738, 'balboa': 7739, 'ukraine': 7740, 'housekeeper': 7741, 'enveloping': 7742, 'patch': 7743, 'typhoid': 7744, 'enthusiastically': 7745, 'reforms': 7746, 'glimmering': 7747, 'croissants': 7748, 'continual': 7749, 'xx': 7750, 'wordslength': 7751, 'str_split$str': 7752, 'programmed': 7753, \"summer's\": 7754, 'hydration': 7755, 'kaggle': 7756, 'bmi': 7757, 'turkish': 7758, 'serves': 7759, 'prospects': 7760, 'honeydew': 7761, 'tablename': 7762, 'remote': 7763, 'forlet': 7764, 'urls': 7765, 'edgar': 7766, 'allen': 7767, 'poe': 7768, 'unlatched': 7769, 'shakes': 7770, \"print'i\": 7771, \"coding'\": 7772, 'priyanka': 7773, 'chopra': 7774, 'hotter': 7775, 'shrew': 7776, 'lounged': 7777, 'liver': 7778, 'kidneys': 7779, 'julia': 7780, 'roberts': 7781, 'lb': 7782, 'hamburgers': 7783, 'git': 7784, 'fighting': 7785, 'nachos': 7786, 'rescued': 7787, 'predicament': 7788, 'avian': 7789, 'laid': 7790, 'intersection': 7791, 'notice': 7792, 're': 7793, 'swinging': 7794, 'chilly': 7795, 'clinique': 7796, 'textalign': 7797, 'annually': 7798, 'footage': 7799, 'worldometer': 7800, 'oz': 7801, 'slippery': 7802, 'advances': 7803, 'enabling': 7804, 'bookstore': 7805, 'ferns': 7806, 'motorcycles': 7807, 'demanding': 7808, 'laborious': 7809, 'stiff': 7810, 'taxing': 7811, 'printnumbers': 7812, 'sin': 7813, 'summarize': 7814, 'moderate': 7815, 'r²π': 7816, 'openai': 7817, 'apartment': 7818, 'contexts': 7819, 'dietary': 7820, 'logistics': 7821, 'analysts': 7822, 'volga': 7823, 'andrew': 7824, 'produces': 7825, 'giggle': 7826, 'kotlin': 7827, 'habitats': 7828, 'threats': 7829, 'musician': 7830, 'enigmatic': 7831, 'encyclopedia': 7832, 'kate': 7833, '÷': 7834, 'incorporate': 7835, 'cod': 7836, 'trout': 7837, 'separates': 7838, 'mantle': 7839, 'submitted': 7840, 'climatechange': 7841, 'serenade': 7842, 'roasting': 7843, 'bonfire': 7844, 'evaluate': 7845, 'download': 7846, 'ich': 7847, 'woodwind': 7848, 'adapt': 7849, 'unprepared': 7850, 'xml': 7851, 'pwelcome': 7852, 'print_largest_numberarray': 7853, 'assumption': 7854, 'conditional': 7855, '[product': 7856, 'unpredictability': 7857, 'seaside': 7858, 'injustice': 7859, 'spewed': 7860, 'overlooking': 7861, 'skateboard': 7862, 'cooker': 7863, 'sherlock': 7864, 'fervor': 7865, 'johnsmith': 7866, 'flesh': 7867, 'deepening': 7868, 'outlines': 7869, 'collapsed': 7870, 'bacterial': 7871, 'whooping': 7872, 'cough': 7873, 'attracts': 7874, 'titled': 7875, 'irritating': 7876, 'drained': 7877, 'borderradius': 7878, 'rev': 7879, 'rejoice': 7880, 'savor': 7881, 'learnt': 7882, 'fettuccine': 7883, 'barnes': 7884, 'fulfill': 7885, 'vitality': 7886, 'blow': 7887, 'lightyears': 7888, 'depthfirst': 7889, 'a*': 7890, 'este': 7891, 'tales': 7892, 'bodies': 7893, 'seo': 7894, 'teapot': 7895, 'datasets': 7896, 'enduring': 7897, 'shadow': 7898, 'televisions': 7899, 'wisdom': 7900, 'surfboard': 7901, 'greeted': 7902, 'warmly': 7903, 'engrossing': 7904, 'chars': 7905, 'louder': 7906, 'determinant': 7907, 'zodiac': 7908, 'breathtakingly': 7909, 'cuddly': 7910, 'lazily': 7911, 'agility': 7912, 'boosted': 7913, 'muscle': 7914, 'acacia': 7915, 'considering': 7916, 'helplessness': 7917, '[name]': 7918, '[city]': 7919, 'supports': 7920, 'leveraging': 7921, 'processors': 7922, 'drought': 7923, 'futility': 7924, 'uselessness': 7925, 'hopelessness': 7926, 'rear': 7927, 'unlocks': 7928, 'wrapping': 7929, 'beside': 7930, 'herbs': 7931, 'succulents': 7932, 'daisies': 7933, 'petunias': 7934, 'string_length': 7935, 'documentsmusic': 7936, 'directory': 7937, 'pushups': 7938, 'claim': 7939, 'illogical': 7940, 'surfing': 7941, 'kgs': 7942, 'enchanted': 7943, 'theodore': 7944, 'ill': 7945, 'front': 7946, 'shake': 7947, 'dónde': 7948, \"'height'\": 7949, 'museums': 7950, 'obscuring': 7951, 'edamame': 7952, 'disbelief': 7953, 'consequence': 7954, 'attractive': 7955, 'contemplative': 7956, 'serenely': 7957, 'europa': 7958, 'parttime': 7959, 'total_price': 7960, 'astonishing': 7961, 'cane': 7962, 'sumarrayarr': 7963, 'prevail': 7964, 'pharmacies': 7965, 'retailers': 7966, 'anymore': 7967, 'northwest': 7968, 'rationale': 7969, 'larry': 7970, 'extinguish': 7971, 'flex': 7972, 'crud': 7973, 'li': 7974, 'sweeping': 7975, 'beacon': 7976, 'holden': 7977, 'com': 7978, 'org': 7979, 'talks': 7980, 'guarding': 7981, 'lithium': 7982, 'beryllium': 7983, 'tightrope': 7984, 'toyota': 7985, 'unnecessary': 7986, 'aloe': 7987, 'vera': 7988, 'cactus': 7989, 'blank': 7990, 'awarded': 7991, 'metric': 7992, 'mainstring[]': 7993, 'args': 7994, 'dans': 7995, 'rustle': 7996, 'tener': 7997, 'dispute': 7998, 'continental': 7999, 'characterized': 8000, 'phantom': 8001, 'hamilton': 8002, 'wicked': 8003, 'hansen': 8004, 'swiss': 8005, 'birdwatching': 8006, 'identifying': 8007, 'cordial': 8008, 'welcoming': 8009, 'pitched': 8010, 'operate': 8011, 'binomial': 8012, 'nomenclature': 8013, 'mustang': 8014, 'libro': 8015, 'autoimmune': 8016, 'cystic': 8017, 'fibrosis': 8018, 'woolly': 8019, 'neverending': 8020, 'year_of_release': 8021, 'dismal': 8022, 'splash': 8023, 'dad': 8024, 'unpleasant': 8025, 'allergens': 8026, 'polls': 8027, 'automotive': 8028, 'achieves': 8029, 'domingo': 8030, 'admiration': 8031, 'snowcapped': 8032, 'negotiations': 8033, 'worm': 8034, 'brass': 8035, 'topped': 8036, 'bobby': 8037, 'understandable': 8038, 'westminster': 8039, 'defeating': 8040, 'shorts': 8041, 'stones': 8042, 'awaiting': 8043, 'residential': 8044, 'fond': 8045, 'somewhat': 8046, 'inexpensive': 8047, 'existed': 8048, 'saffron': 8049, 'maize': 8050, 'dandelion': 8051, 'cheery': 8052, 'canary': 8053, 'lemonade': 8054, 'initiative': 8055, 'phenomenal': 8056, 'temp_fahrenheit': 8057, 'hall': 8058, 'gerund': 8059, 'chameleon': 8060, 'recurrent': 8061, 'powell': 8062, 'toothpaste': 8063, 'días': 8064, 'kathy': 8065, 'bathroom': 8066, 'pleased': 8067, 'illness': 8068, 'lung': 8069, 'asthma': 8070, 'drab': 8071, 'hers': 8072, 'countdown': 8073, 'flooding': 8074, 'crowned': 8075, 'champion': 8076, 'customization': 8077, 'gpa': 8078, 'captivity': 8079, 'insufficient': 8080, 'ventilation': 8081, 'khan': 8082, 'parallel': 8083, 'simplify': 8084, 'magnetic': 8085, 'imaging': 8086, 'breeds': 8087, 'bromeliads': 8088, 'hydrated': 8089, \"print'x\": 8090, \"y'\": 8091, 'airline': 8092, 'inventive': 8093, 'himalayas': 8094, 'accessory': 8095, 'fetch': 8096, 'hub': 8097, 'portability': 8098, 'bce': 8099, 'bestselling': 8100, 'lymphoma': 8101, 'ella': 8102, 'vociferously': 8103, 'cries': 8104, 'disadvantages': 8105, 'buffalo': 8106, 'reign': 8107, 'hamster': 8108, 'mollusk': 8109, 'custom': 8110, 'productnum': 8111, 'night’s': 8112, 'uptown': 8113, 'ronson': 8114, 'blaze': 8115, 'calmly': 8116, 'repeating': 8117, 'm²': 8118, 'experiencing': 8119, 'enlisted': 8120, 'cabinet': 8121, 'wandering': 8122, 'ink': 8123, 'conservative': 8124, 'lean': 8125, 'fats': 8126, 'avatar': 8127, 'farreaching': 8128, 'congratulations': 8129, 'storebought': 8130, 'infections': 8131, 'lifelong': 8132, 'lengthy': 8133, 'tamales': 8134, 'pozole': 8135, 'chilaquiles': 8136, 'sail': 8137, 'compelling': 8138, 'aerobic': 8139, 'printitem': 8140, 'escherichia': 8141, 'coli': 8142, 'pneumoniae': 8143, 'yields': 8144, 'acquire': 8145, 'indulged': 8146, 'fundraising': 8147, 'professionals': 8148, 'von': 8149, 'dennis': 8150, 'gleeful': 8151, 'shawn': 8152, 'mendes': 8153, 'creams': 8154, 'uprising': 8155, 'bernerslee': 8156, 'linus': 8157, 'advancement': 8158, 'pothos': 8159, 'bemused': 8160, 'specializes': 8161, 'sitcom': 8162, 'nvidia': 8163, 'relating': 8164, 'drawn': 8165, 'gazed': 8166, 'petrol': 8167, 'presidents': 8168, 'greed': 8169, 'admiring': 8170, 'honduras': 8171, 'microorganisms': 8172, 'porcupines': 8173, 'macbeth': 8174, 'heaven': 8175, 'rhombus': 8176, 'sumquantity': 8177, 'wallpaper': 8178, 'charger': 8179, 'bison': 8180, 'array_sumarr': 8181, 'syrup': 8182, 'printit': 8183, 'stacks': 8184, 'queues': 8185, 'desperate': 8186, 'brushstrokes': 8187, 'doubts': 8188, 'herbal': 8189, 'intake': 8190, 'milligrams': 8191, 'scikitlearn': 8192, 'hong': 8193, 'macau': 8194, 'faire': 8195, 'artistic': 8196, 'moist': 8197, 'soared': 8198, 'fountain': 8199, 'espresso': 8200, 'cupcake': 8201, 'troy': 8202, 'older': 8203, 'unity': 8204, 'togetherness': 8205, 'terminate': 8206, 'bungee': 8207, 'clam': 8208, 'printthe': 8209, 'insider': 8210, 'goggles': 8211, 'pale': 8212, 'cousin': 8213, 'caution': 8214, 'limits': 8215, 'adaptable': 8216, 'ties': 8217, 'rhinoceroses': 8218, 'destructive': 8219, 'sixthlargest': 8220, 'wordpress': 8221, 'como': 8222, 'res': 8223, 'encountered': 8224, 'suspicion': 8225, 'chaotic': 8226, 'fuji': 8227, 'honeycrisp': 8228, 'whispering': 8229, \"'dog'\": 8230, 'fork': 8231, 'siberian': 8232, 'openly': 8233, 'brussel': 8234, 'sprouts': 8235, 'takoyaki': 8236, 'timberlake': 8237, 'thanksgiving': 8238, 'routines': 8239, 'puppies': 8240, 'labour': 8241, 'container': 8242, 'precious': 8243, 'intellect': 8244, 'sharks': 8245, '―': 8246, 'superintendent': 8247, 'bolted': 8248, 'remembering': 8249, 'logically': 8250, 'basalt': 8251, 'deficit': 8252, 'adhd': 8253, \"students'\": 8254, 'textbooks': 8255, 'behaviorism': 8256, 'apathy': 8257, 'pole': 8258, 'fortunate': 8259, 'boxer': 8260, 'printusername': 8261, 'goldfish': 8262, 'cliff': 8263, 'junk': 8264, 'smoothie': 8265, 'chia': 8266, 'headline': 8267, 'tempestuous': 8268, 'gradient': 8269, 'vatican': 8270, 'britain': 8271, 'exotic': 8272, 'netherland': 8273, 'superlative': 8274, 'mondays': 8275, 'tasted': 8276, 'formulate': 8277, \"lion's\": 8278, 'denied': 8279, 'metropolis': 8280, 'reproduce': 8281, 'meiji': 8282, 'shrine': 8283, 'pudding': 8284, 'sporty': 8285, 'improves': 8286, 'enhances': 8287, 'bouncy': 8288, 'cs': 8289, 'gifts': 8290, 'gripping': 8291, 'trombone': 8292, 'pastry': 8293, 'responsibly': 8294, 'landlocked': 8295, 'longevity': 8296, 'tanzania': 8297, 'sudan': 8298, 'slate': 8299, 'ravenous': 8300, 'highlevel': 8301, 'workstation': 8302, 'oracle': 8303, 'proprietary': 8304, 'bulls': 8305, 'uranium': 8306, 'kitten': 8307, 'devise': 8308, 'effectiveness': 8309, 'chlorophyll': 8310, 'hobby': 8311, 'scandal': 8312, 'screw': 8313, 'replacement': 8314, 'anniversary': 8315, 'precariously': 8316, 'dock': 8317, 'lows': 8318, \"salinger's\": 8319, '[date]': 8320, 'catching': 8321, 'kho': 8322, 'webapp': 8323, 'webco': 8324, 'tumbling': 8325, 'puedo': 8326, 'shrub': 8327, 'shopify': 8328, 'magento': 8329, 'applied': 8330, 'julie': 8331, 'isbn': 8332, 'flabbergasted': 8333, 'teaspoon': 8334, 'shovel': 8335, 'florence': 8336, 'orangecolored': 8337, 'flipping': 8338, 'sao': 8339, 'arr[j]': 8340, 'deeply': 8341, 'printincorrect': 8342, 'is_married': 8343, 'findings': 8344, 'skillfully': 8345, 'accidentally': 8346, 'mentalhealth': 8347, 'lifts': 8348, 'jewish': 8349, 'fowl': 8350, 'beholder': 8351, 'fabricate': 8352, 'nocturnal': 8353, 'fondness': 8354, 'serif': 8355, 'shades': 8356, 'xxxx': 8357, 'apt': 8358, 'pagep': 8359, 'extended': 8360, 'gregarious': 8361, 'siddhartha': 8362, 'picnicking': 8363, 'stamp': 8364, 'ought': 8365, 'sonia': 8366, 'goalkeeper': 8367, \"city's\": 8368, \"other's\": 8369, 'takeaway': 8370, \"flower's\": 8371, 'latin': 8372, 'nonphysical': 8373, 'tears': 8374, 'contradictory': 8375, 'introduces': 8376, 'bots': 8377, 'sugary': 8378, 'horn': 8379, 'raising': 8380, 'converting': 8381, 'chevrolet': 8382, 'metals': 8383, 'ferrari': 8384, 'idaho': 8385, 'keanu': 8386, 'reeves': 8387, 'rough': 8388, 'frustrating': 8389, 'rainforests': 8390, 'shame': 8391, 'crackers': 8392, 'meowing': 8393, 'hissing': 8394, \"'orange'\": 8395, 'graphs': 8396, 'whipped': 8397, 'undoubtedly': 8398, 'oceanic': 8399, '__init__self': 8400, 'solarpowered': 8401, 'aibased': 8402, 'carnivorous': 8403, 'adaptation': 8404, 'benjamin': 8405, 'beers': 8406, 'substances': 8407, 'dabble': 8408, 'terrestrial': 8409, 'surveys': 8410, 'highlighted': 8411, 'qualified': 8412, 'oceanize': 8413, 'oceanography': 8414, 'prp': 8415, 'nns': 8416, 'senate': 8417, 'customize': 8418, \"accountant's\": 8419, 'tooth': 8420, 'trilogy': 8421, 'touches': 8422, 'nutty': 8423, 'gandalf': 8424, 'rooted': 8425, 'eligible': 8426, 'rounded': 8427, 'lambs': 8428, 'columbus': 8429, 'villa': 8430, 'acted': 8431, 'customersid': 8432, 'worker': 8433, 'tx': 8434, 'composition': 8435, 'steaming': 8436, 'dt': 8437, 'vida': 8438, 'sumsales_amount': 8439, 'ballet': 8440, 'bending': 8441, 'mexican': 8442, 'sichuan': 8443, 'rake': 8444, 'requests': 8445, 'requestsgeturl': 8446, 'ranges': 8447, 'syndrome': 8448, 'assign': 8449, 'fin': 8450, 'newfound': 8451, 'oneself': 8452, 'b²': 8453, 'oxide': 8454, 'ganges': 8455, 'pupils': 8456, 'exchanging': 8457, 'a^': 8458, 'officer': 8459, 'colosseum': 8460, 'pantheon': 8461, 'zealand': 8462, 'microwave': 8463, 'totalamount': 8464, 'eurasian': 8465, 'friedrich': 8466, '“that': 8467, 'halloween': 8468, 'batter': 8469, 'toad': 8470, 'mm': 8471, 'fireflies': 8472, 'disposable': 8473, 'lovely': 8474, 'physician': 8475, 'badger': 8476, 'headingh': 8477, 'heresy': 8478, 'poems': 8479, 'ing': 8480, 'former': 8481, 'antibiotics': 8482, 'siamese': 8483, 'coon': 8484, 'fig': 8485, 'directed': 8486, 'rows': 8487, 'exhibition': 8488, 'occur': 8489, '“this': 8490, 'filtering': 8491, 'cleopatra': 8492, 'inception': 8493, 'juno': 8494, 'absorption': 8495, 'vest': 8496, 'interconnected': 8497, 'monroe': 8498, \"users'\": 8499, 'harbour': 8500, 'bricks': 8501, 'nba': 8502, 'warriors': 8503, 'printwelcome': 8504, 'drastically': 8505, 'frankenstein': 8506, 'shelley': 8507, 'hopping': 8508, 'editors': 8509, 'psycho': 8510, 'widened': 8511, 'foggy': 8512, 'shy': 8513, 'periodically': 8514, 'semicolon': 8515, 'insulators': 8516, 'viewers': 8517, 'confidently': 8518, 'trova': 8519, 'marriage': 8520, 'barn': 8521, 'specialized': 8522, 'capricious': 8523, 'sally': 8524, 'realm': 8525, 'charsetutf': 8526, 'malevolent': 8527, 'sings': 8528, 'readers': 8529, 'graphical': 8530, 'looping': 8531, 'lars': 8532, 'intention': 8533, 'discounted_price': 8534, \"ocean's\": 8535, 'predictions': 8536, 'annoyed': 8537, 'terrace': 8538, 'cosmopolitan': 8539, 'granite': 8540, 'virginia': 8541, 'campaign': 8542, 'pawn': 8543, 'peroxide': 8544, 'congrats': 8545, 'ni': 8546, 'investigates': 8547, 'branch': 8548, \"night's\": 8549, 'builtin': 8550, 'cry': 8551, 'capitalized': 8552, 'thrift': 8553, 'repository': 8554, 'geometrical': 8555, 'astronomy': 8556, \"'verb'\": 8557, \"'noun'\": 8558, 'husky': 8559, 'innovativeness': 8560, 'lid': 8561, 'cuba': 8562, '[adjective]': 8563, 'jigsaw': 8564, 'lifespan': 8565, 'petite': 8566, 'graph': 8567, 'ratings': 8568, '\\\\d': 8569, 'objective': 8570, 'associate': 8571, 'strain': 8572, 'dragonflies': 8573, 'employers': 8574, 'carl': 8575, 'emmy': 8576, 'noether': 8577, 'maker': 8578, 'favor': 8579, 'zones': 8580, 'lynx': 8581, 'raincoat': 8582, 'sturdy': 8583, 'optimizing': 8584, \"zuckerberg's\": 8585, 'bohemian': 8586, 'kmeans': 8587, 'clusters': 8588, 'bernard': 8589, 'shaw': 8590, 'classifier': 8591, 'crater': 8592, 'colored': 8593, 'allocation': 8594, \"america's\": 8595, 'cruise': 8596, 'endeavor': 8597, \"world'\": 8598, 'gods': 8599, 'bubbled': 8600, 'modeling': 8601, 'musicians': 8602, 'enthalpy': 8603, 'ave': 8604, 'phishing': 8605, 'oval': 8606, 'avg': 8607, 'closes': 8608, 'artifacts': 8609, 'rhino': 8610, 'crystals': 8611, 'apologized': 8612, 'encoding': 8613, 'sol': 8614, 'largely': 8615, 'gradually': 8616, 'award': 8617, \"'my'\": 8618, 'glue': 8619, 'cl': 8620, 'roughly': 8621, 'attempt': 8622, 'gathers': 8623, 'moss': 8624, 'boundary': 8625, 'implementing': 8626, \"o'clock\": 8627, 'thai': 8628, \"workers'\": 8629, 'clocks': 8630, 'thirteen': 8631, 'diagnoses': 8632, 'earlier': 8633, 'dirt': 8634, 'sloth': 8635, 'texts': 8636, 'remove': 8637, 'chiefs': 8638, 'outfit': 8639, 'candle': 8640, 'unease': 8641, 'included': 8642, 'random_string': 8643, 'scurried': 8644, 'avgsalary': 8645, 'connotation': 8646, 'motivating': 8647, 'hwelcome': 8648, 'inline': 8649, 'textbook': 8650, 'crust': 8651, 'dimensions': 8652, 'stylewidth': 8653, 'browse': 8654, 'skylines': 8655, 'fingers': 8656, 'telegraph': 8657, 'nationality': 8658, '_____': 8659, 'min': 8660, 'lurk': 8661, 'years_of_experience': 8662, 'stayathome': 8663, 'member': 8664, 'legumes': 8665, 'rendering': 8666, 'planned': 8667, 'talked': 8668, 'denmark': 8669, 'walrus': 8670, 'clip': 8671, 'det': 8672, 'commemorate': 8673, 'candidates': 8674, 'dewy': 8675, 'jam': 8676, 'workrelated': 8677, \"doctor's\": 8678, 'owner': 8679, 'triangular': 8680, 'almacén': 8681, 'pome': 8682, 'gin': 8683, 'canadians': 8684, 'yearly': 8685, 'random_set': 8686, 'oscar': 8687, '“good': 8688, 'cad': 8689, 'herbivorous': 8690, 'examined': 8691, 'attainable': 8692, 'terrifying': 8693, 'rolled': 8694, 'radians': 8695, 'demonstration': 8696, 'oddlist': 8697, 'hello_world': 8698, 'display_integers': 8699, 'compile': 8700, \"japan's\": 8701, 'buyingfunding': 8702, 'linki': 8703, 'httpwwwindependentstockinvestingcomperatiohtml': 8704, 'httpswwwgooglecomfinanceeiojzvenxdoxmahrybgstockscreener': 8705, 'unlike': 8706, 'bullets': 8707, 'plows': 8708, 'depreciating': 8709, 'penalties': 8710, 'imagine': 8711, 'overkill': 8712, 'theres': 8713, 'trivial': 8714, 'anyway': 8715, 'personcompany': 8716, 'aboutcom': 8717, '$hr': 8718, 'prospectus': 8719, 'guarantee': 8720, 'issuing': 8721, 'introductory': 8722, 'foolcouk': 8723, 'detector': 8724, 'tingled': 8725, 'httpwwwnyxdatacomdataproductsdailytaq': 8726, 'bureaus': 8727, 'filed': 8728, 'pragmatic': 8729, 'dollarbased': 8730, 'managerio': 8731, 'peachtree': 8732, 'load': 8733, 'profitable': 8734, 'httpwwwlatimescombusinesslamoneylibhtmlstory': 8735, 'clark': 8736, \"howard's\": 8737, 'httpwwwclarkhowardcomnewsclarkhowardpersonalfinancecreditclarksinvestmentguidenfzk': 8738, 'goldpriceorg': 8739, 'currencies': 8740, 'silverpriceorg': 8741, 'isyes': 8742, 'convexity': 8743, 'gamma': 8744, 'delta': 8745, 'decay': 8746, 'stuff': 8747, 'httpwwwsocialinvestorgresourcesmfpc': 8748, 'penfed': 8749, 'cashback': 8750, 'httpenwikipediaorgwikilist_of_stock_exchanges': 8751, 'httpwwwwesternunioncomwucomwebstaticmiddomethodloadpagenameservicetobank': 8752, 'whatsoever': 8753, 'trigger': 8754, 'audit': 8755, 'ynab': 8756, 'switched': 8757, 'mintcom—easy': 8758, 'risky': 8759, 'nationalized': 8760, 'deposited': 8761, 'verifies': 8762, 'hledger': 8763, 'practical': 8764, 'tutorials': 8765, 'gnucash—great': 8766, 'trades': 8767, 'electronically': 8768, 'morningstar': 8769, 'httpfinancialsmorningstarcomratiosrhtmltjnjregionusacultureenus': 8770, \"'think'\": 8771, 'gutsintuitions': 8772, 'httpmobilenytimescomblogseconomixthemanyclassesofgooglestock': 8773, 'httpwwwmintcom': 8774, 'attaches': 8775, 'margin': 8776, 'imagining': 8777, 'citibank': 8778, 'advfn': 8779, 'oneclick': 8780, 'pulldown': 8781, 'bagger': 8782, 'repeat': 8783, 'treasuries': 8784, 'endorse': 8785, 'dba': 8786, 'payable': 8787, 'minimize': 8788, 'interpret': 8789, 'httpsenwikipediaorgwikisystematic_investment_plan': 8790, 'plain': 8791, 'averaging': 8792, 'httpswwwgooglecomsearchqquarterlyandannualfinancialreportcalendaroqquarterlyandannualfinancialreportcalendaraqschromeijjsourceidchromeieutf': 8793, 'httpswwwbloombergcommarketsearningscalendarus': 8794, 'httpsfinanceyahoocomcalendarearnings': 8795, 'httpseekingalphacom': 8796, 'shareholders': 8797, 'retained': 8798, 'reconciling': 8799, 'weighed': 8800, 'graphically': 8801, 'zignalscom': 8802, 'freestockchartscom': 8803, 'httpwwwbdeestipostiposehtm': 8804, 'consumerist': 8805, 'comptroller': 8806, 'jpmorgan': 8807, 'emb': 8808, 'preferred': 8809, 'stack': 8810, 'reg': 8811, 'httpswwwsecgovcgibinbrowseedgarcompanycornerstonestrategicvaluefundownerexcludeactiongetcompany': 8812, 'dealer': 8813, 'jantzi': 8814, 'assestsopening': 8815, 'defer': 8816, 'rrsp': 8817, 'deductions': 8818, 'cbc': 8819, 'httpwwwcbccanewsbusinesstaxseasonstoryftaxseasondelayhtml': 8820, 'gurufocus': 8821, 'httpwwwgurufocuscomnewsphpid': 8822, 'explanations': 8823, 'rankings': 8824, 'cite': 8825, 'millward': 8826, 'methodology': 8827, 'httpswwwgooglecomfinanceportfolio': 8828, 'fundamentals': 8829, 'undervalued': 8830, 'reissued': 8831, 'payee': 8832, 'portfolios': 8833, 'splits': 8834, 'depositswithdrawals': 8835, 'anybody': 8836, 'httpwwwbusinessinsidercomlihejunshortinghanergy': 8837, 'timelines': 8838, 'itrs': 8839, 'folks': 8840, 'oldish': 8841, 'nyt': 8842, 'buxfer': 8843, 'httpwwwbuxfercomhelpphptopicapi': 8844, 'withdrawing': 8845, 'overthecounter': 8846, 'pf': 8847, 'httppersonalfinancesoftwarereviewscomcomparepersonalfinancesoftware': 8848, 'httpeconomictimesindiatimescomwealthpersonalfinancenewsinvestorscanrejigportfoliobookshorttermlosstosavetaxarticleshowcmsintenttargetno': 8849, 'pastsatbacktesting': 8850, 'backtesting': 8851, 'indicators': 8852, 'royalties': 8853, 'wwwetfdbcom': 8854, 'pointed': 8855, 'agencies': 8856, 'reuters': 8857, 'rid': 8858, 'highinterest': 8859, 'kotak': 8860, 'securities': 8861, 'dividend': 8862, 'possibles': 8863, 'placement': 8864, 'authorized': 8865, 'registration': 8866, 'dividendpaying': 8867, 'personally': 8868, 'regulation': 8869, 'httpwwwamffranceorg': 8870, 'yours': 8871, 'freeride': 8872, 'applying': 8873, 'decent': 8874, 'workbook': 8875, 'banksbrokers': 8876, 'terminals': 8877, 'nse': 8878, 'yo': 8879, 'basically': 8880, 'turbocash': 8881, 'locally': 8882, 'nonprofit': 8883, \"navigator's\": 8884, 'httpswwwcharitynavigatororg': 8885, 'httpfinanceyahoocomqprsvfinxprofile': 8886, 'brokers': 8887, 'sep': 8888, 'ira': 8889, 'pocketsmith': 8890, 'moneycenter': 8891, 'amex': 8892, 'ones': 8893, 'residency': 8894, 'vxx': 8895, 'httpwwwmarketwatchcominvestingstockvxxcountrycodeus': 8896, 'colleges': 8897, 'httpwwwbogleheadsorg': 8898, 'montreal': 8899, 'httpwwwmxcanego_cotes_enphp': 8900, 'solo': 8901, 'selfemployment': 8902, 'conceivable': 8903, 'llc': 8904, 'dictate': 8905, 'imputed': 8906, 'caveat': 8907, 'infochimps': 8908, 'httpwaveaccountingcom': 8909, 'cosigning': 8910, 'backed': 8911, 'gamed': 8912, 'routinely': 8913, 'warrants': 8914, 'incur': 8915, 'bmw': 8916, 'mba': 8917, 'httpshineyahoocomeventfinanciallyfitcheapestdaystoshoponline': 8918, \"men's\": 8919, 'apparel': 8920, 'transferwise': 8921, 'peertopeer': 8922, 'httpstransferwisecom': 8923, 'financed': 8924, 'dealermanufacturer': 8925, 'graduating': 8926, 'fopt': 8927, 'httpcodegooglecompstockportfoliomanager': 8928, 'httpwwwgnucashorgdocsvcgnucashguidebasics_accountinghtmlbasics_accountingdouble': 8929, 'ruthlessly': 8930, 'ipo': 8931, 'listings': 8932, 'daysweeksmonthsyears': 8933, 'httpwwwkhanacademyorgfinanceeconomicscorefinancevlongstraddle': 8934, \"vanguard's\": 8935, 'rebalancing': 8936, 'ameritrade': 8937, 'alerting': 8938, 'legitimate': 8939, 'xirr': 8940, 'firm': 8941, 'ticker': 8942, 'clf': 8943, 'founders': 8944, 'stating': 8945, 'speculate': 8946, 'httpmoneydancecom': 8947, 'versions': 8948, 'investor': 8949, 'incoming': 8950, 'wires': 8951, 'downloading': 8952, 'httpinvestexcelnetfinancialwebserviceskb': 8953, 'euribor': 8954, 'mibor': 8955, 'nope': 8956, 'commissaries': 8957, \"bxpx's\": 8958, 'subsidized': 8959, 'goodwillmarketing': 8960, 'stackoverflow': 8961, 'httpsstackoverflowcomquestionssourceofhistoricalstockdata': 8962, 'qqq': 8963, 'williamkf': 8964, 'merchants': 8965, 'kmymoney': 8966, 'intrested': 8967, 'collapsing': 8968, 'starmoney': 8969, 'yeah': 8970, \"'remote'\": 8971, 'mortgaging': 8972, 'tspninja': 8973, 'httpwwwtspninja': 8974, 'tsp': 8975, 'visualizations': 8976, 'balances': 8977, 'indexcboevix': 8978, 'recordkeeping': 8979, 'cheating': 8980, 'ifinance': 8981, 'uh': 8982, 'virtually': 8983, 'depreciated': 8984, 'oversimplified': 8985, 'accrues': 8986, 'iopt': 8987, 'warrant': 8988, 'pointtopoint': 8989, 'remittance': 8990, 'httpenwikipediaorgwikifairtax': 8991, 'httpwwwirsgovpublicationspchhtmlen_us__publink': 8992, 'csv': 8993, 'export': 8994, 'crunch': 8995, 'shorting': 8996, 'capped': 8997, 'upside': 8998, 'justed': 8999, 'rented': 9000, 'httpswwwquantopiancom': 9001, 'concessions': 9002, 'unsavory': 9003, 'deflation': 9004, 'depreciation': 9005, 'expensing': 9006, 'interactivebrokers': 9007, 'equities': 9008, 'exchanges': 9009, 'kiyosaki': 9010, 'selfemployed': 9011, 'totally': 9012, 'outweigh': 9013, 'kitco': 9014, 'freeze': 9015, 'httpscodegooglecompyahoofinancemanagedwikiyahoofinanceapis': 9016, 'unlearn': 9017, 'fooled': 9018, 'randomness': 9019, 'nassim': 9020, 'taleb': 9021, 'liability': 9022, 'safest': 9023, 'contracts': 9024, 'httpsharestelegraphcoukstockscreener': 9025, 'motley': 9026, 'fool': 9027, 'httpwwwtaxtipscapersonaltaxgiftsandinheritanceshtm': 9028, 'hsbc': 9029, 'httpcapitalmindinsbibondyieldcalculator': 9030, 'behavioural': 9031, 'bestcheapest': 9032, 'smallmedium': 9033, 'moneyse': 9034, 'trailing': 9035, 'finvizcom': 9036, 'credibility': 9037, 'criminally': 9038, 'lynch': 9039, 'icici': 9040, 'regulators': 9041, 'frugal': 9042, 'etf': 9043, 'essentially': 9044, 'httpenwikipediaorgwikiexchangetraded_fund': 9045, \"wikipedia's\": 9046, 'ore': 9047, 'factorializenum': 9048, 'acknowledge': 9049, 'amends': 9050, 'deoxyribonucleic': 9051, 'valorous': 9052, 'intrepid': 9053, 'plucky': 9054, 'stouthearted': 9055, 'doughty': 9056, 'undaunted': 9057, 'daredevil': 9058, 'liquids': 9059, 'xeric': 9060, 'subpolar': 9061, 'accusatory': 9062, 'conjunctions': 9063, 'kittens': 9064, 'humonguous': 9065, 'dogged': 9066, 'unyielding': 9067, 'rossoblu': 9068, 'coldest': 9069, 'gordale': 9070, 'carolyn': 9071, 'redfearn': 9072, 'distribute': 9073, 'cutoff': 9074, 'isrotations': 9075, 'sfinds': 9076, 'hans': 9077, 'allowance': 9078, 'selecting': 9079, 'divulged': 9080, 'partners': 9081, 'mitigating': 9082, 'inaccurate': 9083, 'rustles': 9084, 'cicada': 9085, 'collage': 9086, 'popup': 9087, 'shred': 9088, 'laminate': 9089, 'castor': 9090, 'canadensis': 9091, 'fermentation': 9092, 'bundle': 9093, 'snowstorm': 9094, 'naturaleza': 9095, 'espectacular': 9096, 'antiguo': 9097, 'barrio': 9098, 'gótico': 9099, 'curl': 9100, 'lulled': 9101, 'solace': 9102, 'rehearsals': 9103, 'sautéed': 9104, 'impairs': 9105, 'weakens': 9106, 'kilobyte': 9107, 'yelloworange': 9108, 'heureux': 9109, 'rencontrer': 9110, 'peasant': 9111, 'diarrhea': 9112, 'gastroenteritis': 9113, 'glitter': 9114, 'packages': 9115, 'mussels': 9116, 'kudzu': 9117, 'counted': 9118, 'hermoso': 9119, 'meanlst': 9120, 'sumlst': 9121, 'lenlst': 9122, 'alphabetic_sortlst': 9123, 'sortedlst': 9124, 'keystrlower': 9125, 'is_anagrams': 9126, 'differentiate': 9127, 'dove': 9128, 'shove': 9129, 'customerservice': 9130, 'happycustomers': 9131, 'tantalizing': 9132, 'telling': 9133, 'ethereum': 9134, 'litecoin': 9135, 'zcash': 9136, 'monero': 9137, 'dogecoin': 9138, 'yintercept': 9139, 'kipp': 9140, 'publicprivate': 9141, 'craftsmanship': 9142, 'pout': 9143, 'pioneering': 9144, 'lipsticks': 9145, 'ashore': 9146, 'evermore': 9147, 'luxemborg': 9148, 'darting': 9149, 'scandinavian': 9150, 'filmvideo': 9151, 'dominant': 9152, 'emmeline': 9153, 'pankhurst': 9154, 'suffragette': 9155, 'perpetrator': 9156, 'perpetrated': 9157, 'grave': 9158, 'transgression': 9159, 'brainbow': 9160, 'implementation': 9161, 'curtailed': 9162, 'prevalence': 9163, 'fraser': 9164, 'homepages': 9165, 'b·h': 9166, 'despise': 9167, 'abhor': 9168, 'abominate': 9169, '\\\\\\\\sqrt\\\\times': 9170, 'h₂o': 9171, 'monitors': 9172, 'motivationmonday': 9173, 'mondaymotivation': 9174, 'bemotivated': 9175, 'fcf': 9176, 'f*': 9177, 'animalia': 9178, 'hominidae': 9179, 'homo': 9180, 'altruism': 9181, 'deteriorating': 9182, 'excluding': 9183, 'selfconfidence': 9184, 'contemporaries': 9185, 'christiaan': 9186, 'huygens': 9187, 'tycho': 9188, 'brahe': 9189, 'beings': 9190, 'teleport': 9191, 'on^': 9192, 'ur': 9193, 'assyria': 9194, 'babylon': 9195, 'jericho': 9196, 'megiddo': 9197, 'arrives': 9198, 'volumetric': 9199, 'kilogram': 9200, 'joules': 9201, 'rewritten': 9202, 'skyrocket': 9203, 'amid': 9204, 'layoffs': 9205, 'centralized': 9206, 'fired': 9207, 'arvind': 9208, 'estranged': 9209, 'adored': 9210, 'refinement': 9211, 'deploying': 9212, 'locations': 9213, 'timeconsuming': 9214, 'choh': 9215, 'sigh': 9216, 'adapting': 9217, \"hospitality's\": 9218, \"'wind'\": 9219, 'chengdu': 9220, 'recyclers': 9221, 'realdonaldtrump': 9222, 'mourns': 9223, 'adherence': 9224, 'requirements': 9225, 'writeed': 9226, \"'start'\": 9227, \"'begin'\": 9228, 'andrea': 9229, 'bocelli': 9230, \"sister's\": 9231, 'anthropomorphism': 9232, 'attribution': 9233, 'traits': 9234, 'breaths': 9235, 'probable': 9236, 'symptom': 9237, 'embolism': 9238, 'pleurisy': 9239, 'indomitable': 9240, 'laguardia': 9241, 'lga': 9242, '‘the': 9243, 'rye’': 9244, 'alienation': 9245, 'soaps': 9246, 'albicilla': 9247, 'accipitridae': 9248, 'bunnies': 9249, \"designer's\": 9250, 'toolkit': 9251, 'orinoco': 9252, 'paraná': 9253, 'oppressed': 9254, 'ransomware': 9255, 'tiktok': 9256, 'pinterest': 9257, 'ali': 9258, 'homicides': 9259, 'handguns': 9260, 'tens': 9261, 'spirals': 9262, 'random_arrayn': 9263, 'arrappendrandomrandint': 9264, 'heatwave': 9265, 'hailstorm': 9266, 'find_maxlst': 9267, 'lst': 9268, 'dorian': 9269, 'foam': 9270, 'influences': 9271, 'underprivileged': 9272, 'resipt': 9273, 'receipt': 9274, 'horrific': 9275, \"year's\": 9276, 'fails': 9277, 'inundated': 9278, 'xbe': 9279, 'nju是': 9280, 'myrtle': 9281, 'tusenfryd': 9282, 'centimetersinch': 9283, 'mascot': 9284, 'machete': 9285, 'mattress': 9286, 'subgoals': 9287, 'stellaroptimist': 9288, 'unconstrainedideas': 9289, 'transformable': 9290, 'sunnyvision': 9291, 'charismaticsprite': 9292, 'grunge': 9293, 'hip': 9294, 'swing': 9295, 'employee_number': 9296, 'average_rating': 9297, \"'hr'\": 9298, 'litter': 9299, 'flat': 9300, 'kicking': 9301, 'reddit': 9302, 'presents': 9303, 'subjected': 9304, 'scrutiny': 9305, 'reacted': 9306, 'forcefully': 9307, 'engulfed': 9308, 'eggshells': 9309, 'aerospace': 9310, 'businessman': 9311, 'shrugged': 9312, 'prevents': 9313, 'unwind': 9314, 'ferris': 9315, 'consulting': 9316, 'seemingly': 9317, 'sinister': 9318, 'algebra': 9319, 'geometry': 9320, 'omnivore': 9321, 'mad': 9322, 'quicker': 9323, 'projectile': 9324, 'unnatural': 9325, 'exact': 9326, 'trigonometric': 9327, 'chanel': 9328, 'vuitton': 9329, 'seductive': 9330, 'athens': 9331, 'header': 9332, 'seattletacoma': 9333, 'appetizers': 9334, 'entrees': 9335, 'scooters': 9336, 'reverently': 9337, 'dendrobates': 9338, 'tinctorius': 9339, 'dyeing': 9340, \"writer's\": 9341, 'liberties': 9342, 'sweltering': 9343, 'stifling': 9344, 'vectorbased': 9345, 'minimalist': 9346, 'easytoread': 9347, 'continuation': 9348, 'martha': 9349, 'vain': 9350, \"'stoic'\": 9351, \"'emotional'\": 9352, 'landdwelling': 9353, 'hiv': 9354, 'meditate': 9355, 'snuck': 9356, 'multiplynum': 9357, 'premier': 9358, '______': 9359, 'boohoocom': 9360, \"painter's\": 9361, 'hbsymposium': 9362, 'hbinfluencers': 9363, 'spilled': 9364, 'ribbons': 9365, 'sights': 9366, 'civilisations': 9367, 'fertile': 9368, 'valleys': 9369, 'tigriseuphrates': 9370, 'roared': 9371, 'environmentallyconscious': 9372, 'immutable': 9373, 'poached': 9374, 'technologist': 9375, 'usernamejohndoe': 9376, 'fullnamejohn': 9377, 'dot': 9378, 'tamed': 9379, 'flashing': 9380, 'midpoints': 9381, 'impelling': 9382, 'cheetahs': 9383, 'hinduism': 9384, 'judaism': 9385, 'dieting': 9386, 'supermarkets': 9387, 'pessimistic': 9388, 'brille': 9389, 'mille': 9390, 'feux': 9391, \"city'brisbane'\": 9392, \"'aebirmo'\": 9393, 'podcast': 9394, 'delving': 9395, 'fe': 9396, \"'honest'\": 9397, \"'h'\": 9398, 'nous': 9399, 'avons': 9400, 'passé': 9401, 'input[typetext]': 9402, 'department_id': 9403, 'marseillaise': 9404, 'ultimatum': 9405, \"ibm's\": 9406, 'macaque': 9407, 'lemur': 9408, 'siri': 9409, 'teens': 9410, 'tedx': 9411, 'undercover': 9412, 'cops': 9413, 'masterminds': 9414, 'realizing': 9415, 'counseling': 9416, 'vengo': 9417, 'pueblo': 9418, 'optimized': 9419, 'workflow': 9420, 'distracted': 9421, 'reckless': 9422, 'purrspective': 9423, 'ascorbic': 9424, 'slowpaced': 9425, 'terabyte': 9426, 'gigabytes': 9427, 'chchcooh': 9428, 'carboxylic': 9429, 'guernica': 9430, 'weeping': 9431, 'demoiselles': 9432, \"d'avignon\": 9433, 'recyclables': 9434, 'predesignated': 9435, 'bins': 9436, \"'longtime\": 9437, \"foes'\": 9438, 'sees': 9439, 'quadrasoft': 9440, 'echocoder': 9441, 'nurturecode': 9442, 'expandify': 9443, 'crisoft': 9444, 'unicef': 9445, 'httpswwwuniceforg': 9446, 'calculate_avg_marksmarks': 9447, 'totalmarkslenmarks': 9448, 'sunbathing': 9449, 'sandcastles': 9450, \"bird's\": 9451, 'ruffled': 9452, 'opens': 9453, \"'unrelenting'\": 9454, \"'irresistible'\": 9455, \"'tempting'\": 9456, 'hector': 9457, 'beth': 9458, 'guitarist': 9459, 'bassist': 9460, 'drummer': 9461, 'keyboardist': 9462, 'authorization': 9463, 'recovery': 9464, 'claudio': 9465, 'monteverdi': 9466, 'purcell': 9467, 'frivolous': 9468, 'cyberattack': 9469, 'administered': 9470, 'antidote': 9471, 'io': 9472, 'stalactites': 9473, 'caves': 9474, \"angel's\": 9475, 'needles': 9476, \"shark's\": 9477, 'bric': 9478, \"institute's\": 9479, 'galvanize': 9480, 'bored': 9481, 'shined': 9482, 'europeans': 9483, 'miracle': 9484, 'unrequited': 9485, 'fang': 9486, 'eventbrite': 9487, 'meetupcom': 9488, 'udemy': 9489, 'lining': 9490, 'stride': 9491, 'swoop': 9492, 'gem': 9493, 'existence': 9494, 'dlacddpg': 9495, 'grouping': 9496, 'click': 9497, 'melodious': 9498, 'resonant': 9499, 'extend': 9500, 'quaint': 9501, 'cobblestone': 9502, 'testament': 9503, \"'laugh'\": 9504, 'guac': 9505, 'bakes': 9506, 'hum': 9507, 'kisses': 9508, 'stucco': 9509, 'ducklings': 9510, 'fireball': 9511, 'smoldering': 9512, 'embers': 9513, 'influx': 9514, 'swarmed': 9515, 'ghat': 9516, 'personnel': 9517, 'indulges': 9518, 'adeptly': 9519, 'datarelated': 9520, 'festivities': 9521, 'bound': 9522, 'angled': 9523, 'dgce': 9524, 'datesold': 9525, \"'monthstart'\": 9526, \"'monthend'\": 9527, 'accidents': 9528, 'percolating': 9529, 'alright': 9530, 'aurora': 9531, 'borealis': 9532, 'anning': 9533, 'othniel': 9534, 'marsh': 9535, 'drinker': 9536, 'alfred': 9537, 'romer': 9538, 'buckland': 9539, 'prefixes': 9540, 'informational': 9541, 'boris': 9542, 'baikal': 9543, 'siberia': 9544, 'yorkers': 9545, 'hustle': 9546, 'bustle': 9547, 'brewvision': 9548, 'startup': 9549, 'tinder': 9550, 'furthermore': 9551, 'subsequently': 9552, \"'shirt'\": 9553, 'meerkats': 9554, 'composers': 9555, 'bringsnew': 9556, 'danceas': 9557, 'awakes': 9558, 'cyclical': 9559, 'cyclops': 9560, 'cyclic': 9561, 'tugofwarring': 9562, 'obligation': 9563, '[picture': 9564, 'wheels]': 9565, 'magician’s': 9566, 'granulated': 9567, 'cardio': 9568, 'youngest': 9569, 'fought': 9570, 'myfuncx': 9571, \"human's\": 9572, 'norms': 9573, 'geocentric': 9574, 'geoidal': 9575, 'geomorphology': 9576, 'geomagnetic': 9577, 'geopotential': 9578, 'compliance': 9579, 'wears': 9580, 'gentlemanly': 9581, 'dapper': 9582, 'birthyear': 9583, 'petastic': 9584, 'singaporean': 9585, 'malaysian': 9586, 'indonesian': 9587, 'sumab': 9588, '____________': 9589, 'sagasti': 9590, 'bingo': 9591, 'sleepmovies': 9592, 'lurched': 9593, 'tempest': 9594, 'buffeted': 9595, 'scrumptious': 9596, 'slidier': 9597, 'snail': 9598, 'surest': 9599, 'listlength': 9600, 'cougar': 9601, 'shorten': 9602, 'décrivant': 9603, \"l'état\": 9604, 'actuel': 9605, \"l'art\": 9606, 'matière': 9607, \"d'apprentissage\": 9608, 'automatique': 9609, 'elm': 9610, 'hindrance': 9611, 'misadventure': 9612, 'amused': 9613, 'galloping': 9614, 'giggles': 9615, 'grins': 9616, 'learners': 9617, 'quarters': 9618, 'dimes': 9619, 'desirable': 9620, 'kiss': 9621, 'drenched': 9622, 'mercilessly': 9623, 'bapodulate': 9624, 'unbound': 9625, 'selected': 9626, 'honeylemon': 9627, 'refreshingly': 9628, 'exclusion': 9629, 'batsman': 9630, 'succumbed': 9631, 'nonalcoholic': 9632, 'iced': 9633, 'crushing': 9634, 'dragged': 9635, 'embarrassment': 9636, \"robot's\": 9637, \"mark's\": 9638, '[azaz_][azaz]\\\\[azaz]': 9639, 'triangleareafloat': 9640, 'fridays': 9641, 'trojan': 9642, 'wand': 9643, 'boots': 9644, 'basquestyle': 9645, 'tapas': 9646, 'gambas': 9647, 'ajillo': 9648, 'tortilla': 9649, 'margarita': 9650, 'cocktail': 9651, 'sistine': 9652, 'chapel': 9653, 'andres': 9654, 'manuel': 9655, 'obrador': 9656, 'mellifera': 9657, 'receives': 9658, 'resurgence': 9659, 'takingtechnologytothenextlevel': 9660, 'provisioning': 9661, 'get_stringtext': 9662, '_joinwords': 9663, 'hello_there_how_are_you': 9664, 'interdependency': 9665, 'daytoday': 9666, 'harms': 9667, 'reverse_wordssentence': 9668, \"sentencesplit'\": 9669, 'reversed_words': 9670, 'words[]': 9671, \"'joinreversed_words\": 9672, 'foldable': 9673, 'fonts': 9674, 'monochrome': 9675, 'depicting': 9676, 'weariness': 9677, 'organisation': 9678, 'chcl': 9679, 'invision': 9680, 'figma': 9681, 'invariably': 9682, 'comer': 9683, 'helado': 9684, 'numpy': 9685, 'np': 9686, 'array[': 9687, 'overharvesting': 9688, 'marsupial': 9689, 'stratiform': 9690, 'cumulonimbus': 9691, 'contrails': 9692, 'diets': 9693, 'healthconscious': 9694, 'windsor': 9695, 'casting': 9696, 'waivered': 9697, 'opposing': 9698, 'midpoint': 9699, 'contact_info': 9700, '_id': 9701, 'favored': 9702, 'depiction': 9703, 'httpsexamplecomapiv': 9704, 'examplecom': 9705, 'contenttype': 9706, 'applicationjson': 9707, 'dashed': 9708, 'divisors': 9709, '‘a’': 9710, 'climber': 9711, 'writting': 9712, 'insane': 9713, 'feddy': 9714, 'weston': 9715, 'percy': 9716, 'pepperwood': 9717, 'wildman': 9718, 'premise': 9719, 'irreparable': 9720, 'banned': 9721, 'reflection': 9722, 'troublesome': 9723, 'reappear': 9724, 'inopportune': 9725, 'frontal': 9726, 'cyclist': 9727, 'unintelligent': 9728, 'caribou': 9729, 'reindeer': 9730, 'honda': 9731, 'motor': 9732, 'softbank': 9733, 'ntt': 9734, 'backcountrycom': 9735, 'buen': 9736, 'panama': 9737, 'hatred': 9738, 'bully': 9739, 'ordering': 9740, 'thoroughness': 9741, 'clinical': 9742, 'electromagnetism': 9743, \"'*'\": 9744, 'x*y': 9745, 'seldom': 9746, 'salads': 9747, 'hats': 9748, 'umbrellas': 9749, 'doomed': 9750, 'forsaken': 9751, 'joyless': 9752, 'fruitless': 9753, 'cheerless': 9754, 'extinguished': 9755, 'graced': 9756, 'arigatou': 9757, 'victor': 9758, 'hugo': 9759, 'émile': 9760, 'zola': 9761, 'balzac': 9762, 'jeanpaul': 9763, 'sartre': 9764, 'camus': 9765, 'mississippi': 9766, 'adhesive': 9767, 'bandages': 9768, 'antiseptic': 9769, 'wipes': 9770, 'hydrocortisone': 9771, 'ferdinand': 9772, 'circumnavigation': 9773, 'tierra': 9774, 'fuego': 9775, 'plymouth': 9776, 'wanderlust': 9777, 'name”': 9778, 'retrievers': 9779, 'technicians': 9780, 'moviestitle': 9781, 'actorsname': 9782, 'moviesactor_id': 9783, 'actorsid': 9784, 'betrayal': 9785, 'sharply': 9786, 'liga': 9787, 'competitions': 9788, 'answering': 9789, 'wrinkle': 9790, 'illiterate': 9791, 'bookslatest': 9792, 'apiexamplecom': 9793, 'sms': 9794, 'recharging': 9795, 'pea': 9796, 'keepyourdistance': 9797, 'socialdistancing': 9798, 'disposal': 9799, 'seafarer': 9800, 'rime': 9801, 'mariner': 9802, 'propose': 9803, 'fermented': 9804, 'noting': 9805, 'statistician': 9806, 'actuarial': 9807, 'mpm': 9808, '[ant': 9809, 'monkey]': 9810, 'sort_arrayarr': 9811, 'printsort_array[': 9812, 'classanimgrow[]': 9813, 'classanimshrink[]': 9814, 'quit': 9815, 'classanimexit[x]': 9816, 'sameer': 9817, 'peelers': 9818, 'colanders': 9819, 'checkers': 9820, 'backgammon': 9821, 'dominoes': 9822, 'battleship': 9823, 'boadicea': 9824, \"car's\": 9825, 'hydro': 9826, 'fdm': 9827, 'sla': 9828, 'sleeveless': 9829, 'vneck': 9830, 'jan': 9831, 'feb': 9832, 'abandon': 9833, 'dampness': 9834, 'opponent': 9835, 'dispite': 9836, 'ominous': 9837, 'spiralling': 9838, 'undulating': 9839, 'compromise': 9840, 'respectfully': 9841, 'reject': 9842, 'someone—with': 9843, 'carnation': 9844, 'attracting': 9845, 'zeros': 9846, '*n': 9847, 'randomly': 9848, 'grossing': 9849, 'reverse_stringhello': 9850, 'releases': 9851, 'endorphins': 9852, 'nectarines': 9853, 'robbery': 9854, 'sitemap': 9855, 'rejects': 9856, 'hurt': 9857, \"cake's\": 9858, 'timer': 9859, 'ringing': 9860, 'signaling': 9861, 'weapon': 9862, 'ruthenium': 9863, 'newer': 9864, 'anemophilous': 9865, \"gogh's\": 9866, 'dreamlike': 9867, 'trace': 9868, 'ancestry': 9869, 'headaches': 9870, 'drowsiness': 9871, 'insomnia': 9872, 'nuisance': 9873, 'tides': 9874, 'rothfuss': 9875, 'knees': 9876, 'butt': 9877, 'jacks': 9878, 'shuffles': 9879, 'climbers': 9880, 'reversearray': 9881, 'arrreverse': 9882, \"'start\": 9883, \"'end\": 9884, 'taxratetofixed': 9885, 'inaugurated': 9886, 'bottled': 9887, 'ardennes': 9888, 'errand': 9889, 'melancholy': 9890, 'heredity': 9891, 'genetics': 9892, 'omnipresent': 9893, 'preloved': 9894, 'allocating': 9895, 'exit': 9896, 'tipped': 9897, 'depressive': 9898, 'ratatouille': 9899, 'recharge': 9900, 'sparkler': 9901, '∪': 9902, 'slung': 9903, 'holding': 9904, 'predominant': 9905, 'misspelt': 9906, 'decdied': 9907, 'officers': 9908, 'mangé': 9909, 'midi': 9910, 'hacksaw': 9911, 'claw': 9912, 'unearthing': 9913, 'antiques': 9914, 'antiquities': 9915, 'enthusiast': 9916, 'multiplya': 9917, 'congruent': 9918, 'nectar': 9919, 'icing': 9920, 'cerulean': 9921, 'aquamarine': 9922, 'subtends': 9923, '“a': 9924, 'place”': 9925, 'responsive': 9926, 'riveting': 9927, 'printodd': 9928, 'principality': 9929, 'sealand': 9930, 'micronation': 9931, 'respecting': 9932, 'others’': 9933, 'bribery': 9934, 'harassment': 9935, 'tones': 9936, 'euphemism': 9937, \"'died'\": 9938, 'walruses': 9939, 'tractor': 9940, 'harvesting': 9941, 'tilling': 9942, 'hauling': 9943, 'radar': 9944, 'vertebrate': 9945, 'excels': 9946, 'noncitrus': 9947, \"knight's\": 9948, 'erodes': 9949, 'undermines': 9950, 'foundations': 9951, 'acceleration': 9952, 'failures': 9953, 'suzanne': 9954, 'rethinking': 9955, 'denali': 9956, 'thriving': 9957, 'incrediblely': 9958, 'carb': 9959, 'guacamole': 9960, '[meme': 9961, 'lunch]': 9962, 'ostrich': 9963, 'struthio': 9964, 'camelus': 9965, 'braviolib': 9966, 'snowball': 9967, 'fights': 9968, 'unanticipated': 9969, 'gofundme': 9970, 'google’s': 9971, 'pagerank': 9972, 'bing’s': 9973, 'duckduckgo’s': 9974, 'wwf': 9975, \"kids'\": 9976, 'oas': 9977, 'sehr': 9978, 'schönes': 9979, 'sunhat': 9980, 'flipflops': 9981, 'cooler': 9982, 'unmovable': 9983, 'indestructible': 9984, 'tickles': 9985, 'bonsoir': 9986, 'skapunk': 9987, 'conditioner': 9988, 'cyberbullying': 9989, 'consonant': 9990, 'publickey': 9991, 'rsa': 9992, 'savvy': 9993, 'respectively': 9994, 'lan': 9995, 'wan': 9996, 'intranet': 9997, 'expedition': 9998, 'controller': 9999, \"d'être\": 10000, 'ici': 10001, 'precautions': 10002, 'victim': 10003, 'briskly': 10004, '[weekly': 10005, 'visualization]weekly_sales_visualizationpng': 10006, 'stylecolor': 10007, 'bluethis': 10008, 'textp': 10009, 'inventions': 10010, 'engrossed': 10011, 'tasse': 10012, 'kaffee': 10013, 'printmultitablen': 10014, \"printn'x'i''n*i\": 10015, 'hyperparameter': 10016, 'tuning': 10017, 'inputting': 10018, 'find_sum_of_two_largestarr': 10019, 'arrremovelargest': 10020, 'meaningfulness': 10021, 'meaningless': 10022, 'timespace': 10023, 'fjord': 10024, 'polo': 10025, 'irresponsible': 10026, 'unbelievably': 10027, 'childish': 10028, 'solve_equationa': 10029, 'imaginable': 10030, 'manmohan': 10031, 'singh': 10032, 'atal': 10033, 'bihari': 10034, 'vajpayee': 10035, 'indira': 10036, 'morarji': 10037, 'desai': 10038, 'programmable': 10039, 'precise': 10040, 'disrupt': 10041, 'studded': 10042, 'chambers': 10043, 'adjustable': 10044, 'nozzle': 10045, \"abc's\": 10046, 'gaborone': 10047, \"puppy's\": 10048, 'sum_two_numbersnum': 10049, 'print_list_reversedlst': 10050, 'rangelenlst': 10051, 'printlst[i]': 10052, 'print_list_reversed[]': 10053, 'avgesalary': 10054, 'average_salary': 10055, 'departments': 10056, 'edepartment_id': 10057, 'babe': 10058, 'ruth': 10059, 'derek': 10060, 'jeter': 10061, 'elton': 10062, 'outlooks': 10063, 'systemoutprintlnc': 10064, 'disabled': 10065, 'peeks': 10066, 'halibut': 10067, 'conquest': 10068, 'sortascendingarr': 10069, 'arrsorta': 10070, 'gerard': 10071, 'car’s': 10072, '“wait': 10073, 'they’ll': 10074, 'drive”': 10075, 'qualitty': 10076, 'sorrows': 10077, 'churning': 10078, 'wildly': 10079, 'frenzy': 10080, 'flatscreen': 10081, 'trackpad': 10082, 'housed': 10083, 'mauled': 10084, 'meows': 10085, 'towered': 10086, 'pungent': 10087, \"greenland's\": 10088, 'icecaps': 10089, 'waving': 10090, 'bagels': 10091, 'indexhtml': 10092, 'huron': 10093, 'erie': 10094, 'nj': 10095, 'md': 10096, 'va': 10097, 'globallysourced': 10098, 'handcrafted': 10099, 'settings': 10100, 'loose': 10101, 'floats': 10102, 'booleans': 10103, 'nulls': 10104, 'exorbitantly': 10105, 'snowilly': 10106, 'reverie': 10107, 'babysitting': 10108, 'mowing': 10109, 'tutoring': 10110, 'grassland': 10111, 'cement': 10112, 'hco': 10113, 'shirley': 10114, 'list]': 10115, 'gus': 10116, 'rituals': 10117, 'placental': 10118, 'persimmon': 10119, 'systematic': 10120, 'wrinkly': 10121, 'windfall': 10122, 'bay': 10123, 'insist': 10124, '[graph': 10125, 'cities]': 10126, 'chatting': 10127, 'tanning': 10128, 'suffers': 10129, 'banker': 10130, 'wane': 10131, 'arrest': 10132, 'suspected': 10133, 'robber': 10134, 'clickthrough': 10135, 'brook': 10136, '[cropped': 10137, 'reducedsized': 10138, 'border]': 10139, \"einstein's\": 10140, 'contributions': 10141, 'thirtyeight': 10142, 'arrsortfunctionabreturn': 10143, 'athletes': 10144, 'unfurls': 10145, 'moubtains': 10146, 'flash': 10147, 'append_to_listlist': 10148, 'ban': 10149, 'sentimental': 10150, 'assessment': 10151, 'verily': 10152, 'mite': 10153, 'validity': 10154, 'wondered': 10155, 'sweetheart': 10156, 'clutching': 10157, 'disturbance': 10158, 'competitors': 10159, 'opacity': 10160, 'extractive': 10161, 'abstractive': 10162, 'apex': 10163, 'waygo': 10164, 'ethay': 10165, 'toresay': 10166, 'persistence': 10167, 'molar': 10168, 'cacl': 10169, 'glisten': 10170, 'fn': 10171, 'fn*': 10172, 'perception': 10173, 'product_id': 10174, 'synergy': 10175, 'applies': 10176, 'provisions': 10177, 'subjectverbobject': 10178, 'embezzling': 10179, 'coffers': 10180, 'underground': 10181, 'e]': 10182, 'aicreated': 10183, 'googlesans': 10184, 'charitable': 10185, 'combinations': 10186, 'typebuttona': 10187, 'hrefhttpsexamplecomclick': 10188, 'herea': 10189, 'filters': 10190, 'inequality': 10191, 'trafficking': 10192, 'bbqs': 10193, 'adaptations': 10194, 'tnetiap': 10195, 'dnik': 10196, 'taost': 10197, 'mllib': 10198, 'endpoint': 10199, 'zoomed': 10200, 'dangerously': 10201, 'bonus': 10202, 'stunned': 10203, 'speechless': 10204, 'roadster': 10205, 'dwarf': 10206, 'warns': 10207, 'worst': 10208, 'famines': 10209, 'nondecreasing': 10210, 'say_hello': 10211, \"there'\": 10212, 'respective': 10213, 'gadget': 10214, 'restless': 10215, 'wilma': 10216, 'anderson': 10217, 'palmetto': 10218, 'omaha': 10219, 'numbered': 10220, 'woohoo': 10221, 'i’m': 10222, 'vitaminmineral': 10223, 'depletion': 10224, 'vulnerability': 10225, 'workshop': 10226, 'wispy': 10227, 'strewn': 10228, 'greatness': 10229, 'tickled': 10230, 'drivers': 10231, 'rupees': 10232, \"adventurer's\": 10233, 'saveanimals': 10234, 'rapiddeforestation': 10235, 'environmentthreat': 10236, 'protectnature': 10237, 'protectwildlife': 10238, 'ecosystemhealth': 10239, 'reforestation': 10240, 'conservationefforts': 10241, 'globalaction': 10242, 'chickenpox': 10243, '[retail': 10244, 'adil': 10245, 'collegeeducated': 10246, 'pioneer': 10247, 'hails': 10248, 'boomer': 10249, 'wreak': 10250, 'havoc': 10251, 'anime': 10252, 'weathering': 10253, 'refuel': 10254, 'kongō': 10255, 'gumi': 10256, 'gestures': 10257, 'tonality': 10258, 'teachings': 10259, 'wiser': 10260, 'behemoth': 10261, 'boulder': 10262, 'blocking': 10263, 'lavishly': 10264, 'ruthless': 10265, 'cheapest': 10266, 'frontier': 10267, 'airlines': 10268, 'canoe': 10269, 'sharpest': 10270, 'subnet': 10271, 'process_inputdata': 10272, 'charupper': 10273, 'deteriorated': 10274, 'adamant': 10275, 'deception': 10276, 'dracula': 10277, 'dune': 10278, 'dbuser_datafind': 10279, 'hugs': 10280, 'sighs': 10281, 'flutters': 10282, 'expend': 10283, '私の名前は何ですか？': 10284, 'namae': 10285, 'nan': 10286, 'ka': 10287, 'self': 10288, 'splice': 10289, 'hostile': 10290, 'tolerant': 10291, 'beguilingly': 10292, 'slender': 10293, \"'mom'\": 10294, \"'father'\": 10295, 'semantic': 10296, 'arrlength': 10297, 'consolelogarr[i]': 10298, 'bucharest': 10299, 'blanketing': 10300, 'grabbed': 10301, 'wepulse': 10302, 'smartband': 10303, 'interrogated': 10304, \"poem's\": 10305, 'lando': 10306, 'refereeing': 10307, \"'d%'\": 10308, 'vengeance': 10309, 'unsaid': 10310, 'unforgiven': 10311, 'afterlife': 10312, 'kingfisher': 10313, 'nickel': 10314, 'airbus': 10315, 'pitterpatters': 10316, 'earthy': 10317, 'renews': 10318, 'purrfection': 10319, 'adhere': 10320, 'mediadriven': 10321, 'consumerism': 10322, 'crystalclear': 10323, 'soren': 10324, 'kierkegaard': 10325, 'unanimous': 10326, 'caféquality': 10327, '[do': 10328, 'something]': 10329, '[specific': 10330, 'datetime]': 10331, 'shuteye': 10332, 'visitor': 10333, 'farmers': 10334, 'forgive': 10335, 'quantuminspired': 10336, 'thnameth': 10337, 'thageth': 10338, 'tdjohntd': 10339, 'tdjilltd': 10340, 'handwritten': 10341, 'acuteangled': 10342, 'obtuseangled': 10343, 'equiangular': 10344, 'homenetwork': 10345, 'anastasia': 10346, 'sensor': 10347, 'gigantic': 10348, 'barometer': 10349, 'iterate': 10350, 'brandished': 10351, 'stout': 10352, 'severn': 10353, 'electromagnetic': 10354, 'emits': 10355, 'consignment': 10356, 'offspring': 10357, 'ethanivia': 10358, 'sie': 10359, 'planen': 10360, 'projekt': 10361, 'morgen': 10362, 'zu': 10363, 'beenden': 10364, 'scratches': 10365, 'carpet': 10366, 'newcar': 10367, 'millenials': 10368, 'fl': 10369, 'facilitate': 10370, 'jaw': 10371, 'masseter': 10372, 'temporalis': 10373, 'book_id': 10374, 'publisher': 10375, 'publication_date': 10376, 'silky': 10377, 'presenting': 10378, 'girls': 10379, 'sketching': 10380, 'sharpening': 10381, 'twodigit': 10382, 'summoned': 10383, 'resolutely': 10384, 'aglow': 10385, 'reconnection': 10386, 'obligations': 10387, 'governing': 10388, 'jurisdiction': 10389, 'wellchosen': 10390, 'coreldraw': 10391, 'inkscape': 10392, \"employee's\": 10393, 'vomiting': 10394, 'coughing': 10395, 'sustenance': 10396, 'steven': 10397, 'spielberg': 10398, 'quentin': 10399, 'tarantino': 10400, 'stabilizing': 10401, 'blackouts': 10402, 'grid': 10403, 'wiring': 10404, 'damagedpoorly': 10405, 'plantinfrastructure': 10406, 'blossomed': 10407, 'gracing': 10408, 'ballroom': 10409, 'customary': 10410, 'dining': 10411, 'silhouette': 10412, 'outstretched': 10413, 'dsp': 10414, 'alu': 10415, 'removable': 10416, 'disgruntled': 10417, 'gentleness': 10418, 'elephantlove': 10419, 'ahumming': 10420, 'caress': 10421, 'trickle': 10422, 'pipeline': 10423, 'agents': 10424, 'steakhouse': 10425, 'caspian': 10426, 'preference': 10427, 'titleunder': 10428, 'maintenancetitle': 10429, 'soonh': 10430, 'dreamed': 10431, 'scuba': 10432, 'diver': 10433, 'triangle_areabase': 10434, 'earthworms': 10435, \"rao's\": 10436, 'serial': 10437, 'yellowstone': 10438, 'zipping': 10439, 'mammalian': 10440, 'uncovered': 10441, 'antiquated': 10442, 'ruin': 10443, 'lurid': 10444, 'gleam': 10445, 'wklw': 10446, 'kh': 10447, 'vhfuhw': 10448, 'phvvdjh': 10449, \"'orders'\": 10450, 'categorization': 10451, 'consolelograndomnumber': 10452, 'metrics': 10453, 'sprinkle': 10454, 'movie_title': 10455, 'scavengers': 10456, 'tandoori': 10457, 'dal': 10458, 'makhani': 10459, 'samosas': 10460, 'kwanzaa': 10461, 'cookingbaking': 10462, 'arts': 10463, 'yogaexercise': 10464, 'suburban': 10465, 'timemanagement': 10466, 'decaying': 10467, 'neglected': 10468, 'tumbledown': 10469, 'crumbling': 10470, 'plorem': 10471, 'ametp': 10472, 'return_even_numsnum_list': 10473, 'num_list': 10474, 'even_numsappendnum': 10475, 'uefa': 10476, 'bayern': 10477, 'saintgermain': 10478, 'beaks': 10479, 'eyesight': 10480, 'feathercovered': 10481, 'energyboost': 10482, 'smells': 10483, 'nirvana': 10484, 'cranes': 10485, 'migrate': 10486, 'safeway': 10487, 'blasts': 10488, 'grates': 10489, 'miller': 10490, 'mrs': 10491, 'planes': 10492, 'performer': 10493, 'mediocrity': 10494, 'rohan': 10495, 'chloe': 10496, 'olivia': 10497, 'countscustomer_id': 10498, 'maxwidth': 10499, 'wordcloudjpg': 10500, 'steroids': 10501, 'includestdioh': 10502, 'printfjingle': 10503, 'way\\\\n': 10504, 'celebratory': 10505, 'beachgoers': 10506, 'labelusernamelabel': 10507, 'nameusername': 10508, 'labelpasswordlabel': 10509, 'typepassword': 10510, 'namepassword': 10511, 'valuelogin': 10512, 'highneck': 10513, 'prescription': 10514, 'exploiting': 10515, 'flood': 10516, 'touchdown': 10517, 'mafia': 10518, 'aberration': 10519, 'margherita': 10520, 'risotto': 10521, 'milanese': 10522, 'caprese': 10523, 'horrorthriller': 10524, 'fibrous': 10525, 'globular': 10526, 'hemoglobin': 10527, 'headphone': 10528, 'everglow': 10529, 'hiss': 10530, 'subtle': 10531, 'parasol': 10532, 'stroller': 10533, 'pace': 10534, 'disgrace': 10535, 'reclined': 10536, 'togo': 10537, 'mauritania': 10538, 'scurrying': 10539, 'thoughtfully': 10540, 'twitched': 10541, \"rabbit's\": 10542, 'sniffing': 10543, 'smelled': 10544, 'warrior': 10545, 'pursued': 10546, 'spear': 10547, 'dismissed': 10548, \"exxonmobil's\": 10549, 'settling': 10550, 'anamika': 10551, 'orchid': 10552, 'prefers': 10553, 'alexa': 10554, 'obsessivecompulsive': 10555, 'ocd': 10556, 'pathless': 10557, 'mess': 10558, 'firemannn': 10559, 'quicklyrb': 10560, 'putvbd': 10561, 'outrp': 10562, 'ragingvbg': 10563, 'firenn': 10564, 'expended': 10565, 'commensurate': 10566, 'cartoons': 10567, 'troubles': 10568, 'imposed': 10569, 'climatic': 10570, 'campaigns': 10571, 'testimonials': 10572, 'collaborations': 10573, 'ag': 10574, 'shelfflip': 10575, 'imagism': 10576, 'conversing': 10577, 'surgeons': 10578, 'futuretech': 10579, 'sneezing': 10580, 'consonants': 10581, 'clippings': 10582, 'stored': 10583, 'merger': 10584, 'prolonged': 10585, 'diving': 10586, 'surf': 10587, 'communicator': 10588, 'franchise': 10589, 'httpswwwthehungergamesmovie': 10590, 'comical': 10591, 'buoyant': 10592, 'supper': 10593, \"j'espère\": 10594, 'avez': 10595, 'agréable': 10596, 'journée': 10597, 'acolyte': 10598, 'follower': 10599, 'suitcase': 10600, \"'bleu'\": 10601, 'reds': 10602, 'woodland': 10603, 'surname': 10604, 'wheels': 10605, 'handlebars': 10606, 'saddle': 10607, 'pedals': 10608, 'coolsthe': 10609, 'whisperwinter': 10610, 'deepens': 10611, 'punctilious': 10612, 'concerned': 10613, 'affirmative': 10614, 'approving': 10615, 'driveway': 10616, 'amzn': 10617, 'msft': 10618, 'tsla': 10619, 'signals': 10620, 'nonkitchen': 10621, 'trivia': 10622, 'susanna': 10623, 'spicy': 10624, 'jalapenos': 10625, 'negatively': 10626, 'rodent': 10627, 'gopher': 10628, 'fillet': 10629, 'pesto': 10630, 'basmati': 10631, 'juicer': 10632, 'steamer': 10633, 'foreboding': 10634, 'ambled': 10635, 'spun': 10636, 'hibernate': 10637, 'groundhogs': 10638, 'hedgehogs': 10639, 'woodchucks': 10640, \"teenagers'\": 10641, 'maskupforall': 10642, 'dionysian': 10643, 'vaulted': 10644, 'capybara': 10645, 'whiterumped': 10646, 'vulture': 10647, 'subscription': 10648, 'taipei': 10649, 'uptodate': 10650, 'controversial': 10651, 'utilities': 10652, 'expectation': 10653, 'cleverly': 10654, 'icicle': 10655, 'smoothies': 10656, 'dine': 10657, 'stoic': 10658, 'enthralls': 10659, 'hexcode': 10660, 'af': 10661, 'collocation': 10662, \"'beauty'\": 10663, \"'natural\": 10664, \"beauty'\": 10665, 'skype': 10666, 'cupping': 10667, \"beatles'\": 10668, 'polyphonic': 10669, 'elbrus': 10670, 'ttest': 10671, 'statistically': 10672, 'pvalue': 10673, 'spoilage': 10674, 'microbial': 10675, 'yeasts': 10676, 'gale': 10677, 'bluster': 10678, 'squall': 10679, 'rotating': 10680, 'woken': 10681, \"l'on\": 10682, 'peut': 10683, 'raconter': 10684, 'irritated': 10685, 'reticent': 10686, 'retiring': 10687, 'infuriated': 10688, 'irked': 10689, 'accountingfinance': 10690, 'artsentertainment': 10691, 'emocionado': 10692, 'dsl': 10693, 'subscriber': 10694, 'ann': 10695, 'patchett': 10696, 'flutter': 10697, 'betelgeuse': 10698, 'dave': 10699, 'uninterested': 10700, 'dozed': 10701, '[bill': 10702, 'gates]': 10703, '[microsoft]': 10704, 'titlehello': 10705, 'worldtitle': 10706, 'hyperbola': 10707, 'y^': 10708, 'dividea': 10709, 'greetstring': 10710, 'spree': 10711, 'pinus': 10712, 'sylvestris': 10713, 'scots': 10714, 'ahover': 10715, 'marbury': 10716, 'roe': 10717, 'wade': 10718, 'i^': 10719, 'probiotic': 10720, 'surge': 10721, 'roadblocks': 10722, 'itunes': 10723, 'geological': 10724, 'friendships': 10725, 'platonic': 10726, 'bthem': 10727, 'forbid': 10728, 'independently': 10729, 'collaboratively': 10730, 'sales_increase': 10731, 'byproduct': 10732, 'nonhazardous': 10733, 'adorable': 10734, 'negotiation': 10735, 'mediation': 10736, '‘marketing’': 10737, 'everpresent': 10738, 'praiseworthy': 10739, 'radical': 10740, 'famed': 10741, 'fido': 10742, 'oncepromising': 10743, 'bailar': 10744, 'aunque': 10745, 'triste': 10746, 'jrosaexamplecom': 10747, 'jharveyexamplecom': 10748, 'bharperexamplecom': 10749, 'sthompsonexamplecom': 10750, 'bwatsonexamplecom': 10751, 'hdanielsexamplecom': 10752, 'mcooperexamplecom': 10753, 'jfordexamplecom': 10754, 'wgibsonexamplecom': 10755, 'cwilliamsexamplecom': 10756, 'carve': 10757, 'thinkpad': 10758, 'bestbuycom': 10759, 'myanmar': 10760, 'meningitis': 10761, '[start': 10762, 'gym]': 10763, 'subscriptionbased': 10764, 'delivering': 10765, 'shoppers': 10766, 'octave': 10767, 'pulse': 10768, 'sixteenth': 10769, 'migrant': 10770, 'griffiths': 10771, 'topology': 10772, 'roadmap': 10773, 'palindromic': 10774, 'hannah': 10775, 'dangers': 10776, 'goodenough': 10777, 'timorous': 10778, 'loch': 10779, 'ness': 10780, 'recovering': 10781, 'rupture': 10782, 'ordeal': 10783, 'agonizing': 10784, 'electrifying': 10785, 'karachi': 10786, 'yelling': 10787, 'disturbed': 10788, 'vaporize': 10789, 'hiphop': 10790, \"^[azaz$%'*^_][azaz][azaz][azaz]\\\\[azaz][azaz][azaz]*$\": 10791, 'chuckling': 10792, 'phillip': 10793, 'hardcover': 10794, 'mp': 10795, 'octacore': 10796, 'apologizecat': 10797, 'despacito': 10798, 'mothers': 10799, 'earning': 10800, 'bolded': 10801, 'cranberries': 10802, 'guavas': 10803, 'patiently': 10804, 'hastili': 10805, 'jfk': 10806, 'pitchforked': 10807, 'unrelenting': 10808, 'cracker': 10809, 'occurance': 10810, 'ladies': 10811, 'battling': 10812, 'moonlit': 10813, 'ubiquitous': 10814, 'rabies': 10815, '__careful__': 10816, 'phoneme': 10817, 'cheerleading': 10818, 'confirmation': 10819, 'intensified': 10820, 'firefighters': 10821, 'endwhile': 10822, 'maximilien': 10823, 'robespierre': 10824, 'crawled': 10825, 'armstrong': 10826, 'philanthropy': 10827, 'calmness': 10828, 'spanner': 10829, 'yokohama': 10830, 'nagoya': 10831, 'jelly': 10832, 'margarine': 10833, 'checkcharactersetchar_set': 10834, 'char_set': 10835, 'obliged': 10836, 'heels': 10837, 'triathlon': 10838, 'polygons': 10839, 'quadrilaterals': 10840, 'c]': 10841, '[d': 10842, '[g]': 10843, \"['house'\": 10844, \"'representatives'\": 10845, \"'voted'\": 10846, \"'thursday'\": 10847, \"'approve'\": 10848, \"'covid']\": 10849, 'dir': 10850, 'perf': 10851, 'marlon': 10852, 'brando': 10853, 'pacino': 10854, 'forced': 10855, 'shuttersmiles': 10856, 'capturingmemories': 10857, 'snapclickglow': 10858, 'lenssupreme': 10859, 'photographicfantasy': 10860, 'detroit': 10861, 'starlight': 10862, 'tornados': 10863, 'spacesuit': 10864, 'experiments': 10865, 'imo': 10866, 'despairing': 10867, 'shakespeareonlinenetplaysromeo_and_juliet': 10868, 'hone': 10869, 'svalbard': 10870, 'simplifies': 10871, 'speeds': 10872, 'ecological': 10873, 'x_n': 10874, '^n': 10875, \"project's\": 10876, 'scintillating': 10877, 'societies': 10878, 'overtaken': 10879, \"'tree'\": 10880, \"'bee'\": 10881, 'morrison': 10882, 'toni': 10883, 'ellison': 10884, 'bucket': 10885, 'figuring': 10886, 'monki': 10887, 'janesmith': 10888, '[list': 10889, 'time]': 10890, 'befuddled': 10891, 'midseventies': 10892, 'extinctions': 10893, 'dustin': 10894, 'contamination': 10895, 'procedure': 10896, 'housekeeping': 10897, 'wiltshire': 10898, 'tyrannosaurus': 10899, 'triceratops': 10900, 'stegosaurus': 10901, 'velociraptor': 10902, 'brachiosaurus': 10903, 'championships': 10904, 'sum_two_numbersx': 10905, 'sum_two_numbers': 10906, 'argue': 10907, 'surpassing': 10908, 'vaunted': 10909, 'talltale': 10910, 'saloon': 10911, 'lightbulb': 10912, '“innovate': 10913, 'decadent': 10914, 'detecting': 10915, 'httpswwwbbccomnewshealth': 10916, 'journey”': 10917, 'croissance': 10918, 'verte': 10919, 'hotelscom': 10920, 'tripadvisor': 10921, 'hosta': 10922, 'kettle': 10923, 'kettlebell': 10924, 'kleenex': 10925, 'airtight': 10926, 'industrialized': 10927, 'underlying': 10928, 'urged': 10929, 'enroll': 10930, 'tauern': 10931, 'almonds': 10932, 'visage': 10933, 'epiphany': 10934, 'plight': 10935, 'opioid': 10936, 'avgnums': 10937, 'lennums': 10938, 'crooned': 10939, 'anxieties': 10940, 'besieged': 10941, 'handbag': 10942, 'expiration': 10943, 'soulrb': 10944, 'user_input': 10945, 'msupsup': 10946, 'injured': 10947, 'second_largestlist_of_numbers': 10948, 'maxlist_of_numbers': 10949, 'list_of_numbersremovelargest': 10950, 'maxtemp': 10951, 'second_largest[': 10952, 'kardashian': 10953, 'kanye': 10954, 'evolutionary': 10955, 'megawatts': 10956, 'intervened': 10957, 'dispersed': 10958, 'protesters': 10959, 'stdcouthello': 10960, 'expulsion': 10961, 'suspension': 10962, 'slammed': 10963, 'calculate_area_herona': 10964, 's*sa*sb*sc': 10965, 'null': 10966, 'panini': 10967, 'doggy': 10968, 'shuddering': 10969, 'sheer': 10970, 'proboscis': 10971, 'ji': 10972, 'a[j][i]': 10973, 'cosos': 10974, 'erb': 10975, 'changs': 10976, '“tragedy”': 10977, 'kernel': 10978, 'mobius': 10979, 'strip': 10980, 'artisans': 10981, 'placid': 10982, 'expenditures': 10983, 'budgeting': 10984, 'resisting': 10985, 'impulsive': 10986, 'checkin': 10987, 'frenzied': 10988, 'irrational': 10989, 'couscous': 10990, 'barley': 10991, 'millet': 10992, 'strategists': 10993, 'hydronium': 10994, 'oblique': 10995, 'slanting': 10996, 'sloping': 10997, 'gm': 10998, 'fm': 10999, 'debugging': 11000, 'debugger': 11001, 'stealing': 11002, 'cowering': 11003, 'bazaar': 11004, 'selfexploration': 11005, 'skytree': 11006, 'contorted': 11007, 'claimed': 11008, 'refuge': 11009, 'wheelbase': 11010, 'mobility': 11011, 'headmounted': 11012, 'memoir': 11013, 'haiku': 11014, 'shrinking': 11015, \"irony's\": 11016, 'shimmer': 11017, 'keepsake': 11018, 'graded': 11019, 'hasty': 11020, 'hurried': 11021, 'rushed': 11022, 'precipitate': 11023, 'sharad': 11024, 'sayansh': 11025, '________*___': 11026, 'interstellar': 11027, 'runtime': 11028, 'violins': 11029, 'harp]': 11030, 'deeds': 11031, 'peerreviewed': 11032, 'duty': 11033, 'mayonnaise': 11034, 'meats': 11035, 'argumentation': 11036, '[brandname]': 11037, 'newproductlaunch': 11038, 'experiencethedifference': 11039, 'bonne': 11040, 'convince': 11041, 'dramatically': 11042, 'mine': 11043, 'cfjsup%fd^': 11044, 'subsidies': 11045, 'producers': 11046, 'population_data': 11047, 'reclining': 11048, 'backrest': 11049, 'passesenjoy': 11050, 'slips': 11051, 'awaycherish': 11052, 'rπ': 11053, 'classnamemodalwrapper': 11054, 'stylebackgroundcolorgreyborderradiuspx': 11055, 'tambourine': 11056, 'starstudded': 11057, 'lectured': 11058, 'chipper': 11059, 'acrimonious': 11060, 'votes': 11061, 'everyvotecounts': 11062, 'lip': 11063, 'balm': 11064, 'empower': 11065, 'benevolent': 11066, 'cruel': 11067, 'unkind': 11068, 'callous': 11069, 'doublechocolate': 11070, 'spice': 11071, 'shortbread': 11072, 'crinkle': 11073, 'gingerbread': 11074, 'mosquito': 11075, 'intersect': 11076, 'brilla': 11077, 'oro': 11078, 'seating_capacity': 11079, 'alwayson': 11080, 'retina': 11081, 'ecg': 11082, 'readings': 11083, 'kerry': 11084, 'astronauts': 11085, 'titleheading': 11086, 'subheadingtitle': 11087, 'calculate_circumferenceradius': 11088, 'reverse_stringinput_string': 11089, 'leninput_string': 11090, 'input_string[i]': 11091, 'printoutput_string': 11092, 'multiplies': 11093, 'theatre': 11094, 'burbage': 11095, 'condell': 11096, 'heminges': 11097, 'augustine': 11098, \"aujourd'hui\": 11099, 'disorganized': 11100, '____': 11101, 'epistemology': 11102, 'metaphysics': 11103, 'selenium': 11104, 'polonium': 11105, \"print'generated\": 11106, \"number'\": 11107, 'my_list': 11108, 'round_to_two_decimalnum': 11109, 'printround_to_two_decimal': 11110, 'morningafternooneveningday': 11111, 'attracted': 11112, \"'x\": 11113, \"]'\": 11114, 'yellowishpurple': 11115, 'specks': 11116, 'humpback': 11117, 'children’s': 11118, 'dazzled': 11119, '%value%': 11120, 'accommodations': 11121, 'airbnb': 11122, 'milliseconds': 11123, 'student’s': 11124, 'leucocephalus': 11125, 'shook': 11126, 'cracking': 11127, 'solves': 11128, '[voice': 11129, 'fencing': 11130, 'handball': 11131, 'bowling': 11132, 'iwork': 11133, 'holocaust': 11134, 'chernobyl': 11135, 'rwandan': 11136, 'genocide': 11137, 'shortterm': 11138, 'ripening': 11139, 'mundane': 11140, 'streamlining': 11141, 'discord': 11142, 'palpable': 11143, 'mamba': 11144, 'booked': 11145, 'ibuprofen': 11146, 'amoxicillin': 11147, 'metoprolol': 11148, 'ultra': 11149, 'starving': 11150, 'actionable': 11151, 'staple': 11152, 'anish': 11153, 'kapoor': 11154, 'kara': 11155, 'holzer': 11156, 'round_numnum': 11157, 'printround_num': 11158, '±√': 11159, 'i√': 11160, 'consumes': 11161, 'watts': 11162, 'ecofootprint': 11163, 'mutant': 11164, 'wildtype': 11165, 'delphi': 11166, 'peninsula': 11167, 'appropriately': 11168, 'hedgehog': 11169, 'veganism': 11170, 'influencers': 11171, 'kalahari': 11172, 'postcovid': 11173, 'selfmotivated': 11174, 'empathetic': 11175, 'carbohydrate': 11176, 'lilac': 11177, 'glycerol': 11178, 'hamsters': 11179, 'ferrets': 11180, 'datatype[]': 11181, 'datatype[arraysize]': 11182, 'overnight': 11183, 'gnarled': 11184, 'alacrity': 11185, 'eagerness': 11186, 'striping': 11187, 'predatory': 11188, 'meek': 11189, 'productint': 11190, 'cloaks': 11191, 'curvy': 11192, 'kings': 11193, 'crowns': 11194, 'soulful': 11195, 'johnsmithemailcom': 11196, 'my_object': 11197, 'myclass': 11198, 'meandering': 11199, 'glints': 11200, 'cascade': 11201, \"twilight's\": 11202, 'tastier': 11203, \"d'apprendre\": 11204, 'français': 11205, 'suffix': 11206, \"'helpful'\": 11207, \"'ful'\": 11208, 'newham': 11209, 'waltham': 11210, 'lambda': 11211, 'enticing': 11212, 'dipping': 11213, 'portrayed': 11214, 'pose': 11215, 'militarystyle': 11216, 'embroidery': 11217, 'yoganotonlyforflexibility': 11218, 'darwin': 11219, 'rire': 11220, 'remède': 11221, 'autolock': 11222, 'stomped': 11223, \"yesterday's\": 11224, 'codes': 11225, 'cholesterol': 11226, 'activists': 11227, 'reserve': 11228, 'customer_info': 11229, '⁷': 11230, 'roastsrainbow': 11231, 'fishtailed': 11232, 'vaccination': 11233, 'dinosaur': 11234, 'springtime': 11235, 'royale': 11236, 'exuded': 11237, 'effervescence': 11238, 'migrating': 11239, 'minus': 11240, 'stylebackground': 11241, 'lineargradientto': 11242, 'ccf': 11243, 'welloff': 11244, 'queue': 11245, 'rumored': 11246, 'brolla': 11247, 'eliot': 11248, 'andor': 11249, 'hydrate': 11250, 'hpc': 11251, 'où': 11252, 'magasin': 11253, 'proche': 11254, 'apprise': 11255, 'loquacious': 11256, 'proved': 11257, 'stringed': 11258, 'lofty': 11259, 'adj': 11260, 'elevated': 11261, 'apparently': 11262, 'woofdication': 11263, 'sumofarrayarr': 11264, 'forvar': 11265, 'iiarrlengthi': 11266, 'sumarr[i]': 11267, 'riddles': 11268, 'ladders': 11269, 'blessings': 11270, 'malus': 11271, 'pumila': 11272, 'sinensis': 11273, 'peep': 11274, 'creep': 11275, 'heap': 11276, 'leep': 11277, 'dort': 11278, 'rimrore': 11279, 'rerrimo': 11280, 'mrieror': 11281, 'erormir': 11282, 'remorir': 11283, 'rorreim': 11284, 'salle': 11285, 'états': 11286, 'wwwnikecom': 11287, 'allocate': 11288, 'eclipse': 11289, 'nourishment': 11290, 'twenties': 11291, 'moxie': 11292, 'splendiferous': 11293, 'pluvious': 11294, 'revive': 11295, 'replanting': 11296, 'frolicking': 11297, 'convergence': 11298, 'braveheart': 11299, \"'moved'\": 11300, 'emphasises': 11301, 'treating': 11302, 'courtesy': 11303, 'executed': 11304, 'slew': 11305, 'cafeterias': 11306, 'formulating': 11307, 'drizzly': 11308, 'soggy': 11309, 'meannum': 11310, \"bob's\": 11311, 'wetter': 11312, 'heute': 11313, \"others'\": 11314, 'decides': 11315, 'containsstringliststring': 11316, 'listcontainss': 11317, '“fishing”': 11318, 'lips': 11319, 'coordinated': 11320, 'p*': 11321, 'i*': 11322, 'pproduct_id': 11323, 'iproduct_id': 11324, 'students_view': 11325, 'fahrenheit_to_celsiustemp_in_fahrenheit': 11326, 'temp_in_fahrenheit': 11327, 'outbreak': 11328, 'spotting': 11329, 'allé': 11330, 'fascinate': 11331, 'selfactualization': 11332, \"maslow's\": 11333, 'sacrificing': 11334, 'stated': 11335, 'sedulous': 11336, 'nigh': 11337, 'acf': 11338, 'barbados': 11339, 'modification': 11340, 'shrouds': 11341, '[album]': 11342, 'laser': 11343, 'electrocauterization': 11344, 'cryosurgery': 11345, 'chemosurgery': 11346, 'curettement': 11347, 'tissue': 11348, 'sought': 11349, 'objection': 11350, 'hbo': 11351, 'otherness': 11352, \"princess's\": 11353, 'artistry': 11354, 'rem': 11355, 'employee_id': 11356, 'lasts': 11357, '😀': 11358, 'firstperson': 11359, 'bateada': 11360, '**mlstakes**': 11361, '**mlstak**': 11362, 'easly': 11363, '**visble**': 11364, 'proves': 11365, 'constructions': 11366, 'treasures': 11367, 'n^': 11368, 'pooch': 11369, 'yelped': 11370, 'srchuman_settlement_infographicjpg': 11371, 'althuman': 11372, 'ecstasy': 11373, 'ascii': 11374, 'uarit': 11375, 'seatbelts': 11376, 'quotation': 11377, 'reduction': 11378, 'cheeseburger': 11379, 'plates': 11380, 'cutlery': 11381, 'stylized': 11382, 'organicsinc': 11383, 'calgary': 11384, 't’aime': 11385, 'mallards': 11386, 'quakers': 11387, 'ivory': 11388, 'launching': 11389, 'fizzi': 11390, 'berry': 11391, 'soundtrack': 11392, 'digging': 11393, 'cultivated': 11394, 'showcase': 11395, 'smartwatch': 11396, 'camels': 11397, 'lizards': 11398, 'skyscraper': 11399, 'edit': 11400, 'engenders': 11401, 'bites': 11402, 'penned': 11403, 'sized': 11404, 'frequencies]': 11405, 'edison': 11406, 'commercially': 11407, 'practicable': 11408, 'incandescent': 11409, 'contingency': 11410, 'prayer': 11411, 'whinnied': 11412, 'effectthe': 11413, 'boredom': 11414, '**think**': 11415, '**act**': 11416, '**humans**': 11417, 'penelope': 11418, 'catwoman': 11419, 'stained': 11420, 'fingerprints': 11421, 'formal': 11422, 'drunken': 11423, 'rave': 11424, 'mustwatch': 11425, 'disturbing': 11426, 'chemist': 11427, 'contributed': 11428, \"dna's\": 11429, 'reflex': 11430, 'absent': 11431, 'seville': 11432, \"evening's\": 11433, 'hush': 11434, 'jumbled': 11435, 'bicycles': 11436, 'ninthlargest': 11437, 'amigo': 11438, 'tiene': 11439, 'gatos': 11440, 'notebooks': 11441, 'eyecatching': 11442, 'decoration': 11443, 'grandpa': 11444, 'lineheight': 11445, 'naturally': 11446, 'ditch': 11447, 'lifeless': 11448, 'moisturized': 11449, 'vibranthair': 11450, 'caption': 11451, 'fashionably': 11452, 'underneath': 11453, 'logue': 11454, 'mewling': 11455, 'puking': 11456, 'potatofaced': 11457, 'illliver': 11458, 'sightings': 11459, 'omnipogean': 11460, 'punished': 11461, 'crimes': 11462, 'tuples_list': 11463, 'listziplist': 11464, 'printtuples_list': 11465, 'yellow]': 11466, 'competitiveness': 11467, 'electorate': 11468, \"economy's\": 11469, 'politically': 11470, 'worshipping': 11471, 'singlesex': 11472, 'vaccinating': 11473, 'protected': 11474, 'takecare': 11475, 'ams': 11476, 'ummy': 11477, 'elds': 11478, 'walnuts': 11479, 'pecans': 11480, 'pecan': 11481, 'closet': 11482, 'juxtapose': 11483, 'assessing': 11484, 'creaked': 11485, 'moaned': 11486, 'byproducts': 11487, 'bugatti': 11488, 'veyron': 11489, 'tainted': 11490, 'whom': 11491, 'hydrating': 11492, 'moisturizing': 11493, 'antiaging': 11494, 'fleece': 11495, 'aeronautics': 11496, 'bulbs': 11497, 'programme': 11498, 'boas': 11499, 'anteaters': 11500, 'anacondas': 11501, 'perpetual': 11502, 'thegreatgatsby': 11503, 'ulysses': 11504, 'animalfarm': 11505, 'tokillamockingbird': 11506, 'predict_coin': 11507, 'randomrandom': 11508, 'cascades': 11509, 'namedescription': 11510, 'contentsample': 11511, 'prototype': 11512, 'sortnumbersarr': 11513, 'autonomously': 11514, 'contractual': 11515, 'whitebreasted': 11516, 'nuthatch': 11517, 'tension': 11518, 'looms': 11519, 'understatement': 11520, 'agotado': 11521, 'después': 11522, 'largo': 11523, 'día': 11524, 'count_ainput_string': 11525, 'input_string': 11526, 'primes': 11527, 'sweetest': 11528, 'squid': 11529, 'anglerfish': 11530, 'drawbacks': 11531, 'relinquish': 11532, 'reverential': 11533, 'motifs': 11534, 'gary': 11535, 'bursts': 11536, 'purples': 11537, 'swimmers': 11538, 'tactic': 11539, 'sessions': 11540, 'mcafee': 11541, 'norton': 11542, 'tac': 11543, 'esuoh': 11544, 'eert': 11545, 'crowdfunding': 11546, 'craziest': 11547, 'approved': 11548, 'fresno': 11549, 'cosine': 11550, 'yaxis': 11551, 'deciphered': 11552, 'outline': 11553, 'plagiarism': 11554, 'deliberate': 11555, 'acknowledging': 11556, 'chain': 11557, 'attach': 11558, 'safeguard': 11559, 'stors': 11560, 'caue': 11561, 'lrge': 11562, 'amouts': 11563, 'dmage': 11564, 'broom': 11565, 'pizzas': 11566, 'staring': 11567, 'subjectverbadjective': 11568, 'countryusa': 11569, 'order_id': 11570, 'coagulate': 11571, 'on—': 11572, 'arising': 11573, 'multiply_bytwoarr': 11574, 'ele': 11575, 'result_arrappendele*': 11576, 'delightfully': 11577, 'missions': 11578, 'voracious': 11579, 'shelves': 11580, 'statins': 11581, 'outlets': 11582, 'muggy': 11583, 'birthstone': 11584, 'pearl': 11585, 'alexandrite': 11586, 'tenderloin': 11587, 'arroz': 11588, 'pollo': 11589, 'moqueca': 11590, 'tosses': 11591, 'muscovite': 11592, 'mica': 11593, 'coursing': 11594, 'veins': 11595, 'classy': 11596, 'snickers': 11597, 'confectionery': 11598, 'bok': 11599, 'choy': 11600, 'beech': 11601, 'remaining': 11602, 'witting': 11603, 'supplementation': 11604, 'severity': 11605, 'tarana': 11606, 'burke': 11607, 'jacinda': 11608, 'ardern': 11609, 'oprah': 11610, 'winfrey': 11611, 'drifted': 11612, 'pickleball': 11613, 'one’s': 11614, 'fullstack': 11615, 'webmaster': 11616, 'strategist': 11617, 'ui': 11618, 'thrown': 11619, 'lectures': 11620, 'voiceless': 11621, 'gestation': 11622, 'banning': 11623, 'mannequins': 11624, 'unattainable': 11625, 'sizes': 11626, 'chapter': 11627, 'outwards': 11628, 'mold': 11629, 'blossoms': 11630, 'splendidly': 11631, 'tibetan': 11632, 'hardanger': 11633, 'nyckelharpa': 11634, 'glasguitar': 11635, 'coupophone': 11636, 'conception': 11637, 'sirius': 11638, 'canopus': 11639, 'arcturus': 11640, 'rigel': 11641, 'emission': 11642, '*sqrt≈': 11643, 'misses': 11644, 'weekdays': 11645, 'displacement': 11646, 'cluck': 11647, 'competed': 11648, 'acrid': 11649, 'stinging': 11650, 'pickwick': 11651, 'glamorous': 11652, 'discrepancy': 11653, 'entries': 11654, 'inflows': 11655, 'hstt$v': 11656, 'formation': 11657, 'eastward': 11658, 'yummy': 11659, 'grizzly': 11660, 'carnivora': 11661, 'perissodactyla': 11662, 'superhuman': 11663, 'piloted': 11664, 'mosquitoes': 11665, 'chikungunya': 11666, 'dengue': 11667, 'saskatchewan': 11668, 'quebec': 11669, 'manitoba': 11670, 'strolling': 11671, 'loops': 11672, 'modules': 11673, 'doughnuts': 11674, 'doughy': 11675, 'aaf': 11676, 'apodemus': 11677, 'sylvaticus': 11678, 'fleschkincaid': 11679, 'readability': 11680, 'genetically': 11681, 'modified': 11682, 'enraptured': 11683, 'knights': 11684, 'decree': 11685, 'stealthily': 11686, 'sketched': 11687, 'layout': 11688, 'activist': 11689, 'suing': 11690, 'logging': 11691, 'goblet': 11692, 'shuffle_deckdeck': 11693, 'shuffled_deckappenddeckpopindex': 11694, 'simplifying': 11695, 'okinawa': 11696, 'precipitous': 11697, 'impetuous': 11698, 'instantaneous': 11699, 'captured': 11700, 'vivd': 11701, 'brainstorm': 11702, 'eyebrow': 11703, 'rainbowsbr': 11704, 'awaybrfrom': 11705, 'dehumidifier': 11706, 'controlling': 11707, 'snug': 11708, 'celebrates': 11709, 'botnet': 11710, 'malfunctioning': 11711, 'faltering': 11712, 'defective': 11713, 'impaired': 11714, 'scarcely': 11715, 'enthralled': 11716, 'salesman': 11717, 'unprofessional': 11718, 'unconquerable': 11719, 'nimblemonkey': 11720, 'lazyelephant': 11721, 'sleekwhale': 11722, 'quickotter': 11723, 'shinyfawn': 11724, 'bernoulli': 11725, 'stratified': 11726, 'rejection': 11727, 'radiate': 11728, 'clambered': 11729, 'timid': 11730, 'calculatearearect$length': 11731, '$length': 11732, 'grapefruits': 11733, 'melons': 11734, \"restaurant's\": 11735, 'decor': 11736, 'scifi': 11737, 'bestowed': 11738, 'environmentfriendly': 11739, 'emit': 11740, 'toasty': 11741, \"'enormous'\": 11742, \"'majestic'\": 11743, 'luca': 11744, 'pacioli': 11745, 'dip': 11746, 'mild': 11747, 'infant': 11748, 'boisterous': 11749, 'ravishing': 11750, 'trot': 11751, 'gallop': 11752, \"'went'\": 11753, 'relabeled': 11754, '[agree': 11755, 'uncertain]': 11756, 'bieber': 11757, 'httpsenwikipediaorgwikijustin_bieber': 11758, 'plumber': 11759, 'beaucoup': 11760, 'travail': 11761, 'kyary': 11762, 'babymetal': 11763, 'miyavi': 11764, 'perfume': 11765, 'tmrevolution': 11766, 'wixcom': 11767, 'squarespacecom': 11768, 'wordpressorg': 11769, 'weeblycom': 11770, 'shopifycom': 11771, 'deleted': 11772, 'violates': 11773, 'zscore': 11774, 'sales_date': 11775, 'number_of_purchases': 11776, 'throws': 11777, 'tick': 11778, 'tock': 11779, 'optimum': 11780, 'yarn': 11781, 'printlenhello': 11782, 'energized': 11783, 'inculcate': 11784, 'viscous': 11785, 'mindblowing': 11786, 'secretariat': 11787, 'monoprix': 11788, 'bourdonnais': 11789, 'inanimate': 11790, 'wrecked': 11791, 'oncoming': 11792, \"plane's\": 11793, 'departure': 11794, 'unresponsive': 11795, 'navigation': 11796, 'menus': 11797, 'unintended': 11798, 'popups': 11799, 'turbines': 11800, 'dict': 11801, 'tenacity': 11802, 'transitive': 11803, 'conjugated': 11804, 'irei': 11805, 'commits': 11806, 'onebyone': 11807, 'rápido': 11808, 'marrón': 11809, 'saltó': 11810, 'perezoso': 11811, 'quiz': 11812, 'capping': 11813, 'camouflage': 11814, \"'capping'\": 11815, \"'camouflage'\": 11816, \"'caterpillar'\": 11817, 'durmiendo': 11818, 'cama': 11819, 'deletions': 11820, 'gtacat': 11821, 'pacman': 11822, 'frogger': 11823, 'galaga': 11824, 'studentrecords': 11825, 'studentnamejohn': 11826, 'gregorian': 11827, 'julian': 11828, 'procrastinate': 11829, 'transforms': 11830, \"'artificial\": 11831, 'maxdate': 11832, \"smith'\": 11833, 'agilely': 11834, 'blindly': 11835, 'blundered': 11836, 'triplescreen': 11837, 'aquariums': 11838, 'guppy': 11839, 'poecilia': 11840, 'reticulata': 11841, 'xff': 11842, 'calculatetotalcostitems': 11843, \"item['quantity']\": 11844, \"item['price']\": 11845, 'pilgrimage': 11846, 'holy': 11847, 'n*factorialn': 11848, 'ecoregion': 11849, 'fir': 11850, 'hemlock': 11851, 'personx': 11852, 'spellings': 11853, 'joyously': 11854, 'contrite': 11855, 'facade': 11856, 'procedures': 11857, 'rumpled': 11858, \"grandparents'\": 11859, 'traction': 11860, 'digitalmarketingwebinar': 11861, 'eternal': 11862, \"document's\": 11863, 'extension': 11864, 'canada’s': 11865, 'cheaper': 11866, 'featured': 11867, 'greene': 11868, 'ross': 11869, 'geller': 11870, 'cliché': 11871, 'is_substrings': 11872, 'discriminant': 11873, 'strumming': 11874, 'specific_value': 11875, 'data_type': 11876, 'variable_name': 11877, 'liter': 11878, 'possibly': 11879, 'commissioner': 11880, 'unhcr': 11881, 'rohingya': 11882, 'brightest': 11883, 'youthful': 11884, 'circuit': 11885, 'sensational': 11886, 'downy': 11887, 'maxrating': 11888, 'penchant': 11889, 'predilection': 11890, 'affordability': 11891, 'fractional': 11892, 'safeguarding': 11893, 'munch': 11894, 'samira': 11895, 'sincere': 11896, 'convert_to_binarynum': 11897, 'binary_num': 11898, 'binary_num[]': 11899, 'accountable': 11900, 'maxdate_of_birth': 11901, 'molality': 11902, 'moles': 11903, 'integral': 11904, 'nationaltoysday': 11905, 'toysday': 11906, 'lovetoys': 11907, 'funwithtoys': 11908, 'newfoundland': 11909, 'prevention': 11910, 'peacocks': 11911, 'shed': 11912, 'regrow': 11913, 'herons': 11914, 'parmigiano': 11915, 'reggiano': 11916, 'grana': 11917, 'padano': 11918, 'pecorino': 11919, 'romano': 11920, 'gorgonzola': 11921, 'baguette': 11922, 'peakseek': 11923, 'snowglow': 11924, 'fadeaid': 11925, 'roomboom': 11926, 'chalkwalk': 11927, 'thinkblink': 11928, 'wavegrave': 11929, 'highsky': 11930, 'mastery': 11931, 'jaz': 11932, 'doves': 11933, 'notre': 11934, 'dame': 11935, 'anticipates': 11936, 'ctrl': 11937, 'iris': 11938, 'sumamount': 11939, 'austin': 11940, \"medium'\": 11941, 'cafeteria': 11942, 'disagreement': 11943, 'spine': 11944, 'pregnancy': 11945, 'immediate': 11946, 'evidently': 11947, 'viewers’': 11948, 'tyson': 11949, 'fury': 11950, 'ipod': 11951, 'dell': 11952, 'asus': 11953, 'sox': 11954, 'cowboys': 11955, 'communism': 11956, 'theocracy': 11957, 'x³': 11958, 'y³': 11959, 'z³': 11960, 'hung': 11961, 'memorizing': 11962, 'onetenth': 11963, 'teardrops': 11964, 'unruly': 11965, \"mountain's\": 11966, 'provision': 11967, 'bountiful': 11968, 'vexed': 11969, 'emanating': 11970, 'heeded': 11971, 'popsicles': 11972, 'disappointing': 11973, 'smalltown': 11974, 'rendered': 11975, 'gcd': 11976, 'spaceship': 11977, 'dkpt': 11978, 'dodecagon': 11979, \"'bout\": 11980, 'whit': 11981, 'dae': 11982, 'delaware': 11983, 'midatlantic': 11984, 'colonial': 11985, 'jittery': 11986, 'jumpy': 11987, 'rattled': 11988, 'perturbed': 11989, 'disquieted': 11990, 'troubled': 11991, 'flustered': 11992, 'apprehensive': 11993, 'scattering': 11994, 'randomnextint': 11995, 'generates': 11996, 'humility': 11997, 'merits': 11998, 'romantically': 11999, 'nighttime': 12000, 'serendipitous': 12001, 'kennel': 12002, 'bibliophile': 12003, 'insatiable': 12004, 'semiarid': 12005, 'highland': 12006, 'bittersweet': 12007, 'comet': 12008, 'extinction': 12009, 'dinosaurs': 12010, 'funding': 12011, 'cleanup': 12012, 'amphibians': 12013, 'toads': 12014, 'newts': 12015, 'salamanders': 12016, 'caecilians': 12017, 'grab': 12018, 'permutation': 12019, 'prodigious': 12020, 'indelibility': 12021, 'agrees': 12022, 'stimulus': 12023, 'attempted': 12024, 'bedtime': 12025, 'inp': 12026, \"even'\": 12027, \"odd'\": 12028, 'aerobics': 12029, 'acrophobia': 12030, 'catered': 12031, 'garam': 12032, 'masala': 12033, 'quintillion': 12034, 'pickmeup': 12035, 'observer': 12036, 'guarded': 12037, 'tanned': 12038, 'econaturals': 12039, 'nurturing': 12040, 'brokeback': 12041, 'aether': 12042, 'unitary': 12043, 'marvel': 12044, 'widow': 12045, 'dripping': 12046, 'stepped': 12047, 'fukuoka': 12048, 'kagoshima': 12049, 'datetimenow': 12050, 'printthen': 12051, 'my_dict': 12052, 'tarp': 12053, 'canteen': 12054, 'unknowable': 12055, 'storming': 12056, 'norming': 12057, 'adjourning': 12058, \"'piano'\": 12059, \"'pyahno'\": 12060, \"'peeano'\": 12061, \"'payahno'\": 12062, 'clinton': 12063, 'loyola': 12064, 'garner': 12065, 'fresco': 12066, 'mosaic': 12067, 'séance': 12068, 'chalkboard': 12069, 'sharpener': 12070, 'maintains': 12071, 'cursor': 12072, 'process_datadata': 12073, 'processx': 12074, 'storeoutput': 12075, 'printoutput': 12076, 'sheikh': 12077, 'hasina': 12078, 'wallop': 12079, 'acoustic': 12080, \"pet's\": 12081, 'groomed': 12082, 'pear]': 12083, '[grape': 12084, 'peach]': 12085, 'conventional': 12086, 'evans': 12087, 'hottest': 12088, 'sneaker': 12089, 'italicized': 12090, 'stylefontsize': 12091, 'storyteller': 12092, 'grandeur': 12093, 'scientifically': 12094, 'rubrum': 12095, 'jessica': 12096, 'soldiers': 12097, 'xi': 12098, 'jinping': 12099, 'harrison': 12100, 'starr': 12101, 'elsa': 12102, 'olaf': 12103, 'reprimanded': 12104, 'breached': 12105, 'startling': 12106, 'tray': 12107, 'localized': 12108, 'pesos': 12109, 'caribbean': 12110, 'creole': 12111, 'httpswwwpythonorgdevpepspep': 12112, 'httpsdbaderorgblogbestpracticesforbetterpythoncode': 12113, 'httpswwwpythonorgdevpepspepbestpractices': 12114, 'crossings': 12115, 'mispelled': 12116, 'globalization': 12117, 'conifer': 12118, 'botanical': 12119, 'pinophyta': 12120, 'emu': 12121, \"rose'\": 12122, 'uniform': 12123, \"go'\": 12124, 'upvote': 12125, 'india’s': 12126, 'assurance': 12127, 'cheered': 12128, 'medalist': 12129, 'flags': 12130, '[string': 12131, 'string]': 12132, 'fort': 12133, 'qutub': 12134, 'minar': 12135, 'tesla’s': 12136, 'sunsets': 12137, 'brittle': 12138, \"'walk'\": 12139, 'inability': 12140, 'systemoutprintlnhelloworld': 12141, 'bluebird': 12142, 'primly': 12143, 'equator': 12144, 'coordinate': 12145, 'explicitly': 12146, 'flor': 12147, 'hermosa': 12148, 'bangkok': 12149, 'chiang': 12150, 'mai': 12151, 'phuket': 12152, 'chonburi': 12153, 'pattaya': 12154, 'unsound': 12155, 'necessarily': 12156, 'depend': 12157, 'physically': 12158, 'emotionally': 12159, 'fairy': 12160, 'juulfen': 12161, 'apollo': 12162, 'anticipated': 12163, 'sideof': 12164, 'chimpanzees': 12165, 'teamname': 12166, 'kudos': 12167, 'dystopia': 12168, 'surveillance': 12169, 'tony': 12170, 'bruce': 12171, 'xmen': 12172, 'blind': 12173, 'persisted': 12174, 'duct': 12175, 'shoelaces': 12176, 'vanquished': 12177, 'usersname': 12178, 'blogpoststitle': 12179, 'blogposts': 12180, 'usersid': 12181, 'blogpostsauthor_id': 12182, 'refuted': 12183, 'misconduct': 12184, 'individualism': 12185, 'spirituality': 12186, 'nevada': 12187, 'meadian': 12188, 'lately': 12189, 'blackbird': 12190, 'tapajos': 12191, 'distinctive': 12192, 'chestnutcoloured': 12193, 'theer': 12194, 'volunteering': 12195, 'harvested': 12196, 'thirst': 12197, 'quenched': 12198, '*sqrt': 12199, 'practiced': 12200, 'felis': 12201, 'silvestris': 12202, 'catus': 12203, 'occupy': 12204, 'orbit': 12205, 'torn': 12206, 'disembarked': 12207, 'protested': 12208, 'salvation': 12209, 'check_string_lengths': 12210, 'gamboled': 12211, 'replied': 12212, \"waste's\": 12213, 'discard': 12214, \"'rome'\": 12215, 'complacent': 12216, 'indicating': 12217, 'transcribe': 12218, 'lackadaisical': 12219, 'spotlight': 12220, 'bounced': 12221, \"[['harry_potter'\": 12222, \"'abcd'\": 12223, \"'uk']\": 12224, \"['superman'\": 12225, \"'qwerty'\": 12226, \"'usa']\": 12227, \"['spiderman'\": 12228, \"'password'\": 12229, \"'australia']\": 12230, \"['ironman'\": 12231, \"'china']]\": 12232, 'arjun': 12233, 'raised': 12234, 'percentages': 12235, '[pie': 12236, 'chart]httpsiimgurcomactdwpng': 12237, 'humankind': 12238, 'productname': 12239, 'gore': 12240, 'ostriches': 12241, 'fixation': 12242, '“family”': 12243, 'dogcatsnakeelephant': 12244, 'birdturtle': 12245, 'websitecom': 12246, 'tagline': 12247, 'thermodynamic': 12248, 'subtracted': 12249, 'non': 12250, 'freshmade': 12251, 'removeduplicatesstrings': 12252, 'uniquestringsappendstr': 12253, 'accomplishmentosis': 12254, 'attain': 12255, 'invite': 12256, \"iphone—it's\": 12257, 'thegamechanger': 12258, 'tigris': 12259, 'southwest': 12260, 'traversing': 12261, 'rubens': 12262, 'gianlorenzo': 12263, 'bernini': 12264, 'artemisia': 12265, 'gentileschi': 12266, 'eief': 12267, 'inhabit': 12268, 'retaining': 12269, 'eaglelion': 12270, 'hybrid': 12271, 'beak': 12272, 'rihanna': 12273, 'phunkie': 12274, 'pug': 12275, 'arrangement': 12276, 'bflat': 12277, 'gbflatamagbflataam': 12278, 'subsaharan': 12279, 'pcb': 12280, 'ohayou': 12281, 'rippled': 12282, 'musings': 12283, 'pseudocode': 12284, 'get_input_from_user': 12285, 'listappendinput': 12286, 'ask_user_if_they_want_to_continue': 12287, 'filename': 12288, \"'%insurance%'\": 12289, \"filetype'pdf'\": 12290, 'isvalidphonenumberphonenumber': 12291, '^\\\\d\\\\d\\\\d$': 12292, 'regextestphonenumber': 12293, 'distributing': 12294, 'performs': 12295, 'reverse': 12296, 'reversestringhello': 12297, 'unsupport': 12298, 'solely': 12299, 'operated': 12300, 'pawsnclaws': 12301, 'aliceemailcom': 12302, 'johnemailcom': 12303, 'sucre': 12304, 'rowed': 12305, 'biofuels': 12306, 'sorely': 12307, 'canceled': 12308, 'obtained': 12309, 'ehfuhrvesuhnt': 12310, 'shall': 12311, '_go_': 12312, 'skirt': 12313, 'funeral': 12314, 'perpendicular': 12315, 'symmetry': 12316, 'yoshihide': 12317, 'suga': 12318, 'texttointtext': 12319, 'rainier': 12320, 'wanderer': 12321, 'stylebackgroundcoloreeeeeepaddingpxthis': 12322, 'syntaxdiv': 12323, 'repudiate': 12324, 'figurines': 12325, 'superstition': 12326, 'mythology': 12327, 'legend': 12328, 'constellations': 12329, 'vanishing': 12330, 'whipping': 12331, 'typhoon': 12332, 'curly': 12333, 'cπr': 12334, 'kenopsia': 12335, 'svms': 12336, 'anns': 12337, 'scrubbed': 12338, 'exfoliated': 12339, 'weighing': 12340, '^[]$': 12341, 'seventh': 12342, 'amazonprimeday': 12343, 'nonutensils': 12344, 'beijin': 12345, 'baijing': 12346, 'beijinga': 12347, 'showers': 12348, 'tripped': 12349, 'toi': 12350, 'connecticut': 12351, 'foramina': 12352, 'skull': 12353, 'magnum': 12354, 'ovale': 12355, 'wounded': 12356, 'battered': 12357, 'bruised': 12358, 'initially': 12359, 'benign': 12360, 'exhibiting': 12361, 'bearish': 12362, 'tendencies': 12363, 'restaurantthe': 12364, 'evergrowing': 12365, 'omnivores': 12366, 'arraysize': 12367, 'printf%d': 12368, 'printsortedlist': 12369, \"'bananas'\": 12370, \"'anana'\": 12371, 'deceiving': 12372, 'glitters': 12373, 'satisfactorily': 12374, 'courageously': 12375, 'adjacent': 12376, 'tangent': 12377, 'seaport': 12378, 'uss': 12379, 'midway': 12380, 'gis': 12381, 'chihuahuan': 12382, 'mojave': 12383, 'sonoran': 12384, 'belarus': 12385, 'moldova': 12386, 'armenia': 12387, 'kazakhstan': 12388, 'knitting': 12389, 'weaving': 12390, 'tapestry': 12391, 'stylefontstyle': 12392, 'largeremthis': 12393, 'aliveemspan': 12394, 'converse': 12395, 'couples': 12396, 'cheap': 12397, 'midrange': 12398, 'constraints': 12399, 'essentials': 12400, 'y²': 12401, 'z²': 12402, 'r²': 12403, 'loxodonta': 12404, 'africana': 12405, 'whiz': 12406, 'kid': 12407, 'brewed': 12408, 'approaching': 12409, 'reconcile': 12410, 'reunite': 12411, 'costeffectiveness': 12412, 'rejoicing': 12413, 'gcda': 12414, 'gcdb': 12415, 'hennessy': 12416, 'sanitation': 12417, 'intestinal': 12418, 'parasites': 12419, 'offenses': 12420, 'felonies': 12421, 'rape': 12422, 'arson': 12423, 'kidnapping': 12424, 'beguiled': 12425, 'debris': 12426, 'comprends': 12427, 'pourquoi': 12428, 'arrivé': 12429, 'elusive': 12430, 'evasive': 12431, 'supple': 12432, 'frontiers': 12433, 'ushering': 12434, 'circular': 12435, 'eliminating': 12436, 'endorsed': 12437, \"rembrandt's\": 12438, 'exposed': 12439, 'httpapiopenweathermaporgdataweatherqchandigarhappidappid': 12440, 'powerhouse': 12441, 'gina': 12442, 'baltic': 12443, 'lithuania': 12444, 'latvia': 12445, 'mathematically': 12446, 'commoncharcount$str': 12447, '$str': 12448, '$intersect': 12449, 'array_intersect$str_arr': 12450, 'count$intersect': 12451, 'changebackgroundcolorcolor': 12452, 'documentbodystylebackgroundcolor': 12453, 'exchangetraded': 12454, 'trusts': 12455, 'descending_sortarr': 12456, 'arrsortreverse': 12457, 'lobby': 12458, 'importante': 12459, 'entreprise': 12460, 'réussie': 12461, 'clientèle': 12462, 'neutralization': 12463, 'decomposition': 12464, 'synthesis': 12465, 'gpu': 12466, 'highres': 12467, 'dataworld': 12468, 'datagov': 12469, 'm^': 12470, 'gamo': 12471, 'itemssort': 12472, 'sorteditems': 12473, 'regrettably': 12474, 'occupied': 12475, 'arachnids': 12476, 'southeast': 12477, 'bilingual': 12478, 'protests': 12479, 'erupt': 12480, 'shooting': 12481, \"'apple%'\": 12482, 'littleknown': 12483, \"'chat'\": 12484, 'auditorium': 12485, 'avg_num': 12486, 'execute': 12487, 'charing': 12488, 'sumo': 12489, 'wrestling': 12490, 'karate': 12491, 'judo': 12492, 'heal': 12493, 'ambiance': 12494, \"scientist's\": 12495, 'sixtytwo': 12496, \"osmkdir'cats'\": 12497, \"print'cats\": 12498, \"rule'\": 12499, 'watchman': 12500, 'reverend': 12501, 'symbolizes': 12502, 'jackie': 12503, 'chan': 12504, \"book—it's\": 12505, 'lilacs': 12506, 'hyacinths': 12507, 'slowing': 12508, 'laboring': 12509, 'orchestra': 12510, 'charlotte': 12511, 'bronte': 12512, 'humphrey': 12513, 'bogart': 12514, 'organs': 12515, 'erin': 12516, 'brockovich': 12517, 'embarking': 12518, 'bristling': 12519, 'htmlcss': 12520, 'bootstrap': 12521, 'jquery': 12522, 'surrealistically': 12523, 'snuggling': 12524, 'overslept': 12525, 'questioning': 12526, 'sniffle': 12527, \"'africa'\": 12528, 'jimbo': 12529, 'choir': 12530, 'chlamydiosis': 12531, 'newcastle': 12532, 'salmonellosis': 12533, 'pox': 12534, 'revelations': 12535, 'heck': 12536, 'sort_listarr': 12537, 'arrsortreversetrue': 12538, 'sort_list[': 12539, 'criticize': 12540, 'discouragement': 12541, 'topple': 12542, 'establish': 12543, 'sleepfriendly': 12544, 'vaccinated': 12545, 'wired': 12546, 'conferencing': 12547, 'bigquestions': 12548, 'conversationstarter': 12549, 'freeway': 12550, 'spanned': 12551, 'abcdef': 12552, 'yelp': 12553, 'jason': 12554, 'ashamed': 12555, 'reshaped': 12556, 'department_table': 12557, 'mr': 12558, \"kim's\": 12559, 'pension': 12560, 'annum': 12561, 'maxorder_date': 12562, 'acne': 12563, 'superbalanced': 12564, 'maybelline': 12565, 'matte': 12566, 'poreless': 12567, 'blur': 12568, 'lurked': 12569, 'aiinfinance': 12570, 'reads': 12571, 'kites': 12572, 'aggregation': 12573, 'panthera': 12574, 'accessed': 12575, 'httpswwwhealthytipscouk': 12576, 'peddled': 12577, 'emergence': 12578, 'datadriven': 12579, 'intuition': 12580, \"'c'\": 12581, 'foe': 12582, 'swap': 12583, 'infiltrate': 12584, 'mosses': 12585, 'conifers': 12586, 'algae': 12587, '苦難は私たちを強くします。': 12588, 'catalan': 12589, \"numbers'\": 12590, 'is_palindromes': 12591, 's[]': 12592, 'has_capitalss': 12593, 'letterisupper': 12594, 'motorcades': 12595, 'procession': 12596, 'abacus': 12597, 'problematic': 12598, 'tricky': 12599, 'randomshufflenumbers': 12600, 'fridaynightfeels': 12601, '🤩🎉': 12602, 'bezos': 12603, 'square_numnum': 12604, 'seoul': 12605, 'pickle': 12606, 'nursery': 12607, 'eighteeninch': 12608, 'excuse': 12609, 'cos': 12610, 'matrices': 12611, 'sentó': 12612, 'alfombra': 12613, 'peux': 12614, 'voler': 12615, 'comme': 12616, 'oiseau': 12617, 'protist': 12618, 'imperious': 12619, 'scolded': 12620, 'scheming': 12621, 'manipulative': 12622, 'hash': 12623, 'pyramids': 12624, 'bipinnatifidum': 12625, 'lacy': 12626, 'malloys': 12627, 'appalling': 12628, 'corroboree': 12629, 'yellowfooted': 12630, 'rockwallaby': 12631, 'zucchini': 12632, 'fervently': 12633, 'weights': 12634, 'solver': 12635, 'enacted': 12636, 'usability': 12637, 'ceaselessly': 12638, 'confirming': 12639, 'flourbased': 12640, 'dumplings': 12641, 'urbanization': 12642, 'perceived': 12643, 'negotiate': 12644, 'evens': 12645, 'lodestar': 12646, 'guiding': 12647, 'evidencebased': 12648, 'gibbons': 12649, 'hind': 12650, 'realtors': 12651, 'needy': 12652, 'inertia': 12653, 'negligence': 12654, 'longlived': 12655, 'extravirgin': 12656, 'productsprice': 12657, 'diagnosticians': 12658, 'managers': 12659, 'httpswwwgooglecomsearchqgooglesearch': 12660, 'pythagorean': 12661, \"katie's\": 12662, 'lawns': 12663, 'danube': 12664, 'ural': 12665, 'sumerians': 12666, 'cuneiform': 12667, 'clay': 12668, 'hieroglyphs': 12669, 'alps': 12670, 'santorini': 12671, 'cyprus': 12672, 'crete': 12673, 'rhodes': 12674, 'corsica': 12675, 'sardinia': 12676, 'ibiza': 12677, 'sicily': 12678, 'balearic': 12679, \"sheep's\": 12680, 'yann': 12681, 'lecun': 12682, 'geoffrey': 12683, 'hinton': 12684, 'ng': 12685, 'tensions': 12686, 'youth': 12687, 'undisciplined': 12688, 'funfunfun': 12689, 'dissolves': 12690, 'thermal': 12691, 'swarm': 12692, 'amuse': 12693, 'objectivec': 12694, 'woody': 12695, 'wetland': 12696, 'snatched': 12697, 'tsunamis': 12698, 'titlelanding': 12699, 'hh': 12700, 'src': 12701, 'alt': 12702, 'unforgiving': 12703, 'pitfalls': 12704, 'judy': 12705, 'teller': 12706, 'gargle': 12707, 'pierced': 12708, 'cellphones': 12709, \"homer's\": 12710, \"train's\": 12711, \"'type'\": 12712, 'boiled': 12713, 'tradeoff': 12714, 'diluted': 12715, 'thanos': 12716, 'peaked': 12717, 'lithosphere': 12718, 'asthenosphere': 12719, 'threeyearold': 12720, 'precocious': 12721, 'sri': 12722, 'lanka': 12723, 'bhutan': 12724, 'marching': 12725, 'amendment': 12726, 'marshmallows': 12727, 'milestones': 12728, 'mileage': 12729, 'carpool': 12730, 'wellrested': 12731, 'möchte': 12732, 'zur': 12733, 'schule': 12734, 'gehen': 12735, 'startinput': 12736, 'infoverify': 12737, 'infoprovide': 12738, 'supportend': 12739, 'bagpipe': 12740, 'obligatory': 12741, 'colossalmassive': 12742, 'jerusalem': 12743, 'languidly': 12744, 'discovers': 12745, 'deceased': 12746, 'invests': 12747, 'thins': 12748, 'adoption': 12749, 'slick': 12750, 'titletesttitle': 12751, 'websitep': 12752, 'printlargest': 12753, 'redreduce': 12754, 'quantitybutton': 12755, 'greenadd': 12756, 'cartbutton': 12757, 'bluecheckoutbutton': 12758, 'calculate_sumn': 12759, 'probabilistic': 12760, 'calculate_circle_arearadius': 12761, 'mathpi': 12762, 'radius**': 12763, 'immigrant': 12764, 'bactrian': 12765, 'nonetheless': 12766, 'philosophical': 12767, '££': 12768, 'freshlypicked': 12769, 'compounds': 12770, 'carbonhydrogen': 12771, 'grease': 12772, 'abusive': 12773, 'invective': 12774, 'seeping': 12775, 'cracks': 12776, 'sonnet': 12777, 'abab': 12778, 'cdcd': 12779, 'efef': 12780, 'gg': 12781, 'catt': 12782, 'gard': 12783, '[subject': 12784, 'beer]': 12785, 'firebreathing': 12786, 'rejected': 12787, 'holmes': 12788, 'religionsbelief': 12789, 'document_text': 12790, \"'%public\": 12791, \"health%'\": 12792, 'lihighlight': 12793, 'affirmation': 12794, 'toolbox': 12795, 'devastated': 12796, 'longing': 12797, 'vehement': 12798, 'instructing': 12799, 'enriching': 12800, 'toe': 12801, 'johns_smith': 12802, 'smithjohn': 12803, 'jsmith_': 12804, 'johnsmithsmail': 12805, 'sunshinefilled': 12806, 'aughtamize': 12807, 'balled': 12808, 'fists': 12809, '_ecstatic_': 12810, 'unlockng': 12811, \"ai's\": 12812, 'strept': 12813, 'aquaticize': 12814, 'novelize': 12815, 'realight': 12816, 'holography': 12817, 'technomize': 12818, 'manchester': 12819, 'liverpool': 12820, '−': 12821, 'disbelieve': 12822, 'impatience': 12823, 'unending': 12824, \"'stackoverflow'\": 12825, 'printchar': 12826, 'jars': 12827, \"spider's\": 12828, 'immobilized': 12829, 'poles': 12830, 'sagacious': 12831, 'judicious': 12832, 'fervent': 12833, 'liz': 12834, 'skyscanner': 12835, 'cheapoair': 12836, 'momondo': 12837, 'expedia': 12838, 'hotwire': 12839, 'joked': 12840, 'softness': 12841, '[technology': 12842, 'future]': 12843, 'customs': 12844, 'resounding': 12845, 'coco': 12846, 'twelve': 12847, 'nafta': 12848, 'selector': 12849, 'evanston': 12850, \"d'agostino\": 12851, 'aspect_ratiowidth': 12852, 'aspect_ratio': 12853, 'hallelujah': 12854, 'cohen': 12855, 'roundedborder': 12856, 'is_palindromeword': 12857, \"''joinreversedword\": 12858, 'sumsales': 12859, 'date_subnow': 12860, 'find_maxnum': 12861, 'wallow': 12862, 'luxuriate': 12863, 'scholars': 12864, 'whisk': 12865, 'gettysburg': 12866, 'stupid': 12867, 'idiot': 12868, 'swapa': 12869, 'complain': 12870, 'ski': 12871, 'statuses': 12872, 'proliferating': 12873, 'antifreeze': 12874, 'imports': 12875, 'vastly': 12876, 'buttered': 12877, 'hungrily': 12878, 'diced': 12879, 'moveyourfeetforacause': 12880, 'goodreads': 12881, '🤩': 12882, 'bulldogs': 12883, 'bleaching': 12884, 'silken': 12885, 'tarts': 12886, 'hanging': 12887, 'berries': 12888, 'lightness': 12889, 'liberation': 12890, 'adroit': 12891, 'skillful': 12892, 'unplug': 12893, 'energyconservation': 12894, 'savetheplanet': 12895, 'constellation': 12896, 'centaurus': 12897, 'hardest': 12898, '__went__': 12899, 'breadthfirst': 12900, '自由不可思议，它无形不可见，但它可以永远存在。': 12901, 'addx': 12902, '[the': 12903, 'white]': 12904, 'estamos': 12905, 'entusiasmados': 12906, 'trabajar': 12907, 'contigo': 12908, 'proyecto': 12909, 'unavailability': 12910, 'unforeseen': 12911, 'recordbreaker': 12912, 'wanashe': 12913, 'captaining': 12914, 'blink': 12915, 'eluded': 12916, 'poignant': 12917, 'ignoring': 12918, 'payperclick': 12919, 'ppc': 12920, 'pitt': 12921, 'charttopping': 12922, 'multifaceted': 12923, 'entertainer': 12924, 'intricately': 12925, 'prerequisite': 12926, 'steeping': 12927, 'employee_meetings': 12928, 'sluggish': 12929, 'multiply_bydata': 12930, 'multiplier': 12931, '[x*multiplier': 12932, 'data]': 12933, 'tb': 12934, 'proverbs': 12935, 'sayings': 12936, 'openoffice': 12937, 'mysql': 12938, 'audiences': 12939, 'ochre': 12940, 'charcoal': 12941, 'scholar': 12942, \"'renewable\": 12943, \"energy'\": 12944, \"'%economic\": 12945, \"benefits%'\": 12946, 'millimeter': 12947, 'millimeters': 12948, 'scan': 12949, 'random_char': 12950, 'randomchoicechars': 12951, 'printrandom_char': 12952, \"blowin'\": 12953, 'innocence': 12954, 'submarine': 12955, 'motorbike': 12956, 'markings': 12957, 'search_xx': 12958, 'rangey': 12959, 'remains': 12960, 'charged': 12961, 'damages': 12962, 'somewhere': 12963, 'estaba': 12964, 'cansado': 12965, 'quedó': 12966, 'dormido': 12967, 'durante': 12968, 'reunión': 12969, 'tartness': 12970, 'planetary': 12971, 'libra': 12972, 'tongs': 12973, 'preparations': 12974, 'reorganized': 12975, 'maga': 12976, 'metabolism': 12977, 'aster': 12978, 'anemone': 12979, 'allium': 12980, 'amaryllis': 12981, 'aconitum': 12982, 'aquilegia': 12983, 'abutilon': 12984, 'irish': 12985, 'setter': 12986, 'erupting': 12987, \"'adoration'\": 12988, 'dresses': 12989, 'exhibits': 12990, '[university]': 12991, 'upgraded': 12992, 'resign': 12993, 'futile': 12994, 'pointlessness': 12995, 'rebel': 12996, 'intrigued': 12997, 'phone_number': 12998, 'accuweather': 12999, 'darted': 13000, 'stalking': 13001, 'beginnerfriendly': 13002, 'homegrowing': 13003, 'easytogrow': 13004, 'pansies': 13005, 'decades': 13006, 'feta': 13007, 'gouda': 13008, 'brie': 13009, 'congresswoman': 13010, 'katherine': 13011, 'kline': 13012, 'carbonfree': 13013, 'printstring_length': 13014, 'wallowed': 13015, 'misery': 13016, 'maxwell': 13017, 'pullups': 13018, 'dumbbell': 13019, 'presses': 13020, 'autobiography': 13021, 'dependability': 13022, 'nonleadership': 13023, \"reagan's\": 13024, 'presidency': 13025, 'unwise': 13026, 'strangers': 13027, 'verifying': 13028, 'intervention': 13029, 'ripping': 13030, 'stellar': 13031, 'heiress': 13032, 'cancellation': 13033, 'levity': 13034, 'crunching': 13035, \"autumn's\": 13036, 'shroud': 13037, 'uncontrolled': 13038, 'tocar': 13039, 'guitarra': 13040, 'planing': 13041, 'publicize': 13042, 'padse': 13043, 'powerpacked': 13044, '“teddy': 13045, \"roosevelt's\": 13046, 'inauguration”': 13047, 'convincible': 13048, 'convi': 13049, 'scented': 13050, 'pattered': 13051, 'purposely': 13052, 'innumerable': 13053, 'tribulations': 13054, 'uncle': 13055, \"uncle's\": 13056, 'dec': 13057, 'larger_of_two_argsarg': 13058, \"mom's\": 13059, 'rumbles': 13060, 'himalayan': 13061, 'tibet': 13062, 'easiest': 13063, 'biblioteca': 13064, 'downfalls': 13065, 'delays': 13066, 'spherically': 13067, 'coarser': 13068, 'travellers': 13069, 'disregarded': 13070, \"colleagues'\": 13071, 'subpar': 13072, 'implored': 13073, 'data_struct': 13074, \"'alice'\": 13075, 'theaters': 13076, 'sightseeing': 13077, 'brushing': 13078, 'wwwmachinelearningorg': 13079, 'superstorm': 13080, 'sandy': 13081, 'smashed': 13082, 'severely': 13083, 'flitted': 13084, 'environments': 13085, 'accountability': 13086, 'reebok': 13087, 'tossup': 13088, 'donburi': 13089, 'gyoza': 13090, 'newslettersubscriptions': 13091, 'date_subscribed': 13092, 'curdate': 13093, 'procrastinating': 13094, 'nip': 13095, 'bud': 13096, 'cynical': 13097, 'distrust': 13098, \"'happiness'\": 13099, \"'felicidad'\": 13100, 'timbre': 13101, 'reverberation': 13102, 'watchful': 13103, 'observant': 13104, 'pensive': 13105, 'emoji': 13106, 'morbidity': 13107, 'stilettos': 13108, 'estado': 13109, 'scholarships': 13110, 'valuing': 13111, 'reap': 13112, 'sumprice': 13113, 'timber': 13114, 'everevolving': 13115, 'orangepink': 13116, 'absurdity': 13117, 'cushion': 13118, 'curtains': 13119, 'fleur': 13120, 'du': 13121, 'jardin': 13122, 'recouverte': 13123, 'neige': 13124, 'cheesephant': 13125, '“marc': 13126, 'talk”': 13127, 'uphold': 13128, 'referral': 13129, 'lolita': 13130, 'recess': 13131, 'celsius_to_fahrenheitc': 13132, 'roundf': 13133, 'trimming': 13134, 'defy': 13135, 'caressed': 13136, 'charismatic': 13137, 'financing': 13138, 'stakeholders': 13139, 'dissuade': 13140, 'unrest': 13141, 'bono': 13142, 'clayton': 13143, 'mullen': 13144, 'reversestringstr': 13145, \"strsplit''foreachchar\": 13146, 'flexcontainer': 13147, 'flexdirection': 13148, 'flexwrap': 13149, 'wrap': 13150, 'justifycontent': 13151, 'alignitems': 13152, 'databases': 13153, 'inthe': 13154, 'flitsby': 13155, 'ul': 13156, 'liststyletype': 13157, 'fixated': 13158, 'duncan': 13159, 'mikaela': 13160, 'grafana': 13161, 'ggplot': 13162, 'chartio': 13163, 'uncomfortable': 13164, 'sponges': 13165, 'corals': 13166, 'order_count': 13167, 'disappearing': 13168, 'spruce': 13169, 'mention': 13170, 'absconded': 13171, 'denominator': 13172, 'fluently': 13173, 'converses': 13174, \"wind's\": 13175, 'toplevel': 13176, 'tld': 13177, 'extensions': 13178, 'gov': 13179, 'edu': 13180, 'pranksters': 13181, 'punchline': 13182, 'lifted': 13183, 'visioning': 13184, 'pedalling': 13185, 'recreation': 13186, 'blogs': 13187, 'sexy': 13188, 'lovenothate': 13189, 'spreadlove': 13190, 'motto': 13191, 'pity': 13192, 'sickness': 13193, 'generate_password': 13194, 'stringascii_letters': 13195, 'stringdigits': 13196, 'stringpunctuation': 13197, \"''joinrandomchoiceschars\": 13198, 'printgenerate_password': 13199, \"href'httpsenwikipediaorgwikidata_mining'data\": 13200, 'mininga': 13201, \"'jack'\": 13202, \"'occupation'\": 13203, \"'student'\": 13204, \"'location'\": 13205, 'positivevibes': 13206, 'musketeers': 13207, 'athos': 13208, 'porthos': 13209, 'aramis': 13210, \"d'artagnan\": 13211, 'phonenumber': 13212, 'firmly': 13213, 'disastrous': 13214, 'mentalhealthawareness': 13215, 'mentalhealthmatters': 13216, 'mentalhealthisreal': 13217, 'mentalhealthsupport': 13218, 'mentalhealthadvocate': 13219, 'abcsomecompanycom': 13220, 'wwwsomecompanycom': 13221, 'sympathy': 13222, 'recollection': 13223, 'deletion': 13224, 'blooming': 13225, 'nextgen': 13226, 'corolla': 13227, 'hyundai': 13228, 'sonata': 13229, 'midsize': 13230, 'lexus': 13231, 'ls': 13232, 'eighty': 13233, \"traveler's\": 13234, 'strived': 13235, 'jude': 13236, 'reflexive': 13237, \"shepherd's\": 13238, 'prickly': 13239, 'brittlebush': 13240, 'creosote': 13241, 'hardboiled': 13242, 'printrandomrandint': 13243, 'cname': 13244, 'oorder_date': 13245, 'ocustomer_id': 13246, 'prisoner': 13247, 'azkaban': 13248, 'framable': 13249, 'mylist': 13250, 'lemon]': 13251, 'mylistreverse': 13252, 'printmylist': 13253, 'javatimelocaldatetime': 13254, 'datetimeexample': 13255, 'localdatetime': 13256, 'currenttime': 13257, 'localdatetimenow': 13258, 'systemoutprintlncurrenttime': 13259, 'nanoparticles': 13260, 'danse': 13261, 'tous': 13262, 'jours': 13263, 'rues': 13264, 'pleasantly': 13265, '¿puedo': 13266, 'abrupt': 13267, 'brahms': 13268, 'horseshoes': 13269, 'repetitive': 13270, 'gigabyte': 13271, 'refund': 13272, 'settled': 13273, 'furr': 13274, 'situated': 13275, 'idyllic': 13276, 'unmoving': 13277, 'untouchable': 13278, 'helmet': 13279, 'hamburg': 13280, 'dresden': 13281, 'heidelberg': 13282, 'philippine': 13283, 'foliage': 13284, 'munana': 13285, 'hesperiidae': 13286, 'rail': 13287, 'winters': 13288, 'summers': 13289, 'carton': 13290, 'darnay': 13291, 'misérables': 13292, 'evan': 13293, \"ted's\": 13294, 'licentious': 13295, 'exertive': 13296, 'grueling': 13297, 'resultappendresult[i]': 13298, 'result[i]': 13299, 'result[n]': 13300, 'architectural': 13301, 'schweizerpsalm': 13302, 'alberich': 13303, 'zwyssig': 13304, 'elapsed': 13305, 'robochef': 13306, 'thedancingcoder': 13307, 'readyrumble': 13308, 'roarinrapids': 13309, 'irisheyessmilin': 13310, 'mittens': 13311, 'amiable': 13312, 'trailblazing': 13313, 'miriam': 13314, 'nohitter': 13315, 'doubled': 13316, 'sum_arrayarr': 13317, 'connectivity': 13318, 'amulet': 13319, 'recission': 13320, 'warsaw': 13321, \"elle's\": 13322, 'allergy': 13323, 'floodprone': 13324, 'casualties': 13325, 'stagnant': 13326, 'scrutinized': 13327, 'patricia': 13328, 'induced': 13329, 'maturity': 13330, 'newtons': 13331, 'overflowing': 13332, 'lifegiving': 13333, 'subspecies': 13334, 'iscapitalchar': 13335, 'dealership': 13336, 'bottom': 13337, 'deliciousness': 13338, 'filmed': 13339, 'twittering': 13340, 'sultry': 13341, 'mesa': 13342, 'infrastructure': 13343, 'celiac': 13344, 'metabolic': 13345, 'elbert': 13346, 'hubbard': 13347, 'ruins': 13348, 'listremovemaxlist': 13349, 'printmaxlist': 13350, 'extinct': 13351, 'mammoth': 13352, 'thylacine': 13353, 'actionsubmitphp': 13354, 'nameuserinputtext': 13355, 'valuesubmit': 13356, 'sparkles': 13357, 'radiates': 13358, 'lures': 13359, 'mannerisms': 13360, 'footwear': 13361, 'hairstyle': 13362, 'gait': 13363, 'ladder': 13364, 'olleh': 13365, 'microscopes': 13366, 'sufficient': 13367, 'magnification': 13368, \"'star\": 13369, \"wars'\": 13370, 'fullbodied': 13371, 'mournful': 13372, 'ascend': 13373, 'interlocutor': 13374, \"'unlocked'\": 13375, \"'unlock'\": 13376, 'screamed': 13377, 'dismisses': 13378, \"'to\": 13379, \"mockingbird'\": 13380, 'watered': 13381, 'gardener': 13382, '***': 13383, 'repelled': 13384, \"caterer's\": 13385, 'opinionated': 13386, 'enmity': 13387, 'conflicts': 13388, 'multitool': 13389, 'adorn': 13390, 'dominican': 13391, 'santo': 13392, 'casino': 13393, 'wales': 13394, 'authorities': 13395, 'unlawful': 13396, 'antique': 13397, 'misunderstanding': 13398, 'stressfree': 13399, 'santa': 13400, 'monica': 13401, 'monterey': 13402, 'uschina': 13403, 'bun': 13404, 'nub': 13405, 'xxxxxx': 13406, 'warmed': 13407, 'exemplifies': 13408, 'johannesburg': 13409, 'durban': 13410, 'rustenburg': 13411, 'peaky': 13412, 'blinders': 13413, 'downton': 13414, 'midsomer': 13415, 'murders': 13416, 'crêpes': 13417, 'powdered': 13418, 'bella': 13419, 'ensured': 13420, 'chromosomes': 13421, 'transmitting': 13422, 'globetrotting': 13423, 'transistors': 13424, 'resistors': 13425, 'capacitors': 13426, 'promotions': 13427, 'wichita': 13428, 'experimenting': 13429, 'blazers': 13430, 'jackets': 13431, 'skirts': 13432, 'leggings': 13433, 'tights': 13434, 'zeppelin': 13435, 'floyd': 13436, 'vaccinations': 13437, 'tetanus': 13438, 'pneumococcal': 13439, 'stance': 13440, 'propelling': 13441, 'httpsenergygoveererenewablesreusableenergysources': 13442, 'httpswwwcnetcomnewsarefresheronthebestreusableenergysources': 13443, 'httpswwwthebalancesmbcomtypesofrenewableenergy': 13444, 'arcane': 13445, 'teleportation': 13446, \"printf'i\": 13447, \"i*j'\": 13448, 'sanchez': 13449, 'crohn’s': 13450, 'awoke': 13451, 'scorpion': 13452, 'dwayne': 13453, 'decimal_to_binarynum': 13454, 'binary[]': 13455, 'decimal_to_binary': 13456, 'flaxen': 13457, 'straw': 13458, 'primrose': 13459, 'tinge': 13460, 'jonquil': 13461, 'mustardy': 13462, 'sprints': 13463, 'vinaigrette': 13464, 'dressing': 13465, 'floorlength': 13466, 'lace': 13467, 'bodice': 13468, 'beading': 13469, 'myprogram': 13470, 'sachin': 13471, 'tendulkar': 13472, 'lata': 13473, 'mangeshkar': 13474, 'apj': 13475, 'abdul': 13476, 'kalam': 13477, 'appealing': 13478, 'chloroform': 13479, 'nonhydrocarbon': 13480, 'hydrocarbon': 13481, 'snoozing': 13482, 'aimfocused': 13483, 'bello': 13484, 'grande': 13485, 'feliz': 13486, 'threetiered': 13487, 'decorations': 13488, 'atrocious': 13489, 'exploding': 13490, 'woolen': 13491, 'olds': 13492, 'ticked': 13493, 'drag': 13494, 'glint': 13495, 'furred': 13496, 'weekday': 13497, \"'ethics\": 13498, 'celsius_to_fahrenheittemp_celsius': 13499, 'temp_celsius': 13500, 'threedimensional': 13501, 'librarian': 13502, 'archive': 13503, 'sisterly': 13504, 'bonding': 13505, '[[your': 13506, 'evening]': 13507, 'syntaxerror': 13508, 'indentation': 13509, 'is_sorted_asclist': 13510, 'rangelenlist': 13511, 'list[i': 13512, 'flip': 13513, 'decline': 13514, 'celsius_to_fahrenheitcelsius': 13515, 'dnn': 13516, 'rnns': 13517, 'greet_toname': 13518, 'strname': 13519, 'learningbased': 13520, 'humanlike': 13521, 'assigns': 13522, 'terminal': 13523, 'xterm': 13524, 'siete': 13525, 'lunes': 13526, 'martes': 13527, 'miércoles': 13528, 'jueves': 13529, 'viernes': 13530, 'sábado': 13531, 'volunteerbased': 13532, \"o'er\": 13533, 'glides': 13534, 'nightingales': 13535, 'naan': 13536, 'regional': 13537, 'delicacies': 13538, \"'queensland'\": 13539, \"demon's\": 13540, 'den': 13541, 'entropy': 13542, 'adds': 13543, 'scripting': 13544, 'meetcute': 13545, 'relatable': 13546, 'adopted': 13547, 'coaching': 13548, '*ceilx': 13549, 'maze': 13550, 'i%': 13551, 'furthest': 13552, 'vy': 13553, 'canis': 13554, 'majoris': 13555, 'wolfess': 13556, 'dicaprio': 13557, 'winslet': 13558, 'billy': 13559, 'zane': 13560, 'bates': 13561, 'fisher': 13562, 'willy': 13563, 'eccentric': 13564, 'adrift': 13565, 'apple’s': 13566, 'howl': 13567, 'whimper': 13568, 'journeys': 13569, 'intensive': 13570, 'toilet': 13571, 'elasticity': 13572, 'versatility': 13573, 'creation_date': 13574, 'hello*abc$': 13575, 'bistro': 13576, 'styrofoam': 13577, 'packets': 13578, 'deviated': 13579, 'intended': 13580, 'trusted': 13581, 'dimwit': 13582, 'dopey': 13583, 'dunce': 13584, 'imbroglio': 13585, 'confusing': 13586, 'quagmire': 13587, 'makeover': 13588, 'showname': 13589, 'premiere': 13590, 'cantwait': 13591, 'wildfires': 13592, 'statementss': 13593, 'baidu': 13594, 'nbafinals': 13595, 'underway': 13596, 'reporting': 13597, 'georgetown': 13598, 'restlessly': 13599, 'overheating': 13600, 'incompatibility': 13601, 'inconvenient': 13602, 'atmospheres': 13603, 'myfunctionx': 13604, 'financially': 13605, 'literate': 13606, 'mdn': 13607, 'codeacademy': 13608, 'codecademy': 13609, 'httpswwwwikihowcomtieabowtie': 13610, 'gradual': 13611, 'greenhouses': 13612, 'moderately': 13613, 'longdistance': 13614, 'hoop': 13615, 'shorteners': 13616, 'carving': 13617, 'harsh': 13618, 'ankara': 13619, 'questioned': 13620, 'mri': 13621, 'resonance': 13622, 'waldo': 13623, 'emerson': 13624, 'eyedeer': 13625, 'cleaned': 13626, 'agriculturebased': 13627, 'horticulture': 13628, 'orleans': 13629, 'inherit': 13630, 'abuzz': 13631, 'indie': 13632, 'undergone': 13633, 'revisions': 13634, 'comí': 13635, 'almuerzo': 13636, 'mediodía': 13637, 'transcripts': 13638, 'fee': 13639, 'pilot': 13640, 'crested': 13641, 'ibis': 13642, \"kirtland's\": 13643, 'warbler': 13644, 'overwhelmingly': 13645, 'depressing': 13646, 'stirs': 13647, 'cantonese': 13648, 'sanitizer': 13649, 'greenery': 13650, 'preventive': 13651, 'extensively': 13652, 'macbook': 13653, 'composer': 13654, 'council': 13655, \"name'john\": 13656, 'carelessly': 13657, 'grounded': 13658, 'mover': 13659, 'upandcoming': 13660, 'sugars': 13661, 'hissed': 13662, 'forks': 13663, 'drapes': 13664, 'gustaría': 13665, 'prophet': 13666, 'nintendo': 13667, 'lite': 13668, 'mohenjodaro': 13669, 'imperfectslant': 13670, 'perfecttrue': 13671, 'poppy': 13672, 'rf': 13673, 'kuang': 13674, 'cicadas': 13675, 'carcinoma': 13676, 'leukemia': 13677, \"hodgkin's\": 13678, \"nonhodgkin's\": 13679, 'melanoma': 13680, 'intrusion': 13681, 'scanners': 13682, 'orb': 13683, 'm³': 13684, 'vendía': 13685, 'conchas': 13686, 'marinas': 13687, 'junto': 13688, 'yowls': 13689, 'sonorously': 13690, 'coefficient': 13691, 'marketer': 13692, 'upgrading': 13693, 'proximate': 13694, 'gems': 13695, 'shops': 13696, 'rochester': 13697, 'syracuse': 13698, 'apes': 13699, 'madonna': 13700, 'costumes': 13701, 'actorsactresses': 13702, \"'o'\": 13703, \"'r'\": 13704, \"'l'\": 13705, 'alarms': 13706, 'list_sumsample_list': 13707, 'sample_list': 13708, 'printlist_sumsample_list': 13709, 'plaid': 13710, 'longestlived': 13711, 'stormy': 13712, 'ashexplosion': 13713, 'furnacecharcoal': 13714, 'torch': 13715, 'ignite': 13716, 'ember': 13717, 'electrostatic': 13718, 'verification': 13719, 'biometric': 13720, 'drills': 13721, 'jackhammers': 13722, 'healthiest': 13723, 'decentralized': 13724, 'tamperproof': 13725, 'rumors': 13726, 'assertively': 13727, 'sum_squaresnum': 13728, 'glassdoor': 13729, 'regulates': 13730, 'schöner': 13731, 'cured': 13732, 'goodall': 13733, '“education': 13734, 'important”': 13735, 'exited': 13736, 'piper': 13737, 'pickled': 13738, '¬¬a': 13739, '¬b': 13740, \"object's\": 13741, 'zest': 13742, 'theta': 13743, 'avgtemperature': 13744, 'weather_data': 13745, \"month'june'\": 13746, 'hmn': 13747, 'ao': 13748, 'aia': 13749, 'lmai': 13750, 'wh': 13751, 'hvly': 13752, 'cmmnto': 13753, 'overtake': 13754, 'og': 13755, 'mandino': 13756, 'haber': 13757, 'ammonia': 13758, 'droplets': 13759, 'souls': 13760, 'repugnant': 13761, 'introduce': 13762, 'plump': 13763, 'flumped': 13764, \"humanity's\": 13765, 'poisonous': 13766, 'inland': 13767, 'taipan': 13768, 'casablanca': 13769, 'dimwitted': 13770, 'aigenerated': 13771, 'insult': 13772, 'worksuccess': 13773, 'feelinggood': 13774, 'iphones': 13775, 'macbooks': 13776, 'enzymes': 13777, 'fungal': 13778, 'dbudget': 13779, 'sumisalary': 13780, 'budget_salary_ratio': 13781, 'employee_salary': 13782, 'departs': 13783, 'embarks': 13784, 'strolls': 13785, 'devours': 13786, 'chapters': 13787, \"'versatile'\": 13788, 'quesadillas': 13789, 'tomatoebased': 13790, 'beets': 13791, 'flaps': 13792, 'perks': 13793, 'disguise': 13794, 'ambi': 13795, 'taxrelief': 13796, 'convincing': 13797, 'get_arealength': 13798, 'koalas': 13799, 'echidnas': 13800, 'devils': 13801, 'gliders': 13802, 'barks': 13803, 'jetsetting': 13804, 'journeys—exploring': 13805, 'weightlifting': 13806, 'anaerobic': 13807, 'trekked': 13808, 'buildingconstruction': 13809, 'infamously': 13810, 'inefficient': 13811, 'unclear': 13812, 'objectives': 13813, 'hierarchal': 13814, 'morale': 13815, 'tested': 13816, 'highways': 13817, 'staphylococcus': 13818, 'aureus': 13819, 'salmonella': 13820, 'enterica': 13821, 'klebsiella': 13822, 'pseudomonas': 13823, 'aeruginosa': 13824, 'masterful': 13825, 'neumann': 13826, 'ritchie': 13827, 'foodshopping': 13828, 'harare': 13829, 'toner': 13830, 'creek': 13831, 'applicable': 13832, \"doll's\": 13833, \"house'\": 13834, 'certificate': 13835, '“lose': 13836, 'yourself”': 13837, '“rap': 13838, 'god”': 13839, 'falsehood': 13840, 'warnermedia': 13841, 'comcast': 13842, 'att': 13843, 'gladsome': 13844, 'exultant': 13845, 'noneu': 13846, 'torvalds': 13847, '[flow': 13848, 'algorithm]': 13849, 'violets': 13850, \"candidate's\": 13851, 'ivy': 13852, 'involvement': 13853, \"michael's\": 13854, 'korean': 13855, 'classics': 13856, 'fusion': 13857, 'nonliquid': 13858, 'memorized': 13859, 'doubleint': 13860, 'gatekeeper': 13861, 'spotless': 13862, 'xray': 13863, 'physicist': 13864, 'wilhelm': 13865, 'conrad': 13866, 'röntgen': 13867, 'avgsaleprice': 13868, 'yearsaledate': 13869, \"jobs'\": 13870, 'downloaded': 13871, 'poweroftwoint': 13872, 'poweroftwox': 13873, 'thriller': 13874, 'dramedy': 13875, 'hesitating': 13876, 'geforce': 13877, 'toiled': 13878, 'indefatigably': 13879, 'rogue': 13880, 'realms': 13881, 'tearful': 13882, 'obey': 13883, 'masters': 13884, 'occipital': 13885, 'occiput': 13886, \"'life\": 13887, \"possibilities'\": 13888, 'lovingly': 13889, '[diesel': 13890, 'diesel]': 13891, 'persona': 13892, '[hello': 13893, '‘lousy’': 13894, '‘excellent’': 13895, 'minnumba': 13896, 'eruption': 13897, 'geologic': 13898, 'piercing': 13899, 'lyndon': 13900, 'nixon': 13901, 'carter': 13902, 'elevations': 13903, 'contours': 13904, 'topographic': 13905, 'constructive': 13906, 'vivacious': 13907, 'anaphora': 13908, 'dromedaries': 13909, 'barbary': 13910, 'add_numbersa': 13911, 'allie': 13912, 'pristine': 13913, 'mat”': 13914, 'me”': 13915, 'meowed”': 13916, 'capitalization': 13917, 'btc': 13918, 'microscope': 13919, 'observing': 13920, 'rodents': 13921, 'profitability': 13922, 'hamlet': 13923, 'cared': 13924, 'sucked': 13925, 'watt': 13926, 'commercial': 13927, 'eighteenth': 13928, \"bar's\": 13929, 'tortillas': 13930, 'appleitude': 13931, 'acing': 13932, 'productid': 13933, 'maxtime': 13934, 'fastest_time': 13935, 'athlete_name': 13936, 'total_sold': 13937, 'watches': 13938, 'backing': 13939, 'cordless': 13940, 'drill': 13941, 'stratosphere': 13942, 'terri': 13943, '[brand': 13944, \"'city\": 13945, \"name'\": 13946, 'printarray_sum[': 13947, 'convert_string_to_intstring': 13948, 'intc': 13949, 'convert_string_to_int': 13950, \"'strawberry\": 13951, \"forever'\": 13952, 'titanium': 13953, \"r'[az][az]\": 13954, '[az][az]*': 13955, \"[az][az]'\": 13956, 'carrotloving': 13957, 'hog': 13958, \"'happy'\": 13959, \"'p'\": 13960, 'isolated': 13961, 'impressionistic': 13962, 'threaten': 13963, 'intrusive': 13964, 'typecheckbox': 13965, 'namenewsletter': 13966, 'valuenewslettersubscribe': 13967, 'newsletter': 13968, 'ventilator': 13969, 'medicines': 13970, 'echinacea': 13971, 'arnica': 13972, 'quill': 13973, 'quack': 13974, 'quantify': 13975, 'teleostei': 13976, 'scarecrow': 13977, 'institutions': 13978, 'imf': 13979, 'adb': 13980, \"'completed'\": 13981, 'bigquery': 13982, 'historically': 13983, 'occupations': 13984, 'officially': 13985, 'singapore': 13986, 'earthlike': 13987, 'orbiting': 13988, 'sûr': 13989, 'devrais': 13990, 'serena': 13991, 'ruminated': 13992, 'centurieslong': 13993, 'aniston': 13994, 'sherman': 13995, 'oaks': 13996, 'pizzaeats': 13997, 'heartwarming': 13998, 'familyfriendly': 13999, 'extravagant': 14000, 'brassy': 14001, 'trumpets': 14002, 'trombones': 14003, 'tubas': 14004, 'saxophones': 14005, 'comparatively': 14006, 'numerically': 14007, 'tcpip': 14008, 'udp': 14009, 'ftp': 14010, 'https': 14011, 'ssh': 14012, 'ssl': 14013, 'nfs': 14014, 'smtp': 14015, \"'they'\": 14016, \"'she'\": 14017, \"'he'\": 14018, \"'them'\": 14019, \"'it'\": 14020, 'fulfilling': 14021, 'dusting': 14022, 'vacuuming': 14023, 'mopping': 14024, 'campfire': 14025, 'shadowless': 14026, 'saviour': 14027, 'avenger': 14028, 'melted': 14029, 'modem': 14030, 'hdmi': 14031, 'extravagantly': 14032, 'fauvism': 14033, 'outback': 14034, 'wedgetailed': 14035, 'carcharodon': 14036, 'carcharias': 14037, 'printmax': 14038, 'sketchbook': 14039, 'brushes': 14040, 'canvases': 14041, 'wingspan': 14042, 'plentiful': 14043, 'deny': 14044, \"end'\": 14045, 'flicker': 14046, 'colaptes': 14047, 'auratus': 14048, 'picidae': 14049, 'acetylcholine': 14050, 'neurotransmitter': 14051, 'cappuccino': 14052, 'indulge': 14053, 'reasonably': 14054, 'nonviolence': 14055, 'greatest_of_twox': 14056, 'printed': 14057, 'stylefontfamily': 14058, 'pxthis': 14059, 'whiskers': 14060, 'voluminous': 14061, 'hectoliters': 14062, 'cycled': 14063, 'juggled': 14064, 'juggling': 14065, 'commitments': 14066, 'microbiome': 14067, 'deserved': 14068, 'drowning': 14069, 'adrenaline': 14070, 'lightly': 14071, 'caressing': 14072, 'piggingon': 14073, 'cumulative': 14074, \"'king\": 14075, \"instruments'\": 14076, 'obligated': 14077, 'weeps': 14078, 'fluffypaws': 14079, 'dissatisfaction': 14080, 'calculatecircleareadouble': 14081, 'wanting': 14082, 'contrasting': 14083, \"gaga's\": 14084, 'agatha': 14085, \"christie's\": 14086, 'orient': 14087, 'artscontest': 14088, 'creativequestion': 14089, 'arab–israeli': 14090, 'establishment': 14091, \"chicken's\": 14092, \"child's\": 14093, 'kinetic': 14094, 'oneplus': 14095, 'gouging': 14096, 'helmets': 14097, 'gloves': 14098, 'react': 14099, 'reflect': 14100, 'squares': 14101, 'ols': 14102, 'otype': 14103, 'portrays': 14104, 'universally': 14105, 'ineffective': 14106, 'wastes': 14107, 'rnn': 14108, 'stimulant': 14109, 'nicotine': 14110, 'depressant': 14111, 'quantified': 14112, 'recursive': 14113, 'costner': 14114, 'hyena': 14115, 'handling': 14116, 'knocking': 14117, 'shattering': 14118, 'fable': 14119, 'eyebrows': 14120, 'windshields': 14121, 'assertive': 14122, 'diplomatic': 14123, 'ornate': 14124, 'rubbery': 14125, 'ruminate': 14126, 'bevy': 14127, 'lucid': 14128, 'circumscribe': 14129, 'customer_rating': 14130, 'bind': 14131, 'nedry': 14132, \"armstrong's\": 14133, 'leatherback': 14134, 'orangutans': 14135, 'pangolins': 14136, 'vaquitas': 14137, 'hch': 14138, 'daniel': 14139, 'multiline': 14140, 'organizer': 14141, 'powerfully': 14142, 'kilometres': 14143, 'mtl': 14144, 'camry': 14145, 'zn': 14146, 'gallium': 14147, 'ga': 14148, 'uplifted': 14149, 'discoveries': 14150, 'johnsmithwebsitecom': 14151, 'wix': 14152, 'weebly': 14153, 'squarespace': 14154, 'dreamweaver': 14155, 'sitebuilder': 14156, 'hay': 14157, 'lugar': 14158, 'hogar': 14159, 'find_common_elementsarr': 14160, 'resappendi': 14161, 'rational': 14162, 'elicited': 14163, 'basked': 14164, 'whizzing': 14165, 'rink': 14166, 'inconsistency': 14167, 'eraticly': 14168, 'erratically': 14169, 'swans': 14170, 'parsimony': 14171, 'amorphous': 14172, 'definite': 14173, 'measurement': 14174, 'clementine': 14175, 'satsuma': 14176, 'rhone': 14177, 'postimpressionist': 14178, 'appétit': 14179, 'htmlheadtitlewebsitetitleheadbodythis': 14180, 'paragraphpthis': 14181, 'paragraphpbodyhtml': 14182, 'fresheners': 14183, 'iname': 14184, \"'cs'\": 14185, 'reverberated': 14186, 'twangs': 14187, 'strums': 14188, 'knack': 14189, 'musically': 14190, 'stylecolorblue': 14191, 'gulf': 14192, 'novartis': 14193, 'antagonizing': 14194, 'verbose': 14195, 'hastily': 14196, 'thoroughfare': 14197, 'sleeve': 14198, \"orwell's\": 14199, 'revolt': 14200, 'totalitarian': 14201, 'balsamic': 14202, 'glaze': 14203, 'tragic': 14204, 'begged': 14205, 'hounds': 14206, 'punctuality': 14207, 'tonkatsu': 14208, 'petfood': 14209, 'printproduct': 14210, 'chief': 14211, 'emmanuel': 14212, 'macron': 14213, 'subtractx': 14214, 'advertisements': 14215, 'decadeslong': 14216, 'complement': 14217, 'androidupdate': 14218, 'unimpressive': 14219, 'ugh': 14220, 'accumulating': 14221, 'tango': 14222, 'warmer': 14223, 'donating': 14224, 'depicts': 14225, 'scandalous': 14226, 'cargo': 14227, 'closure': 14228, 'enraged': 14229, 'occurrence': 14230, 'blaring': 14231, 'drumming': 14232, 'unfair': 14233, 'catherynne': 14234, 'valente': 14235, 'suvada': 14236, \"esad'k\": 14237, 'vp': 14238, 'rot': 14239, 'wwwbestbuycom': 14240, 'jake': 14241, \"cole's\": 14242, \"beethoven's\": 14243, 'op': 14244, 'preserves': 14245, 'ovoviviparous': 14246, 'mountainous': 14247, 'adventurers': 14248, 'ark': 14249, 'frames': 14250, 'sweeps': 14251, 'eckhart': 14252, 'tolle': 14253, 'portraits': 14254, 'chronology': 14255, 'hierarchical': 14256, 'comedydrama': 14257, 'formati': 14258, 'i*j': 14259, 'sarcasm': 14260, 'declaring': 14261, 'assigning': 14262, 'encumber': 14263, 'tabby': 14264, 'sundrenched': 14265, 'argues': 14266, 'glassy': 14267, 'mystic': 14268, \"et's\": 14269, 'intergalactic': 14270, 'blunder': 14271, 'muttered': 14272, 'gloomily': 14273, 'resolved': 14274, 'roy': 14275, 'biv': 14276, 'airwith': 14277, 'contentjoy': 14278, 'bellwood': 14279, 'vigorously': 14280, 'podc': 14281, 'subcategory': 14282, 'forchar': 14283, 'date_diffnow': 14284, 'clara': 14285, 'rr': 14286, 'resplendent': 14287, 'meander': 14288, 'estimation': 14289, 'dozen': 14290, 'broadway': 14291, 'musicals': 14292, '你好': 14293, 'nǐ': 14294, 'hǎo': 14295, 'chandelier': 14296, 'liberating': 14297, 'transcendent': 14298, 'unrestricted': 14299, 'persimmons': 14300, 'figs': 14301, 'xx^': 14302, 'igneous': 14303, 'cooled': 14304, 'lava': 14305, 'quackers': 14306, 'hyperactivity': 14307, '^**': 14308, 'sporting': 14309, 'dossier': 14310, 'multicolored': 14311, 'resembling': 14312, 'sunburst': 14313, 'descends': 14314, 'cloak': 14315, 'obscures': 14316, 'cognizance': 14317, 'psychopathy': 14318, 'liminology': 14319, 'neuroticism': 14320, 'rationalism': 14321, 'gestalt': 14322, 'dysphoria': 14323, 'toiletries': 14324, 'streetlight': 14325, 'sidewalk': 14326, 'occasionally': 14327, 'adolf': 14328, 'hitler': 14329, 'rocky': 14330, 'honoring': 14331, 'sender': 14332, 'oco': 14333, 'grinding': 14334, 'lenusername': 14335, 'gonorrhea': 14336, 'syphilis': 14337, 'beakers': 14338, 'cylinders': 14339, 'bunsen': 14340, 'burners': 14341, 'nineties': 14342, 'rc': 14343, 'uncontrollably': 14344, 'dente': 14345, 'drawer': 14346, 'bands': 14347, 'modulus': 14348, 'accessibility': 14349, 'camelidae': 14350, 'welcomed': 14351, 'malcom': 14352, 'alcatraz': 14353, \"fisherman's\": 14354, 'wharf': 14355, 'fayetteville': 14356, 'proprietor': 14357, 'confronted': 14358, 'eradicated': 14359, 'tuvalu': 14360, 'marino': 14361, 'marshall': 14362, 'nauru': 14363, 'instrumentation': 14364, 'inputplease': 14365, 'aversion': 14366, 'crackled': 14367, 'woodsmoke': 14368, 'wit': 14369, 'playfulness': 14370, 'farce': 14371, 'prizes': 14372, '\\u200e▸': 14373, 'durian': 14374, 'mangosteen': 14375, 'rambutan': 14376, 'jackfruit': 14377, 'predators': 14378, 'owls': 14379, 'samples': 14380, 'witchcraft': 14381, \"netherland's\": 14382, 'sorcery': 14383, 'witches': 14384, 'kari': 14385, 'karo': 14386, 'kareen': 14387, 'persist': 14388, 'happiest': 14389, 'pretrained': 14390, 'bert': 14391, 'transformerxl': 14392, 'lana': 14393, 'shout': 14394, 'mornings': 14395, 'overstatement': 14396, 'fitis': 14397, 'stationeries': 14398, 'multiply': 14399, 'customizable': 14400, 'petting': 14401, 'powerpoint': 14402, 'greaternuma': 14403, 'harvest': 14404, 'revitalizing': 14405, 'blobfish': 14406, 'debits': 14407, 'credits': 14408, 'nonmammal': 14409, 'deliveries': 14410, 'laudable': 14411, 'endeavour': 14412, 'timed': 14413, 'thunderous': 14414, 'intimidate': 14415, 'enemies': 14416, \"'calm'\": 14417, \"'agitated'\": 14418, 'danielle': 14419, 'daphne': 14420, 'circulatory': 14421, 'vessels': 14422, 'waveparticle': 14423, 'duality': 14424, 'entanglement': 14425, 'superposition': 14426, 'hovering': 14427, 'mandrake': 14428, 'date_of_joining': 14429, 'dcbf': 14430, 'drucker': 14431, 'conclude': 14432, 'vocalist': 14433, 'undertook': 14434, 'protracted': 14435, 'trek': 14436, 'twirled': 14437, 'shipped': 14438, 'expanded': 14439, 'lastname': 14440, 'guys': 14441, 'revert': 14442, 'investigate': 14443, 'logs': 14444, 'additions': 14445, 'elders': 14446, 'selfdiscipline': 14447, 'kamala': 14448, 'harris': 14449, 'vertigo': 14450, 'overstory': 14451, 'stapler': 14452, 'lemonherb': 14453, 'roast': 14454, 'pilaf': 14455, 'qwhat': 14456, 'stringhello': 14457, 'stringworld': 14458, 'ecnetnes': 14459, 'elpmas': 14460, 'siht': 14461, 'cosmic': 14462, 'lovers': 14463, 'starcrossed': 14464, 'cit': 14465, 'cautioned': 14466, 'heed': 14467, 'immunity': 14468, 'descent': 14469, 'buzz': 14470, 'merrily': 14471, 'quam': 14472, 'stylebackgroundcolorfdfdfdbirdspan': 14473, 'stylebackgroundcolorfdfdfdbranchesspan': 14474, 'stylebackgroundcolorfdfdfdtreespan': 14475, 'stylebackgroundcolorfdfdfdwormsspan': 14476, 'biographical': 14477, 'disc': 14478, 'stake': 14479, 'avgage': 14480, 'customergroup': 14481, 'exaggerated': 14482, 'oakwood': 14483, 'linguistics': 14484, 'computerhuman': 14485, 'slyly': 14486, 'iway': 14487, 'amay': 14488, 'earninglay': 14489, 'useay': 14490, 'gptay': 14491, 'anguagelay': 14492, 'odelmay': 14493, 'tireless': 14494, 'microeconomics': 14495, 'macroeconomics': 14496, 'portuguese': 14497, 'mozambique': 14498, 'guineabissau': 14499, 'verde': 14500, 'timor': 14501, 'são': 14502, 'tomé': 14503, 'príncipe': 14504, 'romans': 14505, 'greeks': 14506, 'mayans': 14507, 'incas': 14508, 'paralyzing': 14509, 'tightly': 14510, 'snarling': 14511, 'marmalade': 14512, 'pronounced': 14513, 'marmuhlahd': 14514, 'geneva': 14515, 'boise': 14516, 'athome': 14517, 'trombonist': 14518, 'herb': 14519, 'mischief': 14520, 'uninvited': 14521, 'nutrient': 14522, 'egglaying': 14523, 'stealthy': 14524, 'instinctual': 14525, 'logistic': 14526, 'jbmca': 14527, 'granted': 14528, 'pardon': 14529, 'offense': 14530, 'recommends': 14531, 'unless': 14532, 'endnote': 14533, 'forwards': 14534, 'durant': 14535, 'rudy': 14536, 'gobert': 14537, 'phonograph': 14538, 'phonetic': 14539, 'phonemic': 14540, 'phonology': 14541, '[sales': 14542, 'topic]': 14543, 'freshwater': 14544, \"'aardvark'\": 14545, 'fathom': 14546, 'intricacy': 14547, 'citrusy': 14548, 'aftertaste': 14549, 'jury': 14550, 'dissertation': 14551, 'abide': 14552, 'rwanda': 14553, 'burundi': 14554, 'djibouti': 14555, 'eritrea': 14556, 'seychelles': 14557, 'comoros': 14558, 'sine': 14559, 'waged': 14560, 'blast': 14561, 'comics': 14562, 'cultivating': 14563, 'irritability': 14564, 'stacked': 14565, 'assembly': 14566, 'lowlevel': 14567, 'virtualization': 14568, 'vmware': 14569, 'virtualbox': 14570, 'parallels': 14571, 'nickname': 14572, 'emmastic': 14573, 'remover': 14574, 'lustrous': 14575, 'triggered': 14576, 'tombs': 14577, 'medieval': 14578, 'muskrats': 14579, 'otters': 14580, 'descriptions': 14581, 'confirm': 14582, 'unwelcome': 14583, 'chromosomal': 14584, 'rally': 14585, 'triomphe': 14586, 'notredame': 14587, 'earrings': 14588, 'restaurant_name': 14589, \"oberoi'\": 14590, 'improper': 14591, 'fearsome': 14592, 'finger': 14593, 'towers': 14594, 'highlight': 14595, 'considerably': 14596, 'quieter': 14597, 'ian': 14598, 'fleming': 14599, 'extremes': 14600, 'anagrams': 14601, 'raindrop': 14602, 'capitalists': 14603, 'lucrative': 14604, \"brothers'\": 14605, 'seriously': 14606, 'zurich': 14607, 'vaporization': 14608, 'rekindled': 14609, 'dmitry': 14610, 'medvedev': 14611, 'sergey': 14612, 'shoygu': 14613, 'breakup': 14614, \"nando's\": 14615, 'kfc': 14616, 'manufactured': 14617, 'weaved': 14618, 'compares': 14619, '“recycling': 14620, 'future”': 14621, 'sort_descendinglist_of_numbers': 14622, 'list_of_numberssortreversetrue': 14623, 'list_of_numbers': 14624, 'printsort_descendinglist_of_numbers': 14625, 'futuristic': 14626, 'adaptive': 14627, 'enhancements': 14628, 'feast': 14629, 'recordbreaking': 14630, 'programmers': 14631, 'husband': 14632, 'getaway': 14633, 'altura': 14634, '海水不可斗量，朋友多多采': 14635, '——': 14636, 'breako': 14637, 'taco': 14638, 'trove': 14639, 'buried': 14640, 'brainstormed': 14641, 'httpsexamplecom': 14642, 'arraylength': 14643, 'tiobe': 14644, 'whiletrue': 14645, 'systemoutprintlnrandomnextint': 14646, 'threadsleep': 14647, 'dbmoviesfind': 14648, '$gte': 14649, 'starless': 14650, 'frolicmore': 14651, 'sunnylife': 14652, 'bewilder': 14653, 'bluegreensea': 14654, 'silverclouds': 14655, 'paprika': 14656, 'primate': 14657, 'sociable': 14658, 'howard': 14659, 'taft': 14660, 'chorus': 14661, 'loogeg': 14662, 'dotted': 14663, 'lilies': 14664, 'oxes': 14665, 'communist': 14666, 'remembrance': 14667, 'yea': 14668, 'franny': 14669, 'zooey': 14670, 'entrance': 14671, 'lodging': 14672, 'fivestar': 14673, 'sofas': 14674, 'contrary': 14675, 'raccoons': 14676, 'slid': 14677, 'multiplicationdivision': 14678, 'precedence': 14679, 'additionsubtraction': 14680, 'diablo': 14681, 'pillar': 14682, \"organization's\": 14683, 'hardwork': 14684, 'houseelves': 14685, 'acromantulas': 14686, 'basilisks': 14687, 'thestrals': 14688, '[blue': 14689, 'sea]': 14690, 'oats': 14691, '[article': 14692, 'title]': 14693, '[author': 14694, 'publication]': 14695, 'peered': 14696, 'glittering': 14697, 'memorial': 14698, 'elaborated': 14699, 'laggard': 14700, \"mexico's\": 14701, 'phosphorus': 14702, 'rottweilers': 14703, 'gillidanda': 14704, 'senegal': 14705, 'cote': 14706, \"d'ivoire\": 14707, 'madagascar': 14708, 'calculatemean': 14709, '←': 14710, 'endfunction': 14711, 'newproduct': 14712, 'opted': 14713, 'grabbing': 14714, 'piccolo': 14715, 'tuner': 14716, 'ports': 14717, 'revolves': 14718, 'wallowing': 14719, 'partying': 14720, 'lightening': 14721, 'pail': 14722, 'crown': 14723, 'warms': 14724, 'unladen': 14725, 'numbersappendnumbers[i]': 14726, 'numbers[i]': 14727, 'decoded': 14728, 'malaysia': 14729, 'kuala': 14730, 'lumpur': 14731, 'christmas': 14732, 'alighted': 14733, 'barking': 14734, 'stockholm': 14735, 'gothenburg': 14736, 'uppsala': 14737, 'örebro': 14738, 'malmö': 14739, '⇒': 14740, 'pasar': 14741, 'ti': 14742, 'toefl': 14743, 'dimensional': 14744, 'azalea': 14745, 'rhododendron': 14746, 'ericaceae': 14747, \"'%ai%'\": 14748, '*$': 14749, 'categorised': 14750, \"'research'\": 14751, \"'racecar'\": 14752, 'yankees': 14753, 'cubs': 14754, 'dodgers': 14755, \"jane's\": 14756, 'alibaba': 14757, 'wakoopa': 14758, 'handkerchief': 14759, 'register': 14760, '\\\\w\\\\w\\\\\\\\w': 14761, 'clients': 14762, 'breaches': 14763, 'unauthorized': 14764, \"unhoneymooners'\": 14765, 'christina': 14766, 'lauren': 14767, 'printresult': 14768, 'ca$': 14769, 'sortbylengthlistofstrings': 14770, 'sortedlistofstrings': 14771, 'len': 14772, 'targets': 14773, 'mini': 14774, 'potted': 14775, 'loosen': 14776, 'milan': 14777, 'naples': 14778, 'turin': 14779, 'palermo': 14780, 'genoa': 14781, 'questionanswering': 14782, 'participate': 14783, 'dialogues': 14784, 'amok': 14785, 'emphasizes': 14786, 'examines': 14787, 'hypertension': 14788, 'bloomingtide': 14789, 'summerstar': 14790, 'solstice': 14791, 'emberfall': 14792, 'shadowdusk': 14793, 'frostwind': 14794, 'icetide': 14795, 'ipv': 14796, 'chats': 14797, 'messages': 14798, 'swaptwoelementsarr': 14799, 'xrays': 14800, 'substrings': 14801, \"'m'\": 14802, 'fortab': 14803, 'mble': 14804, 'primer': 14805, 'twentyone': 14806, 'pilots': 14807, 'fluency': 14808, 'unafraid': 14809, \"administration's\": 14810, 'sanctions': 14811, 'inhaling': 14812, 'discerning': 14813, '[reading': 14814, 'chess]': 14815, 'undecided': 14816, 'aves': 14817, 'reptilia': 14818, 'concentrated': 14819, 'triangulum': 14820, 'oblong': 14821, 'schooler': 14822, 'overcame': 14823, 'naturebased': 14824, 'nam': 14825, 'doover': 14826, 'experimental': 14827, \"rowling's\": 14828, 'eminent': 14829, 'privileged': 14830, 'colossus': 14831, 'roadblock': 14832, 'user_info': 14833, 'user_id': 14834, 'apiece': 14835, 'melts': 14836, 'natureisnecessary': 14837, 'radian': 14838, 'cliche': 14839, 'prospers': 14840, 'shylock': 14841, 'moneylender': 14842, 'merchant': 14843, \"venice'\": 14844, 'fulfillment': 14845, 'candlelit': 14846, 'bthis': 14847, 'textb': 14848, 'medication': 14849, 'beautyisintheeyeofthebeholder': 14850, 'softer': 14851, 'burrowing': 14852, 'quills': 14853, 'termites': 14854, 'lato': 14855, 'sans': 14856, 'blues': 14857, 'accent': 14858, 'xxx': 14859, 'anytown': 14860, 'xxxxx': 14861, 'fluid': 14862, 'climbs': 14863, 'titlebasic': 14864, 'hhello': 14865, 'worldh': 14866, 'devastation': 14867, 'meanings': 14868, 'sparse': 14869, 'worn': 14870, 'hermann': 14871, 'hesse': 14872, 'onethird': 14873, 'aircraft': 14874, 'firstclass': 14875, 'straight': 14876, 'amit': 14877, 'shah': 14878, 'rahul': 14879, 'sushma': 14880, 'swaraj': 14881, 'microsoftazure': 14882, 'frederick': 14883, 'olmsted': 14884, 'befudzlement': 14885, 'aprendiendo': 14886, 'plagiarized': 14887, 'tweets': 14888, 'apprehension': 14889, 'compassionately': 14890, 'pollen': 14891, 'requesting': 14892, 'leia': 14893, 'organa': 14894, 'jaloux': 14895, 'endears': 14896, 'incalculable': 14897, 'conundrum': 14898, 'papier': 14899, 'mache': 14900, 'oxymorons': 14901, \"'jumbo\": 14902, \"shrimp'\": 14903, \"'silent\": 14904, \"scream'\": 14905, \"'sweet\": 14906, \"sorrow'\": 14907, \"'pretty\": 14908, \"ugly'\": 14909, 'postal': 14910, 'parental': 14911, 'festivals': 14912, 'holi': 14913, 'diwali': 14914, 'dusshera': 14915, 'ganesh': 14916, 'chaturthi': 14917, 'pongal': 14918, 'onam': 14919, 'boosh': 14920, 'guarantees': 14921, 'warranties': 14922, 'eights': 14923, 'reelected': 14924, 'aipowered': 14925, 'exampletxt': 14926, 'scooter': 14927, 'parenting': 14928, 'aegissecure': 14929, 'rhine': 14930, 'harz': 14931, 'arrival': 14932, 'dodge': 14933, 'twigs': 14934, 'corvettes': 14935, 'careening': 14936, 'comic': 14937, 'antihero': 14938, 'appointed': 14939, 'transported': 14940, 'complexities': 14941, 'assiduously': 14942, 'allnighter': 14943, 'innate': 14944, 'evicted': 14945, 'velleity': 14946, 'occasional': 14947, 'actual': 14948, 'remakes': 14949, 'diminish': 14950, \"'tech'\": 14951, 'nondurable': 14952, 'downwards': 14953, 'catering': 14954, \"matrix'\": 14955, 'newport': 14956, 'elevator': 14957, \"classmates'\": 14958, 'steepness': 14959, 'polly': 14960, 'frusterating': 14961, 'furnace': 14962, \"'and'\": 14963, 'progression': 14964, 'dminor': 14965, 'ediminished': 14966, 'fmajor': 14967, 'gmajor': 14968, 'printlistdictionarykeys': 14969, \"['apple'\": 14970, \"'carrot']\": 14971, 'fawn': 14972, 'lamb': 14973, 'downpour': 14974, 'zugspitze': 14975, 'bavaria': 14976, 'brandenburg': 14977, 'jealousy': 14978, 'insecurity': 14979, 'curriculum': 14980, 'sappy': 14981, 'nappy': 14982, 'intoxicating': 14983, 'hummus': 14984, 'veggies': 14985, 'gusto': 14986, 'modernist': 14987, 'acceptable': 14988, 'fruit_colors': 14989, \"'red'\": 14990, \"'banana'\": 14991, \"'yellow'\": 14992, \"'pear'\": 14993, \"'green'\": 14994, \"'grape'\": 14995, \"'purple'\": 14996, 'plumbing': 14997, 'refrigeration': 14998, 'homeopathy': 14999, 'pseudoscience': 15000, 'behaves': 15001, 'plots': 15002, 'allotted': 15003, 'joseph': 15004, 'strauss': 15005, 'ellis': 15006, 'irving': 15007, 'morrow': 15008, 'unassuming': 15009, 'tarantula': 15010, 'araneae': 15011, 'selachimorpha': 15012, 'emporium': 15013, 'dimitri': 15014, 'dimitrov': 15015, 'storylines': 15016, 'comprised': 15017, 'selfname': 15018, 'selfage': 15019, 'barkself': 15020, 'printwoof': 15021, 'sum_product': 15022, 'coldblooded': 15023, 'stared': 15024, 'closings': 15025, 'endeavored': 15026, \"love's\": 15027, 'bleated': 15028, 'fam': 15029, \"friend's\": 15030, 'perpetuating': 15031, 'liveliness': 15032, 'monotonous': 15033, 'monotony': 15034, 'magnificence': 15035, 'pitcher': 15036, 'defender': 15037, 'nomadic': 15038, 'kyrgyzstan': 15039, \"'cat'\": 15040, 'vat': 15041, 'gnat': 15042, 'grot': 15043, 'heptagon': 15044, 'fittest': 15045, 'acoustics': 15046, 'prompted': 15047, 'endlessly': 15048, 'lapped': 15049, \"time's\": 15050, 'castles': 15051, 'shells': 15052, 'blossoming': 15053, 'delightful': 15054, \"itselfs's\": 15055, 'hotdogs': 15056, 'obsequious': 15057, 'comply': 15058, 'ingratiating': 15059, 'swerved': 15060, 'collision': 15061, 'boasting': 15062, 'metalloids': 15063, 'germanium': 15064, 'arsenic': 15065, 'antimony': 15066, 'bleach': 15067, 'interacting': 15068, 'participatory': 15069, 'highfat': 15070, 'responsibilities': 15071, 'ecommercewebsite': 15072, 'shoppingonline': 15073, 'onlineshopping': 15074, 'tate': 15075, 'bloodstream': 15076, 'monitored': 15077, 'intercepted': 15078, 'kangchenjunga': 15079, 'koons': 15080, 'takashi': 15081, 'murakami': 15082, 'jeanmichel': 15083, 'basquiat': 15084, 'damien': 15085, 'hirst': 15086, 'et': 15087, 'quotient': 15088, 'raspberry': 15089, 'yoghurt': 15090, 'seasick': 15091, 'videogames': 15092, 'handson': 15093, '“exploring': 15094, 'parents”': 15095, 'horseshoe': 15096, 'unimaginable': 15097, 'proving': 15098, 'oceanologist': 15099, 'oceaned': 15100, 'oceanward': 15101, 'oceanful': 15102, 'oceanoid': 15103, 'cordyceps': 15104, 'parasitize': 15105, 'arthropods': 15106, 'dreambigandnevergiveup': 15107, 'goforit': 15108, 'inittowinit': 15109, 'makeithappen': 15110, 'focusandtakeaction': 15111, 'turndreamsintoreality': 15112, 'workhardforwhatyouwant': 15113, 'presently': 15114, 'contempt': 15115, 'pedicure': 15116, \"'tis\": 15117, 'adapted': 15118, 'fint': 15119, 'powx': 15120, 'is_perfect_squaren': 15121, 'mathsqrtn': 15122, 'introot': 15123, 'openended': 15124, 'vbp': 15125, 'rb': 15126, 'vb': 15127, 'narrator': 15128, 'undermined': 15129, 'disrespected': 15130, 'hrefhttpswwwexamplecomclick': 15131, 'hereap': 15132, 'reminded': 15133, 'hound': 15134, 'aloud': 15135, 'sunbeam': 15136, 'bey': 15137, 'bae': 15138, 'bale': 15139, 'bye': 15140, 'apeeling': 15141, 'trail': 15142, 'exhaust': 15143, 'fumes': 15144, 'combine': 15145, 'blended': 15146, 'durbin': 15147, 'tammy': 15148, 'duckworth': 15149, 'sulfurous': 15150, 'personalize': 15151, 'chocolatedipped': 15152, 'nyan': 15153, 'overthrow': 15154, 'xvi': 15155, 'reprimand': 15156, \"'smith'\": 15157, 'aiming': 15158, 'lushly': 15159, 'tenth': 15160, 'httpswwwamazoncombooksbnode': 15161, 'freshman': 15162, 'sophomore': 15163, 'junior': 15164, 'mia': 15165, 'influencing': 15166, 'aliexpress': 15167, 'upstream': 15168, 'hobbit': 15169, 'bilbo': 15170, 'baggins': 15171, 'thorin': 15172, 'oakenshield': 15173, 'gollum': 15174, 'smaug': 15175, 'gruesome': 15176, 'sheltering': 15177, 'aptitude': 15178, 'panel': 15179, 'supplying': 15180, 'seeps': 15181, 'misogyny': 15182, 'generalization': 15183, 'stereotyping': 15184, 'multitaskers': 15185, 'takeabreak': 15186, 'resetrefresh': 15187, 'limp': 15188, 'rag': 15189, 'servant': 15190, 'photovoltaic': 15191, 'appalachia': 15192, 'upper': 15193, 'reciprocal': 15194, \"'b'\": 15195, 'countertop': 15196, 'sneeze': 15197, 'combines': 15198, 'harmony]': 15199, 'arthritis': 15200, 'refueled': 15201, 'flourishing': 15202, 'praised': 15203, 'kickball': 15204, 'scavenger': 15205, 'hunts': 15206, 'limbo': 15207, 'corntoss': 15208, 'sack': 15209, 'races': 15210, 'chores': 15211, 'clarice': 15212, 'impairment': 15213, 'emperor': 15214, 'skua': 15215, 'hospitals': 15216, 'contentedly': 15217, 'profanity': 15218, 'cloud]httpsiimgurcomkziieggpng': 15219, 'inhibit': 15220, '“i': 15221, 'do”': 15222, 'busyness': 15223, 'aston': 15224, 'mouthwatering': 15225, 'radicals': 15226, \"adalbert's\": 15227, 'biotechnology': 15228, 'institutes': 15229, 'booms': 15230, 'customersname': 15231, 'productsname': 15232, 'purchasescustomer_id': 15233, 'purchasesproduct_id': 15234, 'productsid': 15235, 'travelled': 15236, 'reformatted': 15237, 'concurred': 15238, \"factory's\": 15239, 'knots': 15240, \"peter's\": 15241, 'reverse_strings': 15242, 'printreverse_stringhello': 15243, 'elite': 15244, 'collaborate': 15245, 'lowsaturated': 15246, 'lowcholesterol': 15247, 'horseback': 15248, 'exporters': 15249, 'validate': 15250, '^\\\\d$': 15251, 'wilt': 15252, 'powdery': 15253, 'mildew': 15254, 'rust': 15255, 'blight': 15256, 'sirmadam': 15257, 'vociferated': 15258, 'wwwwomenshistoryorg': 15259, 'transfixed': 15260, 'b]': 15261, '[c': 15262, 'd]': 15263, 'linking': 15264, 'magi': 15265, 'heuristic': 15266, \"site's\": 15267, 'actin': 15268, 'tubulin': 15269, 'elastin': 15270, 'lowerincome': 15271, \"beginner's\": 15272, 'dipaolo': 15273, 'freshlysqueezed': 15274, 'outspoken': 15275, 'sleuthing': 15276, 'vbd': 15277, 'adv': 15278, 'jj': 15279, 'apologizing': 15280, 'httpsopensourcecom': 15281, 'httpsenwikipediaorgwikilist_of_opensource_software': 15282, 'httpswwwslantcotopicsopensourcesoftware': 15283, 'httpswwwtechopediacomdefinitionopensourcesoftware': 15284, 'httpsenwikipediaorgwikiopensource_software': 15285, 'wellcrafted': 15286, 'destino': 15287, '%ancient': 15288, 'greece%': 15289, '%history%': 15290, 'succumb': 15291, 'customer_transactions': 15292, 'thinks': 15293, 'grevillea': 15294, 'chrysanthemums': 15295, 'あなたは私の人生の光です。': 15296, 'anata': 15297, 'jinsei': 15298, 'hikari': 15299, 'interests': 15300, 'pointe': 15301, 'dancinggoat': 15302, 'balletshoes': 15303, 'aang': 15304, 'beaded': 15305, 'coati': 15306, 'margay': 15307, 'relishes': 15308, 'buenos': 15309, 'fajitas': 15310, 'falafel': 15311, 'focaccia': 15312, 'fishsticks': 15313, 'cymbal': 15314, 'entranced': 15315, 'floatingpoint': 15316, 'arrsortfunctiona': 15317, 'pebble': 15318, 'peking': 15319, 'kung': 15320, 'pao': 15321, 'highquality': 15322, 'pruning': 15323, 'shears': 15324, 'hosepipe': 15325, 'watering': 15326, '‘httpswwwexamplecom’': 15327, 'rtext': 15328, 'printdata': 15329, 'mismanagement': 15330, 'bankrupt': 15331, 'providence': 15332, 'astronomical': 15333, 'dysfunction': 15334, 'impingement': 15335, 'ridegreen': 15336, 'phonetics': 15337, 'transmission': 15338, 'reception': 15339, 'dividex': 15340, 'zerodivisionerror': 15341, 'printcannot': 15342, 'hrefgooglecom': 15343, 'titlesearch': 15344, 'enginesearch': 15345, 'enginea': 15346, 'comingofage': 15347, 'antibiotic': 15348, 'prepositional': 15349, 'sweetsmelling': 15350, 'acerca': 15351, 'momento': 15352, 'descansar': 15353, 'relajarnos': 15354, 'disorders': 15355, 'genes': 15356, 'personalities': 15357, 'unaware': 15358, 'boywhippersnapper': 15359, 'basketballballcourt': 15360, 'friendcircle': 15361, 'a²': 15362, 'brahmaputra': 15363, 'godavari': 15364, 'marking': 15365, 'internethosted': 15366, 'coconuts': 15367, 'attempting': 15368, 'guaranteed': 15369, 'bergen': 15370, 'trondheim': 15371, 'stavanger': 15372, 'drammen': 15373, 'fredrikstad': 15374, 'tromsø': 15375, 'sandefjord': 15376, 'kristiansand': 15377, 'ålesund': 15378, 'inferred': 15379, \"their's\": 15380, 'wagged': 15381, 'petal': 15382, 'clapping': 15383, 'mting': 15384, 'hs': 15385, 'bn': 15386, 'mvd': 15387, \"'clck\": 15388, 'expressionist': 15389, 'gestural': 15390, 'serviceoriented': 15391, 'airports': 15392, 'atlanta': 15393, 'hartsfieldjackson': 15394, 'dallasfort': 15395, \"sam's\": 15396, 'magnetism': 15397, 'hardness': 15398, 'besides': 15399, 'hesitantly': 15400, 'istanbul': 15401, 'surrendered': 15402, 'trevi': 15403, 'castel': 15404, \"sant'angelo\": 15405, 'borghese': 15406, \"'quis'\": 15407, 'perceptions': 15408, 'cookiecutter': 15409, 'cookiedough': 15410, 'biscuit': 15411, 'cookiemaker': 15412, 'cookiewriter': 15413, 'cookiejar': 15414, 'vibrato': 15415, 'tremolo': 15416, 'oscillating': 15417, 'arachnophobia': 15418, 'appliance': 15419, 'bonobo': 15420, 'gibbon': 15421, 'stir': 15422, \"cruise's\": 15423, 'calculatetotalamountprice': 15424, 'sumnum': 15425, 'billboard': 15426, 'wedge': 15427, 'axle': 15428, 'draws': 15429, 'mama': 15430, 'marvellous': 15431, 'latter': 15432, 'trumps': 15433, 'collareddove': 15434, 'math_score': 15435, 'nietzsche': 15436, 'stronger”': 15437, 'ethnic': 15438, 'altruistic': 15439, 'retrieves': 15440, 'digitally': 15441, 'contend': 15442, 'wellpaid': 15443, 'declined': 15444, 'frighteningly': 15445, 'indifference': 15446, 'rabat': 15447, 'newt': 15448, 'buys': 15449, 'trucks': 15450, 'mowers': 15451, 'generators': 15452, 'conquered': 15453, 'shampoo': 15454, 'mummy': 15455, 'wraps': 15456, 'up”': 15457, 'ifi': 15458, 'flatisfied': 15459, \"'%gpt%'\": 15460, '_tooked_': 15461, 'detonation': 15462, 'glittered': 15463, 'signifying': 15464, 'manufacturer': 15465, 'highpaying': 15466, 'roles': 15467, 'intimate': 15468, 'relatives': 15469, 'andy': 15470, 'fumbled': 15471, 'clutch': 15472, 'trifling': 15473, 'sullen': 15474, 'abysmal': 15475, 'poweritdown': 15476, 'bboldb': 15477, 'sizelargefont': 15478, 'professionalism': 15479, 'responsiveness': 15480, 'sorcerer': 15481, \"cynthia's\": 15482, 'moonbeams': 15483, 'blinded': 15484, 'tastiest': 15485, 'contacting': 15486, 'orthodontist': 15487, 'physiotherapist': 15488, 'glacier': 15489, 'raccoon': 15490, 'magpie': 15491, 'opossum': 15492, 'winsome': 15493, 'beauteous': 15494, 'comely': 15495, 'stiletto': 15496, 'lightup': 15497, 'rhinestone': 15498, 'heel': 15499, '[cosπ': 15500, 'sinπ': 15501, '[sinπ': 15502, 'cosπ': 15503, 'viii': 15504, 'labeled': 15505, 'tweaked': 15506, 'deafening': 15507, 'thunderclap': 15508, 'institution': 15509, 'deposits': 15510, 'rutherford': 15511, 'pauling': 15512, 'depart': 15513, 'vapor': 15514, 'titlepage': 15515, 'titletitle': 15516, 'abcf': 15517, 'mddfkj': 15518, 'zac': 15519, 'adhering': 15520, 'isotope': 15521, 'suhreebruhl': 15522, 'prowling': 15523, 'helloname': 15524, 'talent': 15525, 'plutonian': 15526, 'quails': 15527, 'fortified': 15528, 'cereals': 15529, 'turnip': 15530, \"india's\": 15531, 'frineds': 15532, 'abviously': 15533, 'guitarlessonscom': 15534, 'beginners': 15535, 'struggled': 15536, 'moove': 15537, 'convoluted': 15538, 'inaudible': 15539, 'persian': 15540, 'ragdoll': 15541, 'toyger': 15542, 'angora': 15543, 'sphynx': 15544, 'cilantro': 15545, 'dill': 15546, 'fennel': 15547, 'chives': 15548, 'topping': 15549, 'mahogany': 15550, 'kapok': 15551, 'teak': 15552, 'rosewood': 15553, 'macaranga': 15554, 'sandpaper': 15555, 'mangrove': 15556, 'nolan': 15557, 'attraction': 15558, 'arriving': 15559, 'coarse': 15560, 'tender': 15561, 'contemplate': 15562, 'pane': 15563, 'fleptop': 15564, '“flexible”': 15565, 'happening': 15566, 'seas': 15567, 'sailors': 15568, 'remove_duplicates_from_listlist': 15569, 'new_listappenditem': 15570, 'thermodynamics': 15571, 'transformations': 15572, 'dom': 15573, '“hello': 15574, 'paragraph”': 15575, 'div”': 15576, 'networkbased': 15577, 'framing': 15578, 'differential': 15579, 'euclidean': 15580, 'trigonometry': 15581, 'theorem': 15582, 'evokes': 15583, 'lie': 15584, 'farther': 15585, 'carly': 15586, 'rae': 15587, 'jepsen': 15588, 'telluride': 15589, 'vail': 15590, 'whistler': 15591, 'chamonix': 15592, 'handled': 15593, 'broth': 15594, 'spoiled': 15595, '“what': 15596, 'computing”': 15597, 'kubla': 15598, 'samuel': 15599, 'coleridge': 15600, 'sasebo': 15601, 'shores': 15602, 'flick': 15603, 'uneven': 15604, 'jolted': 15605, 'validation': 15606, 'cauldron': 15607, 'noncarbonated': 15608, 'migratory': 15609, 'mallard': 15610, 'crane': 15611, 'find_maxlist': 15612, 'list[]': 15613, 'haunt': 15614, 'enfield': 15615, 'uz': 15616, 'madly': 15617, '**jacked**': 15618, 'extraction': 15619, 'chunky': 15620, 'cobweb': 15621, 'aidriven': 15622, 'anticipate': 15623, 'cherish': 15624, 'intriguing': 15625, 'educative': 15626, 'ships': 15627, 'orderly': 15628, 'interviews': 15629, 'raptors': 15630, 'twotime': 15631, 'dependencies': 15632, 'disputed': 15633, 'column_name': 15634, '%text%': 15635, \"'yyyymmdd'\": 15636, 'spotify': 15637, 'decomposer': 15638, 'ymj': 15639, 'zfyjsl': 15640, 'rpryaj': 15641, 'dwjr': 15642, 'nywjx': 15643, 'printhave': 15644, 'converts': 15645, 'rahma': 15646, 'khalil': 15647, 'django': 15648, 'rails': 15649, 'expressjs': 15650, 'aspnet': 15651, 'flask': 15652, 'strongwilled': 15653, 'copy': 15654, 'bookrelease': 15655, 'newbook': 15656, 'beware': 15657, 'fastzoom': 15658, \"speedit's\": 15659, 'pyreburning': 15660, 'wireof': 15661, 'quell': 15662, 'skipping': 15663, 'crawling': 15664, 'journalists': 15665, 'bloggers': 15666, 'copywriters': 15667, 'novelists': 15668, 'ghostwriters': 15669, 'publicists': 15670, 'speechwriters': 15671, 'decomposed': 15672, 'tina': 15673, 'nominative': 15674, 'accusative': 15675, 'dative': 15676, 'beautyamerican': 15677, \"'treasure'\": 15678, \"'wealth'\": 15679, 'intercountry': 15680, 'inclusive': 15681, 'debug': 15682, 'tripura': 15683, 'mends': 15684, 'wisefor': 15685, 'travelers': 15686, 'city$': 15687, 'angeles$': 15688, 'chicago$': 15689, 'dallas$': 15690, 'houston$': 15691, \"'good'\": 15692, \"'better'\": 15693, 'capitalizefirstletterword': 15694, 'wordcharattouppercase': 15695, 'wordslice': 15696, 'heartbreak': 15697, 'confusion': 15698, 'numbness': 15699, 'beefy': 15700, 'inhaled': 15701, 'menacing': 15702, 'humanenvironment': 15703, 'twinkled': 15704, 'deployed': 15705, 'mailing': 15706, 'ubuntu': 15707, 'configured': 15708, 'bamboos': 15709, 'kafka': 15710, 'kahfkah': 15711, 'coolest': 15712, 'nassau': 15713, 'collin': 15714, 'dashboard': 15715, 'outskirts': 15716, '—chinese': 15717, 'samantha': 15718, 'relaxed': 15719, 'sweeter': 15720, 'congress': 15721, 'millennium': 15722, 'copyright': 15723, 'parson': 15724, '“money': 15725, 'bad”': 15726, 'haze': 15727, 'annoying': 15728, 'srcwelcome': 15729, 'cobbler': 15730, 'sundaes': 15731, 'lampshade': 15732, 'jobrelated': 15733, 'distress': 15734, 'redeyed': 15735, 'brillait': 15736, 'mermaid': 15737, 'ariel': 15738, 'eric': 15739, 'nino': 15740, 'jmpd': 15741, 'cupboard': 15742, 'bated': 15743, 'hops': 15744, 'pika': 15745, 'timepiece': 15746, 'penalty': 15747, 'swept': 15748, 'petaled': 15749, 'breakthroughs': 15750, 'widens': 15751, 'mimicking': 15752, 'conductor': 15753, 'alertness': 15754, 'wakefulness': 15755, 'relocating': 15756, 'acclaim': 15757, 'qick': 15758, 'laazy': 15759, 'headsheads': 15760, 'headstails': 15761, 'tailsheads': 15762, 'tailstails': 15763, 'ufvvuqz': 15764, 'fvudebwu': 15765, 'tuenmchyj': 15766, 'jojpqzq': 15767, 'eabdmipw': 15768, 'ayjjepzcft': 15769, 'umeslcftsd': 15770, 'pxkxaxhge': 15771, 'jywuequpr': 15772, 'pukegujpme': 15773, 'iranian': 15774, 'idle': 15775, \"devil's\": 15776, 'chi': 15777, 'amico': 15778, 'tesoro': 15779, 'halts': 15780, 'issueadvocacy': 15781, 'expenditure': 15782, 'ballot': 15783, 'journals': 15784, 'unfavorable': 15785, 'rested': 15786, 'ledge': 15787, 'queensland': 15788, 'impending': 15789, 'doom': 15790, 'trait': 15791, 'uniqueness': 15792, 'hci': 15793, 'pointing': 15794, 'softball': 15795, 'slithered': 15796, 'holocene': 15797, 'epoch': 15798, 'submitting': 15799, \"living'\": 15800, 'rustled': 15801, 'enchiladas': 15802, 'pastor': 15803, 'tyto': 15804, 'alba': 15805, 'sickle': 15806, 'anemia': 15807, 'huntington’s': 15808, 'hemophilia': 15809, 'taysachs': 15810, 'lullaby': 15811, 'orderscustomerid': 15812, 'infrared': 15813, 'redhaired': 15814, 'lamborghini': 15815, 'porsche': 15816, 'audi': 15817, 'mercedes': 15818, 'maroon': 15819, 'catchy': 15820, 'billions': 15821, 'incorporated': 15822, 'herman': 15823, 'melville': 15824, 'twain': 15825, 'seeming': 15826, 'angular': 15827, 'trowel': 15828, 'spade': 15829, 'hoe': 15830, 'mulch': 15831, 'fertilizer': 15832, 'intentions': 15833, 'behaviour': 15834, 'twobedroom': 15835, 'valiant': 15836, 'zerowaste': 15837, 'warmup': 15838, 'freelancer': 15839, 'automates': 15840, \"'tangible'\": 15841, \"'intangible'\": 15842, 'morbid': 15843, 'monstrous': 15844, 'maligned': 15845, 'muddled': 15846, 'monstrously': 15847, 'maleficent': 15848, 'flashy': 15849, 'arabic': 15850, 'bahrain': 15851, 'sympathetic': 15852, 'stingy': 15853, 'acrobat': 15854, 'defied': 15855, 'stunts': 15856, 'elicits': 15857, 'futurism': 15858, 'bosphorus': 15859, 'bosporus': 15860, \"heart's\": 15861, 'fulfilled': 15862, 'fischer': 15863, 'rushmore': 15864, 'stooped': 15865, \"brand's\": 15866, 'auditing': 15867, 'correlations': 15868, 'decode': 15869, 'caramelized': 15870, 'indulgent': 15871, 'gata': 15872, 'durmió': 15873, 'silla': 15874, 'stovetop': 15875, 'eugene': 15876, 'fama': 15877, 'shiller': 15878, 'calc_volume_of_sphereradius': 15879, 'topicname': 15880, \"'%specific_topic%'\": 15881, 'admirer': 15882, 'donated': 15883, '½': 15884, 'areacalculation': 15885, 'whistled': 15886, 'artfully': 15887, 'brews': 15888, 'airpods': 15889, 'complements': 15890, 'bahamas': 15891, 'absolute_differencex': 15892, 'absx': 15893, 'count_occurrenceslst': 15894, 'lstcountelement': 15895, 'mute': 15896, 'confessions': 15897, 'angels': 15898, 'innocent': 15899, 'condemned': 15900, 'homeless': 15901, 'dose': 15902, 'delivery_date': 15903, 'discount_priceprice': 15904, 'titlesimple': 15905, 'alo': 15906, 'nebraska': 15907, 'fans': 15908, 'showdown': 15909, 'tentacle': 15910, 'cephalopod': 15911, 'argumentative': 15912, '“strident”': 15913, 'extracted': 15914, 'carless': 15915, 'envious': 15916, 'daddy': 15917, 'auto_increment': 15918, 'pints': 15919, 'chirp': 15920, 'voter': 15921, 'turnout': 15922, 'merriam': 15923, 'webster': 15924, 'rooftop': 15925, \"anav's\": 15926, 'harish': 15927, 'scaling': 15928, 'bounding': 15929, 'meterssecond': 15930, 'neutrality': 15931, 'principle': 15932, 'equally': 15933, 'sir': 15934, 'ustinov': 15935, 'unix': 15936, 'person_total': 15937, 'limestone': 15938, 'sarscov': 15939, 'supernatural': 15940, 'cellulose': 15941, 'renewableenergy': 15942, 'jays': 15943, 'rotor': 15944, 'madam': 15945, 'ec': 15946, 'elastic': 15947, 'beanstalk': 15948, \"'gardening'\": 15949, 'rook': 15950, 'defendant': 15951, 'legally': 15952, 'contested': 15953, 'bursting': 15954, 'likened': 15955, 'pleasing': 15956, 'lighthearted': 15957, 'carefree': 15958, 'purify': 15959, 'contaminated': 15960, 'invoiced': 15961, 'foster': 15962, 'can’t': 15963, '[taste]': 15964, '[warm]': 15965, '[fruity]': 15966, 'strongframed': 15967, 'frisky': 15968, '👌': 15969, 'lire': 15970, 'écrire': 15971, 'lawenforcement': 15972, 'shedding': 15973, 'salarycom': 15974, 'reconfiguring': 15975, \"'mountain'\": 15976, 'ravage': 15977, 'imagined': 15978, 'license': 15979, 'piercingly': 15980, 'gneiss': 15981, 'total_customers': 15982, 'inquiring': 15983, 'zapier': 15984, 'extralarge': 15985, 'nonmagnetic': 15986, 'thirteenth': 15987, 'simpsons': 15988, 'verizon': 15989, 'touchscreen': 15990, 'knockknock': 15991, 'landscapes': 15992, 'glistens': 15993, 'trundled': 15994, 'thickly': 15995, 'wrinkled': 15996, 'parachute': 15997, 'waffle': 15998, 'bothering': 15999, 'walt': 16000, 'locality': 16001, 'browsing': 16002, 'preferences': 16003, 'dickinson': 16004, \"thrift's\": 16005, 'tswiftnews': 16006, 'nonmetals': 16007, 'chelonia': 16008, 'mydas': 16009, 'classmates': 16010, 'jacques': 16011, 'cousteau': 16012, 'conservationist': 16013, 'huckleberry': 16014, 'finn': 16015, 'recipient': 16016, 'sank': 16017, 'compiler': 16018, 'nun': 16019, 'vow': 16020, 'habit': 16021, 'twodimensional': 16022, '[dog': 16023, 'horse]': 16024, 'engelbart': 16025, 'php': 16026, 'containsnumber$string': 16027, \"preg_match'\\\\\\\\d'\": 16028, '$string': 16029, 'bouquet': 16030, 'brightlya': 16031, 'rainsa': 16032, 'daffodil': 16033, 'classify_wordword': 16034, \"wordendswith'ed'\": 16035, \"wordendswith'ing'\": 16036, \"wordendswith'ly'\": 16037, \"'adjective'\": 16038, 'beagle': 16039, 'deserted': 16040, 'rabbi': 16041, 'heschel': 16042, 'exuberantly': 16043, '[business': 16044, 'gist': 16045, 'uprightness': 16046, 'luxuriant': 16047, 'fungus': 16048, 'grip': 16049, 'clearing': 16050, 'fireman': 16051, 'thefire': 16052, 'overtime': 16053, 'preventing': 16054, 'quiere': 16055, 'convertirse': 16056, 'bailarina': 16057, 'profesional': 16058, 'troops': 16059, 'stationed': 16060, 'spanishamerican': 16061, 'carrie': 16062, 'pedaled': 16063, 'slimy': 16064, 'cowardly': 16065, 'knave': 16066, 'tidy': 16067, 'dishwasher': 16068, 'readonly': 16069, 'chemicals': 16070, 'extinguishers': 16071, 'decodes': 16072, 'heliconias': 16073, 'brugmansia': 16074, 'volatile': 16075, 'monk': 16076, 'udderly': 16077, 'bizarre': 16078, 'flapping': 16079, 'pumpkins': 16080, 'gourds': 16081, 'scarecrows': 16082, 'scottsdale': 16083, 'az': 16084, \"circle's\": 16085, 'asserting': 16086, 'legalize': 16087, 'samesex': 16088, 'transformative': 16089, 'shoulderlength': 16090, 'blonde': 16091, 'rosy': 16092, 'complexion': 16093, 'httpswwwscienceabccomeyeopenershumansevolvedmonkeyscommonancestorshtml': 16094, 'eery': 16095, 'oppressive': 16096, 'shortcrust': 16097, 'seashells': 16098, 'seashore': 16099, 'veux': 16100, 'commander': 16101, \"horizon's\": 16102, 'highway': 16103, 'arraypush': 16104, 'grandiose': 16105, 'timelessness': 16106, 'immortality': 16107, 'downloads': 16108, 'vernacular': 16109, 'teahouses': 16110, 'windmills': 16111, 'chateaux': 16112, 'expressionism': 16113, 'eradication': 16114, 'eye_color': 16115, 'thud': 16116, \"'united\": 16117, \"america'\": 16118, \"'usa'\": 16119, 'vegans': 16120, 'suave': 16121, 'footsteps': 16122, 'followup': 16123, 'plugging': 16124, 'printplease': 16125, 'depie': 16126, '‘beefburger’': 16127, '[population': 16128, 'change]': 16129, 'stricter': 16130, 'balloon': 16131, 'gauss': 16132, 'srinivasa': 16133, 'ramanujan': 16134, 'henri': 16135, 'poincaré': 16136, 'incorruptible': 16137, 'unfailing': 16138, 'barkingly': 16139, 'yappygiggly': 16140, 'mischievously': 16141, 'reasonable': 16142, 'smirk': 16143, 'wordcloud': 16144, 'exoplanets': 16145, 'telescopes': 16146, 'probes': 16147, 'spacetime': 16148, 'meteorites': 16149, 'removing': 16150, 'thisisa': 16151, 'empowered': 16152, 'hedonism': 16153, 'sincerely': 16154, 'irreversible': 16155, 'implicit': 16156, 'distressed': 16157, \"it'll\": 16158, 'chauffeur': 16159, 'pemyhta': 16160, 'sue': 16161, 'homepage': 16162, 'httpwwwcivilwarhomecom': 16163, 'vegetarians': 16164, 'fractions': 16165, 'tahiti': 16166, 'polynesia': 16167, 'motored': 16168, 'procure': 16169, 'savannahs': 16170, 'compatible': 16171, 'chargers': 16172, 'classheader': 16173, 'hheaderh': 16174, 'hsubheaderh': 16175, 'strangest': 16176, 'gladiator': 16177, 'russell': 16178, 'crowe': 16179, 'nut': 16180, 'butters': 16181, 'accelerated': 16182, 'mediumsized': 16183, 'stubby': 16184, 'superhero': 16185, \"adult's\": 16186, 'scampi': 16187, 'hilt': 16188, 'lith': 16189, 'gilt': 16190, 'hyphen': 16191, 'parentheses': 16192, 'brackets': 16193, 'unmatched': 16194, 'codon': 16195, 'atg': 16196, 'obstructive': 16197, 'copd': 16198, 'mailman': 16199, 'rescue': 16200, 'macaw': 16201, 'khaled': 16202, 'amira': 16203, 'kenza': 16204, 'shazad': 16205, 'zaid': 16206, 'adjusting': 16207, 'hyperparameters': 16208, 'infomercial': 16209, 'delicacy': 16210, 'frosted': 16211, 'morsel': 16212, '“over': 16213, 'moon”': 16214, 'ratified': 16215, 'hawksbill': 16216, 'authenticated': 16217, 'carla': 16218, 'emmawatsongmailcom': 16219, 'geology': 16220, 'antenna': 16221, 'journalist': 16222, 'sorrowful': 16223, 'griefstricken': 16224, 'heartbroken': 16225, 'dispirited': 16226, 'wistful': 16227, 'meant': 16228, 'acting': 16229, 'inappropriately': 16230, 'basketballs': 16231, 'attitudes': 16232, 'dribbled': 16233, 'deflated': 16234, 'nashville': 16235, 'tn': 16236, 'rhapsody': 16237, 'forex': 16238, 'crude': 16239, 'skeletal': 16240, 'nonremovable': 16241, 'tianjin': 16242, '[in': 16243, 'the]': 16244, '[time]': 16245, 'don': 16246, 'vito': 16247, \"corleone's\": 16248, 'rival': 16249, 'sollozzo': 16250, 'schönbrunn': 16251, 'vienna': 16252, 'belvedere': 16253, 'stephansplatz': 16254, 'albertina': 16255, 'wily': 16256, 'vulpine': 16257, 'plotted': 16258, 'easyexpertelephant': 16259, 'minced': 16260, 'shallots': 16261, 'grated': 16262, 'wrath': 16263, 'transferring': 16264, 'pulled': 16265, 'partner': 16266, 'trudged': 16267, 'purrfectly': 16268, 'kitty': 16269, 'feasts': 16270, 'wellbehaved': 16271, 'dare': 16272, 'centre': 16273, '²': 16274, 'twentieth': 16275, 'azaz': 16276, '^[azaz]$': 16277, 'encoded': 16278, 'organelle': 16279, 'chloroplast': 16280, \"'%rain%'\": 16281, 'für': 16282, 'elise': 16283, 'disguised': 16284, 'harmless': 16285, 'unbiased': 16286, 'favoring': 16287, 'viewpoint': 16288, 'epigenetics': 16289, 'gene': 16290, 'proven': 16291, 'mjbj': 16292, 'savored': 16293, 'pairing': 16294, 'jasmine': 16295, 'dewsoaked': 16296, \"dawn's\": 16297, 'sums': 16298, 'doorknob': 16299, 'sweep': 16300, 'ecology': 16301, 'bridget': 16302, 'salem': 16303, 'trials': 16304, 'barrel': 16305, 'nightlife': 16306, \"“person's\": 16307, 'person”': 16308, 'phd': 16309, 'quisiera': 16310, 'zumo': 16311, 'manzana': 16312, 'drugs': 16313, 'prozac': 16314, 'zoloft': 16315, 'lexapro': 16316, 'celexa': 16317, 'wellbutrin': 16318, 'fragment': 16319, 'skilful': 16320, 'accord': 16321, 'luciferin': 16322, 'enzyme': 16323, 'luciferase': 16324, 'workday': 16325, 'anaxyrus': 16326, 'baxteri': 16327, 'ticking': 16328, 'jaunt': 16329, 'countryside': 16330, 'greetname': 16331, 'capitalize': 16332, 'namecapitalize': 16333, \"farmer's\": 16334, 'freshest': 16335, 'manually': 16336, 'secluded': 16337, 'kyle': 16338, 'brockhampton': 16339, 'scoops': 16340, 'caramel': 16341, \"animal's\": 16342, 'directorcomposer': 16343, 'coordinatorproduction': 16344, 'ulaanbaatar': 16345, 'liberalism': 16346, 'constructivism': 16347, 'quivered': 16348, 'shorthair': 16349, 'distinguishes': 16350, 'getrandomnumber': 16351, 'mathpow': 16352, 'amelia': 16353, 'persistant': 16354, 'studious': 16355, 'perseverant': 16356, 'hole': 16357, '[image': 16358, 'meme]httpsiimgflipcomvyhrjpg': 16359, 'everybody': 16360, 'albuquerque': 16361, 'southwestern': 16362, 'pun': 16363, 'units²': 16364, 'discourage': 16365, 'draft': 16366, \"hasn't\": 16367, 'umami': 16368, 'crowne': 16369, 'mali': 16370, 'niger': 16371, 'burkina': 16372, 'faso': 16373, 'hallo': 16374, 'wie': 16375, 'geht': 16376, 'ihnen': 16377, 'sum_rangem': 16378, 'rangem': 16379, 'adenine': 16380, 'cytosine': 16381, 'guanine': 16382, 'thymine': 16383, 'nucleobases': 16384, 'dehydration': 16385, 'urine': 16386, 'thirsty': 16387, 'morningafternoonevening': 16388, 'yz': 16389, 'tundra': 16390, 'taiga': 16391, 'pocky': 16392, 'interns': 16393, 'commotion': 16394, 'pewdiepie': 16395, 'subscribers': 16396, 'fallout': 16397, 'inconsiderate': 16398, 'giraffe’s': 16399, 'neck': 16400, 'urgently': 16401, 'graphing': 16402, 'substitution': 16403, 'elimination': 16404, 'minerva': 16405, 'implying': 16406, 'contradicts': 16407, 'windshield': 16408, 'fled': 16409, 'peril': 16410, 'pickup': 16411, 'beats': 16412, 'textthis': 16413, 'multiply_sumnum': 16414, 'hydrangea': 16415, \"nation's\": 16416, 'placing': 16417, 'repaired': 16418, 'concluded': 16419, 'realities': 16420, 'additive': 16421, 'colorless': 16422, 'beau': 16423, 'cravings': 16424, 'volodymyr': 16425, 'zelensky': 16426, 'wetlands': 16427, 'anise': 16428, 'peppercorn': 16429, 'tardiness': 16430, 'catholic': 16431, 'opposes': 16432, 'abortion': 16433, 'violation': 16434, 'sanctity': 16435, 'luminosity': 16436, 'brightness': 16437, 'wattage': 16438, 'deployment': 16439, 'resident': 16440, 'ninth': 16441, 'ivan': 16442, 'aivazovsky': 16443, 'fukushima': 16444, 'daiichi': 16445, \"'berlin'\": 16446, 'tendered': 16447, 'cashier': 16448, 'proactively': 16449, 'coprime': 16450, 'commendable': 16451, 'foreground': 16452, 'globex': 16453, 'hints': 16454, 'dumped': 16455, 'stopplasticpollution': 16456, 'cloudysunny': 16457, 'skepticism': 16458, 'unbelief': 16459, 'incredulity': 16460, 'foxowl': 16461, 'centimetres': 16462, 'exporting': 16463, 'soybeans': 16464, 'abdmoninal': 16465, 'gastritis': 16466, 'adco': 16467, 'bdco': 16468, 'cxco': 16469, 'dxco': 16470, 'fwco': 16471, 'rumble': 16472, 'vibrating': 16473, \"doorbell's\": 16474, 'mango]': 16475, 'scarpetta': 16476, 'nw': 16477, 'acids': 16478, 'hydrochloric': 16479, 'sulfuric': 16480, 'nitric': 16481, 'citric': 16482, 'cherished': 16483, 'pricing': 16484, 'injection': 16485, 'trois': 16486, 'côtés': 16487, 'haircut': 16488, 'ax': 16489, 'planters': 16490, 'fluttered': 16491, 'bumblebees': 16492, 'leafcutter': 16493, 'jungles': 16494, 'zoos': 16495, 'sanctuaries': 16496, 'monthlong': 16497, 'hundredth': 16498, 'zappos': 16499, 'nordstrom': 16500, 'tumbled': 16501, 'neurons': 16502, 'compute': 16503, \"flight's\": 16504, 'customized': 16505, 'meetings': 16506, 'timesaving': 16507, 'taraxacum': 16508, 'officinale': 16509, 'morifolium': 16510, 'calculate_avga': 16511, 'waitress': 16512, 'exempt': 16513, 'binds': 16514, 'chains': 16515, 'unnoticed': 16516, '[[[': 16517, 'firstpaw': 16518, 'responder': 16519, 'avantgarde': 16520, 'largescale': 16521, 'sculptures': 16522, 'performances': 16523, 'invertebrate': 16524, 'quicksort': 16525, \"prim's\": 16526, 'aws': 16527, 'symbolizing': 16528, 'prettied': 16529, 'threads': 16530, 'shuttle': 16531, 'disruptive': 16532, 'centipede': 16533, 'mammary': 16534, 'glands': 16535, 'moons': 16536, 'taxi': 16537, 'silvery': 16538, 'graduate': 16539, 'kennedy': 16540, 'retrieval': 16541, 'surveysquestionnaires': 16542, 'interviewsfocus': 16543, 'observationsexperiments': 16544, 'datadocumentation': 16545, 'harriet': 16546, 'tubman': 16547, 'swims': 16548, 'sentir': 16549, 'calor': 16550, 'yummies': 16551, 'supernoms': 16552, 'nibsies': 16553, 'tastyliks': 16554, 'munchybrax': 16555, 'gourmetiss': 16556, 'snackies': 16557, 'deliciousious': 16558, 'nomsters': 16559, 'nibbzlettes': 16560, 'stable': 16561, 'videographer': 16562, 'phases': 16563, 'involve': 16564, 'illumination': 16565, 'lunar': 16566, 'timesnewroman': 16567, \"'times\": 16568, \"roman'\": 16569, 'grownups': 16570, 'barberton': 16571, 'greenstone': 16572, 'forgetful': 16573, 'scatterbrained': 16574, 'abuja': 16575, 'addis': 16576, 'ababa': 16577, 'pretoria': 16578, 'policymaker': 16579, 'biologist': 16580, 'rainbowcolored': 16581, 'humbled': 16582, 'profoundly': 16583, \"two's\": 16584, 'wordplay': 16585, 'brokerage': 16586, 'exorbitant': 16587, 'πrh': 16588, 'poster': 16589, 'overcast': 16590, 'fairytale': 16591, 'voy': 16592, 'volver': 16593, 'casa': 16594, 'carpets': 16595, 'mgcl': 16596, 'hbigtext': 16597, 'fontweightbold': 16598, \"'%taco%'\": 16599, \"'%mexican%'\": 16600, \"'%texmex%'\": 16601, 'mythological': 16602, 'centaurs': 16603, 'mermaids': 16604, 'wheelchairs': 16605, 'rusty': 16606, 'acquisition': 16607, 'retention': 16608, 'systolic': 16609, 'α': 16610, 'β*age': 16611, 'β*gender': 16612, 'β*height': 16613, 'β*weight': 16614, 'β*nicotine': 16615, 'minimizing': 16616, 'broached': 16617, 'assassinated': 16618, 'aflnfl': 16619, 'glistened': 16620, 'lex': 16621, 'wouldn’t': 16622, 'facets': 16623, 'pc': 16624, 'legends': 16625, 'fortnite': 16626, 'overwatch': 16627, 'sims': 16628, 'belting': 16629, 'tunes': 16630, 'usightu': 16631, 'assembled': 16632, 'multivitamin': 16633, \"watchin'\": 16634, 'hdtv': 16635, 'webcam': 16636, \"hooke's\": 16637, 'unconditional': 16638, 'tfkerasmodelssequential[': 16639, 'tfkeraslayersinputshape': 16640, \"activation'linear'\": 16641, \"modelcompileloss'mse'\": 16642, \"optimizer'adam'\": 16643, 'exquisitely': 16644, 'satisfying': 16645, 'hikes': 16646, 'cookout': 16647, '[gif': 16648, 'emoji]': 16649, 'closely': 16650, 'amplifiers': 16651, 'inaccuracies': 16652, 'overfitting': 16653, 'underfitting': 16654, 'unreliability': 16655, 'hazards': 16656, 'tum': 16657, 'khao': 16658, 'protects': 16659, 'nationwide': 16660, 'restricted': 16661, 'fateful': 16662, 'gibraltar': 16663, 'europäische': 16664, 'politische': 16665, 'und': 16666, 'wirtschaftliche': 16667, 'mitgliedstaaten': 16668, 'hauptsächlich': 16669, 'liegen': 16670, 'octagonal': 16671, 'predicts': 16672, 'sorted_sequence': 16673, \"dog's\": 16674, 'sundae': 16675, 'feasting': 16676, 'recognizable': 16677, 'sprinkles': 16678, 'toppings': 16679, 'jsmithtaxaccountantscom': 16680, 'accountants': 16681, 'wwwtaxaccountantscom': 16682, 'interventions': 16683, 'fasterdiagnosis': 16684, 'mydog': 16685, 'setbreedself': 16686, 'magicians': 16687, 'imparted': 16688, 'grievances': 16689, 'unions': 16690, 'bubbling': 16691, 'tin': 16692, 'chromium': 16693, 'xenon': 16694, 'cadmium': 16695, 'neodymium': 16696, 'hafnium': 16697, 'thorium': 16698, 'dedicating': 16699, 'winchell': 16700, 'avgorder_total': 16701, 'sukiyaki': 16702, 'shabushabu': 16703, 'yakiniku': 16704, 'footprint': 16705, 'melding': 16706, 'mandatory': 16707, 'alluring': 16708, 'sotomayor': 16709, 'elena': 16710, 'kagan': 16711, 'johnexamplecom': 16712, 'curry': 16713, 'sumptuous': 16714, 'crew': 16715, 'parking': 16716, 'winners': 16717, '≠': 16718, 'bornean': 16719, 'clouded': 16720, 'mcqueen': 16721, 'giorgio': 16722, 'armani': 16723, 'erdnxology': 16724, \"experiment's\": 16725, 'naturalsounding': 16726, 'activism': 16727, 'voldemort': 16728, 'complimentary': 16729, 'pris': 16730, 'petit': 16731, 'neuf': 16732, 'heures': 16733, 'matin': 16734, 'square_rootnum': 16735, \"adolescents'\": 16736, 'sumrrevenue': 16737, 'rcategory': 16738, 'thirds': 16739, 'recurring': 16740, 'locals': 16741, \"'creative'\": 16742, \"'imaginative'\": 16743, 'cubism': 16744, 'flattened': 16745, 'bottlenose': 16746, 'ers': 16747, 'huawei': 16748, 'xiaomi': 16749, 'nokia': 16750, 'quatrain': 16751, 'trochaic': 16752, 'eightsyllable': 16753, '\\u200b': 16754, 'bracelet': 16755, 'diction': 16756, 'sunk': 16757, 'tcm': 16758, 'qi': 16759, 'meridian': 16760, 'diagnostics': 16761, 'revolutionizes': 16762, 'simulations': 16763, 'jacob': 16764, 'benson': 16765, 'jacobbensongmailcom': 16766, 'samjaycookhotmailcom': 16767, 'pies': 16768, 'fiasco': 16769, 'arrsortfunctionab': 16770, 'racket': 16771, 'workout': 16772, 'swamped': 16773, 'vowel': 16774, 'consistency': 16775, 'jean': 16776, 'lovegood': 16777, 'balcombe': 16778, '“school': 16779, 'supplies”': 16780, \"owner's\": 16781, 'dimly': 16782, 'sparkle': 16783, 'streaked': 16784, 'skillsattributes': 16785, 'unattended': 16786, 'skydiving': 16787, 'heliskiing': 16788, 'bathing': 16789, 'irrigating': 16790, 'roam': 16791, 'commute': 16792, 'reword': 16793, 'tucked': 16794, 'fivedigit': 16795, 'zipcode': 16796, 'categoryclothing': 16797, 'colorred': 16798, 'colorwhite': 16799, 'raphael': 16800, 'athens”': 16801, '“la': 16802, 'disputa”': 16803, 'humansuccesscountryphonelightdaughtermountainpoliteuniversetiger': 16804, '“mountains”': 16805, 'espn': 16806, 'soccerway': 16807, 'sportsnet': 16808, \"singer's\": 16809, 'applaud': 16810, 'handwriting': 16811, 'comfy': 16812, 'discomfort': 16813, 'jaundice': 16814, 'bryan': 16815, 'peterson': 16816, \"'moon'\": 16817, 'intersecting': 16818, 'fare': 16819, 'lapping': 16820, 'crystalline': 16821, 'disjoint': 16822, 'plantae': 16823, 'subjunctive': 16824, 'imaginary': 16825, 'taller': 16826, \"school's\": 16827, 'highstakes': 16828, 'intrigue': 16829, 'battles': 16830, 'garnet': 16831, 'cambridge': 16832, 'stanford': 16833, 'arsenal': 16834, 'senseless': 16835, 'foolish': 16836, 'idiotic': 16837, 'witless': 16838, 'absurd': 16839, 'bushfires': 16840, 'cyclones': 16841, 'nicolaus': 16842, 'copernicus': 16843, 'joanna': 16844, 'barrelshaped': 16845, 'storylike': 16846, 'purposeful': 16847, 'tendigit': 16848, 'k*%c': 16849, 'teleporter': 16850, 'telemarketing': 16851, '🤔': 16852, 'telemarketinglife': 16853, 'justkiddingnotreally': 16854, 'prague': 16855, 'sow': 16856, 'combatting': 16857, 'imminent': 16858, 'streamline': 16859, 'catalyse': 16860, 'spur': 16861, 'expedite': 16862, 'rounders': 16863, 'encyclopaedia': 16864, 'britannica': 16865, 'britannicacom': 16866, 'merriamwebster': 16867, 'merriamwebstercom': 16868, 'eolorg': 16869, 'acres': 16870, 'woodlands': 16871, 'ursus': 16872, 'elephas': 16873, 'idiomatic': 16874, 'toothpicks': 16875, 'pottery': 16876, 'vermont': 16877, 'forloop': 16878, 'saber': 16879, 'shotgun': 16880, 'galleries': 16881, 'adda': 16882, 'printaddx': 16883, 'cyperus': 16884, 'alternifolius': 16885, 'sedge': 16886, 'asana': 16887, 'calmer': 16888, 'attribute': 16889, 'characteristic': 16890, 'sociatopulous': 16891, 'granny': 16892, 'navel': 16893, 'acm': 16894, 'sealed': 16895, 'creatively': 16896, 'empathizing': 16897, 'souhaite': 16898, 'bienvenu': 16899, 'avec': 16900, 'plaisir': 16901, 'toujours': 16902, 'amusant': 16903, 'parler': 16904, 'pressurized': 16905, 'pwrs': 16906, 'bwrs': 16907, 'gascooled': 16908, 'seabirds': 16909, 'krill': 16910, 'workforce': 16911, 'astrophysicist': 16912, 'generate_random_string': 16913, 'stringascii_uppercase': 16914, 'joinrandomchoicecharacters': 16915, 'printgenerate_random_string': 16916, 'historian': 16917, 'examine': 16918, 'harmonious': 16919, 'recognize': 16920, 'commands': 16921, 'satisfactory': 16922, 'spin': 16923, \"'sales'\": 16924, 'schadenfreude': 16925, 'derived': 16926, 'lexical': 16927, \"'grand'\": 16928, \"'knight'\": 16929, \"'night'\": 16930, 'tacocat': 16931, 'sunsunsun': 16932, 'gladness': 16933, 'zeta': 16934, \"'jibby'\": 16935, 'salvador': 16936, 'nicaragua': 16937, 'b^': 16938, 'c^': 16939, 'nifty': 16940, \"freedom'\": 16941, 'petulant': 16942, 'mingle': 16943, 'invading': 16944, 'kuwait': 16945, 'lebanon': 16946, 'arab': 16947, 'emirates': 16948, 'oman': 16949, 'surviving': 16950, 'apocalypse': 16951, 'nhl': 16952, 'connor': 16953, 'mcdavid': 16954, 'marchand': 16955, 'auston': 16956, 'matthews': 16957, 'pastrnak': 16958, 'nathan': 16959, 'mackinnon': 16960, 'tinkering': 16961, 'laura': 16962, 'expressively': 16963, 'chronologically': 16964, 'jamestown': 16965, 'emancipation': 16966, 'proclamation': 16967, 'add_three_intsint': 16968, 'macklemore': 16969, 'ryan': 16970, 'pharell': 16971, 'frolic': 16972, 'employeename': 16973, 'hiredate': 16974, 'multitude': 16975, 'kmhr': 16976, 'addvaluesint': 16977, 'titlewelcome': 16978, 'websitetitle': 16979, 'websiteh': 16980, 'marry': 16981, 'cinderella': 16982, \"harder'\": 16983, 'thirsting': 16984, 'improvised': 16985, 'rod': 16986, 'acai': 16987, 'duplicate': 16988, 'collapse': 16989, 'straightforward': 16990, 'chinamade': 16991, 'cucumbers': 16992, 'cabooses': 16993, 'senderexamplecom': 16994, \"refindallr'[\\\\w\\\\][\\\\w\\\\]'\": 16995, 'printemail': 16996, 'count_wordstext': 16997, 'text_lst': 16998, 'lentext_lst': 16999, 'unripe': 17000, 'x%': 17001, 'displaced': 17002, 'worsen': 17003, 'quiarr': 17004, 'mirrors': 17005, 'useast': 17006, 'trespassing': 17007, 'vanuatu': 17008, 'solomon': 17009, 'fiji': 17010, 'tonga': 17011, 'samoa': 17012, 'supermarketexpresscom': 17013, 'casual': 17014, 'patrol': 17015, 'outage': 17016, 'carol': 17017, 'widget': 17018, 'chances': 17019, \"'la\": 17020, \"eiffel'\": 17021, 'greet_customername': 17022, 'mio': 17023, 'nome': 17024, 'è': 17025, 'kgm³': 17026, 'exampe': 17027, 'httpsapiexamplecomvgetdata': 17028, 'responsejson': 17029, 'riddled': 17030, 'ageold': 17031, 'robbie': 17032, 'skates': 17033, 'flourished': 17034, 'compactible': 17035, 'techsavvy': 17036, 'upgradable': 17037, 'piquant': 17038, 'reunion': 17039, \"°'n\": 17040, \"°'w\": 17041, 'flea': 17042, 'bargain': 17043, 'fleas': 17044, 'nicole': 17045, 'kidman': 17046, 'averagea': 17047, 'heading': 17048, 'e_tggi': 17049, 'zl[dv': 17050, 'xqawr': 17051, 'ni*e$h': 17052, 'fyjb]k': 17053, 'dior': 17054, 'jade': 17055, 'minty': 17056, 'seafoam': 17057, 'mids': 17058, 'gaspowered': 17059, 'highcollared': 17060, 'attire': 17061, 'ornaments': 17062, 'ryzen': 17063, 'lotus': 17064, 'abebooks': 17065, 'chegg': 17066, 'valorebooks': 17067, 'eartoear': 17068, 'grin': 17069, 'chirps': 17070, 'zeus': 17071, 'poseidon': 17072, 'hades': 17073, 'istotal_costdollars': 17074, 'affluence': 17075, 'eighth': 17076, \"iau's\": 17077, 'stylewidthpx': 17078, 'heightpx': 17079, '⁻⁴': 17080, 'employment_data': 17081, \"'data\": 17082, \"scientist'\": 17083, 'uncaffeinated': 17084, \"localartist's\": 17085, 'supportlocalartists': 17086, 'facteur': 17087, 'réussite': 17088, 'styledisplay': 17089, 'marginright': 17090, 'reliably': 17091, 'comedic': 17092, 'mandates': 17093, 'greatstore': 17094, 'deserve': 17095, '[car': 17096, 'paradigm': 17097, 'sum_of_cubesx': 17098, 'y**': 17099, 'wombat': 17100, 'eucalyptus': 17101, 'hometown': 17102, 'wanna': 17103, 'specifically': 17104, \"earthquake's\": 17105, 'seismic': 17106, 'plutonium': 17107, 'webpage': 17108, 'vaquita': 17109, 'finless': 17110, 'porpoise': 17111, 'victorious': 17112, 'contented': 17113, 'astonishingly': 17114, \"asteroid's\": 17115, 'smashing': 17116, 'countless': 17117, 'gained': 17118, 'omurice': 17119, 'omelette': 17120, 'ketchup': 17121, 'panther': 17122, 'joyouselateddelightedoverjoyed': 17123, 'skyline': 17124, 'zesty': 17125, 'strategize': 17126, 'chien': 17127, 'rap': 17128, 'kendrick': 17129, 'lamar': 17130, 'dresser': 17131, 'buffet': 17132, 'armoire': 17133, 'bookcase': 17134, 'rams': 17135, 'butting': 17136, 'whatsapp': 17137, 'binbash': 17138, '%d%m%y': 17139, '%t': 17140, 'twicebaked': 17141, 'slumbers': 17142, 'savoring': 17143, 'regarded': 17144, 'flavours': 17145, 'oboe': 17146, 'yearoveryear': 17147, \"explorer's\": 17148, 'extraterrestrial': 17149, \"bachelor's\": 17150, 'critics': 17151, 'catdog': 17152, 'duo': 17153, 'afternoons': 17154, 'integrated': 17155, 'tracks': 17156, 'sum_arrayarray': 17157, 'partly': 17158, \"'he\": 17159, '\\\\i': 17160, \"tonight\\\\'\": 17161, 'explainable': 17162, 'smtwtfs': 17163, 'impressively': 17164, 'longawaited': 17165, 'byte': 17166, 'clownfish': 17167, 'octopuses': 17168, 'pillars': 17169, \"grandma's\": 17170, 'sausages': 17171, 'corbusier': 17172, 'sullivan': 17173, 'frank': 17174, 'lloyd': 17175, 'gropius': 17176, 'mies': 17177, 'der': 17178, 'rohe': 17179, 'ardor': 17180, 'zeal': 17181, 'maxandminnums': 17182, 'mathmaxnums': 17183, 'mathminnums': 17184, \"consolelog'max\": 17185, \"consolelog'min\": 17186, 'goose': 17187, 'kashi': 17188, 'find_arealength': 17189, 'furtively': 17190, 'glucose': 17191, 'explaining': 17192, 'birth_year': 17193, 'transporting': 17194, 'crossexamination': 17195, 'courtroom': 17196, 'hearth': 17197, 'spiced': 17198, 'landslide': 17199, 'coats': 17200, 'rottweiler': 17201, 'bulldog': 17202, 'yorkshire': 17203, 'mourning': 17204, 'halt': 17205, 'venice': 17206, 'prokaryotic': 17207, 'streptococcus': 17208, 'considerations': 17209, 'fountains': 17210, 'seep': 17211, 'im': 17212, 'lied': 17213, 'pilates': 17214, 'installing': 17215, 'edt': 17216, 'eyed': 17217, 'sesame': 17218, 'sentient': 17219, 'engulfs': 17220, 'noncontagious': 17221, 'aids': 17222, 'sexuallytransmitted': 17223, 'iframe': 17224, 'translate%': 17225, 'energizing': 17226, 'onlookers': 17227, 'novels': 17228, '“success': 17229, 'counts”': 17230, 'petrified': 17231, 'scurry': 17232, 'gaze': 17233, \"'dogs'\": 17234, 'jair': 17235, 'bolsonaro': 17236, 'liberal': 17237, 'psl': 17238, 'heralding': 17239, 'starchy': 17240, 'containsarray': 17241, 'aghast': 17242, 'dismay': 17243, 'chronicles': 17244, 'specs': 17245, 'gorgeousgoggles': 17246, 'lookextraordinary': 17247, 'pearls': 17248, 'darker': 17249, 'bouquets': 17250, 'quickness': 17251, 'virology': 17252, 'pathogen': 17253, 'antibodies': 17254, 'loudest': 17255, 'finishes': 17256, 'oral': 17257, 'histories': 17258, 'tribal': 17259, 'rob': 17260, 'reiner': 17261, 'nonjudgemental': 17262, 'marinated': 17263, 'slim': 17264, 'traverse': 17265, 'desires': 17266, 'quirky': 17267, 'vibe': 17268, 'presidentiallevel': 17269, 'ninetytwo': 17270, 'foodventure': 17271, 'illustrate': 17272, 'mournfully': 17273, 'despondently': 17274, 'fahrenheit_to_celsiusf': 17275, 'bid': 17276, 'ipads': 17277, 'arrangements': 17278, '“super”': 17279, 'talkingstop': 17280, 'demanded': 17281, 'bulldozer': 17282, 'octal': 17283, 'numbering': 17284, 'antarctic': 17285, 'intermedia': 17286, 'misstep': 17287, 'homelessness': 17288, \"'silly\": 17289, 'wacky': 17290, 'wiggle': 17291, 'sasha': 17292, 'josh': 17293, 'hutcherson': 17294, 'notebookcomputer': 17295, 'penpencil': 17296, 'imaginationcreativity': 17297, 'compromised': 17298, 'kazoo': 17299, 'project’s': 17300, 'mapping': 17301, 'diminutive': 17302, 'dozing': 17303, \"'mystery'\": 17304, 'kayaking': 17305, 'increment': 17306, 'sunkissed': 17307, 'oxymoron': 17308, \"'titanic'\": 17309, 'is_adult': 17310, 'overstock': 17311, 'speedily': 17312, 'inr': 17313, 'kmhour': 17314, 'lingered': 17315, 'sulphur': 17316, 'sulphate': 17317, 'gatito': 17318, 'chatte': 17319, 'ˈmæɹi': 17320, 'hæd': 17321, 'ə': 17322, 'ˈlɪtl': 17323, 'ˈlæm': 17324, \"'shipped'\": 17325, 'honestly': 17326, 'ignored': 17327, 'uci': 17328, 'usrbinpython': 17329, 'uncaring': 17330, 'indifferent': 17331, 'abstain': 17332, 'keychains': 17333, 'georges': 17334, 'bizet': 17335, 'municipality': 17336, 'suburb': 17337, 'generalized': 17338, 'upturn': 17339, 'quo': 17340, 'racism': 17341, 'pageh': 17342, 'spoonerism': 17343, 'boon': 17344, 'lagoon': 17345, 'wikipediaorg': 17346, 'gcom': 17347, 'softwaretestinghelpcom': 17348, 'qaworldcom': 17349, 'tutorialspointcom': 17350, 'compatibility': 17351, \"hitchhiker's\": 17352, 'helen': 17353, 'keller': 17354, 'cousins': 17355, \"betty's\": 17356, 'nephew': 17357, 'niece': 17358, 'capitalise': 17359, 'thirty': 17360, 'sextillion': 17361, 'boar': 17362, 'consolelogsuccess': 17363, 'consolelogfail': 17364, 'mpg': 17365, 'jenna': 17366, 'visting': 17367, 'candies': 17368, 'deejay': 17369, 'quarterback': 17370, 'mahomes': 17371, 'receiver': 17372, 'tyreek': 17373, 'pressures': 17374, 'worries': 17375, 'locked': 17376, 'buzzing': 17377, 'rewire': 17378, \"hedgehog's\": 17379, 'daggers': 17380, 'gored': 17381, 'repeated': 17382, 'catalyst': 17383, 'lz^u': 17384, 'napoleon': 17385, 'bonaparte': 17386, 'antoinette': 17387, 'xn': 17388, 'obviously': 17389, 'buckle': 17390, 'sumallarray': 17391, 'rangelenarray': 17392, 'uniquecharsstring': 17393, 'uniquecharsappendchar': 17394, 'shuttles': 17395, 'challenger': 17396, 'autoencoder': 17397, 'reaping': 17398, 'athletics': 17399, 'gymnastics': 17400, 'boldly': 17401, 'upholds': 17402, 'constitutionality': 17403, 'iceman': 17404, 'tokenized': 17405, \"['hello'\": 17406, \"'is'\": 17407, \"'']\": 17408, 'pos': 17409, \"['intj'\": 17410, \"'punct'\": 17411, \"'det'\": 17412, \"'aux'\": 17413, \"'propn'\": 17414, \"'punct']\": 17415, 'heavier': 17416, 'feather': 17417, 'survivor': 17418, 'ape': 17419, 'beringei': 17420, 'bot': 17421, 'logarithm': 17422, 'beckoned': 17423, \"plaintiff's\": 17424, 'inquiries': 17425, 'communities': 17426, 'onestepaway': 17427, 'stopthespread': 17428, 'kebab': 17429, 'directive': 17430, 'malnutrition': 17431, 'kwashiorkor': 17432, 'roald': 17433, 'amundsen': 17434, 'tinkerbell': 17435, 'firefly': 17436, 'engaged': 17437, 'combining': 17438, 'heartless': 17439, 'getawayandrelax': 17440, 'undeniably': 17441, 'delivers': 17442, 'jay': 17443, 'fiscal': 17444, 'colossal': 17445, 'tiedye': 17446, 'entirely': 17447, 'flung': 17448, 'unlocked': 17449, 'swung': 17450, 'wwwbostonglobecom': 17451, 'whistle': 17452, 'supported': 17453, 'friendsforlife': 17454, 'somuchlove': 17455, 'sigmund': 17456, \"freud's\": 17457, 'psychoanalysis': 17458, \"bandura's\": 17459, 'bf': 17460, \"skinner's\": 17461, 'unparalleled': 17462, 'pytorch': 17463, 'healthbenefits': 17464, 'physicalhealth': 17465, 'orchard': 17466, 'brunch': 17467, 'elective': 17468, 'hombre': 17469, 'condujo': 17470, 'coche': 17471, '∞': 17472, 'nissan': 17473, 'vegetationderived': 17474, 'chalk': 17475, 'malfunctioned': 17476, 'httpswwwweforumorgagendaclimatechangeeconomiccostsbilliondollars': 17477, 'httpswwwieaorgnewsglobalcostofclimatechangecouldreachtrillionbyreportfinds': 17478, \"tomorrow's\": 17479, 'advisory': 17480, 'immigration': 17481, 'unscalable': 17482, 'mileshr': 17483, 'condemning': 17484, \"peoples'\": 17485, 'delegates': 17486, 'demands': 17487, 'swiftness': 17488, 'savannah': 17489, 'conducting': 17490, 'investigator': 17491, 'contributor': 17492, 'caper': 17493, 'scope': 17494, 'abovea': 17495, 'bloompeaceful': 17496, 'forge': 17497, 'inuit': 17498, 'métis': 17499, 'orphan': 17500, 'superpowers': 17501, 'muffins': 17502, 'earns': 17503, 'find_highest_valuearr': 17504, 'arr[]': 17505, 'lenarr': 17506, '[gardeningreadingswimming]': 17507, '[englishspanish]': 17508, 'textures': 17509, \"philip's\": 17510, 'kathyphilipexamplecom': 17511, 'potent': 17512, 'commanding': 17513, 'prevalent': 17514, 'tougher': 17515, 'leopardus': 17516, 'pardalis': 17517, 'stalked': 17518, 'generate_random_setn': 17519, 'lenrandom_set': 17520, 'random_setaddrandomrandint': 17521, 'printgenerate_random_set': 17522, 'treasured': 17523, 'quickest': 17524, 'pickles': 17525, 'fleeing': 17526, 'typed': 17527, 'googolplexianth': 17528, 'elephantshaped': 17529, 'bunny': 17530, 'whirlwind': 17531, 'sensations': 17532, 'createcanvasx': 17533, \"setbackgroundcolor'black'\": 17534, 'drawrectangle': 17535, 'halffull': 17536, 'temps': 17537, \"'paris'\": 17538, \"'tokyo'\": 17539, 'calamity': 17540, 'soliloquy': 17541, 'traditions': 17542, 'intend': 17543, 'dedicate': 17544, 'cleansing': 17545, 'cools': 17546, 'warmest': 17547, 'wellwritten': 17548, 'rank': 17549, 'overpopulation': 17550, 'overexploitation': 17551, 'pending': 17552, 'thirdperson': 17553, 'omniscient': 17554, 'planners': 17555, 'conservationists': 17556, 'aflutter': 17557, 'gsharp': 17558, 'calmease': 17559, 'playa': 17560, 'gmt': 17561, 'voulais': 17562, 'aller': 17563, 'promener': 17564, 'cherishing': 17565, 'hiked': 17566, 'summit': 17567, 'credentials': 17568, 'channels': 17569, \"cooper's\": 17570, '‘john’': 17571, 'sophistication': 17572, 'portar': 17573, 'tu': 17574, 'propia': 17575, 'bolsa': 17576, 'elección': 17577, 'ecológica[]': 17578, '[]translation': 17579, 'sourced': 17580, 'translate': 17581, 'prescribe': 17582, 'uneasiness': 17583, 'chang': 17584, 'installation': 17585, \"teammates'\": 17586, \"fill'd'\": 17587, \"fill'f'\": 17588, \"fill'dbeb'\": 17589, 'impatient': 17590, 'governor': 17591, 'pill': 17592, 'tight': 17593, 'redpinkcolored': 17594, 'pritty': 17595, 'moneycap': 17596, 'cayenne': 17597, 'encircles': 17598, 'zorilla': 17599, 'customer_phone_number': 17600, 'customer_data': 17601, \"'adb'\": 17602, 'sup': 17603, 'arrforeachnum': 17604, 'consolelognum': 17605, 'dragging': 17606, 'logan': 17607, 'secretly': 17608, 'commonality': 17609, 'synchronization': 17610, 'geolocation': 17611, 'inapp': 17612, 'targeting': 17613, 'drivethru': 17614, 'fastservice': 17615, 'cantilevered': 17616, 'metres': 17617, 'formisfilled': 17618, 'formiscorrect': 17619, 'grantaccess': 17620, 'kitchens': 17621, 'transformer': 17622, 'swindled': 17623, 'chengducity': 17624, 'faintest': 17625, \"count_words'loving\": 17626, \"life'\": 17627, 'wordsworth': 17628, 'byron': 17629, 'refusing': 17630, 'surrender': 17631, 'trespass': 17632, 'environmentallyfriendly': 17633, 'requiring': 17634, 'ring': 17635, 'flawless': 17636, 'actionadventure': 17637, 'innovator': 17638, 'mathematicians': 17639, 'augusta': 17640, 'sophie': 17641, 'germain': 17642, 'nonagon': 17643, 'necesito': 17644, 'comprar': 17645, 'algunas': 17646, 'cosas': 17647, 'nuevas': 17648, 'tillich': 17649, '“hll': 17650, 'wrld”': 17651, 'morning”': 17652, \"neighbor's\": 17653, 'agenda': 17654, 'freshpressed': 17655, 'employed': 17656, 'sliced': 17657, 'efficacious': 17658, 'triumphant': 17659, 'sledding': 17660, 'covariance': 17661, 'caladiums': 17662, 'reservation': 17663, 'booking_date': 17664, 'oct': 17665, 'leaning': 17666, 'toward': 17667, 'volunteerism': 17668, 'wider': 17669, 'restful': 17670, 'vertices': 17671, 'rig': 17672, 'overhead': 17673, 'medal': 17674, 'printlist': 17675, 'machina': 17676, 'explores': 17677, 'oysters': 17678, 'balloons': 17679, 'hive': 17680, 'empowering': 17681, 'jamie': 17682, 'foxx': 17683, \"pilot's\": 17684, 'departmentname': 17685, 'handbags': 17686, 'replica': 17687, 'counterfeit': 17688, 'knockoff': 17689, 'cosmetics': 17690, 'imitation': 17691, 'thcountryth': 17692, 'thcapitalth': 17693, 'tdnorwaytd': 17694, 'tdoslotd': 17695, 'tdfrancetd': 17696, 'tdparistd': 17697, 'tdjamaicatd': 17698, 'tdkingstontd': 17699, 'birth_date': 17700, 'familia': 17701, 'dirige': 17702, 'parque': 17703, 'invoicing': 17704, 'quickbooks': 17705, 'freshbooks': 17706, 'xero': 17707, 'invoicego': 17708, 'billcom': 17709, \"anything's\": 17710, 'reeve': 17711, 'skittles': 17712, 'prairie': 17713, 'couleur': 17714, 'préférée': 17715, 'cheetahdash': 17716, 'cheetahlands': 17717, 'cheetahbytes': 17718, 'cheetahscan': 17719, \"'learning'\": 17720, 'knowledgeispower': 17721, 'sharingiscaring': 17722, 'allinone': 17723, '[problem]': 17724, 'passions': 17725, 'becreative': 17726, \"warming's\": 17727, 'viviane': 17728, 'rutabingwa': 17729, 'playthings': 17730, 'jumpstart': 17731, 'disapproval': 17732, 'any\\xadbody': 17733, 'exemplified': 17734, 'washed': 17735, \"son's\": 17736, 'quartile': 17737, 'cbd': 17738, 'photographers': 17739, 'romcom': 17740, 'asians': 17741, 'banal': 17742, 'fuming': 17743, 'simmering': 17744, 'namename': 17745, 'placeholdername': 17746, 'namelast_name': 17747, 'placeholderlast': 17748, 'typeemail': 17749, 'nameemail': 17750, 'placeholderemail': 17751, 'typesubmitsubmitbutton': 17752, 'velázquez': 17753, 'strap': 17754, 'bolster': 17755, 'years_of_service': 17756, 'frightful': 17757, 'horrible': 17758, 'meteorologist': 17759, 'nonrenewable': 17760, 'budgetfriendly': 17761, 'deprived': 17762, '[company': 17763, 'jerry': 17764, 'pharrell': 17765, 'thefour': 17766, 'undertake': 17767, 'pondered': 17768, 'drudge': 17769, 'towns': 17770, 'lament': 17771, 'thrash': 17772, 'merrier': 17773, 'autonomy': 17774, 'thefutureisyours': 17775, 'sun—': 17776, 'pastel': 17777, 'uniquethis': 17778, 'textunique': 17779, 'presentations': 17780, 'packs': 17781, 'pantry': 17782, 'pots': 17783, 'retribution': 17784, 'rehabilitation': 17785, 'nsubj': 17786, 'prep': 17787, 'pobj': 17788, 'teal': 17789, 'finest': 17790, 'eleanor': 17791, 'mastercard': 17792, 'diners': 17793, \"comedian's\": 17794, 'hilarious': 17795, 'emitted': 17796, 'rejoiced': 17797, 'shutter': 17798, 'swan': 17799, 'memento': 17800, 'fruitful': 17801, 'puns': 17802, 'textual': 17803, 'webinars': 17804, 'audiovideo': 17805, 'cooperative': 17806, 'trash': 17807, 'hopefulness': 17808, 'misplaced': 17809, 'publication': 17810, 'animalderived': 17811, 'nonvegan': 17812, 'incidence': 17813, 'refraction': 17814, 'indochinese': 17815, 'who’s': 17816, 'measurable': 17817, 'timebound': 17818, \"bilbo's\": 17819, 'sword': 17820, 'lagging': 17821, 'sclerosis': 17822, 'depicted': 17823, 'stability': 17824, 'poses': 17825, 'getoddlist': 17826, 'oddlistappendnum': 17827, \"print'hello\": 17828, 'alabama': 17829, 'amamphibious': 17830, 'lorem': 17831, 'ametdocx': 17832, 'printn': 17833, 'inhabits': 17834, 'respirates': 17835, 'gills': 17836, 'structural': 17837, 'ayer': 17838, 'noche': 17839, 'fui': 17840, 'tienda': 17841, 'productsservices': 17842, 'heartbreaking': 17843, '[piano]': 17844, '[soft': 17845, 'strumming]': 17846, 'buscando': 17847, 'correcto': 17848, 'notepad': 17849, 'sublime': 17850, 'studio': 17851, 'nth': 17852, 'guardian': 17853, \"consolelog'hello'\": 17854, \"bacteria's\": 17855, 'aggression': 17856, 'demeanor': 17857, \"name'eiffel\": 17858, \"tower'\": 17859, 'draped': 17860, 'relational': 17861, 'slithering': 17862, 'pouncing': 17863, 'pillows': 17864, 'calculate_averagenum': 17865, 'antharky': 17866, 'tenebrism': 17867, 'seine': 17868, 'beautifull': 17869, 'journalism': 17870, 'philips': 17871, 'conquers': 17872, 'bounds': 17873, 'briefcase': 17874, 'trim': 17875, 'antelope': 17876, 'gazelles': 17877, 'blah': 17878, 'nigel': 17879, 'tomm': 17880, 'my_matrix': 17881, '[[]': 17882, '[]]': 17883, 'ampere': 17884, 'backwards': 17885, 'initials': 17886, 'unpatched': 17887, 'vulnerabilities': 17888, 'add_numbers': 17889, \"jim's\": 17890, 'eatery': 17891, 'swimmer': 17892, 'fiftysix': 17893, 'twentyeight': 17894, 'disappearance': 17895, 'uproar': 17896, 'musée': 17897, \"d'orsay\": 17898, 'freshing': 17899, 'besoin': 17900, \"d'aller\": 17901, 'dawns': 17902, \"'mike'\": 17903, 'dominion': 17904, 'fault': 17905, 'aes': 17906, 'printfahrenheit': 17907, 'homer': 17908, 'iliad': 17909, 'pastures': 17910, 'crowded': 17911, 'purricane': 17912, 'happyy': 17913, 'dulluh': 17914, 'eve': 17915, 'hap': 17916, 'pyy': 17917, 'huh': 17918, '“veeg': 17919, 'carrot”': 17920, 'stepbystep': 17921, 'au': 17922, 'monde': 17923, '¿puede': 17924, 'decirme': 17925, 'más': 17926, 'cercano': 17927, 'urging': 17928, 'malfunction': 17929, 'my_funchello': 17930, 'ravaged': 17931, \"'my_func[]'\": 17932, 'devious': 17933, 'ferocity': 17934, 'birmingham': 17935, 'feasible': 17936, 'concat_intnum': 17937, \"''joinstri\": 17938, 'glimmers': 17939, 'tiring': 17940, 'happyright': 17941, 'lenses': 17942, 'eyeglasses': 17943, 'pyrotechnic': 17944, 'instances': 17945, 'fullprime': 17946, 'brightvibrantstrong': 17947, 'xd': 17948, 'alphabetically': 17949, 'stan': 17950, 'paragraphe': 17951, 'mots': 17952, 'anglais': 17953, 'darf': 17954, 'glas': 17955, 'wasser': 17956, 'haben': 17957, 'spellbinding': 17958, 'socialmedia': 17959, 'cottony': 17960, 'clustered': 17961, 'cm³': 17962, 'hornwort': 17963, 'eelgrass': 17964, 'duckweed': 17965, 'hyacinth': 17966, 'arrange': 17967, 'alight': 17968, 'signing': 17969, 'saratoga': 17970, 'té': 17971, \"maron's\": 17972, 'tavern': 17973, 'ale': 17974, \"donahue's\": 17975, 'prosciutto': 17976, 'bocconcini': 17977, 'sixmonth': 17978, 'fuchsia': 17979, 'glance': 17980, 'admit': 17981, 'devalued': 17982, 'worthlessness': 17983, 'firefighter': 17984, 'risking': 17985, 'meditating': 17986, 'schemes': 17987, 'clinics': 17988, 'passenger': 17989, 'lindy': 17990, '“bonjour”': 17991, '“hello”': 17992, 'day”': 17993, 'lavoisier': 17994, 'linnaeus': 17995, 'basking': 17996, 'aisles': 17997, \"'information'\": 17998, \"'influx'\": 17999, 'informationoeninflux': 18000, 'foray': 18001, 'updated_matrix': 18002, 'peeled': 18003, 'marveled': 18004, 'wildfire': 18005, 'bighorn': 18006, 'gila': 18007, 'horned': 18008, 'nevergiveup': 18009, 'actionpacked': 18010, 'you’re': 18011, \"amazon's\": 18012, 'carbondioxide': 18013, 'sealevel': 18014, 'gotten': 18015, 'squats': 18016, 'amazonian': 18017, 'brandi': 18018, 'carlile': 18019, 'sina': 18020, 'cosa': 18021, 'candles': 18022, 'successes': 18023, 'metallica': 18024, 'hetfield': 18025, 'ulrich': 18026, 'kirk': 18027, 'hammett': 18028, 'trujillo': 18029, 'rewardingexperience': 18030, 'shuddered': 18031, 'replacing': 18032, 'sp': 18033, 'predetermined': 18034, \"judge's\": 18035, 'vertical': 18036, 'horizontal': 18037, 'microscale': 18038, 'micromanage': 18039, 'microorganism': 18040, 'microfacsimile': 18041, 'microscopical': 18042, 'rodeo': 18043, 'calf': 18044, 'roping': 18045, 'climateaction': 18046, 'parasite': 18047, 'gisaengchung': 18048, 'crawl': 18049, 'drops': 18050, 'endearing': 18051, 'mud': 18052, 'ruinous': 18053, 'violent': 18054, 'deadly': 18055, 'buttery': 18056, 'cinnamony': 18057, 'nonprime': 18058, 'noncomposite': 18059, 'applause': 18060, 'blared': 18061, 'publishes': 18062, \"'humanity\": 18063, \"joy'\": 18064}\n"
          ]
        }
      ],
      "source": [
        "src_sequences , src_tokenizer = Vectorization('instruction' , src_max_lenght_sentence)\n",
        "trg_sequences , trg_tokenizer = Vectorization('output' , trg_max_lenght_sentence)"
      ]
    },
    {
      "cell_type": "code",
      "execution_count": 15,
      "id": "140a05c0-d412-4a33-b1cd-fe3feb65d179",
      "metadata": {
        "id": "140a05c0-d412-4a33-b1cd-fe3feb65d179",
        "outputId": "fcf7b4c3-6593-4909-db12-eba76e931442",
        "colab": {
          "base_uri": "https://localhost:8080/"
        }
      },
      "outputs": [
        {
          "output_type": "stream",
          "name": "stdout",
          "text": [
            "Size of the source vocabulary : 8304\n",
            "Size of the target vocabulary : 18065\n"
          ]
        }
      ],
      "source": [
        "print(\"Size of the source vocabulary :\",len(src_tokenizer.word_index))\n",
        "print(\"Size of the target vocabulary :\", len(trg_tokenizer.word_index))"
      ]
    },
    {
      "cell_type": "markdown",
      "id": "0cfec876-6542-49f3-911f-1d66fcaa51d8",
      "metadata": {
        "id": "0cfec876-6542-49f3-911f-1d66fcaa51d8"
      },
      "source": [
        "### Verify sequence tokenized"
      ]
    },
    {
      "cell_type": "code",
      "execution_count": 16,
      "id": "d08c985c-aa5c-4212-8d63-b7508a495e49",
      "metadata": {
        "id": "d08c985c-aa5c-4212-8d63-b7508a495e49",
        "outputId": "53653b1a-7d13-42d8-93e8-a6624d8deee5",
        "colab": {
          "base_uri": "https://localhost:8080/"
        }
      },
      "outputs": [
        {
          "output_type": "stream",
          "name": "stdout",
          "text": [
            "[   2 6113  289   61    7   17 3993   12    4 1128   39 1202    3    0\n",
            "    0    0    0    0    0] \n",
            "\n",
            " <sos> mintcom does all of that except for the cash at hand <eos>\n"
          ]
        }
      ],
      "source": [
        "trg_sent = ' '.join([trg_tokenizer.index_word[idx] for idx in trg_sequences[6] if idx != 0])\n",
        "print(f\"{trg_sequences[6]} \\n\\n {trg_sent}\")"
      ]
    },
    {
      "cell_type": "markdown",
      "id": "28eceecd-d3a3-4577-b29a-329f8da56373",
      "metadata": {
        "id": "28eceecd-d3a3-4577-b29a-329f8da56373"
      },
      "source": [
        "# <b>5 <span style='color:#9146ff'>|</span> Data Pipeline</b>"
      ]
    },
    {
      "cell_type": "code",
      "execution_count": 17,
      "id": "cb55628e-03bb-48ed-bc55-fc0e21eafe63",
      "metadata": {
        "id": "cb55628e-03bb-48ed-bc55-fc0e21eafe63"
      },
      "outputs": [],
      "source": [
        "batch_size = 128\n",
        "\n",
        "\n",
        "dataset = TensorDataset(torch.LongTensor(src_sequences) , torch.LongTensor(trg_sequences)) # Converts sequences in Pytoch tensors and create a tensor dataset\n",
        "\n",
        "torch.manual_seed(42)\n",
        "\n",
        "dataframe_dataloader = DataLoader(\n",
        "    dataset = dataset ,\n",
        "    batch_size = batch_size ,\n",
        "    shuffle = True ,\n",
        "    num_workers = 4 ,\n",
        "    pin_memory = True\n",
        ")"
      ]
    },
    {
      "cell_type": "markdown",
      "id": "414bddf6-4679-40ba-8838-ddf7993b76e4",
      "metadata": {
        "id": "414bddf6-4679-40ba-8838-ddf7993b76e4"
      },
      "source": [
        "# <b>6 <span style='color:#9146ff'>|</span> Model Build </b>"
      ]
    },
    {
      "cell_type": "code",
      "execution_count": 18,
      "id": "9f180e72-e769-4b26-9f30-bd8522001c2c",
      "metadata": {
        "id": "9f180e72-e769-4b26-9f30-bd8522001c2c"
      },
      "outputs": [],
      "source": [
        "def SelfAttention(q , k , v , mask) :\n",
        "\n",
        "    attention_scores = torch.matmul(q , k.transpose(-2 , -1)).to(DEVICE)  # Matrix multiplication\n",
        "\n",
        "    scaling = torch.sqrt(torch.tensor(k.size(-1) , dtype = torch.float32)).to(DEVICE) # Computes the square root of dim\n",
        "\n",
        "    scaled_attention = attention_scores / scaling\n",
        "\n",
        "    # Apply mask if provided (useful for preventing attention to certain parts like padding)\n",
        "    if mask is not None:\n",
        "        scaled_attention += (mask * -1e9)\n",
        "\n",
        "    # Apply softmax\n",
        "    attention_weights = torch.softmax(scaled_attention, dim=-1).to(DEVICE)\n",
        "\n",
        "    # Compute the weighted sum of the value vectors using the attention weights\n",
        "    output = torch.matmul(attention_weights , v).to(DEVICE)\n",
        "\n",
        "    return output"
      ]
    },
    {
      "cell_type": "markdown",
      "id": "c9330b98-79c1-4e63-9395-ed5dd7938e63",
      "metadata": {
        "id": "c9330b98-79c1-4e63-9395-ed5dd7938e63"
      },
      "source": [
        "## <b>6.2 <span style='color:#9146ff'> Multi-Head-Attention</span>  </b>"
      ]
    },
    {
      "cell_type": "code",
      "execution_count": 19,
      "id": "ac3b8208-777f-4e91-95bb-11f9f2f18b17",
      "metadata": {
        "id": "ac3b8208-777f-4e91-95bb-11f9f2f18b17"
      },
      "outputs": [],
      "source": [
        "import torch\n",
        "import torch.nn as nn\n",
        "import torch.nn.functional as F\n",
        "import math\n",
        "\n",
        "class MultiHeadAttention(nn.Module):\n",
        "    def __init__(self, model_dimension, num_heads):\n",
        "        super().__init__()\n",
        "\n",
        "        self.model_dimension = model_dimension\n",
        "        self.num_heads = num_heads\n",
        "        assert model_dimension % num_heads == 0\n",
        "\n",
        "        self.head_dimension = model_dimension // num_heads\n",
        "\n",
        "        self.q_proj = nn.Linear(model_dimension, model_dimension)\n",
        "        self.k_proj = nn.Linear(model_dimension, model_dimension)\n",
        "        self.v_proj = nn.Linear(model_dimension, model_dimension)\n",
        "        self.out_proj = nn.Linear(model_dimension, model_dimension)\n",
        "\n",
        "        # Talking-Heads: pre-softmax head mixing (via learned projection)\n",
        "        self.logit_proj_pre = nn.Parameter(torch.randn(num_heads, num_heads))\n",
        "\n",
        "    def split_heads(self, x, batch_size):\n",
        "        return x.reshape(batch_size, -1, self.num_heads, self.head_dimension).transpose(1, 2)\n",
        "\n",
        "    def forward(self, q, k, v, mask=None):\n",
        "        B, L, _ = q.size()\n",
        "\n",
        "        q = self.split_heads(self.q_proj(q), B)\n",
        "        k = self.split_heads(self.k_proj(k), B)\n",
        "        v = self.split_heads(self.v_proj(v), B)\n",
        "\n",
        "        # Scaled dot-product attention logits\n",
        "        logits = torch.matmul(q, k.transpose(-2, -1)) / math.sqrt(self.head_dimension)  # [B, H, L, L]\n",
        "\n",
        "        # Apply pre-softmax mixing: logits → [B, L, L, H] → [B, L, L, H] (mixed heads)\n",
        "        logits = logits.permute(0, 2, 3, 1)  # → [B, L, L, H]\n",
        "        logits = torch.matmul(logits, self.logit_proj_pre)  # Linear mix over heads\n",
        "        logits = logits.permute(0, 3, 1, 2)  # → [B, H, L, L]\n",
        "\n",
        "        if mask is not None:\n",
        "            logits = logits.masked_fill(mask == 0, -1e9)\n",
        "\n",
        "        attn_weights = F.softmax(logits, dim=-1)\n",
        "        attn_output = torch.matmul(attn_weights, v)\n",
        "\n",
        "        out = attn_output.transpose(1, 2).contiguous().view(B, L, self.model_dimension)\n",
        "        return self.out_proj(out)\n"
      ]
    },
    {
      "cell_type": "markdown",
      "id": "7a0ad9f3-36a1-4136-a351-f691b624f1e4",
      "metadata": {
        "id": "7a0ad9f3-36a1-4136-a351-f691b624f1e4"
      },
      "source": [
        "# <span style='font-size:25px;font-weight:bold;color:#9146ff'><b style='color:black'>6.3-</b> Encoder</span>\n",
        "The encoder takes in a sequence of tokens and produces a fixed-size vector representation of the entire sequence, which can then be used for classification."
      ]
    },
    {
      "cell_type": "code",
      "execution_count": 20,
      "id": "b40eaeac-7d3f-476b-a4d2-4fd3e8b6364f",
      "metadata": {
        "id": "b40eaeac-7d3f-476b-a4d2-4fd3e8b6364f"
      },
      "outputs": [],
      "source": [
        "class EncoderLayer(nn.Module) :\n",
        "    def __init__(self , model_dimension , num_heads , inner_layer_dimension , dropout_rate = 0.1) :\n",
        "        super(EncoderLayer , self).__init__()\n",
        "        self.multi_head_attention = MultiHeadAttention(model_dimension , num_heads)\n",
        "\n",
        "        # Layer normalization\n",
        "        self.norm1 = nn.LayerNorm(model_dimension , eps=1e-6)\n",
        "        self.norm2 = nn.LayerNorm(model_dimension, eps=1e-6)\n",
        "\n",
        "        # Dropout rate  for regularization\n",
        "        self.dropout1 = nn.Dropout(dropout_rate)\n",
        "        self.dropout2 = nn.Dropout(dropout_rate)\n",
        "\n",
        "        self.feed_foward_network = nn.Sequential(\n",
        "            nn.Linear(model_dimension , inner_layer_dimension),\n",
        "            nn.ReLU(),\n",
        "            nn.Linear(inner_layer_dimension , model_dimension))\n",
        "\n",
        "    def forward(self , x , mask) :\n",
        "\n",
        "        # X is passed through the multi-head mechanism\n",
        "        attn_output =self.multi_head_attention(x , x , x , mask)\n",
        "\n",
        "        # Dropout to prevent overfitting\n",
        "        attn_output = self.dropout1(attn_output)\n",
        "\n",
        "        # Normalization\n",
        "        out1 = self.norm1(x + attn_output)\n",
        "\n",
        "        feed_foward_output = self.dropout2(self.feed_foward_network(out1))\n",
        "\n",
        "        encoder_output = self.norm2(out1 + feed_foward_output)\n",
        "\n",
        "        return encoder_output"
      ]
    },
    {
      "cell_type": "code",
      "execution_count": 21,
      "id": "94e1dfac-7d84-45e6-a785-eabc12d5e918",
      "metadata": {
        "id": "94e1dfac-7d84-45e6-a785-eabc12d5e918"
      },
      "outputs": [],
      "source": [
        "class Encoder(nn.Module) :\n",
        "    def __init__(self, num_layers ,model_dimension, num_heads, inner_layer_dimension ,src_vocab_size,max_length,dropout_rate = 0.1):\n",
        "        super(Encoder , self).__init__()\n",
        "\n",
        "        self.num_layers = num_layers\n",
        "\n",
        "        self.embedding = nn.Embedding(src_vocab_size , model_dimension)\n",
        "\n",
        "        self.encoding_transformation = nn.Embedding(max_length , model_dimension)\n",
        "\n",
        "        self.encoder_layers = [EncoderLayer(model_dimension , num_heads , inner_layer_dimension , dropout_rate).to(DEVICE) for _ in range(num_layers)]\n",
        "\n",
        "        self.dropout = nn.Dropout(dropout_rate)\n",
        "\n",
        "\n",
        "    def forward(self , x , mask) :\n",
        "        batch_size , seqlen = x.shape # # Unpacking  shape\n",
        "\n",
        "        # Generates a 1D tensor containing integers from 0 to seqlen-1, replicates this sequence for each item in the batch\n",
        "        positions = torch.arange(0, seqlen).expand(batch_size, seqlen).to(DEVICE)\n",
        "\n",
        "        output = self.dropout((self.embedding(x) + self.encoding_transformation(positions)))\n",
        "\n",
        "        for i in range(self.num_layers) :\n",
        "            output = self.encoder_layers[i](output , mask)\n",
        "\n",
        "        return output"
      ]
    },
    {
      "cell_type": "markdown",
      "id": "9c7f1570-685a-47f8-8de9-b0138db9e930",
      "metadata": {
        "id": "9c7f1570-685a-47f8-8de9-b0138db9e930"
      },
      "source": [
        "## <span style='font-size:25px;font-weight:bold;color:#9146ff'><b style='color:black'>6.4-</b> Decoder</span>"
      ]
    },
    {
      "cell_type": "code",
      "execution_count": 22,
      "id": "5e2b62aa-116c-4af9-b88b-018f22372bb7",
      "metadata": {
        "id": "5e2b62aa-116c-4af9-b88b-018f22372bb7"
      },
      "outputs": [],
      "source": [
        "class DecoderLayer(nn.Module) :\n",
        "    def __init__(self , model_dimension , num_heads , inner_layer_dimension , dropout_rate = 0.1) :\n",
        "        super(DecoderLayer , self).__init__()\n",
        "\n",
        "        self.self_attn = MultiHeadAttention(model_dimension , num_heads)\n",
        "\n",
        "        # Multi-head attention mechanism that attends to the encoder's output\n",
        "\n",
        "        self.cross_attn = MultiHeadAttention(model_dimension , num_heads)\n",
        "\n",
        "        # Layer normalization\n",
        "        self.norm1 = nn.LayerNorm(model_dimension , eps=1e-6)\n",
        "        self.norm2 = nn.LayerNorm(model_dimension , eps=1e-6)\n",
        "        self.norm3 = nn.LayerNorm(model_dimension , eps=1e-6)\n",
        "\n",
        "        # Dropout\n",
        "        self.dropout1 = nn.Dropout(dropout_rate)\n",
        "        self.dropout2 = nn.Dropout(dropout_rate)\n",
        "        self.dropout3 = nn.Dropout(dropout_rate)\n",
        "\n",
        "        self.feed_forward_network = nn.Sequential( ######\n",
        "            nn.Linear(model_dimension, inner_layer_dimension),\n",
        "            nn.ReLU() ,\n",
        "            nn.Linear(inner_layer_dimension, model_dimension))\n",
        "\n",
        "    def forward(self , x , enc_output , src_mask , padding_mask) :\n",
        "\n",
        "        attention_output = self.self_attn(x , x , x , src_mask)\n",
        "        attention_output = self.dropout1(attention_output)\n",
        "        out1 = self.norm1(attention_output  + x)\n",
        "\n",
        "        attn2 = self.cross_attn(out1 , enc_output , enc_output , padding_mask)\n",
        "        attn2 = self.dropout2(attn2)\n",
        "        out2 = self.norm2(attn2 + out1)\n",
        "\n",
        "        ff_output = self.dropout3(self.feed_forward_network(out2))\n",
        "        decoder_output = self.norm3(ff_output + out2)\n",
        "\n",
        "        return decoder_output"
      ]
    },
    {
      "cell_type": "code",
      "execution_count": 23,
      "id": "5bd0f2bf-873a-4f01-9b35-c690828bb387",
      "metadata": {
        "id": "5bd0f2bf-873a-4f01-9b35-c690828bb387"
      },
      "outputs": [],
      "source": [
        "class Decoder(nn.Module) :\n",
        "    def __init__(self,num_layers , model_dimension, num_heads, inner_layer_dimension, trg_vocab_size,max_length, dropout_rate = 0.1):\n",
        "\n",
        "        super(Decoder , self).__init__()\n",
        "\n",
        "        self.num_layers = num_layers\n",
        "\n",
        "        self.embedding = nn.Embedding(trg_vocab_size , model_dimension)\n",
        "\n",
        "        self.pos_encoding = nn.Embedding(max_length , model_dimension)\n",
        "\n",
        "        self.decoder_layers = [DecoderLayer(model_dimension , num_heads , inner_layer_dimension, dropout_rate).to(DEVICE) for _ in range(num_layers)]\n",
        "\n",
        "        self.dropout = nn.Dropout(dropout_rate)\n",
        "\n",
        "    def forward(self , x , encoder_output, src_mask , padding_mask) : ########\n",
        "        batch_size , seqlen = x.shape\n",
        "\n",
        "        positions = torch.arange(0, seqlen).expand(batch_size, seqlen).to(DEVICE)\n",
        "\n",
        "        output = self.dropout((self.embedding(x) + self.pos_encoding(positions)))\n",
        "\n",
        "        # Applies each decoder layer sequentially to the output of the previous layer\n",
        "        for i in range(self.num_layers) : output  = self.decoder_layers[i](output , encoder_output , src_mask , padding_mask)\n",
        "\n",
        "        return output"
      ]
    },
    {
      "cell_type": "markdown",
      "id": "31849a72-fc3d-47e1-8154-ec8d05324e01",
      "metadata": {
        "id": "31849a72-fc3d-47e1-8154-ec8d05324e01"
      },
      "source": [
        "## <span style='font-size:25px;font-weight:bold;color:#9146ff'><b style='color:black'>6.4-</b> Transformer</span>"
      ]
    },
    {
      "cell_type": "code",
      "execution_count": 24,
      "id": "90588756-42c7-49e4-8187-1051f37c88df",
      "metadata": {
        "id": "90588756-42c7-49e4-8187-1051f37c88df"
      },
      "outputs": [],
      "source": [
        "class Transformer(nn.Module) :\n",
        "    def __init__(self,num_layers,embedding_dim,num_heads,inner_layer_dimension,src_vocab_size,trg_vocab_size,src_max_length,trg_max_length ,dropout_rate = 0.1) :\n",
        "\n",
        "        super(Transformer , self).__init__()\n",
        "\n",
        "        self.encoder = Encoder(num_layers,model_dimension,num_heads,inner_layer_dimension, src_vocab_size,src_max_length,dropout_rate).to(DEVICE)\n",
        "\n",
        "        self.decoder = Decoder(num_layers,model_dimension,num_heads,inner_layer_dimension,trg_vocab_size,trg_max_length,dropout_rate).to(DEVICE)\n",
        "\n",
        "        # Fully connected linear layer mapping to target vocabulary size\n",
        "        self.fc_out = nn.Linear(model_dimension , trg_vocab_size)\n",
        "\n",
        "    def define_mask(self , seq) :\n",
        "        # Ensure that padding tokens are ignored and that future tokens are not visible during training for the target sequence.\n",
        "\n",
        "        sequence_mask = (seq == 0).float().unsqueeze(1).unsqueeze(2)\n",
        "\n",
        "        return sequence_mask\n",
        "\n",
        "\n",
        "    def look_ahead_mask(self , trg) :\n",
        "        # The look-ahead mask is used to mask the future tokens in a sequence.\n",
        "\n",
        "        batch_size , trg_len = trg.shape\n",
        "\n",
        "        trg_mask = 1 - torch.tril(torch.ones((trg_len , trg_len)), diagonal=0).expand(\n",
        "            batch_size, 1, trg_len, trg_len\n",
        "        )\n",
        "\n",
        "        return trg_mask\n",
        "\n",
        "    def create_masks(self , src , trg) :\n",
        "\n",
        "        # Encoder padding mask\n",
        "        encoder_padding_mask = self.define_mask(src).to(DEVICE)\n",
        "\n",
        "        # Decoder padding mask\n",
        "        decoder_padding_mask = self.define_mask(src).to(DEVICE)\n",
        "\n",
        "        look_ahead_mask = self.look_ahead_mask(trg).to(DEVICE)\n",
        "\n",
        "        decoder_trg_padding_mask = self.define_mask(trg).to(DEVICE)\n",
        "\n",
        "        combined_mask = torch.max(decoder_trg_padding_mask , look_ahead_mask).to(DEVICE)\n",
        "\n",
        "        return encoder_padding_mask , combined_mask , decoder_padding_mask\n",
        "\n",
        "    def forward(self , src , trg) :\n",
        "\n",
        "        encoder_padding_mask , look_ahead_mask , decoder_padding_mask = self.create_masks(src , trg)\n",
        "\n",
        "        encoder_output = self.encoder(src , encoder_padding_mask)\n",
        "\n",
        "        decoder_output = self.decoder(trg , encoder_output , look_ahead_mask, decoder_padding_mask)\n",
        "\n",
        "        output = self.fc_out(decoder_output)\n",
        "\n",
        "        return output"
      ]
    },
    {
      "cell_type": "markdown",
      "id": "6b6bae09-3f74-4bcc-b18c-80a71c8eeb49",
      "metadata": {
        "id": "6b6bae09-3f74-4bcc-b18c-80a71c8eeb49"
      },
      "source": [
        "## Define hyperparameters"
      ]
    },
    {
      "cell_type": "code",
      "execution_count": 25,
      "id": "ff00343c-1d1a-434a-8841-4a09dfc86e5c",
      "metadata": {
        "id": "ff00343c-1d1a-434a-8841-4a09dfc86e5c"
      },
      "outputs": [],
      "source": [
        "epochs = 80\n",
        "lr = 1e-4  #Learning rate\n",
        "model_dimension = 256\n",
        "inner_layer_dimension = 512\n",
        "num_layers = 4\n",
        "num_heads = 8\n",
        "dropout_rate = 0.1\n",
        "src_vocab_size = len(src_tokenizer.word_index) # Vocabulary size for source\n",
        "trg_vocab_size = len(trg_tokenizer.word_index) # Vocabulary size for target\n",
        "src_max_len = np.max(df['src_len'])\n",
        "trg_max_len = np.max(df['trg_len'])\n",
        "\n",
        "model = Transformer(num_layers,model_dimension,num_heads,inner_layer_dimension,src_vocab_size,trg_vocab_size,src_max_len, trg_max_len,dropout_rate).to(DEVICE)"
      ]
    },
    {
      "cell_type": "markdown",
      "id": "4f7748bb-4e4f-4310-a200-d1dc949874f9",
      "metadata": {
        "id": "4f7748bb-4e4f-4310-a200-d1dc949874f9"
      },
      "source": [
        "# <b>7 <span style='color:#9146ff'>|</span> Train model </b>"
      ]
    },
    {
      "cell_type": "code",
      "execution_count": 26,
      "id": "348d80d1-132d-4c75-adf0-c15b836c09fe",
      "metadata": {
        "id": "348d80d1-132d-4c75-adf0-c15b836c09fe"
      },
      "outputs": [],
      "source": [
        "criterion = nn.CrossEntropyLoss(ignore_index=src_tokenizer.word_index['<pad>'])\n",
        "optimizer = Adam(model.parameters(), lr=lr)"
      ]
    },
    {
      "cell_type": "code",
      "execution_count": 27,
      "id": "5d0a08db-464a-4c2d-a03a-2118093e4ef6",
      "metadata": {
        "id": "5d0a08db-464a-4c2d-a03a-2118093e4ef6"
      },
      "outputs": [],
      "source": [
        "def train_step(src , trg) :\n",
        "\n",
        "    decoder_input = trg[: , :-1]\n",
        "\n",
        "    trg_reals = trg[: , 1:].reshape(-1)\n",
        "\n",
        "    preds = model(src , decoder_input)\n",
        "\n",
        "    preds = preds.reshape(-1 , preds.shape[2])\n",
        "\n",
        "    optimizer.zero_grad()\n",
        "\n",
        "    loss = criterion(preds , trg_reals)\n",
        "\n",
        "    loss.backward()\n",
        "\n",
        "    # Avoid exploding gradient issues\n",
        "    torch.nn.utils.clip_grad_norm_(model.parameters() , max_norm=1)\n",
        "\n",
        "    optimizer.step()\n",
        "\n",
        "    return loss"
      ]
    },
    {
      "cell_type": "code",
      "source": [
        "import torch\n",
        "import wandb\n",
        "from tqdm import tqdm\n",
        "import numpy as np\n",
        "from torch.utils.data import random_split, DataLoader, Subset\n",
        "\n",
        "\n",
        "# Split your dataset into training and validation\n",
        "dataset_size = len(dataframe_dataloader.dataset)  # Get the size of the dataset\n",
        "train_size = int(0.8 * dataset_size)  # 80% for training\n",
        "val_size = dataset_size - train_size  # 20% for validation\n",
        "\n",
        "# Split the dataset indices\n",
        "indices = list(range(dataset_size))\n",
        "train_indices, val_indices = random_split(indices, [train_size, val_size])\n",
        "\n",
        "# Create Subset instances for training and validation\n",
        "train_dataset = Subset(dataframe_dataloader.dataset, train_indices)\n",
        "val_dataset = Subset(dataframe_dataloader.dataset, val_indices)\n",
        "\n",
        "# Create DataLoaders for train and validation\n",
        "train_dataloader = DataLoader(train_dataset, batch_size=32, shuffle=True)\n",
        "val_dataloader = DataLoader(val_dataset, batch_size=32, shuffle=False)\n",
        "\n",
        "# Start a new wandb run to track this script.\n",
        "run = wandb.init(\n",
        "    entity=\"lorrayne-reis-silva-city-university-of-london\",\n",
        "    project=\"transformers_encoder_decoder_5_talking_head_final\",\n",
        "    config={\n",
        "        \"architecture\": \"encoder_decoder_transformers_talking_head_final\",\n",
        "        \"dataset\": \"investment_dataset\",\n",
        "        \"batch_size\": 32,\n",
        "            \"epochs\": 80,\n",
        "            \"learning_rate\": 1e-2,\n",
        "            \"dropout_rate\": 0.1,\n",
        "\n",
        "    },\n",
        ")\n",
        "\n",
        "train_losses = []\n",
        "val_losses = []\n",
        "\n",
        "for epoch in tqdm(range(epochs)):\n",
        "    epoch_train_loss = 0\n",
        "    epoch_val_loss = 0\n",
        "\n",
        "    # Train phase\n",
        "    model.train()\n",
        "    for src, trg in train_dataloader:\n",
        "        src, trg = src.to(DEVICE), trg.to(DEVICE)\n",
        "        loss = train_step(src, trg)  # Assume train_step() returns the loss\n",
        "        epoch_train_loss += loss\n",
        "\n",
        "    # Calculate average training loss and train perplexity\n",
        "    avg_train_loss = epoch_train_loss / len(train_dataloader)\n",
        "    train_losses.append(avg_train_loss.cpu().detach().numpy())\n",
        "    train_perplexity = np.exp(avg_train_loss.cpu().item())  # Calculate training perplexity\n",
        "\n",
        "    # Validation phase\n",
        "    model.eval()\n",
        "    with torch.no_grad(): # Context manager to disable gradient calculation during validation\n",
        "        for src, trg in val_dataloader:\n",
        "            src, trg = src.to(DEVICE), trg.to(DEVICE)\n",
        "\n",
        "            # Get model predictions\n",
        "            decoder_input = trg[:, :-1]\n",
        "            trg_reals = trg[:, 1:].reshape(-1)\n",
        "            preds = model(src, decoder_input)\n",
        "            preds = preds.reshape(-1, preds.shape[2])\n",
        "\n",
        "            # Calculate validation loss\n",
        "            loss_val = criterion(preds, trg_reals)\n",
        "            epoch_val_loss += loss_val\n",
        "\n",
        "    # Calculate average validation loss and validation perplexity\n",
        "    avg_val_loss = epoch_val_loss / len(val_dataloader)\n",
        "    val_losses.append(avg_val_loss.cpu().detach().numpy()) # Store validation loss\n",
        "    val_perplexity = np.exp(avg_val_loss.cpu().item())  # Calculate validation perplexity\n",
        "\n",
        "\n",
        "    # Logging\n",
        "    if (epoch + 1) % 1 == 0:\n",
        "        print(f\"\\n[Epoch: {epoch+1}/{epochs}] \"\n",
        "              f\"[Train Loss: {train_losses[-1]:0.2f}] \"\n",
        "              f\"[Train Perplexity: {train_perplexity:0.2f}] \\n\")\n",
        "\n",
        "        # Log to WandB\n",
        "        wandb.log({\n",
        "            \"epoch\": epoch + 1,\n",
        "            \"train_loss\": train_losses[-1],\n",
        "            \"train_perplexity\": train_perplexity\n",
        "        })\n",
        "\n",
        "model_path = \"trained_model_talking_head.pt\"\n",
        "torch.save(model.state_dict(), model_path)\n",
        "\n",
        "model_artifact = wandb.Artifact(\n",
        "    name=\"transformers_encoder_decoder_5_talking_head_final\",\n",
        "    type=\"model\",\n",
        "    description=\"Transformer encoder-decoder model Talking Head trained on investment dataset\",\n",
        "    metadata={\n",
        "        \"architecture\": \"encoder_decoder_transformers_mqa_talking_head\",\n",
        "        \"dataset\": \"investment_dataset\",\n",
        "        \"epochs\": epochs,\n",
        "        \"batch_size\": 32,\n",
        "        \"learning_rate\": 1e-3,\n",
        "        \"droput_rate\": 0.1,\n",
        "    }\n",
        ")\n",
        "\n",
        "model_artifact.add_file(model_path)\n",
        "\n",
        "\n",
        "run.log_artifact(model_artifact)\n",
        "\n",
        "run.finish()"
      ],
      "metadata": {
        "colab": {
          "base_uri": "https://localhost:8080/",
          "height": 1000
        },
        "id": "iXL4v2X3ETJl",
        "outputId": "3920d43c-107c-48d6-fa4c-673480cf1733"
      },
      "id": "iXL4v2X3ETJl",
      "execution_count": null,
      "outputs": [
        {
          "output_type": "stream",
          "name": "stderr",
          "text": [
            "\u001b[34m\u001b[1mwandb\u001b[0m: Currently logged in as: \u001b[33mlorrayne-reis-silva\u001b[0m (\u001b[33mlorrayne-reis-silva-city-university-of-london\u001b[0m) to \u001b[32mhttps://api.wandb.ai\u001b[0m. Use \u001b[1m`wandb login --relogin`\u001b[0m to force relogin\n"
          ]
        },
        {
          "output_type": "display_data",
          "data": {
            "text/plain": [
              "<IPython.core.display.HTML object>"
            ],
            "text/html": [
              "Tracking run with wandb version 0.19.11"
            ]
          },
          "metadata": {}
        },
        {
          "output_type": "display_data",
          "data": {
            "text/plain": [
              "<IPython.core.display.HTML object>"
            ],
            "text/html": [
              "Run data is saved locally in <code>/content/wandb/run-20250517_191421-e3sv3cy4</code>"
            ]
          },
          "metadata": {}
        },
        {
          "output_type": "display_data",
          "data": {
            "text/plain": [
              "<IPython.core.display.HTML object>"
            ],
            "text/html": [
              "Syncing run <strong><a href='https://wandb.ai/lorrayne-reis-silva-city-university-of-london/transformers_encoder_decoder_5_talking_head_final/runs/e3sv3cy4' target=\"_blank\">fiery-cloud-4</a></strong> to <a href='https://wandb.ai/lorrayne-reis-silva-city-university-of-london/transformers_encoder_decoder_5_talking_head_final' target=\"_blank\">Weights & Biases</a> (<a href='https://wandb.me/developer-guide' target=\"_blank\">docs</a>)<br>"
            ]
          },
          "metadata": {}
        },
        {
          "output_type": "display_data",
          "data": {
            "text/plain": [
              "<IPython.core.display.HTML object>"
            ],
            "text/html": [
              " View project at <a href='https://wandb.ai/lorrayne-reis-silva-city-university-of-london/transformers_encoder_decoder_5_talking_head_final' target=\"_blank\">https://wandb.ai/lorrayne-reis-silva-city-university-of-london/transformers_encoder_decoder_5_talking_head_final</a>"
            ]
          },
          "metadata": {}
        },
        {
          "output_type": "display_data",
          "data": {
            "text/plain": [
              "<IPython.core.display.HTML object>"
            ],
            "text/html": [
              " View run at <a href='https://wandb.ai/lorrayne-reis-silva-city-university-of-london/transformers_encoder_decoder_5_talking_head_final/runs/e3sv3cy4' target=\"_blank\">https://wandb.ai/lorrayne-reis-silva-city-university-of-london/transformers_encoder_decoder_5_talking_head_final/runs/e3sv3cy4</a>"
            ]
          },
          "metadata": {}
        },
        {
          "output_type": "stream",
          "name": "stderr",
          "text": [
            "  1%|▏         | 1/80 [00:17<22:54, 17.40s/it]"
          ]
        },
        {
          "output_type": "stream",
          "name": "stdout",
          "text": [
            "\n",
            "[Epoch: 1/80] [Train Loss: 8.26] [Train Perplexity: 3852.73] \n",
            "\n"
          ]
        },
        {
          "output_type": "stream",
          "name": "stderr",
          "text": [
            "\r  2%|▎         | 2/80 [00:34<22:27, 17.28s/it]"
          ]
        },
        {
          "output_type": "stream",
          "name": "stdout",
          "text": [
            "\n",
            "[Epoch: 2/80] [Train Loss: 6.76] [Train Perplexity: 858.53] \n",
            "\n"
          ]
        },
        {
          "output_type": "stream",
          "name": "stderr",
          "text": [
            "\r  4%|▍         | 3/80 [00:51<22:07, 17.24s/it]"
          ]
        },
        {
          "output_type": "stream",
          "name": "stdout",
          "text": [
            "\n",
            "[Epoch: 3/80] [Train Loss: 6.50] [Train Perplexity: 666.28] \n",
            "\n"
          ]
        },
        {
          "output_type": "stream",
          "name": "stderr",
          "text": [
            "\r  5%|▌         | 4/80 [01:08<21:43, 17.15s/it]"
          ]
        },
        {
          "output_type": "stream",
          "name": "stdout",
          "text": [
            "\n",
            "[Epoch: 4/80] [Train Loss: 6.34] [Train Perplexity: 565.19] \n",
            "\n"
          ]
        },
        {
          "output_type": "stream",
          "name": "stderr",
          "text": [
            "\r  6%|▋         | 5/80 [01:25<21:23, 17.12s/it]"
          ]
        },
        {
          "output_type": "stream",
          "name": "stdout",
          "text": [
            "\n",
            "[Epoch: 5/80] [Train Loss: 6.20] [Train Perplexity: 490.64] \n",
            "\n"
          ]
        },
        {
          "output_type": "stream",
          "name": "stderr",
          "text": [
            "\r  8%|▊         | 6/80 [01:42<21:03, 17.07s/it]"
          ]
        },
        {
          "output_type": "stream",
          "name": "stdout",
          "text": [
            "\n",
            "[Epoch: 6/80] [Train Loss: 6.06] [Train Perplexity: 429.43] \n",
            "\n"
          ]
        },
        {
          "output_type": "stream",
          "name": "stderr",
          "text": [
            "\r  9%|▉         | 7/80 [01:59<20:40, 17.00s/it]"
          ]
        },
        {
          "output_type": "stream",
          "name": "stdout",
          "text": [
            "\n",
            "[Epoch: 7/80] [Train Loss: 5.94] [Train Perplexity: 379.24] \n",
            "\n"
          ]
        },
        {
          "output_type": "stream",
          "name": "stderr",
          "text": [
            "\r 10%|█         | 8/80 [02:16<20:20, 16.95s/it]"
          ]
        },
        {
          "output_type": "stream",
          "name": "stdout",
          "text": [
            "\n",
            "[Epoch: 8/80] [Train Loss: 5.82] [Train Perplexity: 336.00] \n",
            "\n"
          ]
        },
        {
          "output_type": "stream",
          "name": "stderr",
          "text": [
            "\r 11%|█▏        | 9/80 [02:33<20:02, 16.93s/it]"
          ]
        },
        {
          "output_type": "stream",
          "name": "stdout",
          "text": [
            "\n",
            "[Epoch: 9/80] [Train Loss: 5.70] [Train Perplexity: 300.31] \n",
            "\n"
          ]
        },
        {
          "output_type": "stream",
          "name": "stderr",
          "text": [
            "\r 12%|█▎        | 10/80 [02:50<19:46, 16.95s/it]"
          ]
        },
        {
          "output_type": "stream",
          "name": "stdout",
          "text": [
            "\n",
            "[Epoch: 10/80] [Train Loss: 5.59] [Train Perplexity: 267.82] \n",
            "\n"
          ]
        },
        {
          "output_type": "stream",
          "name": "stderr",
          "text": [
            "\r 14%|█▍        | 11/80 [03:07<19:26, 16.90s/it]"
          ]
        },
        {
          "output_type": "stream",
          "name": "stdout",
          "text": [
            "\n",
            "[Epoch: 11/80] [Train Loss: 5.48] [Train Perplexity: 240.52] \n",
            "\n"
          ]
        },
        {
          "output_type": "stream",
          "name": "stderr",
          "text": [
            "\r 15%|█▌        | 12/80 [03:24<19:13, 16.96s/it]"
          ]
        },
        {
          "output_type": "stream",
          "name": "stdout",
          "text": [
            "\n",
            "[Epoch: 12/80] [Train Loss: 5.38] [Train Perplexity: 216.56] \n",
            "\n"
          ]
        },
        {
          "output_type": "stream",
          "name": "stderr",
          "text": [
            "\r 16%|█▋        | 13/80 [03:41<18:55, 16.95s/it]"
          ]
        },
        {
          "output_type": "stream",
          "name": "stdout",
          "text": [
            "\n",
            "[Epoch: 13/80] [Train Loss: 5.27] [Train Perplexity: 194.49] \n",
            "\n"
          ]
        },
        {
          "output_type": "stream",
          "name": "stderr",
          "text": [
            "\r 18%|█▊        | 14/80 [03:58<18:38, 16.95s/it]"
          ]
        },
        {
          "output_type": "stream",
          "name": "stdout",
          "text": [
            "\n",
            "[Epoch: 14/80] [Train Loss: 5.17] [Train Perplexity: 176.28] \n",
            "\n"
          ]
        },
        {
          "output_type": "stream",
          "name": "stderr",
          "text": [
            "\r 19%|█▉        | 15/80 [04:15<18:25, 17.00s/it]"
          ]
        },
        {
          "output_type": "stream",
          "name": "stdout",
          "text": [
            "\n",
            "[Epoch: 15/80] [Train Loss: 5.07] [Train Perplexity: 159.68] \n",
            "\n"
          ]
        },
        {
          "output_type": "stream",
          "name": "stderr",
          "text": [
            "\r 20%|██        | 16/80 [04:32<18:07, 16.98s/it]"
          ]
        },
        {
          "output_type": "stream",
          "name": "stdout",
          "text": [
            "\n",
            "[Epoch: 16/80] [Train Loss: 4.97] [Train Perplexity: 144.57] \n",
            "\n"
          ]
        },
        {
          "output_type": "stream",
          "name": "stderr",
          "text": [
            "\r 21%|██▏       | 17/80 [04:49<17:48, 16.96s/it]"
          ]
        },
        {
          "output_type": "stream",
          "name": "stdout",
          "text": [
            "\n",
            "[Epoch: 17/80] [Train Loss: 4.88] [Train Perplexity: 131.08] \n",
            "\n"
          ]
        },
        {
          "output_type": "stream",
          "name": "stderr",
          "text": [
            "\r 22%|██▎       | 18/80 [05:06<17:30, 16.94s/it]"
          ]
        },
        {
          "output_type": "stream",
          "name": "stdout",
          "text": [
            "\n",
            "[Epoch: 18/80] [Train Loss: 4.78] [Train Perplexity: 119.18] \n",
            "\n"
          ]
        },
        {
          "output_type": "stream",
          "name": "stderr",
          "text": [
            "\r 24%|██▍       | 19/80 [05:23<17:13, 16.95s/it]"
          ]
        },
        {
          "output_type": "stream",
          "name": "stdout",
          "text": [
            "\n",
            "[Epoch: 19/80] [Train Loss: 4.68] [Train Perplexity: 107.75] \n",
            "\n"
          ]
        },
        {
          "output_type": "stream",
          "name": "stderr",
          "text": [
            "\r 25%|██▌       | 20/80 [05:40<16:58, 16.97s/it]"
          ]
        },
        {
          "output_type": "stream",
          "name": "stdout",
          "text": [
            "\n",
            "[Epoch: 20/80] [Train Loss: 4.58] [Train Perplexity: 97.81] \n",
            "\n"
          ]
        },
        {
          "output_type": "stream",
          "name": "stderr",
          "text": [
            "\r 26%|██▋       | 21/80 [05:56<16:40, 16.95s/it]"
          ]
        },
        {
          "output_type": "stream",
          "name": "stdout",
          "text": [
            "\n",
            "[Epoch: 21/80] [Train Loss: 4.49] [Train Perplexity: 88.76] \n",
            "\n"
          ]
        },
        {
          "output_type": "stream",
          "name": "stderr",
          "text": [
            "\r 28%|██▊       | 22/80 [06:14<16:28, 17.04s/it]"
          ]
        },
        {
          "output_type": "stream",
          "name": "stdout",
          "text": [
            "\n",
            "[Epoch: 22/80] [Train Loss: 4.39] [Train Perplexity: 80.41] \n",
            "\n"
          ]
        },
        {
          "output_type": "stream",
          "name": "stderr",
          "text": [
            "\r 29%|██▉       | 23/80 [06:31<16:13, 17.07s/it]"
          ]
        },
        {
          "output_type": "stream",
          "name": "stdout",
          "text": [
            "\n",
            "[Epoch: 23/80] [Train Loss: 4.29] [Train Perplexity: 73.02] \n",
            "\n"
          ]
        },
        {
          "output_type": "stream",
          "name": "stderr",
          "text": [
            "\r 30%|███       | 24/80 [06:48<15:58, 17.12s/it]"
          ]
        },
        {
          "output_type": "stream",
          "name": "stdout",
          "text": [
            "\n",
            "[Epoch: 24/80] [Train Loss: 4.19] [Train Perplexity: 66.08] \n",
            "\n"
          ]
        },
        {
          "output_type": "stream",
          "name": "stderr",
          "text": [
            "\r 31%|███▏      | 25/80 [07:05<15:44, 17.17s/it]"
          ]
        },
        {
          "output_type": "stream",
          "name": "stdout",
          "text": [
            "\n",
            "[Epoch: 25/80] [Train Loss: 4.10] [Train Perplexity: 60.12] \n",
            "\n"
          ]
        },
        {
          "output_type": "stream",
          "name": "stderr",
          "text": [
            "\r 32%|███▎      | 26/80 [07:22<15:24, 17.12s/it]"
          ]
        },
        {
          "output_type": "stream",
          "name": "stdout",
          "text": [
            "\n",
            "[Epoch: 26/80] [Train Loss: 4.00] [Train Perplexity: 54.80] \n",
            "\n"
          ]
        },
        {
          "output_type": "stream",
          "name": "stderr",
          "text": [
            "\r 34%|███▍      | 27/80 [07:39<15:05, 17.09s/it]"
          ]
        },
        {
          "output_type": "stream",
          "name": "stdout",
          "text": [
            "\n",
            "[Epoch: 27/80] [Train Loss: 3.91] [Train Perplexity: 50.00] \n",
            "\n"
          ]
        },
        {
          "output_type": "stream",
          "name": "stderr",
          "text": [
            "\r 35%|███▌      | 28/80 [07:56<14:47, 17.07s/it]"
          ]
        },
        {
          "output_type": "stream",
          "name": "stdout",
          "text": [
            "\n",
            "[Epoch: 28/80] [Train Loss: 3.82] [Train Perplexity: 45.59] \n",
            "\n"
          ]
        },
        {
          "output_type": "stream",
          "name": "stderr",
          "text": [
            "\r 36%|███▋      | 29/80 [08:14<14:31, 17.09s/it]"
          ]
        },
        {
          "output_type": "stream",
          "name": "stdout",
          "text": [
            "\n",
            "[Epoch: 29/80] [Train Loss: 3.73] [Train Perplexity: 41.66] \n",
            "\n"
          ]
        },
        {
          "output_type": "stream",
          "name": "stderr",
          "text": [
            "\r 38%|███▊      | 30/80 [08:31<14:14, 17.09s/it]"
          ]
        },
        {
          "output_type": "stream",
          "name": "stdout",
          "text": [
            "\n",
            "[Epoch: 30/80] [Train Loss: 3.64] [Train Perplexity: 38.11] \n",
            "\n"
          ]
        },
        {
          "output_type": "stream",
          "name": "stderr",
          "text": [
            "\r 39%|███▉      | 31/80 [08:48<13:56, 17.07s/it]"
          ]
        },
        {
          "output_type": "stream",
          "name": "stdout",
          "text": [
            "\n",
            "[Epoch: 31/80] [Train Loss: 3.55] [Train Perplexity: 34.97] \n",
            "\n"
          ]
        },
        {
          "output_type": "stream",
          "name": "stderr",
          "text": [
            "\r 40%|████      | 32/80 [09:05<13:38, 17.04s/it]"
          ]
        },
        {
          "output_type": "stream",
          "name": "stdout",
          "text": [
            "\n",
            "[Epoch: 32/80] [Train Loss: 3.47] [Train Perplexity: 32.10] \n",
            "\n"
          ]
        },
        {
          "output_type": "stream",
          "name": "stderr",
          "text": [
            "\r 41%|████▏     | 33/80 [09:22<13:19, 17.01s/it]"
          ]
        },
        {
          "output_type": "stream",
          "name": "stdout",
          "text": [
            "\n",
            "[Epoch: 33/80] [Train Loss: 3.38] [Train Perplexity: 29.47] \n",
            "\n"
          ]
        },
        {
          "output_type": "stream",
          "name": "stderr",
          "text": [
            "\r 42%|████▎     | 34/80 [09:39<13:02, 17.01s/it]"
          ]
        },
        {
          "output_type": "stream",
          "name": "stdout",
          "text": [
            "\n",
            "[Epoch: 34/80] [Train Loss: 3.30] [Train Perplexity: 27.18] \n",
            "\n"
          ]
        },
        {
          "output_type": "stream",
          "name": "stderr",
          "text": [
            "\r 44%|████▍     | 35/80 [09:55<12:43, 16.98s/it]"
          ]
        },
        {
          "output_type": "stream",
          "name": "stdout",
          "text": [
            "\n",
            "[Epoch: 35/80] [Train Loss: 3.22] [Train Perplexity: 25.09] \n",
            "\n"
          ]
        },
        {
          "output_type": "stream",
          "name": "stderr",
          "text": [
            "\r 45%|████▌     | 36/80 [10:12<12:27, 16.98s/it]"
          ]
        },
        {
          "output_type": "stream",
          "name": "stdout",
          "text": [
            "\n",
            "[Epoch: 36/80] [Train Loss: 3.14] [Train Perplexity: 23.05] \n",
            "\n"
          ]
        },
        {
          "output_type": "stream",
          "name": "stderr",
          "text": [
            "\r 46%|████▋     | 37/80 [10:29<12:10, 16.99s/it]"
          ]
        },
        {
          "output_type": "stream",
          "name": "stdout",
          "text": [
            "\n",
            "[Epoch: 37/80] [Train Loss: 3.06] [Train Perplexity: 21.28] \n",
            "\n"
          ]
        },
        {
          "output_type": "stream",
          "name": "stderr",
          "text": [
            "\r 48%|████▊     | 38/80 [10:46<11:53, 16.98s/it]"
          ]
        },
        {
          "output_type": "stream",
          "name": "stdout",
          "text": [
            "\n",
            "[Epoch: 38/80] [Train Loss: 2.98] [Train Perplexity: 19.73] \n",
            "\n"
          ]
        },
        {
          "output_type": "stream",
          "name": "stderr",
          "text": [
            "\r 49%|████▉     | 39/80 [11:04<11:37, 17.01s/it]"
          ]
        },
        {
          "output_type": "stream",
          "name": "stdout",
          "text": [
            "\n",
            "[Epoch: 39/80] [Train Loss: 2.90] [Train Perplexity: 18.26] \n",
            "\n"
          ]
        },
        {
          "output_type": "stream",
          "name": "stderr",
          "text": [
            "\r 50%|█████     | 40/80 [11:21<11:20, 17.02s/it]"
          ]
        },
        {
          "output_type": "stream",
          "name": "stdout",
          "text": [
            "\n",
            "[Epoch: 40/80] [Train Loss: 2.83] [Train Perplexity: 16.92] \n",
            "\n"
          ]
        },
        {
          "output_type": "stream",
          "name": "stderr",
          "text": [
            "\r 51%|█████▏    | 41/80 [11:38<11:04, 17.04s/it]"
          ]
        },
        {
          "output_type": "stream",
          "name": "stdout",
          "text": [
            "\n",
            "[Epoch: 41/80] [Train Loss: 2.76] [Train Perplexity: 15.76] \n",
            "\n"
          ]
        },
        {
          "output_type": "stream",
          "name": "stderr",
          "text": [
            "\r 52%|█████▎    | 42/80 [11:55<10:46, 17.02s/it]"
          ]
        },
        {
          "output_type": "stream",
          "name": "stdout",
          "text": [
            "\n",
            "[Epoch: 42/80] [Train Loss: 2.69] [Train Perplexity: 14.69] \n",
            "\n"
          ]
        },
        {
          "output_type": "stream",
          "name": "stderr",
          "text": [
            "\r 54%|█████▍    | 43/80 [12:12<10:31, 17.06s/it]"
          ]
        },
        {
          "output_type": "stream",
          "name": "stdout",
          "text": [
            "\n",
            "[Epoch: 43/80] [Train Loss: 2.62] [Train Perplexity: 13.69] \n",
            "\n"
          ]
        },
        {
          "output_type": "stream",
          "name": "stderr",
          "text": [
            "\r 55%|█████▌    | 44/80 [12:29<10:14, 17.08s/it]"
          ]
        },
        {
          "output_type": "stream",
          "name": "stdout",
          "text": [
            "\n",
            "[Epoch: 44/80] [Train Loss: 2.55] [Train Perplexity: 12.81] \n",
            "\n"
          ]
        },
        {
          "output_type": "stream",
          "name": "stderr",
          "text": [
            "\r 56%|█████▋    | 45/80 [12:46<09:58, 17.10s/it]"
          ]
        },
        {
          "output_type": "stream",
          "name": "stdout",
          "text": [
            "\n",
            "[Epoch: 45/80] [Train Loss: 2.48] [Train Perplexity: 11.97] \n",
            "\n"
          ]
        },
        {
          "output_type": "stream",
          "name": "stderr",
          "text": [
            "\r 57%|█████▊    | 46/80 [13:03<09:43, 17.15s/it]"
          ]
        },
        {
          "output_type": "stream",
          "name": "stdout",
          "text": [
            "\n",
            "[Epoch: 46/80] [Train Loss: 2.42] [Train Perplexity: 11.22] \n",
            "\n"
          ]
        },
        {
          "output_type": "stream",
          "name": "stderr",
          "text": [
            "\r 59%|█████▉    | 47/80 [13:20<09:25, 17.14s/it]"
          ]
        },
        {
          "output_type": "stream",
          "name": "stdout",
          "text": [
            "\n",
            "[Epoch: 47/80] [Train Loss: 2.35] [Train Perplexity: 10.52] \n",
            "\n"
          ]
        },
        {
          "output_type": "stream",
          "name": "stderr",
          "text": [
            "\r 60%|██████    | 48/80 [13:37<09:07, 17.12s/it]"
          ]
        },
        {
          "output_type": "stream",
          "name": "stdout",
          "text": [
            "\n",
            "[Epoch: 48/80] [Train Loss: 2.29] [Train Perplexity: 9.87] \n",
            "\n"
          ]
        },
        {
          "output_type": "stream",
          "name": "stderr",
          "text": [
            "\r 61%|██████▏   | 49/80 [13:54<08:48, 17.06s/it]"
          ]
        },
        {
          "output_type": "stream",
          "name": "stdout",
          "text": [
            "\n",
            "[Epoch: 49/80] [Train Loss: 2.23] [Train Perplexity: 9.28] \n",
            "\n"
          ]
        },
        {
          "output_type": "stream",
          "name": "stderr",
          "text": [
            "\r 62%|██████▎   | 50/80 [14:12<08:32, 17.08s/it]"
          ]
        },
        {
          "output_type": "stream",
          "name": "stdout",
          "text": [
            "\n",
            "[Epoch: 50/80] [Train Loss: 2.17] [Train Perplexity: 8.76] \n",
            "\n"
          ]
        },
        {
          "output_type": "stream",
          "name": "stderr",
          "text": [
            "\r 64%|██████▍   | 51/80 [14:29<08:15, 17.09s/it]"
          ]
        },
        {
          "output_type": "stream",
          "name": "stdout",
          "text": [
            "\n",
            "[Epoch: 51/80] [Train Loss: 2.11] [Train Perplexity: 8.23] \n",
            "\n"
          ]
        },
        {
          "output_type": "stream",
          "name": "stderr",
          "text": [
            "\r 65%|██████▌   | 52/80 [14:46<07:59, 17.11s/it]"
          ]
        },
        {
          "output_type": "stream",
          "name": "stdout",
          "text": [
            "\n",
            "[Epoch: 52/80] [Train Loss: 2.05] [Train Perplexity: 7.80] \n",
            "\n"
          ]
        },
        {
          "output_type": "stream",
          "name": "stderr",
          "text": [
            "\r 66%|██████▋   | 53/80 [15:03<07:41, 17.10s/it]"
          ]
        },
        {
          "output_type": "stream",
          "name": "stdout",
          "text": [
            "\n",
            "[Epoch: 53/80] [Train Loss: 1.99] [Train Perplexity: 7.35] \n",
            "\n"
          ]
        },
        {
          "output_type": "stream",
          "name": "stderr",
          "text": [
            "\r 68%|██████▊   | 54/80 [15:20<07:23, 17.06s/it]"
          ]
        },
        {
          "output_type": "stream",
          "name": "stdout",
          "text": [
            "\n",
            "[Epoch: 54/80] [Train Loss: 1.94] [Train Perplexity: 6.96] \n",
            "\n"
          ]
        },
        {
          "output_type": "stream",
          "name": "stderr",
          "text": [
            "\r 69%|██████▉   | 55/80 [15:37<07:07, 17.09s/it]"
          ]
        },
        {
          "output_type": "stream",
          "name": "stdout",
          "text": [
            "\n",
            "[Epoch: 55/80] [Train Loss: 1.89] [Train Perplexity: 6.60] \n",
            "\n"
          ]
        },
        {
          "output_type": "stream",
          "name": "stderr",
          "text": [
            "\r 70%|███████   | 56/80 [15:54<06:50, 17.09s/it]"
          ]
        },
        {
          "output_type": "stream",
          "name": "stdout",
          "text": [
            "\n",
            "[Epoch: 56/80] [Train Loss: 1.83] [Train Perplexity: 6.26] \n",
            "\n"
          ]
        },
        {
          "output_type": "stream",
          "name": "stderr",
          "text": [
            "\r 71%|███████▏  | 57/80 [16:11<06:34, 17.14s/it]"
          ]
        },
        {
          "output_type": "stream",
          "name": "stdout",
          "text": [
            "\n",
            "[Epoch: 57/80] [Train Loss: 1.78] [Train Perplexity: 5.92] \n",
            "\n"
          ]
        },
        {
          "output_type": "stream",
          "name": "stderr",
          "text": [
            "\r 72%|███████▎  | 58/80 [16:28<06:16, 17.13s/it]"
          ]
        },
        {
          "output_type": "stream",
          "name": "stdout",
          "text": [
            "\n",
            "[Epoch: 58/80] [Train Loss: 1.73] [Train Perplexity: 5.65] \n",
            "\n"
          ]
        },
        {
          "output_type": "stream",
          "name": "stderr",
          "text": [
            "\r 74%|███████▍  | 59/80 [16:46<06:00, 17.15s/it]"
          ]
        },
        {
          "output_type": "stream",
          "name": "stdout",
          "text": [
            "\n",
            "[Epoch: 59/80] [Train Loss: 1.68] [Train Perplexity: 5.37] \n",
            "\n"
          ]
        },
        {
          "output_type": "stream",
          "name": "stderr",
          "text": [
            "\r 75%|███████▌  | 60/80 [17:03<05:42, 17.13s/it]"
          ]
        },
        {
          "output_type": "stream",
          "name": "stdout",
          "text": [
            "\n",
            "[Epoch: 60/80] [Train Loss: 1.63] [Train Perplexity: 5.12] \n",
            "\n"
          ]
        },
        {
          "output_type": "stream",
          "name": "stderr",
          "text": [
            "\r 76%|███████▋  | 61/80 [17:20<05:25, 17.11s/it]"
          ]
        },
        {
          "output_type": "stream",
          "name": "stdout",
          "text": [
            "\n",
            "[Epoch: 61/80] [Train Loss: 1.58] [Train Perplexity: 4.87] \n",
            "\n"
          ]
        },
        {
          "output_type": "stream",
          "name": "stderr",
          "text": [
            "\r 78%|███████▊  | 62/80 [17:37<05:08, 17.15s/it]"
          ]
        },
        {
          "output_type": "stream",
          "name": "stdout",
          "text": [
            "\n",
            "[Epoch: 62/80] [Train Loss: 1.54] [Train Perplexity: 4.66] \n",
            "\n"
          ]
        },
        {
          "output_type": "stream",
          "name": "stderr",
          "text": [
            "\r 79%|███████▉  | 63/80 [17:54<04:51, 17.14s/it]"
          ]
        },
        {
          "output_type": "stream",
          "name": "stdout",
          "text": [
            "\n",
            "[Epoch: 63/80] [Train Loss: 1.49] [Train Perplexity: 4.45] \n",
            "\n"
          ]
        },
        {
          "output_type": "stream",
          "name": "stderr",
          "text": [
            "\r 80%|████████  | 64/80 [18:11<04:34, 17.18s/it]"
          ]
        },
        {
          "output_type": "stream",
          "name": "stdout",
          "text": [
            "\n",
            "[Epoch: 64/80] [Train Loss: 1.45] [Train Perplexity: 4.26] \n",
            "\n"
          ]
        },
        {
          "output_type": "stream",
          "name": "stderr",
          "text": [
            "\r 81%|████████▏ | 65/80 [18:29<04:17, 17.16s/it]"
          ]
        },
        {
          "output_type": "stream",
          "name": "stdout",
          "text": [
            "\n",
            "[Epoch: 65/80] [Train Loss: 1.41] [Train Perplexity: 4.10] \n",
            "\n"
          ]
        },
        {
          "output_type": "stream",
          "name": "stderr",
          "text": [
            "\r 82%|████████▎ | 66/80 [18:46<04:00, 17.15s/it]"
          ]
        },
        {
          "output_type": "stream",
          "name": "stdout",
          "text": [
            "\n",
            "[Epoch: 66/80] [Train Loss: 1.37] [Train Perplexity: 3.92] \n",
            "\n"
          ]
        },
        {
          "output_type": "stream",
          "name": "stderr",
          "text": [
            "\r 84%|████████▍ | 67/80 [19:03<03:42, 17.15s/it]"
          ]
        },
        {
          "output_type": "stream",
          "name": "stdout",
          "text": [
            "\n",
            "[Epoch: 67/80] [Train Loss: 1.32] [Train Perplexity: 3.75] \n",
            "\n"
          ]
        },
        {
          "output_type": "stream",
          "name": "stderr",
          "text": [
            "\r 85%|████████▌ | 68/80 [19:20<03:25, 17.15s/it]"
          ]
        },
        {
          "output_type": "stream",
          "name": "stdout",
          "text": [
            "\n",
            "[Epoch: 68/80] [Train Loss: 1.29] [Train Perplexity: 3.62] \n",
            "\n"
          ]
        },
        {
          "output_type": "stream",
          "name": "stderr",
          "text": [
            "\r 86%|████████▋ | 69/80 [19:37<03:09, 17.19s/it]"
          ]
        },
        {
          "output_type": "stream",
          "name": "stdout",
          "text": [
            "\n",
            "[Epoch: 69/80] [Train Loss: 1.25] [Train Perplexity: 3.48] \n",
            "\n"
          ]
        },
        {
          "output_type": "stream",
          "name": "stderr",
          "text": [
            "\r 88%|████████▊ | 70/80 [19:54<02:51, 17.16s/it]"
          ]
        },
        {
          "output_type": "stream",
          "name": "stdout",
          "text": [
            "\n",
            "[Epoch: 70/80] [Train Loss: 1.21] [Train Perplexity: 3.35] \n",
            "\n"
          ]
        },
        {
          "output_type": "stream",
          "name": "stderr",
          "text": [
            "\r 89%|████████▉ | 71/80 [20:12<02:34, 17.17s/it]"
          ]
        },
        {
          "output_type": "stream",
          "name": "stdout",
          "text": [
            "\n",
            "[Epoch: 71/80] [Train Loss: 1.17] [Train Perplexity: 3.22] \n",
            "\n"
          ]
        },
        {
          "output_type": "stream",
          "name": "stderr",
          "text": [
            "\r 90%|█████████ | 72/80 [20:29<02:17, 17.17s/it]"
          ]
        },
        {
          "output_type": "stream",
          "name": "stdout",
          "text": [
            "\n",
            "[Epoch: 72/80] [Train Loss: 1.13] [Train Perplexity: 3.10] \n",
            "\n"
          ]
        },
        {
          "output_type": "stream",
          "name": "stderr",
          "text": [
            "\r 91%|█████████▏| 73/80 [20:46<02:00, 17.21s/it]"
          ]
        },
        {
          "output_type": "stream",
          "name": "stdout",
          "text": [
            "\n",
            "[Epoch: 73/80] [Train Loss: 1.10] [Train Perplexity: 3.00] \n",
            "\n"
          ]
        },
        {
          "output_type": "stream",
          "name": "stderr",
          "text": [
            "\r 92%|█████████▎| 74/80 [21:03<01:43, 17.25s/it]"
          ]
        },
        {
          "output_type": "stream",
          "name": "stdout",
          "text": [
            "\n",
            "[Epoch: 74/80] [Train Loss: 1.06] [Train Perplexity: 2.89] \n",
            "\n"
          ]
        },
        {
          "output_type": "stream",
          "name": "stderr",
          "text": [
            "\r 94%|█████████▍| 75/80 [21:21<01:26, 17.26s/it]"
          ]
        },
        {
          "output_type": "stream",
          "name": "stdout",
          "text": [
            "\n",
            "[Epoch: 75/80] [Train Loss: 1.03] [Train Perplexity: 2.80] \n",
            "\n"
          ]
        },
        {
          "output_type": "stream",
          "name": "stderr",
          "text": [
            "\r 95%|█████████▌| 76/80 [21:38<01:08, 17.22s/it]"
          ]
        },
        {
          "output_type": "stream",
          "name": "stdout",
          "text": [
            "\n",
            "[Epoch: 76/80] [Train Loss: 1.00] [Train Perplexity: 2.71] \n",
            "\n"
          ]
        },
        {
          "output_type": "stream",
          "name": "stderr",
          "text": [
            "\r 96%|█████████▋| 77/80 [21:55<00:51, 17.20s/it]"
          ]
        },
        {
          "output_type": "stream",
          "name": "stdout",
          "text": [
            "\n",
            "[Epoch: 77/80] [Train Loss: 0.97] [Train Perplexity: 2.63] \n",
            "\n"
          ]
        }
      ]
    },
    {
      "cell_type": "markdown",
      "id": "fe7369f3-3762-4758-9b1c-db386ad9ddf4",
      "metadata": {
        "id": "fe7369f3-3762-4758-9b1c-db386ad9ddf4"
      },
      "source": [
        "# <b>8 <span style='color:#9146ff'>|</span> Results </b>"
      ]
    },
    {
      "cell_type": "code",
      "execution_count": 34,
      "id": "6dfd05d4-34c3-40c0-9930-9fa4a8101247",
      "metadata": {
        "id": "6dfd05d4-34c3-40c0-9930-9fa4a8101247",
        "colab": {
          "base_uri": "https://localhost:8080/",
          "height": 472
        },
        "outputId": "20cc82bb-7d7a-43de-dd92-841d2c5c67b4"
      },
      "outputs": [
        {
          "output_type": "display_data",
          "data": {
            "text/plain": [
              "<Figure size 640x480 with 1 Axes>"
            ],
            "image/png": "[encoded data removed]"
          },
          "metadata": {}
        }
      ],
      "source": [
        "# Create the plot\n",
        "plt.plot(train_losses, marker='o', color='red', label='train')\n",
        "\n",
        "# Add title and labels\n",
        "plt.title('Training Loss Over Epochs')\n",
        "plt.xlabel('Epochs')\n",
        "plt.ylabel('Loss')\n",
        "\n",
        "# Display the plot\n",
        "plt.legend()\n",
        "plt.grid(True)\n",
        "plt.show()"
      ]
    }
  ],
  "metadata": {
    "kernelspec": {
      "display_name": "Python 3",
      "name": "python3"
    },
    "language_info": {
      "codemirror_mode": {
        "name": "ipython",
        "version": 3
      },
      "file_extension": ".py",
      "mimetype": "text/x-python",
      "name": "python",
      "nbconvert_exporter": "python",
      "pygments_lexer": "ipython3",
      "version": "3.12.4"
    },
    "colab": {
      "provenance": [],
      "machine_shape": "hm",
      "gpuType": "L4"
    },
    "accelerator": "GPU"
  },
  "nbformat": 4,
  "nbformat_minor": 5
}