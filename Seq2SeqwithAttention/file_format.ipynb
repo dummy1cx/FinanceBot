{
 "cells": [
  {
   "cell_type": "markdown",
   "metadata": {},
   "source": [
    "## This code will run over the .json file and pre process and store it sentence pairs in \n",
    "## txt file for further "
   ]
  },
  {
   "cell_type": "code",
   "execution_count": null,
   "metadata": {},
   "outputs": [],
   "source": []
  },
  {
   "cell_type": "code",
   "execution_count": 1,
   "metadata": {},
   "outputs": [],
   "source": [
    "import json\n",
    "import csv\n",
    "\n",
    "def extract_instruction_pairs(json_path):\n",
    "    with open(json_path, 'r', encoding='utf-8') as f:\n",
    "        data = json.load(f)\n",
    "\n",
    "    pairs = []\n",
    "\n",
    "    for item in data:\n",
    "        instruction = item.get(\"instruction\", \"\").strip()\n",
    "        input_text = item.get(\"input\", \"\").strip()\n",
    "        output_text = item.get(\"output\", \"\").strip()\n",
    "\n",
    "        if instruction and input_text:\n",
    "            prompt = f\"{instruction}\\n{input_text}\"\n",
    "        else:\n",
    "            prompt = instruction or input_text\n",
    "\n",
    "        if prompt and output_text:\n",
    "            pairs.append([prompt, output_text])\n",
    "\n",
    "    return pairs\n",
    "\n",
    "\n",
    "\n"
   ]
  },
  {
   "cell_type": "code",
   "execution_count": 3,
   "metadata": {},
   "outputs": [
    {
     "name": "stdout",
     "output_type": "stream",
     "text": [
      "Extracted 68911 pairs\n",
      "['For a car, what scams can be plotted with 0% financing vs rebate?', \"The car deal makes money 3 ways. If you pay in one lump payment. If the payment is greater than what they paid for the car, plus their expenses, they make a profit. They loan you the money. You make payments over months or years, if the total amount you pay is greater than what they paid for the car, plus their expenses, plus their finance expenses they make money. Of course the money takes years to come in, or they sell your loan to another business to get the money faster but in a smaller amount. You trade in a car and they sell it at a profit. Of course that new transaction could be a lump sum or a loan on the used car... They or course make money if you bring the car back for maintenance, or you buy lots of expensive dealer options. Some dealers wave two deals in front of you: get a 0% interest loan. These tend to be shorter 12 months vs 36,48,60 or even 72 months. The shorter length makes it harder for many to afford. If you can't swing the 12 large payments they offer you at x% loan for y years that keeps the payments in your budget. pay cash and get a rebate. If you take the rebate you can't get the 0% loan. If you take the 0% loan you can't get the rebate. The price you negotiate minus the rebate is enough to make a profit. The key is not letting them know which offer you are interested in. Don't even mention a trade in until the price of the new car has been finalized. Otherwise they will adjust the price, rebate, interest rate, length of loan,  and trade-in value to maximize their profit. The suggestion of running the numbers through a spreadsheet is a good one. If you get a loan for 2% from your bank/credit union for 3 years and the rebate from the dealer, it will cost less in total than the 0% loan from the dealer. The key is to get the loan approved by the bank/credit union before meeting with the dealer. The money from the bank looks like cash to the dealer.\"]\n"
     ]
    }
   ],
   "source": [
    "json_path = \"/Users/abhishekdas/Desktop/Encoder_decoder/Cleaned_date.json\"  \n",
    "pairs = extract_instruction_pairs(json_path)\n",
    "\n",
    "print(f\"Extracted {len(pairs)} pairs\")\n",
    "print(pairs[0]) \n"
   ]
  },
  {
   "cell_type": "code",
   "execution_count": 4,
   "metadata": {},
   "outputs": [],
   "source": [
    "def save_pairs_to_tsv(pairs, save_path):\n",
    "    with open(save_path, 'w', encoding='utf-8', newline='') as f:\n",
    "        writer = csv.writer(f, delimiter='\\t')\n",
    "        for pair in pairs:\n",
    "            writer.writerow(pair)\n"
   ]
  },
  {
   "cell_type": "code",
   "execution_count": 7,
   "metadata": {},
   "outputs": [
    {
     "name": "stdout",
     "output_type": "stream",
     "text": [
      "OK!!!!Saved formatted pairs to formatted_pairs.txt\n"
     ]
    }
   ],
   "source": [
    "save_pairs_to_tsv(pairs, \"formatted_pairs_1.txt\")\n",
    "print(\"OK!!!!Saved formatted pairs to formatted_pairs.txt\")\n"
   ]
  },
  {
   "cell_type": "code",
   "execution_count": null,
   "metadata": {},
   "outputs": [],
   "source": []
  }
 ],
 "metadata": {
  "kernelspec": {
   "display_name": "base",
   "language": "python",
   "name": "python3"
  },
  "language_info": {
   "codemirror_mode": {
    "name": "ipython",
    "version": 3
   },
   "file_extension": ".py",
   "mimetype": "text/x-python",
   "name": "python",
   "nbconvert_exporter": "python",
   "pygments_lexer": "ipython3",
   "version": "3.12.4"
  }
 },
 "nbformat": 4,
 "nbformat_minor": 2
}
